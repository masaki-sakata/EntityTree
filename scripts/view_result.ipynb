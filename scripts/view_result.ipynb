{
 "cells": [
  {
   "cell_type": "code",
   "execution_count": 7,
   "id": "c89e67d7",
   "metadata": {},
   "outputs": [
    {
     "name": "stdout",
     "output_type": "stream",
     "text": [
      "Total evaluations loaded (before filters): 116\n",
      "Columns available: ['dataset', 'model', 'layer', 'template', 'n_entities', 'jrf_k1', 'jrf_k2', 'gold_internal_nodes', 'pred_internal_nodes', 'td_raw', 'td_norm', 'triplets_total', 'triplets_gold_resolved', 'triplets_pred_resolved', 'gtd', 'triplets_shared_resolved', 'qd_raw', 'qd_norm', 'gqd', 'quartets_total', 'quartets_gold_resolved', 'quartets_pred_resolved', 'caset_distance', 'caset_similarity', 'caset_pairs', 'cophenetic_corr', 'cophenetic_pairs', 'cophenetic_p']\n"
     ]
    },
    {
     "data": {
      "text/html": [
       "<div>\n",
       "<style scoped>\n",
       "    .dataframe tbody tr th:only-of-type {\n",
       "        vertical-align: middle;\n",
       "    }\n",
       "\n",
       "    .dataframe tbody tr th {\n",
       "        vertical-align: top;\n",
       "    }\n",
       "\n",
       "    .dataframe thead th {\n",
       "        text-align: right;\n",
       "    }\n",
       "</style>\n",
       "<table border=\"1\" class=\"dataframe\">\n",
       "  <thead>\n",
       "    <tr style=\"text-align: right;\">\n",
       "      <th></th>\n",
       "      <th>model</th>\n",
       "      <th>layer</th>\n",
       "      <th>template</th>\n",
       "      <th>jrf_k1(↓)</th>\n",
       "      <th>jrf_k2(↓)</th>\n",
       "      <th>Generalized Triplet Distance (↓)</th>\n",
       "      <th>Generalized Quartet Distance (↓)</th>\n",
       "      <th>cophenetic corr (↑)</th>\n",
       "    </tr>\n",
       "  </thead>\n",
       "  <tbody>\n",
       "    <tr>\n",
       "      <th>2</th>\n",
       "      <td>random_emb (dim=4096)</td>\n",
       "      <td>0</td>\n",
       "      <td>entity_only</td>\n",
       "      <td>91.14</td>\n",
       "      <td>93.30</td>\n",
       "      <td>0.67</td>\n",
       "      <td>0.68</td>\n",
       "      <td>-0.01</td>\n",
       "    </tr>\n",
       "    <tr>\n",
       "      <th>0</th>\n",
       "      <td>fasttext</td>\n",
       "      <td>0</td>\n",
       "      <td>entity_only</td>\n",
       "      <td>90.88</td>\n",
       "      <td>93.18</td>\n",
       "      <td>0.65</td>\n",
       "      <td>0.66</td>\n",
       "      <td>0.01</td>\n",
       "    </tr>\n",
       "    <tr>\n",
       "      <th>3</th>\n",
       "      <td>gpt2</td>\n",
       "      <td>8</td>\n",
       "      <td>entity_only</td>\n",
       "      <td>88.84</td>\n",
       "      <td>91.58</td>\n",
       "      <td>0.56</td>\n",
       "      <td>0.53</td>\n",
       "      <td>0.05</td>\n",
       "    </tr>\n",
       "    <tr>\n",
       "      <th>4</th>\n",
       "      <td>meta-llama/Meta-Llama-3-8B</td>\n",
       "      <td>10</td>\n",
       "      <td>entity_only</td>\n",
       "      <td>86.77</td>\n",
       "      <td>88.93</td>\n",
       "      <td>0.42</td>\n",
       "      <td>0.30</td>\n",
       "      <td>0.19</td>\n",
       "    </tr>\n",
       "    <tr>\n",
       "      <th>1</th>\n",
       "      <td>Reference (Gold binary-balanced)</td>\n",
       "      <td>0</td>\n",
       "      <td>entity_only</td>\n",
       "      <td>82.00</td>\n",
       "      <td>82.00</td>\n",
       "      <td>0.00</td>\n",
       "      <td>0.00</td>\n",
       "      <td>0.79</td>\n",
       "    </tr>\n",
       "  </tbody>\n",
       "</table>\n",
       "</div>"
      ],
      "text/plain": [
       "                              model  layer     template  jrf_k1(↓)  jrf_k2(↓)  \\\n",
       "2             random_emb (dim=4096)      0  entity_only      91.14      93.30   \n",
       "0                          fasttext      0  entity_only      90.88      93.18   \n",
       "3                              gpt2      8  entity_only      88.84      91.58   \n",
       "4        meta-llama/Meta-Llama-3-8B     10  entity_only      86.77      88.93   \n",
       "1  Reference (Gold binary-balanced)      0  entity_only      82.00      82.00   \n",
       "\n",
       "   Generalized Triplet Distance (↓)  Generalized Quartet Distance (↓)  \\\n",
       "2                              0.67                              0.68   \n",
       "0                              0.65                              0.66   \n",
       "3                              0.56                              0.53   \n",
       "4                              0.42                              0.30   \n",
       "1                              0.00                              0.00   \n",
       "\n",
       "   cophenetic corr (↑)  \n",
       "2                -0.01  \n",
       "0                 0.01  \n",
       "3                 0.05  \n",
       "4                 0.19  \n",
       "1                 0.79  "
      ]
     },
     "metadata": {},
     "output_type": "display_data"
    }
   ],
   "source": [
    "import re\n",
    "import json\n",
    "import pandas as pd\n",
    "from pathlib import Path\n",
    "from IPython.display import display\n",
    "\n",
    "# ===== ユーザー設定 =====\n",
    "BASE_PATH = \"/home/masaki/hierarchical-repr/EntityTree/output/eval_tree\"\n",
    "TEMPLATE_FILTER = \"entity_only\"\n",
    "\n",
    "# 指標（存在すれば使う）\n",
    "MINIMIZE_COLS = [\"jrf_k1\", \"gtd\", \"gqd\"]     # 小さいほど良い\n",
    "MAXIMIZE_COLS = [\"cophenetic_corr\"]          # 大きいほど良い\n",
    "PRIMARY_FALLBACK = [\"jrf_k2\", \"jrf_k1\"]      # フォールバック優先度\n",
    "\n",
    "# ===== 表示設定 =====\n",
    "pd.set_option(\"display.max_rows\", None)\n",
    "pd.set_option(\"display.max_columns\", None)\n",
    "pd.set_option(\"display.width\", None)\n",
    "pd.set_option(\"display.max_colwidth\", None)\n",
    "\n",
    "# ===== 便利関数 =====\n",
    "def infer_model_from_path(parts):\n",
    "    p = \"/\".join(parts)\n",
    "    if \"meta-llama\" in parts and \"Meta-Llama-3-8B\" in parts:\n",
    "        return \"meta-llama/Meta-Llama-3-8B\"\n",
    "    m = re.search(r\"(gpt2[\\w-]*)\", p)\n",
    "    if m:\n",
    "        return m.group(1)\n",
    "    if \"random_emb\" in parts:\n",
    "        return \"random_emb\"\n",
    "    if \"fasttext\" in parts:\n",
    "        return \"fasttext\"\n",
    "    if \"gold_binary_balanced\" in parts:\n",
    "        return \"gold_binary_balanced\"\n",
    "    return None\n",
    "\n",
    "def model_family(model):\n",
    "    if not isinstance(model, str):\n",
    "        return \"other\"\n",
    "    if model.startswith(\"random_emb\"):\n",
    "        return \"random_emb\"\n",
    "    if model.startswith(\"fasttext\"):\n",
    "        return \"fasttext\"\n",
    "    if model.startswith(\"gpt2\"):\n",
    "        return \"gpt2\"\n",
    "    if \"Meta-Llama-3-8B\" in model:\n",
    "        return \"llama3-8b\"\n",
    "    if model.startswith(\"meta-llama\"):\n",
    "        return \"llama\"\n",
    "    if model.startswith(\"gold_binary_balanced\"):\n",
    "        return \"gold_binary_balanced\"\n",
    "    return \"other\"\n",
    "\n",
    "FAMILY_ORDER = {\n",
    "    \"random_emb\": 0,\n",
    "    \"fasttext\": 1,\n",
    "    \"gpt2\": 2,\n",
    "    \"llama3-8b\": 3,\n",
    "    \"llama\": 3,\n",
    "    \"gold_binary_balanced\": 4,\n",
    "    \"other\": 9,\n",
    "}\n",
    "\n",
    "L0_MODELS = {\"random_emb\", \"fasttext\", \"gold_binary_balanced\"}\n",
    "\n",
    "def should_include(path_obj: Path, model):\n",
    "    \"\"\"\n",
    "    読み込み対象判定：\n",
    "    - random_emb / fasttext / gold_binary_balanced: evaluation_results_L0.json のみ\n",
    "    - Llama-3-8B: BASE_PATH/meta-llama/Meta-Llama-3-8B/template_entity_only/layer_all/evaluation_results_L*.json のみ\n",
    "    - gpt2: evaluation_results_L*.json\n",
    "    - その他: evaluation_results.json\n",
    "    \"\"\"\n",
    "    name = path_obj.name\n",
    "    parts = path_obj.parts  # ルートからのparts（BASE下でのrelativeで後で扱う）\n",
    "    if model in L0_MODELS:\n",
    "        return name == \"evaluation_results_L0.json\"\n",
    "\n",
    "    # 厳密に Llama-3-8B の所定パスのみ\n",
    "    if (model and \"Meta-Llama-3-8B\" in model) or (\"meta-llama\" in parts and \"Meta-Llama-3-8B\" in parts):\n",
    "        return (\n",
    "            \"meta-llama\" in parts and\n",
    "            \"Meta-Llama-3-8B\" in parts and\n",
    "            \"template_entity_only\" in parts and\n",
    "            \"layer_all\" in parts and\n",
    "            re.fullmatch(r\"evaluation_results_L\\d+\\.json\", name) is not None\n",
    "        )\n",
    "\n",
    "    if model and model.startswith(\"gpt2\"):\n",
    "        return re.fullmatch(r\"evaluation_results_L\\d+\\.json\", name) is not None\n",
    "\n",
    "    return name == \"evaluation_results.json\"\n",
    "\n",
    "def layer_from_filename(path: Path, existing):\n",
    "    if existing is not None:\n",
    "        return existing\n",
    "    m = re.search(r\"_L(\\d+)\\.json$\", path.name)\n",
    "    if m:\n",
    "        return int(m.group(1))\n",
    "    return None\n",
    "\n",
    "def load_all_evaluation_results(base_path):\n",
    "    base = Path(base_path)\n",
    "    # まとめて拾ってからフィルタ\n",
    "    candidates = list(base.rglob(\"evaluation_results.json\")) + list(base.rglob(\"evaluation_results_L*.json\"))\n",
    "\n",
    "    rows = []\n",
    "    for jf in candidates:\n",
    "        try:\n",
    "            rel = jf.relative_to(base)\n",
    "            parts = rel.parts[:-1]\n",
    "            with open(jf, \"r\") as f:\n",
    "                data = json.load(f)\n",
    "\n",
    "            model = data.get(\"model\") or infer_model_from_path(parts)\n",
    "\n",
    "            # モデル規則に合うもののみ採用\n",
    "            if not should_include(rel, model):\n",
    "                continue\n",
    "\n",
    "            # template：JSONに無ければパスから復元（例：template_entity_only -> entity_only）\n",
    "            if \"template\" not in data:\n",
    "                for p in parts:\n",
    "                    if p.startswith(\"template_\"):\n",
    "                        data[\"template\"] = p.replace(\"template_\", \"\", 1)\n",
    "                        break\n",
    "\n",
    "            # layer：JSONに無ければファイル名から復元\n",
    "            data[\"layer\"] = layer_from_filename(rel, data.get(\"layer\"))\n",
    "            data[\"model\"] = model  # 念のため上書き\n",
    "\n",
    "            # gtd/gqd/cophenetic_corr などは元のまま\n",
    "            rows.append(data)\n",
    "\n",
    "        except Exception as e:\n",
    "            print(f\"Error loading {jf}: {e}\")\n",
    "            continue\n",
    "\n",
    "    df = pd.DataFrame(rows)\n",
    "    sort_keys = [c for c in [\"model\", \"layer\"] if c in df.columns]\n",
    "    if sort_keys:\n",
    "        df = df.sort_values(sort_keys, kind=\"mergesort\")\n",
    "    return df\n",
    "\n",
    "def to_numeric_inplace(df, cols):\n",
    "    for c in cols:\n",
    "        if c in df.columns:\n",
    "            df[c] = pd.to_numeric(df[c], errors=\"coerce\")\n",
    "\n",
    "def keep_single_random_emb(df, metric_cols_priority):\n",
    "    mask = df[\"model\"].astype(str).str.startswith(\"random_emb\", na=False)\n",
    "    if not mask.any():\n",
    "        return df\n",
    "    best_idx = None\n",
    "    for mc in metric_cols_priority:\n",
    "        if mc in df.columns and df.loc[mask, mc].notna().any():\n",
    "            best_idx = df.loc[mask, mc].idxmin()\n",
    "            break\n",
    "    if best_idx is None:\n",
    "        best_idx = df[mask].index[0]\n",
    "    keep = df.loc[[best_idx]]\n",
    "    return pd.concat([df[~mask], keep], ignore_index=True)\n",
    "\n",
    "def best_layer_by_rank_sum(df, selectors, minimize_cols, maximize_cols, fallback_cols):\n",
    "    target_mask = selectors[0].copy()\n",
    "    for m in selectors[1:]:\n",
    "        target_mask |= m\n",
    "    if not target_mask.any():\n",
    "        return df\n",
    "\n",
    "    sub = df.loc[target_mask].copy()\n",
    "    to_numeric_inplace(sub, list(set(minimize_cols + maximize_cols + fallback_cols)))\n",
    "\n",
    "    keep_indices = []\n",
    "    for model_name, g in sub.groupby(\"model\", dropna=False):\n",
    "        ranks = []\n",
    "        for c in minimize_cols:\n",
    "            if c in g.columns and g[c].notna().any():\n",
    "                ranks.append(g[c].rank(method=\"min\", ascending=True))\n",
    "        for c in maximize_cols:\n",
    "            if c in g.columns and g[c].notna().any():\n",
    "                ranks.append(g[c].rank(method=\"min\", ascending=False))\n",
    "\n",
    "        if ranks:\n",
    "            total_rank = pd.concat(ranks, axis=1).sum(axis=1)\n",
    "            keep_idx = total_rank.idxmin()\n",
    "        else:\n",
    "            keep_idx = None\n",
    "            for fc in fallback_cols:\n",
    "                if fc in g.columns and g[fc].notna().any():\n",
    "                    keep_idx = g[fc].idxmin()\n",
    "                    break\n",
    "            if keep_idx is None:\n",
    "                keep_idx = g.index[0]\n",
    "\n",
    "        keep_indices.append(keep_idx)\n",
    "\n",
    "    return pd.concat([df[~target_mask], df.loc[keep_indices]], ignore_index=True)\n",
    "\n",
    "# ===== メイン処理 =====\n",
    "df_all = load_all_evaluation_results(BASE_PATH)\n",
    "print(f\"Total evaluations loaded (before filters): {len(df_all)}\")\n",
    "print(\"Columns available:\", list(df_all.columns))\n",
    "\n",
    "# 表示用の列（full_pathは含めない）\n",
    "display_cols = [\n",
    "    \"model\", \"layer\", \"template\",\n",
    "    \"jrf_k1\", \"jrf_k2\",\n",
    "    \"gtd\", \"gqd\", \"cophenetic_corr\",\n",
    "]\n",
    "display_cols = [c for c in display_cols if c in df_all.columns]\n",
    "df = df_all[display_cols].copy()\n",
    "\n",
    "# template 絞り（パス復元を反映）\n",
    "if \"template\" in df.columns:\n",
    "    df = df[df[\"template\"] == TEMPLATE_FILTER].copy()\n",
    "\n",
    "# 数値化\n",
    "to_numeric_inplace(df, [\"jrf_k1\", \"jrf_k2\", \"gtd\", \"gqd\", \"cophenetic_corr\"])\n",
    "\n",
    "# 除外\n",
    "exclude_models = {\"gold_binary\", \"gold_binary_left\"}\n",
    "df = df[~df[\"model\"].isin(exclude_models)].copy()\n",
    "\n",
    "# random_emb を1つに圧縮\n",
    "df = keep_single_random_emb(df, metric_cols_priority=PRIMARY_FALLBACK + [\"jrf_k1\"])\n",
    "\n",
    "# ファミリー付与＆並び\n",
    "df[\"family\"] = df[\"model\"].apply(model_family)\n",
    "df[\"family_order\"] = df[\"family\"].map(FAMILY_ORDER).fillna(9).astype(int)\n",
    "\n",
    "# ===== LM（gpt2 / Llama-3-8B）をベストレイヤーだけに =====\n",
    "sel_gpt2 = df[\"model\"].astype(str).str.startswith(\"gpt2\", na=False)\n",
    "sel_llama8b = df[\"model\"].astype(str).str.contains(\"Meta-Llama-3-8B\", na=False)\n",
    "df = best_layer_by_rank_sum(\n",
    "    df,\n",
    "    selectors=[sel_gpt2, sel_llama8b],\n",
    "    minimize_cols=MINIMIZE_COLS,\n",
    "    maximize_cols=MAXIMIZE_COLS,\n",
    "    fallback_cols=PRIMARY_FALLBACK\n",
    ")\n",
    "\n",
    "# 小数第2位に丸め（表示用）\n",
    "num_cols = [c for c in [\"jrf_k1\",\"jrf_k2\",\"gtd\",\"gqd\",\"cophenetic_corr\"] if c in df.columns]\n",
    "df[num_cols] = df[num_cols].round(2)\n",
    "\n",
    "# 列名のリネーム（矢印含む）\n",
    "rename_cols = {}\n",
    "if \"jrf_k1\" in df.columns: rename_cols[\"jrf_k1\"] = \"jrf_k1(↓)\"\n",
    "if \"jrf_k2\" in df.columns: rename_cols[\"jrf_k2\"] = \"jrf_k2(↓)\"\n",
    "if \"gtd\" in df.columns: rename_cols[\"gtd\"] = \"Generalized Triplet Distance (↓)\"\n",
    "if \"gqd\" in df.columns: rename_cols[\"gqd\"] = \"Generalized Quartet Distance (↓)\"\n",
    "if \"cophenetic_corr\" in df.columns: rename_cols[\"cophenetic_corr\"] = \"cophenetic corr (↑)\"\n",
    "df = df.rename(columns=rename_cols)\n",
    "\n",
    "# 表示名置換\n",
    "df[\"model\"] = df[\"model\"].replace({\n",
    "    \"gold_binary_balanced\": \"Reference (Gold binary-balanced)\",\n",
    "    \"random_emb\": \"random_emb (dim=4096)\",\n",
    "})\n",
    "\n",
    "# 最終並び替えと表示（full_pathは含めない）\n",
    "sort_keys = [\"family_order\"]\n",
    "if \"layer\" in df.columns:\n",
    "    sort_keys += [\"layer\"]\n",
    "sort_keys += [\"model\"]\n",
    "df = df.sort_values(sort_keys, kind=\"mergesort\").drop(columns=[\"family_order\", \"family\"], errors=\"ignore\")\n",
    "\n",
    "display(df)\n"
   ]
  },
  {
   "cell_type": "code",
   "execution_count": null,
   "id": "93d8dbf7",
   "metadata": {},
   "outputs": [
    {
     "data": {
      "application/vnd.plotly.v1+json": {
       "config": {
        "plotlyServerURL": "https://plot.ly"
       },
       "data": [
        {
         "hovertemplate": "Layer(norm)=%{x:.2f}<br>JRF(k=1)=%{y:.2f}<extra>gpt2</extra>",
         "line": {
          "color": "#d62728"
         },
         "marker": {
          "color": "#d62728"
         },
         "mode": "lines+markers",
         "name": "gpt2",
         "type": "scatter",
         "x": {
          "bdata": "AAAAAAAAAABVVVVVVVW1P1VVVVVVVcU/AAAAAAAA0D9VVVVVVVXVP6uqqqqqqto/AAAAAAAA4D8AAAAAAADgP6uqqqqqquI/VVVVVVVV5T8AAAAAAADoP6uqqqqqquo/VVVVVVVV7T8AAAAAAADwPw==",
          "dtype": "f8"
         },
         "y": {
          "bdata": "Hho2OeSBVkCPs/yOs5xWQAnLPY2wnFZAOY7jOI6TVkCwObKAf3lWQHMpl3Iph1ZA5ifEWflRVkDmJ8RZ+VFWQGG14UlYVVZA9vX19fU1VkAyncV0FkNWQDMzMzMzQ1ZANUiDNEhzVkD2CjvfraZWQA==",
          "dtype": "f8"
         }
        },
        {
         "hovertemplate": "Layer(norm)=%{x:.2f}<br>JRF(k=1)=%{y:.2f}<extra>Llama-3-8B</extra>",
         "line": {
          "color": "#1f77b4"
         },
         "marker": {
          "color": "#1f77b4"
         },
         "mode": "lines+markers",
         "name": "Llama-3-8B",
         "type": "scatter",
         "x": {
          "bdata": "AAAAAAAAAAAAAAAAAACgPwAAAAAAALA/AAAAAAAAuD8AAAAAAADAPwAAAAAAAMQ/AAAAAAAAyD8AAAAAAADMPwAAAAAAANA/AAAAAAAA0j8AAAAAAADUPwAAAAAAANY/AAAAAAAA2D8AAAAAAADaPwAAAAAAANw/AAAAAAAA3j8AAAAAAADgPwAAAAAAAOE/AAAAAAAA4j8AAAAAAADjPwAAAAAAAOQ/AAAAAAAA5T8AAAAAAADmPwAAAAAAAOc/AAAAAAAA6D8AAAAAAADpPwAAAAAAAOo/AAAAAAAA6z8AAAAAAADsPwAAAAAAAO0/AAAAAAAA7j8AAAAAAADvPwAAAAAAAPA/",
          "dtype": "f8"
         },
         "y": {
          "bdata": "LVekC9OjVkAGCKB1kbJWQPCOmBc+mlZArKewnsKaVkDI1MDeMVVWQL4cYNnmG1ZAXL7lW771VUCtxEqsxNpVQEqSJEmS9FVA5DiO4zjeVUAZhmEYhrFVQGdmZmZm5lVAtmALtmDLVUDbrM3arP1VQMMwDMMwzFVAyYu8yIv8VUAl8c51TyJWQIp5O0Ni/lVAMW9nSMwzVkCjiy666BJWQFDrVwrUGlZAuPZ4dH3bVUBtsskmmwxWQALIPFMm8FVAXL7lW771VUDajYCUdvNVQM/zPM/z/FVAz/M8z/PsVUDP8zzP8+xVQM/zPM/z7FVAz/M8z/PsVUDP8zzP8+xVQDmO4ziO41VA",
          "dtype": "f8"
         }
        },
        {
         "hovertemplate": "Layer(norm)=%{x:.2f}<br>JRF(k=1)=%{y:.2f}<extra>random_emb (dim=4096)</extra>",
         "line": {
          "color": "#555555",
          "dash": "dot",
          "width": 3.5
         },
         "mode": "lines",
         "name": "random_emb (dim=4096)",
         "type": "scatter",
         "x": [
          0,
          1
         ],
         "y": [
          91.13704545454544,
          91.13704545454544
         ]
        },
        {
         "hovertemplate": "Layer(norm)=%{x:.2f}<br>JRF(k=1)=%{y:.2f}<extra>fasttext</extra>",
         "line": {
          "color": "#ff7f0e",
          "dash": "dot",
          "width": 3.5
         },
         "mode": "lines",
         "name": "fasttext",
         "type": "scatter",
         "x": [
          0,
          1
         ],
         "y": [
          90.88297682709447,
          90.88297682709447
         ]
        },
        {
         "hovertemplate": "Layer(norm)=%{x:.2f}<br>JRF(k=1)=%{y:.2f}<extra>Reference (Gold binary-balanced)</extra>",
         "line": {
          "color": "#2ca02c",
          "dash": "dot",
          "width": 3.5
         },
         "mode": "lines",
         "name": "Reference (Gold binary-balanced)",
         "type": "scatter",
         "x": [
          0,
          1
         ],
         "y": [
          82,
          82
         ]
        }
       ],
       "layout": {
        "legend": {
         "title": {
          "text": "Model / Dotted refs"
         }
        },
        "template": {
         "data": {
          "bar": [
           {
            "error_x": {
             "color": "#2a3f5f"
            },
            "error_y": {
             "color": "#2a3f5f"
            },
            "marker": {
             "line": {
              "color": "#E5ECF6",
              "width": 0.5
             },
             "pattern": {
              "fillmode": "overlay",
              "size": 10,
              "solidity": 0.2
             }
            },
            "type": "bar"
           }
          ],
          "barpolar": [
           {
            "marker": {
             "line": {
              "color": "#E5ECF6",
              "width": 0.5
             },
             "pattern": {
              "fillmode": "overlay",
              "size": 10,
              "solidity": 0.2
             }
            },
            "type": "barpolar"
           }
          ],
          "carpet": [
           {
            "aaxis": {
             "endlinecolor": "#2a3f5f",
             "gridcolor": "white",
             "linecolor": "white",
             "minorgridcolor": "white",
             "startlinecolor": "#2a3f5f"
            },
            "baxis": {
             "endlinecolor": "#2a3f5f",
             "gridcolor": "white",
             "linecolor": "white",
             "minorgridcolor": "white",
             "startlinecolor": "#2a3f5f"
            },
            "type": "carpet"
           }
          ],
          "choropleth": [
           {
            "colorbar": {
             "outlinewidth": 0,
             "ticks": ""
            },
            "type": "choropleth"
           }
          ],
          "contour": [
           {
            "colorbar": {
             "outlinewidth": 0,
             "ticks": ""
            },
            "colorscale": [
             [
              0,
              "#0d0887"
             ],
             [
              0.1111111111111111,
              "#46039f"
             ],
             [
              0.2222222222222222,
              "#7201a8"
             ],
             [
              0.3333333333333333,
              "#9c179e"
             ],
             [
              0.4444444444444444,
              "#bd3786"
             ],
             [
              0.5555555555555556,
              "#d8576b"
             ],
             [
              0.6666666666666666,
              "#ed7953"
             ],
             [
              0.7777777777777778,
              "#fb9f3a"
             ],
             [
              0.8888888888888888,
              "#fdca26"
             ],
             [
              1,
              "#f0f921"
             ]
            ],
            "type": "contour"
           }
          ],
          "contourcarpet": [
           {
            "colorbar": {
             "outlinewidth": 0,
             "ticks": ""
            },
            "type": "contourcarpet"
           }
          ],
          "heatmap": [
           {
            "colorbar": {
             "outlinewidth": 0,
             "ticks": ""
            },
            "colorscale": [
             [
              0,
              "#0d0887"
             ],
             [
              0.1111111111111111,
              "#46039f"
             ],
             [
              0.2222222222222222,
              "#7201a8"
             ],
             [
              0.3333333333333333,
              "#9c179e"
             ],
             [
              0.4444444444444444,
              "#bd3786"
             ],
             [
              0.5555555555555556,
              "#d8576b"
             ],
             [
              0.6666666666666666,
              "#ed7953"
             ],
             [
              0.7777777777777778,
              "#fb9f3a"
             ],
             [
              0.8888888888888888,
              "#fdca26"
             ],
             [
              1,
              "#f0f921"
             ]
            ],
            "type": "heatmap"
           }
          ],
          "histogram": [
           {
            "marker": {
             "pattern": {
              "fillmode": "overlay",
              "size": 10,
              "solidity": 0.2
             }
            },
            "type": "histogram"
           }
          ],
          "histogram2d": [
           {
            "colorbar": {
             "outlinewidth": 0,
             "ticks": ""
            },
            "colorscale": [
             [
              0,
              "#0d0887"
             ],
             [
              0.1111111111111111,
              "#46039f"
             ],
             [
              0.2222222222222222,
              "#7201a8"
             ],
             [
              0.3333333333333333,
              "#9c179e"
             ],
             [
              0.4444444444444444,
              "#bd3786"
             ],
             [
              0.5555555555555556,
              "#d8576b"
             ],
             [
              0.6666666666666666,
              "#ed7953"
             ],
             [
              0.7777777777777778,
              "#fb9f3a"
             ],
             [
              0.8888888888888888,
              "#fdca26"
             ],
             [
              1,
              "#f0f921"
             ]
            ],
            "type": "histogram2d"
           }
          ],
          "histogram2dcontour": [
           {
            "colorbar": {
             "outlinewidth": 0,
             "ticks": ""
            },
            "colorscale": [
             [
              0,
              "#0d0887"
             ],
             [
              0.1111111111111111,
              "#46039f"
             ],
             [
              0.2222222222222222,
              "#7201a8"
             ],
             [
              0.3333333333333333,
              "#9c179e"
             ],
             [
              0.4444444444444444,
              "#bd3786"
             ],
             [
              0.5555555555555556,
              "#d8576b"
             ],
             [
              0.6666666666666666,
              "#ed7953"
             ],
             [
              0.7777777777777778,
              "#fb9f3a"
             ],
             [
              0.8888888888888888,
              "#fdca26"
             ],
             [
              1,
              "#f0f921"
             ]
            ],
            "type": "histogram2dcontour"
           }
          ],
          "mesh3d": [
           {
            "colorbar": {
             "outlinewidth": 0,
             "ticks": ""
            },
            "type": "mesh3d"
           }
          ],
          "parcoords": [
           {
            "line": {
             "colorbar": {
              "outlinewidth": 0,
              "ticks": ""
             }
            },
            "type": "parcoords"
           }
          ],
          "pie": [
           {
            "automargin": true,
            "type": "pie"
           }
          ],
          "scatter": [
           {
            "fillpattern": {
             "fillmode": "overlay",
             "size": 10,
             "solidity": 0.2
            },
            "type": "scatter"
           }
          ],
          "scatter3d": [
           {
            "line": {
             "colorbar": {
              "outlinewidth": 0,
              "ticks": ""
             }
            },
            "marker": {
             "colorbar": {
              "outlinewidth": 0,
              "ticks": ""
             }
            },
            "type": "scatter3d"
           }
          ],
          "scattercarpet": [
           {
            "marker": {
             "colorbar": {
              "outlinewidth": 0,
              "ticks": ""
             }
            },
            "type": "scattercarpet"
           }
          ],
          "scattergeo": [
           {
            "marker": {
             "colorbar": {
              "outlinewidth": 0,
              "ticks": ""
             }
            },
            "type": "scattergeo"
           }
          ],
          "scattergl": [
           {
            "marker": {
             "colorbar": {
              "outlinewidth": 0,
              "ticks": ""
             }
            },
            "type": "scattergl"
           }
          ],
          "scattermap": [
           {
            "marker": {
             "colorbar": {
              "outlinewidth": 0,
              "ticks": ""
             }
            },
            "type": "scattermap"
           }
          ],
          "scattermapbox": [
           {
            "marker": {
             "colorbar": {
              "outlinewidth": 0,
              "ticks": ""
             }
            },
            "type": "scattermapbox"
           }
          ],
          "scatterpolar": [
           {
            "marker": {
             "colorbar": {
              "outlinewidth": 0,
              "ticks": ""
             }
            },
            "type": "scatterpolar"
           }
          ],
          "scatterpolargl": [
           {
            "marker": {
             "colorbar": {
              "outlinewidth": 0,
              "ticks": ""
             }
            },
            "type": "scatterpolargl"
           }
          ],
          "scatterternary": [
           {
            "marker": {
             "colorbar": {
              "outlinewidth": 0,
              "ticks": ""
             }
            },
            "type": "scatterternary"
           }
          ],
          "surface": [
           {
            "colorbar": {
             "outlinewidth": 0,
             "ticks": ""
            },
            "colorscale": [
             [
              0,
              "#0d0887"
             ],
             [
              0.1111111111111111,
              "#46039f"
             ],
             [
              0.2222222222222222,
              "#7201a8"
             ],
             [
              0.3333333333333333,
              "#9c179e"
             ],
             [
              0.4444444444444444,
              "#bd3786"
             ],
             [
              0.5555555555555556,
              "#d8576b"
             ],
             [
              0.6666666666666666,
              "#ed7953"
             ],
             [
              0.7777777777777778,
              "#fb9f3a"
             ],
             [
              0.8888888888888888,
              "#fdca26"
             ],
             [
              1,
              "#f0f921"
             ]
            ],
            "type": "surface"
           }
          ],
          "table": [
           {
            "cells": {
             "fill": {
              "color": "#EBF0F8"
             },
             "line": {
              "color": "white"
             }
            },
            "header": {
             "fill": {
              "color": "#C8D4E3"
             },
             "line": {
              "color": "white"
             }
            },
            "type": "table"
           }
          ]
         },
         "layout": {
          "annotationdefaults": {
           "arrowcolor": "#2a3f5f",
           "arrowhead": 0,
           "arrowwidth": 1
          },
          "autotypenumbers": "strict",
          "coloraxis": {
           "colorbar": {
            "outlinewidth": 0,
            "ticks": ""
           }
          },
          "colorscale": {
           "diverging": [
            [
             0,
             "#8e0152"
            ],
            [
             0.1,
             "#c51b7d"
            ],
            [
             0.2,
             "#de77ae"
            ],
            [
             0.3,
             "#f1b6da"
            ],
            [
             0.4,
             "#fde0ef"
            ],
            [
             0.5,
             "#f7f7f7"
            ],
            [
             0.6,
             "#e6f5d0"
            ],
            [
             0.7,
             "#b8e186"
            ],
            [
             0.8,
             "#7fbc41"
            ],
            [
             0.9,
             "#4d9221"
            ],
            [
             1,
             "#276419"
            ]
           ],
           "sequential": [
            [
             0,
             "#0d0887"
            ],
            [
             0.1111111111111111,
             "#46039f"
            ],
            [
             0.2222222222222222,
             "#7201a8"
            ],
            [
             0.3333333333333333,
             "#9c179e"
            ],
            [
             0.4444444444444444,
             "#bd3786"
            ],
            [
             0.5555555555555556,
             "#d8576b"
            ],
            [
             0.6666666666666666,
             "#ed7953"
            ],
            [
             0.7777777777777778,
             "#fb9f3a"
            ],
            [
             0.8888888888888888,
             "#fdca26"
            ],
            [
             1,
             "#f0f921"
            ]
           ],
           "sequentialminus": [
            [
             0,
             "#0d0887"
            ],
            [
             0.1111111111111111,
             "#46039f"
            ],
            [
             0.2222222222222222,
             "#7201a8"
            ],
            [
             0.3333333333333333,
             "#9c179e"
            ],
            [
             0.4444444444444444,
             "#bd3786"
            ],
            [
             0.5555555555555556,
             "#d8576b"
            ],
            [
             0.6666666666666666,
             "#ed7953"
            ],
            [
             0.7777777777777778,
             "#fb9f3a"
            ],
            [
             0.8888888888888888,
             "#fdca26"
            ],
            [
             1,
             "#f0f921"
            ]
           ]
          },
          "colorway": [
           "#636efa",
           "#EF553B",
           "#00cc96",
           "#ab63fa",
           "#FFA15A",
           "#19d3f3",
           "#FF6692",
           "#B6E880",
           "#FF97FF",
           "#FECB52"
          ],
          "font": {
           "color": "#2a3f5f"
          },
          "geo": {
           "bgcolor": "white",
           "lakecolor": "white",
           "landcolor": "#E5ECF6",
           "showlakes": true,
           "showland": true,
           "subunitcolor": "white"
          },
          "hoverlabel": {
           "align": "left"
          },
          "hovermode": "closest",
          "mapbox": {
           "style": "light"
          },
          "paper_bgcolor": "white",
          "plot_bgcolor": "#E5ECF6",
          "polar": {
           "angularaxis": {
            "gridcolor": "white",
            "linecolor": "white",
            "ticks": ""
           },
           "bgcolor": "#E5ECF6",
           "radialaxis": {
            "gridcolor": "white",
            "linecolor": "white",
            "ticks": ""
           }
          },
          "scene": {
           "xaxis": {
            "backgroundcolor": "#E5ECF6",
            "gridcolor": "white",
            "gridwidth": 2,
            "linecolor": "white",
            "showbackground": true,
            "ticks": "",
            "zerolinecolor": "white"
           },
           "yaxis": {
            "backgroundcolor": "#E5ECF6",
            "gridcolor": "white",
            "gridwidth": 2,
            "linecolor": "white",
            "showbackground": true,
            "ticks": "",
            "zerolinecolor": "white"
           },
           "zaxis": {
            "backgroundcolor": "#E5ECF6",
            "gridcolor": "white",
            "gridwidth": 2,
            "linecolor": "white",
            "showbackground": true,
            "ticks": "",
            "zerolinecolor": "white"
           }
          },
          "shapedefaults": {
           "line": {
            "color": "#2a3f5f"
           }
          },
          "ternary": {
           "aaxis": {
            "gridcolor": "white",
            "linecolor": "white",
            "ticks": ""
           },
           "baxis": {
            "gridcolor": "white",
            "linecolor": "white",
            "ticks": ""
           },
           "bgcolor": "#E5ECF6",
           "caxis": {
            "gridcolor": "white",
            "linecolor": "white",
            "ticks": ""
           }
          },
          "title": {
           "x": 0.05
          },
          "xaxis": {
           "automargin": true,
           "gridcolor": "white",
           "linecolor": "white",
           "ticks": "",
           "title": {
            "standoff": 15
           },
           "zerolinecolor": "white",
           "zerolinewidth": 2
          },
          "yaxis": {
           "automargin": true,
           "gridcolor": "white",
           "linecolor": "white",
           "ticks": "",
           "title": {
            "standoff": 15
           },
           "zerolinecolor": "white",
           "zerolinewidth": 2
          }
         }
        },
        "title": {
         "text": "JRF(k=1) across normalized layers (↓)"
        },
        "xaxis": {
         "range": [
          0,
          1
         ],
         "title": {
          "text": "Normalized layer (0 → 1)"
         }
        },
        "yaxis": {
         "title": {
          "text": "JRF(k=1)"
         }
        }
       }
      }
     },
     "metadata": {},
     "output_type": "display_data"
    },
    {
     "data": {
      "application/vnd.plotly.v1+json": {
       "config": {
        "plotlyServerURL": "https://plot.ly"
       },
       "data": [
        {
         "hovertemplate": "Layer(norm)=%{x:.2f}<br>Generalized Triplet Distance=%{y:.2f}<extra>gpt2</extra>",
         "line": {
          "color": "#d62728"
         },
         "marker": {
          "color": "#d62728"
         },
         "mode": "lines+markers",
         "name": "gpt2",
         "type": "scatter",
         "x": {
          "bdata": "AAAAAAAAAABVVVVVVVW1P1VVVVVVVcU/AAAAAAAA0D9VVVVVVVXVP6uqqqqqqto/AAAAAAAA4D+rqqqqqqriP1VVVVVVVeU/AAAAAAAA6D+rqqqqqqrqP1VVVVVVVe0/AAAAAAAA8D8=",
          "dtype": "f8"
         },
         "y": {
          "bdata": "un1y5PKE4z86iWsGCIrkPyKq1ElcM+Q/ypHLE+7+4z+o5/bJkcvjPyLrZT8P0+M/1DJq7xVG4j/YTaEJDM/iPzD7eZg+zuE/5IdUFMRf4j/ntTicGHTiP1uHfrN16OM/HjtfzFR/5D8=",
          "dtype": "f8"
         }
        },
        {
         "hovertemplate": "Layer(norm)=%{x:.2f}<br>Generalized Triplet Distance=%{y:.2f}<extra>Llama-3-8B</extra>",
         "line": {
          "color": "#1f77b4"
         },
         "marker": {
          "color": "#1f77b4"
         },
         "mode": "lines+markers",
         "name": "Llama-3-8B",
         "type": "scatter",
         "x": {
          "bdata": "AAAAAAAAAAAAAAAAAACgPwAAAAAAALA/AAAAAAAAuD8AAAAAAADAPwAAAAAAAMQ/AAAAAAAAyD8AAAAAAADMPwAAAAAAANA/AAAAAAAA0j8AAAAAAADUPwAAAAAAANY/AAAAAAAA2D8AAAAAAADaPwAAAAAAANw/AAAAAAAA3j8AAAAAAADgPwAAAAAAAOE/AAAAAAAA4j8AAAAAAADjPwAAAAAAAOQ/AAAAAAAA5T8AAAAAAADmPwAAAAAAAOc/AAAAAAAA6D8AAAAAAADpPwAAAAAAAOo/AAAAAAAA6z8AAAAAAADsPwAAAAAAAO0/AAAAAAAA7j8AAAAAAADvPwAAAAAAAPA/",
          "dtype": "f8"
         },
         "y": {
          "bdata": "YtCZVcCF5D9CExieBcfkPyp1EtcMEOQ/mJIMpeOx4z957HwxU/3hPyDnIGlDVOE/kAhgDeZ03z9EVKmTuGbgP80q4EJ+SOE/iOnjHCRt4D/AW13fAe3aPyLUc/vkyN0//tEbeKvr2z9k54uZ6o/eP4wuuuiii94/8KoV21Hm3z8w+3mYPs7hP5SOx84XM+E/xaAzq4AL4T/qTk3LqL3fP60CLuSHVOA/HDca9ogA3j+opmXU3ivgPzL/vm4KTeA/JG2IKnUS3z9U0zJq7xXeP2BOd2paRt0/eEC7lGQo3T+29wojwcbdP8pnLGJlad4/Wi/7eZg+3j9GWO5phOXeP67YjjL/vt4/",
          "dtype": "f8"
         }
        },
        {
         "hovertemplate": "Layer(norm)=%{x:.2f}<br>Generalized Triplet Distance=%{y:.2f}<extra>random_emb (dim=4096)</extra>",
         "line": {
          "color": "#555555",
          "dash": "dot",
          "width": 3.5
         },
         "mode": "lines",
         "name": "random_emb (dim=4096)",
         "type": "scatter",
         "x": [
          0,
          1
         ],
         "y": [
          0.6730668756530825,
          0.6730668756530825
         ]
        },
        {
         "hovertemplate": "Layer(norm)=%{x:.2f}<br>Generalized Triplet Distance=%{y:.2f}<extra>fasttext</extra>",
         "line": {
          "color": "#ff7f0e",
          "dash": "dot",
          "width": 3.5
         },
         "mode": "lines",
         "name": "fasttext",
         "type": "scatter",
         "x": [
          0,
          1
         ],
         "y": [
          0.6533437826541275,
          0.6533437826541275
         ]
        },
        {
         "hovertemplate": "Layer(norm)=%{x:.2f}<br>Generalized Triplet Distance=%{y:.2f}<extra>Reference (Gold binary-balanced)</extra>",
         "line": {
          "color": "#2ca02c",
          "dash": "dot",
          "width": 3.5
         },
         "mode": "lines",
         "name": "Reference (Gold binary-balanced)",
         "type": "scatter",
         "x": [
          0,
          1
         ],
         "y": [
          0,
          0
         ]
        }
       ],
       "layout": {
        "legend": {
         "title": {
          "text": "Model / Dotted refs"
         }
        },
        "template": {
         "data": {
          "bar": [
           {
            "error_x": {
             "color": "#2a3f5f"
            },
            "error_y": {
             "color": "#2a3f5f"
            },
            "marker": {
             "line": {
              "color": "#E5ECF6",
              "width": 0.5
             },
             "pattern": {
              "fillmode": "overlay",
              "size": 10,
              "solidity": 0.2
             }
            },
            "type": "bar"
           }
          ],
          "barpolar": [
           {
            "marker": {
             "line": {
              "color": "#E5ECF6",
              "width": 0.5
             },
             "pattern": {
              "fillmode": "overlay",
              "size": 10,
              "solidity": 0.2
             }
            },
            "type": "barpolar"
           }
          ],
          "carpet": [
           {
            "aaxis": {
             "endlinecolor": "#2a3f5f",
             "gridcolor": "white",
             "linecolor": "white",
             "minorgridcolor": "white",
             "startlinecolor": "#2a3f5f"
            },
            "baxis": {
             "endlinecolor": "#2a3f5f",
             "gridcolor": "white",
             "linecolor": "white",
             "minorgridcolor": "white",
             "startlinecolor": "#2a3f5f"
            },
            "type": "carpet"
           }
          ],
          "choropleth": [
           {
            "colorbar": {
             "outlinewidth": 0,
             "ticks": ""
            },
            "type": "choropleth"
           }
          ],
          "contour": [
           {
            "colorbar": {
             "outlinewidth": 0,
             "ticks": ""
            },
            "colorscale": [
             [
              0,
              "#0d0887"
             ],
             [
              0.1111111111111111,
              "#46039f"
             ],
             [
              0.2222222222222222,
              "#7201a8"
             ],
             [
              0.3333333333333333,
              "#9c179e"
             ],
             [
              0.4444444444444444,
              "#bd3786"
             ],
             [
              0.5555555555555556,
              "#d8576b"
             ],
             [
              0.6666666666666666,
              "#ed7953"
             ],
             [
              0.7777777777777778,
              "#fb9f3a"
             ],
             [
              0.8888888888888888,
              "#fdca26"
             ],
             [
              1,
              "#f0f921"
             ]
            ],
            "type": "contour"
           }
          ],
          "contourcarpet": [
           {
            "colorbar": {
             "outlinewidth": 0,
             "ticks": ""
            },
            "type": "contourcarpet"
           }
          ],
          "heatmap": [
           {
            "colorbar": {
             "outlinewidth": 0,
             "ticks": ""
            },
            "colorscale": [
             [
              0,
              "#0d0887"
             ],
             [
              0.1111111111111111,
              "#46039f"
             ],
             [
              0.2222222222222222,
              "#7201a8"
             ],
             [
              0.3333333333333333,
              "#9c179e"
             ],
             [
              0.4444444444444444,
              "#bd3786"
             ],
             [
              0.5555555555555556,
              "#d8576b"
             ],
             [
              0.6666666666666666,
              "#ed7953"
             ],
             [
              0.7777777777777778,
              "#fb9f3a"
             ],
             [
              0.8888888888888888,
              "#fdca26"
             ],
             [
              1,
              "#f0f921"
             ]
            ],
            "type": "heatmap"
           }
          ],
          "histogram": [
           {
            "marker": {
             "pattern": {
              "fillmode": "overlay",
              "size": 10,
              "solidity": 0.2
             }
            },
            "type": "histogram"
           }
          ],
          "histogram2d": [
           {
            "colorbar": {
             "outlinewidth": 0,
             "ticks": ""
            },
            "colorscale": [
             [
              0,
              "#0d0887"
             ],
             [
              0.1111111111111111,
              "#46039f"
             ],
             [
              0.2222222222222222,
              "#7201a8"
             ],
             [
              0.3333333333333333,
              "#9c179e"
             ],
             [
              0.4444444444444444,
              "#bd3786"
             ],
             [
              0.5555555555555556,
              "#d8576b"
             ],
             [
              0.6666666666666666,
              "#ed7953"
             ],
             [
              0.7777777777777778,
              "#fb9f3a"
             ],
             [
              0.8888888888888888,
              "#fdca26"
             ],
             [
              1,
              "#f0f921"
             ]
            ],
            "type": "histogram2d"
           }
          ],
          "histogram2dcontour": [
           {
            "colorbar": {
             "outlinewidth": 0,
             "ticks": ""
            },
            "colorscale": [
             [
              0,
              "#0d0887"
             ],
             [
              0.1111111111111111,
              "#46039f"
             ],
             [
              0.2222222222222222,
              "#7201a8"
             ],
             [
              0.3333333333333333,
              "#9c179e"
             ],
             [
              0.4444444444444444,
              "#bd3786"
             ],
             [
              0.5555555555555556,
              "#d8576b"
             ],
             [
              0.6666666666666666,
              "#ed7953"
             ],
             [
              0.7777777777777778,
              "#fb9f3a"
             ],
             [
              0.8888888888888888,
              "#fdca26"
             ],
             [
              1,
              "#f0f921"
             ]
            ],
            "type": "histogram2dcontour"
           }
          ],
          "mesh3d": [
           {
            "colorbar": {
             "outlinewidth": 0,
             "ticks": ""
            },
            "type": "mesh3d"
           }
          ],
          "parcoords": [
           {
            "line": {
             "colorbar": {
              "outlinewidth": 0,
              "ticks": ""
             }
            },
            "type": "parcoords"
           }
          ],
          "pie": [
           {
            "automargin": true,
            "type": "pie"
           }
          ],
          "scatter": [
           {
            "fillpattern": {
             "fillmode": "overlay",
             "size": 10,
             "solidity": 0.2
            },
            "type": "scatter"
           }
          ],
          "scatter3d": [
           {
            "line": {
             "colorbar": {
              "outlinewidth": 0,
              "ticks": ""
             }
            },
            "marker": {
             "colorbar": {
              "outlinewidth": 0,
              "ticks": ""
             }
            },
            "type": "scatter3d"
           }
          ],
          "scattercarpet": [
           {
            "marker": {
             "colorbar": {
              "outlinewidth": 0,
              "ticks": ""
             }
            },
            "type": "scattercarpet"
           }
          ],
          "scattergeo": [
           {
            "marker": {
             "colorbar": {
              "outlinewidth": 0,
              "ticks": ""
             }
            },
            "type": "scattergeo"
           }
          ],
          "scattergl": [
           {
            "marker": {
             "colorbar": {
              "outlinewidth": 0,
              "ticks": ""
             }
            },
            "type": "scattergl"
           }
          ],
          "scattermap": [
           {
            "marker": {
             "colorbar": {
              "outlinewidth": 0,
              "ticks": ""
             }
            },
            "type": "scattermap"
           }
          ],
          "scattermapbox": [
           {
            "marker": {
             "colorbar": {
              "outlinewidth": 0,
              "ticks": ""
             }
            },
            "type": "scattermapbox"
           }
          ],
          "scatterpolar": [
           {
            "marker": {
             "colorbar": {
              "outlinewidth": 0,
              "ticks": ""
             }
            },
            "type": "scatterpolar"
           }
          ],
          "scatterpolargl": [
           {
            "marker": {
             "colorbar": {
              "outlinewidth": 0,
              "ticks": ""
             }
            },
            "type": "scatterpolargl"
           }
          ],
          "scatterternary": [
           {
            "marker": {
             "colorbar": {
              "outlinewidth": 0,
              "ticks": ""
             }
            },
            "type": "scatterternary"
           }
          ],
          "surface": [
           {
            "colorbar": {
             "outlinewidth": 0,
             "ticks": ""
            },
            "colorscale": [
             [
              0,
              "#0d0887"
             ],
             [
              0.1111111111111111,
              "#46039f"
             ],
             [
              0.2222222222222222,
              "#7201a8"
             ],
             [
              0.3333333333333333,
              "#9c179e"
             ],
             [
              0.4444444444444444,
              "#bd3786"
             ],
             [
              0.5555555555555556,
              "#d8576b"
             ],
             [
              0.6666666666666666,
              "#ed7953"
             ],
             [
              0.7777777777777778,
              "#fb9f3a"
             ],
             [
              0.8888888888888888,
              "#fdca26"
             ],
             [
              1,
              "#f0f921"
             ]
            ],
            "type": "surface"
           }
          ],
          "table": [
           {
            "cells": {
             "fill": {
              "color": "#EBF0F8"
             },
             "line": {
              "color": "white"
             }
            },
            "header": {
             "fill": {
              "color": "#C8D4E3"
             },
             "line": {
              "color": "white"
             }
            },
            "type": "table"
           }
          ]
         },
         "layout": {
          "annotationdefaults": {
           "arrowcolor": "#2a3f5f",
           "arrowhead": 0,
           "arrowwidth": 1
          },
          "autotypenumbers": "strict",
          "coloraxis": {
           "colorbar": {
            "outlinewidth": 0,
            "ticks": ""
           }
          },
          "colorscale": {
           "diverging": [
            [
             0,
             "#8e0152"
            ],
            [
             0.1,
             "#c51b7d"
            ],
            [
             0.2,
             "#de77ae"
            ],
            [
             0.3,
             "#f1b6da"
            ],
            [
             0.4,
             "#fde0ef"
            ],
            [
             0.5,
             "#f7f7f7"
            ],
            [
             0.6,
             "#e6f5d0"
            ],
            [
             0.7,
             "#b8e186"
            ],
            [
             0.8,
             "#7fbc41"
            ],
            [
             0.9,
             "#4d9221"
            ],
            [
             1,
             "#276419"
            ]
           ],
           "sequential": [
            [
             0,
             "#0d0887"
            ],
            [
             0.1111111111111111,
             "#46039f"
            ],
            [
             0.2222222222222222,
             "#7201a8"
            ],
            [
             0.3333333333333333,
             "#9c179e"
            ],
            [
             0.4444444444444444,
             "#bd3786"
            ],
            [
             0.5555555555555556,
             "#d8576b"
            ],
            [
             0.6666666666666666,
             "#ed7953"
            ],
            [
             0.7777777777777778,
             "#fb9f3a"
            ],
            [
             0.8888888888888888,
             "#fdca26"
            ],
            [
             1,
             "#f0f921"
            ]
           ],
           "sequentialminus": [
            [
             0,
             "#0d0887"
            ],
            [
             0.1111111111111111,
             "#46039f"
            ],
            [
             0.2222222222222222,
             "#7201a8"
            ],
            [
             0.3333333333333333,
             "#9c179e"
            ],
            [
             0.4444444444444444,
             "#bd3786"
            ],
            [
             0.5555555555555556,
             "#d8576b"
            ],
            [
             0.6666666666666666,
             "#ed7953"
            ],
            [
             0.7777777777777778,
             "#fb9f3a"
            ],
            [
             0.8888888888888888,
             "#fdca26"
            ],
            [
             1,
             "#f0f921"
            ]
           ]
          },
          "colorway": [
           "#636efa",
           "#EF553B",
           "#00cc96",
           "#ab63fa",
           "#FFA15A",
           "#19d3f3",
           "#FF6692",
           "#B6E880",
           "#FF97FF",
           "#FECB52"
          ],
          "font": {
           "color": "#2a3f5f"
          },
          "geo": {
           "bgcolor": "white",
           "lakecolor": "white",
           "landcolor": "#E5ECF6",
           "showlakes": true,
           "showland": true,
           "subunitcolor": "white"
          },
          "hoverlabel": {
           "align": "left"
          },
          "hovermode": "closest",
          "mapbox": {
           "style": "light"
          },
          "paper_bgcolor": "white",
          "plot_bgcolor": "#E5ECF6",
          "polar": {
           "angularaxis": {
            "gridcolor": "white",
            "linecolor": "white",
            "ticks": ""
           },
           "bgcolor": "#E5ECF6",
           "radialaxis": {
            "gridcolor": "white",
            "linecolor": "white",
            "ticks": ""
           }
          },
          "scene": {
           "xaxis": {
            "backgroundcolor": "#E5ECF6",
            "gridcolor": "white",
            "gridwidth": 2,
            "linecolor": "white",
            "showbackground": true,
            "ticks": "",
            "zerolinecolor": "white"
           },
           "yaxis": {
            "backgroundcolor": "#E5ECF6",
            "gridcolor": "white",
            "gridwidth": 2,
            "linecolor": "white",
            "showbackground": true,
            "ticks": "",
            "zerolinecolor": "white"
           },
           "zaxis": {
            "backgroundcolor": "#E5ECF6",
            "gridcolor": "white",
            "gridwidth": 2,
            "linecolor": "white",
            "showbackground": true,
            "ticks": "",
            "zerolinecolor": "white"
           }
          },
          "shapedefaults": {
           "line": {
            "color": "#2a3f5f"
           }
          },
          "ternary": {
           "aaxis": {
            "gridcolor": "white",
            "linecolor": "white",
            "ticks": ""
           },
           "baxis": {
            "gridcolor": "white",
            "linecolor": "white",
            "ticks": ""
           },
           "bgcolor": "#E5ECF6",
           "caxis": {
            "gridcolor": "white",
            "linecolor": "white",
            "ticks": ""
           }
          },
          "title": {
           "x": 0.05
          },
          "xaxis": {
           "automargin": true,
           "gridcolor": "white",
           "linecolor": "white",
           "ticks": "",
           "title": {
            "standoff": 15
           },
           "zerolinecolor": "white",
           "zerolinewidth": 2
          },
          "yaxis": {
           "automargin": true,
           "gridcolor": "white",
           "linecolor": "white",
           "ticks": "",
           "title": {
            "standoff": 15
           },
           "zerolinecolor": "white",
           "zerolinewidth": 2
          }
         }
        },
        "title": {
         "text": "Generalized Triplet Distance across normalized layers (↓)"
        },
        "xaxis": {
         "range": [
          0,
          1
         ],
         "title": {
          "text": "Normalized layer (0 → 1)"
         }
        },
        "yaxis": {
         "title": {
          "text": "Generalized Triplet Distance"
         }
        }
       }
      }
     },
     "metadata": {},
     "output_type": "display_data"
    },
    {
     "data": {
      "application/vnd.plotly.v1+json": {
       "config": {
        "plotlyServerURL": "https://plot.ly"
       },
       "data": [
        {
         "hovertemplate": "Layer(norm)=%{x:.2f}<br>Generalized Quartet Distance=%{y:.2f}<extra>gpt2</extra>",
         "line": {
          "color": "#d62728"
         },
         "marker": {
          "color": "#d62728"
         },
         "mode": "lines+markers",
         "name": "gpt2",
         "type": "scatter",
         "x": {
          "bdata": "AAAAAAAAAABVVVVVVVW1P1VVVVVVVcU/AAAAAAAA0D9VVVVVVVXVP6uqqqqqqto/AAAAAAAA4D8AAAAAAADgP6uqqqqqquI/VVVVVVVV5T8AAAAAAADoP6uqqqqqquo/VVVVVVVV7T8AAAAAAADwPw==",
          "dtype": "f8"
         },
         "y": {
          "bdata": "meSyUMVm4j9K0saILXrkP1L+HmPbJ+Q/Jj9qcoOh4z9ovwjj+6ziP0mwH1+yE+M/7MvAAJHT4T/sy8AAkdPhPyjy5DA8u+E/vJqbViMK4T96QM0jsr/hP3qUv8fY9uE/rkLroceu4z98yU6Q173kPw==",
          "dtype": "f8"
         }
        },
        {
         "hovertemplate": "Layer(norm)=%{x:.2f}<br>Generalized Quartet Distance=%{y:.2f}<extra>Llama-3-8B</extra>",
         "line": {
          "color": "#1f77b4"
         },
         "marker": {
          "color": "#1f77b4"
         },
         "mode": "lines+markers",
         "name": "Llama-3-8B",
         "type": "scatter",
         "x": {
          "bdata": "AAAAAAAAAAAAAAAAAACgPwAAAAAAALA/AAAAAAAAuD8AAAAAAADAPwAAAAAAAMQ/AAAAAAAAyD8AAAAAAADMPwAAAAAAANA/AAAAAAAA0j8AAAAAAADUPwAAAAAAANY/AAAAAAAA2D8AAAAAAADaPwAAAAAAANw/AAAAAAAA3j8AAAAAAADgPwAAAAAAAOE/AAAAAAAA4j8AAAAAAADjPwAAAAAAAOQ/AAAAAAAA5T8AAAAAAADmPwAAAAAAAOc/AAAAAAAA6D8AAAAAAADpPwAAAAAAAOo/AAAAAAAA6z8AAAAAAADsPwAAAAAAAO0/AAAAAAAA7j8AAAAAAADvPwAAAAAAAPA/",
          "dtype": "f8"
         },
         "y": {
          "bdata": "UucNsMts4z+Auao/p1PkPzTU+xf2eOI/oCcc3oLP4j98HUE0/vTfP05uMJTW2N0/PNZaoBAL2z8mEUgMZCvbP572tSkQY94/dGhn7SpJ2z84rUYUtlPTP7Q1i5/qOtc/DtrEvqEI1T86sIpiCUrYPwIefhXvC9g/RGmNvWhQ2j+iDOIW57nfP679t4iYfd4/rN85c6lx3j9sfRkYIHLaP+ixa/8tItw/dGhn7SpJ2T+uhx679t/aP2adYbmARts/XiFATzi82T8+7IaN52HYP3xHOoaRENo/lOnAKool2j/inCTYjy/bP4CPse0TONw/6rjYYQ1z3D8Gyaarj3DdP3QMIyHsXNw/",
          "dtype": "f8"
         }
        },
        {
         "hovertemplate": "Layer(norm)=%{x:.2f}<br>Generalized Quartet Distance=%{y:.2f}<extra>random_emb (dim=4096)</extra>",
         "line": {
          "color": "#555555",
          "dash": "dot",
          "width": 3.5
         },
         "mode": "lines",
         "name": "random_emb (dim=4096)",
         "type": "scatter",
         "x": [
          0,
          1
         ],
         "y": [
          0.6758952817379498,
          0.6758952817379498
         ]
        },
        {
         "hovertemplate": "Layer(norm)=%{x:.2f}<br>Generalized Quartet Distance=%{y:.2f}<extra>fasttext</extra>",
         "line": {
          "color": "#ff7f0e",
          "dash": "dot",
          "width": 3.5
         },
         "mode": "lines",
         "name": "fasttext",
         "type": "scatter",
         "x": [
          0,
          1
         ],
         "y": [
          0.6554155351889568,
          0.6554155351889568
         ]
        },
        {
         "hovertemplate": "Layer(norm)=%{x:.2f}<br>Generalized Quartet Distance=%{y:.2f}<extra>Reference (Gold binary-balanced)</extra>",
         "line": {
          "color": "#2ca02c",
          "dash": "dot",
          "width": 3.5
         },
         "mode": "lines",
         "name": "Reference (Gold binary-balanced)",
         "type": "scatter",
         "x": [
          0,
          1
         ],
         "y": [
          0,
          0
         ]
        }
       ],
       "layout": {
        "legend": {
         "title": {
          "text": "Model / Dotted refs"
         }
        },
        "template": {
         "data": {
          "bar": [
           {
            "error_x": {
             "color": "#2a3f5f"
            },
            "error_y": {
             "color": "#2a3f5f"
            },
            "marker": {
             "line": {
              "color": "#E5ECF6",
              "width": 0.5
             },
             "pattern": {
              "fillmode": "overlay",
              "size": 10,
              "solidity": 0.2
             }
            },
            "type": "bar"
           }
          ],
          "barpolar": [
           {
            "marker": {
             "line": {
              "color": "#E5ECF6",
              "width": 0.5
             },
             "pattern": {
              "fillmode": "overlay",
              "size": 10,
              "solidity": 0.2
             }
            },
            "type": "barpolar"
           }
          ],
          "carpet": [
           {
            "aaxis": {
             "endlinecolor": "#2a3f5f",
             "gridcolor": "white",
             "linecolor": "white",
             "minorgridcolor": "white",
             "startlinecolor": "#2a3f5f"
            },
            "baxis": {
             "endlinecolor": "#2a3f5f",
             "gridcolor": "white",
             "linecolor": "white",
             "minorgridcolor": "white",
             "startlinecolor": "#2a3f5f"
            },
            "type": "carpet"
           }
          ],
          "choropleth": [
           {
            "colorbar": {
             "outlinewidth": 0,
             "ticks": ""
            },
            "type": "choropleth"
           }
          ],
          "contour": [
           {
            "colorbar": {
             "outlinewidth": 0,
             "ticks": ""
            },
            "colorscale": [
             [
              0,
              "#0d0887"
             ],
             [
              0.1111111111111111,
              "#46039f"
             ],
             [
              0.2222222222222222,
              "#7201a8"
             ],
             [
              0.3333333333333333,
              "#9c179e"
             ],
             [
              0.4444444444444444,
              "#bd3786"
             ],
             [
              0.5555555555555556,
              "#d8576b"
             ],
             [
              0.6666666666666666,
              "#ed7953"
             ],
             [
              0.7777777777777778,
              "#fb9f3a"
             ],
             [
              0.8888888888888888,
              "#fdca26"
             ],
             [
              1,
              "#f0f921"
             ]
            ],
            "type": "contour"
           }
          ],
          "contourcarpet": [
           {
            "colorbar": {
             "outlinewidth": 0,
             "ticks": ""
            },
            "type": "contourcarpet"
           }
          ],
          "heatmap": [
           {
            "colorbar": {
             "outlinewidth": 0,
             "ticks": ""
            },
            "colorscale": [
             [
              0,
              "#0d0887"
             ],
             [
              0.1111111111111111,
              "#46039f"
             ],
             [
              0.2222222222222222,
              "#7201a8"
             ],
             [
              0.3333333333333333,
              "#9c179e"
             ],
             [
              0.4444444444444444,
              "#bd3786"
             ],
             [
              0.5555555555555556,
              "#d8576b"
             ],
             [
              0.6666666666666666,
              "#ed7953"
             ],
             [
              0.7777777777777778,
              "#fb9f3a"
             ],
             [
              0.8888888888888888,
              "#fdca26"
             ],
             [
              1,
              "#f0f921"
             ]
            ],
            "type": "heatmap"
           }
          ],
          "histogram": [
           {
            "marker": {
             "pattern": {
              "fillmode": "overlay",
              "size": 10,
              "solidity": 0.2
             }
            },
            "type": "histogram"
           }
          ],
          "histogram2d": [
           {
            "colorbar": {
             "outlinewidth": 0,
             "ticks": ""
            },
            "colorscale": [
             [
              0,
              "#0d0887"
             ],
             [
              0.1111111111111111,
              "#46039f"
             ],
             [
              0.2222222222222222,
              "#7201a8"
             ],
             [
              0.3333333333333333,
              "#9c179e"
             ],
             [
              0.4444444444444444,
              "#bd3786"
             ],
             [
              0.5555555555555556,
              "#d8576b"
             ],
             [
              0.6666666666666666,
              "#ed7953"
             ],
             [
              0.7777777777777778,
              "#fb9f3a"
             ],
             [
              0.8888888888888888,
              "#fdca26"
             ],
             [
              1,
              "#f0f921"
             ]
            ],
            "type": "histogram2d"
           }
          ],
          "histogram2dcontour": [
           {
            "colorbar": {
             "outlinewidth": 0,
             "ticks": ""
            },
            "colorscale": [
             [
              0,
              "#0d0887"
             ],
             [
              0.1111111111111111,
              "#46039f"
             ],
             [
              0.2222222222222222,
              "#7201a8"
             ],
             [
              0.3333333333333333,
              "#9c179e"
             ],
             [
              0.4444444444444444,
              "#bd3786"
             ],
             [
              0.5555555555555556,
              "#d8576b"
             ],
             [
              0.6666666666666666,
              "#ed7953"
             ],
             [
              0.7777777777777778,
              "#fb9f3a"
             ],
             [
              0.8888888888888888,
              "#fdca26"
             ],
             [
              1,
              "#f0f921"
             ]
            ],
            "type": "histogram2dcontour"
           }
          ],
          "mesh3d": [
           {
            "colorbar": {
             "outlinewidth": 0,
             "ticks": ""
            },
            "type": "mesh3d"
           }
          ],
          "parcoords": [
           {
            "line": {
             "colorbar": {
              "outlinewidth": 0,
              "ticks": ""
             }
            },
            "type": "parcoords"
           }
          ],
          "pie": [
           {
            "automargin": true,
            "type": "pie"
           }
          ],
          "scatter": [
           {
            "fillpattern": {
             "fillmode": "overlay",
             "size": 10,
             "solidity": 0.2
            },
            "type": "scatter"
           }
          ],
          "scatter3d": [
           {
            "line": {
             "colorbar": {
              "outlinewidth": 0,
              "ticks": ""
             }
            },
            "marker": {
             "colorbar": {
              "outlinewidth": 0,
              "ticks": ""
             }
            },
            "type": "scatter3d"
           }
          ],
          "scattercarpet": [
           {
            "marker": {
             "colorbar": {
              "outlinewidth": 0,
              "ticks": ""
             }
            },
            "type": "scattercarpet"
           }
          ],
          "scattergeo": [
           {
            "marker": {
             "colorbar": {
              "outlinewidth": 0,
              "ticks": ""
             }
            },
            "type": "scattergeo"
           }
          ],
          "scattergl": [
           {
            "marker": {
             "colorbar": {
              "outlinewidth": 0,
              "ticks": ""
             }
            },
            "type": "scattergl"
           }
          ],
          "scattermap": [
           {
            "marker": {
             "colorbar": {
              "outlinewidth": 0,
              "ticks": ""
             }
            },
            "type": "scattermap"
           }
          ],
          "scattermapbox": [
           {
            "marker": {
             "colorbar": {
              "outlinewidth": 0,
              "ticks": ""
             }
            },
            "type": "scattermapbox"
           }
          ],
          "scatterpolar": [
           {
            "marker": {
             "colorbar": {
              "outlinewidth": 0,
              "ticks": ""
             }
            },
            "type": "scatterpolar"
           }
          ],
          "scatterpolargl": [
           {
            "marker": {
             "colorbar": {
              "outlinewidth": 0,
              "ticks": ""
             }
            },
            "type": "scatterpolargl"
           }
          ],
          "scatterternary": [
           {
            "marker": {
             "colorbar": {
              "outlinewidth": 0,
              "ticks": ""
             }
            },
            "type": "scatterternary"
           }
          ],
          "surface": [
           {
            "colorbar": {
             "outlinewidth": 0,
             "ticks": ""
            },
            "colorscale": [
             [
              0,
              "#0d0887"
             ],
             [
              0.1111111111111111,
              "#46039f"
             ],
             [
              0.2222222222222222,
              "#7201a8"
             ],
             [
              0.3333333333333333,
              "#9c179e"
             ],
             [
              0.4444444444444444,
              "#bd3786"
             ],
             [
              0.5555555555555556,
              "#d8576b"
             ],
             [
              0.6666666666666666,
              "#ed7953"
             ],
             [
              0.7777777777777778,
              "#fb9f3a"
             ],
             [
              0.8888888888888888,
              "#fdca26"
             ],
             [
              1,
              "#f0f921"
             ]
            ],
            "type": "surface"
           }
          ],
          "table": [
           {
            "cells": {
             "fill": {
              "color": "#EBF0F8"
             },
             "line": {
              "color": "white"
             }
            },
            "header": {
             "fill": {
              "color": "#C8D4E3"
             },
             "line": {
              "color": "white"
             }
            },
            "type": "table"
           }
          ]
         },
         "layout": {
          "annotationdefaults": {
           "arrowcolor": "#2a3f5f",
           "arrowhead": 0,
           "arrowwidth": 1
          },
          "autotypenumbers": "strict",
          "coloraxis": {
           "colorbar": {
            "outlinewidth": 0,
            "ticks": ""
           }
          },
          "colorscale": {
           "diverging": [
            [
             0,
             "#8e0152"
            ],
            [
             0.1,
             "#c51b7d"
            ],
            [
             0.2,
             "#de77ae"
            ],
            [
             0.3,
             "#f1b6da"
            ],
            [
             0.4,
             "#fde0ef"
            ],
            [
             0.5,
             "#f7f7f7"
            ],
            [
             0.6,
             "#e6f5d0"
            ],
            [
             0.7,
             "#b8e186"
            ],
            [
             0.8,
             "#7fbc41"
            ],
            [
             0.9,
             "#4d9221"
            ],
            [
             1,
             "#276419"
            ]
           ],
           "sequential": [
            [
             0,
             "#0d0887"
            ],
            [
             0.1111111111111111,
             "#46039f"
            ],
            [
             0.2222222222222222,
             "#7201a8"
            ],
            [
             0.3333333333333333,
             "#9c179e"
            ],
            [
             0.4444444444444444,
             "#bd3786"
            ],
            [
             0.5555555555555556,
             "#d8576b"
            ],
            [
             0.6666666666666666,
             "#ed7953"
            ],
            [
             0.7777777777777778,
             "#fb9f3a"
            ],
            [
             0.8888888888888888,
             "#fdca26"
            ],
            [
             1,
             "#f0f921"
            ]
           ],
           "sequentialminus": [
            [
             0,
             "#0d0887"
            ],
            [
             0.1111111111111111,
             "#46039f"
            ],
            [
             0.2222222222222222,
             "#7201a8"
            ],
            [
             0.3333333333333333,
             "#9c179e"
            ],
            [
             0.4444444444444444,
             "#bd3786"
            ],
            [
             0.5555555555555556,
             "#d8576b"
            ],
            [
             0.6666666666666666,
             "#ed7953"
            ],
            [
             0.7777777777777778,
             "#fb9f3a"
            ],
            [
             0.8888888888888888,
             "#fdca26"
            ],
            [
             1,
             "#f0f921"
            ]
           ]
          },
          "colorway": [
           "#636efa",
           "#EF553B",
           "#00cc96",
           "#ab63fa",
           "#FFA15A",
           "#19d3f3",
           "#FF6692",
           "#B6E880",
           "#FF97FF",
           "#FECB52"
          ],
          "font": {
           "color": "#2a3f5f"
          },
          "geo": {
           "bgcolor": "white",
           "lakecolor": "white",
           "landcolor": "#E5ECF6",
           "showlakes": true,
           "showland": true,
           "subunitcolor": "white"
          },
          "hoverlabel": {
           "align": "left"
          },
          "hovermode": "closest",
          "mapbox": {
           "style": "light"
          },
          "paper_bgcolor": "white",
          "plot_bgcolor": "#E5ECF6",
          "polar": {
           "angularaxis": {
            "gridcolor": "white",
            "linecolor": "white",
            "ticks": ""
           },
           "bgcolor": "#E5ECF6",
           "radialaxis": {
            "gridcolor": "white",
            "linecolor": "white",
            "ticks": ""
           }
          },
          "scene": {
           "xaxis": {
            "backgroundcolor": "#E5ECF6",
            "gridcolor": "white",
            "gridwidth": 2,
            "linecolor": "white",
            "showbackground": true,
            "ticks": "",
            "zerolinecolor": "white"
           },
           "yaxis": {
            "backgroundcolor": "#E5ECF6",
            "gridcolor": "white",
            "gridwidth": 2,
            "linecolor": "white",
            "showbackground": true,
            "ticks": "",
            "zerolinecolor": "white"
           },
           "zaxis": {
            "backgroundcolor": "#E5ECF6",
            "gridcolor": "white",
            "gridwidth": 2,
            "linecolor": "white",
            "showbackground": true,
            "ticks": "",
            "zerolinecolor": "white"
           }
          },
          "shapedefaults": {
           "line": {
            "color": "#2a3f5f"
           }
          },
          "ternary": {
           "aaxis": {
            "gridcolor": "white",
            "linecolor": "white",
            "ticks": ""
           },
           "baxis": {
            "gridcolor": "white",
            "linecolor": "white",
            "ticks": ""
           },
           "bgcolor": "#E5ECF6",
           "caxis": {
            "gridcolor": "white",
            "linecolor": "white",
            "ticks": ""
           }
          },
          "title": {
           "x": 0.05
          },
          "xaxis": {
           "automargin": true,
           "gridcolor": "white",
           "linecolor": "white",
           "ticks": "",
           "title": {
            "standoff": 15
           },
           "zerolinecolor": "white",
           "zerolinewidth": 2
          },
          "yaxis": {
           "automargin": true,
           "gridcolor": "white",
           "linecolor": "white",
           "ticks": "",
           "title": {
            "standoff": 15
           },
           "zerolinecolor": "white",
           "zerolinewidth": 2
          }
         }
        },
        "title": {
         "text": "Generalized Quartet Distance across normalized layers (↓)"
        },
        "xaxis": {
         "range": [
          0,
          1
         ],
         "title": {
          "text": "Normalized layer (0 → 1)"
         }
        },
        "yaxis": {
         "title": {
          "text": "Generalized Quartet Distance"
         }
        }
       }
      }
     },
     "metadata": {},
     "output_type": "display_data"
    },
    {
     "data": {
      "application/vnd.plotly.v1+json": {
       "config": {
        "plotlyServerURL": "https://plot.ly"
       },
       "data": [
        {
         "hovertemplate": "Layer(norm)=%{x:.2f}<br>cophenetic corr=%{y:.2f}<extra>gpt2</extra>",
         "line": {
          "color": "#d62728"
         },
         "marker": {
          "color": "#d62728"
         },
         "mode": "lines+markers",
         "name": "gpt2",
         "type": "scatter",
         "x": {
          "bdata": "AAAAAAAAAABVVVVVVVW1P1VVVVVVVcU/AAAAAAAA0D9VVVVVVVXVP6uqqqqqqto/AAAAAAAA4D8AAAAAAADgP6uqqqqqquI/VVVVVVVV5T8AAAAAAADoP6uqqqqqquo/VVVVVVVV7T8AAAAAAADwPw==",
          "dtype": "f8"
         },
         "y": {
          "bdata": "vV5KMPqdqz8K+SIu0dWNP3mJQdvVNpo/mjYnPtDlmT/W/iPmxgCmP/+2hIN1DKI/ZilBQJnLpT9mKUFAmculP0rutSnE6ag/vb17PM+1qj+PyvD6CwGkP1Kc5G40EKA/mKGmVcpgkD+HupHrTx2HPw==",
          "dtype": "f8"
         }
        },
        {
         "hovertemplate": "Layer(norm)=%{x:.2f}<br>cophenetic corr=%{y:.2f}<extra>Llama-3-8B</extra>",
         "line": {
          "color": "#1f77b4"
         },
         "marker": {
          "color": "#1f77b4"
         },
         "mode": "lines+markers",
         "name": "Llama-3-8B",
         "type": "scatter",
         "x": {
          "bdata": "AAAAAAAAAAAAAAAAAACgPwAAAAAAALA/AAAAAAAAuD8AAAAAAADAPwAAAAAAAMQ/AAAAAAAAyD8AAAAAAADMPwAAAAAAANA/AAAAAAAA0j8AAAAAAADUPwAAAAAAANY/AAAAAAAA2D8AAAAAAADaPwAAAAAAANw/AAAAAAAA3j8AAAAAAADgPwAAAAAAAOE/AAAAAAAA4j8AAAAAAADjPwAAAAAAAOQ/AAAAAAAA5T8AAAAAAADmPwAAAAAAAOc/AAAAAAAA6D8AAAAAAADpPwAAAAAAAOo/AAAAAAAA6z8AAAAAAADsPwAAAAAAAO0/AAAAAAAA7j8AAAAAAADvPwAAAAAAAPA/",
          "dtype": "f8"
         },
         "y": {
          "bdata": "lsl8Vwx2oz94rXNIDq+aPzPOhiaOY68/UB5wDCYKsD+o8vw8UBy6PwwngkgYSrw/plB7hKfEwT9laIiq2Ki/P6CAe3BlBLc/IEVAX2KTvj9kz52DtdvHP1z+s4SsNcU//5QSnkZDxT/y3IVMQiTDPzqSaBUN98E/C/MCF2Ubwj9ds+pu51a2P7eMT1/nvbk/RmTXSnWBvT/pJlMTNbXDP92JVq0SQME/bQZwdCmOxj9pQSeDhRLBP24R7KWGF7w/uAuOE3qmwj9+qsN/2HTEP+E85TBsVsU/mFbffs6OxD+8ZivdZDHEPyYwwNkRpcM/M2S1TJAuwz+2uXPShT3BP/k+VHNB5L0/",
          "dtype": "f8"
         }
        },
        {
         "hovertemplate": "Layer(norm)=%{x:.2f}<br>cophenetic corr=%{y:.2f}<extra>random_emb (dim=4096)</extra>",
         "line": {
          "color": "#555555",
          "dash": "dot",
          "width": 3.5
         },
         "mode": "lines",
         "name": "random_emb (dim=4096)",
         "type": "scatter",
         "x": [
          0,
          1
         ],
         "y": [
          -0.0063855806028933985,
          -0.0063855806028933985
         ]
        },
        {
         "hovertemplate": "Layer(norm)=%{x:.2f}<br>cophenetic corr=%{y:.2f}<extra>fasttext</extra>",
         "line": {
          "color": "#ff7f0e",
          "dash": "dot",
          "width": 3.5
         },
         "mode": "lines",
         "name": "fasttext",
         "type": "scatter",
         "x": [
          0,
          1
         ],
         "y": [
          0.011292991995423416,
          0.011292991995423416
         ]
        },
        {
         "hovertemplate": "Layer(norm)=%{x:.2f}<br>cophenetic corr=%{y:.2f}<extra>Reference (Gold binary-balanced)</extra>",
         "line": {
          "color": "#2ca02c",
          "dash": "dot",
          "width": 3.5
         },
         "mode": "lines",
         "name": "Reference (Gold binary-balanced)",
         "type": "scatter",
         "x": [
          0,
          1
         ],
         "y": [
          0.7935231150009304,
          0.7935231150009304
         ]
        }
       ],
       "layout": {
        "legend": {
         "title": {
          "text": "Model / Dotted refs"
         }
        },
        "template": {
         "data": {
          "bar": [
           {
            "error_x": {
             "color": "#2a3f5f"
            },
            "error_y": {
             "color": "#2a3f5f"
            },
            "marker": {
             "line": {
              "color": "#E5ECF6",
              "width": 0.5
             },
             "pattern": {
              "fillmode": "overlay",
              "size": 10,
              "solidity": 0.2
             }
            },
            "type": "bar"
           }
          ],
          "barpolar": [
           {
            "marker": {
             "line": {
              "color": "#E5ECF6",
              "width": 0.5
             },
             "pattern": {
              "fillmode": "overlay",
              "size": 10,
              "solidity": 0.2
             }
            },
            "type": "barpolar"
           }
          ],
          "carpet": [
           {
            "aaxis": {
             "endlinecolor": "#2a3f5f",
             "gridcolor": "white",
             "linecolor": "white",
             "minorgridcolor": "white",
             "startlinecolor": "#2a3f5f"
            },
            "baxis": {
             "endlinecolor": "#2a3f5f",
             "gridcolor": "white",
             "linecolor": "white",
             "minorgridcolor": "white",
             "startlinecolor": "#2a3f5f"
            },
            "type": "carpet"
           }
          ],
          "choropleth": [
           {
            "colorbar": {
             "outlinewidth": 0,
             "ticks": ""
            },
            "type": "choropleth"
           }
          ],
          "contour": [
           {
            "colorbar": {
             "outlinewidth": 0,
             "ticks": ""
            },
            "colorscale": [
             [
              0,
              "#0d0887"
             ],
             [
              0.1111111111111111,
              "#46039f"
             ],
             [
              0.2222222222222222,
              "#7201a8"
             ],
             [
              0.3333333333333333,
              "#9c179e"
             ],
             [
              0.4444444444444444,
              "#bd3786"
             ],
             [
              0.5555555555555556,
              "#d8576b"
             ],
             [
              0.6666666666666666,
              "#ed7953"
             ],
             [
              0.7777777777777778,
              "#fb9f3a"
             ],
             [
              0.8888888888888888,
              "#fdca26"
             ],
             [
              1,
              "#f0f921"
             ]
            ],
            "type": "contour"
           }
          ],
          "contourcarpet": [
           {
            "colorbar": {
             "outlinewidth": 0,
             "ticks": ""
            },
            "type": "contourcarpet"
           }
          ],
          "heatmap": [
           {
            "colorbar": {
             "outlinewidth": 0,
             "ticks": ""
            },
            "colorscale": [
             [
              0,
              "#0d0887"
             ],
             [
              0.1111111111111111,
              "#46039f"
             ],
             [
              0.2222222222222222,
              "#7201a8"
             ],
             [
              0.3333333333333333,
              "#9c179e"
             ],
             [
              0.4444444444444444,
              "#bd3786"
             ],
             [
              0.5555555555555556,
              "#d8576b"
             ],
             [
              0.6666666666666666,
              "#ed7953"
             ],
             [
              0.7777777777777778,
              "#fb9f3a"
             ],
             [
              0.8888888888888888,
              "#fdca26"
             ],
             [
              1,
              "#f0f921"
             ]
            ],
            "type": "heatmap"
           }
          ],
          "histogram": [
           {
            "marker": {
             "pattern": {
              "fillmode": "overlay",
              "size": 10,
              "solidity": 0.2
             }
            },
            "type": "histogram"
           }
          ],
          "histogram2d": [
           {
            "colorbar": {
             "outlinewidth": 0,
             "ticks": ""
            },
            "colorscale": [
             [
              0,
              "#0d0887"
             ],
             [
              0.1111111111111111,
              "#46039f"
             ],
             [
              0.2222222222222222,
              "#7201a8"
             ],
             [
              0.3333333333333333,
              "#9c179e"
             ],
             [
              0.4444444444444444,
              "#bd3786"
             ],
             [
              0.5555555555555556,
              "#d8576b"
             ],
             [
              0.6666666666666666,
              "#ed7953"
             ],
             [
              0.7777777777777778,
              "#fb9f3a"
             ],
             [
              0.8888888888888888,
              "#fdca26"
             ],
             [
              1,
              "#f0f921"
             ]
            ],
            "type": "histogram2d"
           }
          ],
          "histogram2dcontour": [
           {
            "colorbar": {
             "outlinewidth": 0,
             "ticks": ""
            },
            "colorscale": [
             [
              0,
              "#0d0887"
             ],
             [
              0.1111111111111111,
              "#46039f"
             ],
             [
              0.2222222222222222,
              "#7201a8"
             ],
             [
              0.3333333333333333,
              "#9c179e"
             ],
             [
              0.4444444444444444,
              "#bd3786"
             ],
             [
              0.5555555555555556,
              "#d8576b"
             ],
             [
              0.6666666666666666,
              "#ed7953"
             ],
             [
              0.7777777777777778,
              "#fb9f3a"
             ],
             [
              0.8888888888888888,
              "#fdca26"
             ],
             [
              1,
              "#f0f921"
             ]
            ],
            "type": "histogram2dcontour"
           }
          ],
          "mesh3d": [
           {
            "colorbar": {
             "outlinewidth": 0,
             "ticks": ""
            },
            "type": "mesh3d"
           }
          ],
          "parcoords": [
           {
            "line": {
             "colorbar": {
              "outlinewidth": 0,
              "ticks": ""
             }
            },
            "type": "parcoords"
           }
          ],
          "pie": [
           {
            "automargin": true,
            "type": "pie"
           }
          ],
          "scatter": [
           {
            "fillpattern": {
             "fillmode": "overlay",
             "size": 10,
             "solidity": 0.2
            },
            "type": "scatter"
           }
          ],
          "scatter3d": [
           {
            "line": {
             "colorbar": {
              "outlinewidth": 0,
              "ticks": ""
             }
            },
            "marker": {
             "colorbar": {
              "outlinewidth": 0,
              "ticks": ""
             }
            },
            "type": "scatter3d"
           }
          ],
          "scattercarpet": [
           {
            "marker": {
             "colorbar": {
              "outlinewidth": 0,
              "ticks": ""
             }
            },
            "type": "scattercarpet"
           }
          ],
          "scattergeo": [
           {
            "marker": {
             "colorbar": {
              "outlinewidth": 0,
              "ticks": ""
             }
            },
            "type": "scattergeo"
           }
          ],
          "scattergl": [
           {
            "marker": {
             "colorbar": {
              "outlinewidth": 0,
              "ticks": ""
             }
            },
            "type": "scattergl"
           }
          ],
          "scattermap": [
           {
            "marker": {
             "colorbar": {
              "outlinewidth": 0,
              "ticks": ""
             }
            },
            "type": "scattermap"
           }
          ],
          "scattermapbox": [
           {
            "marker": {
             "colorbar": {
              "outlinewidth": 0,
              "ticks": ""
             }
            },
            "type": "scattermapbox"
           }
          ],
          "scatterpolar": [
           {
            "marker": {
             "colorbar": {
              "outlinewidth": 0,
              "ticks": ""
             }
            },
            "type": "scatterpolar"
           }
          ],
          "scatterpolargl": [
           {
            "marker": {
             "colorbar": {
              "outlinewidth": 0,
              "ticks": ""
             }
            },
            "type": "scatterpolargl"
           }
          ],
          "scatterternary": [
           {
            "marker": {
             "colorbar": {
              "outlinewidth": 0,
              "ticks": ""
             }
            },
            "type": "scatterternary"
           }
          ],
          "surface": [
           {
            "colorbar": {
             "outlinewidth": 0,
             "ticks": ""
            },
            "colorscale": [
             [
              0,
              "#0d0887"
             ],
             [
              0.1111111111111111,
              "#46039f"
             ],
             [
              0.2222222222222222,
              "#7201a8"
             ],
             [
              0.3333333333333333,
              "#9c179e"
             ],
             [
              0.4444444444444444,
              "#bd3786"
             ],
             [
              0.5555555555555556,
              "#d8576b"
             ],
             [
              0.6666666666666666,
              "#ed7953"
             ],
             [
              0.7777777777777778,
              "#fb9f3a"
             ],
             [
              0.8888888888888888,
              "#fdca26"
             ],
             [
              1,
              "#f0f921"
             ]
            ],
            "type": "surface"
           }
          ],
          "table": [
           {
            "cells": {
             "fill": {
              "color": "#EBF0F8"
             },
             "line": {
              "color": "white"
             }
            },
            "header": {
             "fill": {
              "color": "#C8D4E3"
             },
             "line": {
              "color": "white"
             }
            },
            "type": "table"
           }
          ]
         },
         "layout": {
          "annotationdefaults": {
           "arrowcolor": "#2a3f5f",
           "arrowhead": 0,
           "arrowwidth": 1
          },
          "autotypenumbers": "strict",
          "coloraxis": {
           "colorbar": {
            "outlinewidth": 0,
            "ticks": ""
           }
          },
          "colorscale": {
           "diverging": [
            [
             0,
             "#8e0152"
            ],
            [
             0.1,
             "#c51b7d"
            ],
            [
             0.2,
             "#de77ae"
            ],
            [
             0.3,
             "#f1b6da"
            ],
            [
             0.4,
             "#fde0ef"
            ],
            [
             0.5,
             "#f7f7f7"
            ],
            [
             0.6,
             "#e6f5d0"
            ],
            [
             0.7,
             "#b8e186"
            ],
            [
             0.8,
             "#7fbc41"
            ],
            [
             0.9,
             "#4d9221"
            ],
            [
             1,
             "#276419"
            ]
           ],
           "sequential": [
            [
             0,
             "#0d0887"
            ],
            [
             0.1111111111111111,
             "#46039f"
            ],
            [
             0.2222222222222222,
             "#7201a8"
            ],
            [
             0.3333333333333333,
             "#9c179e"
            ],
            [
             0.4444444444444444,
             "#bd3786"
            ],
            [
             0.5555555555555556,
             "#d8576b"
            ],
            [
             0.6666666666666666,
             "#ed7953"
            ],
            [
             0.7777777777777778,
             "#fb9f3a"
            ],
            [
             0.8888888888888888,
             "#fdca26"
            ],
            [
             1,
             "#f0f921"
            ]
           ],
           "sequentialminus": [
            [
             0,
             "#0d0887"
            ],
            [
             0.1111111111111111,
             "#46039f"
            ],
            [
             0.2222222222222222,
             "#7201a8"
            ],
            [
             0.3333333333333333,
             "#9c179e"
            ],
            [
             0.4444444444444444,
             "#bd3786"
            ],
            [
             0.5555555555555556,
             "#d8576b"
            ],
            [
             0.6666666666666666,
             "#ed7953"
            ],
            [
             0.7777777777777778,
             "#fb9f3a"
            ],
            [
             0.8888888888888888,
             "#fdca26"
            ],
            [
             1,
             "#f0f921"
            ]
           ]
          },
          "colorway": [
           "#636efa",
           "#EF553B",
           "#00cc96",
           "#ab63fa",
           "#FFA15A",
           "#19d3f3",
           "#FF6692",
           "#B6E880",
           "#FF97FF",
           "#FECB52"
          ],
          "font": {
           "color": "#2a3f5f"
          },
          "geo": {
           "bgcolor": "white",
           "lakecolor": "white",
           "landcolor": "#E5ECF6",
           "showlakes": true,
           "showland": true,
           "subunitcolor": "white"
          },
          "hoverlabel": {
           "align": "left"
          },
          "hovermode": "closest",
          "mapbox": {
           "style": "light"
          },
          "paper_bgcolor": "white",
          "plot_bgcolor": "#E5ECF6",
          "polar": {
           "angularaxis": {
            "gridcolor": "white",
            "linecolor": "white",
            "ticks": ""
           },
           "bgcolor": "#E5ECF6",
           "radialaxis": {
            "gridcolor": "white",
            "linecolor": "white",
            "ticks": ""
           }
          },
          "scene": {
           "xaxis": {
            "backgroundcolor": "#E5ECF6",
            "gridcolor": "white",
            "gridwidth": 2,
            "linecolor": "white",
            "showbackground": true,
            "ticks": "",
            "zerolinecolor": "white"
           },
           "yaxis": {
            "backgroundcolor": "#E5ECF6",
            "gridcolor": "white",
            "gridwidth": 2,
            "linecolor": "white",
            "showbackground": true,
            "ticks": "",
            "zerolinecolor": "white"
           },
           "zaxis": {
            "backgroundcolor": "#E5ECF6",
            "gridcolor": "white",
            "gridwidth": 2,
            "linecolor": "white",
            "showbackground": true,
            "ticks": "",
            "zerolinecolor": "white"
           }
          },
          "shapedefaults": {
           "line": {
            "color": "#2a3f5f"
           }
          },
          "ternary": {
           "aaxis": {
            "gridcolor": "white",
            "linecolor": "white",
            "ticks": ""
           },
           "baxis": {
            "gridcolor": "white",
            "linecolor": "white",
            "ticks": ""
           },
           "bgcolor": "#E5ECF6",
           "caxis": {
            "gridcolor": "white",
            "linecolor": "white",
            "ticks": ""
           }
          },
          "title": {
           "x": 0.05
          },
          "xaxis": {
           "automargin": true,
           "gridcolor": "white",
           "linecolor": "white",
           "ticks": "",
           "title": {
            "standoff": 15
           },
           "zerolinecolor": "white",
           "zerolinewidth": 2
          },
          "yaxis": {
           "automargin": true,
           "gridcolor": "white",
           "linecolor": "white",
           "ticks": "",
           "title": {
            "standoff": 15
           },
           "zerolinecolor": "white",
           "zerolinewidth": 2
          }
         }
        },
        "title": {
         "text": "cophenetic corr across normalized layers (↑)"
        },
        "xaxis": {
         "range": [
          0,
          1
         ],
         "title": {
          "text": "Normalized layer (0 → 1)"
         }
        },
        "yaxis": {
         "title": {
          "text": "cophenetic corr"
         }
        }
       }
      }
     },
     "metadata": {},
     "output_type": "display_data"
    }
   ],
   "source": [
    "import json\n",
    "import re\n",
    "from pathlib import Path\n",
    "import pandas as pd\n",
    "import plotly.graph_objects as go\n",
    "\n",
    "# ===== パス設定 =====\n",
    "BASE_PATH = Path(\"/home/masaki/hierarchical-repr/EntityTree/output/eval_tree\")\n",
    "\n",
    "# ===== 色指定 =====\n",
    "COLORS = {\n",
    "    \"gpt2\": \"#d62728\",                                   # 赤\n",
    "    \"meta-llama/Meta-Llama-3-8B\": \"#1f77b4\",             # 青\n",
    "    \"random_emb\": \"#555555\",                              # 黒寄りグレー\n",
    "    \"fasttext\": \"#ff7f0e\",                                # オレンジ\n",
    "    \"gold_binary_balanced\": \"#2ca02c\",                    # 緑\n",
    "}\n",
    "\n",
    "BASELINE_LINE_WIDTH = 3.5\n",
    "\n",
    "TEMPLATE_FILTER = \"entity_only\"  # entity_only のみを対象\n",
    "\n",
    "# ===== ローダ =====\n",
    "def load_llama3_8b(base: Path) -> pd.DataFrame:\n",
    "    root = base / \"meta-llama\" / \"Meta-Llama-3-8B\" / \"template_entity_only\" / \"layer_all\"\n",
    "    rows = []\n",
    "    if root.exists():\n",
    "        for jf in sorted(root.glob(\"evaluation_results_L*.json\")):\n",
    "            with open(jf, \"r\") as f:\n",
    "                data = json.load(f)\n",
    "            m = re.search(r\"_L(\\d+)\\.json$\", jf.name)\n",
    "            layer = int(m.group(1)) if m else data.get(\"layer\")\n",
    "            rows.append({\n",
    "                \"model\": \"meta-llama/Meta-Llama-3-8B\",\n",
    "                \"layer\": layer,\n",
    "                \"jrf_k1\": data.get(\"jrf_k1\"),\n",
    "                \"jrf_k2\": data.get(\"jrf_k2\"),\n",
    "                \"gtd\": data.get(\"gtd\"),\n",
    "                \"gqd\": data.get(\"gqd\"),\n",
    "                \"cophenetic_corr\": data.get(\"cophenetic_corr\"),\n",
    "                \"template\": data.get(\"template\", \"entity_only\"),\n",
    "            })\n",
    "    return pd.DataFrame(rows)\n",
    "\n",
    "def pick_best_gpt2_model(dfs_by_model: dict[str, pd.DataFrame]) -> str | None:\n",
    "    if not dfs_by_model:\n",
    "        return None\n",
    "    if \"gpt2\" in dfs_by_model:\n",
    "        return \"gpt2\"\n",
    "    return max(dfs_by_model.keys(), key=lambda k: dfs_by_model[k][\"layer\"].max())\n",
    "\n",
    "def load_gpt2(base: Path) -> pd.DataFrame:\n",
    "    dfs_by_model = {}\n",
    "    for jf in base.rglob(\"evaluation_results_L*.json\"):\n",
    "        rel_parts = jf.relative_to(base).parts\n",
    "        if not any(p.startswith(\"gpt2\") for p in rel_parts):\n",
    "            continue\n",
    "        # template_entity_only に限定\n",
    "        if \"template_entity_only\" not in rel_parts:\n",
    "            try:\n",
    "                with open(jf, \"r\") as f:\n",
    "                    tmp = json.load(f)\n",
    "                if tmp.get(\"template\") != \"entity_only\":\n",
    "                    continue\n",
    "            except Exception:\n",
    "                continue\n",
    "\n",
    "        with open(jf, \"r\") as f:\n",
    "            data = json.load(f)\n",
    "\n",
    "        model = data.get(\"model\") or next((p for p in rel_parts if p.startswith(\"gpt2\")), \"gpt2\")\n",
    "        m = re.search(r\"_L(\\d+)\\.json$\", jf.name)\n",
    "        layer = int(m.group(1)) if m else data.get(\"layer\")\n",
    "\n",
    "        row = {\n",
    "            \"model\": model,\n",
    "            \"layer\": layer,\n",
    "            \"jrf_k1\": data.get(\"jrf_k1\"),\n",
    "            \"jrf_k2\": data.get(\"jrf_k2\"),\n",
    "            \"gtd\": data.get(\"gtd\"),\n",
    "            \"gqd\": data.get(\"gqd\"),\n",
    "            \"cophenetic_corr\": data.get(\"cophenetic_corr\"),\n",
    "            \"template\": data.get(\"template\", \"entity_only\"),\n",
    "        }\n",
    "        dfs_by_model.setdefault(model, []).append(row)\n",
    "\n",
    "    for k in list(dfs_by_model.keys()):\n",
    "        dfs_by_model[k] = pd.DataFrame(dfs_by_model[k])\n",
    "    best = pick_best_gpt2_model(dfs_by_model)\n",
    "    return dfs_by_model.get(best, pd.DataFrame())\n",
    "\n",
    "def infer_model_from_parts(parts: tuple[str, ...]) -> str | None:\n",
    "    p = \"/\".join(parts)\n",
    "    if \"random_emb\" in p:\n",
    "        return \"random_emb\"\n",
    "    if \"fasttext\" in p:\n",
    "        return \"fasttext\"\n",
    "    if \"gold_binary_balanced\" in p:\n",
    "        return \"gold_binary_balanced\"\n",
    "    return None\n",
    "\n",
    "def load_singleton_models(base: Path) -> pd.DataFrame:\n",
    "    \"\"\"\n",
    "    random_emb / fasttext / gold_binary_balanced は evaluation_results_L0.json のみ採用。\n",
    "    template は entity_only のみ。\n",
    "    \"\"\"\n",
    "    rows = []\n",
    "    for jf in base.rglob(\"evaluation_results_L0.json\"):\n",
    "        rel = jf.relative_to(base)\n",
    "        parts = rel.parts[:-1]\n",
    "        model_guess = infer_model_from_parts(parts)\n",
    "        if model_guess is None:\n",
    "            continue\n",
    "        try:\n",
    "            with open(jf, \"r\") as f:\n",
    "                data = json.load(f)\n",
    "        except Exception:\n",
    "            continue\n",
    "        template = data.get(\"template\") or next((p.replace(\"template_\", \"\", 1) for p in parts if p.startswith(\"template_\")), None)\n",
    "        if template != \"entity_only\":\n",
    "            continue\n",
    "        rows.append({\n",
    "            \"model\": data.get(\"model\", model_guess),\n",
    "            \"layer\": 0,\n",
    "            \"jrf_k1\": data.get(\"jrf_k1\"),\n",
    "            \"jrf_k2\": data.get(\"jrf_k2\"),\n",
    "            \"gtd\": data.get(\"gtd\"),\n",
    "            \"gqd\": data.get(\"gqd\"),\n",
    "            \"cophenetic_corr\": data.get(\"cophenetic_corr\"),\n",
    "            \"template\": \"entity_only\",\n",
    "        })\n",
    "    return pd.DataFrame(rows)\n",
    "\n",
    "# ===== データ準備 =====\n",
    "df_llama = load_llama3_8b(BASE_PATH)\n",
    "df_gpt2  = load_gpt2(BASE_PATH)\n",
    "df_single = load_singleton_models(BASE_PATH)   # random_emb / fasttext / gold_binary_balanced（L0のみ）\n",
    "\n",
    "# main 2モデル\n",
    "frames = [df for df in [df_gpt2, df_llama] if not df.empty]\n",
    "if not frames:\n",
    "    raise RuntimeError(\"gpt2 / Llama-3-8B のデータが見つかりません。パスやファイルを確認してください。\")\n",
    "df = pd.concat(frames, ignore_index=True)\n",
    "\n",
    "# 数値化\n",
    "for c in [\"layer\", \"jrf_k1\", \"jrf_k2\", \"gtd\", \"gqd\", \"cophenetic_corr\"]:\n",
    "    if c in df.columns:\n",
    "        df[c] = pd.to_numeric(df[c], errors=\"coerce\")\n",
    "if not df_single.empty:\n",
    "    for c in [\"jrf_k1\", \"jrf_k2\", \"gtd\", \"gqd\", \"cophenetic_corr\"]:\n",
    "        if c in df_single.columns:\n",
    "            df_single[c] = pd.to_numeric(df_single[c], errors=\"coerce\")\n",
    "\n",
    "# entity_only のみ\n",
    "df = df[df[\"template\"] == \"entity_only\"].copy()\n",
    "if not df_single.empty:\n",
    "    df_single = df_single[df_single[\"template\"] == \"entity_only\"].copy()\n",
    "\n",
    "# normalized layer（0層→0.0、最終層→1.0）\n",
    "df[\"normalized_layer\"] = df.groupby(\"model\")[\"layer\"].transform(\n",
    "    lambda s: s / s.max() if s.max() and s.max() > 0 else 0\n",
    ")\n",
    "\n",
    "# 表示名\n",
    "def to_disp(name: str) -> str:\n",
    "    if name == \"meta-llama/Meta-Llama-3-8B\":\n",
    "        return \"Llama-3-8B\"\n",
    "    if name == \"gpt2\":\n",
    "        return \"gpt2\"\n",
    "    if name == \"random_emb\":\n",
    "        return \"random_emb (dim=4096)\"\n",
    "    if name == \"gold_binary_balanced\":\n",
    "        return \"Reference (Gold binary-balanced)\"\n",
    "    return name\n",
    "\n",
    "df[\"model_disp\"] = df[\"model\"].map(to_disp)\n",
    "if not df_single.empty:\n",
    "    df_single[\"model_disp\"] = df_single[\"model\"].map(to_disp)\n",
    "\n",
    "# ===== 図ユーティリティ =====\n",
    "METRIC_INFO = {\n",
    "    \"jrf_k1\": (\"JRF(k=1)\", \"↓\"),\n",
    "    \"gtd\": (\"Generalized Triplet Distance\", \"↓\"),\n",
    "    \"gqd\": (\"Generalized Quartet Distance\", \"↓\"),\n",
    "    \"cophenetic_corr\": (\"cophenetic corr\", \"↑\"),\n",
    "}\n",
    "\n",
    "def get_singleton_value(df_singleton: pd.DataFrame, metric_key: str, raw_name: str):\n",
    "    if df_singleton.empty or metric_key not in df_singleton.columns:\n",
    "        return None\n",
    "    val = df_singleton.loc[df_singleton[\"model\"] == raw_name, metric_key]\n",
    "    if val.empty:\n",
    "        return None\n",
    "    return float(val.astype(float).mean())\n",
    "\n",
    "def plot_metric(df_metric: pd.DataFrame, metric_key: str, df_singleton: pd.DataFrame):\n",
    "    label, arrow = METRIC_INFO[metric_key]\n",
    "    g = df_metric.dropna(subset=[metric_key, \"normalized_layer\"])\n",
    "    if g.empty:\n",
    "        print(f\"[warn] {metric_key} のデータが空です。スキップします。\")\n",
    "        return None\n",
    "\n",
    "    fig = go.Figure()\n",
    "\n",
    "    # main：gpt2 / Llama-3-8B\n",
    "    for model_name, sub in g.sort_values([\"model\", \"layer\"]).groupby(\"model\"):\n",
    "        md = sub.iloc[0][\"model_disp\"]\n",
    "        color = COLORS.get(model_name)\n",
    "        fig.add_trace(\n",
    "            go.Scatter(\n",
    "                x=sub[\"normalized_layer\"],\n",
    "                y=sub[metric_key],\n",
    "                mode=\"lines+markers\",\n",
    "                name=md,\n",
    "                line=dict(color=color),\n",
    "                marker=dict(color=color),\n",
    "                hovertemplate=\"Layer(norm)=%{x:.2f}<br>\"\n",
    "                              f\"{label}=%{{y:.2f}}<extra>{md}</extra>\",\n",
    "            )\n",
    "        )\n",
    "\n",
    "    # 点線の水平線：random_emb / fasttext / Reference (Gold binary-balanced)\n",
    "    for raw_name in [\"random_emb\", \"fasttext\", \"gold_binary_balanced\"]:\n",
    "        yv = get_singleton_value(df_singleton, metric_key, raw_name)\n",
    "        if yv is None:\n",
    "            continue\n",
    "        color = COLORS.get(raw_name)\n",
    "        disp_name = to_disp(raw_name)\n",
    "        fig.add_trace(\n",
    "            go.Scatter(\n",
    "                x=[0.0, 1.0],\n",
    "                y=[yv, yv],\n",
    "                mode=\"lines\",\n",
    "                name=disp_name,\n",
    "                line=dict(dash=\"dot\", color=color, width=BASELINE_LINE_WIDTH),  # ← 太さを指定\n",
    "                hovertemplate=f\"Layer(norm)=%{{x:.2f}}<br>{label}=%{{y:.2f}}<extra>{disp_name}</extra>\",\n",
    "            )\n",
    "        )\n",
    "\n",
    "    fig.update_layout(\n",
    "        title=f\"{label} across normalized layers ({arrow})\",\n",
    "        xaxis_title=\"Normalized layer (0 → 1)\",\n",
    "        yaxis_title=label,\n",
    "        legend_title=\"Model / Dotted refs\",\n",
    "    )\n",
    "    fig.update_xaxes(range=[0, 1])\n",
    "    return fig\n",
    "\n",
    "# ===== 4 指標をそれぞれ 1 図で可視化 =====\n",
    "fig_jrfk1 = plot_metric(df, \"jrf_k1\", df_single)\n",
    "fig_gtd   = plot_metric(df, \"gtd\", df_single)\n",
    "fig_gqd   = plot_metric(df, \"gqd\", df_single)\n",
    "fig_coph  = plot_metric(df, \"cophenetic_corr\", df_single)\n",
    "\n",
    "for f in [fig_jrfk1, fig_gtd, fig_gqd, fig_coph]:\n",
    "    if f is not None:\n",
    "        f.show()\n"
   ]
  },
  {
   "cell_type": "markdown",
   "id": "0aef9917",
   "metadata": {},
   "source": [
    "# Contextの違い"
   ]
  },
  {
   "cell_type": "code",
   "execution_count": 22,
   "id": "2acfbcfc",
   "metadata": {},
   "outputs": [],
   "source": [
    "# ==== Llama-3-8B 固定：templateごとの比較（ハードコード版） ====\n",
    "\n",
    "TEMPLATE_LIST = [\n",
    "    \"entity_only\",\n",
    "    \"gift\",\n",
    "    \"occupation_question\",\n",
    "    \"occupation_simple\",\n",
    "    \"profession_query\",\n",
    "    \"professional_intro\",\n",
    "]\n",
    "\n",
    "def load_llama8b_template_metrics_fixed(base_path: str, layer: int, include_src_path: bool=False) -> pd.DataFrame:\n",
    "    base = Path(base_path)\n",
    "    rows = []\n",
    "    for tmpl in TEMPLATE_LIST:\n",
    "        jf = base / \"meta-llama\" / \"Meta-Llama-3-8B\" / f\"template_{tmpl}\" / \"layer_all\" / f\"evaluation_results_L{layer}.json\"\n",
    "        if not jf.exists():\n",
    "            # 必要なら print で欠損を知らせる\n",
    "            # print(f\"[missing] {jf}\")\n",
    "            continue\n",
    "        try:\n",
    "            with open(jf, \"r\") as f:\n",
    "                data = json.load(f)\n",
    "        except Exception as e:\n",
    "            print(f\"Error loading {jf}: {e}\")\n",
    "            continue\n",
    "\n",
    "        # JSONのtemplateは信用せず、パスから上書き\n",
    "        row = {\n",
    "            \"model\": \"meta-llama/Meta-Llama-3-8B\",\n",
    "            \"layer\": int(layer),\n",
    "            \"template\": tmpl,\n",
    "            \"jrf_k1\": data.get(\"jrf_k1\"),\n",
    "            \"jrf_k2\": data.get(\"jrf_k2\"),\n",
    "            \"gtd\": data.get(\"gtd\"),\n",
    "            \"gqd\": data.get(\"gqd\"),\n",
    "            \"cophenetic_corr\": data.get(\"cophenetic_corr\"),\n",
    "        }\n",
    "        if include_src_path:\n",
    "            row[\"src_path\"] = str(jf)\n",
    "        rows.append(row)\n",
    "\n",
    "    df = pd.DataFrame(rows)\n",
    "    if df.empty:\n",
    "        print(\"No rows matched. ファイルが存在するか / layer 番号を確認してください。\")\n",
    "        return df\n",
    "\n",
    "    # 数値化\n",
    "    to_numeric_inplace(df, [\"jrf_k1\", \"jrf_k2\", \"gtd\", \"gqd\", \"cophenetic_corr\"])\n",
    "\n",
    "    # 表示順は TEMPLATE_LIST の順\n",
    "    df[\"template\"] = pd.Categorical(df[\"template\"], categories=TEMPLATE_LIST, ordered=True)\n",
    "    df = df.sort_values([\"template\"], kind=\"mergesort\")\n",
    "\n",
    "    # 列名リネーム（矢印付き）\n",
    "    rename = {\n",
    "        \"jrf_k1\": \"jrf_k1(↓)\",\n",
    "        \"jrf_k2\": \"jrf_k2(↓)\",\n",
    "        \"gtd\": \"Generalized Triplet Distance (↓)\",\n",
    "        \"gqd\": \"Generalized Quartet Distance (↓)\",\n",
    "        \"cophenetic_corr\": \"cophenetic corr (↑)\",\n",
    "    }\n",
    "    df = df.rename(columns=rename)\n",
    "\n",
    "    display_cols = [\"model\", \"layer\", \"template\",\n",
    "                    \"jrf_k1(↓)\", \"jrf_k2(↓)\",\n",
    "                    \"Generalized Triplet Distance (↓)\",\n",
    "                    \"Generalized Quartet Distance (↓)\",\n",
    "                    \"cophenetic corr (↑)\"]\n",
    "    if include_src_path:\n",
    "        display_cols.append(\"src_path\")\n",
    "\n",
    "    # 必要なら丸める（例：小数第3位）\n",
    "    num_cols = [c for c in [\"jrf_k1(↓)\",\"jrf_k2(↓)\",\"Generalized Triplet Distance (↓)\",\"Generalized Quartet Distance (↓)\",\"cophenetic corr (↑)\"] if c in df.columns]\n",
    "    df[num_cols] = df[num_cols].round(2)\n",
    "\n",
    "    return df[display_cols]\n"
   ]
  },
  {
   "cell_type": "code",
   "execution_count": 30,
   "id": "52a6c670",
   "metadata": {},
   "outputs": [
    {
     "data": {
      "text/html": [
       "<div>\n",
       "<style scoped>\n",
       "    .dataframe tbody tr th:only-of-type {\n",
       "        vertical-align: middle;\n",
       "    }\n",
       "\n",
       "    .dataframe tbody tr th {\n",
       "        vertical-align: top;\n",
       "    }\n",
       "\n",
       "    .dataframe thead th {\n",
       "        text-align: right;\n",
       "    }\n",
       "</style>\n",
       "<table border=\"1\" class=\"dataframe\">\n",
       "  <thead>\n",
       "    <tr style=\"text-align: right;\">\n",
       "      <th></th>\n",
       "      <th>model</th>\n",
       "      <th>layer</th>\n",
       "      <th>template</th>\n",
       "      <th>jrf_k1(↓)</th>\n",
       "      <th>jrf_k2(↓)</th>\n",
       "      <th>Generalized Triplet Distance (↓)</th>\n",
       "      <th>Generalized Quartet Distance (↓)</th>\n",
       "      <th>cophenetic corr (↑)</th>\n",
       "      <th>src_path</th>\n",
       "    </tr>\n",
       "  </thead>\n",
       "  <tbody>\n",
       "    <tr>\n",
       "      <th>0</th>\n",
       "      <td>meta-llama/Meta-Llama-3-8B</td>\n",
       "      <td>10</td>\n",
       "      <td>entity_only</td>\n",
       "      <td>86.77</td>\n",
       "      <td>88.93</td>\n",
       "      <td>0.42</td>\n",
       "      <td>0.30</td>\n",
       "      <td>0.19</td>\n",
       "      <td>/home/masaki/hierarchical-repr/EntityTree/output/eval_tree/meta-llama/Meta-Llama-3-8B/template_entity_only/layer_all/evaluation_results_L10.json</td>\n",
       "    </tr>\n",
       "    <tr>\n",
       "      <th>1</th>\n",
       "      <td>meta-llama/Meta-Llama-3-8B</td>\n",
       "      <td>10</td>\n",
       "      <td>gift</td>\n",
       "      <td>88.24</td>\n",
       "      <td>90.80</td>\n",
       "      <td>0.50</td>\n",
       "      <td>0.44</td>\n",
       "      <td>0.14</td>\n",
       "      <td>/home/masaki/hierarchical-repr/EntityTree/output/eval_tree/meta-llama/Meta-Llama-3-8B/template_gift/layer_all/evaluation_results_L10.json</td>\n",
       "    </tr>\n",
       "    <tr>\n",
       "      <th>2</th>\n",
       "      <td>meta-llama/Meta-Llama-3-8B</td>\n",
       "      <td>10</td>\n",
       "      <td>occupation_question</td>\n",
       "      <td>88.48</td>\n",
       "      <td>91.16</td>\n",
       "      <td>0.47</td>\n",
       "      <td>0.42</td>\n",
       "      <td>0.13</td>\n",
       "      <td>/home/masaki/hierarchical-repr/EntityTree/output/eval_tree/meta-llama/Meta-Llama-3-8B/template_occupation_question/layer_all/evaluation_results_L10.json</td>\n",
       "    </tr>\n",
       "    <tr>\n",
       "      <th>3</th>\n",
       "      <td>meta-llama/Meta-Llama-3-8B</td>\n",
       "      <td>10</td>\n",
       "      <td>occupation_simple</td>\n",
       "      <td>88.56</td>\n",
       "      <td>91.27</td>\n",
       "      <td>0.52</td>\n",
       "      <td>0.45</td>\n",
       "      <td>0.11</td>\n",
       "      <td>/home/masaki/hierarchical-repr/EntityTree/output/eval_tree/meta-llama/Meta-Llama-3-8B/template_occupation_simple/layer_all/evaluation_results_L10.json</td>\n",
       "    </tr>\n",
       "    <tr>\n",
       "      <th>4</th>\n",
       "      <td>meta-llama/Meta-Llama-3-8B</td>\n",
       "      <td>10</td>\n",
       "      <td>profession_query</td>\n",
       "      <td>88.17</td>\n",
       "      <td>90.95</td>\n",
       "      <td>0.48</td>\n",
       "      <td>0.43</td>\n",
       "      <td>0.12</td>\n",
       "      <td>/home/masaki/hierarchical-repr/EntityTree/output/eval_tree/meta-llama/Meta-Llama-3-8B/template_profession_query/layer_all/evaluation_results_L10.json</td>\n",
       "    </tr>\n",
       "    <tr>\n",
       "      <th>5</th>\n",
       "      <td>meta-llama/Meta-Llama-3-8B</td>\n",
       "      <td>10</td>\n",
       "      <td>professional_intro</td>\n",
       "      <td>88.58</td>\n",
       "      <td>91.36</td>\n",
       "      <td>0.50</td>\n",
       "      <td>0.45</td>\n",
       "      <td>0.11</td>\n",
       "      <td>/home/masaki/hierarchical-repr/EntityTree/output/eval_tree/meta-llama/Meta-Llama-3-8B/template_professional_intro/layer_all/evaluation_results_L10.json</td>\n",
       "    </tr>\n",
       "  </tbody>\n",
       "</table>\n",
       "</div>"
      ],
      "text/plain": [
       "                        model  layer             template  jrf_k1(↓)  \\\n",
       "0  meta-llama/Meta-Llama-3-8B     10          entity_only      86.77   \n",
       "1  meta-llama/Meta-Llama-3-8B     10                 gift      88.24   \n",
       "2  meta-llama/Meta-Llama-3-8B     10  occupation_question      88.48   \n",
       "3  meta-llama/Meta-Llama-3-8B     10    occupation_simple      88.56   \n",
       "4  meta-llama/Meta-Llama-3-8B     10     profession_query      88.17   \n",
       "5  meta-llama/Meta-Llama-3-8B     10   professional_intro      88.58   \n",
       "\n",
       "   jrf_k2(↓)  Generalized Triplet Distance (↓)  \\\n",
       "0      88.93                              0.42   \n",
       "1      90.80                              0.50   \n",
       "2      91.16                              0.47   \n",
       "3      91.27                              0.52   \n",
       "4      90.95                              0.48   \n",
       "5      91.36                              0.50   \n",
       "\n",
       "   Generalized Quartet Distance (↓)  cophenetic corr (↑)  \\\n",
       "0                              0.30                 0.19   \n",
       "1                              0.44                 0.14   \n",
       "2                              0.42                 0.13   \n",
       "3                              0.45                 0.11   \n",
       "4                              0.43                 0.12   \n",
       "5                              0.45                 0.11   \n",
       "\n",
       "                                                                                                                                                   src_path  \n",
       "0          /home/masaki/hierarchical-repr/EntityTree/output/eval_tree/meta-llama/Meta-Llama-3-8B/template_entity_only/layer_all/evaluation_results_L10.json  \n",
       "1                 /home/masaki/hierarchical-repr/EntityTree/output/eval_tree/meta-llama/Meta-Llama-3-8B/template_gift/layer_all/evaluation_results_L10.json  \n",
       "2  /home/masaki/hierarchical-repr/EntityTree/output/eval_tree/meta-llama/Meta-Llama-3-8B/template_occupation_question/layer_all/evaluation_results_L10.json  \n",
       "3    /home/masaki/hierarchical-repr/EntityTree/output/eval_tree/meta-llama/Meta-Llama-3-8B/template_occupation_simple/layer_all/evaluation_results_L10.json  \n",
       "4     /home/masaki/hierarchical-repr/EntityTree/output/eval_tree/meta-llama/Meta-Llama-3-8B/template_profession_query/layer_all/evaluation_results_L10.json  \n",
       "5   /home/masaki/hierarchical-repr/EntityTree/output/eval_tree/meta-llama/Meta-Llama-3-8B/template_professional_intro/layer_all/evaluation_results_L10.json  "
      ]
     },
     "metadata": {},
     "output_type": "display_data"
    }
   ],
   "source": [
    "BASE_PATH = \"/home/masaki/hierarchical-repr/EntityTree/output/eval_tree\"\n",
    "layer = 10\n",
    "\n",
    "df_templates = load_llama8b_template_metrics_fixed(BASE_PATH, layer=layer, include_src_path=True)\n",
    "display(df_templates)\n"
   ]
  },
  {
   "cell_type": "code",
   "execution_count": 34,
   "id": "dbaa0cf3",
   "metadata": {},
   "outputs": [
    {
     "data": {
      "application/vnd.plotly.v1+json": {
       "config": {
        "plotlyServerURL": "https://plot.ly"
       },
       "data": [
        {
         "hovertemplate": "Layer(norm)=%{x:.2f}<br>JRF(k=1)=%{y:.2f}<extra>entity_only</extra>",
         "mode": "lines+markers",
         "name": "entity_only",
         "type": "scatter",
         "x": {
          "bdata": "AAAAAAAAAAAAAAAAAACgPwAAAAAAALA/AAAAAAAAuD8AAAAAAADAPwAAAAAAAMQ/AAAAAAAAyD8AAAAAAADMPwAAAAAAANA/AAAAAAAA0j8AAAAAAADUPwAAAAAAANY/AAAAAAAA2D8AAAAAAADaPwAAAAAAANw/AAAAAAAA3j8AAAAAAADgPwAAAAAAAOE/AAAAAAAA4j8AAAAAAADjPwAAAAAAAOQ/AAAAAAAA5T8AAAAAAADmPwAAAAAAAOc/AAAAAAAA6D8AAAAAAADpPwAAAAAAAOo/AAAAAAAA6z8AAAAAAADsPwAAAAAAAO0/AAAAAAAA7j8AAAAAAADvPwAAAAAAAPA/",
          "dtype": "f8"
         },
         "y": {
          "bdata": "LVekC9OjVkAGCKB1kbJWQPCOmBc+mlZArKewnsKaVkDI1MDeMVVWQL4cYNnmG1ZAXL7lW771VUCtxEqsxNpVQEqSJEmS9FVA5DiO4zjeVUAZhmEYhrFVQGdmZmZm5lVAtmALtmDLVUDbrM3arP1VQMMwDMMwzFVAyYu8yIv8VUAl8c51TyJWQIp5O0Ni/lVAMW9nSMwzVkCjiy666BJWQFDrVwrUGlZAuPZ4dH3bVUBtsskmmwxWQALIPFMm8FVAXL7lW771VUDajYCUdvNVQM/zPM/z/FVAz/M8z/PsVUDP8zzP8+xVQM/zPM/z7FVAz/M8z/PsVUDP8zzP8+xVQDmO4ziO41VA",
          "dtype": "f8"
         }
        },
        {
         "hovertemplate": "Layer(norm)=%{x:.2f}<br>JRF(k=1)=%{y:.2f}<extra>gift</extra>",
         "mode": "lines+markers",
         "name": "gift",
         "type": "scatter",
         "x": {
          "bdata": "AAAAAAAAAAAAAAAAAACgPwAAAAAAALA/AAAAAAAAuD8AAAAAAADAPwAAAAAAAMQ/AAAAAAAAyD8AAAAAAADMPwAAAAAAANA/AAAAAAAA0j8AAAAAAADUPwAAAAAAANY/AAAAAAAA2D8AAAAAAADaPwAAAAAAANw/AAAAAAAA3j8AAAAAAADgPwAAAAAAAOE/AAAAAAAA4j8AAAAAAADjPwAAAAAAAOQ/AAAAAAAA5T8AAAAAAADmPwAAAAAAAOc/AAAAAAAA6D8AAAAAAADpPwAAAAAAAOo/AAAAAAAA6z8AAAAAAADsPwAAAAAAAO0/AAAAAAAA7j8AAAAAAADvPwAAAAAAAPA/",
          "dtype": "f8"
         },
         "y": {
          "bdata": "lABFe52YVkBqoA/opKpWQAirpISbhlZAXt//B4qqVkChKgfnQVRWQBD/8A//YFZADLZgC7ZQVkDe3d3d3f1VQAAAAAAA0FVAFo0EfPMKVkD6pE/6pA9WQIz4FRDeFFZAuTK3odVSVkDv7u7u7i5WQHIcx3Ec91VAsAVbsAUrVkCKndiJnUhWQKKTj/GcUVZARDd0Qzd0VkC5XBEtLmdWQAVO4AROQFZARDZkQzY0VkCIcyPj4VxWQED2Yz/2Y1ZAS1P8kghZVkCyySabbEJWQFZVVVVVNVZAAAAAAAAgVkCXvwIedSJWQA+mn2RtB1ZAjuM4juPoVUDkOI7jOP5VQDYyv9EQ9FVA",
          "dtype": "f8"
         }
        },
        {
         "hovertemplate": "Layer(norm)=%{x:.2f}<br>JRF(k=1)=%{y:.2f}<extra>occupation_question</extra>",
         "mode": "lines+markers",
         "name": "occupation_question",
         "type": "scatter",
         "x": {
          "bdata": "AAAAAAAAAAAAAAAAAACgPwAAAAAAALA/AAAAAAAAuD8AAAAAAADAPwAAAAAAAMQ/AAAAAAAAyD8AAAAAAADMPwAAAAAAANA/AAAAAAAA0j8AAAAAAADUPwAAAAAAANY/AAAAAAAA2D8AAAAAAADaPwAAAAAAANw/AAAAAAAA3j8AAAAAAADgPwAAAAAAAOE/AAAAAAAA4j8AAAAAAADjPwAAAAAAAOQ/AAAAAAAA5T8AAAAAAADmPwAAAAAAAOc/AAAAAAAA6D8AAAAAAADpPwAAAAAAAOo/AAAAAAAA6z8AAAAAAADsPwAAAAAAAO0/AAAAAAAA7j8AAAAAAADvPwAAAAAAAPA/",
          "dtype": "f8"
         },
         "y": {
          "bdata": "lABFe52YVkAPPB8366RWQKj34jpFeVZA4tV/pHChVkBoAk7tg25WQAAAAAAASFZAAAAAAABAVkBVVVVVVTVWQLESK7ESO1ZAAAAAAAAgVkDqkz7pkx5WQGaEAPGyClZA1DRN0zQdVkCCThvotClWQIJOG+i0IVZA5DiO4zg+VkAIH3zwwXdWQMphhCOZnFZAJn/R32eUVkDw+77v+35WQDQ3+3QSWVZAU9gQPHtcVkBSEnq9i2JWQCIiIiIiUlZADCcEkDZSVkDentYMWT9WQGpg75gaOFZAd4bEvJ0JVkDV60i9jvRVQKrbAuPc0VVADm9QGba2VUBLkKcEecpVQJqZmZmZyVVA",
          "dtype": "f8"
         }
        },
        {
         "hovertemplate": "Layer(norm)=%{x:.2f}<br>JRF(k=1)=%{y:.2f}<extra>occupation_simple</extra>",
         "mode": "lines+markers",
         "name": "occupation_simple",
         "type": "scatter",
         "x": {
          "bdata": "AAAAAAAAAAAAAAAAAACgPwAAAAAAALA/AAAAAAAAuD8AAAAAAADAPwAAAAAAAMQ/AAAAAAAAyD8AAAAAAADMPwAAAAAAANA/AAAAAAAA0j8AAAAAAADUPwAAAAAAANY/AAAAAAAA2D8AAAAAAADaPwAAAAAAANw/AAAAAAAA3j8AAAAAAADgPwAAAAAAAOE/AAAAAAAA4j8AAAAAAADjPwAAAAAAAOQ/AAAAAAAA5T8AAAAAAADmPwAAAAAAAOc/AAAAAAAA6D8AAAAAAADpPwAAAAAAAOo/AAAAAAAA6z8AAAAAAADsPwAAAAAAAO0/AAAAAAAA7j8AAAAAAADvPwAAAAAAAPA/",
          "dtype": "f8"
         },
         "y": {
          "bdata": "lABFe52YVkBqoA/opKpWQJJr0GOxh1ZA9a/LDKCiVkBcPx3hwH1WQFVVVVVVhVZAjuM4juNYVkCym8huIjtWQBRD/eWISFZAjisnQhIEVkB+QEhn4yNWQI7jOI7jKFZAamDvmBo4VkDACZzACSxWQEREREREFFZA/UqBWr/yVUB7qId6qDdWQDmO4ziOQ1ZAZsHf6ZdcVkBIgzRIg1RWQC4RCtYicFZAQ5OaD2B3VkDCwi1eBXFWQHTKkiBfc1ZAMzMzMzNjVkCg0wY6bVBWQLQLiE2lUVZAz/M8z/NcVkBHkkByJGlWQN+aCR/hbFZA/hyiU2tYVkC2gQz8ClxWQMK0faEwTVZA",
          "dtype": "f8"
         }
        },
        {
         "hovertemplate": "Layer(norm)=%{x:.2f}<br>JRF(k=1)=%{y:.2f}<extra>profession_query</extra>",
         "mode": "lines+markers",
         "name": "profession_query",
         "type": "scatter",
         "x": {
          "bdata": "AAAAAAAAAAAAAAAAAACgPwAAAAAAALA/AAAAAAAAuD8AAAAAAADAPwAAAAAAAMQ/AAAAAAAAyD8AAAAAAADMPwAAAAAAANA/AAAAAAAA0j8AAAAAAADUPwAAAAAAANY/AAAAAAAA2D8AAAAAAADaPwAAAAAAANw/AAAAAAAA3j8AAAAAAADgPwAAAAAAAOE/AAAAAAAA4j8AAAAAAADjPwAAAAAAAOQ/AAAAAAAA5T8AAAAAAADmPwAAAAAAAOc/AAAAAAAA6D8AAAAAAADpPwAAAAAAAOo/AAAAAAAA6z8AAAAAAADsPwAAAAAAAO0/AAAAAAAA7j8AAAAAAADvPwAAAAAAAPA/",
          "dtype": "f8"
         },
         "y": {
          "bdata": "lABFe52YVkBOMoN24aRWQFRABVRAhVZABhZ+eQOfVkAUMZlUDFdWQCVJkiRJQlZAW7AFW7A1VkAAAAAAACBWQM3MzMzMDFZAd3d3d3cnVkCrqqqqqgpWQDTRRBNNBFZAVlVVVVX1VUD3EtpLaN9VQB7cwR3cAVZAC7ZgC7YwVkDsxE7sxB5WQCEVUiEVQlZAhHLiD6FcVkCF9RTWU1hWQOcNmzdsXlZA3t3d3d2NVkBbxeK/YZhWQJAy4xthjVZA8dJ/fAGKVkDUGDCNAYNWQCBN7C2DdFZA4q1jZ9p3VkBqZKJZHnhWQCD5XfE+ZVZAtJjOYjo7VkCQ4D6C++hVQDmO4ziOA1ZA",
          "dtype": "f8"
         }
        },
        {
         "hovertemplate": "Layer(norm)=%{x:.2f}<br>JRF(k=1)=%{y:.2f}<extra>professional_intro</extra>",
         "mode": "lines+markers",
         "name": "professional_intro",
         "type": "scatter",
         "x": {
          "bdata": "AAAAAAAAAAAAAAAAAACgPwAAAAAAALA/AAAAAAAAuD8AAAAAAADAPwAAAAAAAMQ/AAAAAAAAyD8AAAAAAADMPwAAAAAAANA/AAAAAAAA0j8AAAAAAADUPwAAAAAAANY/AAAAAAAA2D8AAAAAAADaPwAAAAAAANw/AAAAAAAA3j8AAAAAAADgPwAAAAAAAOE/AAAAAAAA4j8AAAAAAADjPwAAAAAAAOQ/AAAAAAAA5T8AAAAAAADmPwAAAAAAAOc/AAAAAAAA6D8AAAAAAADpPwAAAAAAAOo/AAAAAAAA6z8AAAAAAADsPwAAAAAAAO0/AAAAAAAA7j8AAAAAAADvPwAAAAAAAPA/",
          "dtype": "f8"
         },
         "y": {
          "bdata": "lABFe52YVkAWYAqUZKVWQGiYdYZZh1ZALsq0KNOiVkDqMVDJrV9WQLJOwpDKYVZAy+zjmzIrVkBeIJPiBRJWQDpf36QJKVZADV68/3gGVkBVVVVVVSVWQAzDMAzDMFZA/uqv/ur/VUAr5B5ftSNWQPqkT/qk/1VAf6VArV/pVUCqqqqqqjpWQJHixCzBKVZAGkuU5Y5VVkDsHVMDe3dWQLMoi7Ioe1ZAO5Tm9HxpVkDTEyyVXHdWQIfO48Pza1ZAKNh2ObReVkB/lvNnOT9WQCpBnhLkOVZAKkGeEuQZVkAiIiIiIvJVQAtxCGbc9VVAxBX4X/TsVUCpS4w3RdtVQAu2YAu2AFZA",
          "dtype": "f8"
         }
        }
       ],
       "layout": {
        "legend": {
         "title": {
          "text": "Template"
         }
        },
        "template": {
         "data": {
          "bar": [
           {
            "error_x": {
             "color": "#2a3f5f"
            },
            "error_y": {
             "color": "#2a3f5f"
            },
            "marker": {
             "line": {
              "color": "#E5ECF6",
              "width": 0.5
             },
             "pattern": {
              "fillmode": "overlay",
              "size": 10,
              "solidity": 0.2
             }
            },
            "type": "bar"
           }
          ],
          "barpolar": [
           {
            "marker": {
             "line": {
              "color": "#E5ECF6",
              "width": 0.5
             },
             "pattern": {
              "fillmode": "overlay",
              "size": 10,
              "solidity": 0.2
             }
            },
            "type": "barpolar"
           }
          ],
          "carpet": [
           {
            "aaxis": {
             "endlinecolor": "#2a3f5f",
             "gridcolor": "white",
             "linecolor": "white",
             "minorgridcolor": "white",
             "startlinecolor": "#2a3f5f"
            },
            "baxis": {
             "endlinecolor": "#2a3f5f",
             "gridcolor": "white",
             "linecolor": "white",
             "minorgridcolor": "white",
             "startlinecolor": "#2a3f5f"
            },
            "type": "carpet"
           }
          ],
          "choropleth": [
           {
            "colorbar": {
             "outlinewidth": 0,
             "ticks": ""
            },
            "type": "choropleth"
           }
          ],
          "contour": [
           {
            "colorbar": {
             "outlinewidth": 0,
             "ticks": ""
            },
            "colorscale": [
             [
              0,
              "#0d0887"
             ],
             [
              0.1111111111111111,
              "#46039f"
             ],
             [
              0.2222222222222222,
              "#7201a8"
             ],
             [
              0.3333333333333333,
              "#9c179e"
             ],
             [
              0.4444444444444444,
              "#bd3786"
             ],
             [
              0.5555555555555556,
              "#d8576b"
             ],
             [
              0.6666666666666666,
              "#ed7953"
             ],
             [
              0.7777777777777778,
              "#fb9f3a"
             ],
             [
              0.8888888888888888,
              "#fdca26"
             ],
             [
              1,
              "#f0f921"
             ]
            ],
            "type": "contour"
           }
          ],
          "contourcarpet": [
           {
            "colorbar": {
             "outlinewidth": 0,
             "ticks": ""
            },
            "type": "contourcarpet"
           }
          ],
          "heatmap": [
           {
            "colorbar": {
             "outlinewidth": 0,
             "ticks": ""
            },
            "colorscale": [
             [
              0,
              "#0d0887"
             ],
             [
              0.1111111111111111,
              "#46039f"
             ],
             [
              0.2222222222222222,
              "#7201a8"
             ],
             [
              0.3333333333333333,
              "#9c179e"
             ],
             [
              0.4444444444444444,
              "#bd3786"
             ],
             [
              0.5555555555555556,
              "#d8576b"
             ],
             [
              0.6666666666666666,
              "#ed7953"
             ],
             [
              0.7777777777777778,
              "#fb9f3a"
             ],
             [
              0.8888888888888888,
              "#fdca26"
             ],
             [
              1,
              "#f0f921"
             ]
            ],
            "type": "heatmap"
           }
          ],
          "histogram": [
           {
            "marker": {
             "pattern": {
              "fillmode": "overlay",
              "size": 10,
              "solidity": 0.2
             }
            },
            "type": "histogram"
           }
          ],
          "histogram2d": [
           {
            "colorbar": {
             "outlinewidth": 0,
             "ticks": ""
            },
            "colorscale": [
             [
              0,
              "#0d0887"
             ],
             [
              0.1111111111111111,
              "#46039f"
             ],
             [
              0.2222222222222222,
              "#7201a8"
             ],
             [
              0.3333333333333333,
              "#9c179e"
             ],
             [
              0.4444444444444444,
              "#bd3786"
             ],
             [
              0.5555555555555556,
              "#d8576b"
             ],
             [
              0.6666666666666666,
              "#ed7953"
             ],
             [
              0.7777777777777778,
              "#fb9f3a"
             ],
             [
              0.8888888888888888,
              "#fdca26"
             ],
             [
              1,
              "#f0f921"
             ]
            ],
            "type": "histogram2d"
           }
          ],
          "histogram2dcontour": [
           {
            "colorbar": {
             "outlinewidth": 0,
             "ticks": ""
            },
            "colorscale": [
             [
              0,
              "#0d0887"
             ],
             [
              0.1111111111111111,
              "#46039f"
             ],
             [
              0.2222222222222222,
              "#7201a8"
             ],
             [
              0.3333333333333333,
              "#9c179e"
             ],
             [
              0.4444444444444444,
              "#bd3786"
             ],
             [
              0.5555555555555556,
              "#d8576b"
             ],
             [
              0.6666666666666666,
              "#ed7953"
             ],
             [
              0.7777777777777778,
              "#fb9f3a"
             ],
             [
              0.8888888888888888,
              "#fdca26"
             ],
             [
              1,
              "#f0f921"
             ]
            ],
            "type": "histogram2dcontour"
           }
          ],
          "mesh3d": [
           {
            "colorbar": {
             "outlinewidth": 0,
             "ticks": ""
            },
            "type": "mesh3d"
           }
          ],
          "parcoords": [
           {
            "line": {
             "colorbar": {
              "outlinewidth": 0,
              "ticks": ""
             }
            },
            "type": "parcoords"
           }
          ],
          "pie": [
           {
            "automargin": true,
            "type": "pie"
           }
          ],
          "scatter": [
           {
            "fillpattern": {
             "fillmode": "overlay",
             "size": 10,
             "solidity": 0.2
            },
            "type": "scatter"
           }
          ],
          "scatter3d": [
           {
            "line": {
             "colorbar": {
              "outlinewidth": 0,
              "ticks": ""
             }
            },
            "marker": {
             "colorbar": {
              "outlinewidth": 0,
              "ticks": ""
             }
            },
            "type": "scatter3d"
           }
          ],
          "scattercarpet": [
           {
            "marker": {
             "colorbar": {
              "outlinewidth": 0,
              "ticks": ""
             }
            },
            "type": "scattercarpet"
           }
          ],
          "scattergeo": [
           {
            "marker": {
             "colorbar": {
              "outlinewidth": 0,
              "ticks": ""
             }
            },
            "type": "scattergeo"
           }
          ],
          "scattergl": [
           {
            "marker": {
             "colorbar": {
              "outlinewidth": 0,
              "ticks": ""
             }
            },
            "type": "scattergl"
           }
          ],
          "scattermap": [
           {
            "marker": {
             "colorbar": {
              "outlinewidth": 0,
              "ticks": ""
             }
            },
            "type": "scattermap"
           }
          ],
          "scattermapbox": [
           {
            "marker": {
             "colorbar": {
              "outlinewidth": 0,
              "ticks": ""
             }
            },
            "type": "scattermapbox"
           }
          ],
          "scatterpolar": [
           {
            "marker": {
             "colorbar": {
              "outlinewidth": 0,
              "ticks": ""
             }
            },
            "type": "scatterpolar"
           }
          ],
          "scatterpolargl": [
           {
            "marker": {
             "colorbar": {
              "outlinewidth": 0,
              "ticks": ""
             }
            },
            "type": "scatterpolargl"
           }
          ],
          "scatterternary": [
           {
            "marker": {
             "colorbar": {
              "outlinewidth": 0,
              "ticks": ""
             }
            },
            "type": "scatterternary"
           }
          ],
          "surface": [
           {
            "colorbar": {
             "outlinewidth": 0,
             "ticks": ""
            },
            "colorscale": [
             [
              0,
              "#0d0887"
             ],
             [
              0.1111111111111111,
              "#46039f"
             ],
             [
              0.2222222222222222,
              "#7201a8"
             ],
             [
              0.3333333333333333,
              "#9c179e"
             ],
             [
              0.4444444444444444,
              "#bd3786"
             ],
             [
              0.5555555555555556,
              "#d8576b"
             ],
             [
              0.6666666666666666,
              "#ed7953"
             ],
             [
              0.7777777777777778,
              "#fb9f3a"
             ],
             [
              0.8888888888888888,
              "#fdca26"
             ],
             [
              1,
              "#f0f921"
             ]
            ],
            "type": "surface"
           }
          ],
          "table": [
           {
            "cells": {
             "fill": {
              "color": "#EBF0F8"
             },
             "line": {
              "color": "white"
             }
            },
            "header": {
             "fill": {
              "color": "#C8D4E3"
             },
             "line": {
              "color": "white"
             }
            },
            "type": "table"
           }
          ]
         },
         "layout": {
          "annotationdefaults": {
           "arrowcolor": "#2a3f5f",
           "arrowhead": 0,
           "arrowwidth": 1
          },
          "autotypenumbers": "strict",
          "coloraxis": {
           "colorbar": {
            "outlinewidth": 0,
            "ticks": ""
           }
          },
          "colorscale": {
           "diverging": [
            [
             0,
             "#8e0152"
            ],
            [
             0.1,
             "#c51b7d"
            ],
            [
             0.2,
             "#de77ae"
            ],
            [
             0.3,
             "#f1b6da"
            ],
            [
             0.4,
             "#fde0ef"
            ],
            [
             0.5,
             "#f7f7f7"
            ],
            [
             0.6,
             "#e6f5d0"
            ],
            [
             0.7,
             "#b8e186"
            ],
            [
             0.8,
             "#7fbc41"
            ],
            [
             0.9,
             "#4d9221"
            ],
            [
             1,
             "#276419"
            ]
           ],
           "sequential": [
            [
             0,
             "#0d0887"
            ],
            [
             0.1111111111111111,
             "#46039f"
            ],
            [
             0.2222222222222222,
             "#7201a8"
            ],
            [
             0.3333333333333333,
             "#9c179e"
            ],
            [
             0.4444444444444444,
             "#bd3786"
            ],
            [
             0.5555555555555556,
             "#d8576b"
            ],
            [
             0.6666666666666666,
             "#ed7953"
            ],
            [
             0.7777777777777778,
             "#fb9f3a"
            ],
            [
             0.8888888888888888,
             "#fdca26"
            ],
            [
             1,
             "#f0f921"
            ]
           ],
           "sequentialminus": [
            [
             0,
             "#0d0887"
            ],
            [
             0.1111111111111111,
             "#46039f"
            ],
            [
             0.2222222222222222,
             "#7201a8"
            ],
            [
             0.3333333333333333,
             "#9c179e"
            ],
            [
             0.4444444444444444,
             "#bd3786"
            ],
            [
             0.5555555555555556,
             "#d8576b"
            ],
            [
             0.6666666666666666,
             "#ed7953"
            ],
            [
             0.7777777777777778,
             "#fb9f3a"
            ],
            [
             0.8888888888888888,
             "#fdca26"
            ],
            [
             1,
             "#f0f921"
            ]
           ]
          },
          "colorway": [
           "#636efa",
           "#EF553B",
           "#00cc96",
           "#ab63fa",
           "#FFA15A",
           "#19d3f3",
           "#FF6692",
           "#B6E880",
           "#FF97FF",
           "#FECB52"
          ],
          "font": {
           "color": "#2a3f5f"
          },
          "geo": {
           "bgcolor": "white",
           "lakecolor": "white",
           "landcolor": "#E5ECF6",
           "showlakes": true,
           "showland": true,
           "subunitcolor": "white"
          },
          "hoverlabel": {
           "align": "left"
          },
          "hovermode": "closest",
          "mapbox": {
           "style": "light"
          },
          "paper_bgcolor": "white",
          "plot_bgcolor": "#E5ECF6",
          "polar": {
           "angularaxis": {
            "gridcolor": "white",
            "linecolor": "white",
            "ticks": ""
           },
           "bgcolor": "#E5ECF6",
           "radialaxis": {
            "gridcolor": "white",
            "linecolor": "white",
            "ticks": ""
           }
          },
          "scene": {
           "xaxis": {
            "backgroundcolor": "#E5ECF6",
            "gridcolor": "white",
            "gridwidth": 2,
            "linecolor": "white",
            "showbackground": true,
            "ticks": "",
            "zerolinecolor": "white"
           },
           "yaxis": {
            "backgroundcolor": "#E5ECF6",
            "gridcolor": "white",
            "gridwidth": 2,
            "linecolor": "white",
            "showbackground": true,
            "ticks": "",
            "zerolinecolor": "white"
           },
           "zaxis": {
            "backgroundcolor": "#E5ECF6",
            "gridcolor": "white",
            "gridwidth": 2,
            "linecolor": "white",
            "showbackground": true,
            "ticks": "",
            "zerolinecolor": "white"
           }
          },
          "shapedefaults": {
           "line": {
            "color": "#2a3f5f"
           }
          },
          "ternary": {
           "aaxis": {
            "gridcolor": "white",
            "linecolor": "white",
            "ticks": ""
           },
           "baxis": {
            "gridcolor": "white",
            "linecolor": "white",
            "ticks": ""
           },
           "bgcolor": "#E5ECF6",
           "caxis": {
            "gridcolor": "white",
            "linecolor": "white",
            "ticks": ""
           }
          },
          "title": {
           "x": 0.05
          },
          "xaxis": {
           "automargin": true,
           "gridcolor": "white",
           "linecolor": "white",
           "ticks": "",
           "title": {
            "standoff": 15
           },
           "zerolinecolor": "white",
           "zerolinewidth": 2
          },
          "yaxis": {
           "automargin": true,
           "gridcolor": "white",
           "linecolor": "white",
           "ticks": "",
           "title": {
            "standoff": 15
           },
           "zerolinecolor": "white",
           "zerolinewidth": 2
          }
         }
        },
        "title": {
         "text": "Llama-3-8B: JRF(k=1) across normalized layers (↓)"
        },
        "xaxis": {
         "range": [
          -0.01,
          1.01
         ],
         "title": {
          "text": "Normalized layer (0 → 1)"
         }
        },
        "yaxis": {
         "title": {
          "text": "JRF(k=1)"
         }
        }
       }
      }
     },
     "metadata": {},
     "output_type": "display_data"
    },
    {
     "data": {
      "application/vnd.plotly.v1+json": {
       "config": {
        "plotlyServerURL": "https://plot.ly"
       },
       "data": [
        {
         "hovertemplate": "Layer(norm)=%{x:.2f}<br>Generalized Triplet Distance=%{y:.2f}<extra>entity_only</extra>",
         "mode": "lines+markers",
         "name": "entity_only",
         "type": "scatter",
         "x": {
          "bdata": "AAAAAAAAAAAAAAAAAACgPwAAAAAAALA/AAAAAAAAuD8AAAAAAADAPwAAAAAAAMQ/AAAAAAAAyD8AAAAAAADMPwAAAAAAANA/AAAAAAAA0j8AAAAAAADUPwAAAAAAANY/AAAAAAAA2D8AAAAAAADaPwAAAAAAANw/AAAAAAAA3j8AAAAAAADgPwAAAAAAAOE/AAAAAAAA4j8AAAAAAADjPwAAAAAAAOQ/AAAAAAAA5T8AAAAAAADmPwAAAAAAAOc/AAAAAAAA6D8AAAAAAADpPwAAAAAAAOo/AAAAAAAA6z8AAAAAAADsPwAAAAAAAO0/AAAAAAAA7j8AAAAAAADvPwAAAAAAAPA/",
          "dtype": "f8"
         },
         "y": {
          "bdata": "YtCZVcCF5D9CExieBcfkPyp1EtcMEOQ/mJIMpeOx4z957HwxU/3hPyDnIGlDVOE/kAhgDeZ03z9EVKmTuGbgP80q4EJ+SOE/iOnjHCRt4D/AW13fAe3aPyLUc/vkyN0//tEbeKvr2z9k54uZ6o/eP4wuuuiii94/8KoV21Hm3z8w+3mYPs7hP5SOx84XM+E/xaAzq4AL4T/qTk3LqL3fP60CLuSHVOA/HDca9ogA3j+opmXU3ivgPzL/vm4KTeA/JG2IKnUS3z9U0zJq7xXeP2BOd2paRt0/eEC7lGQo3T+29wojwcbdP8pnLGJlad4/Wi/7eZg+3j9GWO5phOXeP67YjjL/vt4/",
          "dtype": "f8"
         }
        },
        {
         "hovertemplate": "Layer(norm)=%{x:.2f}<br>Generalized Triplet Distance=%{y:.2f}<extra>gift</extra>",
         "mode": "lines+markers",
         "name": "gift",
         "type": "scatter",
         "x": {
          "bdata": "AAAAAAAAAAAAAAAAAACgPwAAAAAAALA/AAAAAAAAuD8AAAAAAADAPwAAAAAAAMQ/AAAAAAAAyD8AAAAAAADMPwAAAAAAANA/AAAAAAAA0j8AAAAAAADUPwAAAAAAANY/AAAAAAAA2D8AAAAAAADaPwAAAAAAANw/AAAAAAAA3j8AAAAAAADgPwAAAAAAAOE/AAAAAAAA4j8AAAAAAADjPwAAAAAAAOQ/AAAAAAAA5T8AAAAAAADmPwAAAAAAAOc/AAAAAAAA6D8AAAAAAADpPwAAAAAAAOo/AAAAAAAA6z8AAAAAAADsPwAAAAAAAO0/AAAAAAAA7j8AAAAAAADvPwAAAAAAAPA/",
          "dtype": "f8"
         },
         "y": {
          "bdata": "yVA6Hjtf5D8mxQtkUrzkP9AuJRlKx+M/9Abe6voO5D/YjjL/vm7iPzqzCriQH+I/0oaoUidx4T8sjAQbNxreP7xAJsULZNo/AEGR9bKf3z8AAAAAAADgP76Yqf7oDeA/1AjLPY2w4D9KMpSOx87fP4prBgiKrN8/3JJ31Yrt4D9kKB2PnS/iPyyMBBs3GuI/CqGe2ydH4j85cnnC3X/iP3Z9B7RLSeI/LM2VEOq54T9ssskmm2ziP+8/5TMWseI/fge0S0mG4j9acIxvS97hP6fQBIZnweE/l7yrVmxH4T822WSTTTbhPxqLWFmaK+E/4AHtUpKh4D+gh+njHCThP85rcTgx6OA/",
          "dtype": "f8"
         }
        },
        {
         "hovertemplate": "Layer(norm)=%{x:.2f}<br>Generalized Triplet Distance=%{y:.2f}<extra>occupation_question</extra>",
         "mode": "lines+markers",
         "name": "occupation_question",
         "type": "scatter",
         "x": {
          "bdata": "AAAAAAAAAAAAAAAAAACgPwAAAAAAALA/AAAAAAAAuD8AAAAAAADAPwAAAAAAAMQ/AAAAAAAAyD8AAAAAAADMPwAAAAAAANA/AAAAAAAA0j8AAAAAAADUPwAAAAAAANY/AAAAAAAA2D8AAAAAAADaPwAAAAAAANw/AAAAAAAA3j8AAAAAAADgPwAAAAAAAOE/AAAAAAAA4j8AAAAAAADjPwAAAAAAAOQ/AAAAAAAA5T8AAAAAAADmPwAAAAAAAOc/AAAAAAAA6D8AAAAAAADpPwAAAAAAAOo/AAAAAAAA6z8AAAAAAADsPwAAAAAAAO0/AAAAAAAA7j8AAAAAAADvPwAAAAAAAPA/",
          "dtype": "f8"
         },
         "y": {
          "bdata": "yVA6Hjtf5D8yvi15V63kP/h1U2gCw+M/Nm407BEB5D9huacRlnviP1dCqOf2yeE/LnlXrdiO4j8w+3mYPs7hP+tlPw/Tx+E/SvECmRQv4D+6EkI9t0/eP7CbQhMYnt0/cGLQmVXA3T++LXlXrdjePxr2iADWYN4/q4AL+SEV4T/Rb7YO/WbjPxxODDqzCuQ/9ogA1mBO4z9QZL3s52HiP7KIlaW5EuI/ikFnVgEX4j8eZf593RTiP3otDicGneE/Fhzj25J34T+mJEPpeOzgP2S97Odh+uA/CriQH1JR4D+EzqwCLuTfP3T75MjlCd8/IhUF8Zdo3T9kKB2PnS/eP0bDHhHAGtw/",
          "dtype": "f8"
         }
        },
        {
         "hovertemplate": "Layer(norm)=%{x:.2f}<br>Generalized Triplet Distance=%{y:.2f}<extra>occupation_simple</extra>",
         "mode": "lines+markers",
         "name": "occupation_simple",
         "type": "scatter",
         "x": {
          "bdata": "AAAAAAAAAAAAAAAAAACgPwAAAAAAALA/AAAAAAAAuD8AAAAAAADAPwAAAAAAAMQ/AAAAAAAAyD8AAAAAAADMPwAAAAAAANA/AAAAAAAA0j8AAAAAAADUPwAAAAAAANY/AAAAAAAA2D8AAAAAAADaPwAAAAAAANw/AAAAAAAA3j8AAAAAAADgPwAAAAAAAOE/AAAAAAAA4j8AAAAAAADjPwAAAAAAAOQ/AAAAAAAA5T8AAAAAAADmPwAAAAAAAOc/AAAAAAAA6D8AAAAAAADpPwAAAAAAAOo/AAAAAAAA6z8AAAAAAADsPwAAAAAAAO0/AAAAAAAA7j8AAAAAAADvPwAAAAAAAPA/",
          "dtype": "f8"
         },
         "y": {
          "bdata": "yVA6Hjtf5D+empZRe6/kP/qjN/BW1+M/OJwYdGYV5D8wZqo/egPjP06hCQzPguM/EtcMEBRZ4z/sEQGswZziP4wuuuiii+I/T7j7T/mM4T+KF8ikeIHgP8T0cQ6SNuA/cCE/pKIg3j+dWQVcyA/hP/593RSawOA/GJ4Fx/i23D/zhLv/lM/gP8WgM6uAC+E/YjvK/Pu64T+wm0ITGJ7hPw79ZuvQb+I/mlXAhfyQ4j8oHY+dL2biP2xxODHozOI/rhkgKLJe4j/Qw/RxDpLiP+rjHCRtiOI/pk7imgGC4j9WwIX8kIriP0rHY+eLmeI/UGS97Odh4j9w4K2u74DiP0N+SEVB/OE/",
          "dtype": "f8"
         }
        },
        {
         "hovertemplate": "Layer(norm)=%{x:.2f}<br>Generalized Triplet Distance=%{y:.2f}<extra>profession_query</extra>",
         "mode": "lines+markers",
         "name": "profession_query",
         "type": "scatter",
         "x": {
          "bdata": "AAAAAAAAAAAAAAAAAACgPwAAAAAAALA/AAAAAAAAuD8AAAAAAADAPwAAAAAAAMQ/AAAAAAAAyD8AAAAAAADMPwAAAAAAANA/AAAAAAAA0j8AAAAAAADUPwAAAAAAANY/AAAAAAAA2D8AAAAAAADaPwAAAAAAANw/AAAAAAAA3j8AAAAAAADgPwAAAAAAAOE/AAAAAAAA4j8AAAAAAADjPwAAAAAAAOQ/AAAAAAAA5T8AAAAAAADmPwAAAAAAAOc/AAAAAAAA6D8AAAAAAADpPwAAAAAAAOo/AAAAAAAA6z8AAAAAAADsPwAAAAAAAO0/AAAAAAAA7j8AAAAAAADvPwAAAAAAAPA/",
          "dtype": "f8"
         },
         "y": {
          "bdata": "yVA6Hjtf5D/iL9Ha5rXkP2RSvEAmxeM/76oV21Hm4z+iIP4SrW3iP+6TI5cn3OE/8MEHH3zw4T9w95/yGYvgP/OEu/+Uz+A/pXiBTIoX4D/sEQGswZzeP8yovVcYCd4/Fhzj25J33T9Uf/QG3uraP8DwLDjGt90/asV2lPn34T9obfNaHE7gP0QAazCnO+E/0rBHBLAG4z+aVcCF/JDiP3vZz8P0ceI/au8VRoKN4z83r8XhxKDjP01geBYc4+M/U/3RG3ir4z83r8XhxKDjP0ZY7mmE5eI/ANZgTndq4j+U+fd1U2jiPy666KKLLuI/w7PgGN+W4D++bgpNYHjeP8JIsHGjYd8/",
          "dtype": "f8"
         }
        },
        {
         "hovertemplate": "Layer(norm)=%{x:.2f}<br>Generalized Triplet Distance=%{y:.2f}<extra>professional_intro</extra>",
         "mode": "lines+markers",
         "name": "professional_intro",
         "type": "scatter",
         "x": {
          "bdata": "AAAAAAAAAAAAAAAAAACgPwAAAAAAALA/AAAAAAAAuD8AAAAAAADAPwAAAAAAAMQ/AAAAAAAAyD8AAAAAAADMPwAAAAAAANA/AAAAAAAA0j8AAAAAAADUPwAAAAAAANY/AAAAAAAA2D8AAAAAAADaPwAAAAAAANw/AAAAAAAA3j8AAAAAAADgPwAAAAAAAOE/AAAAAAAA4j8AAAAAAADjPwAAAAAAAOQ/AAAAAAAA5T8AAAAAAADmPwAAAAAAAOc/AAAAAAAA6D8AAAAAAADpPwAAAAAAAOo/AAAAAAAA6z8AAAAAAADsPwAAAAAAAO0/AAAAAAAA7j8AAAAAAADvPwAAAAAAAPA/",
          "dtype": "f8"
         },
         "y": {
          "bdata": "yVA6Hjtf5D8yvi15V63kPwadWQVcyOM/lCOXJ9z94z8+zkHShqjiP5qWUXuvMOI/jvFtybtq4T9+3RSawPDgPxqLWFmaK+E//E/5jEWs4D84nBh0ZhXgP2gCw7PgGN8/MmrvFUaC3T/I5Ql3/ynfP7jRsEcEsN4/4AHtUpKh3D/ae4WRYOPeP5YQ6rl9cuA/Uubf102h4T/s0G+2Dv3iP6Ge2ydHLuM/luZKCPXc4j/s0G+2Dv3iP1juaYTlnuI/jC666KKL4j/Xod9sHfrhPw5RpU7imuE/AGswpzs14T/JUDoeO1/gP7spNIHhWeA/llF7rzAS4D9GF1100UXfPwLtUpKhdOA/",
          "dtype": "f8"
         }
        }
       ],
       "layout": {
        "legend": {
         "title": {
          "text": "Template"
         }
        },
        "template": {
         "data": {
          "bar": [
           {
            "error_x": {
             "color": "#2a3f5f"
            },
            "error_y": {
             "color": "#2a3f5f"
            },
            "marker": {
             "line": {
              "color": "#E5ECF6",
              "width": 0.5
             },
             "pattern": {
              "fillmode": "overlay",
              "size": 10,
              "solidity": 0.2
             }
            },
            "type": "bar"
           }
          ],
          "barpolar": [
           {
            "marker": {
             "line": {
              "color": "#E5ECF6",
              "width": 0.5
             },
             "pattern": {
              "fillmode": "overlay",
              "size": 10,
              "solidity": 0.2
             }
            },
            "type": "barpolar"
           }
          ],
          "carpet": [
           {
            "aaxis": {
             "endlinecolor": "#2a3f5f",
             "gridcolor": "white",
             "linecolor": "white",
             "minorgridcolor": "white",
             "startlinecolor": "#2a3f5f"
            },
            "baxis": {
             "endlinecolor": "#2a3f5f",
             "gridcolor": "white",
             "linecolor": "white",
             "minorgridcolor": "white",
             "startlinecolor": "#2a3f5f"
            },
            "type": "carpet"
           }
          ],
          "choropleth": [
           {
            "colorbar": {
             "outlinewidth": 0,
             "ticks": ""
            },
            "type": "choropleth"
           }
          ],
          "contour": [
           {
            "colorbar": {
             "outlinewidth": 0,
             "ticks": ""
            },
            "colorscale": [
             [
              0,
              "#0d0887"
             ],
             [
              0.1111111111111111,
              "#46039f"
             ],
             [
              0.2222222222222222,
              "#7201a8"
             ],
             [
              0.3333333333333333,
              "#9c179e"
             ],
             [
              0.4444444444444444,
              "#bd3786"
             ],
             [
              0.5555555555555556,
              "#d8576b"
             ],
             [
              0.6666666666666666,
              "#ed7953"
             ],
             [
              0.7777777777777778,
              "#fb9f3a"
             ],
             [
              0.8888888888888888,
              "#fdca26"
             ],
             [
              1,
              "#f0f921"
             ]
            ],
            "type": "contour"
           }
          ],
          "contourcarpet": [
           {
            "colorbar": {
             "outlinewidth": 0,
             "ticks": ""
            },
            "type": "contourcarpet"
           }
          ],
          "heatmap": [
           {
            "colorbar": {
             "outlinewidth": 0,
             "ticks": ""
            },
            "colorscale": [
             [
              0,
              "#0d0887"
             ],
             [
              0.1111111111111111,
              "#46039f"
             ],
             [
              0.2222222222222222,
              "#7201a8"
             ],
             [
              0.3333333333333333,
              "#9c179e"
             ],
             [
              0.4444444444444444,
              "#bd3786"
             ],
             [
              0.5555555555555556,
              "#d8576b"
             ],
             [
              0.6666666666666666,
              "#ed7953"
             ],
             [
              0.7777777777777778,
              "#fb9f3a"
             ],
             [
              0.8888888888888888,
              "#fdca26"
             ],
             [
              1,
              "#f0f921"
             ]
            ],
            "type": "heatmap"
           }
          ],
          "histogram": [
           {
            "marker": {
             "pattern": {
              "fillmode": "overlay",
              "size": 10,
              "solidity": 0.2
             }
            },
            "type": "histogram"
           }
          ],
          "histogram2d": [
           {
            "colorbar": {
             "outlinewidth": 0,
             "ticks": ""
            },
            "colorscale": [
             [
              0,
              "#0d0887"
             ],
             [
              0.1111111111111111,
              "#46039f"
             ],
             [
              0.2222222222222222,
              "#7201a8"
             ],
             [
              0.3333333333333333,
              "#9c179e"
             ],
             [
              0.4444444444444444,
              "#bd3786"
             ],
             [
              0.5555555555555556,
              "#d8576b"
             ],
             [
              0.6666666666666666,
              "#ed7953"
             ],
             [
              0.7777777777777778,
              "#fb9f3a"
             ],
             [
              0.8888888888888888,
              "#fdca26"
             ],
             [
              1,
              "#f0f921"
             ]
            ],
            "type": "histogram2d"
           }
          ],
          "histogram2dcontour": [
           {
            "colorbar": {
             "outlinewidth": 0,
             "ticks": ""
            },
            "colorscale": [
             [
              0,
              "#0d0887"
             ],
             [
              0.1111111111111111,
              "#46039f"
             ],
             [
              0.2222222222222222,
              "#7201a8"
             ],
             [
              0.3333333333333333,
              "#9c179e"
             ],
             [
              0.4444444444444444,
              "#bd3786"
             ],
             [
              0.5555555555555556,
              "#d8576b"
             ],
             [
              0.6666666666666666,
              "#ed7953"
             ],
             [
              0.7777777777777778,
              "#fb9f3a"
             ],
             [
              0.8888888888888888,
              "#fdca26"
             ],
             [
              1,
              "#f0f921"
             ]
            ],
            "type": "histogram2dcontour"
           }
          ],
          "mesh3d": [
           {
            "colorbar": {
             "outlinewidth": 0,
             "ticks": ""
            },
            "type": "mesh3d"
           }
          ],
          "parcoords": [
           {
            "line": {
             "colorbar": {
              "outlinewidth": 0,
              "ticks": ""
             }
            },
            "type": "parcoords"
           }
          ],
          "pie": [
           {
            "automargin": true,
            "type": "pie"
           }
          ],
          "scatter": [
           {
            "fillpattern": {
             "fillmode": "overlay",
             "size": 10,
             "solidity": 0.2
            },
            "type": "scatter"
           }
          ],
          "scatter3d": [
           {
            "line": {
             "colorbar": {
              "outlinewidth": 0,
              "ticks": ""
             }
            },
            "marker": {
             "colorbar": {
              "outlinewidth": 0,
              "ticks": ""
             }
            },
            "type": "scatter3d"
           }
          ],
          "scattercarpet": [
           {
            "marker": {
             "colorbar": {
              "outlinewidth": 0,
              "ticks": ""
             }
            },
            "type": "scattercarpet"
           }
          ],
          "scattergeo": [
           {
            "marker": {
             "colorbar": {
              "outlinewidth": 0,
              "ticks": ""
             }
            },
            "type": "scattergeo"
           }
          ],
          "scattergl": [
           {
            "marker": {
             "colorbar": {
              "outlinewidth": 0,
              "ticks": ""
             }
            },
            "type": "scattergl"
           }
          ],
          "scattermap": [
           {
            "marker": {
             "colorbar": {
              "outlinewidth": 0,
              "ticks": ""
             }
            },
            "type": "scattermap"
           }
          ],
          "scattermapbox": [
           {
            "marker": {
             "colorbar": {
              "outlinewidth": 0,
              "ticks": ""
             }
            },
            "type": "scattermapbox"
           }
          ],
          "scatterpolar": [
           {
            "marker": {
             "colorbar": {
              "outlinewidth": 0,
              "ticks": ""
             }
            },
            "type": "scatterpolar"
           }
          ],
          "scatterpolargl": [
           {
            "marker": {
             "colorbar": {
              "outlinewidth": 0,
              "ticks": ""
             }
            },
            "type": "scatterpolargl"
           }
          ],
          "scatterternary": [
           {
            "marker": {
             "colorbar": {
              "outlinewidth": 0,
              "ticks": ""
             }
            },
            "type": "scatterternary"
           }
          ],
          "surface": [
           {
            "colorbar": {
             "outlinewidth": 0,
             "ticks": ""
            },
            "colorscale": [
             [
              0,
              "#0d0887"
             ],
             [
              0.1111111111111111,
              "#46039f"
             ],
             [
              0.2222222222222222,
              "#7201a8"
             ],
             [
              0.3333333333333333,
              "#9c179e"
             ],
             [
              0.4444444444444444,
              "#bd3786"
             ],
             [
              0.5555555555555556,
              "#d8576b"
             ],
             [
              0.6666666666666666,
              "#ed7953"
             ],
             [
              0.7777777777777778,
              "#fb9f3a"
             ],
             [
              0.8888888888888888,
              "#fdca26"
             ],
             [
              1,
              "#f0f921"
             ]
            ],
            "type": "surface"
           }
          ],
          "table": [
           {
            "cells": {
             "fill": {
              "color": "#EBF0F8"
             },
             "line": {
              "color": "white"
             }
            },
            "header": {
             "fill": {
              "color": "#C8D4E3"
             },
             "line": {
              "color": "white"
             }
            },
            "type": "table"
           }
          ]
         },
         "layout": {
          "annotationdefaults": {
           "arrowcolor": "#2a3f5f",
           "arrowhead": 0,
           "arrowwidth": 1
          },
          "autotypenumbers": "strict",
          "coloraxis": {
           "colorbar": {
            "outlinewidth": 0,
            "ticks": ""
           }
          },
          "colorscale": {
           "diverging": [
            [
             0,
             "#8e0152"
            ],
            [
             0.1,
             "#c51b7d"
            ],
            [
             0.2,
             "#de77ae"
            ],
            [
             0.3,
             "#f1b6da"
            ],
            [
             0.4,
             "#fde0ef"
            ],
            [
             0.5,
             "#f7f7f7"
            ],
            [
             0.6,
             "#e6f5d0"
            ],
            [
             0.7,
             "#b8e186"
            ],
            [
             0.8,
             "#7fbc41"
            ],
            [
             0.9,
             "#4d9221"
            ],
            [
             1,
             "#276419"
            ]
           ],
           "sequential": [
            [
             0,
             "#0d0887"
            ],
            [
             0.1111111111111111,
             "#46039f"
            ],
            [
             0.2222222222222222,
             "#7201a8"
            ],
            [
             0.3333333333333333,
             "#9c179e"
            ],
            [
             0.4444444444444444,
             "#bd3786"
            ],
            [
             0.5555555555555556,
             "#d8576b"
            ],
            [
             0.6666666666666666,
             "#ed7953"
            ],
            [
             0.7777777777777778,
             "#fb9f3a"
            ],
            [
             0.8888888888888888,
             "#fdca26"
            ],
            [
             1,
             "#f0f921"
            ]
           ],
           "sequentialminus": [
            [
             0,
             "#0d0887"
            ],
            [
             0.1111111111111111,
             "#46039f"
            ],
            [
             0.2222222222222222,
             "#7201a8"
            ],
            [
             0.3333333333333333,
             "#9c179e"
            ],
            [
             0.4444444444444444,
             "#bd3786"
            ],
            [
             0.5555555555555556,
             "#d8576b"
            ],
            [
             0.6666666666666666,
             "#ed7953"
            ],
            [
             0.7777777777777778,
             "#fb9f3a"
            ],
            [
             0.8888888888888888,
             "#fdca26"
            ],
            [
             1,
             "#f0f921"
            ]
           ]
          },
          "colorway": [
           "#636efa",
           "#EF553B",
           "#00cc96",
           "#ab63fa",
           "#FFA15A",
           "#19d3f3",
           "#FF6692",
           "#B6E880",
           "#FF97FF",
           "#FECB52"
          ],
          "font": {
           "color": "#2a3f5f"
          },
          "geo": {
           "bgcolor": "white",
           "lakecolor": "white",
           "landcolor": "#E5ECF6",
           "showlakes": true,
           "showland": true,
           "subunitcolor": "white"
          },
          "hoverlabel": {
           "align": "left"
          },
          "hovermode": "closest",
          "mapbox": {
           "style": "light"
          },
          "paper_bgcolor": "white",
          "plot_bgcolor": "#E5ECF6",
          "polar": {
           "angularaxis": {
            "gridcolor": "white",
            "linecolor": "white",
            "ticks": ""
           },
           "bgcolor": "#E5ECF6",
           "radialaxis": {
            "gridcolor": "white",
            "linecolor": "white",
            "ticks": ""
           }
          },
          "scene": {
           "xaxis": {
            "backgroundcolor": "#E5ECF6",
            "gridcolor": "white",
            "gridwidth": 2,
            "linecolor": "white",
            "showbackground": true,
            "ticks": "",
            "zerolinecolor": "white"
           },
           "yaxis": {
            "backgroundcolor": "#E5ECF6",
            "gridcolor": "white",
            "gridwidth": 2,
            "linecolor": "white",
            "showbackground": true,
            "ticks": "",
            "zerolinecolor": "white"
           },
           "zaxis": {
            "backgroundcolor": "#E5ECF6",
            "gridcolor": "white",
            "gridwidth": 2,
            "linecolor": "white",
            "showbackground": true,
            "ticks": "",
            "zerolinecolor": "white"
           }
          },
          "shapedefaults": {
           "line": {
            "color": "#2a3f5f"
           }
          },
          "ternary": {
           "aaxis": {
            "gridcolor": "white",
            "linecolor": "white",
            "ticks": ""
           },
           "baxis": {
            "gridcolor": "white",
            "linecolor": "white",
            "ticks": ""
           },
           "bgcolor": "#E5ECF6",
           "caxis": {
            "gridcolor": "white",
            "linecolor": "white",
            "ticks": ""
           }
          },
          "title": {
           "x": 0.05
          },
          "xaxis": {
           "automargin": true,
           "gridcolor": "white",
           "linecolor": "white",
           "ticks": "",
           "title": {
            "standoff": 15
           },
           "zerolinecolor": "white",
           "zerolinewidth": 2
          },
          "yaxis": {
           "automargin": true,
           "gridcolor": "white",
           "linecolor": "white",
           "ticks": "",
           "title": {
            "standoff": 15
           },
           "zerolinecolor": "white",
           "zerolinewidth": 2
          }
         }
        },
        "title": {
         "text": "Llama-3-8B: Generalized Triplet Distance across normalized layers (↓)"
        },
        "xaxis": {
         "range": [
          -0.01,
          1.01
         ],
         "title": {
          "text": "Normalized layer (0 → 1)"
         }
        },
        "yaxis": {
         "title": {
          "text": "Generalized Triplet Distance"
         }
        }
       }
      }
     },
     "metadata": {},
     "output_type": "display_data"
    },
    {
     "data": {
      "application/vnd.plotly.v1+json": {
       "config": {
        "plotlyServerURL": "https://plot.ly"
       },
       "data": [
        {
         "hovertemplate": "Layer(norm)=%{x:.2f}<br>Generalized Quartet Distance=%{y:.2f}<extra>entity_only</extra>",
         "mode": "lines+markers",
         "name": "entity_only",
         "type": "scatter",
         "x": {
          "bdata": "AAAAAAAAAAAAAAAAAACgPwAAAAAAALA/AAAAAAAAuD8AAAAAAADAPwAAAAAAAMQ/AAAAAAAAyD8AAAAAAADMPwAAAAAAANA/AAAAAAAA0j8AAAAAAADUPwAAAAAAANY/AAAAAAAA2D8AAAAAAADaPwAAAAAAANw/AAAAAAAA3j8AAAAAAADgPwAAAAAAAOE/AAAAAAAA4j8AAAAAAADjPwAAAAAAAOQ/AAAAAAAA5T8AAAAAAADmPwAAAAAAAOc/AAAAAAAA6D8AAAAAAADpPwAAAAAAAOo/AAAAAAAA6z8AAAAAAADsPwAAAAAAAO0/AAAAAAAA7j8AAAAAAADvPwAAAAAAAPA/",
          "dtype": "f8"
         },
         "y": {
          "bdata": "UucNsMts4z+Auao/p1PkPzTU+xf2eOI/oCcc3oLP4j98HUE0/vTfP05uMJTW2N0/PNZaoBAL2z8mEUgMZCvbP572tSkQY94/dGhn7SpJ2z84rUYUtlPTP7Q1i5/qOtc/DtrEvqEI1T86sIpiCUrYPwIefhXvC9g/RGmNvWhQ2j+iDOIW57nfP679t4iYfd4/rN85c6lx3j9sfRkYIHLaP+ixa/8tItw/dGhn7SpJ2T+uhx679t/aP2adYbmARts/XiFATzi82T8+7IaN52HYP3xHOoaRENo/lOnAKool2j/inCTYjy/bP4CPse0TONw/6rjYYQ1z3D8Gyaarj3DdP3QMIyHsXNw/",
          "dtype": "f8"
         }
        },
        {
         "hovertemplate": "Layer(norm)=%{x:.2f}<br>Generalized Quartet Distance=%{y:.2f}<extra>gift</extra>",
         "mode": "lines+markers",
         "name": "gift",
         "type": "scatter",
         "x": {
          "bdata": "AAAAAAAAAAAAAAAAAACgPwAAAAAAALA/AAAAAAAAuD8AAAAAAADAPwAAAAAAAMQ/AAAAAAAAyD8AAAAAAADMPwAAAAAAANA/AAAAAAAA0j8AAAAAAADUPwAAAAAAANY/AAAAAAAA2D8AAAAAAADaPwAAAAAAANw/AAAAAAAA3j8AAAAAAADgPwAAAAAAAOE/AAAAAAAA4j8AAAAAAADjPwAAAAAAAOQ/AAAAAAAA5T8AAAAAAADmPwAAAAAAAOc/AAAAAAAA6D8AAAAAAADpPwAAAAAAAOo/AAAAAAAA6z8AAAAAAADsPwAAAAAAAO0/AAAAAAAA7j8AAAAAAADvPwAAAAAAAPA/",
          "dtype": "f8"
         },
         "y": {
          "bdata": "VBydeMoz4z/eBOTgcivkP82OtRYoxOE/ZH/jo5E64z+ofW0KxJjgP2RV6lH+HuA/XIGtLwMD4D8e6RhGQtjZP6arj3DjDtc/vLGsCTPF2j9eySSXhSrcP4Dfen2uFN0/Jg0f+NfQ3z/ShX4o16rdPxQlgHR3Jt4/rMgowJm23j/uzgRP5MngP54JnsiTw+A/yvqdM5ca4T9gGe4mIAfhPzxnLjVOvuA/gmj86dMS4D/qEPQZwAThP9R9LAC/9eA/fu8ezt5+4D8iUzfXP2bfP+78JrUDQN8/2sjntZQT3j8g3Z0JnsjdPw5rmFPfu90/6MRTnrGC3D+Ehnr/wh7dP/b+hT0e0ts/",
          "dtype": "f8"
         }
        },
        {
         "hovertemplate": "Layer(norm)=%{x:.2f}<br>Generalized Quartet Distance=%{y:.2f}<extra>occupation_question</extra>",
         "mode": "lines+markers",
         "name": "occupation_question",
         "type": "scatter",
         "x": {
          "bdata": "AAAAAAAAAAAAAAAAAACgPwAAAAAAALA/AAAAAAAAuD8AAAAAAADAPwAAAAAAAMQ/AAAAAAAAyD8AAAAAAADMPwAAAAAAANA/AAAAAAAA0j8AAAAAAADUPwAAAAAAANY/AAAAAAAA2D8AAAAAAADaPwAAAAAAANw/AAAAAAAA3j8AAAAAAADgPwAAAAAAAOE/AAAAAAAA4j8AAAAAAADjPwAAAAAAAOQ/AAAAAAAA5T8AAAAAAADmPwAAAAAAAOc/AAAAAAAA6D8AAAAAAADpPwAAAAAAAOo/AAAAAAAA6z8AAAAAAADsPwAAAAAAAO0/AAAAAAAA7j8AAAAAAADvPwAAAAAAAPA/",
          "dtype": "f8"
         },
         "y": {
          "bdata": "VBydeMoz4z+BWT1f3AzkP+BfQ+d4s+E/smfWGZYL4z8KGIt18ejgP/qOdAwjIeA/UDST8RJT4T9a4RoQzkngP8Cwx0P6YOA/csCCpd3a3D/amsVPdZ3aP1Y+RKJFmtk/UkNSfApZ2z+K6EZoqPfbP1aODTLgdtw/Tho+8K+h3z9FyBXY+jLjPxh0ZD7ZnuM/OJIMTRo+4j8kNNT7F/bgP+v54mawSeA/NY/I/sZH4D94kXt5hQDgP+It+GzN4t0/yg2G0hp73T8Q0nKWiVPcP5KhScMH/ts/8hJTotqW2j8Cs3q+uBnaP0aa83HbvNg/4PyRuFp21z8kn9dSTujYP4igzwAm0Nc/",
          "dtype": "f8"
         }
        },
        {
         "hovertemplate": "Layer(norm)=%{x:.2f}<br>Generalized Quartet Distance=%{y:.2f}<extra>occupation_simple</extra>",
         "mode": "lines+markers",
         "name": "occupation_simple",
         "type": "scatter",
         "x": {
          "bdata": "AAAAAAAAAAAAAAAAAACgPwAAAAAAALA/AAAAAAAAuD8AAAAAAADAPwAAAAAAAMQ/AAAAAAAAyD8AAAAAAADMPwAAAAAAANA/AAAAAAAA0j8AAAAAAADUPwAAAAAAANY/AAAAAAAA2D8AAAAAAADaPwAAAAAAANw/AAAAAAAA3j8AAAAAAADgPwAAAAAAAOE/AAAAAAAA4j8AAAAAAADjPwAAAAAAAOQ/AAAAAAAA5T8AAAAAAADmPwAAAAAAAOc/AAAAAAAA6D8AAAAAAADpPwAAAAAAAOo/AAAAAAAA6z8AAAAAAADsPwAAAAAAAO0/AAAAAAAA7j8AAAAAAADvPwAAAAAAAPA/",
          "dtype": "f8"
         },
         "y": {
          "bdata": "VBydeMoz4z8IP0B5MQ7kPxvm1Pfu4eE/yBXY+jIw4z8E1SHoM4DhP/4xS3qr0OI/DH9luJuA4j+Yp9FfrurgP6osv7TwV+E/BP8aOseb3z80afjAv4bcP44kQ5OGD94/oGgm4yWm3D9IvJqbViPeP4A3ljVhpt4/epjo22RR2T/GEpSs3znfPxBMNXi3S98/i4wCnGkL4D/+jY9G6rzfP1r4K8PdBOE/PTXjuqLt4D/cTUAOLrfgP8cdKiNL5eA/yVK560ms4D/bPoGDNrHgP8bJN38kruA/sUUv8Bql4D+DZNPVR7jgP3zJTpDXveA/iVdz02pE4D8+MbqmFpPgPypJGyO26N8/",
          "dtype": "f8"
         }
        },
        {
         "hovertemplate": "Layer(norm)=%{x:.2f}<br>Generalized Quartet Distance=%{y:.2f}<extra>profession_query</extra>",
         "mode": "lines+markers",
         "name": "profession_query",
         "type": "scatter",
         "x": {
          "bdata": "AAAAAAAAAAAAAAAAAACgPwAAAAAAALA/AAAAAAAAuD8AAAAAAADAPwAAAAAAAMQ/AAAAAAAAyD8AAAAAAADMPwAAAAAAANA/AAAAAAAA0j8AAAAAAADUPwAAAAAAANY/AAAAAAAA2D8AAAAAAADaPwAAAAAAANw/AAAAAAAA3j8AAAAAAADgPwAAAAAAAOE/AAAAAAAA4j8AAAAAAADjPwAAAAAAAOQ/AAAAAAAA5T8AAAAAAADmPwAAAAAAAOc/AAAAAAAA6D8AAAAAAADpPwAAAAAAAOo/AAAAAAAA6z8AAAAAAADsPwAAAAAAAO0/AAAAAAAA7j8AAAAAAADvPwAAAAAAAPA/",
          "dtype": "f8"
         },
         "y": {
          "bdata": "VBydeMoz4z8235GOYSTkP4D2izC+z+E/Wvgrw90E4z8SbtyhMrLgP5hXCNATDuA/5EdNbjCU4D+a3GAorbHdP6Kh3r+wx90/Tn3vHs7e3D8g9K68rYPbP8xR1CURSNo//KzyIRIt2j8aQhnELc7XP0idN8Aus9k/tW5DfHVc4T/KN38krpbgPxSQg8utGOE/xEC2Ev+v4j/uEzhoE/vhP+lCP5Rr1eE/D1SHoM8A4z/2DUXIFdjiP4t18ehZUOM/1nGxwxrm4j+SI17NTaviPy38leFuAuI/pyl7Zp1h4T+BxEC2Ev/gP9LKsUEG3OA/kuJTyKrU3T9qY8QWvcDZP9qH3bDxPNw/",
          "dtype": "f8"
         }
        },
        {
         "hovertemplate": "Layer(norm)=%{x:.2f}<br>Generalized Quartet Distance=%{y:.2f}<extra>professional_intro</extra>",
         "mode": "lines+markers",
         "name": "professional_intro",
         "type": "scatter",
         "x": {
          "bdata": "AAAAAAAAAAAAAAAAAACgPwAAAAAAALA/AAAAAAAAuD8AAAAAAADAPwAAAAAAAMQ/AAAAAAAAyD8AAAAAAADMPwAAAAAAANA/AAAAAAAA0j8AAAAAAADUPwAAAAAAANY/AAAAAAAA2D8AAAAAAADaPwAAAAAAANw/AAAAAAAA3j8AAAAAAADgPwAAAAAAAOE/AAAAAAAA4j8AAAAAAADjPwAAAAAAAOQ/AAAAAAAA5T8AAAAAAADmPwAAAAAAAOc/AAAAAAAA6D8AAAAAAADpPwAAAAAAAOo/AAAAAAAA6z8AAAAAAADsPwAAAAAAAO0/AAAAAAAA7j8AAAAAAADvPwAAAAAAAPA/",
          "dtype": "f8"
         },
         "y": {
          "bdata": "VBydeMoz4z92nfa1KRDkPySEnYuy0uE/3OZly4Mf4z/sG4qQK7DgP8L8Z78I498/bDjm/vBA3z9wqla4BoTdP1wDwjlJsN0/VC+FF06U3D+0IqMAZ9rcP0QgMZCtxNs/EH6A8mIc2j8cDKU19qLbPyh0+TqCaNo/5DA8uyDZ2D/gSDI0afjcPzgj4OFX8dw/q72SSS4L4D84OvGUZ6zhP1YnM+813+E/YVKmA6so4T/KdGAVxRLhP9i9UT8paOA/oliCkvU74D/IBhlwOyrfP2iVD5Fokd4/fOBfQ+d43T+QHPFqblrbP+APelfe1ts/ZhtNrzqZ2z/+9GmJlFTaP7z23yJi9ts/",
          "dtype": "f8"
         }
        }
       ],
       "layout": {
        "legend": {
         "title": {
          "text": "Template"
         }
        },
        "template": {
         "data": {
          "bar": [
           {
            "error_x": {
             "color": "#2a3f5f"
            },
            "error_y": {
             "color": "#2a3f5f"
            },
            "marker": {
             "line": {
              "color": "#E5ECF6",
              "width": 0.5
             },
             "pattern": {
              "fillmode": "overlay",
              "size": 10,
              "solidity": 0.2
             }
            },
            "type": "bar"
           }
          ],
          "barpolar": [
           {
            "marker": {
             "line": {
              "color": "#E5ECF6",
              "width": 0.5
             },
             "pattern": {
              "fillmode": "overlay",
              "size": 10,
              "solidity": 0.2
             }
            },
            "type": "barpolar"
           }
          ],
          "carpet": [
           {
            "aaxis": {
             "endlinecolor": "#2a3f5f",
             "gridcolor": "white",
             "linecolor": "white",
             "minorgridcolor": "white",
             "startlinecolor": "#2a3f5f"
            },
            "baxis": {
             "endlinecolor": "#2a3f5f",
             "gridcolor": "white",
             "linecolor": "white",
             "minorgridcolor": "white",
             "startlinecolor": "#2a3f5f"
            },
            "type": "carpet"
           }
          ],
          "choropleth": [
           {
            "colorbar": {
             "outlinewidth": 0,
             "ticks": ""
            },
            "type": "choropleth"
           }
          ],
          "contour": [
           {
            "colorbar": {
             "outlinewidth": 0,
             "ticks": ""
            },
            "colorscale": [
             [
              0,
              "#0d0887"
             ],
             [
              0.1111111111111111,
              "#46039f"
             ],
             [
              0.2222222222222222,
              "#7201a8"
             ],
             [
              0.3333333333333333,
              "#9c179e"
             ],
             [
              0.4444444444444444,
              "#bd3786"
             ],
             [
              0.5555555555555556,
              "#d8576b"
             ],
             [
              0.6666666666666666,
              "#ed7953"
             ],
             [
              0.7777777777777778,
              "#fb9f3a"
             ],
             [
              0.8888888888888888,
              "#fdca26"
             ],
             [
              1,
              "#f0f921"
             ]
            ],
            "type": "contour"
           }
          ],
          "contourcarpet": [
           {
            "colorbar": {
             "outlinewidth": 0,
             "ticks": ""
            },
            "type": "contourcarpet"
           }
          ],
          "heatmap": [
           {
            "colorbar": {
             "outlinewidth": 0,
             "ticks": ""
            },
            "colorscale": [
             [
              0,
              "#0d0887"
             ],
             [
              0.1111111111111111,
              "#46039f"
             ],
             [
              0.2222222222222222,
              "#7201a8"
             ],
             [
              0.3333333333333333,
              "#9c179e"
             ],
             [
              0.4444444444444444,
              "#bd3786"
             ],
             [
              0.5555555555555556,
              "#d8576b"
             ],
             [
              0.6666666666666666,
              "#ed7953"
             ],
             [
              0.7777777777777778,
              "#fb9f3a"
             ],
             [
              0.8888888888888888,
              "#fdca26"
             ],
             [
              1,
              "#f0f921"
             ]
            ],
            "type": "heatmap"
           }
          ],
          "histogram": [
           {
            "marker": {
             "pattern": {
              "fillmode": "overlay",
              "size": 10,
              "solidity": 0.2
             }
            },
            "type": "histogram"
           }
          ],
          "histogram2d": [
           {
            "colorbar": {
             "outlinewidth": 0,
             "ticks": ""
            },
            "colorscale": [
             [
              0,
              "#0d0887"
             ],
             [
              0.1111111111111111,
              "#46039f"
             ],
             [
              0.2222222222222222,
              "#7201a8"
             ],
             [
              0.3333333333333333,
              "#9c179e"
             ],
             [
              0.4444444444444444,
              "#bd3786"
             ],
             [
              0.5555555555555556,
              "#d8576b"
             ],
             [
              0.6666666666666666,
              "#ed7953"
             ],
             [
              0.7777777777777778,
              "#fb9f3a"
             ],
             [
              0.8888888888888888,
              "#fdca26"
             ],
             [
              1,
              "#f0f921"
             ]
            ],
            "type": "histogram2d"
           }
          ],
          "histogram2dcontour": [
           {
            "colorbar": {
             "outlinewidth": 0,
             "ticks": ""
            },
            "colorscale": [
             [
              0,
              "#0d0887"
             ],
             [
              0.1111111111111111,
              "#46039f"
             ],
             [
              0.2222222222222222,
              "#7201a8"
             ],
             [
              0.3333333333333333,
              "#9c179e"
             ],
             [
              0.4444444444444444,
              "#bd3786"
             ],
             [
              0.5555555555555556,
              "#d8576b"
             ],
             [
              0.6666666666666666,
              "#ed7953"
             ],
             [
              0.7777777777777778,
              "#fb9f3a"
             ],
             [
              0.8888888888888888,
              "#fdca26"
             ],
             [
              1,
              "#f0f921"
             ]
            ],
            "type": "histogram2dcontour"
           }
          ],
          "mesh3d": [
           {
            "colorbar": {
             "outlinewidth": 0,
             "ticks": ""
            },
            "type": "mesh3d"
           }
          ],
          "parcoords": [
           {
            "line": {
             "colorbar": {
              "outlinewidth": 0,
              "ticks": ""
             }
            },
            "type": "parcoords"
           }
          ],
          "pie": [
           {
            "automargin": true,
            "type": "pie"
           }
          ],
          "scatter": [
           {
            "fillpattern": {
             "fillmode": "overlay",
             "size": 10,
             "solidity": 0.2
            },
            "type": "scatter"
           }
          ],
          "scatter3d": [
           {
            "line": {
             "colorbar": {
              "outlinewidth": 0,
              "ticks": ""
             }
            },
            "marker": {
             "colorbar": {
              "outlinewidth": 0,
              "ticks": ""
             }
            },
            "type": "scatter3d"
           }
          ],
          "scattercarpet": [
           {
            "marker": {
             "colorbar": {
              "outlinewidth": 0,
              "ticks": ""
             }
            },
            "type": "scattercarpet"
           }
          ],
          "scattergeo": [
           {
            "marker": {
             "colorbar": {
              "outlinewidth": 0,
              "ticks": ""
             }
            },
            "type": "scattergeo"
           }
          ],
          "scattergl": [
           {
            "marker": {
             "colorbar": {
              "outlinewidth": 0,
              "ticks": ""
             }
            },
            "type": "scattergl"
           }
          ],
          "scattermap": [
           {
            "marker": {
             "colorbar": {
              "outlinewidth": 0,
              "ticks": ""
             }
            },
            "type": "scattermap"
           }
          ],
          "scattermapbox": [
           {
            "marker": {
             "colorbar": {
              "outlinewidth": 0,
              "ticks": ""
             }
            },
            "type": "scattermapbox"
           }
          ],
          "scatterpolar": [
           {
            "marker": {
             "colorbar": {
              "outlinewidth": 0,
              "ticks": ""
             }
            },
            "type": "scatterpolar"
           }
          ],
          "scatterpolargl": [
           {
            "marker": {
             "colorbar": {
              "outlinewidth": 0,
              "ticks": ""
             }
            },
            "type": "scatterpolargl"
           }
          ],
          "scatterternary": [
           {
            "marker": {
             "colorbar": {
              "outlinewidth": 0,
              "ticks": ""
             }
            },
            "type": "scatterternary"
           }
          ],
          "surface": [
           {
            "colorbar": {
             "outlinewidth": 0,
             "ticks": ""
            },
            "colorscale": [
             [
              0,
              "#0d0887"
             ],
             [
              0.1111111111111111,
              "#46039f"
             ],
             [
              0.2222222222222222,
              "#7201a8"
             ],
             [
              0.3333333333333333,
              "#9c179e"
             ],
             [
              0.4444444444444444,
              "#bd3786"
             ],
             [
              0.5555555555555556,
              "#d8576b"
             ],
             [
              0.6666666666666666,
              "#ed7953"
             ],
             [
              0.7777777777777778,
              "#fb9f3a"
             ],
             [
              0.8888888888888888,
              "#fdca26"
             ],
             [
              1,
              "#f0f921"
             ]
            ],
            "type": "surface"
           }
          ],
          "table": [
           {
            "cells": {
             "fill": {
              "color": "#EBF0F8"
             },
             "line": {
              "color": "white"
             }
            },
            "header": {
             "fill": {
              "color": "#C8D4E3"
             },
             "line": {
              "color": "white"
             }
            },
            "type": "table"
           }
          ]
         },
         "layout": {
          "annotationdefaults": {
           "arrowcolor": "#2a3f5f",
           "arrowhead": 0,
           "arrowwidth": 1
          },
          "autotypenumbers": "strict",
          "coloraxis": {
           "colorbar": {
            "outlinewidth": 0,
            "ticks": ""
           }
          },
          "colorscale": {
           "diverging": [
            [
             0,
             "#8e0152"
            ],
            [
             0.1,
             "#c51b7d"
            ],
            [
             0.2,
             "#de77ae"
            ],
            [
             0.3,
             "#f1b6da"
            ],
            [
             0.4,
             "#fde0ef"
            ],
            [
             0.5,
             "#f7f7f7"
            ],
            [
             0.6,
             "#e6f5d0"
            ],
            [
             0.7,
             "#b8e186"
            ],
            [
             0.8,
             "#7fbc41"
            ],
            [
             0.9,
             "#4d9221"
            ],
            [
             1,
             "#276419"
            ]
           ],
           "sequential": [
            [
             0,
             "#0d0887"
            ],
            [
             0.1111111111111111,
             "#46039f"
            ],
            [
             0.2222222222222222,
             "#7201a8"
            ],
            [
             0.3333333333333333,
             "#9c179e"
            ],
            [
             0.4444444444444444,
             "#bd3786"
            ],
            [
             0.5555555555555556,
             "#d8576b"
            ],
            [
             0.6666666666666666,
             "#ed7953"
            ],
            [
             0.7777777777777778,
             "#fb9f3a"
            ],
            [
             0.8888888888888888,
             "#fdca26"
            ],
            [
             1,
             "#f0f921"
            ]
           ],
           "sequentialminus": [
            [
             0,
             "#0d0887"
            ],
            [
             0.1111111111111111,
             "#46039f"
            ],
            [
             0.2222222222222222,
             "#7201a8"
            ],
            [
             0.3333333333333333,
             "#9c179e"
            ],
            [
             0.4444444444444444,
             "#bd3786"
            ],
            [
             0.5555555555555556,
             "#d8576b"
            ],
            [
             0.6666666666666666,
             "#ed7953"
            ],
            [
             0.7777777777777778,
             "#fb9f3a"
            ],
            [
             0.8888888888888888,
             "#fdca26"
            ],
            [
             1,
             "#f0f921"
            ]
           ]
          },
          "colorway": [
           "#636efa",
           "#EF553B",
           "#00cc96",
           "#ab63fa",
           "#FFA15A",
           "#19d3f3",
           "#FF6692",
           "#B6E880",
           "#FF97FF",
           "#FECB52"
          ],
          "font": {
           "color": "#2a3f5f"
          },
          "geo": {
           "bgcolor": "white",
           "lakecolor": "white",
           "landcolor": "#E5ECF6",
           "showlakes": true,
           "showland": true,
           "subunitcolor": "white"
          },
          "hoverlabel": {
           "align": "left"
          },
          "hovermode": "closest",
          "mapbox": {
           "style": "light"
          },
          "paper_bgcolor": "white",
          "plot_bgcolor": "#E5ECF6",
          "polar": {
           "angularaxis": {
            "gridcolor": "white",
            "linecolor": "white",
            "ticks": ""
           },
           "bgcolor": "#E5ECF6",
           "radialaxis": {
            "gridcolor": "white",
            "linecolor": "white",
            "ticks": ""
           }
          },
          "scene": {
           "xaxis": {
            "backgroundcolor": "#E5ECF6",
            "gridcolor": "white",
            "gridwidth": 2,
            "linecolor": "white",
            "showbackground": true,
            "ticks": "",
            "zerolinecolor": "white"
           },
           "yaxis": {
            "backgroundcolor": "#E5ECF6",
            "gridcolor": "white",
            "gridwidth": 2,
            "linecolor": "white",
            "showbackground": true,
            "ticks": "",
            "zerolinecolor": "white"
           },
           "zaxis": {
            "backgroundcolor": "#E5ECF6",
            "gridcolor": "white",
            "gridwidth": 2,
            "linecolor": "white",
            "showbackground": true,
            "ticks": "",
            "zerolinecolor": "white"
           }
          },
          "shapedefaults": {
           "line": {
            "color": "#2a3f5f"
           }
          },
          "ternary": {
           "aaxis": {
            "gridcolor": "white",
            "linecolor": "white",
            "ticks": ""
           },
           "baxis": {
            "gridcolor": "white",
            "linecolor": "white",
            "ticks": ""
           },
           "bgcolor": "#E5ECF6",
           "caxis": {
            "gridcolor": "white",
            "linecolor": "white",
            "ticks": ""
           }
          },
          "title": {
           "x": 0.05
          },
          "xaxis": {
           "automargin": true,
           "gridcolor": "white",
           "linecolor": "white",
           "ticks": "",
           "title": {
            "standoff": 15
           },
           "zerolinecolor": "white",
           "zerolinewidth": 2
          },
          "yaxis": {
           "automargin": true,
           "gridcolor": "white",
           "linecolor": "white",
           "ticks": "",
           "title": {
            "standoff": 15
           },
           "zerolinecolor": "white",
           "zerolinewidth": 2
          }
         }
        },
        "title": {
         "text": "Llama-3-8B: Generalized Quartet Distance across normalized layers (↓)"
        },
        "xaxis": {
         "range": [
          -0.01,
          1.01
         ],
         "title": {
          "text": "Normalized layer (0 → 1)"
         }
        },
        "yaxis": {
         "title": {
          "text": "Generalized Quartet Distance"
         }
        }
       }
      }
     },
     "metadata": {},
     "output_type": "display_data"
    },
    {
     "data": {
      "application/vnd.plotly.v1+json": {
       "config": {
        "plotlyServerURL": "https://plot.ly"
       },
       "data": [
        {
         "hovertemplate": "Layer(norm)=%{x:.2f}<br>cophenetic corr=%{y:.2f}<extra>entity_only</extra>",
         "mode": "lines+markers",
         "name": "entity_only",
         "type": "scatter",
         "x": {
          "bdata": "AAAAAAAAAAAAAAAAAACgPwAAAAAAALA/AAAAAAAAuD8AAAAAAADAPwAAAAAAAMQ/AAAAAAAAyD8AAAAAAADMPwAAAAAAANA/AAAAAAAA0j8AAAAAAADUPwAAAAAAANY/AAAAAAAA2D8AAAAAAADaPwAAAAAAANw/AAAAAAAA3j8AAAAAAADgPwAAAAAAAOE/AAAAAAAA4j8AAAAAAADjPwAAAAAAAOQ/AAAAAAAA5T8AAAAAAADmPwAAAAAAAOc/AAAAAAAA6D8AAAAAAADpPwAAAAAAAOo/AAAAAAAA6z8AAAAAAADsPwAAAAAAAO0/AAAAAAAA7j8AAAAAAADvPwAAAAAAAPA/",
          "dtype": "f8"
         },
         "y": {
          "bdata": "lsl8Vwx2oz94rXNIDq+aPzPOhiaOY68/UB5wDCYKsD+o8vw8UBy6PwwngkgYSrw/plB7hKfEwT9laIiq2Ki/P6CAe3BlBLc/IEVAX2KTvj9kz52DtdvHP1z+s4SsNcU//5QSnkZDxT/y3IVMQiTDPzqSaBUN98E/C/MCF2Ubwj9ds+pu51a2P7eMT1/nvbk/RmTXSnWBvT/pJlMTNbXDP92JVq0SQME/bQZwdCmOxj9pQSeDhRLBP24R7KWGF7w/uAuOE3qmwj9+qsN/2HTEP+E85TBsVsU/mFbffs6OxD+8ZivdZDHEPyYwwNkRpcM/M2S1TJAuwz+2uXPShT3BP/k+VHNB5L0/",
          "dtype": "f8"
         }
        },
        {
         "hovertemplate": "Layer(norm)=%{x:.2f}<br>cophenetic corr=%{y:.2f}<extra>gift</extra>",
         "mode": "lines+markers",
         "name": "gift",
         "type": "scatter",
         "x": {
          "bdata": "AAAAAAAAAAAAAAAAAACgPwAAAAAAALA/AAAAAAAAuD8AAAAAAADAPwAAAAAAAMQ/AAAAAAAAyD8AAAAAAADMPwAAAAAAANA/AAAAAAAA0j8AAAAAAADUPwAAAAAAANY/AAAAAAAA2D8AAAAAAADaPwAAAAAAANw/AAAAAAAA3j8AAAAAAADgPwAAAAAAAOE/AAAAAAAA4j8AAAAAAADjPwAAAAAAAOQ/AAAAAAAA5T8AAAAAAADmPwAAAAAAAOc/AAAAAAAA6D8AAAAAAADpPwAAAAAAAOo/AAAAAAAA6z8AAAAAAADsPwAAAAAAAO0/AAAAAAAA7j8AAAAAAADvPwAAAAAAAPA/",
          "dtype": "f8"
         },
         "y": {
          "bdata": "iDv4T40Spz8Ae0ZEq7CcP6/yQWRzB7I/pSsNQzf1pz/X8nTYm5+xPz6LYUm0Nbo/vjKdHHequz9omRPF/a/FP4Lzz3IZjco/eLWZrzirwT9GO8gb9g7CP7+0/h/gacE/LLqshA+tuj+1WUT8uUK+P/YvkaCeZL4/v8v36V7+uT8dGM8Ghu2yPz66RIhUdbY/eZWf6AwItz/I1+3qMqi1P6kuoiqSSLU/uYLVJbKutz9aTziCWly0P3eDeKeYt7Y/w2OfuNsduD9UOmljIXe5P6wFhOAWl7k/Yh34Bt9juz+MrZu/sMy8P977BJM/Dbg/iQ3bHthhvD/2hQl+Ky26PwBP96/QV7s/",
          "dtype": "f8"
         }
        },
        {
         "hovertemplate": "Layer(norm)=%{x:.2f}<br>cophenetic corr=%{y:.2f}<extra>occupation_question</extra>",
         "mode": "lines+markers",
         "name": "occupation_question",
         "type": "scatter",
         "x": {
          "bdata": "AAAAAAAAAAAAAAAAAACgPwAAAAAAALA/AAAAAAAAuD8AAAAAAADAPwAAAAAAAMQ/AAAAAAAAyD8AAAAAAADMPwAAAAAAANA/AAAAAAAA0j8AAAAAAADUPwAAAAAAANY/AAAAAAAA2D8AAAAAAADaPwAAAAAAANw/AAAAAAAA3j8AAAAAAADgPwAAAAAAAOE/AAAAAAAA4j8AAAAAAADjPwAAAAAAAOQ/AAAAAAAA5T8AAAAAAADmPwAAAAAAAOc/AAAAAAAA6D8AAAAAAADpPwAAAAAAAOo/AAAAAAAA6z8AAAAAAADsPwAAAAAAAO0/AAAAAAAA7j8AAAAAAADvPwAAAAAAAPA/",
          "dtype": "f8"
         },
         "y": {
          "bdata": "iDv4T40Spz+9mm0+un+fP2/zFWNdY7I//nquTYcLpz8MZM/Gpy60P0SIx+wZQbI/dJk7Tgcipj9QHnifkfOwP8bv9I8s3LI/6OYDwMo8vD+K81l8HNfAP04+Y17NisE/W4EgfI0dwT95XsvK362/Pyed5jaTu78/LMgPWCHitj+9kU2BqIiZPwGtMGVlZpo/MndTvsUVsT99GZOQB7y3P0T5K7GK8Lo/g/qBoKuNuz+iVg4k2Oa8P6peyEoW+b8/3otafQ5gwT8UOcZANU3BPy7PVv6YHsI/WrRFXNlnwz9lL0XHxnzCP7p+F5W88sE/iLyKW6fHwz/K56GbPbLCPwhuRp5LAsU/",
          "dtype": "f8"
         }
        },
        {
         "hovertemplate": "Layer(norm)=%{x:.2f}<br>cophenetic corr=%{y:.2f}<extra>occupation_simple</extra>",
         "mode": "lines+markers",
         "name": "occupation_simple",
         "type": "scatter",
         "x": {
          "bdata": "AAAAAAAAAAAAAAAAAACgPwAAAAAAALA/AAAAAAAAuD8AAAAAAADAPwAAAAAAAMQ/AAAAAAAAyD8AAAAAAADMPwAAAAAAANA/AAAAAAAA0j8AAAAAAADUPwAAAAAAANY/AAAAAAAA2D8AAAAAAADaPwAAAAAAANw/AAAAAAAA3j8AAAAAAADgPwAAAAAAAOE/AAAAAAAA4j8AAAAAAADjPwAAAAAAAOQ/AAAAAAAA5T8AAAAAAADmPwAAAAAAAOc/AAAAAAAA6D8AAAAAAADpPwAAAAAAAOo/AAAAAAAA6z8AAAAAAADsPwAAAAAAAO0/AAAAAAAA7j8AAAAAAADvPwAAAAAAAPA/",
          "dtype": "f8"
         },
         "y": {
          "bdata": "iDv4T40Spz+gcUM/ARmfP3J80k9DerE/fgAg3BAnpz+jjAkNkQuwP993lLxoAaM/hN36Qob+nD/qcH8nG/euP0hphrIlUrA/Cg3xP/n+tD8ILsKrtqK7P+CC11pKGbs/bGhoTN1IwT8I75olHjW9P2WGQpTHw7c/WJDnYXu4wD91O0EMXxu7P2Io91Lkd7o/bYDefpq9uD/E9CamM/K9P6/xROBYKLg/3GzcNcFAuT/62LUDwWy6Py7eSn+XgLs/PBynGanMuz+YYfrTk126P+DBoUHvvro/NurguRW8uj/Kd8rxgZi5P6RVPA9KdLs/kKW88yrDvD+uv7pShJu5PyBBYY/cnrg/",
          "dtype": "f8"
         }
        },
        {
         "hovertemplate": "Layer(norm)=%{x:.2f}<br>cophenetic corr=%{y:.2f}<extra>profession_query</extra>",
         "mode": "lines+markers",
         "name": "profession_query",
         "type": "scatter",
         "x": {
          "bdata": "AAAAAAAAAAAAAAAAAACgPwAAAAAAALA/AAAAAAAAuD8AAAAAAADAPwAAAAAAAMQ/AAAAAAAAyD8AAAAAAADMPwAAAAAAANA/AAAAAAAA0j8AAAAAAADUPwAAAAAAANY/AAAAAAAA2D8AAAAAAADaPwAAAAAAANw/AAAAAAAA3j8AAAAAAADgPwAAAAAAAOE/AAAAAAAA4j8AAAAAAADjPwAAAAAAAOQ/AAAAAAAA5T8AAAAAAADmPwAAAAAAAOc/AAAAAAAA6D8AAAAAAADpPwAAAAAAAOo/AAAAAAAA6z8AAAAAAADsPwAAAAAAAO0/AAAAAAAA7j8AAAAAAADvPwAAAAAAAPA/",
          "dtype": "f8"
         },
         "y": {
          "bdata": "iDv4T40Spz9P9sRB1uSdPzqhMIUXyLE/imnlEGOgqz8V235bIxy2PzMRY7AbTrI//pgyGBn7sz+fdbhOXoC9P8LyylwEqbo/48AHMat/vj+4pLohgEy/PygFJMak4MA/Vn200DhUwz+1QB0+03fFP++rSqGqgMI/1DTP5Svnrj+MJV84XAyzP8d36N+tH7A/wPZQL0MCoD/kh+PQjFSpP2xw1P8Gmao/Uq0d46UMpj9ky6a74dymPzBdQJylLqM/hdT2ZnOdpj+TFcbZ7UepPwEyhwPnO60/qS8DOjhFrz+JQRFpF8eyP2aOrCp4drI/rjPDYFFIuz/QuypPbcy+P6RjGidecL0/",
          "dtype": "f8"
         }
        },
        {
         "hovertemplate": "Layer(norm)=%{x:.2f}<br>cophenetic corr=%{y:.2f}<extra>professional_intro</extra>",
         "mode": "lines+markers",
         "name": "professional_intro",
         "type": "scatter",
         "x": {
          "bdata": "AAAAAAAAAAAAAAAAAACgPwAAAAAAALA/AAAAAAAAuD8AAAAAAADAPwAAAAAAAMQ/AAAAAAAAyD8AAAAAAADMPwAAAAAAANA/AAAAAAAA0j8AAAAAAADUPwAAAAAAANY/AAAAAAAA2D8AAAAAAADaPwAAAAAAANw/AAAAAAAA3j8AAAAAAADgPwAAAAAAAOE/AAAAAAAA4j8AAAAAAADjPwAAAAAAAOQ/AAAAAAAA5T8AAAAAAADmPwAAAAAAAOc/AAAAAAAA6D8AAAAAAADpPwAAAAAAAOo/AAAAAAAA6z8AAAAAAADsPwAAAAAAAO0/AAAAAAAA7j8AAAAAAADvPwAAAAAAAPA/",
          "dtype": "f8"
         },
         "y": {
          "bdata": "iDv4T40Spz+/mm0+un+fP2k+dzKwsLE/pEtXyAe6qT87HUg5K0K2P2YbdTM+gro/UX3Qd/YHuz/1bV/1hL28P8QGEQqALLs/hMouCiyyvD/AkcEJ1BK9P9jPChwDAsM/onDzL+fsxD+AbFVSqYHEPyi6q7vnN8M/SqUv6P1twz+kQBsbnfq8PzENA5RxObw/RGTUXEAzuj++gpNB5RS0P90vb19AcbM/Wv5y9DvwtT/GGmtGeNu3P2VQ0mEZRLo/CfpBrqifuz+nIHN4QY+7Px8qGrekGL4/AlB1i8iQvD8bc4fu85m9P3C+/fKA2b8/ghyaL4cNwD/0uu5JNxXAPwB+zA/Pm7U/",
          "dtype": "f8"
         }
        }
       ],
       "layout": {
        "legend": {
         "title": {
          "text": "Template"
         }
        },
        "template": {
         "data": {
          "bar": [
           {
            "error_x": {
             "color": "#2a3f5f"
            },
            "error_y": {
             "color": "#2a3f5f"
            },
            "marker": {
             "line": {
              "color": "#E5ECF6",
              "width": 0.5
             },
             "pattern": {
              "fillmode": "overlay",
              "size": 10,
              "solidity": 0.2
             }
            },
            "type": "bar"
           }
          ],
          "barpolar": [
           {
            "marker": {
             "line": {
              "color": "#E5ECF6",
              "width": 0.5
             },
             "pattern": {
              "fillmode": "overlay",
              "size": 10,
              "solidity": 0.2
             }
            },
            "type": "barpolar"
           }
          ],
          "carpet": [
           {
            "aaxis": {
             "endlinecolor": "#2a3f5f",
             "gridcolor": "white",
             "linecolor": "white",
             "minorgridcolor": "white",
             "startlinecolor": "#2a3f5f"
            },
            "baxis": {
             "endlinecolor": "#2a3f5f",
             "gridcolor": "white",
             "linecolor": "white",
             "minorgridcolor": "white",
             "startlinecolor": "#2a3f5f"
            },
            "type": "carpet"
           }
          ],
          "choropleth": [
           {
            "colorbar": {
             "outlinewidth": 0,
             "ticks": ""
            },
            "type": "choropleth"
           }
          ],
          "contour": [
           {
            "colorbar": {
             "outlinewidth": 0,
             "ticks": ""
            },
            "colorscale": [
             [
              0,
              "#0d0887"
             ],
             [
              0.1111111111111111,
              "#46039f"
             ],
             [
              0.2222222222222222,
              "#7201a8"
             ],
             [
              0.3333333333333333,
              "#9c179e"
             ],
             [
              0.4444444444444444,
              "#bd3786"
             ],
             [
              0.5555555555555556,
              "#d8576b"
             ],
             [
              0.6666666666666666,
              "#ed7953"
             ],
             [
              0.7777777777777778,
              "#fb9f3a"
             ],
             [
              0.8888888888888888,
              "#fdca26"
             ],
             [
              1,
              "#f0f921"
             ]
            ],
            "type": "contour"
           }
          ],
          "contourcarpet": [
           {
            "colorbar": {
             "outlinewidth": 0,
             "ticks": ""
            },
            "type": "contourcarpet"
           }
          ],
          "heatmap": [
           {
            "colorbar": {
             "outlinewidth": 0,
             "ticks": ""
            },
            "colorscale": [
             [
              0,
              "#0d0887"
             ],
             [
              0.1111111111111111,
              "#46039f"
             ],
             [
              0.2222222222222222,
              "#7201a8"
             ],
             [
              0.3333333333333333,
              "#9c179e"
             ],
             [
              0.4444444444444444,
              "#bd3786"
             ],
             [
              0.5555555555555556,
              "#d8576b"
             ],
             [
              0.6666666666666666,
              "#ed7953"
             ],
             [
              0.7777777777777778,
              "#fb9f3a"
             ],
             [
              0.8888888888888888,
              "#fdca26"
             ],
             [
              1,
              "#f0f921"
             ]
            ],
            "type": "heatmap"
           }
          ],
          "histogram": [
           {
            "marker": {
             "pattern": {
              "fillmode": "overlay",
              "size": 10,
              "solidity": 0.2
             }
            },
            "type": "histogram"
           }
          ],
          "histogram2d": [
           {
            "colorbar": {
             "outlinewidth": 0,
             "ticks": ""
            },
            "colorscale": [
             [
              0,
              "#0d0887"
             ],
             [
              0.1111111111111111,
              "#46039f"
             ],
             [
              0.2222222222222222,
              "#7201a8"
             ],
             [
              0.3333333333333333,
              "#9c179e"
             ],
             [
              0.4444444444444444,
              "#bd3786"
             ],
             [
              0.5555555555555556,
              "#d8576b"
             ],
             [
              0.6666666666666666,
              "#ed7953"
             ],
             [
              0.7777777777777778,
              "#fb9f3a"
             ],
             [
              0.8888888888888888,
              "#fdca26"
             ],
             [
              1,
              "#f0f921"
             ]
            ],
            "type": "histogram2d"
           }
          ],
          "histogram2dcontour": [
           {
            "colorbar": {
             "outlinewidth": 0,
             "ticks": ""
            },
            "colorscale": [
             [
              0,
              "#0d0887"
             ],
             [
              0.1111111111111111,
              "#46039f"
             ],
             [
              0.2222222222222222,
              "#7201a8"
             ],
             [
              0.3333333333333333,
              "#9c179e"
             ],
             [
              0.4444444444444444,
              "#bd3786"
             ],
             [
              0.5555555555555556,
              "#d8576b"
             ],
             [
              0.6666666666666666,
              "#ed7953"
             ],
             [
              0.7777777777777778,
              "#fb9f3a"
             ],
             [
              0.8888888888888888,
              "#fdca26"
             ],
             [
              1,
              "#f0f921"
             ]
            ],
            "type": "histogram2dcontour"
           }
          ],
          "mesh3d": [
           {
            "colorbar": {
             "outlinewidth": 0,
             "ticks": ""
            },
            "type": "mesh3d"
           }
          ],
          "parcoords": [
           {
            "line": {
             "colorbar": {
              "outlinewidth": 0,
              "ticks": ""
             }
            },
            "type": "parcoords"
           }
          ],
          "pie": [
           {
            "automargin": true,
            "type": "pie"
           }
          ],
          "scatter": [
           {
            "fillpattern": {
             "fillmode": "overlay",
             "size": 10,
             "solidity": 0.2
            },
            "type": "scatter"
           }
          ],
          "scatter3d": [
           {
            "line": {
             "colorbar": {
              "outlinewidth": 0,
              "ticks": ""
             }
            },
            "marker": {
             "colorbar": {
              "outlinewidth": 0,
              "ticks": ""
             }
            },
            "type": "scatter3d"
           }
          ],
          "scattercarpet": [
           {
            "marker": {
             "colorbar": {
              "outlinewidth": 0,
              "ticks": ""
             }
            },
            "type": "scattercarpet"
           }
          ],
          "scattergeo": [
           {
            "marker": {
             "colorbar": {
              "outlinewidth": 0,
              "ticks": ""
             }
            },
            "type": "scattergeo"
           }
          ],
          "scattergl": [
           {
            "marker": {
             "colorbar": {
              "outlinewidth": 0,
              "ticks": ""
             }
            },
            "type": "scattergl"
           }
          ],
          "scattermap": [
           {
            "marker": {
             "colorbar": {
              "outlinewidth": 0,
              "ticks": ""
             }
            },
            "type": "scattermap"
           }
          ],
          "scattermapbox": [
           {
            "marker": {
             "colorbar": {
              "outlinewidth": 0,
              "ticks": ""
             }
            },
            "type": "scattermapbox"
           }
          ],
          "scatterpolar": [
           {
            "marker": {
             "colorbar": {
              "outlinewidth": 0,
              "ticks": ""
             }
            },
            "type": "scatterpolar"
           }
          ],
          "scatterpolargl": [
           {
            "marker": {
             "colorbar": {
              "outlinewidth": 0,
              "ticks": ""
             }
            },
            "type": "scatterpolargl"
           }
          ],
          "scatterternary": [
           {
            "marker": {
             "colorbar": {
              "outlinewidth": 0,
              "ticks": ""
             }
            },
            "type": "scatterternary"
           }
          ],
          "surface": [
           {
            "colorbar": {
             "outlinewidth": 0,
             "ticks": ""
            },
            "colorscale": [
             [
              0,
              "#0d0887"
             ],
             [
              0.1111111111111111,
              "#46039f"
             ],
             [
              0.2222222222222222,
              "#7201a8"
             ],
             [
              0.3333333333333333,
              "#9c179e"
             ],
             [
              0.4444444444444444,
              "#bd3786"
             ],
             [
              0.5555555555555556,
              "#d8576b"
             ],
             [
              0.6666666666666666,
              "#ed7953"
             ],
             [
              0.7777777777777778,
              "#fb9f3a"
             ],
             [
              0.8888888888888888,
              "#fdca26"
             ],
             [
              1,
              "#f0f921"
             ]
            ],
            "type": "surface"
           }
          ],
          "table": [
           {
            "cells": {
             "fill": {
              "color": "#EBF0F8"
             },
             "line": {
              "color": "white"
             }
            },
            "header": {
             "fill": {
              "color": "#C8D4E3"
             },
             "line": {
              "color": "white"
             }
            },
            "type": "table"
           }
          ]
         },
         "layout": {
          "annotationdefaults": {
           "arrowcolor": "#2a3f5f",
           "arrowhead": 0,
           "arrowwidth": 1
          },
          "autotypenumbers": "strict",
          "coloraxis": {
           "colorbar": {
            "outlinewidth": 0,
            "ticks": ""
           }
          },
          "colorscale": {
           "diverging": [
            [
             0,
             "#8e0152"
            ],
            [
             0.1,
             "#c51b7d"
            ],
            [
             0.2,
             "#de77ae"
            ],
            [
             0.3,
             "#f1b6da"
            ],
            [
             0.4,
             "#fde0ef"
            ],
            [
             0.5,
             "#f7f7f7"
            ],
            [
             0.6,
             "#e6f5d0"
            ],
            [
             0.7,
             "#b8e186"
            ],
            [
             0.8,
             "#7fbc41"
            ],
            [
             0.9,
             "#4d9221"
            ],
            [
             1,
             "#276419"
            ]
           ],
           "sequential": [
            [
             0,
             "#0d0887"
            ],
            [
             0.1111111111111111,
             "#46039f"
            ],
            [
             0.2222222222222222,
             "#7201a8"
            ],
            [
             0.3333333333333333,
             "#9c179e"
            ],
            [
             0.4444444444444444,
             "#bd3786"
            ],
            [
             0.5555555555555556,
             "#d8576b"
            ],
            [
             0.6666666666666666,
             "#ed7953"
            ],
            [
             0.7777777777777778,
             "#fb9f3a"
            ],
            [
             0.8888888888888888,
             "#fdca26"
            ],
            [
             1,
             "#f0f921"
            ]
           ],
           "sequentialminus": [
            [
             0,
             "#0d0887"
            ],
            [
             0.1111111111111111,
             "#46039f"
            ],
            [
             0.2222222222222222,
             "#7201a8"
            ],
            [
             0.3333333333333333,
             "#9c179e"
            ],
            [
             0.4444444444444444,
             "#bd3786"
            ],
            [
             0.5555555555555556,
             "#d8576b"
            ],
            [
             0.6666666666666666,
             "#ed7953"
            ],
            [
             0.7777777777777778,
             "#fb9f3a"
            ],
            [
             0.8888888888888888,
             "#fdca26"
            ],
            [
             1,
             "#f0f921"
            ]
           ]
          },
          "colorway": [
           "#636efa",
           "#EF553B",
           "#00cc96",
           "#ab63fa",
           "#FFA15A",
           "#19d3f3",
           "#FF6692",
           "#B6E880",
           "#FF97FF",
           "#FECB52"
          ],
          "font": {
           "color": "#2a3f5f"
          },
          "geo": {
           "bgcolor": "white",
           "lakecolor": "white",
           "landcolor": "#E5ECF6",
           "showlakes": true,
           "showland": true,
           "subunitcolor": "white"
          },
          "hoverlabel": {
           "align": "left"
          },
          "hovermode": "closest",
          "mapbox": {
           "style": "light"
          },
          "paper_bgcolor": "white",
          "plot_bgcolor": "#E5ECF6",
          "polar": {
           "angularaxis": {
            "gridcolor": "white",
            "linecolor": "white",
            "ticks": ""
           },
           "bgcolor": "#E5ECF6",
           "radialaxis": {
            "gridcolor": "white",
            "linecolor": "white",
            "ticks": ""
           }
          },
          "scene": {
           "xaxis": {
            "backgroundcolor": "#E5ECF6",
            "gridcolor": "white",
            "gridwidth": 2,
            "linecolor": "white",
            "showbackground": true,
            "ticks": "",
            "zerolinecolor": "white"
           },
           "yaxis": {
            "backgroundcolor": "#E5ECF6",
            "gridcolor": "white",
            "gridwidth": 2,
            "linecolor": "white",
            "showbackground": true,
            "ticks": "",
            "zerolinecolor": "white"
           },
           "zaxis": {
            "backgroundcolor": "#E5ECF6",
            "gridcolor": "white",
            "gridwidth": 2,
            "linecolor": "white",
            "showbackground": true,
            "ticks": "",
            "zerolinecolor": "white"
           }
          },
          "shapedefaults": {
           "line": {
            "color": "#2a3f5f"
           }
          },
          "ternary": {
           "aaxis": {
            "gridcolor": "white",
            "linecolor": "white",
            "ticks": ""
           },
           "baxis": {
            "gridcolor": "white",
            "linecolor": "white",
            "ticks": ""
           },
           "bgcolor": "#E5ECF6",
           "caxis": {
            "gridcolor": "white",
            "linecolor": "white",
            "ticks": ""
           }
          },
          "title": {
           "x": 0.05
          },
          "xaxis": {
           "automargin": true,
           "gridcolor": "white",
           "linecolor": "white",
           "ticks": "",
           "title": {
            "standoff": 15
           },
           "zerolinecolor": "white",
           "zerolinewidth": 2
          },
          "yaxis": {
           "automargin": true,
           "gridcolor": "white",
           "linecolor": "white",
           "ticks": "",
           "title": {
            "standoff": 15
           },
           "zerolinecolor": "white",
           "zerolinewidth": 2
          }
         }
        },
        "title": {
         "text": "Llama-3-8B: cophenetic corr across normalized layers (↑)"
        },
        "xaxis": {
         "range": [
          -0.01,
          1.01
         ],
         "title": {
          "text": "Normalized layer (0 → 1)"
         }
        },
        "yaxis": {
         "title": {
          "text": "cophenetic corr"
         }
        }
       }
      }
     },
     "metadata": {},
     "output_type": "display_data"
    }
   ],
   "source": [
    "import json\n",
    "import re\n",
    "from pathlib import Path\n",
    "import pandas as pd\n",
    "import plotly.graph_objects as go\n",
    "\n",
    "# ===== パス設定 =====\n",
    "BASE_PATH = Path(\"/home/masaki/hierarchical-repr/EntityTree/output/eval_tree\")\n",
    "\n",
    "# ===== 対象テンプレート（この順で凡例表示） =====\n",
    "TEMPLATE_LIST = [\n",
    "    \"entity_only\",\n",
    "    \"gift\",\n",
    "    \"occupation_question\",\n",
    "    \"occupation_simple\",\n",
    "    \"profession_query\",\n",
    "    \"professional_intro\",\n",
    "]\n",
    "\n",
    "# ===== Llama-3-8B を template ごとにロード =====\n",
    "def load_llama3_8b_templates(base: Path, templates: list[str]) -> pd.DataFrame:\n",
    "    rows = []\n",
    "    for tmpl in templates:\n",
    "        root = base / \"meta-llama\" / \"Meta-Llama-3-8B\" / f\"template_{tmpl}\" / \"layer_all\"\n",
    "        if not root.exists():\n",
    "            continue\n",
    "        for jf in sorted(root.glob(\"evaluation_results_L*.json\")):\n",
    "            try:\n",
    "                with open(jf, \"r\") as f:\n",
    "                    data = json.load(f)\n",
    "            except Exception:\n",
    "                continue\n",
    "            m = re.search(r\"_L(\\d+)\\.json$\", jf.name)\n",
    "            layer = int(m.group(1)) if m else data.get(\"layer\")\n",
    "            rows.append({\n",
    "                \"model\": \"meta-llama/Meta-Llama-3-8B\",\n",
    "                \"template\": tmpl,  # JSON内のtemplateは使わずパス由来を採用\n",
    "                \"layer\": layer,\n",
    "                \"jrf_k1\": data.get(\"jrf_k1\"),\n",
    "                \"jrf_k2\": data.get(\"jrf_k2\"),\n",
    "                \"gtd\": data.get(\"gtd\"),\n",
    "                \"gqd\": data.get(\"gqd\"),\n",
    "                \"cophenetic_corr\": data.get(\"cophenetic_corr\"),\n",
    "            })\n",
    "    return pd.DataFrame(rows)\n",
    "\n",
    "# ===== データ準備 =====\n",
    "df = load_llama3_8b_templates(BASE_PATH, TEMPLATE_LIST)\n",
    "if df.empty:\n",
    "    raise RuntimeError(\"Llama-3-8B の評価ファイルが見つかりません。パスとテンプレートの存在を確認してください。\")\n",
    "\n",
    "# 数値化\n",
    "for c in [\"layer\", \"jrf_k1\", \"jrf_k2\", \"gtd\", \"gqd\", \"cophenetic_corr\"]:\n",
    "    if c in df.columns:\n",
    "        df[c] = pd.to_numeric(df[c], errors=\"coerce\")\n",
    "\n",
    "# 正規化レイヤ（同一モデルなので全体最大でOK）\n",
    "max_layer = df[\"layer\"].max()\n",
    "df[\"normalized_layer\"] = df[\"layer\"] / max_layer if pd.notna(max_layer) and max_layer > 0 else 0.0\n",
    "\n",
    "# ===== 図ユーティリティ =====\n",
    "METRIC_INFO = {\n",
    "    \"jrf_k1\": (\"JRF(k=1)\", \"↓\"),\n",
    "    \"gtd\": (\"Generalized Triplet Distance\", \"↓\"),\n",
    "    \"gqd\": (\"Generalized Quartet Distance\", \"↓\"),\n",
    "    \"cophenetic_corr\": (\"cophenetic corr\", \"↑\"),\n",
    "}\n",
    "MODEL_TITLE = \"Llama-3-8B\"\n",
    "\n",
    "def plot_metric_by_templates(df_metric: pd.DataFrame, metric_key: str):\n",
    "    label, arrow = METRIC_INFO[metric_key]\n",
    "    g = df_metric.dropna(subset=[metric_key, \"normalized_layer\"])\n",
    "    if g.empty:\n",
    "        print(f\"[warn] {metric_key} のデータが空です。スキップします。\")\n",
    "        return None\n",
    "\n",
    "    fig = go.Figure()\n",
    "\n",
    "    # TEMPLATE_LIST の順で描画（存在するものだけ）\n",
    "    for tmpl in TEMPLATE_LIST:\n",
    "        sub = g[g[\"template\"] == tmpl].sort_values(\"layer\")\n",
    "        if sub.empty:\n",
    "            continue\n",
    "        fig.add_trace(\n",
    "            go.Scatter(\n",
    "                x=sub[\"normalized_layer\"],\n",
    "                y=sub[metric_key],\n",
    "                mode=\"lines+markers\",\n",
    "                name=tmpl,\n",
    "                hovertemplate=\"Layer(norm)=%{x:.2f}<br>\"\n",
    "                              f\"{label}=%{{y:.2f}}<extra>{tmpl}</extra>\",\n",
    "            )\n",
    "        )\n",
    "\n",
    "    fig.update_layout(\n",
    "        title=f\"{MODEL_TITLE}: {label} across normalized layers ({arrow})\",\n",
    "        xaxis_title=\"Normalized layer (0 → 1)\",\n",
    "        yaxis_title=label,\n",
    "        legend_title=\"Template\",\n",
    "    )\n",
    "    # ここを変更（余白付きレンジ）\n",
    "    fig.update_xaxes(range=[-0.01, 1.01])\n",
    "    return fig\n",
    "\n",
    "\n",
    "# ===== 指標ごとに 1 図ずつ表示 =====\n",
    "fig_jrfk1 = plot_metric_by_templates(df, \"jrf_k1\")\n",
    "fig_gtd   = plot_metric_by_templates(df, \"gtd\")\n",
    "fig_gqd   = plot_metric_by_templates(df, \"gqd\")\n",
    "fig_coph  = plot_metric_by_templates(df, \"cophenetic_corr\")\n",
    "\n",
    "for f in [fig_jrfk1, fig_gtd, fig_gqd, fig_coph]:\n",
    "    if f is not None:\n",
    "        f.show()\n"
   ]
  },
  {
   "cell_type": "code",
   "execution_count": 19,
   "id": "78e7f351",
   "metadata": {},
   "outputs": [
    {
     "data": {
      "text/html": [
       "<div>\n",
       "<style scoped>\n",
       "    .dataframe tbody tr th:only-of-type {\n",
       "        vertical-align: middle;\n",
       "    }\n",
       "\n",
       "    .dataframe tbody tr th {\n",
       "        vertical-align: top;\n",
       "    }\n",
       "\n",
       "    .dataframe thead th {\n",
       "        text-align: right;\n",
       "    }\n",
       "</style>\n",
       "<table border=\"1\" class=\"dataframe\">\n",
       "  <thead>\n",
       "    <tr style=\"text-align: right;\">\n",
       "      <th></th>\n",
       "      <th>model</th>\n",
       "      <th>layer</th>\n",
       "      <th>template</th>\n",
       "      <th>jrf_k1(↓)</th>\n",
       "      <th>jrf_k2(↓)</th>\n",
       "      <th>Generalized Triplet Distance (↓)</th>\n",
       "      <th>Generalized Quartet Distance (↓)</th>\n",
       "      <th>cophenetic corr (↑)</th>\n",
       "      <th>src_path</th>\n",
       "    </tr>\n",
       "  </thead>\n",
       "  <tbody>\n",
       "    <tr>\n",
       "      <th>0</th>\n",
       "      <td>meta-llama/Meta-Llama-3-8B</td>\n",
       "      <td>10</td>\n",
       "      <td>entity_only</td>\n",
       "      <td>86.77381</td>\n",
       "      <td>88.9268</td>\n",
       "      <td>0.420716</td>\n",
       "      <td>0.301984</td>\n",
       "      <td>0.186392</td>\n",
       "      <td>meta-llama/Meta-Llama-3-8B/template_entity_only/layer_all/evaluation_results_L10.json</td>\n",
       "    </tr>\n",
       "  </tbody>\n",
       "</table>\n",
       "</div>"
      ],
      "text/plain": [
       "                        model  layer     template  jrf_k1(↓)  jrf_k2(↓)  \\\n",
       "0  meta-llama/Meta-Llama-3-8B     10  entity_only   86.77381    88.9268   \n",
       "\n",
       "   Generalized Triplet Distance (↓)  Generalized Quartet Distance (↓)  \\\n",
       "0                          0.420716                          0.301984   \n",
       "\n",
       "   cophenetic corr (↑)  \\\n",
       "0             0.186392   \n",
       "\n",
       "                                                                                src_path  \n",
       "0  meta-llama/Meta-Llama-3-8B/template_entity_only/layer_all/evaluation_results_L10.json  "
      ]
     },
     "metadata": {},
     "output_type": "display_data"
    }
   ],
   "source": [
    "# ==== templateごとの比較（LM=1つ & layer=1つ）: パス厳密版 ====\n",
    "\n",
    "LM_SELECTOR = \"llama3-8b\"   # 例: \"gpt2\" / \"llama3-8b\"\n",
    "LAYER = 10                   # 例: 10\n",
    "INCLUDE_SRC_PATH = True      # パス確認用の列を出したい場合 True\n",
    "\n",
    "def _matches_lm(model: str, parts, lm_selector: str) -> bool:\n",
    "    s = str(lm_selector or \"\").lower()\n",
    "    model = str(model or \"\")\n",
    "    joined = \"/\".join(parts).lower()\n",
    "    if s in {\"llama3-8b\", \"llama3\", \"meta-llama/Meta-Llama-3-8B\".lower()}:\n",
    "        return (\"meta-llama-3-8b\" in model.lower()) or (\"meta-llama-3-8b\" in joined)\n",
    "    if s.startswith(\"gpt2\"):\n",
    "        return model.startswith(\"gpt2\")\n",
    "    return model == lm_selector\n",
    "\n",
    "def _template_from_parts(parts):\n",
    "    for p in parts:\n",
    "        if p.startswith(\"template_\"):\n",
    "            return p.replace(\"template_\", \"\", 1)\n",
    "    return None\n",
    "\n",
    "def load_template_comparison(base_path: str, lm_selector: str, layer: int, include_src_path: bool=False) -> pd.DataFrame:\n",
    "    base = Path(base_path)\n",
    "\n",
    "    # L付きのみ（表示のブレを避ける）\n",
    "    candidates = sorted(base.rglob(\"evaluation_results_L*.json\"), key=lambda p: p.as_posix())\n",
    "\n",
    "    rows = []\n",
    "    for jf in candidates:\n",
    "        try:\n",
    "            rel = jf.relative_to(base)\n",
    "            parts = rel.parts[:-1]\n",
    "            with open(jf, \"r\") as f:\n",
    "                data = json.load(f)\n",
    "\n",
    "            model = data.get(\"model\") or infer_model_from_path(parts)\n",
    "            if not _matches_lm(model, parts, lm_selector):\n",
    "                continue\n",
    "\n",
    "            # ここで元の厳密ルールを適用（Llama は template_*/layer_all のみ）\n",
    "            if not should_include(rel, model):\n",
    "                continue\n",
    "\n",
    "            lyr = layer_from_filename(rel, data.get(\"layer\"))\n",
    "            if lyr is None or int(lyr) != int(layer):\n",
    "                continue\n",
    "\n",
    "            template = data.get(\"template\") or _template_from_parts(parts)\n",
    "            if not template:\n",
    "                continue\n",
    "\n",
    "            row = {\n",
    "                \"model\": model,\n",
    "                \"layer\": int(lyr),\n",
    "                \"template\": template,\n",
    "                \"jrf_k1\": data.get(\"jrf_k1\"),\n",
    "                \"jrf_k2\": data.get(\"jrf_k2\"),\n",
    "                \"gtd\": data.get(\"gtd\"),\n",
    "                \"gqd\": data.get(\"gqd\"),\n",
    "                \"cophenetic_corr\": data.get(\"cophenetic_corr\"),\n",
    "            }\n",
    "            if include_src_path:\n",
    "                row[\"src_path\"] = rel.as_posix()\n",
    "            rows.append(row)\n",
    "\n",
    "        except Exception as e:\n",
    "            print(f\"Error loading {jf}: {e}\")\n",
    "            continue\n",
    "\n",
    "    df = pd.DataFrame(rows)\n",
    "    if df.empty:\n",
    "        print(\"No rows matched. Check LM_SELECTOR, LAYER, and file layout.\")\n",
    "        return df\n",
    "\n",
    "    # 数値化\n",
    "    to_numeric_inplace(df, [\"jrf_k1\", \"jrf_k2\", \"gtd\", \"gqd\", \"cophenetic_corr\"])\n",
    "\n",
    "    # 重複除去（同一 template が複数あっても先勝ち）\n",
    "    dedup_keys = [\"model\", \"layer\", \"template\"]\n",
    "    df = df.sort_values([\"template\", \"src_path\"] if \"src_path\" in df.columns else [\"template\"], kind=\"mergesort\")\\\n",
    "           .drop_duplicates(dedup_keys, keep=\"first\")\n",
    "\n",
    "    # 列名のリネーム（矢印付き）\n",
    "    rename = {\n",
    "        \"jrf_k1\": \"jrf_k1(↓)\",\n",
    "        \"jrf_k2\": \"jrf_k2(↓)\",\n",
    "        \"gtd\": \"Generalized Triplet Distance (↓)\",\n",
    "        \"gqd\": \"Generalized Quartet Distance (↓)\",\n",
    "        \"cophenetic_corr\": \"cophenetic corr (↑)\",\n",
    "    }\n",
    "    df = df.rename(columns=rename)\n",
    "\n",
    "    # 表示列\n",
    "    display_cols = [\"model\", \"layer\", \"template\",\n",
    "                    \"jrf_k1(↓)\", \"jrf_k2(↓)\",\n",
    "                    \"Generalized Triplet Distance (↓)\",\n",
    "                    \"Generalized Quartet Distance (↓)\",\n",
    "                    \"cophenetic corr (↑)\"]\n",
    "    if include_src_path:\n",
    "        display_cols.append(\"src_path\")\n",
    "\n",
    "    # 並び：テンプレート名昇順（必要なら jrf_k1 昇順等に変更可）\n",
    "    df = df.sort_values([\"template\"], kind=\"mergesort\")\n",
    "\n",
    "    # 必要なら丸め\n",
    "    # num_cols = [c for c in [\"jrf_k1(↓)\",\"jrf_k2(↓)\",\"Generalized Triplet Distance (↓)\",\"Generalized Quartet Distance (↓)\",\"cophenetic corr (↑)\"] if c in df.columns]\n",
    "    # df[num_cols] = df[num_cols].round(3)\n",
    "\n",
    "    return df[display_cols]\n",
    "\n",
    "# 使い方\n",
    "df_templates = load_template_comparison(BASE_PATH, LM_SELECTOR, LAYER, include_src_path=INCLUDE_SRC_PATH)\n",
    "display(df_templates)\n"
   ]
  },
  {
   "cell_type": "code",
   "execution_count": null,
   "id": "59f549c4",
   "metadata": {},
   "outputs": [
    {
     "name": "stdout",
     "output_type": "stream",
     "text": [
      "Total evaluations loaded: 155\n",
      "\n",
      "Columns available: ['dataset', 'model', 'layer', 'template', 'n_entities', 'jrf_k1', 'jrf_k2', 'gold_internal_nodes', 'pred_internal_nodes', 'full_path', 'model_type', 'model_name', 'template_type', 'qd_raw', 'qd_norm', 'gqd', 'quartets_total', 'quartets_gold_resolved', 'quartets_pred_resolved']\n"
     ]
    },
    {
     "data": {
      "text/html": [
       "<div>\n",
       "<style scoped>\n",
       "    .dataframe tbody tr th:only-of-type {\n",
       "        vertical-align: middle;\n",
       "    }\n",
       "\n",
       "    .dataframe tbody tr th {\n",
       "        vertical-align: top;\n",
       "    }\n",
       "\n",
       "    .dataframe thead th {\n",
       "        text-align: right;\n",
       "    }\n",
       "</style>\n",
       "<table border=\"1\" class=\"dataframe\">\n",
       "  <thead>\n",
       "    <tr style=\"text-align: right;\">\n",
       "      <th></th>\n",
       "      <th>model</th>\n",
       "      <th>layer</th>\n",
       "      <th>template</th>\n",
       "      <th>jrf_k1(↓)</th>\n",
       "      <th>jrf_k2(↓)</th>\n",
       "    </tr>\n",
       "  </thead>\n",
       "  <tbody>\n",
       "    <tr>\n",
       "      <th>145</th>\n",
       "      <td>fasttext</td>\n",
       "      <td>0</td>\n",
       "      <td>entity_only</td>\n",
       "      <td>90.882977</td>\n",
       "      <td>93.178090</td>\n",
       "    </tr>\n",
       "    <tr>\n",
       "      <th>154</th>\n",
       "      <td>gold_binary</td>\n",
       "      <td>0</td>\n",
       "      <td>entity_only</td>\n",
       "      <td>27.730159</td>\n",
       "      <td>30.544391</td>\n",
       "    </tr>\n",
       "    <tr>\n",
       "      <th>153</th>\n",
       "      <td>gold_binary_balanced</td>\n",
       "      <td>0</td>\n",
       "      <td>entity_only</td>\n",
       "      <td>82.000000</td>\n",
       "      <td>82.000000</td>\n",
       "    </tr>\n",
       "    <tr>\n",
       "      <th>54</th>\n",
       "      <td>gold_binary_left</td>\n",
       "      <td>0</td>\n",
       "      <td>entity_only</td>\n",
       "      <td>82.000000</td>\n",
       "      <td>82.000000</td>\n",
       "    </tr>\n",
       "    <tr>\n",
       "      <th>2</th>\n",
       "      <td>gpt2</td>\n",
       "      <td>0</td>\n",
       "      <td>profession_query</td>\n",
       "      <td>90.113621</td>\n",
       "      <td>92.605671</td>\n",
       "    </tr>\n",
       "    <tr>\n",
       "      <th>11</th>\n",
       "      <td>gpt2</td>\n",
       "      <td>0</td>\n",
       "      <td>gift</td>\n",
       "      <td>90.113621</td>\n",
       "      <td>92.605671</td>\n",
       "    </tr>\n",
       "    <tr>\n",
       "      <th>20</th>\n",
       "      <td>gpt2</td>\n",
       "      <td>0</td>\n",
       "      <td>occupation_question</td>\n",
       "      <td>90.113621</td>\n",
       "      <td>92.605671</td>\n",
       "    </tr>\n",
       "    <tr>\n",
       "      <th>29</th>\n",
       "      <td>gpt2</td>\n",
       "      <td>0</td>\n",
       "      <td>professional_intro</td>\n",
       "      <td>90.113621</td>\n",
       "      <td>92.605671</td>\n",
       "    </tr>\n",
       "    <tr>\n",
       "      <th>38</th>\n",
       "      <td>gpt2</td>\n",
       "      <td>0</td>\n",
       "      <td>occupation_simple</td>\n",
       "      <td>90.113621</td>\n",
       "      <td>92.605671</td>\n",
       "    </tr>\n",
       "    <tr>\n",
       "      <th>47</th>\n",
       "      <td>gpt2</td>\n",
       "      <td>0</td>\n",
       "      <td>entity_only</td>\n",
       "      <td>90.029555</td>\n",
       "      <td>92.570211</td>\n",
       "    </tr>\n",
       "    <tr>\n",
       "      <th>4</th>\n",
       "      <td>gpt2</td>\n",
       "      <td>1</td>\n",
       "      <td>profession_query</td>\n",
       "      <td>89.976657</td>\n",
       "      <td>92.573967</td>\n",
       "    </tr>\n",
       "    <tr>\n",
       "      <th>13</th>\n",
       "      <td>gpt2</td>\n",
       "      <td>1</td>\n",
       "      <td>gift</td>\n",
       "      <td>90.243416</td>\n",
       "      <td>92.752876</td>\n",
       "    </tr>\n",
       "    <tr>\n",
       "      <th>22</th>\n",
       "      <td>gpt2</td>\n",
       "      <td>1</td>\n",
       "      <td>occupation_question</td>\n",
       "      <td>90.061383</td>\n",
       "      <td>92.603172</td>\n",
       "    </tr>\n",
       "    <tr>\n",
       "      <th>31</th>\n",
       "      <td>gpt2</td>\n",
       "      <td>1</td>\n",
       "      <td>professional_intro</td>\n",
       "      <td>90.137905</td>\n",
       "      <td>92.695889</td>\n",
       "    </tr>\n",
       "    <tr>\n",
       "      <th>40</th>\n",
       "      <td>gpt2</td>\n",
       "      <td>1</td>\n",
       "      <td>occupation_simple</td>\n",
       "      <td>89.977157</td>\n",
       "      <td>92.542446</td>\n",
       "    </tr>\n",
       "    <tr>\n",
       "      <th>49</th>\n",
       "      <td>gpt2</td>\n",
       "      <td>1</td>\n",
       "      <td>entity_only</td>\n",
       "      <td>90.448459</td>\n",
       "      <td>92.845407</td>\n",
       "    </tr>\n",
       "    <tr>\n",
       "      <th>1</th>\n",
       "      <td>gpt2</td>\n",
       "      <td>2</td>\n",
       "      <td>profession_query</td>\n",
       "      <td>89.266955</td>\n",
       "      <td>91.650351</td>\n",
       "    </tr>\n",
       "    <tr>\n",
       "      <th>10</th>\n",
       "      <td>gpt2</td>\n",
       "      <td>2</td>\n",
       "      <td>gift</td>\n",
       "      <td>88.892063</td>\n",
       "      <td>91.434349</td>\n",
       "    </tr>\n",
       "    <tr>\n",
       "      <th>19</th>\n",
       "      <td>gpt2</td>\n",
       "      <td>2</td>\n",
       "      <td>occupation_question</td>\n",
       "      <td>89.060895</td>\n",
       "      <td>91.540690</td>\n",
       "    </tr>\n",
       "    <tr>\n",
       "      <th>28</th>\n",
       "      <td>gpt2</td>\n",
       "      <td>2</td>\n",
       "      <td>professional_intro</td>\n",
       "      <td>89.242280</td>\n",
       "      <td>91.806985</td>\n",
       "    </tr>\n",
       "    <tr>\n",
       "      <th>37</th>\n",
       "      <td>gpt2</td>\n",
       "      <td>2</td>\n",
       "      <td>occupation_simple</td>\n",
       "      <td>89.375086</td>\n",
       "      <td>91.928730</td>\n",
       "    </tr>\n",
       "    <tr>\n",
       "      <th>46</th>\n",
       "      <td>gpt2</td>\n",
       "      <td>2</td>\n",
       "      <td>entity_only</td>\n",
       "      <td>90.448276</td>\n",
       "      <td>92.847800</td>\n",
       "    </tr>\n",
       "    <tr>\n",
       "      <th>5</th>\n",
       "      <td>gpt2</td>\n",
       "      <td>3</td>\n",
       "      <td>profession_query</td>\n",
       "      <td>89.364159</td>\n",
       "      <td>91.700569</td>\n",
       "    </tr>\n",
       "    <tr>\n",
       "      <th>14</th>\n",
       "      <td>gpt2</td>\n",
       "      <td>3</td>\n",
       "      <td>gift</td>\n",
       "      <td>88.805852</td>\n",
       "      <td>91.157046</td>\n",
       "    </tr>\n",
       "    <tr>\n",
       "      <th>23</th>\n",
       "      <td>gpt2</td>\n",
       "      <td>3</td>\n",
       "      <td>occupation_question</td>\n",
       "      <td>88.726496</td>\n",
       "      <td>90.869731</td>\n",
       "    </tr>\n",
       "    <tr>\n",
       "      <th>32</th>\n",
       "      <td>gpt2</td>\n",
       "      <td>3</td>\n",
       "      <td>professional_intro</td>\n",
       "      <td>88.865786</td>\n",
       "      <td>91.250527</td>\n",
       "    </tr>\n",
       "    <tr>\n",
       "      <th>41</th>\n",
       "      <td>gpt2</td>\n",
       "      <td>3</td>\n",
       "      <td>occupation_simple</td>\n",
       "      <td>89.101616</td>\n",
       "      <td>91.379663</td>\n",
       "    </tr>\n",
       "    <tr>\n",
       "      <th>50</th>\n",
       "      <td>gpt2</td>\n",
       "      <td>3</td>\n",
       "      <td>entity_only</td>\n",
       "      <td>90.305556</td>\n",
       "      <td>92.758873</td>\n",
       "    </tr>\n",
       "    <tr>\n",
       "      <th>3</th>\n",
       "      <td>gpt2</td>\n",
       "      <td>4</td>\n",
       "      <td>profession_query</td>\n",
       "      <td>88.617949</td>\n",
       "      <td>90.808120</td>\n",
       "    </tr>\n",
       "    <tr>\n",
       "      <th>12</th>\n",
       "      <td>gpt2</td>\n",
       "      <td>4</td>\n",
       "      <td>gift</td>\n",
       "      <td>88.748883</td>\n",
       "      <td>91.345582</td>\n",
       "    </tr>\n",
       "    <tr>\n",
       "      <th>21</th>\n",
       "      <td>gpt2</td>\n",
       "      <td>4</td>\n",
       "      <td>occupation_question</td>\n",
       "      <td>88.998107</td>\n",
       "      <td>91.530348</td>\n",
       "    </tr>\n",
       "    <tr>\n",
       "      <th>30</th>\n",
       "      <td>gpt2</td>\n",
       "      <td>4</td>\n",
       "      <td>professional_intro</td>\n",
       "      <td>88.871646</td>\n",
       "      <td>91.240985</td>\n",
       "    </tr>\n",
       "    <tr>\n",
       "      <th>39</th>\n",
       "      <td>gpt2</td>\n",
       "      <td>4</td>\n",
       "      <td>occupation_simple</td>\n",
       "      <td>88.937393</td>\n",
       "      <td>91.468054</td>\n",
       "    </tr>\n",
       "    <tr>\n",
       "      <th>48</th>\n",
       "      <td>gpt2</td>\n",
       "      <td>4</td>\n",
       "      <td>entity_only</td>\n",
       "      <td>89.898407</td>\n",
       "      <td>92.477195</td>\n",
       "    </tr>\n",
       "    <tr>\n",
       "      <th>8</th>\n",
       "      <td>gpt2</td>\n",
       "      <td>6</td>\n",
       "      <td>profession_query</td>\n",
       "      <td>89.361686</td>\n",
       "      <td>91.736188</td>\n",
       "    </tr>\n",
       "    <tr>\n",
       "      <th>17</th>\n",
       "      <td>gpt2</td>\n",
       "      <td>6</td>\n",
       "      <td>gift</td>\n",
       "      <td>89.461111</td>\n",
       "      <td>91.982577</td>\n",
       "    </tr>\n",
       "    <tr>\n",
       "      <th>26</th>\n",
       "      <td>gpt2</td>\n",
       "      <td>6</td>\n",
       "      <td>occupation_question</td>\n",
       "      <td>89.684795</td>\n",
       "      <td>92.109955</td>\n",
       "    </tr>\n",
       "    <tr>\n",
       "      <th>35</th>\n",
       "      <td>gpt2</td>\n",
       "      <td>6</td>\n",
       "      <td>professional_intro</td>\n",
       "      <td>89.259532</td>\n",
       "      <td>91.686892</td>\n",
       "    </tr>\n",
       "    <tr>\n",
       "      <th>44</th>\n",
       "      <td>gpt2</td>\n",
       "      <td>6</td>\n",
       "      <td>occupation_simple</td>\n",
       "      <td>89.266052</td>\n",
       "      <td>91.687204</td>\n",
       "    </tr>\n",
       "    <tr>\n",
       "      <th>53</th>\n",
       "      <td>gpt2</td>\n",
       "      <td>6</td>\n",
       "      <td>entity_only</td>\n",
       "      <td>89.280844</td>\n",
       "      <td>91.925255</td>\n",
       "    </tr>\n",
       "    <tr>\n",
       "      <th>6</th>\n",
       "      <td>gpt2</td>\n",
       "      <td>8</td>\n",
       "      <td>profession_query</td>\n",
       "      <td>89.815084</td>\n",
       "      <td>92.441183</td>\n",
       "    </tr>\n",
       "    <tr>\n",
       "      <th>15</th>\n",
       "      <td>gpt2</td>\n",
       "      <td>8</td>\n",
       "      <td>gift</td>\n",
       "      <td>89.429876</td>\n",
       "      <td>92.193231</td>\n",
       "    </tr>\n",
       "    <tr>\n",
       "      <th>24</th>\n",
       "      <td>gpt2</td>\n",
       "      <td>8</td>\n",
       "      <td>occupation_question</td>\n",
       "      <td>89.752428</td>\n",
       "      <td>92.423989</td>\n",
       "    </tr>\n",
       "    <tr>\n",
       "      <th>33</th>\n",
       "      <td>gpt2</td>\n",
       "      <td>8</td>\n",
       "      <td>professional_intro</td>\n",
       "      <td>89.554002</td>\n",
       "      <td>92.274875</td>\n",
       "    </tr>\n",
       "    <tr>\n",
       "      <th>42</th>\n",
       "      <td>gpt2</td>\n",
       "      <td>8</td>\n",
       "      <td>occupation_simple</td>\n",
       "      <td>89.932240</td>\n",
       "      <td>92.578770</td>\n",
       "    </tr>\n",
       "    <tr>\n",
       "      <th>51</th>\n",
       "      <td>gpt2</td>\n",
       "      <td>8</td>\n",
       "      <td>entity_only</td>\n",
       "      <td>88.843137</td>\n",
       "      <td>91.584511</td>\n",
       "    </tr>\n",
       "    <tr>\n",
       "      <th>7</th>\n",
       "      <td>gpt2</td>\n",
       "      <td>10</td>\n",
       "      <td>profession_query</td>\n",
       "      <td>88.496970</td>\n",
       "      <td>91.258145</td>\n",
       "    </tr>\n",
       "    <tr>\n",
       "      <th>16</th>\n",
       "      <td>gpt2</td>\n",
       "      <td>10</td>\n",
       "      <td>gift</td>\n",
       "      <td>88.730769</td>\n",
       "      <td>91.468031</td>\n",
       "    </tr>\n",
       "    <tr>\n",
       "      <th>25</th>\n",
       "      <td>gpt2</td>\n",
       "      <td>10</td>\n",
       "      <td>occupation_question</td>\n",
       "      <td>89.231377</td>\n",
       "      <td>92.038352</td>\n",
       "    </tr>\n",
       "    <tr>\n",
       "      <th>34</th>\n",
       "      <td>gpt2</td>\n",
       "      <td>10</td>\n",
       "      <td>professional_intro</td>\n",
       "      <td>89.210567</td>\n",
       "      <td>91.923635</td>\n",
       "    </tr>\n",
       "    <tr>\n",
       "      <th>43</th>\n",
       "      <td>gpt2</td>\n",
       "      <td>10</td>\n",
       "      <td>occupation_simple</td>\n",
       "      <td>89.562105</td>\n",
       "      <td>92.293716</td>\n",
       "    </tr>\n",
       "    <tr>\n",
       "      <th>52</th>\n",
       "      <td>gpt2</td>\n",
       "      <td>10</td>\n",
       "      <td>entity_only</td>\n",
       "      <td>89.050000</td>\n",
       "      <td>91.737639</td>\n",
       "    </tr>\n",
       "    <tr>\n",
       "      <th>0</th>\n",
       "      <td>gpt2</td>\n",
       "      <td>12</td>\n",
       "      <td>profession_query</td>\n",
       "      <td>90.566845</td>\n",
       "      <td>92.986402</td>\n",
       "    </tr>\n",
       "    <tr>\n",
       "      <th>9</th>\n",
       "      <td>gpt2</td>\n",
       "      <td>12</td>\n",
       "      <td>gift</td>\n",
       "      <td>90.110101</td>\n",
       "      <td>92.649696</td>\n",
       "    </tr>\n",
       "    <tr>\n",
       "      <th>18</th>\n",
       "      <td>gpt2</td>\n",
       "      <td>12</td>\n",
       "      <td>occupation_question</td>\n",
       "      <td>90.649397</td>\n",
       "      <td>93.020332</td>\n",
       "    </tr>\n",
       "    <tr>\n",
       "      <th>27</th>\n",
       "      <td>gpt2</td>\n",
       "      <td>12</td>\n",
       "      <td>professional_intro</td>\n",
       "      <td>90.265300</td>\n",
       "      <td>92.687195</td>\n",
       "    </tr>\n",
       "    <tr>\n",
       "      <th>36</th>\n",
       "      <td>gpt2</td>\n",
       "      <td>12</td>\n",
       "      <td>occupation_simple</td>\n",
       "      <td>90.920115</td>\n",
       "      <td>93.180029</td>\n",
       "    </tr>\n",
       "    <tr>\n",
       "      <th>45</th>\n",
       "      <td>gpt2</td>\n",
       "      <td>12</td>\n",
       "      <td>entity_only</td>\n",
       "      <td>90.604362</td>\n",
       "      <td>92.997819</td>\n",
       "    </tr>\n",
       "    <tr>\n",
       "      <th>59</th>\n",
       "      <td>meta-llama/Meta-Llama-3-8B</td>\n",
       "      <td>0</td>\n",
       "      <td>profession_query</td>\n",
       "      <td>90.384612</td>\n",
       "      <td>92.853268</td>\n",
       "    </tr>\n",
       "    <tr>\n",
       "      <th>74</th>\n",
       "      <td>meta-llama/Meta-Llama-3-8B</td>\n",
       "      <td>0</td>\n",
       "      <td>gift</td>\n",
       "      <td>90.384612</td>\n",
       "      <td>92.853268</td>\n",
       "    </tr>\n",
       "    <tr>\n",
       "      <th>89</th>\n",
       "      <td>meta-llama/Meta-Llama-3-8B</td>\n",
       "      <td>0</td>\n",
       "      <td>occupation_question</td>\n",
       "      <td>90.384612</td>\n",
       "      <td>92.853268</td>\n",
       "    </tr>\n",
       "    <tr>\n",
       "      <th>104</th>\n",
       "      <td>meta-llama/Meta-Llama-3-8B</td>\n",
       "      <td>0</td>\n",
       "      <td>professional_intro</td>\n",
       "      <td>90.384612</td>\n",
       "      <td>92.853268</td>\n",
       "    </tr>\n",
       "    <tr>\n",
       "      <th>119</th>\n",
       "      <td>meta-llama/Meta-Llama-3-8B</td>\n",
       "      <td>0</td>\n",
       "      <td>occupation_simple</td>\n",
       "      <td>90.384612</td>\n",
       "      <td>92.853268</td>\n",
       "    </tr>\n",
       "    <tr>\n",
       "      <th>134</th>\n",
       "      <td>meta-llama/Meta-Llama-3-8B</td>\n",
       "      <td>0</td>\n",
       "      <td>entity_only</td>\n",
       "      <td>90.559756</td>\n",
       "      <td>92.941175</td>\n",
       "    </tr>\n",
       "    <tr>\n",
       "      <th>58</th>\n",
       "      <td>meta-llama/Meta-Llama-3-8B</td>\n",
       "      <td>2</td>\n",
       "      <td>profession_query</td>\n",
       "      <td>90.082051</td>\n",
       "      <td>92.498258</td>\n",
       "    </tr>\n",
       "    <tr>\n",
       "      <th>73</th>\n",
       "      <td>meta-llama/Meta-Llama-3-8B</td>\n",
       "      <td>2</td>\n",
       "      <td>gift</td>\n",
       "      <td>90.103242</td>\n",
       "      <td>92.522148</td>\n",
       "    </tr>\n",
       "    <tr>\n",
       "      <th>88</th>\n",
       "      <td>meta-llama/Meta-Llama-3-8B</td>\n",
       "      <td>2</td>\n",
       "      <td>occupation_question</td>\n",
       "      <td>89.894850</td>\n",
       "      <td>92.348902</td>\n",
       "    </tr>\n",
       "    <tr>\n",
       "      <th>103</th>\n",
       "      <td>meta-llama/Meta-Llama-3-8B</td>\n",
       "      <td>2</td>\n",
       "      <td>professional_intro</td>\n",
       "      <td>90.114839</td>\n",
       "      <td>92.581344</td>\n",
       "    </tr>\n",
       "    <tr>\n",
       "      <th>118</th>\n",
       "      <td>meta-llama/Meta-Llama-3-8B</td>\n",
       "      <td>2</td>\n",
       "      <td>occupation_simple</td>\n",
       "      <td>90.120202</td>\n",
       "      <td>92.554897</td>\n",
       "    </tr>\n",
       "    <tr>\n",
       "      <th>133</th>\n",
       "      <td>meta-llama/Meta-Llama-3-8B</td>\n",
       "      <td>2</td>\n",
       "      <td>entity_only</td>\n",
       "      <td>90.410040</td>\n",
       "      <td>92.754235</td>\n",
       "    </tr>\n",
       "    <tr>\n",
       "      <th>60</th>\n",
       "      <td>meta-llama/Meta-Llama-3-8B</td>\n",
       "      <td>4</td>\n",
       "      <td>profession_query</td>\n",
       "      <td>89.360128</td>\n",
       "      <td>91.737467</td>\n",
       "    </tr>\n",
       "    <tr>\n",
       "      <th>75</th>\n",
       "      <td>meta-llama/Meta-Llama-3-8B</td>\n",
       "      <td>4</td>\n",
       "      <td>gift</td>\n",
       "      <td>89.316522</td>\n",
       "      <td>91.784686</td>\n",
       "    </tr>\n",
       "    <tr>\n",
       "      <th>90</th>\n",
       "      <td>meta-llama/Meta-Llama-3-8B</td>\n",
       "      <td>4</td>\n",
       "      <td>occupation_question</td>\n",
       "      <td>89.726802</td>\n",
       "      <td>92.270009</td>\n",
       "    </tr>\n",
       "    <tr>\n",
       "      <th>105</th>\n",
       "      <td>meta-llama/Meta-Llama-3-8B</td>\n",
       "      <td>4</td>\n",
       "      <td>professional_intro</td>\n",
       "      <td>89.494982</td>\n",
       "      <td>91.907484</td>\n",
       "    </tr>\n",
       "    <tr>\n",
       "      <th>120</th>\n",
       "      <td>meta-llama/Meta-Llama-3-8B</td>\n",
       "      <td>4</td>\n",
       "      <td>occupation_simple</td>\n",
       "      <td>89.964897</td>\n",
       "      <td>92.502436</td>\n",
       "    </tr>\n",
       "    <tr>\n",
       "      <th>135</th>\n",
       "      <td>meta-llama/Meta-Llama-3-8B</td>\n",
       "      <td>4</td>\n",
       "      <td>entity_only</td>\n",
       "      <td>89.331169</td>\n",
       "      <td>91.820459</td>\n",
       "    </tr>\n",
       "    <tr>\n",
       "      <th>64</th>\n",
       "      <td>meta-llama/Meta-Llama-3-8B</td>\n",
       "      <td>5</td>\n",
       "      <td>profession_query</td>\n",
       "      <td>89.035714</td>\n",
       "      <td>91.666312</td>\n",
       "    </tr>\n",
       "    <tr>\n",
       "      <th>79</th>\n",
       "      <td>meta-llama/Meta-Llama-3-8B</td>\n",
       "      <td>5</td>\n",
       "      <td>gift</td>\n",
       "      <td>89.515568</td>\n",
       "      <td>92.133426</td>\n",
       "    </tr>\n",
       "    <tr>\n",
       "      <th>94</th>\n",
       "      <td>meta-llama/Meta-Llama-3-8B</td>\n",
       "      <td>5</td>\n",
       "      <td>occupation_question</td>\n",
       "      <td>89.125000</td>\n",
       "      <td>91.724826</td>\n",
       "    </tr>\n",
       "    <tr>\n",
       "      <th>109</th>\n",
       "      <td>meta-llama/Meta-Llama-3-8B</td>\n",
       "      <td>5</td>\n",
       "      <td>professional_intro</td>\n",
       "      <td>89.527989</td>\n",
       "      <td>92.100309</td>\n",
       "    </tr>\n",
       "    <tr>\n",
       "      <th>124</th>\n",
       "      <td>meta-llama/Meta-Llama-3-8B</td>\n",
       "      <td>5</td>\n",
       "      <td>occupation_simple</td>\n",
       "      <td>90.083333</td>\n",
       "      <td>92.692515</td>\n",
       "    </tr>\n",
       "    <tr>\n",
       "      <th>139</th>\n",
       "      <td>meta-llama/Meta-Llama-3-8B</td>\n",
       "      <td>5</td>\n",
       "      <td>entity_only</td>\n",
       "      <td>88.435965</td>\n",
       "      <td>91.140552</td>\n",
       "    </tr>\n",
       "    <tr>\n",
       "      <th>69</th>\n",
       "      <td>meta-llama/Meta-Llama-3-8B</td>\n",
       "      <td>6</td>\n",
       "      <td>profession_query</td>\n",
       "      <td>88.838889</td>\n",
       "      <td>91.656466</td>\n",
       "    </tr>\n",
       "    <tr>\n",
       "      <th>84</th>\n",
       "      <td>meta-llama/Meta-Llama-3-8B</td>\n",
       "      <td>6</td>\n",
       "      <td>gift</td>\n",
       "      <td>89.261111</td>\n",
       "      <td>92.040910</td>\n",
       "    </tr>\n",
       "    <tr>\n",
       "      <th>99</th>\n",
       "      <td>meta-llama/Meta-Llama-3-8B</td>\n",
       "      <td>6</td>\n",
       "      <td>occupation_question</td>\n",
       "      <td>89.000000</td>\n",
       "      <td>91.618056</td>\n",
       "    </tr>\n",
       "    <tr>\n",
       "      <th>114</th>\n",
       "      <td>meta-llama/Meta-Llama-3-8B</td>\n",
       "      <td>6</td>\n",
       "      <td>professional_intro</td>\n",
       "      <td>88.674964</td>\n",
       "      <td>91.424509</td>\n",
       "    </tr>\n",
       "    <tr>\n",
       "      <th>129</th>\n",
       "      <td>meta-llama/Meta-Llama-3-8B</td>\n",
       "      <td>6</td>\n",
       "      <td>occupation_simple</td>\n",
       "      <td>89.388889</td>\n",
       "      <td>92.070216</td>\n",
       "    </tr>\n",
       "    <tr>\n",
       "      <th>144</th>\n",
       "      <td>meta-llama/Meta-Llama-3-8B</td>\n",
       "      <td>6</td>\n",
       "      <td>entity_only</td>\n",
       "      <td>87.839744</td>\n",
       "      <td>90.513868</td>\n",
       "    </tr>\n",
       "    <tr>\n",
       "      <th>65</th>\n",
       "      <td>meta-llama/Meta-Llama-3-8B</td>\n",
       "      <td>8</td>\n",
       "      <td>profession_query</td>\n",
       "      <td>88.200000</td>\n",
       "      <td>90.985556</td>\n",
       "    </tr>\n",
       "    <tr>\n",
       "      <th>80</th>\n",
       "      <td>meta-llama/Meta-Llama-3-8B</td>\n",
       "      <td>8</td>\n",
       "      <td>gift</td>\n",
       "      <td>87.250000</td>\n",
       "      <td>89.899306</td>\n",
       "    </tr>\n",
       "    <tr>\n",
       "      <th>95</th>\n",
       "      <td>meta-llama/Meta-Llama-3-8B</td>\n",
       "      <td>8</td>\n",
       "      <td>occupation_question</td>\n",
       "      <td>88.923016</td>\n",
       "      <td>91.629312</td>\n",
       "    </tr>\n",
       "    <tr>\n",
       "      <th>110</th>\n",
       "      <td>meta-llama/Meta-Llama-3-8B</td>\n",
       "      <td>8</td>\n",
       "      <td>professional_intro</td>\n",
       "      <td>88.641214</td>\n",
       "      <td>91.343549</td>\n",
       "    </tr>\n",
       "    <tr>\n",
       "      <th>125</th>\n",
       "      <td>meta-llama/Meta-Llama-3-8B</td>\n",
       "      <td>8</td>\n",
       "      <td>occupation_simple</td>\n",
       "      <td>89.133356</td>\n",
       "      <td>91.842649</td>\n",
       "    </tr>\n",
       "    <tr>\n",
       "      <th>140</th>\n",
       "      <td>meta-llama/Meta-Llama-3-8B</td>\n",
       "      <td>8</td>\n",
       "      <td>entity_only</td>\n",
       "      <td>87.821429</td>\n",
       "      <td>90.525723</td>\n",
       "    </tr>\n",
       "    <tr>\n",
       "      <th>67</th>\n",
       "      <td>meta-llama/Meta-Llama-3-8B</td>\n",
       "      <td>10</td>\n",
       "      <td>profession_query</td>\n",
       "      <td>88.166667</td>\n",
       "      <td>90.946111</td>\n",
       "    </tr>\n",
       "    <tr>\n",
       "      <th>82</th>\n",
       "      <td>meta-llama/Meta-Llama-3-8B</td>\n",
       "      <td>10</td>\n",
       "      <td>gift</td>\n",
       "      <td>88.244444</td>\n",
       "      <td>90.796790</td>\n",
       "    </tr>\n",
       "    <tr>\n",
       "      <th>97</th>\n",
       "      <td>meta-llama/Meta-Llama-3-8B</td>\n",
       "      <td>10</td>\n",
       "      <td>occupation_question</td>\n",
       "      <td>88.477778</td>\n",
       "      <td>91.159938</td>\n",
       "    </tr>\n",
       "    <tr>\n",
       "      <th>112</th>\n",
       "      <td>meta-llama/Meta-Llama-3-8B</td>\n",
       "      <td>10</td>\n",
       "      <td>professional_intro</td>\n",
       "      <td>88.583333</td>\n",
       "      <td>91.364583</td>\n",
       "    </tr>\n",
       "    <tr>\n",
       "      <th>127</th>\n",
       "      <td>meta-llama/Meta-Llama-3-8B</td>\n",
       "      <td>10</td>\n",
       "      <td>occupation_simple</td>\n",
       "      <td>88.560755</td>\n",
       "      <td>91.265806</td>\n",
       "    </tr>\n",
       "    <tr>\n",
       "      <th>142</th>\n",
       "      <td>meta-llama/Meta-Llama-3-8B</td>\n",
       "      <td>10</td>\n",
       "      <td>entity_only</td>\n",
       "      <td>86.773810</td>\n",
       "      <td>88.926800</td>\n",
       "    </tr>\n",
       "    <tr>\n",
       "      <th>57</th>\n",
       "      <td>meta-llama/Meta-Llama-3-8B</td>\n",
       "      <td>12</td>\n",
       "      <td>profession_query</td>\n",
       "      <td>87.833333</td>\n",
       "      <td>90.534722</td>\n",
       "    </tr>\n",
       "    <tr>\n",
       "      <th>72</th>\n",
       "      <td>meta-llama/Meta-Llama-3-8B</td>\n",
       "      <td>12</td>\n",
       "      <td>gift</td>\n",
       "      <td>89.294289</td>\n",
       "      <td>91.851219</td>\n",
       "    </tr>\n",
       "    <tr>\n",
       "      <th>87</th>\n",
       "      <td>meta-llama/Meta-Llama-3-8B</td>\n",
       "      <td>12</td>\n",
       "      <td>occupation_question</td>\n",
       "      <td>88.456349</td>\n",
       "      <td>91.021534</td>\n",
       "    </tr>\n",
       "    <tr>\n",
       "      <th>102</th>\n",
       "      <td>meta-llama/Meta-Llama-3-8B</td>\n",
       "      <td>12</td>\n",
       "      <td>professional_intro</td>\n",
       "      <td>87.998718</td>\n",
       "      <td>90.729059</td>\n",
       "    </tr>\n",
       "    <tr>\n",
       "      <th>117</th>\n",
       "      <td>meta-llama/Meta-Llama-3-8B</td>\n",
       "      <td>12</td>\n",
       "      <td>occupation_simple</td>\n",
       "      <td>88.876623</td>\n",
       "      <td>91.490625</td>\n",
       "    </tr>\n",
       "    <tr>\n",
       "      <th>132</th>\n",
       "      <td>meta-llama/Meta-Llama-3-8B</td>\n",
       "      <td>12</td>\n",
       "      <td>entity_only</td>\n",
       "      <td>87.177778</td>\n",
       "      <td>89.528179</td>\n",
       "    </tr>\n",
       "    <tr>\n",
       "      <th>56</th>\n",
       "      <td>meta-llama/Meta-Llama-3-8B</td>\n",
       "      <td>14</td>\n",
       "      <td>profession_query</td>\n",
       "      <td>88.029060</td>\n",
       "      <td>90.817811</td>\n",
       "    </tr>\n",
       "    <tr>\n",
       "      <th>71</th>\n",
       "      <td>meta-llama/Meta-Llama-3-8B</td>\n",
       "      <td>14</td>\n",
       "      <td>gift</td>\n",
       "      <td>87.861111</td>\n",
       "      <td>90.557485</td>\n",
       "    </tr>\n",
       "    <tr>\n",
       "      <th>86</th>\n",
       "      <td>meta-llama/Meta-Llama-3-8B</td>\n",
       "      <td>14</td>\n",
       "      <td>occupation_question</td>\n",
       "      <td>88.526667</td>\n",
       "      <td>91.218811</td>\n",
       "    </tr>\n",
       "    <tr>\n",
       "      <th>101</th>\n",
       "      <td>meta-llama/Meta-Llama-3-8B</td>\n",
       "      <td>14</td>\n",
       "      <td>professional_intro</td>\n",
       "      <td>87.994444</td>\n",
       "      <td>90.716960</td>\n",
       "    </tr>\n",
       "    <tr>\n",
       "      <th>116</th>\n",
       "      <td>meta-llama/Meta-Llama-3-8B</td>\n",
       "      <td>14</td>\n",
       "      <td>occupation_simple</td>\n",
       "      <td>88.316667</td>\n",
       "      <td>90.899861</td>\n",
       "    </tr>\n",
       "    <tr>\n",
       "      <th>131</th>\n",
       "      <td>meta-llama/Meta-Llama-3-8B</td>\n",
       "      <td>14</td>\n",
       "      <td>entity_only</td>\n",
       "      <td>87.190476</td>\n",
       "      <td>89.957278</td>\n",
       "    </tr>\n",
       "    <tr>\n",
       "      <th>66</th>\n",
       "      <td>meta-llama/Meta-Llama-3-8B</td>\n",
       "      <td>15</td>\n",
       "      <td>profession_query</td>\n",
       "      <td>88.761111</td>\n",
       "      <td>91.558688</td>\n",
       "    </tr>\n",
       "    <tr>\n",
       "      <th>81</th>\n",
       "      <td>meta-llama/Meta-Llama-3-8B</td>\n",
       "      <td>15</td>\n",
       "      <td>gift</td>\n",
       "      <td>88.672222</td>\n",
       "      <td>91.124059</td>\n",
       "    </tr>\n",
       "    <tr>\n",
       "      <th>96</th>\n",
       "      <td>meta-llama/Meta-Llama-3-8B</td>\n",
       "      <td>15</td>\n",
       "      <td>occupation_question</td>\n",
       "      <td>88.972222</td>\n",
       "      <td>91.754244</td>\n",
       "    </tr>\n",
       "    <tr>\n",
       "      <th>111</th>\n",
       "      <td>meta-llama/Meta-Llama-3-8B</td>\n",
       "      <td>15</td>\n",
       "      <td>professional_intro</td>\n",
       "      <td>87.646465</td>\n",
       "      <td>90.497271</td>\n",
       "    </tr>\n",
       "    <tr>\n",
       "      <th>126</th>\n",
       "      <td>meta-llama/Meta-Llama-3-8B</td>\n",
       "      <td>15</td>\n",
       "      <td>occupation_simple</td>\n",
       "      <td>87.792929</td>\n",
       "      <td>90.505344</td>\n",
       "    </tr>\n",
       "    <tr>\n",
       "      <th>141</th>\n",
       "      <td>meta-llama/Meta-Llama-3-8B</td>\n",
       "      <td>15</td>\n",
       "      <td>entity_only</td>\n",
       "      <td>87.946032</td>\n",
       "      <td>90.659655</td>\n",
       "    </tr>\n",
       "    <tr>\n",
       "      <th>55</th>\n",
       "      <td>meta-llama/Meta-Llama-3-8B</td>\n",
       "      <td>18</td>\n",
       "      <td>profession_query</td>\n",
       "      <td>89.447330</td>\n",
       "      <td>92.175651</td>\n",
       "    </tr>\n",
       "    <tr>\n",
       "      <th>70</th>\n",
       "      <td>meta-llama/Meta-Llama-3-8B</td>\n",
       "      <td>18</td>\n",
       "      <td>gift</td>\n",
       "      <td>89.815873</td>\n",
       "      <td>92.422467</td>\n",
       "    </tr>\n",
       "    <tr>\n",
       "      <th>85</th>\n",
       "      <td>meta-llama/Meta-Llama-3-8B</td>\n",
       "      <td>18</td>\n",
       "      <td>occupation_question</td>\n",
       "      <td>90.318840</td>\n",
       "      <td>92.763033</td>\n",
       "    </tr>\n",
       "    <tr>\n",
       "      <th>100</th>\n",
       "      <td>meta-llama/Meta-Llama-3-8B</td>\n",
       "      <td>18</td>\n",
       "      <td>professional_intro</td>\n",
       "      <td>89.336847</td>\n",
       "      <td>91.906466</td>\n",
       "    </tr>\n",
       "    <tr>\n",
       "      <th>115</th>\n",
       "      <td>meta-llama/Meta-Llama-3-8B</td>\n",
       "      <td>18</td>\n",
       "      <td>occupation_simple</td>\n",
       "      <td>89.446772</td>\n",
       "      <td>92.198270</td>\n",
       "    </tr>\n",
       "    <tr>\n",
       "      <th>130</th>\n",
       "      <td>meta-llama/Meta-Llama-3-8B</td>\n",
       "      <td>18</td>\n",
       "      <td>entity_only</td>\n",
       "      <td>88.809343</td>\n",
       "      <td>91.410802</td>\n",
       "    </tr>\n",
       "    <tr>\n",
       "      <th>62</th>\n",
       "      <td>meta-llama/Meta-Llama-3-8B</td>\n",
       "      <td>20</td>\n",
       "      <td>profession_query</td>\n",
       "      <td>89.475355</td>\n",
       "      <td>92.177380</td>\n",
       "    </tr>\n",
       "    <tr>\n",
       "      <th>77</th>\n",
       "      <td>meta-llama/Meta-Llama-3-8B</td>\n",
       "      <td>20</td>\n",
       "      <td>gift</td>\n",
       "      <td>89.004762</td>\n",
       "      <td>91.673423</td>\n",
       "    </tr>\n",
       "    <tr>\n",
       "      <th>92</th>\n",
       "      <td>meta-llama/Meta-Llama-3-8B</td>\n",
       "      <td>20</td>\n",
       "      <td>occupation_question</td>\n",
       "      <td>89.391752</td>\n",
       "      <td>92.130251</td>\n",
       "    </tr>\n",
       "    <tr>\n",
       "      <th>107</th>\n",
       "      <td>meta-llama/Meta-Llama-3-8B</td>\n",
       "      <td>20</td>\n",
       "      <td>professional_intro</td>\n",
       "      <td>89.924359</td>\n",
       "      <td>92.095246</td>\n",
       "    </tr>\n",
       "    <tr>\n",
       "      <th>122</th>\n",
       "      <td>meta-llama/Meta-Llama-3-8B</td>\n",
       "      <td>20</td>\n",
       "      <td>occupation_simple</td>\n",
       "      <td>89.752126</td>\n",
       "      <td>92.257429</td>\n",
       "    </tr>\n",
       "    <tr>\n",
       "      <th>137</th>\n",
       "      <td>meta-llama/Meta-Llama-3-8B</td>\n",
       "      <td>20</td>\n",
       "      <td>entity_only</td>\n",
       "      <td>88.419192</td>\n",
       "      <td>91.049274</td>\n",
       "    </tr>\n",
       "    <tr>\n",
       "      <th>61</th>\n",
       "      <td>meta-llama/Meta-Llama-3-8B</td>\n",
       "      <td>25</td>\n",
       "      <td>profession_query</td>\n",
       "      <td>90.046970</td>\n",
       "      <td>92.613842</td>\n",
       "    </tr>\n",
       "    <tr>\n",
       "      <th>76</th>\n",
       "      <td>meta-llama/Meta-Llama-3-8B</td>\n",
       "      <td>25</td>\n",
       "      <td>gift</td>\n",
       "      <td>89.037879</td>\n",
       "      <td>91.660267</td>\n",
       "    </tr>\n",
       "    <tr>\n",
       "      <th>91</th>\n",
       "      <td>meta-llama/Meta-Llama-3-8B</td>\n",
       "      <td>25</td>\n",
       "      <td>occupation_question</td>\n",
       "      <td>88.989810</td>\n",
       "      <td>91.706453</td>\n",
       "    </tr>\n",
       "    <tr>\n",
       "      <th>106</th>\n",
       "      <td>meta-llama/Meta-Llama-3-8B</td>\n",
       "      <td>25</td>\n",
       "      <td>professional_intro</td>\n",
       "      <td>88.987879</td>\n",
       "      <td>91.321517</td>\n",
       "    </tr>\n",
       "    <tr>\n",
       "      <th>121</th>\n",
       "      <td>meta-llama/Meta-Llama-3-8B</td>\n",
       "      <td>25</td>\n",
       "      <td>occupation_simple</td>\n",
       "      <td>89.256667</td>\n",
       "      <td>91.214728</td>\n",
       "    </tr>\n",
       "    <tr>\n",
       "      <th>136</th>\n",
       "      <td>meta-llama/Meta-Llama-3-8B</td>\n",
       "      <td>25</td>\n",
       "      <td>entity_only</td>\n",
       "      <td>87.804113</td>\n",
       "      <td>90.379624</td>\n",
       "    </tr>\n",
       "    <tr>\n",
       "      <th>68</th>\n",
       "      <td>meta-llama/Meta-Llama-3-8B</td>\n",
       "      <td>30</td>\n",
       "      <td>profession_query</td>\n",
       "      <td>88.925439</td>\n",
       "      <td>91.478022</td>\n",
       "    </tr>\n",
       "    <tr>\n",
       "      <th>83</th>\n",
       "      <td>meta-llama/Meta-Llama-3-8B</td>\n",
       "      <td>30</td>\n",
       "      <td>gift</td>\n",
       "      <td>87.638889</td>\n",
       "      <td>89.976466</td>\n",
       "    </tr>\n",
       "    <tr>\n",
       "      <th>98</th>\n",
       "      <td>meta-llama/Meta-Llama-3-8B</td>\n",
       "      <td>30</td>\n",
       "      <td>occupation_question</td>\n",
       "      <td>86.854864</td>\n",
       "      <td>89.257975</td>\n",
       "    </tr>\n",
       "    <tr>\n",
       "      <th>113</th>\n",
       "      <td>meta-llama/Meta-Llama-3-8B</td>\n",
       "      <td>30</td>\n",
       "      <td>professional_intro</td>\n",
       "      <td>87.702415</td>\n",
       "      <td>90.112183</td>\n",
       "    </tr>\n",
       "    <tr>\n",
       "      <th>128</th>\n",
       "      <td>meta-llama/Meta-Llama-3-8B</td>\n",
       "      <td>30</td>\n",
       "      <td>occupation_simple</td>\n",
       "      <td>89.381551</td>\n",
       "      <td>91.524442</td>\n",
       "    </tr>\n",
       "    <tr>\n",
       "      <th>143</th>\n",
       "      <td>meta-llama/Meta-Llama-3-8B</td>\n",
       "      <td>30</td>\n",
       "      <td>entity_only</td>\n",
       "      <td>87.702381</td>\n",
       "      <td>90.512259</td>\n",
       "    </tr>\n",
       "    <tr>\n",
       "      <th>63</th>\n",
       "      <td>meta-llama/Meta-Llama-3-8B</td>\n",
       "      <td>32</td>\n",
       "      <td>profession_query</td>\n",
       "      <td>88.055556</td>\n",
       "      <td>90.544753</td>\n",
       "    </tr>\n",
       "    <tr>\n",
       "      <th>78</th>\n",
       "      <td>meta-llama/Meta-Llama-3-8B</td>\n",
       "      <td>32</td>\n",
       "      <td>gift</td>\n",
       "      <td>87.813527</td>\n",
       "      <td>90.355239</td>\n",
       "    </tr>\n",
       "    <tr>\n",
       "      <th>93</th>\n",
       "      <td>meta-llama/Meta-Llama-3-8B</td>\n",
       "      <td>32</td>\n",
       "      <td>occupation_question</td>\n",
       "      <td>87.150000</td>\n",
       "      <td>89.677639</td>\n",
       "    </tr>\n",
       "    <tr>\n",
       "      <th>108</th>\n",
       "      <td>meta-llama/Meta-Llama-3-8B</td>\n",
       "      <td>32</td>\n",
       "      <td>professional_intro</td>\n",
       "      <td>88.011111</td>\n",
       "      <td>90.688827</td>\n",
       "    </tr>\n",
       "    <tr>\n",
       "      <th>123</th>\n",
       "      <td>meta-llama/Meta-Llama-3-8B</td>\n",
       "      <td>32</td>\n",
       "      <td>occupation_simple</td>\n",
       "      <td>89.206093</td>\n",
       "      <td>91.596878</td>\n",
       "    </tr>\n",
       "    <tr>\n",
       "      <th>138</th>\n",
       "      <td>meta-llama/Meta-Llama-3-8B</td>\n",
       "      <td>32</td>\n",
       "      <td>entity_only</td>\n",
       "      <td>87.555556</td>\n",
       "      <td>90.306327</td>\n",
       "    </tr>\n",
       "    <tr>\n",
       "      <th>146</th>\n",
       "      <td>random_emb</td>\n",
       "      <td>0</td>\n",
       "      <td>entity_only</td>\n",
       "      <td>91.137045</td>\n",
       "      <td>93.300337</td>\n",
       "    </tr>\n",
       "    <tr>\n",
       "      <th>147</th>\n",
       "      <td>random_emb</td>\n",
       "      <td>0</td>\n",
       "      <td>entity_only</td>\n",
       "      <td>90.936667</td>\n",
       "      <td>93.195670</td>\n",
       "    </tr>\n",
       "    <tr>\n",
       "      <th>148</th>\n",
       "      <td>random_emb</td>\n",
       "      <td>0</td>\n",
       "      <td>entity_only</td>\n",
       "      <td>90.965352</td>\n",
       "      <td>93.231682</td>\n",
       "    </tr>\n",
       "    <tr>\n",
       "      <th>149</th>\n",
       "      <td>random_emb</td>\n",
       "      <td>0</td>\n",
       "      <td>entity_only</td>\n",
       "      <td>91.300962</td>\n",
       "      <td>93.377788</td>\n",
       "    </tr>\n",
       "    <tr>\n",
       "      <th>150</th>\n",
       "      <td>random_emb</td>\n",
       "      <td>0</td>\n",
       "      <td>entity_only</td>\n",
       "      <td>91.113166</td>\n",
       "      <td>93.281603</td>\n",
       "    </tr>\n",
       "    <tr>\n",
       "      <th>151</th>\n",
       "      <td>random_emb</td>\n",
       "      <td>0</td>\n",
       "      <td>entity_only</td>\n",
       "      <td>90.277933</td>\n",
       "      <td>92.785092</td>\n",
       "    </tr>\n",
       "    <tr>\n",
       "      <th>152</th>\n",
       "      <td>random_emb</td>\n",
       "      <td>0</td>\n",
       "      <td>entity_only</td>\n",
       "      <td>91.076198</td>\n",
       "      <td>93.268694</td>\n",
       "    </tr>\n",
       "  </tbody>\n",
       "</table>\n",
       "</div>"
      ],
      "text/plain": [
       "                          model  layer             template  jrf_k1(↓)  \\\n",
       "145                    fasttext      0          entity_only  90.882977   \n",
       "154                 gold_binary      0          entity_only  27.730159   \n",
       "153        gold_binary_balanced      0          entity_only  82.000000   \n",
       "54             gold_binary_left      0          entity_only  82.000000   \n",
       "2                          gpt2      0     profession_query  90.113621   \n",
       "11                         gpt2      0                 gift  90.113621   \n",
       "20                         gpt2      0  occupation_question  90.113621   \n",
       "29                         gpt2      0   professional_intro  90.113621   \n",
       "38                         gpt2      0    occupation_simple  90.113621   \n",
       "47                         gpt2      0          entity_only  90.029555   \n",
       "4                          gpt2      1     profession_query  89.976657   \n",
       "13                         gpt2      1                 gift  90.243416   \n",
       "22                         gpt2      1  occupation_question  90.061383   \n",
       "31                         gpt2      1   professional_intro  90.137905   \n",
       "40                         gpt2      1    occupation_simple  89.977157   \n",
       "49                         gpt2      1          entity_only  90.448459   \n",
       "1                          gpt2      2     profession_query  89.266955   \n",
       "10                         gpt2      2                 gift  88.892063   \n",
       "19                         gpt2      2  occupation_question  89.060895   \n",
       "28                         gpt2      2   professional_intro  89.242280   \n",
       "37                         gpt2      2    occupation_simple  89.375086   \n",
       "46                         gpt2      2          entity_only  90.448276   \n",
       "5                          gpt2      3     profession_query  89.364159   \n",
       "14                         gpt2      3                 gift  88.805852   \n",
       "23                         gpt2      3  occupation_question  88.726496   \n",
       "32                         gpt2      3   professional_intro  88.865786   \n",
       "41                         gpt2      3    occupation_simple  89.101616   \n",
       "50                         gpt2      3          entity_only  90.305556   \n",
       "3                          gpt2      4     profession_query  88.617949   \n",
       "12                         gpt2      4                 gift  88.748883   \n",
       "21                         gpt2      4  occupation_question  88.998107   \n",
       "30                         gpt2      4   professional_intro  88.871646   \n",
       "39                         gpt2      4    occupation_simple  88.937393   \n",
       "48                         gpt2      4          entity_only  89.898407   \n",
       "8                          gpt2      6     profession_query  89.361686   \n",
       "17                         gpt2      6                 gift  89.461111   \n",
       "26                         gpt2      6  occupation_question  89.684795   \n",
       "35                         gpt2      6   professional_intro  89.259532   \n",
       "44                         gpt2      6    occupation_simple  89.266052   \n",
       "53                         gpt2      6          entity_only  89.280844   \n",
       "6                          gpt2      8     profession_query  89.815084   \n",
       "15                         gpt2      8                 gift  89.429876   \n",
       "24                         gpt2      8  occupation_question  89.752428   \n",
       "33                         gpt2      8   professional_intro  89.554002   \n",
       "42                         gpt2      8    occupation_simple  89.932240   \n",
       "51                         gpt2      8          entity_only  88.843137   \n",
       "7                          gpt2     10     profession_query  88.496970   \n",
       "16                         gpt2     10                 gift  88.730769   \n",
       "25                         gpt2     10  occupation_question  89.231377   \n",
       "34                         gpt2     10   professional_intro  89.210567   \n",
       "43                         gpt2     10    occupation_simple  89.562105   \n",
       "52                         gpt2     10          entity_only  89.050000   \n",
       "0                          gpt2     12     profession_query  90.566845   \n",
       "9                          gpt2     12                 gift  90.110101   \n",
       "18                         gpt2     12  occupation_question  90.649397   \n",
       "27                         gpt2     12   professional_intro  90.265300   \n",
       "36                         gpt2     12    occupation_simple  90.920115   \n",
       "45                         gpt2     12          entity_only  90.604362   \n",
       "59   meta-llama/Meta-Llama-3-8B      0     profession_query  90.384612   \n",
       "74   meta-llama/Meta-Llama-3-8B      0                 gift  90.384612   \n",
       "89   meta-llama/Meta-Llama-3-8B      0  occupation_question  90.384612   \n",
       "104  meta-llama/Meta-Llama-3-8B      0   professional_intro  90.384612   \n",
       "119  meta-llama/Meta-Llama-3-8B      0    occupation_simple  90.384612   \n",
       "134  meta-llama/Meta-Llama-3-8B      0          entity_only  90.559756   \n",
       "58   meta-llama/Meta-Llama-3-8B      2     profession_query  90.082051   \n",
       "73   meta-llama/Meta-Llama-3-8B      2                 gift  90.103242   \n",
       "88   meta-llama/Meta-Llama-3-8B      2  occupation_question  89.894850   \n",
       "103  meta-llama/Meta-Llama-3-8B      2   professional_intro  90.114839   \n",
       "118  meta-llama/Meta-Llama-3-8B      2    occupation_simple  90.120202   \n",
       "133  meta-llama/Meta-Llama-3-8B      2          entity_only  90.410040   \n",
       "60   meta-llama/Meta-Llama-3-8B      4     profession_query  89.360128   \n",
       "75   meta-llama/Meta-Llama-3-8B      4                 gift  89.316522   \n",
       "90   meta-llama/Meta-Llama-3-8B      4  occupation_question  89.726802   \n",
       "105  meta-llama/Meta-Llama-3-8B      4   professional_intro  89.494982   \n",
       "120  meta-llama/Meta-Llama-3-8B      4    occupation_simple  89.964897   \n",
       "135  meta-llama/Meta-Llama-3-8B      4          entity_only  89.331169   \n",
       "64   meta-llama/Meta-Llama-3-8B      5     profession_query  89.035714   \n",
       "79   meta-llama/Meta-Llama-3-8B      5                 gift  89.515568   \n",
       "94   meta-llama/Meta-Llama-3-8B      5  occupation_question  89.125000   \n",
       "109  meta-llama/Meta-Llama-3-8B      5   professional_intro  89.527989   \n",
       "124  meta-llama/Meta-Llama-3-8B      5    occupation_simple  90.083333   \n",
       "139  meta-llama/Meta-Llama-3-8B      5          entity_only  88.435965   \n",
       "69   meta-llama/Meta-Llama-3-8B      6     profession_query  88.838889   \n",
       "84   meta-llama/Meta-Llama-3-8B      6                 gift  89.261111   \n",
       "99   meta-llama/Meta-Llama-3-8B      6  occupation_question  89.000000   \n",
       "114  meta-llama/Meta-Llama-3-8B      6   professional_intro  88.674964   \n",
       "129  meta-llama/Meta-Llama-3-8B      6    occupation_simple  89.388889   \n",
       "144  meta-llama/Meta-Llama-3-8B      6          entity_only  87.839744   \n",
       "65   meta-llama/Meta-Llama-3-8B      8     profession_query  88.200000   \n",
       "80   meta-llama/Meta-Llama-3-8B      8                 gift  87.250000   \n",
       "95   meta-llama/Meta-Llama-3-8B      8  occupation_question  88.923016   \n",
       "110  meta-llama/Meta-Llama-3-8B      8   professional_intro  88.641214   \n",
       "125  meta-llama/Meta-Llama-3-8B      8    occupation_simple  89.133356   \n",
       "140  meta-llama/Meta-Llama-3-8B      8          entity_only  87.821429   \n",
       "67   meta-llama/Meta-Llama-3-8B     10     profession_query  88.166667   \n",
       "82   meta-llama/Meta-Llama-3-8B     10                 gift  88.244444   \n",
       "97   meta-llama/Meta-Llama-3-8B     10  occupation_question  88.477778   \n",
       "112  meta-llama/Meta-Llama-3-8B     10   professional_intro  88.583333   \n",
       "127  meta-llama/Meta-Llama-3-8B     10    occupation_simple  88.560755   \n",
       "142  meta-llama/Meta-Llama-3-8B     10          entity_only  86.773810   \n",
       "57   meta-llama/Meta-Llama-3-8B     12     profession_query  87.833333   \n",
       "72   meta-llama/Meta-Llama-3-8B     12                 gift  89.294289   \n",
       "87   meta-llama/Meta-Llama-3-8B     12  occupation_question  88.456349   \n",
       "102  meta-llama/Meta-Llama-3-8B     12   professional_intro  87.998718   \n",
       "117  meta-llama/Meta-Llama-3-8B     12    occupation_simple  88.876623   \n",
       "132  meta-llama/Meta-Llama-3-8B     12          entity_only  87.177778   \n",
       "56   meta-llama/Meta-Llama-3-8B     14     profession_query  88.029060   \n",
       "71   meta-llama/Meta-Llama-3-8B     14                 gift  87.861111   \n",
       "86   meta-llama/Meta-Llama-3-8B     14  occupation_question  88.526667   \n",
       "101  meta-llama/Meta-Llama-3-8B     14   professional_intro  87.994444   \n",
       "116  meta-llama/Meta-Llama-3-8B     14    occupation_simple  88.316667   \n",
       "131  meta-llama/Meta-Llama-3-8B     14          entity_only  87.190476   \n",
       "66   meta-llama/Meta-Llama-3-8B     15     profession_query  88.761111   \n",
       "81   meta-llama/Meta-Llama-3-8B     15                 gift  88.672222   \n",
       "96   meta-llama/Meta-Llama-3-8B     15  occupation_question  88.972222   \n",
       "111  meta-llama/Meta-Llama-3-8B     15   professional_intro  87.646465   \n",
       "126  meta-llama/Meta-Llama-3-8B     15    occupation_simple  87.792929   \n",
       "141  meta-llama/Meta-Llama-3-8B     15          entity_only  87.946032   \n",
       "55   meta-llama/Meta-Llama-3-8B     18     profession_query  89.447330   \n",
       "70   meta-llama/Meta-Llama-3-8B     18                 gift  89.815873   \n",
       "85   meta-llama/Meta-Llama-3-8B     18  occupation_question  90.318840   \n",
       "100  meta-llama/Meta-Llama-3-8B     18   professional_intro  89.336847   \n",
       "115  meta-llama/Meta-Llama-3-8B     18    occupation_simple  89.446772   \n",
       "130  meta-llama/Meta-Llama-3-8B     18          entity_only  88.809343   \n",
       "62   meta-llama/Meta-Llama-3-8B     20     profession_query  89.475355   \n",
       "77   meta-llama/Meta-Llama-3-8B     20                 gift  89.004762   \n",
       "92   meta-llama/Meta-Llama-3-8B     20  occupation_question  89.391752   \n",
       "107  meta-llama/Meta-Llama-3-8B     20   professional_intro  89.924359   \n",
       "122  meta-llama/Meta-Llama-3-8B     20    occupation_simple  89.752126   \n",
       "137  meta-llama/Meta-Llama-3-8B     20          entity_only  88.419192   \n",
       "61   meta-llama/Meta-Llama-3-8B     25     profession_query  90.046970   \n",
       "76   meta-llama/Meta-Llama-3-8B     25                 gift  89.037879   \n",
       "91   meta-llama/Meta-Llama-3-8B     25  occupation_question  88.989810   \n",
       "106  meta-llama/Meta-Llama-3-8B     25   professional_intro  88.987879   \n",
       "121  meta-llama/Meta-Llama-3-8B     25    occupation_simple  89.256667   \n",
       "136  meta-llama/Meta-Llama-3-8B     25          entity_only  87.804113   \n",
       "68   meta-llama/Meta-Llama-3-8B     30     profession_query  88.925439   \n",
       "83   meta-llama/Meta-Llama-3-8B     30                 gift  87.638889   \n",
       "98   meta-llama/Meta-Llama-3-8B     30  occupation_question  86.854864   \n",
       "113  meta-llama/Meta-Llama-3-8B     30   professional_intro  87.702415   \n",
       "128  meta-llama/Meta-Llama-3-8B     30    occupation_simple  89.381551   \n",
       "143  meta-llama/Meta-Llama-3-8B     30          entity_only  87.702381   \n",
       "63   meta-llama/Meta-Llama-3-8B     32     profession_query  88.055556   \n",
       "78   meta-llama/Meta-Llama-3-8B     32                 gift  87.813527   \n",
       "93   meta-llama/Meta-Llama-3-8B     32  occupation_question  87.150000   \n",
       "108  meta-llama/Meta-Llama-3-8B     32   professional_intro  88.011111   \n",
       "123  meta-llama/Meta-Llama-3-8B     32    occupation_simple  89.206093   \n",
       "138  meta-llama/Meta-Llama-3-8B     32          entity_only  87.555556   \n",
       "146                  random_emb      0          entity_only  91.137045   \n",
       "147                  random_emb      0          entity_only  90.936667   \n",
       "148                  random_emb      0          entity_only  90.965352   \n",
       "149                  random_emb      0          entity_only  91.300962   \n",
       "150                  random_emb      0          entity_only  91.113166   \n",
       "151                  random_emb      0          entity_only  90.277933   \n",
       "152                  random_emb      0          entity_only  91.076198   \n",
       "\n",
       "     jrf_k2(↓)  \n",
       "145  93.178090  \n",
       "154  30.544391  \n",
       "153  82.000000  \n",
       "54   82.000000  \n",
       "2    92.605671  \n",
       "11   92.605671  \n",
       "20   92.605671  \n",
       "29   92.605671  \n",
       "38   92.605671  \n",
       "47   92.570211  \n",
       "4    92.573967  \n",
       "13   92.752876  \n",
       "22   92.603172  \n",
       "31   92.695889  \n",
       "40   92.542446  \n",
       "49   92.845407  \n",
       "1    91.650351  \n",
       "10   91.434349  \n",
       "19   91.540690  \n",
       "28   91.806985  \n",
       "37   91.928730  \n",
       "46   92.847800  \n",
       "5    91.700569  \n",
       "14   91.157046  \n",
       "23   90.869731  \n",
       "32   91.250527  \n",
       "41   91.379663  \n",
       "50   92.758873  \n",
       "3    90.808120  \n",
       "12   91.345582  \n",
       "21   91.530348  \n",
       "30   91.240985  \n",
       "39   91.468054  \n",
       "48   92.477195  \n",
       "8    91.736188  \n",
       "17   91.982577  \n",
       "26   92.109955  \n",
       "35   91.686892  \n",
       "44   91.687204  \n",
       "53   91.925255  \n",
       "6    92.441183  \n",
       "15   92.193231  \n",
       "24   92.423989  \n",
       "33   92.274875  \n",
       "42   92.578770  \n",
       "51   91.584511  \n",
       "7    91.258145  \n",
       "16   91.468031  \n",
       "25   92.038352  \n",
       "34   91.923635  \n",
       "43   92.293716  \n",
       "52   91.737639  \n",
       "0    92.986402  \n",
       "9    92.649696  \n",
       "18   93.020332  \n",
       "27   92.687195  \n",
       "36   93.180029  \n",
       "45   92.997819  \n",
       "59   92.853268  \n",
       "74   92.853268  \n",
       "89   92.853268  \n",
       "104  92.853268  \n",
       "119  92.853268  \n",
       "134  92.941175  \n",
       "58   92.498258  \n",
       "73   92.522148  \n",
       "88   92.348902  \n",
       "103  92.581344  \n",
       "118  92.554897  \n",
       "133  92.754235  \n",
       "60   91.737467  \n",
       "75   91.784686  \n",
       "90   92.270009  \n",
       "105  91.907484  \n",
       "120  92.502436  \n",
       "135  91.820459  \n",
       "64   91.666312  \n",
       "79   92.133426  \n",
       "94   91.724826  \n",
       "109  92.100309  \n",
       "124  92.692515  \n",
       "139  91.140552  \n",
       "69   91.656466  \n",
       "84   92.040910  \n",
       "99   91.618056  \n",
       "114  91.424509  \n",
       "129  92.070216  \n",
       "144  90.513868  \n",
       "65   90.985556  \n",
       "80   89.899306  \n",
       "95   91.629312  \n",
       "110  91.343549  \n",
       "125  91.842649  \n",
       "140  90.525723  \n",
       "67   90.946111  \n",
       "82   90.796790  \n",
       "97   91.159938  \n",
       "112  91.364583  \n",
       "127  91.265806  \n",
       "142  88.926800  \n",
       "57   90.534722  \n",
       "72   91.851219  \n",
       "87   91.021534  \n",
       "102  90.729059  \n",
       "117  91.490625  \n",
       "132  89.528179  \n",
       "56   90.817811  \n",
       "71   90.557485  \n",
       "86   91.218811  \n",
       "101  90.716960  \n",
       "116  90.899861  \n",
       "131  89.957278  \n",
       "66   91.558688  \n",
       "81   91.124059  \n",
       "96   91.754244  \n",
       "111  90.497271  \n",
       "126  90.505344  \n",
       "141  90.659655  \n",
       "55   92.175651  \n",
       "70   92.422467  \n",
       "85   92.763033  \n",
       "100  91.906466  \n",
       "115  92.198270  \n",
       "130  91.410802  \n",
       "62   92.177380  \n",
       "77   91.673423  \n",
       "92   92.130251  \n",
       "107  92.095246  \n",
       "122  92.257429  \n",
       "137  91.049274  \n",
       "61   92.613842  \n",
       "76   91.660267  \n",
       "91   91.706453  \n",
       "106  91.321517  \n",
       "121  91.214728  \n",
       "136  90.379624  \n",
       "68   91.478022  \n",
       "83   89.976466  \n",
       "98   89.257975  \n",
       "113  90.112183  \n",
       "128  91.524442  \n",
       "143  90.512259  \n",
       "63   90.544753  \n",
       "78   90.355239  \n",
       "93   89.677639  \n",
       "108  90.688827  \n",
       "123  91.596878  \n",
       "138  90.306327  \n",
       "146  93.300337  \n",
       "147  93.195670  \n",
       "148  93.231682  \n",
       "149  93.377788  \n",
       "150  93.281603  \n",
       "151  92.785092  \n",
       "152  93.268694  "
      ]
     },
     "metadata": {},
     "output_type": "display_data"
    }
   ],
   "source": [
    "import pandas as pd\n",
    "import json\n",
    "import os\n",
    "from pathlib import Path\n",
    "\n",
    "# 全ての行・列を表示\n",
    "pd.set_option('display.max_rows', None)\n",
    "pd.set_option('display.max_columns', None)\n",
    "pd.set_option('display.width', None)\n",
    "pd.set_option('display.max_colwidth', None)\n",
    "\n",
    "\n",
    "def load_all_evaluation_results(base_path):\n",
    "    \"\"\"\n",
    "    Load all evaluation_results.json files from the eval_tree directory structure\n",
    "    and return a DataFrame with all results.\n",
    "    \"\"\"\n",
    "    results = []\n",
    "    base_path = Path(base_path)\n",
    "\n",
    "    # Find all evaluation_results.json files recursively\n",
    "    for json_file in base_path.rglob(\"evaluation_results.json\"):\n",
    "        try:\n",
    "            with open(json_file, 'r') as f:\n",
    "                data = json.load(f)\n",
    "\n",
    "            # Extract path information for better identification\n",
    "            relative_path = json_file.relative_to(base_path)\n",
    "            path_parts = relative_path.parts[:-1]  # Remove the filename\n",
    "\n",
    "            # Add path information to the data\n",
    "            data['full_path'] = str(relative_path.parent)\n",
    "\n",
    "            # Extract model info from path\n",
    "            if len(path_parts) > 0:\n",
    "                data['model_type'] = path_parts[0]\n",
    "            if len(path_parts) > 1:\n",
    "                data['model_name'] = path_parts[1] if path_parts[0] != 'fasttext' else 'fasttext'\n",
    "            if 'template' in data:\n",
    "                data['template_type'] = data['template']\n",
    "            elif len(path_parts) > 2 and 'template_' in path_parts[2]:\n",
    "                data['template_type'] = path_parts[2]\n",
    "\n",
    "            results.append(data)\n",
    "\n",
    "        except Exception as e:\n",
    "            print(f\"Error loading {json_file}: {e}\")\n",
    "            continue\n",
    "\n",
    "    # Convert to DataFrame\n",
    "    df = pd.DataFrame(results)\n",
    "\n",
    "    # Sort by model and layer for better readability\n",
    "    if 'model' in df.columns and 'layer' in df.columns:\n",
    "        df = df.sort_values(['model', 'layer'])\n",
    "\n",
    "    return df\n",
    "\n",
    "# Usage\n",
    "base_path = \"/home/masaki/hierarchical-repr/EntityTree/output/eval_tree\"\n",
    "df = load_all_evaluation_results(base_path)\n",
    "\n",
    "# Display all results\n",
    "print(f\"Total evaluations loaded: {len(df)}\")\n",
    "print(\"\\nColumns available:\", list(df.columns))\n",
    "\n",
    "# Display summary table\n",
    "display_columns = ['model', 'layer', 'template', 'jrf_k1', 'jrf_k2']\n",
    "available_columns = [col for col in display_columns if col in df.columns]\n",
    "\n",
    "df = df[available_columns]\n",
    "\n",
    "df = df.rename(columns={\n",
    "    'jrf_k1': 'jrf_k1(↓)',\n",
    "    'jrf_k2': 'jrf_k2(↓)'\n",
    "})\n",
    "\n",
    "\n",
    "display(df)\n",
    "layer10_df = df[\n",
    "    (df['model'] == 'meta-llama/Meta-Llama-3-8B') & \n",
    "    (df['layer'] == 10)\n",
    "]\n",
    "\n",
    "\n",
    "\n",
    "df = df[df['template'] == 'entity_only']\n",
    "\n",
    "\n",
    "import pandas as pd\n",
    "\n",
    "# random_embを特定のもの1つだけに絞り込み\n",
    "# 方法1: インデックスで指定（random_embの中から1つだけ選ぶ）\n",
    "df_filtered = df[~df['model'].isin(['gold_binary', 'gold_binary_left'])]\n",
    "\n",
    "# random_embの行を特定（例：最初の1行のみ残す）\n",
    "random_emb_mask = df_filtered['model'] == 'random_emb'\n",
    "random_emb_indices = df_filtered[random_emb_mask].index\n",
    "keep_random_emb_index = random_emb_indices[0]  # 最初の1つだけ残す\n",
    "\n",
    "# random_embを1つだけ残してフィルタリング\n",
    "df_filtered = df_filtered[\n",
    "    (df_filtered['model'] != 'random_emb') | \n",
    "    (df_filtered.index == keep_random_emb_index)\n",
    "]\n",
    "\n",
    "\n",
    "# ソート処理\n",
    "def extract_model_info(model):\n",
    "    if model.startswith('random_emb'):\n",
    "        return ('random_emb', 0)\n",
    "    elif model.startswith('fasttext'):\n",
    "        return ('fasttext', 0)\n",
    "    elif model.startswith('gpt2'):\n",
    "        return ('gpt2', int(model.replace('gpt2', '') or '0'))\n",
    "    elif model.startswith('meta-llama'):\n",
    "        layer_num = model.split('B')[-1]\n",
    "        return ('meta-llama', int(layer_num or '0'))\n",
    "    elif model.startswith('gold_binary_balanced'):\n",
    "        return ('gold_binary_balanced', 0)\n",
    "    else:\n",
    "        return ('other', 0)\n",
    "\n",
    "df_filtered[['model_type', 'layer_num']] = df_filtered['model'].apply(\n",
    "    lambda x: pd.Series(extract_model_info(x))\n",
    ")\n",
    "\n",
    "model_order = {'random_emb': 0, 'fasttext': 1, 'gpt2': 2, 'meta-llama': 3, 'gold_binary_balanced': 4}\n",
    "df_filtered['model_order'] = df_filtered['model_type'].map(model_order)\n",
    "\n",
    "df_sorted = df_filtered.sort_values(['model_order', 'layer_num']).drop(['model_type', 'layer_num', 'model_order'], axis=1)\n",
    "\n",
    "# 表示\n",
    "pd.set_option('display.max_rows', None)\n",
    "pd.set_option('display.max_columns', None)\n",
    "pd.set_option('display.width', None)\n",
    "\n",
    "\n",
    "df_renamed = df_sorted.copy()\n",
    "df_renamed['model'] = df_renamed['model'].replace({\n",
    "    'gold_binary_balanced': 'Reference (Gold binary-balanced)',\n",
    "    'random_emb': 'random_emb (dim=4096)'\n",
    "})\n",
    "\n",
    "\n",
    "display(df_renamed)\n",
    "\n",
    "\n",
    "\n"
   ]
  },
  {
   "cell_type": "code",
   "execution_count": 10,
   "id": "b555542c",
   "metadata": {},
   "outputs": [
    {
     "data": {
      "text/html": [
       "<div>\n",
       "<style scoped>\n",
       "    .dataframe tbody tr th:only-of-type {\n",
       "        vertical-align: middle;\n",
       "    }\n",
       "\n",
       "    .dataframe tbody tr th {\n",
       "        vertical-align: top;\n",
       "    }\n",
       "\n",
       "    .dataframe thead th {\n",
       "        text-align: right;\n",
       "    }\n",
       "</style>\n",
       "<table border=\"1\" class=\"dataframe\">\n",
       "  <thead>\n",
       "    <tr style=\"text-align: right;\">\n",
       "      <th></th>\n",
       "      <th>model</th>\n",
       "      <th>layer</th>\n",
       "      <th>template</th>\n",
       "      <th>jrf_k1(↓)</th>\n",
       "      <th>jrf_k2(↓)</th>\n",
       "    </tr>\n",
       "  </thead>\n",
       "  <tbody>\n",
       "    <tr>\n",
       "      <th>67</th>\n",
       "      <td>meta-llama/Meta-Llama-3-8B</td>\n",
       "      <td>10</td>\n",
       "      <td>profession_query</td>\n",
       "      <td>88.166667</td>\n",
       "      <td>90.946111</td>\n",
       "    </tr>\n",
       "    <tr>\n",
       "      <th>82</th>\n",
       "      <td>meta-llama/Meta-Llama-3-8B</td>\n",
       "      <td>10</td>\n",
       "      <td>gift</td>\n",
       "      <td>88.244444</td>\n",
       "      <td>90.796790</td>\n",
       "    </tr>\n",
       "    <tr>\n",
       "      <th>97</th>\n",
       "      <td>meta-llama/Meta-Llama-3-8B</td>\n",
       "      <td>10</td>\n",
       "      <td>occupation_question</td>\n",
       "      <td>88.477778</td>\n",
       "      <td>91.159938</td>\n",
       "    </tr>\n",
       "    <tr>\n",
       "      <th>112</th>\n",
       "      <td>meta-llama/Meta-Llama-3-8B</td>\n",
       "      <td>10</td>\n",
       "      <td>professional_intro</td>\n",
       "      <td>88.583333</td>\n",
       "      <td>91.364583</td>\n",
       "    </tr>\n",
       "    <tr>\n",
       "      <th>127</th>\n",
       "      <td>meta-llama/Meta-Llama-3-8B</td>\n",
       "      <td>10</td>\n",
       "      <td>occupation_simple</td>\n",
       "      <td>88.560755</td>\n",
       "      <td>91.265806</td>\n",
       "    </tr>\n",
       "    <tr>\n",
       "      <th>142</th>\n",
       "      <td>meta-llama/Meta-Llama-3-8B</td>\n",
       "      <td>10</td>\n",
       "      <td>entity_only</td>\n",
       "      <td>86.773810</td>\n",
       "      <td>88.926800</td>\n",
       "    </tr>\n",
       "  </tbody>\n",
       "</table>\n",
       "</div>"
      ],
      "text/plain": [
       "                          model  layer             template  jrf_k1(↓)  \\\n",
       "67   meta-llama/Meta-Llama-3-8B     10     profession_query  88.166667   \n",
       "82   meta-llama/Meta-Llama-3-8B     10                 gift  88.244444   \n",
       "97   meta-llama/Meta-Llama-3-8B     10  occupation_question  88.477778   \n",
       "112  meta-llama/Meta-Llama-3-8B     10   professional_intro  88.583333   \n",
       "127  meta-llama/Meta-Llama-3-8B     10    occupation_simple  88.560755   \n",
       "142  meta-llama/Meta-Llama-3-8B     10          entity_only  86.773810   \n",
       "\n",
       "     jrf_k2(↓)  \n",
       "67   90.946111  \n",
       "82   90.796790  \n",
       "97   91.159938  \n",
       "112  91.364583  \n",
       "127  91.265806  \n",
       "142  88.926800  "
      ]
     },
     "execution_count": 10,
     "metadata": {},
     "output_type": "execute_result"
    }
   ],
   "source": [
    "layer10_df"
   ]
  },
  {
   "cell_type": "code",
   "execution_count": 2,
   "id": "0e794226",
   "metadata": {},
   "outputs": [
    {
     "data": {
      "text/html": [
       "<div>\n",
       "<style scoped>\n",
       "    .dataframe tbody tr th:only-of-type {\n",
       "        vertical-align: middle;\n",
       "    }\n",
       "\n",
       "    .dataframe tbody tr th {\n",
       "        vertical-align: top;\n",
       "    }\n",
       "\n",
       "    .dataframe thead th {\n",
       "        text-align: right;\n",
       "    }\n",
       "</style>\n",
       "<table border=\"1\" class=\"dataframe\">\n",
       "  <thead>\n",
       "    <tr style=\"text-align: right;\">\n",
       "      <th></th>\n",
       "      <th>model</th>\n",
       "      <th>layer</th>\n",
       "      <th>template</th>\n",
       "      <th>jrf_k1(↓)</th>\n",
       "      <th>jrf_k2(↓)</th>\n",
       "    </tr>\n",
       "  </thead>\n",
       "  <tbody>\n",
       "    <tr>\n",
       "      <th>146</th>\n",
       "      <td>random_emb (dim=4096)</td>\n",
       "      <td>0</td>\n",
       "      <td>entity_only</td>\n",
       "      <td>91.137045</td>\n",
       "      <td>93.300337</td>\n",
       "    </tr>\n",
       "    <tr>\n",
       "      <th>145</th>\n",
       "      <td>fasttext</td>\n",
       "      <td>0</td>\n",
       "      <td>entity_only</td>\n",
       "      <td>90.882977</td>\n",
       "      <td>93.178090</td>\n",
       "    </tr>\n",
       "    <tr>\n",
       "      <th>47</th>\n",
       "      <td>gpt2</td>\n",
       "      <td>0</td>\n",
       "      <td>entity_only</td>\n",
       "      <td>90.029555</td>\n",
       "      <td>92.570211</td>\n",
       "    </tr>\n",
       "    <tr>\n",
       "      <th>49</th>\n",
       "      <td>gpt2</td>\n",
       "      <td>1</td>\n",
       "      <td>entity_only</td>\n",
       "      <td>90.448459</td>\n",
       "      <td>92.845407</td>\n",
       "    </tr>\n",
       "    <tr>\n",
       "      <th>46</th>\n",
       "      <td>gpt2</td>\n",
       "      <td>2</td>\n",
       "      <td>entity_only</td>\n",
       "      <td>90.448276</td>\n",
       "      <td>92.847800</td>\n",
       "    </tr>\n",
       "    <tr>\n",
       "      <th>50</th>\n",
       "      <td>gpt2</td>\n",
       "      <td>3</td>\n",
       "      <td>entity_only</td>\n",
       "      <td>90.305556</td>\n",
       "      <td>92.758873</td>\n",
       "    </tr>\n",
       "    <tr>\n",
       "      <th>48</th>\n",
       "      <td>gpt2</td>\n",
       "      <td>4</td>\n",
       "      <td>entity_only</td>\n",
       "      <td>89.898407</td>\n",
       "      <td>92.477195</td>\n",
       "    </tr>\n",
       "    <tr>\n",
       "      <th>53</th>\n",
       "      <td>gpt2</td>\n",
       "      <td>6</td>\n",
       "      <td>entity_only</td>\n",
       "      <td>89.280844</td>\n",
       "      <td>91.925255</td>\n",
       "    </tr>\n",
       "    <tr>\n",
       "      <th>51</th>\n",
       "      <td>gpt2</td>\n",
       "      <td>8</td>\n",
       "      <td>entity_only</td>\n",
       "      <td>88.843137</td>\n",
       "      <td>91.584511</td>\n",
       "    </tr>\n",
       "    <tr>\n",
       "      <th>52</th>\n",
       "      <td>gpt2</td>\n",
       "      <td>10</td>\n",
       "      <td>entity_only</td>\n",
       "      <td>89.050000</td>\n",
       "      <td>91.737639</td>\n",
       "    </tr>\n",
       "    <tr>\n",
       "      <th>45</th>\n",
       "      <td>gpt2</td>\n",
       "      <td>12</td>\n",
       "      <td>entity_only</td>\n",
       "      <td>90.604362</td>\n",
       "      <td>92.997819</td>\n",
       "    </tr>\n",
       "    <tr>\n",
       "      <th>134</th>\n",
       "      <td>meta-llama/Meta-Llama-3-8B</td>\n",
       "      <td>0</td>\n",
       "      <td>entity_only</td>\n",
       "      <td>90.559756</td>\n",
       "      <td>92.941175</td>\n",
       "    </tr>\n",
       "    <tr>\n",
       "      <th>133</th>\n",
       "      <td>meta-llama/Meta-Llama-3-8B</td>\n",
       "      <td>2</td>\n",
       "      <td>entity_only</td>\n",
       "      <td>90.410040</td>\n",
       "      <td>92.754235</td>\n",
       "    </tr>\n",
       "    <tr>\n",
       "      <th>135</th>\n",
       "      <td>meta-llama/Meta-Llama-3-8B</td>\n",
       "      <td>4</td>\n",
       "      <td>entity_only</td>\n",
       "      <td>89.331169</td>\n",
       "      <td>91.820459</td>\n",
       "    </tr>\n",
       "    <tr>\n",
       "      <th>139</th>\n",
       "      <td>meta-llama/Meta-Llama-3-8B</td>\n",
       "      <td>5</td>\n",
       "      <td>entity_only</td>\n",
       "      <td>88.435965</td>\n",
       "      <td>91.140552</td>\n",
       "    </tr>\n",
       "    <tr>\n",
       "      <th>144</th>\n",
       "      <td>meta-llama/Meta-Llama-3-8B</td>\n",
       "      <td>6</td>\n",
       "      <td>entity_only</td>\n",
       "      <td>87.839744</td>\n",
       "      <td>90.513868</td>\n",
       "    </tr>\n",
       "    <tr>\n",
       "      <th>140</th>\n",
       "      <td>meta-llama/Meta-Llama-3-8B</td>\n",
       "      <td>8</td>\n",
       "      <td>entity_only</td>\n",
       "      <td>87.821429</td>\n",
       "      <td>90.525723</td>\n",
       "    </tr>\n",
       "    <tr>\n",
       "      <th>142</th>\n",
       "      <td>meta-llama/Meta-Llama-3-8B</td>\n",
       "      <td>10</td>\n",
       "      <td>entity_only</td>\n",
       "      <td>86.773810</td>\n",
       "      <td>88.926800</td>\n",
       "    </tr>\n",
       "    <tr>\n",
       "      <th>132</th>\n",
       "      <td>meta-llama/Meta-Llama-3-8B</td>\n",
       "      <td>12</td>\n",
       "      <td>entity_only</td>\n",
       "      <td>87.177778</td>\n",
       "      <td>89.528179</td>\n",
       "    </tr>\n",
       "    <tr>\n",
       "      <th>131</th>\n",
       "      <td>meta-llama/Meta-Llama-3-8B</td>\n",
       "      <td>14</td>\n",
       "      <td>entity_only</td>\n",
       "      <td>87.190476</td>\n",
       "      <td>89.957278</td>\n",
       "    </tr>\n",
       "    <tr>\n",
       "      <th>141</th>\n",
       "      <td>meta-llama/Meta-Llama-3-8B</td>\n",
       "      <td>15</td>\n",
       "      <td>entity_only</td>\n",
       "      <td>87.946032</td>\n",
       "      <td>90.659655</td>\n",
       "    </tr>\n",
       "    <tr>\n",
       "      <th>130</th>\n",
       "      <td>meta-llama/Meta-Llama-3-8B</td>\n",
       "      <td>18</td>\n",
       "      <td>entity_only</td>\n",
       "      <td>88.809343</td>\n",
       "      <td>91.410802</td>\n",
       "    </tr>\n",
       "    <tr>\n",
       "      <th>137</th>\n",
       "      <td>meta-llama/Meta-Llama-3-8B</td>\n",
       "      <td>20</td>\n",
       "      <td>entity_only</td>\n",
       "      <td>88.419192</td>\n",
       "      <td>91.049274</td>\n",
       "    </tr>\n",
       "    <tr>\n",
       "      <th>136</th>\n",
       "      <td>meta-llama/Meta-Llama-3-8B</td>\n",
       "      <td>25</td>\n",
       "      <td>entity_only</td>\n",
       "      <td>87.804113</td>\n",
       "      <td>90.379624</td>\n",
       "    </tr>\n",
       "    <tr>\n",
       "      <th>143</th>\n",
       "      <td>meta-llama/Meta-Llama-3-8B</td>\n",
       "      <td>30</td>\n",
       "      <td>entity_only</td>\n",
       "      <td>87.702381</td>\n",
       "      <td>90.512259</td>\n",
       "    </tr>\n",
       "    <tr>\n",
       "      <th>138</th>\n",
       "      <td>meta-llama/Meta-Llama-3-8B</td>\n",
       "      <td>32</td>\n",
       "      <td>entity_only</td>\n",
       "      <td>87.555556</td>\n",
       "      <td>90.306327</td>\n",
       "    </tr>\n",
       "    <tr>\n",
       "      <th>153</th>\n",
       "      <td>Reference (Gold binary-balanced)</td>\n",
       "      <td>0</td>\n",
       "      <td>entity_only</td>\n",
       "      <td>82.000000</td>\n",
       "      <td>82.000000</td>\n",
       "    </tr>\n",
       "  </tbody>\n",
       "</table>\n",
       "</div>"
      ],
      "text/plain": [
       "                                model  layer     template  jrf_k1(↓)  \\\n",
       "146             random_emb (dim=4096)      0  entity_only  91.137045   \n",
       "145                          fasttext      0  entity_only  90.882977   \n",
       "47                               gpt2      0  entity_only  90.029555   \n",
       "49                               gpt2      1  entity_only  90.448459   \n",
       "46                               gpt2      2  entity_only  90.448276   \n",
       "50                               gpt2      3  entity_only  90.305556   \n",
       "48                               gpt2      4  entity_only  89.898407   \n",
       "53                               gpt2      6  entity_only  89.280844   \n",
       "51                               gpt2      8  entity_only  88.843137   \n",
       "52                               gpt2     10  entity_only  89.050000   \n",
       "45                               gpt2     12  entity_only  90.604362   \n",
       "134        meta-llama/Meta-Llama-3-8B      0  entity_only  90.559756   \n",
       "133        meta-llama/Meta-Llama-3-8B      2  entity_only  90.410040   \n",
       "135        meta-llama/Meta-Llama-3-8B      4  entity_only  89.331169   \n",
       "139        meta-llama/Meta-Llama-3-8B      5  entity_only  88.435965   \n",
       "144        meta-llama/Meta-Llama-3-8B      6  entity_only  87.839744   \n",
       "140        meta-llama/Meta-Llama-3-8B      8  entity_only  87.821429   \n",
       "142        meta-llama/Meta-Llama-3-8B     10  entity_only  86.773810   \n",
       "132        meta-llama/Meta-Llama-3-8B     12  entity_only  87.177778   \n",
       "131        meta-llama/Meta-Llama-3-8B     14  entity_only  87.190476   \n",
       "141        meta-llama/Meta-Llama-3-8B     15  entity_only  87.946032   \n",
       "130        meta-llama/Meta-Llama-3-8B     18  entity_only  88.809343   \n",
       "137        meta-llama/Meta-Llama-3-8B     20  entity_only  88.419192   \n",
       "136        meta-llama/Meta-Llama-3-8B     25  entity_only  87.804113   \n",
       "143        meta-llama/Meta-Llama-3-8B     30  entity_only  87.702381   \n",
       "138        meta-llama/Meta-Llama-3-8B     32  entity_only  87.555556   \n",
       "153  Reference (Gold binary-balanced)      0  entity_only  82.000000   \n",
       "\n",
       "     jrf_k2(↓)  \n",
       "146  93.300337  \n",
       "145  93.178090  \n",
       "47   92.570211  \n",
       "49   92.845407  \n",
       "46   92.847800  \n",
       "50   92.758873  \n",
       "48   92.477195  \n",
       "53   91.925255  \n",
       "51   91.584511  \n",
       "52   91.737639  \n",
       "45   92.997819  \n",
       "134  92.941175  \n",
       "133  92.754235  \n",
       "135  91.820459  \n",
       "139  91.140552  \n",
       "144  90.513868  \n",
       "140  90.525723  \n",
       "142  88.926800  \n",
       "132  89.528179  \n",
       "131  89.957278  \n",
       "141  90.659655  \n",
       "130  91.410802  \n",
       "137  91.049274  \n",
       "136  90.379624  \n",
       "143  90.512259  \n",
       "138  90.306327  \n",
       "153  82.000000  "
      ]
     },
     "metadata": {},
     "output_type": "display_data"
    }
   ],
   "source": [
    "import pandas as pd\n",
    "\n",
    "# random_embを特定のもの1つだけに絞り込み\n",
    "# 方法1: インデックスで指定（random_embの中から1つだけ選ぶ）\n",
    "df_filtered = df[~df['model'].isin(['gold_binary', 'gold_binary_left'])]\n",
    "\n",
    "# random_embの行を特定（例：最初の1行のみ残す）\n",
    "random_emb_mask = df_filtered['model'] == 'random_emb'\n",
    "random_emb_indices = df_filtered[random_emb_mask].index\n",
    "keep_random_emb_index = random_emb_indices[0]  # 最初の1つだけ残す\n",
    "\n",
    "# random_embを1つだけ残してフィルタリング\n",
    "df_filtered = df_filtered[\n",
    "    (df_filtered['model'] != 'random_emb') | \n",
    "    (df_filtered.index == keep_random_emb_index)\n",
    "]\n",
    "\n",
    "\n",
    "# ソート処理\n",
    "def extract_model_info(model):\n",
    "    if model.startswith('random_emb'):\n",
    "        return ('random_emb', 0)\n",
    "    elif model.startswith('fasttext'):\n",
    "        return ('fasttext', 0)\n",
    "    elif model.startswith('gpt2'):\n",
    "        return ('gpt2', int(model.replace('gpt2', '') or '0'))\n",
    "    elif model.startswith('meta-llama'):\n",
    "        layer_num = model.split('B')[-1]\n",
    "        return ('meta-llama', int(layer_num or '0'))\n",
    "    elif model.startswith('gold_binary_balanced'):\n",
    "        return ('gold_binary_balanced', 0)\n",
    "    else:\n",
    "        return ('other', 0)\n",
    "\n",
    "df_filtered[['model_type', 'layer_num']] = df_filtered['model'].apply(\n",
    "    lambda x: pd.Series(extract_model_info(x))\n",
    ")\n",
    "\n",
    "model_order = {'random_emb': 0, 'fasttext': 1, 'gpt2': 2, 'meta-llama': 3, 'gold_binary_balanced': 4}\n",
    "df_filtered['model_order'] = df_filtered['model_type'].map(model_order)\n",
    "\n",
    "df_sorted = df_filtered.sort_values(['model_order', 'layer_num']).drop(['model_type', 'layer_num', 'model_order'], axis=1)\n",
    "\n",
    "# 表示\n",
    "pd.set_option('display.max_rows', None)\n",
    "pd.set_option('display.max_columns', None)\n",
    "pd.set_option('display.width', None)\n",
    "\n",
    "\n",
    "df_renamed = df_sorted.copy()\n",
    "df_renamed['model'] = df_renamed['model'].replace({\n",
    "    'gold_binary_balanced': 'Reference (Gold binary-balanced)',\n",
    "    'random_emb': 'random_emb (dim=4096)'\n",
    "})\n",
    "\n",
    "\n",
    "display(df_renamed)"
   ]
  },
  {
   "cell_type": "code",
   "execution_count": null,
   "id": "0a91cfa9",
   "metadata": {},
   "outputs": [],
   "source": []
  },
  {
   "cell_type": "code",
   "execution_count": null,
   "id": "fe469e2a",
   "metadata": {},
   "outputs": [],
   "source": []
  }
 ],
 "metadata": {
  "kernelspec": {
   "display_name": "hierarchical-repr",
   "language": "python",
   "name": "python3"
  },
  "language_info": {
   "codemirror_mode": {
    "name": "ipython",
    "version": 3
   },
   "file_extension": ".py",
   "mimetype": "text/x-python",
   "name": "python",
   "nbconvert_exporter": "python",
   "pygments_lexer": "ipython3",
   "version": "3.10.12"
  }
 },
 "nbformat": 4,
 "nbformat_minor": 5
}
