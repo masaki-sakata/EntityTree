{
 "cells": [
  {
   "cell_type": "code",
   "execution_count": 2,
   "id": "c89e67d7",
   "metadata": {},
   "outputs": [],
   "source": [
    "import re\n",
    "import json\n",
    "import pandas as pd\n",
    "from pathlib import Path\n",
    "from IPython.display import display\n",
    "\n",
    "\n",
    "# ===== 表示設定 =====\n",
    "pd.set_option(\"display.max_rows\", None)\n",
    "pd.set_option(\"display.max_columns\", None)\n",
    "pd.set_option(\"display.width\", None)\n",
    "pd.set_option(\"display.max_colwidth\", None)\n",
    "\n",
    "# ===== 便利関数 =====\n",
    "def infer_model_from_path(parts):\n",
    "    p = \"/\".join(parts)\n",
    "    if \"meta-llama\" in parts and \"Meta-Llama-3-8B\" in parts:\n",
    "        return \"meta-llama/Meta-Llama-3-8B\"\n",
    "    m = re.search(r\"(gpt2[\\w-]*)\", p)\n",
    "    if m:\n",
    "        return m.group(1)\n",
    "    if \"random_emb\" in parts:\n",
    "        return \"random_emb\"\n",
    "    if \"fasttext\" in parts:\n",
    "        return \"fasttext\"\n",
    "    if \"gold_binary_balanced\" in parts:\n",
    "        return \"gold_binary_balanced\"\n",
    "    return None\n",
    "\n",
    "def model_family(model):\n",
    "    if not isinstance(model, str):\n",
    "        return \"other\"\n",
    "    if model.startswith(\"random_emb\"):\n",
    "        return \"random_emb\"\n",
    "    if model.startswith(\"fasttext\"):\n",
    "        return \"fasttext\"\n",
    "    if model.startswith(\"gpt2\"):\n",
    "        return \"gpt2\"\n",
    "    if \"Meta-Llama-3-8B\" in model:\n",
    "        return \"llama3-8b\"\n",
    "    if model.startswith(\"meta-llama\"):\n",
    "        return \"llama\"\n",
    "    if model.startswith(\"gold_binary_balanced\"):\n",
    "        return \"gold_binary_balanced\"\n",
    "    return \"other\"\n",
    "\n",
    "FAMILY_ORDER = {\n",
    "    \"random_emb\": 0,\n",
    "    \"fasttext\": 1,\n",
    "    \"gpt2\": 2,\n",
    "    \"llama3-8b\": 3,\n",
    "    \"llama\": 3,\n",
    "    \"gold_binary_balanced\": 4,\n",
    "    \"other\": 9,\n",
    "}\n",
    "\n",
    "L0_MODELS = {\"random_emb\", \"fasttext\", \"gold_binary_balanced\"}\n",
    "\n",
    "def should_include(path_obj: Path, model):\n",
    "    \"\"\"\n",
    "    読み込み対象判定：\n",
    "    - random_emb / fasttext / gold_binary_balanced: evaluation_results_L0.json のみ\n",
    "    - Llama-3-8B: BASE_PATH/meta-llama/Meta-Llama-3-8B/template_entity_only/layer_all/evaluation_results_L*.json のみ\n",
    "    - gpt2: evaluation_results_L*.json\n",
    "    - その他: evaluation_results.json\n",
    "    \"\"\"\n",
    "    name = path_obj.name\n",
    "    parts = path_obj.parts  # ルートからのparts（BASE下でのrelativeで後で扱う）\n",
    "    if model in L0_MODELS:\n",
    "        return name == \"evaluation_results_L0.json\"\n",
    "\n",
    "    # 厳密に Llama-3-8B の所定パスのみ\n",
    "    if (model and \"Meta-Llama-3-8B\" in model) or (\"meta-llama\" in parts and \"Meta-Llama-3-8B\" in parts):\n",
    "        return (\n",
    "            \"meta-llama\" in parts and\n",
    "            \"Meta-Llama-3-8B\" in parts and\n",
    "            \"template_entity_only\" in parts and\n",
    "            \"layer_all\" in parts and\n",
    "            re.fullmatch(r\"evaluation_results_L\\d+\\.json\", name) is not None\n",
    "        )\n",
    "\n",
    "    if model and model.startswith(\"gpt2\"):\n",
    "        return re.fullmatch(r\"evaluation_results_L\\d+\\.json\", name) is not None\n",
    "\n",
    "    return name == \"evaluation_results.json\"\n",
    "\n",
    "def layer_from_filename(path: Path, existing):\n",
    "    if existing is not None:\n",
    "        return existing\n",
    "    m = re.search(r\"_L(\\d+)\\.json$\", path.name)\n",
    "    if m:\n",
    "        return int(m.group(1))\n",
    "    return None\n",
    "\n",
    "def load_all_evaluation_results(base_path):\n",
    "    base = Path(base_path)\n",
    "    # まとめて拾ってからフィルタ\n",
    "    candidates = list(base.rglob(\"evaluation_results.json\")) + list(base.rglob(\"evaluation_results_L*.json\"))\n",
    "\n",
    "    rows = []\n",
    "    for jf in candidates:\n",
    "        try:\n",
    "            rel = jf.relative_to(base)\n",
    "            parts = rel.parts[:-1]\n",
    "            with open(jf, \"r\") as f:\n",
    "                data = json.load(f)\n",
    "\n",
    "            model = data.get(\"model\") or infer_model_from_path(parts)\n",
    "\n",
    "            # モデル規則に合うもののみ採用\n",
    "            if not should_include(rel, model):\n",
    "                continue\n",
    "\n",
    "            # template：JSONに無ければパスから復元（例：template_entity_only -> entity_only）\n",
    "            if \"template\" not in data:\n",
    "                for p in parts:\n",
    "                    if p.startswith(\"template_\"):\n",
    "                        data[\"template\"] = p.replace(\"template_\", \"\", 1)\n",
    "                        break\n",
    "\n",
    "            # layer：JSONに無ければファイル名から復元\n",
    "            data[\"layer\"] = layer_from_filename(rel, data.get(\"layer\"))\n",
    "            data[\"model\"] = model  # 念のため上書き\n",
    "\n",
    "            # gtd/gqd/cophenetic_corr などは元のまま\n",
    "            rows.append(data)\n",
    "\n",
    "        except Exception as e:\n",
    "            print(f\"Error loading {jf}: {e}\")\n",
    "            continue\n",
    "\n",
    "    df = pd.DataFrame(rows)\n",
    "    sort_keys = [c for c in [\"model\", \"layer\"] if c in df.columns]\n",
    "    if sort_keys:\n",
    "        df = df.sort_values(sort_keys, kind=\"mergesort\")\n",
    "    return df\n",
    "\n",
    "def to_numeric_inplace(df, cols):\n",
    "    for c in cols:\n",
    "        if c in df.columns:\n",
    "            df[c] = pd.to_numeric(df[c], errors=\"coerce\")\n",
    "\n",
    "def keep_single_random_emb(df, metric_cols_priority):\n",
    "    mask = df[\"model\"].astype(str).str.startswith(\"random_emb\", na=False)\n",
    "    if not mask.any():\n",
    "        return df\n",
    "    best_idx = None\n",
    "    for mc in metric_cols_priority:\n",
    "        if mc in df.columns and df.loc[mask, mc].notna().any():\n",
    "            best_idx = df.loc[mask, mc].idxmin()\n",
    "            break\n",
    "    if best_idx is None:\n",
    "        best_idx = df[mask].index[0]\n",
    "    keep = df.loc[[best_idx]]\n",
    "    return pd.concat([df[~mask], keep], ignore_index=True)\n",
    "\n",
    "def best_layer_by_rank_sum(df, selectors, minimize_cols, maximize_cols, fallback_cols):\n",
    "    target_mask = selectors[0].copy()\n",
    "    for m in selectors[1:]:\n",
    "        target_mask |= m\n",
    "    if not target_mask.any():\n",
    "        return df\n",
    "\n",
    "    sub = df.loc[target_mask].copy()\n",
    "    to_numeric_inplace(sub, list(set(minimize_cols + maximize_cols + fallback_cols)))\n",
    "\n",
    "    keep_indices = []\n",
    "    for model_name, g in sub.groupby(\"model\", dropna=False):\n",
    "        ranks = []\n",
    "        for c in minimize_cols:\n",
    "            if c in g.columns and g[c].notna().any():\n",
    "                ranks.append(g[c].rank(method=\"min\", ascending=True))\n",
    "        for c in maximize_cols:\n",
    "            if c in g.columns and g[c].notna().any():\n",
    "                ranks.append(g[c].rank(method=\"min\", ascending=False))\n",
    "\n",
    "        if ranks:\n",
    "            total_rank = pd.concat(ranks, axis=1).sum(axis=1)\n",
    "            keep_idx = total_rank.idxmin()\n",
    "        else:\n",
    "            keep_idx = None\n",
    "            for fc in fallback_cols:\n",
    "                if fc in g.columns and g[fc].notna().any():\n",
    "                    keep_idx = g[fc].idxmin()\n",
    "                    break\n",
    "            if keep_idx is None:\n",
    "                keep_idx = g.index[0]\n",
    "\n",
    "        keep_indices.append(keep_idx)\n",
    "\n",
    "    return pd.concat([df[~target_mask], df.loc[keep_indices]], ignore_index=True)\n"
   ]
  },
  {
   "cell_type": "code",
   "execution_count": 3,
   "id": "38d13ad4",
   "metadata": {},
   "outputs": [
    {
     "name": "stdout",
     "output_type": "stream",
     "text": [
      "Total evaluations loaded (before filters): 116\n",
      "Columns available: ['dataset', 'model', 'layer', 'template', 'n_entities', 'jrf_k1', 'jrf_k2', 'gold_internal_nodes', 'pred_internal_nodes', 'td_raw', 'td_norm', 'triplets_total', 'triplets_gold_resolved', 'triplets_pred_resolved', 'gtd', 'triplets_shared_resolved', 'qd_raw', 'qd_norm', 'gqd', 'quartets_total', 'quartets_gold_resolved', 'quartets_pred_resolved', 'caset_distance', 'caset_similarity', 'caset_pairs', 'cophenetic_corr', 'cophenetic_pairs', 'cophenetic_p']\n"
     ]
    },
    {
     "data": {
      "text/html": [
       "<div>\n",
       "<style scoped>\n",
       "    .dataframe tbody tr th:only-of-type {\n",
       "        vertical-align: middle;\n",
       "    }\n",
       "\n",
       "    .dataframe tbody tr th {\n",
       "        vertical-align: top;\n",
       "    }\n",
       "\n",
       "    .dataframe thead th {\n",
       "        text-align: right;\n",
       "    }\n",
       "</style>\n",
       "<table border=\"1\" class=\"dataframe\">\n",
       "  <thead>\n",
       "    <tr style=\"text-align: right;\">\n",
       "      <th></th>\n",
       "      <th>model</th>\n",
       "      <th>layer</th>\n",
       "      <th>template</th>\n",
       "      <th>jrf_k1(↓)</th>\n",
       "      <th>jrf_k2(↓)</th>\n",
       "      <th>Generalized Triplet Distance (↓)</th>\n",
       "      <th>Generalized Quartet Distance (↓)</th>\n",
       "      <th>cophenetic corr (↑)</th>\n",
       "    </tr>\n",
       "  </thead>\n",
       "  <tbody>\n",
       "    <tr>\n",
       "      <th>2</th>\n",
       "      <td>random_emb (dim=4096)</td>\n",
       "      <td>0</td>\n",
       "      <td>entity_only</td>\n",
       "      <td>91.14</td>\n",
       "      <td>93.30</td>\n",
       "      <td>0.67</td>\n",
       "      <td>0.68</td>\n",
       "      <td>-0.01</td>\n",
       "    </tr>\n",
       "    <tr>\n",
       "      <th>0</th>\n",
       "      <td>fasttext</td>\n",
       "      <td>0</td>\n",
       "      <td>entity_only</td>\n",
       "      <td>90.88</td>\n",
       "      <td>93.18</td>\n",
       "      <td>0.65</td>\n",
       "      <td>0.66</td>\n",
       "      <td>0.01</td>\n",
       "    </tr>\n",
       "    <tr>\n",
       "      <th>3</th>\n",
       "      <td>gpt2</td>\n",
       "      <td>8</td>\n",
       "      <td>entity_only</td>\n",
       "      <td>88.84</td>\n",
       "      <td>91.58</td>\n",
       "      <td>0.56</td>\n",
       "      <td>0.53</td>\n",
       "      <td>0.05</td>\n",
       "    </tr>\n",
       "    <tr>\n",
       "      <th>4</th>\n",
       "      <td>meta-llama/Meta-Llama-3-8B</td>\n",
       "      <td>10</td>\n",
       "      <td>entity_only</td>\n",
       "      <td>86.77</td>\n",
       "      <td>88.93</td>\n",
       "      <td>0.42</td>\n",
       "      <td>0.30</td>\n",
       "      <td>0.19</td>\n",
       "    </tr>\n",
       "    <tr>\n",
       "      <th>1</th>\n",
       "      <td>Reference (Gold binary-balanced)</td>\n",
       "      <td>0</td>\n",
       "      <td>entity_only</td>\n",
       "      <td>82.00</td>\n",
       "      <td>82.00</td>\n",
       "      <td>0.00</td>\n",
       "      <td>0.00</td>\n",
       "      <td>0.79</td>\n",
       "    </tr>\n",
       "  </tbody>\n",
       "</table>\n",
       "</div>"
      ],
      "text/plain": [
       "                              model  layer     template  jrf_k1(↓)  jrf_k2(↓)  \\\n",
       "2             random_emb (dim=4096)      0  entity_only      91.14      93.30   \n",
       "0                          fasttext      0  entity_only      90.88      93.18   \n",
       "3                              gpt2      8  entity_only      88.84      91.58   \n",
       "4        meta-llama/Meta-Llama-3-8B     10  entity_only      86.77      88.93   \n",
       "1  Reference (Gold binary-balanced)      0  entity_only      82.00      82.00   \n",
       "\n",
       "   Generalized Triplet Distance (↓)  Generalized Quartet Distance (↓)  \\\n",
       "2                              0.67                              0.68   \n",
       "0                              0.65                              0.66   \n",
       "3                              0.56                              0.53   \n",
       "4                              0.42                              0.30   \n",
       "1                              0.00                              0.00   \n",
       "\n",
       "   cophenetic corr (↑)  \n",
       "2                -0.01  \n",
       "0                 0.01  \n",
       "3                 0.05  \n",
       "4                 0.19  \n",
       "1                 0.79  "
      ]
     },
     "metadata": {},
     "output_type": "display_data"
    }
   ],
   "source": [
    "\n",
    "# ===== ユーザー設定 =====\n",
    "BASE_PATH = \"/home/masaki/hierarchical-repr/EntityTree/output/eval_tree\"\n",
    "TEMPLATE_FILTER = \"entity_only\"\n",
    "\n",
    "# 指標（存在すれば使う）\n",
    "MINIMIZE_COLS = [\"jrf_k1\", \"gtd\", \"gqd\"]     # 小さいほど良い\n",
    "MAXIMIZE_COLS = [\"cophenetic_corr\"]          # 大きいほど良い\n",
    "PRIMARY_FALLBACK = [\"jrf_k2\", \"jrf_k1\"]      # フォールバック優先度\n",
    "\n",
    "\n",
    "# ===== メイン処理 =====\n",
    "df_all = load_all_evaluation_results(BASE_PATH)\n",
    "print(f\"Total evaluations loaded (before filters): {len(df_all)}\")\n",
    "print(\"Columns available:\", list(df_all.columns))\n",
    "\n",
    "# 表示用の列（full_pathは含めない）\n",
    "display_cols = [\n",
    "    \"model\", \"layer\", \"template\",\n",
    "    \"jrf_k1\", \"jrf_k2\",\n",
    "    \"gtd\", \"gqd\", \"cophenetic_corr\",\n",
    "]\n",
    "display_cols = [c for c in display_cols if c in df_all.columns]\n",
    "df = df_all[display_cols].copy()\n",
    "\n",
    "# template 絞り（パス復元を反映）\n",
    "if \"template\" in df.columns:\n",
    "    df = df[df[\"template\"] == TEMPLATE_FILTER].copy()\n",
    "\n",
    "# 数値化\n",
    "to_numeric_inplace(df, [\"jrf_k1\", \"jrf_k2\", \"gtd\", \"gqd\", \"cophenetic_corr\"])\n",
    "\n",
    "# 除外\n",
    "exclude_models = {\"gold_binary\", \"gold_binary_left\"}\n",
    "df = df[~df[\"model\"].isin(exclude_models)].copy()\n",
    "\n",
    "# random_emb を1つに圧縮\n",
    "df = keep_single_random_emb(df, metric_cols_priority=PRIMARY_FALLBACK + [\"jrf_k1\"])\n",
    "\n",
    "# ファミリー付与＆並び\n",
    "df[\"family\"] = df[\"model\"].apply(model_family)\n",
    "df[\"family_order\"] = df[\"family\"].map(FAMILY_ORDER).fillna(9).astype(int)\n",
    "\n",
    "# ===== LM（gpt2 / Llama-3-8B）をベストレイヤーだけに =====\n",
    "sel_gpt2 = df[\"model\"].astype(str).str.startswith(\"gpt2\", na=False)\n",
    "sel_llama8b = df[\"model\"].astype(str).str.contains(\"Meta-Llama-3-8B\", na=False)\n",
    "df = best_layer_by_rank_sum(\n",
    "    df,\n",
    "    selectors=[sel_gpt2, sel_llama8b],\n",
    "    minimize_cols=MINIMIZE_COLS,\n",
    "    maximize_cols=MAXIMIZE_COLS,\n",
    "    fallback_cols=PRIMARY_FALLBACK\n",
    ")\n",
    "\n",
    "# 小数第2位に丸め（表示用）\n",
    "num_cols = [c for c in [\"jrf_k1\",\"jrf_k2\",\"gtd\",\"gqd\",\"cophenetic_corr\"] if c in df.columns]\n",
    "df[num_cols] = df[num_cols].round(2)\n",
    "\n",
    "# 列名のリネーム（矢印含む）\n",
    "rename_cols = {}\n",
    "if \"jrf_k1\" in df.columns: rename_cols[\"jrf_k1\"] = \"jrf_k1(↓)\"\n",
    "if \"jrf_k2\" in df.columns: rename_cols[\"jrf_k2\"] = \"jrf_k2(↓)\"\n",
    "if \"gtd\" in df.columns: rename_cols[\"gtd\"] = \"Generalized Triplet Distance (↓)\"\n",
    "if \"gqd\" in df.columns: rename_cols[\"gqd\"] = \"Generalized Quartet Distance (↓)\"\n",
    "if \"cophenetic_corr\" in df.columns: rename_cols[\"cophenetic_corr\"] = \"cophenetic corr (↑)\"\n",
    "df = df.rename(columns=rename_cols)\n",
    "\n",
    "# 表示名置換\n",
    "df[\"model\"] = df[\"model\"].replace({\n",
    "    \"gold_binary_balanced\": \"Reference (Gold binary-balanced)\",\n",
    "    \"random_emb\": \"random_emb (dim=4096)\",\n",
    "})\n",
    "\n",
    "# 最終並び替えと表示（full_pathは含めない）\n",
    "sort_keys = [\"family_order\"]\n",
    "if \"layer\" in df.columns:\n",
    "    sort_keys += [\"layer\"]\n",
    "sort_keys += [\"model\"]\n",
    "df = df.sort_values(sort_keys, kind=\"mergesort\").drop(columns=[\"family_order\", \"family\"], errors=\"ignore\")\n",
    "\n",
    "display(df)\n"
   ]
  },
  {
   "cell_type": "code",
   "execution_count": null,
   "id": "f5090cf1",
   "metadata": {},
   "outputs": [
    {
     "name": "stdout",
     "output_type": "stream",
     "text": [
      "Total evaluations loaded (before filters): 114\n",
      "Columns available: ['dataset', 'model', 'layer', 'template', 'n_entities', 'jrf_k1', 'jrf_k2', 'td_raw', 'td_norm', 'triplets_total', 'triplets_gold_resolved', 'triplets_pred_resolved', 'gtd', 'triplets_shared_resolved', 'qd_raw', 'qd_norm', 'gqd', 'quartets_total', 'quartets_gold_resolved', 'quartets_pred_resolved', 'caset_distance', 'caset_similarity', 'caset_pairs', 'cophenetic_corr', 'cophenetic_pairs', 'cophenetic_p', 'gold_internal_nodes', 'pred_internal_nodes']\n"
     ]
    },
    {
     "data": {
      "text/html": [
       "<div>\n",
       "<style scoped>\n",
       "    .dataframe tbody tr th:only-of-type {\n",
       "        vertical-align: middle;\n",
       "    }\n",
       "\n",
       "    .dataframe tbody tr th {\n",
       "        vertical-align: top;\n",
       "    }\n",
       "\n",
       "    .dataframe thead th {\n",
       "        text-align: right;\n",
       "    }\n",
       "</style>\n",
       "<table border=\"1\" class=\"dataframe\">\n",
       "  <thead>\n",
       "    <tr style=\"text-align: right;\">\n",
       "      <th></th>\n",
       "      <th>model</th>\n",
       "      <th>layer</th>\n",
       "      <th>template</th>\n",
       "      <th>jrf_k1(↓)</th>\n",
       "      <th>jrf_k2(↓)</th>\n",
       "      <th>Generalized Triplet Distance (↓)</th>\n",
       "      <th>Generalized Quartet Distance (↓)</th>\n",
       "      <th>cophenetic corr (↑)</th>\n",
       "    </tr>\n",
       "  </thead>\n",
       "  <tbody>\n",
       "    <tr>\n",
       "      <th>2</th>\n",
       "      <td>random_emb (dim=4096)</td>\n",
       "      <td>0</td>\n",
       "      <td>entity_only</td>\n",
       "      <td>91.36</td>\n",
       "      <td>93.41</td>\n",
       "      <td>0.68</td>\n",
       "      <td>0.68</td>\n",
       "      <td>-0.02</td>\n",
       "    </tr>\n",
       "    <tr>\n",
       "      <th>0</th>\n",
       "      <td>fasttext</td>\n",
       "      <td>0</td>\n",
       "      <td>entity_only</td>\n",
       "      <td>90.75</td>\n",
       "      <td>92.98</td>\n",
       "      <td>0.66</td>\n",
       "      <td>0.67</td>\n",
       "      <td>-0.01</td>\n",
       "    </tr>\n",
       "    <tr>\n",
       "      <th>3</th>\n",
       "      <td>gpt2</td>\n",
       "      <td>10</td>\n",
       "      <td>entity_only</td>\n",
       "      <td>90.93</td>\n",
       "      <td>93.21</td>\n",
       "      <td>0.66</td>\n",
       "      <td>0.66</td>\n",
       "      <td>0.01</td>\n",
       "    </tr>\n",
       "    <tr>\n",
       "      <th>4</th>\n",
       "      <td>meta-llama/Meta-Llama-3-8B</td>\n",
       "      <td>15</td>\n",
       "      <td>entity_only</td>\n",
       "      <td>84.14</td>\n",
       "      <td>85.50</td>\n",
       "      <td>0.15</td>\n",
       "      <td>0.12</td>\n",
       "      <td>0.51</td>\n",
       "    </tr>\n",
       "    <tr>\n",
       "      <th>1</th>\n",
       "      <td>Reference (Gold binary-balanced)</td>\n",
       "      <td>0</td>\n",
       "      <td>entity_only</td>\n",
       "      <td>82.00</td>\n",
       "      <td>82.00</td>\n",
       "      <td>0.00</td>\n",
       "      <td>0.00</td>\n",
       "      <td>0.79</td>\n",
       "    </tr>\n",
       "  </tbody>\n",
       "</table>\n",
       "</div>"
      ],
      "text/plain": [
       "                              model  layer     template  jrf_k1(↓)  jrf_k2(↓)  \\\n",
       "2             random_emb (dim=4096)      0  entity_only      91.36      93.41   \n",
       "0                          fasttext      0  entity_only      90.75      92.98   \n",
       "3                              gpt2     10  entity_only      90.93      93.21   \n",
       "4        meta-llama/Meta-Llama-3-8B     15  entity_only      84.14      85.50   \n",
       "1  Reference (Gold binary-balanced)      0  entity_only      82.00      82.00   \n",
       "\n",
       "   Generalized Triplet Distance (↓)  Generalized Quartet Distance (↓)  \\\n",
       "2                              0.68                              0.68   \n",
       "0                              0.66                              0.67   \n",
       "3                              0.66                              0.66   \n",
       "4                              0.15                              0.12   \n",
       "1                              0.00                              0.00   \n",
       "\n",
       "   cophenetic corr (↑)  \n",
       "2                -0.02  \n",
       "0                -0.01  \n",
       "3                 0.01  \n",
       "4                 0.51  \n",
       "1                 0.79  "
      ]
     },
     "metadata": {},
     "output_type": "display_data"
    }
   ],
   "source": [
    "# Popularity low\n",
    "\n",
    "# ===== ユーザー設定 =====\n",
    "BASE_PATH = \"/home/masaki/hierarchical-repr/EntityTree/output/eval_tree_popLow\"\n",
    "TEMPLATE_FILTER = \"entity_only\"\n",
    "\n",
    "# 指標（存在すれば使う）\n",
    "MINIMIZE_COLS = [\"jrf_k1\", \"gtd\", \"gqd\"]     # 小さいほど良い\n",
    "MAXIMIZE_COLS = [\"cophenetic_corr\"]          # 大きいほど良い\n",
    "PRIMARY_FALLBACK = [\"jrf_k2\", \"jrf_k1\"]      # フォールバック優先度\n",
    "\n",
    "\n",
    "# ===== メイン処理 =====\n",
    "df_all = load_all_evaluation_results(BASE_PATH)\n",
    "print(f\"Total evaluations loaded (before filters): {len(df_all)}\")\n",
    "print(\"Columns available:\", list(df_all.columns))\n",
    "\n",
    "# 表示用の列（full_pathは含めない）\n",
    "display_cols = [\n",
    "    \"model\", \"layer\", \"template\",\n",
    "    \"jrf_k1\", \"jrf_k2\",\n",
    "    \"gtd\", \"gqd\", \"cophenetic_corr\",\n",
    "]\n",
    "display_cols = [c for c in display_cols if c in df_all.columns]\n",
    "df = df_all[display_cols].copy()\n",
    "\n",
    "# template 絞り（パス復元を反映）\n",
    "if \"template\" in df.columns:\n",
    "    df = df[df[\"template\"] == TEMPLATE_FILTER].copy()\n",
    "\n",
    "# 数値化\n",
    "to_numeric_inplace(df, [\"jrf_k1\", \"jrf_k2\", \"gtd\", \"gqd\", \"cophenetic_corr\"])\n",
    "\n",
    "# 除外\n",
    "exclude_models = {\"gold_binary\", \"gold_binary_left\"}\n",
    "df = df[~df[\"model\"].isin(exclude_models)].copy()\n",
    "\n",
    "# random_emb を1つに圧縮\n",
    "df = keep_single_random_emb(df, metric_cols_priority=PRIMARY_FALLBACK + [\"jrf_k1\"])\n",
    "\n",
    "# ファミリー付与＆並び\n",
    "df[\"family\"] = df[\"model\"].apply(model_family)\n",
    "df[\"family_order\"] = df[\"family\"].map(FAMILY_ORDER).fillna(9).astype(int)\n",
    "\n",
    "# ===== LM（gpt2 / Llama-3-8B）をベストレイヤーだけに =====\n",
    "sel_gpt2 = df[\"model\"].astype(str).str.startswith(\"gpt2\", na=False)\n",
    "sel_llama8b = df[\"model\"].astype(str).str.contains(\"Meta-Llama-3-8B\", na=False)\n",
    "df = best_layer_by_rank_sum(\n",
    "    df,\n",
    "    selectors=[sel_gpt2, sel_llama8b],\n",
    "    minimize_cols=MINIMIZE_COLS,\n",
    "    maximize_cols=MAXIMIZE_COLS,\n",
    "    fallback_cols=PRIMARY_FALLBACK\n",
    ")\n",
    "\n",
    "# 小数第2位に丸め（表示用）\n",
    "num_cols = [c for c in [\"jrf_k1\",\"jrf_k2\",\"gtd\",\"gqd\",\"cophenetic_corr\"] if c in df.columns]\n",
    "df[num_cols] = df[num_cols].round(2)\n",
    "\n",
    "# 列名のリネーム（矢印含む）\n",
    "rename_cols = {}\n",
    "if \"jrf_k1\" in df.columns: rename_cols[\"jrf_k1\"] = \"jrf_k1(↓)\"\n",
    "if \"jrf_k2\" in df.columns: rename_cols[\"jrf_k2\"] = \"jrf_k2(↓)\"\n",
    "if \"gtd\" in df.columns: rename_cols[\"gtd\"] = \"Generalized Triplet Distance (↓)\"\n",
    "if \"gqd\" in df.columns: rename_cols[\"gqd\"] = \"Generalized Quartet Distance (↓)\"\n",
    "if \"cophenetic_corr\" in df.columns: rename_cols[\"cophenetic_corr\"] = \"cophenetic corr (↑)\"\n",
    "df = df.rename(columns=rename_cols)\n",
    "\n",
    "# 表示名置換\n",
    "df[\"model\"] = df[\"model\"].replace({\n",
    "    \"gold_binary_balanced\": \"Reference (Gold binary-balanced)\",\n",
    "    \"random_emb\": \"random_emb (dim=4096)\",\n",
    "})\n",
    "\n",
    "# 最終並び替えと表示（full_pathは含めない）\n",
    "sort_keys = [\"family_order\"]\n",
    "if \"layer\" in df.columns:\n",
    "    sort_keys += [\"layer\"]\n",
    "sort_keys += [\"model\"]\n",
    "df = df.sort_values(sort_keys, kind=\"mergesort\").drop(columns=[\"family_order\", \"family\"], errors=\"ignore\")\n",
    "\n",
    "display(df)\n"
   ]
  },
  {
   "cell_type": "code",
   "execution_count": 5,
   "id": "85fce73f",
   "metadata": {},
   "outputs": [
    {
     "name": "stdout",
     "output_type": "stream",
     "text": [
      "Total evaluations loaded (before filters): 114\n",
      "Columns available: ['dataset', 'model', 'layer', 'template', 'n_entities', 'jrf_k1', 'jrf_k2', 'td_raw', 'td_norm', 'triplets_total', 'triplets_gold_resolved', 'triplets_pred_resolved', 'gtd', 'triplets_shared_resolved', 'qd_raw', 'qd_norm', 'gqd', 'quartets_total', 'quartets_gold_resolved', 'quartets_pred_resolved', 'caset_distance', 'caset_similarity', 'caset_pairs', 'cophenetic_corr', 'cophenetic_pairs', 'cophenetic_p', 'gold_internal_nodes', 'pred_internal_nodes']\n"
     ]
    },
    {
     "data": {
      "text/html": [
       "<div>\n",
       "<style scoped>\n",
       "    .dataframe tbody tr th:only-of-type {\n",
       "        vertical-align: middle;\n",
       "    }\n",
       "\n",
       "    .dataframe tbody tr th {\n",
       "        vertical-align: top;\n",
       "    }\n",
       "\n",
       "    .dataframe thead th {\n",
       "        text-align: right;\n",
       "    }\n",
       "</style>\n",
       "<table border=\"1\" class=\"dataframe\">\n",
       "  <thead>\n",
       "    <tr style=\"text-align: right;\">\n",
       "      <th></th>\n",
       "      <th>model</th>\n",
       "      <th>layer</th>\n",
       "      <th>template</th>\n",
       "      <th>jrf_k1(↓)</th>\n",
       "      <th>jrf_k2(↓)</th>\n",
       "      <th>Generalized Triplet Distance (↓)</th>\n",
       "      <th>Generalized Quartet Distance (↓)</th>\n",
       "      <th>cophenetic corr (↑)</th>\n",
       "    </tr>\n",
       "  </thead>\n",
       "  <tbody>\n",
       "    <tr>\n",
       "      <th>2</th>\n",
       "      <td>random_emb (dim=4096)</td>\n",
       "      <td>0</td>\n",
       "      <td>entity_only</td>\n",
       "      <td>91.01</td>\n",
       "      <td>93.24</td>\n",
       "      <td>0.66</td>\n",
       "      <td>0.65</td>\n",
       "      <td>0.02</td>\n",
       "    </tr>\n",
       "    <tr>\n",
       "      <th>0</th>\n",
       "      <td>fasttext</td>\n",
       "      <td>0</td>\n",
       "      <td>entity_only</td>\n",
       "      <td>91.16</td>\n",
       "      <td>93.32</td>\n",
       "      <td>0.67</td>\n",
       "      <td>0.68</td>\n",
       "      <td>-0.00</td>\n",
       "    </tr>\n",
       "    <tr>\n",
       "      <th>3</th>\n",
       "      <td>gpt2</td>\n",
       "      <td>4</td>\n",
       "      <td>entity_only</td>\n",
       "      <td>90.91</td>\n",
       "      <td>93.18</td>\n",
       "      <td>0.66</td>\n",
       "      <td>0.66</td>\n",
       "      <td>0.01</td>\n",
       "    </tr>\n",
       "    <tr>\n",
       "      <th>4</th>\n",
       "      <td>meta-llama/Meta-Llama-3-8B</td>\n",
       "      <td>31</td>\n",
       "      <td>entity_only</td>\n",
       "      <td>84.79</td>\n",
       "      <td>86.26</td>\n",
       "      <td>0.21</td>\n",
       "      <td>0.20</td>\n",
       "      <td>0.54</td>\n",
       "    </tr>\n",
       "    <tr>\n",
       "      <th>1</th>\n",
       "      <td>Reference (Gold binary-balanced)</td>\n",
       "      <td>0</td>\n",
       "      <td>entity_only</td>\n",
       "      <td>82.00</td>\n",
       "      <td>82.00</td>\n",
       "      <td>0.00</td>\n",
       "      <td>0.00</td>\n",
       "      <td>0.79</td>\n",
       "    </tr>\n",
       "  </tbody>\n",
       "</table>\n",
       "</div>"
      ],
      "text/plain": [
       "                              model  layer     template  jrf_k1(↓)  jrf_k2(↓)  \\\n",
       "2             random_emb (dim=4096)      0  entity_only      91.01      93.24   \n",
       "0                          fasttext      0  entity_only      91.16      93.32   \n",
       "3                              gpt2      4  entity_only      90.91      93.18   \n",
       "4        meta-llama/Meta-Llama-3-8B     31  entity_only      84.79      86.26   \n",
       "1  Reference (Gold binary-balanced)      0  entity_only      82.00      82.00   \n",
       "\n",
       "   Generalized Triplet Distance (↓)  Generalized Quartet Distance (↓)  \\\n",
       "2                              0.66                              0.65   \n",
       "0                              0.67                              0.68   \n",
       "3                              0.66                              0.66   \n",
       "4                              0.21                              0.20   \n",
       "1                              0.00                              0.00   \n",
       "\n",
       "   cophenetic corr (↑)  \n",
       "2                 0.02  \n",
       "0                -0.00  \n",
       "3                 0.01  \n",
       "4                 0.54  \n",
       "1                 0.79  "
      ]
     },
     "metadata": {},
     "output_type": "display_data"
    }
   ],
   "source": [
    "# Popularity Middle\n",
    "\n",
    "# ===== ユーザー設定 =====\n",
    "BASE_PATH = \"/home/masaki/hierarchical-repr/EntityTree/output/eval_tree_popMiddle\"\n",
    "TEMPLATE_FILTER = \"entity_only\"\n",
    "\n",
    "# 指標（存在すれば使う）\n",
    "MINIMIZE_COLS = [\"jrf_k1\", \"gtd\", \"gqd\"]     # 小さいほど良い\n",
    "MAXIMIZE_COLS = [\"cophenetic_corr\"]          # 大きいほど良い\n",
    "PRIMARY_FALLBACK = [\"jrf_k2\", \"jrf_k1\"]      # フォールバック優先度\n",
    "\n",
    "\n",
    "# ===== メイン処理 =====\n",
    "df_all = load_all_evaluation_results(BASE_PATH)\n",
    "print(f\"Total evaluations loaded (before filters): {len(df_all)}\")\n",
    "print(\"Columns available:\", list(df_all.columns))\n",
    "\n",
    "# 表示用の列（full_pathは含めない）\n",
    "display_cols = [\n",
    "    \"model\", \"layer\", \"template\",\n",
    "    \"jrf_k1\", \"jrf_k2\",\n",
    "    \"gtd\", \"gqd\", \"cophenetic_corr\",\n",
    "]\n",
    "display_cols = [c for c in display_cols if c in df_all.columns]\n",
    "df = df_all[display_cols].copy()\n",
    "\n",
    "# template 絞り（パス復元を反映）\n",
    "if \"template\" in df.columns:\n",
    "    df = df[df[\"template\"] == TEMPLATE_FILTER].copy()\n",
    "\n",
    "# 数値化\n",
    "to_numeric_inplace(df, [\"jrf_k1\", \"jrf_k2\", \"gtd\", \"gqd\", \"cophenetic_corr\"])\n",
    "\n",
    "# 除外\n",
    "exclude_models = {\"gold_binary\", \"gold_binary_left\"}\n",
    "df = df[~df[\"model\"].isin(exclude_models)].copy()\n",
    "\n",
    "# random_emb を1つに圧縮\n",
    "df = keep_single_random_emb(df, metric_cols_priority=PRIMARY_FALLBACK + [\"jrf_k1\"])\n",
    "\n",
    "# ファミリー付与＆並び\n",
    "df[\"family\"] = df[\"model\"].apply(model_family)\n",
    "df[\"family_order\"] = df[\"family\"].map(FAMILY_ORDER).fillna(9).astype(int)\n",
    "\n",
    "# ===== LM（gpt2 / Llama-3-8B）をベストレイヤーだけに =====\n",
    "sel_gpt2 = df[\"model\"].astype(str).str.startswith(\"gpt2\", na=False)\n",
    "sel_llama8b = df[\"model\"].astype(str).str.contains(\"Meta-Llama-3-8B\", na=False)\n",
    "df = best_layer_by_rank_sum(\n",
    "    df,\n",
    "    selectors=[sel_gpt2, sel_llama8b],\n",
    "    minimize_cols=MINIMIZE_COLS,\n",
    "    maximize_cols=MAXIMIZE_COLS,\n",
    "    fallback_cols=PRIMARY_FALLBACK\n",
    ")\n",
    "\n",
    "# 小数第2位に丸め（表示用）\n",
    "num_cols = [c for c in [\"jrf_k1\",\"jrf_k2\",\"gtd\",\"gqd\",\"cophenetic_corr\"] if c in df.columns]\n",
    "df[num_cols] = df[num_cols].round(2)\n",
    "\n",
    "# 列名のリネーム（矢印含む）\n",
    "rename_cols = {}\n",
    "if \"jrf_k1\" in df.columns: rename_cols[\"jrf_k1\"] = \"jrf_k1(↓)\"\n",
    "if \"jrf_k2\" in df.columns: rename_cols[\"jrf_k2\"] = \"jrf_k2(↓)\"\n",
    "if \"gtd\" in df.columns: rename_cols[\"gtd\"] = \"Generalized Triplet Distance (↓)\"\n",
    "if \"gqd\" in df.columns: rename_cols[\"gqd\"] = \"Generalized Quartet Distance (↓)\"\n",
    "if \"cophenetic_corr\" in df.columns: rename_cols[\"cophenetic_corr\"] = \"cophenetic corr (↑)\"\n",
    "df = df.rename(columns=rename_cols)\n",
    "\n",
    "# 表示名置換\n",
    "df[\"model\"] = df[\"model\"].replace({\n",
    "    \"gold_binary_balanced\": \"Reference (Gold binary-balanced)\",\n",
    "    \"random_emb\": \"random_emb (dim=4096)\",\n",
    "})\n",
    "\n",
    "# 最終並び替えと表示（full_pathは含めない）\n",
    "sort_keys = [\"family_order\"]\n",
    "if \"layer\" in df.columns:\n",
    "    sort_keys += [\"layer\"]\n",
    "sort_keys += [\"model\"]\n",
    "df = df.sort_values(sort_keys, kind=\"mergesort\").drop(columns=[\"family_order\", \"family\"], errors=\"ignore\")\n",
    "\n",
    "display(df)\n"
   ]
  },
  {
   "cell_type": "code",
   "execution_count": null,
   "id": "8364b97b",
   "metadata": {},
   "outputs": [],
   "source": []
  },
  {
   "cell_type": "markdown",
   "id": "34d92e8a",
   "metadata": {},
   "source": [
    "# layerごとの可視化"
   ]
  },
  {
   "cell_type": "code",
   "execution_count": 6,
   "id": "93d8dbf7",
   "metadata": {},
   "outputs": [],
   "source": [
    "import json\n",
    "import re\n",
    "from pathlib import Path\n",
    "import pandas as pd\n",
    "import plotly.graph_objects as go\n",
    "\n",
    "# ===== 色指定 =====\n",
    "COLORS = {\n",
    "    \"gpt2\": \"#d62728\",                                   # 赤\n",
    "    \"meta-llama/Meta-Llama-3-8B\": \"#1f77b4\",             # 青\n",
    "    \"random_emb\": \"#555555\",                              # 黒寄りグレー\n",
    "    \"fasttext\": \"#ff7f0e\",                                # オレンジ\n",
    "    \"gold_binary_balanced\": \"#2ca02c\",                    # 緑\n",
    "}\n",
    "\n",
    "BASELINE_LINE_WIDTH = 3.5\n",
    "\n",
    "TEMPLATE_FILTER = \"entity_only\"  # entity_only のみを対象\n",
    "\n",
    "# ===== ローダ =====\n",
    "def load_llama3_8b(base: Path) -> pd.DataFrame:\n",
    "    root = base / \"meta-llama\" / \"Meta-Llama-3-8B\" / \"template_entity_only\" / \"layer_all\"\n",
    "    rows = []\n",
    "    if root.exists():\n",
    "        for jf in sorted(root.glob(\"evaluation_results_L*.json\")):\n",
    "            with open(jf, \"r\") as f:\n",
    "                data = json.load(f)\n",
    "            m = re.search(r\"_L(\\d+)\\.json$\", jf.name)\n",
    "            layer = int(m.group(1)) if m else data.get(\"layer\")\n",
    "            rows.append({\n",
    "                \"model\": \"meta-llama/Meta-Llama-3-8B\",\n",
    "                \"layer\": layer,\n",
    "                \"jrf_k1\": data.get(\"jrf_k1\"),\n",
    "                \"jrf_k2\": data.get(\"jrf_k2\"),\n",
    "                \"gtd\": data.get(\"gtd\"),\n",
    "                \"gqd\": data.get(\"gqd\"),\n",
    "                \"cophenetic_corr\": data.get(\"cophenetic_corr\"),\n",
    "                \"template\": data.get(\"template\", \"entity_only\"),\n",
    "            })\n",
    "    return pd.DataFrame(rows)\n",
    "\n",
    "def pick_best_gpt2_model(dfs_by_model: dict[str, pd.DataFrame]) -> str | None:\n",
    "    if not dfs_by_model:\n",
    "        return None\n",
    "    if \"gpt2\" in dfs_by_model:\n",
    "        return \"gpt2\"\n",
    "    return max(dfs_by_model.keys(), key=lambda k: dfs_by_model[k][\"layer\"].max())\n",
    "\n",
    "def load_gpt2(base: Path) -> pd.DataFrame:\n",
    "    dfs_by_model = {}\n",
    "    for jf in base.rglob(\"evaluation_results_L*.json\"):\n",
    "        rel_parts = jf.relative_to(base).parts\n",
    "        if not any(p.startswith(\"gpt2\") for p in rel_parts):\n",
    "            continue\n",
    "        # template_entity_only に限定\n",
    "        if \"template_entity_only\" not in rel_parts:\n",
    "            try:\n",
    "                with open(jf, \"r\") as f:\n",
    "                    tmp = json.load(f)\n",
    "                if tmp.get(\"template\") != \"entity_only\":\n",
    "                    continue\n",
    "            except Exception:\n",
    "                continue\n",
    "\n",
    "        with open(jf, \"r\") as f:\n",
    "            data = json.load(f)\n",
    "\n",
    "        model = data.get(\"model\") or next((p for p in rel_parts if p.startswith(\"gpt2\")), \"gpt2\")\n",
    "        m = re.search(r\"_L(\\d+)\\.json$\", jf.name)\n",
    "        layer = int(m.group(1)) if m else data.get(\"layer\")\n",
    "\n",
    "        row = {\n",
    "            \"model\": model,\n",
    "            \"layer\": layer,\n",
    "            \"jrf_k1\": data.get(\"jrf_k1\"),\n",
    "            \"jrf_k2\": data.get(\"jrf_k2\"),\n",
    "            \"gtd\": data.get(\"gtd\"),\n",
    "            \"gqd\": data.get(\"gqd\"),\n",
    "            \"cophenetic_corr\": data.get(\"cophenetic_corr\"),\n",
    "            \"template\": data.get(\"template\", \"entity_only\"),\n",
    "        }\n",
    "        dfs_by_model.setdefault(model, []).append(row)\n",
    "\n",
    "    for k in list(dfs_by_model.keys()):\n",
    "        dfs_by_model[k] = pd.DataFrame(dfs_by_model[k])\n",
    "    best = pick_best_gpt2_model(dfs_by_model)\n",
    "    return dfs_by_model.get(best, pd.DataFrame())\n",
    "\n",
    "def infer_model_from_parts(parts: tuple[str, ...]) -> str | None:\n",
    "    p = \"/\".join(parts)\n",
    "    if \"random_emb\" in p:\n",
    "        return \"random_emb\"\n",
    "    if \"fasttext\" in p:\n",
    "        return \"fasttext\"\n",
    "    if \"gold_binary_balanced\" in p:\n",
    "        return \"gold_binary_balanced\"\n",
    "    return None\n",
    "\n",
    "def load_singleton_models(base: Path) -> pd.DataFrame:\n",
    "    \"\"\"\n",
    "    random_emb / fasttext / gold_binary_balanced は evaluation_results_L0.json のみ採用。\n",
    "    template は entity_only のみ。\n",
    "    \"\"\"\n",
    "    rows = []\n",
    "    for jf in base.rglob(\"evaluation_results_L0.json\"):\n",
    "        rel = jf.relative_to(base)\n",
    "        parts = rel.parts[:-1]\n",
    "        model_guess = infer_model_from_parts(parts)\n",
    "        if model_guess is None:\n",
    "            continue\n",
    "        try:\n",
    "            with open(jf, \"r\") as f:\n",
    "                data = json.load(f)\n",
    "        except Exception:\n",
    "            continue\n",
    "        template = data.get(\"template\") or next((p.replace(\"template_\", \"\", 1) for p in parts if p.startswith(\"template_\")), None)\n",
    "        if template != \"entity_only\":\n",
    "            continue\n",
    "        rows.append({\n",
    "            \"model\": data.get(\"model\", model_guess),\n",
    "            \"layer\": 0,\n",
    "            \"jrf_k1\": data.get(\"jrf_k1\"),\n",
    "            \"jrf_k2\": data.get(\"jrf_k2\"),\n",
    "            \"gtd\": data.get(\"gtd\"),\n",
    "            \"gqd\": data.get(\"gqd\"),\n",
    "            \"cophenetic_corr\": data.get(\"cophenetic_corr\"),\n",
    "            \"template\": \"entity_only\",\n",
    "        })\n",
    "    return pd.DataFrame(rows)\n",
    "\n",
    "\n",
    "# 表示名\n",
    "def to_disp(name: str) -> str:\n",
    "    if name == \"meta-llama/Meta-Llama-3-8B\":\n",
    "        return \"Llama-3-8B\"\n",
    "    if name == \"gpt2\":\n",
    "        return \"gpt2\"\n",
    "    if name == \"random_emb\":\n",
    "        return \"random_emb (dim=4096)\"\n",
    "    if name == \"gold_binary_balanced\":\n",
    "        return \"Reference (Gold binary-balanced)\"\n",
    "    return name\n",
    "\n",
    "\n",
    "def get_singleton_value(df_singleton: pd.DataFrame, metric_key: str, raw_name: str):\n",
    "    if df_singleton.empty or metric_key not in df_singleton.columns:\n",
    "        return None\n",
    "    val = df_singleton.loc[df_singleton[\"model\"] == raw_name, metric_key]\n",
    "    if val.empty:\n",
    "        return None\n",
    "    return float(val.astype(float).mean())\n",
    "\n",
    "def plot_metric(df_metric: pd.DataFrame, metric_key: str, df_singleton: pd.DataFrame):\n",
    "    label, arrow = METRIC_INFO[metric_key]\n",
    "    g = df_metric.dropna(subset=[metric_key, \"normalized_layer\"])\n",
    "    if g.empty:\n",
    "        print(f\"[warn] {metric_key} のデータが空です。スキップします。\")\n",
    "        return None\n",
    "\n",
    "    fig = go.Figure()\n",
    "\n",
    "    # main：gpt2 / Llama-3-8B\n",
    "    for model_name, sub in g.sort_values([\"model\", \"layer\"]).groupby(\"model\"):\n",
    "        md = sub.iloc[0][\"model_disp\"]\n",
    "        color = COLORS.get(model_name)\n",
    "        fig.add_trace(\n",
    "            go.Scatter(\n",
    "                x=sub[\"normalized_layer\"],\n",
    "                y=sub[metric_key],\n",
    "                mode=\"lines+markers\",\n",
    "                name=md,\n",
    "                line=dict(color=color),\n",
    "                marker=dict(color=color),\n",
    "                hovertemplate=\"Layer(norm)=%{x:.2f}<br>\"\n",
    "                              f\"{label}=%{{y:.2f}}<extra>{md}</extra>\",\n",
    "            )\n",
    "        )\n",
    "\n",
    "    # 点線の水平線：random_emb / fasttext / Reference (Gold binary-balanced)\n",
    "    for raw_name in [\"random_emb\", \"fasttext\", \"gold_binary_balanced\"]:\n",
    "        yv = get_singleton_value(df_singleton, metric_key, raw_name)\n",
    "        if yv is None:\n",
    "            continue\n",
    "        color = COLORS.get(raw_name)\n",
    "        disp_name = to_disp(raw_name)\n",
    "        fig.add_trace(\n",
    "            go.Scatter(\n",
    "                x=[0.0, 1.0],\n",
    "                y=[yv, yv],\n",
    "                mode=\"lines\",\n",
    "                name=disp_name,\n",
    "                line=dict(dash=\"dot\", color=color, width=BASELINE_LINE_WIDTH),  # ← 太さを指定\n",
    "                hovertemplate=f\"Layer(norm)=%{{x:.2f}}<br>{label}=%{{y:.2f}}<extra>{disp_name}</extra>\",\n",
    "            )\n",
    "        )\n",
    "\n",
    "    fig.update_layout(\n",
    "        title=f\"{label} across normalized layers ({arrow})\",\n",
    "        xaxis_title=\"Normalized layer (0 → 1)\",\n",
    "        yaxis_title=label,\n",
    "        legend_title=\"Model / Dotted refs\",\n",
    "    )\n",
    "    fig.update_xaxes(range=[0, 1])\n",
    "    return fig\n",
    "\n"
   ]
  },
  {
   "cell_type": "code",
   "execution_count": 7,
   "id": "21e0276f",
   "metadata": {},
   "outputs": [
    {
     "data": {
      "application/vnd.plotly.v1+json": {
       "config": {
        "plotlyServerURL": "https://plot.ly"
       },
       "data": [
        {
         "hovertemplate": "Layer(norm)=%{x:.2f}<br>JRF(k=1)=%{y:.2f}<extra>gpt2</extra>",
         "line": {
          "color": "#d62728"
         },
         "marker": {
          "color": "#d62728"
         },
         "mode": "lines+markers",
         "name": "gpt2",
         "type": "scatter",
         "x": {
          "bdata": "AAAAAAAAAABVVVVVVVW1P1VVVVVVVcU/AAAAAAAA0D9VVVVVVVXVP6uqqqqqqto/AAAAAAAA4D8AAAAAAADgP6uqqqqqquI/VVVVVVVV5T8AAAAAAADoP6uqqqqqquo/VVVVVVVV7T8AAAAAAADwPw==",
          "dtype": "f8"
         },
         "y": {
          "bdata": "Hho2OeSBVkCPs/yOs5xWQAnLPY2wnFZAOY7jOI6TVkCwObKAf3lWQHMpl3Iph1ZA5ifEWflRVkDmJ8RZ+VFWQGG14UlYVVZA9vX19fU1VkAyncV0FkNWQDMzMzMzQ1ZANUiDNEhzVkD2CjvfraZWQA==",
          "dtype": "f8"
         }
        },
        {
         "hovertemplate": "Layer(norm)=%{x:.2f}<br>JRF(k=1)=%{y:.2f}<extra>Llama-3-8B</extra>",
         "line": {
          "color": "#1f77b4"
         },
         "marker": {
          "color": "#1f77b4"
         },
         "mode": "lines+markers",
         "name": "Llama-3-8B",
         "type": "scatter",
         "x": {
          "bdata": "AAAAAAAAAAAAAAAAAACgPwAAAAAAALA/AAAAAAAAuD8AAAAAAADAPwAAAAAAAMQ/AAAAAAAAyD8AAAAAAADMPwAAAAAAANA/AAAAAAAA0j8AAAAAAADUPwAAAAAAANY/AAAAAAAA2D8AAAAAAADaPwAAAAAAANw/AAAAAAAA3j8AAAAAAADgPwAAAAAAAOE/AAAAAAAA4j8AAAAAAADjPwAAAAAAAOQ/AAAAAAAA5T8AAAAAAADmPwAAAAAAAOc/AAAAAAAA6D8AAAAAAADpPwAAAAAAAOo/AAAAAAAA6z8AAAAAAADsPwAAAAAAAO0/AAAAAAAA7j8AAAAAAADvPwAAAAAAAPA/",
          "dtype": "f8"
         },
         "y": {
          "bdata": "LVekC9OjVkAGCKB1kbJWQPCOmBc+mlZArKewnsKaVkDI1MDeMVVWQL4cYNnmG1ZAXL7lW771VUCtxEqsxNpVQEqSJEmS9FVA5DiO4zjeVUAZhmEYhrFVQGdmZmZm5lVAtmALtmDLVUDbrM3arP1VQMMwDMMwzFVAyYu8yIv8VUAl8c51TyJWQIp5O0Ni/lVAMW9nSMwzVkCjiy666BJWQFDrVwrUGlZAuPZ4dH3bVUBtsskmmwxWQALIPFMm8FVAXL7lW771VUDajYCUdvNVQM/zPM/z/FVAz/M8z/PsVUDP8zzP8+xVQM/zPM/z7FVAz/M8z/PsVUDP8zzP8+xVQDmO4ziO41VA",
          "dtype": "f8"
         }
        },
        {
         "hovertemplate": "Layer(norm)=%{x:.2f}<br>JRF(k=1)=%{y:.2f}<extra>random_emb (dim=4096)</extra>",
         "line": {
          "color": "#555555",
          "dash": "dot",
          "width": 3.5
         },
         "mode": "lines",
         "name": "random_emb (dim=4096)",
         "type": "scatter",
         "x": [
          0,
          1
         ],
         "y": [
          91.13704545454544,
          91.13704545454544
         ]
        },
        {
         "hovertemplate": "Layer(norm)=%{x:.2f}<br>JRF(k=1)=%{y:.2f}<extra>fasttext</extra>",
         "line": {
          "color": "#ff7f0e",
          "dash": "dot",
          "width": 3.5
         },
         "mode": "lines",
         "name": "fasttext",
         "type": "scatter",
         "x": [
          0,
          1
         ],
         "y": [
          90.88297682709447,
          90.88297682709447
         ]
        },
        {
         "hovertemplate": "Layer(norm)=%{x:.2f}<br>JRF(k=1)=%{y:.2f}<extra>Reference (Gold binary-balanced)</extra>",
         "line": {
          "color": "#2ca02c",
          "dash": "dot",
          "width": 3.5
         },
         "mode": "lines",
         "name": "Reference (Gold binary-balanced)",
         "type": "scatter",
         "x": [
          0,
          1
         ],
         "y": [
          82,
          82
         ]
        }
       ],
       "layout": {
        "legend": {
         "title": {
          "text": "Model / Dotted refs"
         }
        },
        "template": {
         "data": {
          "bar": [
           {
            "error_x": {
             "color": "#2a3f5f"
            },
            "error_y": {
             "color": "#2a3f5f"
            },
            "marker": {
             "line": {
              "color": "#E5ECF6",
              "width": 0.5
             },
             "pattern": {
              "fillmode": "overlay",
              "size": 10,
              "solidity": 0.2
             }
            },
            "type": "bar"
           }
          ],
          "barpolar": [
           {
            "marker": {
             "line": {
              "color": "#E5ECF6",
              "width": 0.5
             },
             "pattern": {
              "fillmode": "overlay",
              "size": 10,
              "solidity": 0.2
             }
            },
            "type": "barpolar"
           }
          ],
          "carpet": [
           {
            "aaxis": {
             "endlinecolor": "#2a3f5f",
             "gridcolor": "white",
             "linecolor": "white",
             "minorgridcolor": "white",
             "startlinecolor": "#2a3f5f"
            },
            "baxis": {
             "endlinecolor": "#2a3f5f",
             "gridcolor": "white",
             "linecolor": "white",
             "minorgridcolor": "white",
             "startlinecolor": "#2a3f5f"
            },
            "type": "carpet"
           }
          ],
          "choropleth": [
           {
            "colorbar": {
             "outlinewidth": 0,
             "ticks": ""
            },
            "type": "choropleth"
           }
          ],
          "contour": [
           {
            "colorbar": {
             "outlinewidth": 0,
             "ticks": ""
            },
            "colorscale": [
             [
              0,
              "#0d0887"
             ],
             [
              0.1111111111111111,
              "#46039f"
             ],
             [
              0.2222222222222222,
              "#7201a8"
             ],
             [
              0.3333333333333333,
              "#9c179e"
             ],
             [
              0.4444444444444444,
              "#bd3786"
             ],
             [
              0.5555555555555556,
              "#d8576b"
             ],
             [
              0.6666666666666666,
              "#ed7953"
             ],
             [
              0.7777777777777778,
              "#fb9f3a"
             ],
             [
              0.8888888888888888,
              "#fdca26"
             ],
             [
              1,
              "#f0f921"
             ]
            ],
            "type": "contour"
           }
          ],
          "contourcarpet": [
           {
            "colorbar": {
             "outlinewidth": 0,
             "ticks": ""
            },
            "type": "contourcarpet"
           }
          ],
          "heatmap": [
           {
            "colorbar": {
             "outlinewidth": 0,
             "ticks": ""
            },
            "colorscale": [
             [
              0,
              "#0d0887"
             ],
             [
              0.1111111111111111,
              "#46039f"
             ],
             [
              0.2222222222222222,
              "#7201a8"
             ],
             [
              0.3333333333333333,
              "#9c179e"
             ],
             [
              0.4444444444444444,
              "#bd3786"
             ],
             [
              0.5555555555555556,
              "#d8576b"
             ],
             [
              0.6666666666666666,
              "#ed7953"
             ],
             [
              0.7777777777777778,
              "#fb9f3a"
             ],
             [
              0.8888888888888888,
              "#fdca26"
             ],
             [
              1,
              "#f0f921"
             ]
            ],
            "type": "heatmap"
           }
          ],
          "histogram": [
           {
            "marker": {
             "pattern": {
              "fillmode": "overlay",
              "size": 10,
              "solidity": 0.2
             }
            },
            "type": "histogram"
           }
          ],
          "histogram2d": [
           {
            "colorbar": {
             "outlinewidth": 0,
             "ticks": ""
            },
            "colorscale": [
             [
              0,
              "#0d0887"
             ],
             [
              0.1111111111111111,
              "#46039f"
             ],
             [
              0.2222222222222222,
              "#7201a8"
             ],
             [
              0.3333333333333333,
              "#9c179e"
             ],
             [
              0.4444444444444444,
              "#bd3786"
             ],
             [
              0.5555555555555556,
              "#d8576b"
             ],
             [
              0.6666666666666666,
              "#ed7953"
             ],
             [
              0.7777777777777778,
              "#fb9f3a"
             ],
             [
              0.8888888888888888,
              "#fdca26"
             ],
             [
              1,
              "#f0f921"
             ]
            ],
            "type": "histogram2d"
           }
          ],
          "histogram2dcontour": [
           {
            "colorbar": {
             "outlinewidth": 0,
             "ticks": ""
            },
            "colorscale": [
             [
              0,
              "#0d0887"
             ],
             [
              0.1111111111111111,
              "#46039f"
             ],
             [
              0.2222222222222222,
              "#7201a8"
             ],
             [
              0.3333333333333333,
              "#9c179e"
             ],
             [
              0.4444444444444444,
              "#bd3786"
             ],
             [
              0.5555555555555556,
              "#d8576b"
             ],
             [
              0.6666666666666666,
              "#ed7953"
             ],
             [
              0.7777777777777778,
              "#fb9f3a"
             ],
             [
              0.8888888888888888,
              "#fdca26"
             ],
             [
              1,
              "#f0f921"
             ]
            ],
            "type": "histogram2dcontour"
           }
          ],
          "mesh3d": [
           {
            "colorbar": {
             "outlinewidth": 0,
             "ticks": ""
            },
            "type": "mesh3d"
           }
          ],
          "parcoords": [
           {
            "line": {
             "colorbar": {
              "outlinewidth": 0,
              "ticks": ""
             }
            },
            "type": "parcoords"
           }
          ],
          "pie": [
           {
            "automargin": true,
            "type": "pie"
           }
          ],
          "scatter": [
           {
            "fillpattern": {
             "fillmode": "overlay",
             "size": 10,
             "solidity": 0.2
            },
            "type": "scatter"
           }
          ],
          "scatter3d": [
           {
            "line": {
             "colorbar": {
              "outlinewidth": 0,
              "ticks": ""
             }
            },
            "marker": {
             "colorbar": {
              "outlinewidth": 0,
              "ticks": ""
             }
            },
            "type": "scatter3d"
           }
          ],
          "scattercarpet": [
           {
            "marker": {
             "colorbar": {
              "outlinewidth": 0,
              "ticks": ""
             }
            },
            "type": "scattercarpet"
           }
          ],
          "scattergeo": [
           {
            "marker": {
             "colorbar": {
              "outlinewidth": 0,
              "ticks": ""
             }
            },
            "type": "scattergeo"
           }
          ],
          "scattergl": [
           {
            "marker": {
             "colorbar": {
              "outlinewidth": 0,
              "ticks": ""
             }
            },
            "type": "scattergl"
           }
          ],
          "scattermap": [
           {
            "marker": {
             "colorbar": {
              "outlinewidth": 0,
              "ticks": ""
             }
            },
            "type": "scattermap"
           }
          ],
          "scattermapbox": [
           {
            "marker": {
             "colorbar": {
              "outlinewidth": 0,
              "ticks": ""
             }
            },
            "type": "scattermapbox"
           }
          ],
          "scatterpolar": [
           {
            "marker": {
             "colorbar": {
              "outlinewidth": 0,
              "ticks": ""
             }
            },
            "type": "scatterpolar"
           }
          ],
          "scatterpolargl": [
           {
            "marker": {
             "colorbar": {
              "outlinewidth": 0,
              "ticks": ""
             }
            },
            "type": "scatterpolargl"
           }
          ],
          "scatterternary": [
           {
            "marker": {
             "colorbar": {
              "outlinewidth": 0,
              "ticks": ""
             }
            },
            "type": "scatterternary"
           }
          ],
          "surface": [
           {
            "colorbar": {
             "outlinewidth": 0,
             "ticks": ""
            },
            "colorscale": [
             [
              0,
              "#0d0887"
             ],
             [
              0.1111111111111111,
              "#46039f"
             ],
             [
              0.2222222222222222,
              "#7201a8"
             ],
             [
              0.3333333333333333,
              "#9c179e"
             ],
             [
              0.4444444444444444,
              "#bd3786"
             ],
             [
              0.5555555555555556,
              "#d8576b"
             ],
             [
              0.6666666666666666,
              "#ed7953"
             ],
             [
              0.7777777777777778,
              "#fb9f3a"
             ],
             [
              0.8888888888888888,
              "#fdca26"
             ],
             [
              1,
              "#f0f921"
             ]
            ],
            "type": "surface"
           }
          ],
          "table": [
           {
            "cells": {
             "fill": {
              "color": "#EBF0F8"
             },
             "line": {
              "color": "white"
             }
            },
            "header": {
             "fill": {
              "color": "#C8D4E3"
             },
             "line": {
              "color": "white"
             }
            },
            "type": "table"
           }
          ]
         },
         "layout": {
          "annotationdefaults": {
           "arrowcolor": "#2a3f5f",
           "arrowhead": 0,
           "arrowwidth": 1
          },
          "autotypenumbers": "strict",
          "coloraxis": {
           "colorbar": {
            "outlinewidth": 0,
            "ticks": ""
           }
          },
          "colorscale": {
           "diverging": [
            [
             0,
             "#8e0152"
            ],
            [
             0.1,
             "#c51b7d"
            ],
            [
             0.2,
             "#de77ae"
            ],
            [
             0.3,
             "#f1b6da"
            ],
            [
             0.4,
             "#fde0ef"
            ],
            [
             0.5,
             "#f7f7f7"
            ],
            [
             0.6,
             "#e6f5d0"
            ],
            [
             0.7,
             "#b8e186"
            ],
            [
             0.8,
             "#7fbc41"
            ],
            [
             0.9,
             "#4d9221"
            ],
            [
             1,
             "#276419"
            ]
           ],
           "sequential": [
            [
             0,
             "#0d0887"
            ],
            [
             0.1111111111111111,
             "#46039f"
            ],
            [
             0.2222222222222222,
             "#7201a8"
            ],
            [
             0.3333333333333333,
             "#9c179e"
            ],
            [
             0.4444444444444444,
             "#bd3786"
            ],
            [
             0.5555555555555556,
             "#d8576b"
            ],
            [
             0.6666666666666666,
             "#ed7953"
            ],
            [
             0.7777777777777778,
             "#fb9f3a"
            ],
            [
             0.8888888888888888,
             "#fdca26"
            ],
            [
             1,
             "#f0f921"
            ]
           ],
           "sequentialminus": [
            [
             0,
             "#0d0887"
            ],
            [
             0.1111111111111111,
             "#46039f"
            ],
            [
             0.2222222222222222,
             "#7201a8"
            ],
            [
             0.3333333333333333,
             "#9c179e"
            ],
            [
             0.4444444444444444,
             "#bd3786"
            ],
            [
             0.5555555555555556,
             "#d8576b"
            ],
            [
             0.6666666666666666,
             "#ed7953"
            ],
            [
             0.7777777777777778,
             "#fb9f3a"
            ],
            [
             0.8888888888888888,
             "#fdca26"
            ],
            [
             1,
             "#f0f921"
            ]
           ]
          },
          "colorway": [
           "#636efa",
           "#EF553B",
           "#00cc96",
           "#ab63fa",
           "#FFA15A",
           "#19d3f3",
           "#FF6692",
           "#B6E880",
           "#FF97FF",
           "#FECB52"
          ],
          "font": {
           "color": "#2a3f5f"
          },
          "geo": {
           "bgcolor": "white",
           "lakecolor": "white",
           "landcolor": "#E5ECF6",
           "showlakes": true,
           "showland": true,
           "subunitcolor": "white"
          },
          "hoverlabel": {
           "align": "left"
          },
          "hovermode": "closest",
          "mapbox": {
           "style": "light"
          },
          "paper_bgcolor": "white",
          "plot_bgcolor": "#E5ECF6",
          "polar": {
           "angularaxis": {
            "gridcolor": "white",
            "linecolor": "white",
            "ticks": ""
           },
           "bgcolor": "#E5ECF6",
           "radialaxis": {
            "gridcolor": "white",
            "linecolor": "white",
            "ticks": ""
           }
          },
          "scene": {
           "xaxis": {
            "backgroundcolor": "#E5ECF6",
            "gridcolor": "white",
            "gridwidth": 2,
            "linecolor": "white",
            "showbackground": true,
            "ticks": "",
            "zerolinecolor": "white"
           },
           "yaxis": {
            "backgroundcolor": "#E5ECF6",
            "gridcolor": "white",
            "gridwidth": 2,
            "linecolor": "white",
            "showbackground": true,
            "ticks": "",
            "zerolinecolor": "white"
           },
           "zaxis": {
            "backgroundcolor": "#E5ECF6",
            "gridcolor": "white",
            "gridwidth": 2,
            "linecolor": "white",
            "showbackground": true,
            "ticks": "",
            "zerolinecolor": "white"
           }
          },
          "shapedefaults": {
           "line": {
            "color": "#2a3f5f"
           }
          },
          "ternary": {
           "aaxis": {
            "gridcolor": "white",
            "linecolor": "white",
            "ticks": ""
           },
           "baxis": {
            "gridcolor": "white",
            "linecolor": "white",
            "ticks": ""
           },
           "bgcolor": "#E5ECF6",
           "caxis": {
            "gridcolor": "white",
            "linecolor": "white",
            "ticks": ""
           }
          },
          "title": {
           "x": 0.05
          },
          "xaxis": {
           "automargin": true,
           "gridcolor": "white",
           "linecolor": "white",
           "ticks": "",
           "title": {
            "standoff": 15
           },
           "zerolinecolor": "white",
           "zerolinewidth": 2
          },
          "yaxis": {
           "automargin": true,
           "gridcolor": "white",
           "linecolor": "white",
           "ticks": "",
           "title": {
            "standoff": 15
           },
           "zerolinecolor": "white",
           "zerolinewidth": 2
          }
         }
        },
        "title": {
         "text": "JRF(k=1) across normalized layers (↓)"
        },
        "xaxis": {
         "range": [
          0,
          1
         ],
         "title": {
          "text": "Normalized layer (0 → 1)"
         }
        },
        "yaxis": {
         "title": {
          "text": "JRF(k=1)"
         }
        }
       }
      }
     },
     "metadata": {},
     "output_type": "display_data"
    },
    {
     "data": {
      "application/vnd.plotly.v1+json": {
       "config": {
        "plotlyServerURL": "https://plot.ly"
       },
       "data": [
        {
         "hovertemplate": "Layer(norm)=%{x:.2f}<br>Generalized Triplet Distance=%{y:.2f}<extra>gpt2</extra>",
         "line": {
          "color": "#d62728"
         },
         "marker": {
          "color": "#d62728"
         },
         "mode": "lines+markers",
         "name": "gpt2",
         "type": "scatter",
         "x": {
          "bdata": "AAAAAAAAAABVVVVVVVW1P1VVVVVVVcU/AAAAAAAA0D9VVVVVVVXVP6uqqqqqqto/AAAAAAAA4D+rqqqqqqriP1VVVVVVVeU/AAAAAAAA6D+rqqqqqqrqP1VVVVVVVe0/AAAAAAAA8D8=",
          "dtype": "f8"
         },
         "y": {
          "bdata": "un1y5PKE4z86iWsGCIrkPyKq1ElcM+Q/ypHLE+7+4z+o5/bJkcvjPyLrZT8P0+M/1DJq7xVG4j/YTaEJDM/iPzD7eZg+zuE/5IdUFMRf4j/ntTicGHTiP1uHfrN16OM/HjtfzFR/5D8=",
          "dtype": "f8"
         }
        },
        {
         "hovertemplate": "Layer(norm)=%{x:.2f}<br>Generalized Triplet Distance=%{y:.2f}<extra>Llama-3-8B</extra>",
         "line": {
          "color": "#1f77b4"
         },
         "marker": {
          "color": "#1f77b4"
         },
         "mode": "lines+markers",
         "name": "Llama-3-8B",
         "type": "scatter",
         "x": {
          "bdata": "AAAAAAAAAAAAAAAAAACgPwAAAAAAALA/AAAAAAAAuD8AAAAAAADAPwAAAAAAAMQ/AAAAAAAAyD8AAAAAAADMPwAAAAAAANA/AAAAAAAA0j8AAAAAAADUPwAAAAAAANY/AAAAAAAA2D8AAAAAAADaPwAAAAAAANw/AAAAAAAA3j8AAAAAAADgPwAAAAAAAOE/AAAAAAAA4j8AAAAAAADjPwAAAAAAAOQ/AAAAAAAA5T8AAAAAAADmPwAAAAAAAOc/AAAAAAAA6D8AAAAAAADpPwAAAAAAAOo/AAAAAAAA6z8AAAAAAADsPwAAAAAAAO0/AAAAAAAA7j8AAAAAAADvPwAAAAAAAPA/",
          "dtype": "f8"
         },
         "y": {
          "bdata": "YtCZVcCF5D9CExieBcfkPyp1EtcMEOQ/mJIMpeOx4z957HwxU/3hPyDnIGlDVOE/kAhgDeZ03z9EVKmTuGbgP80q4EJ+SOE/iOnjHCRt4D/AW13fAe3aPyLUc/vkyN0//tEbeKvr2z9k54uZ6o/eP4wuuuiii94/8KoV21Hm3z8w+3mYPs7hP5SOx84XM+E/xaAzq4AL4T/qTk3LqL3fP60CLuSHVOA/HDca9ogA3j+opmXU3ivgPzL/vm4KTeA/JG2IKnUS3z9U0zJq7xXeP2BOd2paRt0/eEC7lGQo3T+29wojwcbdP8pnLGJlad4/Wi/7eZg+3j9GWO5phOXeP67YjjL/vt4/",
          "dtype": "f8"
         }
        },
        {
         "hovertemplate": "Layer(norm)=%{x:.2f}<br>Generalized Triplet Distance=%{y:.2f}<extra>random_emb (dim=4096)</extra>",
         "line": {
          "color": "#555555",
          "dash": "dot",
          "width": 3.5
         },
         "mode": "lines",
         "name": "random_emb (dim=4096)",
         "type": "scatter",
         "x": [
          0,
          1
         ],
         "y": [
          0.6730668756530825,
          0.6730668756530825
         ]
        },
        {
         "hovertemplate": "Layer(norm)=%{x:.2f}<br>Generalized Triplet Distance=%{y:.2f}<extra>fasttext</extra>",
         "line": {
          "color": "#ff7f0e",
          "dash": "dot",
          "width": 3.5
         },
         "mode": "lines",
         "name": "fasttext",
         "type": "scatter",
         "x": [
          0,
          1
         ],
         "y": [
          0.6533437826541275,
          0.6533437826541275
         ]
        },
        {
         "hovertemplate": "Layer(norm)=%{x:.2f}<br>Generalized Triplet Distance=%{y:.2f}<extra>Reference (Gold binary-balanced)</extra>",
         "line": {
          "color": "#2ca02c",
          "dash": "dot",
          "width": 3.5
         },
         "mode": "lines",
         "name": "Reference (Gold binary-balanced)",
         "type": "scatter",
         "x": [
          0,
          1
         ],
         "y": [
          0,
          0
         ]
        }
       ],
       "layout": {
        "legend": {
         "title": {
          "text": "Model / Dotted refs"
         }
        },
        "template": {
         "data": {
          "bar": [
           {
            "error_x": {
             "color": "#2a3f5f"
            },
            "error_y": {
             "color": "#2a3f5f"
            },
            "marker": {
             "line": {
              "color": "#E5ECF6",
              "width": 0.5
             },
             "pattern": {
              "fillmode": "overlay",
              "size": 10,
              "solidity": 0.2
             }
            },
            "type": "bar"
           }
          ],
          "barpolar": [
           {
            "marker": {
             "line": {
              "color": "#E5ECF6",
              "width": 0.5
             },
             "pattern": {
              "fillmode": "overlay",
              "size": 10,
              "solidity": 0.2
             }
            },
            "type": "barpolar"
           }
          ],
          "carpet": [
           {
            "aaxis": {
             "endlinecolor": "#2a3f5f",
             "gridcolor": "white",
             "linecolor": "white",
             "minorgridcolor": "white",
             "startlinecolor": "#2a3f5f"
            },
            "baxis": {
             "endlinecolor": "#2a3f5f",
             "gridcolor": "white",
             "linecolor": "white",
             "minorgridcolor": "white",
             "startlinecolor": "#2a3f5f"
            },
            "type": "carpet"
           }
          ],
          "choropleth": [
           {
            "colorbar": {
             "outlinewidth": 0,
             "ticks": ""
            },
            "type": "choropleth"
           }
          ],
          "contour": [
           {
            "colorbar": {
             "outlinewidth": 0,
             "ticks": ""
            },
            "colorscale": [
             [
              0,
              "#0d0887"
             ],
             [
              0.1111111111111111,
              "#46039f"
             ],
             [
              0.2222222222222222,
              "#7201a8"
             ],
             [
              0.3333333333333333,
              "#9c179e"
             ],
             [
              0.4444444444444444,
              "#bd3786"
             ],
             [
              0.5555555555555556,
              "#d8576b"
             ],
             [
              0.6666666666666666,
              "#ed7953"
             ],
             [
              0.7777777777777778,
              "#fb9f3a"
             ],
             [
              0.8888888888888888,
              "#fdca26"
             ],
             [
              1,
              "#f0f921"
             ]
            ],
            "type": "contour"
           }
          ],
          "contourcarpet": [
           {
            "colorbar": {
             "outlinewidth": 0,
             "ticks": ""
            },
            "type": "contourcarpet"
           }
          ],
          "heatmap": [
           {
            "colorbar": {
             "outlinewidth": 0,
             "ticks": ""
            },
            "colorscale": [
             [
              0,
              "#0d0887"
             ],
             [
              0.1111111111111111,
              "#46039f"
             ],
             [
              0.2222222222222222,
              "#7201a8"
             ],
             [
              0.3333333333333333,
              "#9c179e"
             ],
             [
              0.4444444444444444,
              "#bd3786"
             ],
             [
              0.5555555555555556,
              "#d8576b"
             ],
             [
              0.6666666666666666,
              "#ed7953"
             ],
             [
              0.7777777777777778,
              "#fb9f3a"
             ],
             [
              0.8888888888888888,
              "#fdca26"
             ],
             [
              1,
              "#f0f921"
             ]
            ],
            "type": "heatmap"
           }
          ],
          "histogram": [
           {
            "marker": {
             "pattern": {
              "fillmode": "overlay",
              "size": 10,
              "solidity": 0.2
             }
            },
            "type": "histogram"
           }
          ],
          "histogram2d": [
           {
            "colorbar": {
             "outlinewidth": 0,
             "ticks": ""
            },
            "colorscale": [
             [
              0,
              "#0d0887"
             ],
             [
              0.1111111111111111,
              "#46039f"
             ],
             [
              0.2222222222222222,
              "#7201a8"
             ],
             [
              0.3333333333333333,
              "#9c179e"
             ],
             [
              0.4444444444444444,
              "#bd3786"
             ],
             [
              0.5555555555555556,
              "#d8576b"
             ],
             [
              0.6666666666666666,
              "#ed7953"
             ],
             [
              0.7777777777777778,
              "#fb9f3a"
             ],
             [
              0.8888888888888888,
              "#fdca26"
             ],
             [
              1,
              "#f0f921"
             ]
            ],
            "type": "histogram2d"
           }
          ],
          "histogram2dcontour": [
           {
            "colorbar": {
             "outlinewidth": 0,
             "ticks": ""
            },
            "colorscale": [
             [
              0,
              "#0d0887"
             ],
             [
              0.1111111111111111,
              "#46039f"
             ],
             [
              0.2222222222222222,
              "#7201a8"
             ],
             [
              0.3333333333333333,
              "#9c179e"
             ],
             [
              0.4444444444444444,
              "#bd3786"
             ],
             [
              0.5555555555555556,
              "#d8576b"
             ],
             [
              0.6666666666666666,
              "#ed7953"
             ],
             [
              0.7777777777777778,
              "#fb9f3a"
             ],
             [
              0.8888888888888888,
              "#fdca26"
             ],
             [
              1,
              "#f0f921"
             ]
            ],
            "type": "histogram2dcontour"
           }
          ],
          "mesh3d": [
           {
            "colorbar": {
             "outlinewidth": 0,
             "ticks": ""
            },
            "type": "mesh3d"
           }
          ],
          "parcoords": [
           {
            "line": {
             "colorbar": {
              "outlinewidth": 0,
              "ticks": ""
             }
            },
            "type": "parcoords"
           }
          ],
          "pie": [
           {
            "automargin": true,
            "type": "pie"
           }
          ],
          "scatter": [
           {
            "fillpattern": {
             "fillmode": "overlay",
             "size": 10,
             "solidity": 0.2
            },
            "type": "scatter"
           }
          ],
          "scatter3d": [
           {
            "line": {
             "colorbar": {
              "outlinewidth": 0,
              "ticks": ""
             }
            },
            "marker": {
             "colorbar": {
              "outlinewidth": 0,
              "ticks": ""
             }
            },
            "type": "scatter3d"
           }
          ],
          "scattercarpet": [
           {
            "marker": {
             "colorbar": {
              "outlinewidth": 0,
              "ticks": ""
             }
            },
            "type": "scattercarpet"
           }
          ],
          "scattergeo": [
           {
            "marker": {
             "colorbar": {
              "outlinewidth": 0,
              "ticks": ""
             }
            },
            "type": "scattergeo"
           }
          ],
          "scattergl": [
           {
            "marker": {
             "colorbar": {
              "outlinewidth": 0,
              "ticks": ""
             }
            },
            "type": "scattergl"
           }
          ],
          "scattermap": [
           {
            "marker": {
             "colorbar": {
              "outlinewidth": 0,
              "ticks": ""
             }
            },
            "type": "scattermap"
           }
          ],
          "scattermapbox": [
           {
            "marker": {
             "colorbar": {
              "outlinewidth": 0,
              "ticks": ""
             }
            },
            "type": "scattermapbox"
           }
          ],
          "scatterpolar": [
           {
            "marker": {
             "colorbar": {
              "outlinewidth": 0,
              "ticks": ""
             }
            },
            "type": "scatterpolar"
           }
          ],
          "scatterpolargl": [
           {
            "marker": {
             "colorbar": {
              "outlinewidth": 0,
              "ticks": ""
             }
            },
            "type": "scatterpolargl"
           }
          ],
          "scatterternary": [
           {
            "marker": {
             "colorbar": {
              "outlinewidth": 0,
              "ticks": ""
             }
            },
            "type": "scatterternary"
           }
          ],
          "surface": [
           {
            "colorbar": {
             "outlinewidth": 0,
             "ticks": ""
            },
            "colorscale": [
             [
              0,
              "#0d0887"
             ],
             [
              0.1111111111111111,
              "#46039f"
             ],
             [
              0.2222222222222222,
              "#7201a8"
             ],
             [
              0.3333333333333333,
              "#9c179e"
             ],
             [
              0.4444444444444444,
              "#bd3786"
             ],
             [
              0.5555555555555556,
              "#d8576b"
             ],
             [
              0.6666666666666666,
              "#ed7953"
             ],
             [
              0.7777777777777778,
              "#fb9f3a"
             ],
             [
              0.8888888888888888,
              "#fdca26"
             ],
             [
              1,
              "#f0f921"
             ]
            ],
            "type": "surface"
           }
          ],
          "table": [
           {
            "cells": {
             "fill": {
              "color": "#EBF0F8"
             },
             "line": {
              "color": "white"
             }
            },
            "header": {
             "fill": {
              "color": "#C8D4E3"
             },
             "line": {
              "color": "white"
             }
            },
            "type": "table"
           }
          ]
         },
         "layout": {
          "annotationdefaults": {
           "arrowcolor": "#2a3f5f",
           "arrowhead": 0,
           "arrowwidth": 1
          },
          "autotypenumbers": "strict",
          "coloraxis": {
           "colorbar": {
            "outlinewidth": 0,
            "ticks": ""
           }
          },
          "colorscale": {
           "diverging": [
            [
             0,
             "#8e0152"
            ],
            [
             0.1,
             "#c51b7d"
            ],
            [
             0.2,
             "#de77ae"
            ],
            [
             0.3,
             "#f1b6da"
            ],
            [
             0.4,
             "#fde0ef"
            ],
            [
             0.5,
             "#f7f7f7"
            ],
            [
             0.6,
             "#e6f5d0"
            ],
            [
             0.7,
             "#b8e186"
            ],
            [
             0.8,
             "#7fbc41"
            ],
            [
             0.9,
             "#4d9221"
            ],
            [
             1,
             "#276419"
            ]
           ],
           "sequential": [
            [
             0,
             "#0d0887"
            ],
            [
             0.1111111111111111,
             "#46039f"
            ],
            [
             0.2222222222222222,
             "#7201a8"
            ],
            [
             0.3333333333333333,
             "#9c179e"
            ],
            [
             0.4444444444444444,
             "#bd3786"
            ],
            [
             0.5555555555555556,
             "#d8576b"
            ],
            [
             0.6666666666666666,
             "#ed7953"
            ],
            [
             0.7777777777777778,
             "#fb9f3a"
            ],
            [
             0.8888888888888888,
             "#fdca26"
            ],
            [
             1,
             "#f0f921"
            ]
           ],
           "sequentialminus": [
            [
             0,
             "#0d0887"
            ],
            [
             0.1111111111111111,
             "#46039f"
            ],
            [
             0.2222222222222222,
             "#7201a8"
            ],
            [
             0.3333333333333333,
             "#9c179e"
            ],
            [
             0.4444444444444444,
             "#bd3786"
            ],
            [
             0.5555555555555556,
             "#d8576b"
            ],
            [
             0.6666666666666666,
             "#ed7953"
            ],
            [
             0.7777777777777778,
             "#fb9f3a"
            ],
            [
             0.8888888888888888,
             "#fdca26"
            ],
            [
             1,
             "#f0f921"
            ]
           ]
          },
          "colorway": [
           "#636efa",
           "#EF553B",
           "#00cc96",
           "#ab63fa",
           "#FFA15A",
           "#19d3f3",
           "#FF6692",
           "#B6E880",
           "#FF97FF",
           "#FECB52"
          ],
          "font": {
           "color": "#2a3f5f"
          },
          "geo": {
           "bgcolor": "white",
           "lakecolor": "white",
           "landcolor": "#E5ECF6",
           "showlakes": true,
           "showland": true,
           "subunitcolor": "white"
          },
          "hoverlabel": {
           "align": "left"
          },
          "hovermode": "closest",
          "mapbox": {
           "style": "light"
          },
          "paper_bgcolor": "white",
          "plot_bgcolor": "#E5ECF6",
          "polar": {
           "angularaxis": {
            "gridcolor": "white",
            "linecolor": "white",
            "ticks": ""
           },
           "bgcolor": "#E5ECF6",
           "radialaxis": {
            "gridcolor": "white",
            "linecolor": "white",
            "ticks": ""
           }
          },
          "scene": {
           "xaxis": {
            "backgroundcolor": "#E5ECF6",
            "gridcolor": "white",
            "gridwidth": 2,
            "linecolor": "white",
            "showbackground": true,
            "ticks": "",
            "zerolinecolor": "white"
           },
           "yaxis": {
            "backgroundcolor": "#E5ECF6",
            "gridcolor": "white",
            "gridwidth": 2,
            "linecolor": "white",
            "showbackground": true,
            "ticks": "",
            "zerolinecolor": "white"
           },
           "zaxis": {
            "backgroundcolor": "#E5ECF6",
            "gridcolor": "white",
            "gridwidth": 2,
            "linecolor": "white",
            "showbackground": true,
            "ticks": "",
            "zerolinecolor": "white"
           }
          },
          "shapedefaults": {
           "line": {
            "color": "#2a3f5f"
           }
          },
          "ternary": {
           "aaxis": {
            "gridcolor": "white",
            "linecolor": "white",
            "ticks": ""
           },
           "baxis": {
            "gridcolor": "white",
            "linecolor": "white",
            "ticks": ""
           },
           "bgcolor": "#E5ECF6",
           "caxis": {
            "gridcolor": "white",
            "linecolor": "white",
            "ticks": ""
           }
          },
          "title": {
           "x": 0.05
          },
          "xaxis": {
           "automargin": true,
           "gridcolor": "white",
           "linecolor": "white",
           "ticks": "",
           "title": {
            "standoff": 15
           },
           "zerolinecolor": "white",
           "zerolinewidth": 2
          },
          "yaxis": {
           "automargin": true,
           "gridcolor": "white",
           "linecolor": "white",
           "ticks": "",
           "title": {
            "standoff": 15
           },
           "zerolinecolor": "white",
           "zerolinewidth": 2
          }
         }
        },
        "title": {
         "text": "Generalized Triplet Distance across normalized layers (↓)"
        },
        "xaxis": {
         "range": [
          0,
          1
         ],
         "title": {
          "text": "Normalized layer (0 → 1)"
         }
        },
        "yaxis": {
         "title": {
          "text": "Generalized Triplet Distance"
         }
        }
       }
      }
     },
     "metadata": {},
     "output_type": "display_data"
    },
    {
     "data": {
      "application/vnd.plotly.v1+json": {
       "config": {
        "plotlyServerURL": "https://plot.ly"
       },
       "data": [
        {
         "hovertemplate": "Layer(norm)=%{x:.2f}<br>Generalized Quartet Distance=%{y:.2f}<extra>gpt2</extra>",
         "line": {
          "color": "#d62728"
         },
         "marker": {
          "color": "#d62728"
         },
         "mode": "lines+markers",
         "name": "gpt2",
         "type": "scatter",
         "x": {
          "bdata": "AAAAAAAAAABVVVVVVVW1P1VVVVVVVcU/AAAAAAAA0D9VVVVVVVXVP6uqqqqqqto/AAAAAAAA4D8AAAAAAADgP6uqqqqqquI/VVVVVVVV5T8AAAAAAADoP6uqqqqqquo/VVVVVVVV7T8AAAAAAADwPw==",
          "dtype": "f8"
         },
         "y": {
          "bdata": "meSyUMVm4j9K0saILXrkP1L+HmPbJ+Q/Jj9qcoOh4z9ovwjj+6ziP0mwH1+yE+M/7MvAAJHT4T/sy8AAkdPhPyjy5DA8u+E/vJqbViMK4T96QM0jsr/hP3qUv8fY9uE/rkLroceu4z98yU6Q173kPw==",
          "dtype": "f8"
         }
        },
        {
         "hovertemplate": "Layer(norm)=%{x:.2f}<br>Generalized Quartet Distance=%{y:.2f}<extra>Llama-3-8B</extra>",
         "line": {
          "color": "#1f77b4"
         },
         "marker": {
          "color": "#1f77b4"
         },
         "mode": "lines+markers",
         "name": "Llama-3-8B",
         "type": "scatter",
         "x": {
          "bdata": "AAAAAAAAAAAAAAAAAACgPwAAAAAAALA/AAAAAAAAuD8AAAAAAADAPwAAAAAAAMQ/AAAAAAAAyD8AAAAAAADMPwAAAAAAANA/AAAAAAAA0j8AAAAAAADUPwAAAAAAANY/AAAAAAAA2D8AAAAAAADaPwAAAAAAANw/AAAAAAAA3j8AAAAAAADgPwAAAAAAAOE/AAAAAAAA4j8AAAAAAADjPwAAAAAAAOQ/AAAAAAAA5T8AAAAAAADmPwAAAAAAAOc/AAAAAAAA6D8AAAAAAADpPwAAAAAAAOo/AAAAAAAA6z8AAAAAAADsPwAAAAAAAO0/AAAAAAAA7j8AAAAAAADvPwAAAAAAAPA/",
          "dtype": "f8"
         },
         "y": {
          "bdata": "UucNsMts4z+Auao/p1PkPzTU+xf2eOI/oCcc3oLP4j98HUE0/vTfP05uMJTW2N0/PNZaoBAL2z8mEUgMZCvbP572tSkQY94/dGhn7SpJ2z84rUYUtlPTP7Q1i5/qOtc/DtrEvqEI1T86sIpiCUrYPwIefhXvC9g/RGmNvWhQ2j+iDOIW57nfP679t4iYfd4/rN85c6lx3j9sfRkYIHLaP+ixa/8tItw/dGhn7SpJ2T+uhx679t/aP2adYbmARts/XiFATzi82T8+7IaN52HYP3xHOoaRENo/lOnAKool2j/inCTYjy/bP4CPse0TONw/6rjYYQ1z3D8Gyaarj3DdP3QMIyHsXNw/",
          "dtype": "f8"
         }
        },
        {
         "hovertemplate": "Layer(norm)=%{x:.2f}<br>Generalized Quartet Distance=%{y:.2f}<extra>random_emb (dim=4096)</extra>",
         "line": {
          "color": "#555555",
          "dash": "dot",
          "width": 3.5
         },
         "mode": "lines",
         "name": "random_emb (dim=4096)",
         "type": "scatter",
         "x": [
          0,
          1
         ],
         "y": [
          0.6758952817379498,
          0.6758952817379498
         ]
        },
        {
         "hovertemplate": "Layer(norm)=%{x:.2f}<br>Generalized Quartet Distance=%{y:.2f}<extra>fasttext</extra>",
         "line": {
          "color": "#ff7f0e",
          "dash": "dot",
          "width": 3.5
         },
         "mode": "lines",
         "name": "fasttext",
         "type": "scatter",
         "x": [
          0,
          1
         ],
         "y": [
          0.6554155351889568,
          0.6554155351889568
         ]
        },
        {
         "hovertemplate": "Layer(norm)=%{x:.2f}<br>Generalized Quartet Distance=%{y:.2f}<extra>Reference (Gold binary-balanced)</extra>",
         "line": {
          "color": "#2ca02c",
          "dash": "dot",
          "width": 3.5
         },
         "mode": "lines",
         "name": "Reference (Gold binary-balanced)",
         "type": "scatter",
         "x": [
          0,
          1
         ],
         "y": [
          0,
          0
         ]
        }
       ],
       "layout": {
        "legend": {
         "title": {
          "text": "Model / Dotted refs"
         }
        },
        "template": {
         "data": {
          "bar": [
           {
            "error_x": {
             "color": "#2a3f5f"
            },
            "error_y": {
             "color": "#2a3f5f"
            },
            "marker": {
             "line": {
              "color": "#E5ECF6",
              "width": 0.5
             },
             "pattern": {
              "fillmode": "overlay",
              "size": 10,
              "solidity": 0.2
             }
            },
            "type": "bar"
           }
          ],
          "barpolar": [
           {
            "marker": {
             "line": {
              "color": "#E5ECF6",
              "width": 0.5
             },
             "pattern": {
              "fillmode": "overlay",
              "size": 10,
              "solidity": 0.2
             }
            },
            "type": "barpolar"
           }
          ],
          "carpet": [
           {
            "aaxis": {
             "endlinecolor": "#2a3f5f",
             "gridcolor": "white",
             "linecolor": "white",
             "minorgridcolor": "white",
             "startlinecolor": "#2a3f5f"
            },
            "baxis": {
             "endlinecolor": "#2a3f5f",
             "gridcolor": "white",
             "linecolor": "white",
             "minorgridcolor": "white",
             "startlinecolor": "#2a3f5f"
            },
            "type": "carpet"
           }
          ],
          "choropleth": [
           {
            "colorbar": {
             "outlinewidth": 0,
             "ticks": ""
            },
            "type": "choropleth"
           }
          ],
          "contour": [
           {
            "colorbar": {
             "outlinewidth": 0,
             "ticks": ""
            },
            "colorscale": [
             [
              0,
              "#0d0887"
             ],
             [
              0.1111111111111111,
              "#46039f"
             ],
             [
              0.2222222222222222,
              "#7201a8"
             ],
             [
              0.3333333333333333,
              "#9c179e"
             ],
             [
              0.4444444444444444,
              "#bd3786"
             ],
             [
              0.5555555555555556,
              "#d8576b"
             ],
             [
              0.6666666666666666,
              "#ed7953"
             ],
             [
              0.7777777777777778,
              "#fb9f3a"
             ],
             [
              0.8888888888888888,
              "#fdca26"
             ],
             [
              1,
              "#f0f921"
             ]
            ],
            "type": "contour"
           }
          ],
          "contourcarpet": [
           {
            "colorbar": {
             "outlinewidth": 0,
             "ticks": ""
            },
            "type": "contourcarpet"
           }
          ],
          "heatmap": [
           {
            "colorbar": {
             "outlinewidth": 0,
             "ticks": ""
            },
            "colorscale": [
             [
              0,
              "#0d0887"
             ],
             [
              0.1111111111111111,
              "#46039f"
             ],
             [
              0.2222222222222222,
              "#7201a8"
             ],
             [
              0.3333333333333333,
              "#9c179e"
             ],
             [
              0.4444444444444444,
              "#bd3786"
             ],
             [
              0.5555555555555556,
              "#d8576b"
             ],
             [
              0.6666666666666666,
              "#ed7953"
             ],
             [
              0.7777777777777778,
              "#fb9f3a"
             ],
             [
              0.8888888888888888,
              "#fdca26"
             ],
             [
              1,
              "#f0f921"
             ]
            ],
            "type": "heatmap"
           }
          ],
          "histogram": [
           {
            "marker": {
             "pattern": {
              "fillmode": "overlay",
              "size": 10,
              "solidity": 0.2
             }
            },
            "type": "histogram"
           }
          ],
          "histogram2d": [
           {
            "colorbar": {
             "outlinewidth": 0,
             "ticks": ""
            },
            "colorscale": [
             [
              0,
              "#0d0887"
             ],
             [
              0.1111111111111111,
              "#46039f"
             ],
             [
              0.2222222222222222,
              "#7201a8"
             ],
             [
              0.3333333333333333,
              "#9c179e"
             ],
             [
              0.4444444444444444,
              "#bd3786"
             ],
             [
              0.5555555555555556,
              "#d8576b"
             ],
             [
              0.6666666666666666,
              "#ed7953"
             ],
             [
              0.7777777777777778,
              "#fb9f3a"
             ],
             [
              0.8888888888888888,
              "#fdca26"
             ],
             [
              1,
              "#f0f921"
             ]
            ],
            "type": "histogram2d"
           }
          ],
          "histogram2dcontour": [
           {
            "colorbar": {
             "outlinewidth": 0,
             "ticks": ""
            },
            "colorscale": [
             [
              0,
              "#0d0887"
             ],
             [
              0.1111111111111111,
              "#46039f"
             ],
             [
              0.2222222222222222,
              "#7201a8"
             ],
             [
              0.3333333333333333,
              "#9c179e"
             ],
             [
              0.4444444444444444,
              "#bd3786"
             ],
             [
              0.5555555555555556,
              "#d8576b"
             ],
             [
              0.6666666666666666,
              "#ed7953"
             ],
             [
              0.7777777777777778,
              "#fb9f3a"
             ],
             [
              0.8888888888888888,
              "#fdca26"
             ],
             [
              1,
              "#f0f921"
             ]
            ],
            "type": "histogram2dcontour"
           }
          ],
          "mesh3d": [
           {
            "colorbar": {
             "outlinewidth": 0,
             "ticks": ""
            },
            "type": "mesh3d"
           }
          ],
          "parcoords": [
           {
            "line": {
             "colorbar": {
              "outlinewidth": 0,
              "ticks": ""
             }
            },
            "type": "parcoords"
           }
          ],
          "pie": [
           {
            "automargin": true,
            "type": "pie"
           }
          ],
          "scatter": [
           {
            "fillpattern": {
             "fillmode": "overlay",
             "size": 10,
             "solidity": 0.2
            },
            "type": "scatter"
           }
          ],
          "scatter3d": [
           {
            "line": {
             "colorbar": {
              "outlinewidth": 0,
              "ticks": ""
             }
            },
            "marker": {
             "colorbar": {
              "outlinewidth": 0,
              "ticks": ""
             }
            },
            "type": "scatter3d"
           }
          ],
          "scattercarpet": [
           {
            "marker": {
             "colorbar": {
              "outlinewidth": 0,
              "ticks": ""
             }
            },
            "type": "scattercarpet"
           }
          ],
          "scattergeo": [
           {
            "marker": {
             "colorbar": {
              "outlinewidth": 0,
              "ticks": ""
             }
            },
            "type": "scattergeo"
           }
          ],
          "scattergl": [
           {
            "marker": {
             "colorbar": {
              "outlinewidth": 0,
              "ticks": ""
             }
            },
            "type": "scattergl"
           }
          ],
          "scattermap": [
           {
            "marker": {
             "colorbar": {
              "outlinewidth": 0,
              "ticks": ""
             }
            },
            "type": "scattermap"
           }
          ],
          "scattermapbox": [
           {
            "marker": {
             "colorbar": {
              "outlinewidth": 0,
              "ticks": ""
             }
            },
            "type": "scattermapbox"
           }
          ],
          "scatterpolar": [
           {
            "marker": {
             "colorbar": {
              "outlinewidth": 0,
              "ticks": ""
             }
            },
            "type": "scatterpolar"
           }
          ],
          "scatterpolargl": [
           {
            "marker": {
             "colorbar": {
              "outlinewidth": 0,
              "ticks": ""
             }
            },
            "type": "scatterpolargl"
           }
          ],
          "scatterternary": [
           {
            "marker": {
             "colorbar": {
              "outlinewidth": 0,
              "ticks": ""
             }
            },
            "type": "scatterternary"
           }
          ],
          "surface": [
           {
            "colorbar": {
             "outlinewidth": 0,
             "ticks": ""
            },
            "colorscale": [
             [
              0,
              "#0d0887"
             ],
             [
              0.1111111111111111,
              "#46039f"
             ],
             [
              0.2222222222222222,
              "#7201a8"
             ],
             [
              0.3333333333333333,
              "#9c179e"
             ],
             [
              0.4444444444444444,
              "#bd3786"
             ],
             [
              0.5555555555555556,
              "#d8576b"
             ],
             [
              0.6666666666666666,
              "#ed7953"
             ],
             [
              0.7777777777777778,
              "#fb9f3a"
             ],
             [
              0.8888888888888888,
              "#fdca26"
             ],
             [
              1,
              "#f0f921"
             ]
            ],
            "type": "surface"
           }
          ],
          "table": [
           {
            "cells": {
             "fill": {
              "color": "#EBF0F8"
             },
             "line": {
              "color": "white"
             }
            },
            "header": {
             "fill": {
              "color": "#C8D4E3"
             },
             "line": {
              "color": "white"
             }
            },
            "type": "table"
           }
          ]
         },
         "layout": {
          "annotationdefaults": {
           "arrowcolor": "#2a3f5f",
           "arrowhead": 0,
           "arrowwidth": 1
          },
          "autotypenumbers": "strict",
          "coloraxis": {
           "colorbar": {
            "outlinewidth": 0,
            "ticks": ""
           }
          },
          "colorscale": {
           "diverging": [
            [
             0,
             "#8e0152"
            ],
            [
             0.1,
             "#c51b7d"
            ],
            [
             0.2,
             "#de77ae"
            ],
            [
             0.3,
             "#f1b6da"
            ],
            [
             0.4,
             "#fde0ef"
            ],
            [
             0.5,
             "#f7f7f7"
            ],
            [
             0.6,
             "#e6f5d0"
            ],
            [
             0.7,
             "#b8e186"
            ],
            [
             0.8,
             "#7fbc41"
            ],
            [
             0.9,
             "#4d9221"
            ],
            [
             1,
             "#276419"
            ]
           ],
           "sequential": [
            [
             0,
             "#0d0887"
            ],
            [
             0.1111111111111111,
             "#46039f"
            ],
            [
             0.2222222222222222,
             "#7201a8"
            ],
            [
             0.3333333333333333,
             "#9c179e"
            ],
            [
             0.4444444444444444,
             "#bd3786"
            ],
            [
             0.5555555555555556,
             "#d8576b"
            ],
            [
             0.6666666666666666,
             "#ed7953"
            ],
            [
             0.7777777777777778,
             "#fb9f3a"
            ],
            [
             0.8888888888888888,
             "#fdca26"
            ],
            [
             1,
             "#f0f921"
            ]
           ],
           "sequentialminus": [
            [
             0,
             "#0d0887"
            ],
            [
             0.1111111111111111,
             "#46039f"
            ],
            [
             0.2222222222222222,
             "#7201a8"
            ],
            [
             0.3333333333333333,
             "#9c179e"
            ],
            [
             0.4444444444444444,
             "#bd3786"
            ],
            [
             0.5555555555555556,
             "#d8576b"
            ],
            [
             0.6666666666666666,
             "#ed7953"
            ],
            [
             0.7777777777777778,
             "#fb9f3a"
            ],
            [
             0.8888888888888888,
             "#fdca26"
            ],
            [
             1,
             "#f0f921"
            ]
           ]
          },
          "colorway": [
           "#636efa",
           "#EF553B",
           "#00cc96",
           "#ab63fa",
           "#FFA15A",
           "#19d3f3",
           "#FF6692",
           "#B6E880",
           "#FF97FF",
           "#FECB52"
          ],
          "font": {
           "color": "#2a3f5f"
          },
          "geo": {
           "bgcolor": "white",
           "lakecolor": "white",
           "landcolor": "#E5ECF6",
           "showlakes": true,
           "showland": true,
           "subunitcolor": "white"
          },
          "hoverlabel": {
           "align": "left"
          },
          "hovermode": "closest",
          "mapbox": {
           "style": "light"
          },
          "paper_bgcolor": "white",
          "plot_bgcolor": "#E5ECF6",
          "polar": {
           "angularaxis": {
            "gridcolor": "white",
            "linecolor": "white",
            "ticks": ""
           },
           "bgcolor": "#E5ECF6",
           "radialaxis": {
            "gridcolor": "white",
            "linecolor": "white",
            "ticks": ""
           }
          },
          "scene": {
           "xaxis": {
            "backgroundcolor": "#E5ECF6",
            "gridcolor": "white",
            "gridwidth": 2,
            "linecolor": "white",
            "showbackground": true,
            "ticks": "",
            "zerolinecolor": "white"
           },
           "yaxis": {
            "backgroundcolor": "#E5ECF6",
            "gridcolor": "white",
            "gridwidth": 2,
            "linecolor": "white",
            "showbackground": true,
            "ticks": "",
            "zerolinecolor": "white"
           },
           "zaxis": {
            "backgroundcolor": "#E5ECF6",
            "gridcolor": "white",
            "gridwidth": 2,
            "linecolor": "white",
            "showbackground": true,
            "ticks": "",
            "zerolinecolor": "white"
           }
          },
          "shapedefaults": {
           "line": {
            "color": "#2a3f5f"
           }
          },
          "ternary": {
           "aaxis": {
            "gridcolor": "white",
            "linecolor": "white",
            "ticks": ""
           },
           "baxis": {
            "gridcolor": "white",
            "linecolor": "white",
            "ticks": ""
           },
           "bgcolor": "#E5ECF6",
           "caxis": {
            "gridcolor": "white",
            "linecolor": "white",
            "ticks": ""
           }
          },
          "title": {
           "x": 0.05
          },
          "xaxis": {
           "automargin": true,
           "gridcolor": "white",
           "linecolor": "white",
           "ticks": "",
           "title": {
            "standoff": 15
           },
           "zerolinecolor": "white",
           "zerolinewidth": 2
          },
          "yaxis": {
           "automargin": true,
           "gridcolor": "white",
           "linecolor": "white",
           "ticks": "",
           "title": {
            "standoff": 15
           },
           "zerolinecolor": "white",
           "zerolinewidth": 2
          }
         }
        },
        "title": {
         "text": "Generalized Quartet Distance across normalized layers (↓)"
        },
        "xaxis": {
         "range": [
          0,
          1
         ],
         "title": {
          "text": "Normalized layer (0 → 1)"
         }
        },
        "yaxis": {
         "title": {
          "text": "Generalized Quartet Distance"
         }
        }
       }
      }
     },
     "metadata": {},
     "output_type": "display_data"
    },
    {
     "data": {
      "application/vnd.plotly.v1+json": {
       "config": {
        "plotlyServerURL": "https://plot.ly"
       },
       "data": [
        {
         "hovertemplate": "Layer(norm)=%{x:.2f}<br>cophenetic corr=%{y:.2f}<extra>gpt2</extra>",
         "line": {
          "color": "#d62728"
         },
         "marker": {
          "color": "#d62728"
         },
         "mode": "lines+markers",
         "name": "gpt2",
         "type": "scatter",
         "x": {
          "bdata": "AAAAAAAAAABVVVVVVVW1P1VVVVVVVcU/AAAAAAAA0D9VVVVVVVXVP6uqqqqqqto/AAAAAAAA4D8AAAAAAADgP6uqqqqqquI/VVVVVVVV5T8AAAAAAADoP6uqqqqqquo/VVVVVVVV7T8AAAAAAADwPw==",
          "dtype": "f8"
         },
         "y": {
          "bdata": "vV5KMPqdqz8K+SIu0dWNP3mJQdvVNpo/mjYnPtDlmT/W/iPmxgCmP/+2hIN1DKI/ZilBQJnLpT9mKUFAmculP0rutSnE6ag/vb17PM+1qj+PyvD6CwGkP1Kc5G40EKA/mKGmVcpgkD+HupHrTx2HPw==",
          "dtype": "f8"
         }
        },
        {
         "hovertemplate": "Layer(norm)=%{x:.2f}<br>cophenetic corr=%{y:.2f}<extra>Llama-3-8B</extra>",
         "line": {
          "color": "#1f77b4"
         },
         "marker": {
          "color": "#1f77b4"
         },
         "mode": "lines+markers",
         "name": "Llama-3-8B",
         "type": "scatter",
         "x": {
          "bdata": "AAAAAAAAAAAAAAAAAACgPwAAAAAAALA/AAAAAAAAuD8AAAAAAADAPwAAAAAAAMQ/AAAAAAAAyD8AAAAAAADMPwAAAAAAANA/AAAAAAAA0j8AAAAAAADUPwAAAAAAANY/AAAAAAAA2D8AAAAAAADaPwAAAAAAANw/AAAAAAAA3j8AAAAAAADgPwAAAAAAAOE/AAAAAAAA4j8AAAAAAADjPwAAAAAAAOQ/AAAAAAAA5T8AAAAAAADmPwAAAAAAAOc/AAAAAAAA6D8AAAAAAADpPwAAAAAAAOo/AAAAAAAA6z8AAAAAAADsPwAAAAAAAO0/AAAAAAAA7j8AAAAAAADvPwAAAAAAAPA/",
          "dtype": "f8"
         },
         "y": {
          "bdata": "lsl8Vwx2oz94rXNIDq+aPzPOhiaOY68/UB5wDCYKsD+o8vw8UBy6PwwngkgYSrw/plB7hKfEwT9laIiq2Ki/P6CAe3BlBLc/IEVAX2KTvj9kz52DtdvHP1z+s4SsNcU//5QSnkZDxT/y3IVMQiTDPzqSaBUN98E/C/MCF2Ubwj9ds+pu51a2P7eMT1/nvbk/RmTXSnWBvT/pJlMTNbXDP92JVq0SQME/bQZwdCmOxj9pQSeDhRLBP24R7KWGF7w/uAuOE3qmwj9+qsN/2HTEP+E85TBsVsU/mFbffs6OxD+8ZivdZDHEPyYwwNkRpcM/M2S1TJAuwz+2uXPShT3BP/k+VHNB5L0/",
          "dtype": "f8"
         }
        },
        {
         "hovertemplate": "Layer(norm)=%{x:.2f}<br>cophenetic corr=%{y:.2f}<extra>random_emb (dim=4096)</extra>",
         "line": {
          "color": "#555555",
          "dash": "dot",
          "width": 3.5
         },
         "mode": "lines",
         "name": "random_emb (dim=4096)",
         "type": "scatter",
         "x": [
          0,
          1
         ],
         "y": [
          -0.0063855806028933985,
          -0.0063855806028933985
         ]
        },
        {
         "hovertemplate": "Layer(norm)=%{x:.2f}<br>cophenetic corr=%{y:.2f}<extra>fasttext</extra>",
         "line": {
          "color": "#ff7f0e",
          "dash": "dot",
          "width": 3.5
         },
         "mode": "lines",
         "name": "fasttext",
         "type": "scatter",
         "x": [
          0,
          1
         ],
         "y": [
          0.011292991995423416,
          0.011292991995423416
         ]
        },
        {
         "hovertemplate": "Layer(norm)=%{x:.2f}<br>cophenetic corr=%{y:.2f}<extra>Reference (Gold binary-balanced)</extra>",
         "line": {
          "color": "#2ca02c",
          "dash": "dot",
          "width": 3.5
         },
         "mode": "lines",
         "name": "Reference (Gold binary-balanced)",
         "type": "scatter",
         "x": [
          0,
          1
         ],
         "y": [
          0.7935231150009304,
          0.7935231150009304
         ]
        }
       ],
       "layout": {
        "legend": {
         "title": {
          "text": "Model / Dotted refs"
         }
        },
        "template": {
         "data": {
          "bar": [
           {
            "error_x": {
             "color": "#2a3f5f"
            },
            "error_y": {
             "color": "#2a3f5f"
            },
            "marker": {
             "line": {
              "color": "#E5ECF6",
              "width": 0.5
             },
             "pattern": {
              "fillmode": "overlay",
              "size": 10,
              "solidity": 0.2
             }
            },
            "type": "bar"
           }
          ],
          "barpolar": [
           {
            "marker": {
             "line": {
              "color": "#E5ECF6",
              "width": 0.5
             },
             "pattern": {
              "fillmode": "overlay",
              "size": 10,
              "solidity": 0.2
             }
            },
            "type": "barpolar"
           }
          ],
          "carpet": [
           {
            "aaxis": {
             "endlinecolor": "#2a3f5f",
             "gridcolor": "white",
             "linecolor": "white",
             "minorgridcolor": "white",
             "startlinecolor": "#2a3f5f"
            },
            "baxis": {
             "endlinecolor": "#2a3f5f",
             "gridcolor": "white",
             "linecolor": "white",
             "minorgridcolor": "white",
             "startlinecolor": "#2a3f5f"
            },
            "type": "carpet"
           }
          ],
          "choropleth": [
           {
            "colorbar": {
             "outlinewidth": 0,
             "ticks": ""
            },
            "type": "choropleth"
           }
          ],
          "contour": [
           {
            "colorbar": {
             "outlinewidth": 0,
             "ticks": ""
            },
            "colorscale": [
             [
              0,
              "#0d0887"
             ],
             [
              0.1111111111111111,
              "#46039f"
             ],
             [
              0.2222222222222222,
              "#7201a8"
             ],
             [
              0.3333333333333333,
              "#9c179e"
             ],
             [
              0.4444444444444444,
              "#bd3786"
             ],
             [
              0.5555555555555556,
              "#d8576b"
             ],
             [
              0.6666666666666666,
              "#ed7953"
             ],
             [
              0.7777777777777778,
              "#fb9f3a"
             ],
             [
              0.8888888888888888,
              "#fdca26"
             ],
             [
              1,
              "#f0f921"
             ]
            ],
            "type": "contour"
           }
          ],
          "contourcarpet": [
           {
            "colorbar": {
             "outlinewidth": 0,
             "ticks": ""
            },
            "type": "contourcarpet"
           }
          ],
          "heatmap": [
           {
            "colorbar": {
             "outlinewidth": 0,
             "ticks": ""
            },
            "colorscale": [
             [
              0,
              "#0d0887"
             ],
             [
              0.1111111111111111,
              "#46039f"
             ],
             [
              0.2222222222222222,
              "#7201a8"
             ],
             [
              0.3333333333333333,
              "#9c179e"
             ],
             [
              0.4444444444444444,
              "#bd3786"
             ],
             [
              0.5555555555555556,
              "#d8576b"
             ],
             [
              0.6666666666666666,
              "#ed7953"
             ],
             [
              0.7777777777777778,
              "#fb9f3a"
             ],
             [
              0.8888888888888888,
              "#fdca26"
             ],
             [
              1,
              "#f0f921"
             ]
            ],
            "type": "heatmap"
           }
          ],
          "histogram": [
           {
            "marker": {
             "pattern": {
              "fillmode": "overlay",
              "size": 10,
              "solidity": 0.2
             }
            },
            "type": "histogram"
           }
          ],
          "histogram2d": [
           {
            "colorbar": {
             "outlinewidth": 0,
             "ticks": ""
            },
            "colorscale": [
             [
              0,
              "#0d0887"
             ],
             [
              0.1111111111111111,
              "#46039f"
             ],
             [
              0.2222222222222222,
              "#7201a8"
             ],
             [
              0.3333333333333333,
              "#9c179e"
             ],
             [
              0.4444444444444444,
              "#bd3786"
             ],
             [
              0.5555555555555556,
              "#d8576b"
             ],
             [
              0.6666666666666666,
              "#ed7953"
             ],
             [
              0.7777777777777778,
              "#fb9f3a"
             ],
             [
              0.8888888888888888,
              "#fdca26"
             ],
             [
              1,
              "#f0f921"
             ]
            ],
            "type": "histogram2d"
           }
          ],
          "histogram2dcontour": [
           {
            "colorbar": {
             "outlinewidth": 0,
             "ticks": ""
            },
            "colorscale": [
             [
              0,
              "#0d0887"
             ],
             [
              0.1111111111111111,
              "#46039f"
             ],
             [
              0.2222222222222222,
              "#7201a8"
             ],
             [
              0.3333333333333333,
              "#9c179e"
             ],
             [
              0.4444444444444444,
              "#bd3786"
             ],
             [
              0.5555555555555556,
              "#d8576b"
             ],
             [
              0.6666666666666666,
              "#ed7953"
             ],
             [
              0.7777777777777778,
              "#fb9f3a"
             ],
             [
              0.8888888888888888,
              "#fdca26"
             ],
             [
              1,
              "#f0f921"
             ]
            ],
            "type": "histogram2dcontour"
           }
          ],
          "mesh3d": [
           {
            "colorbar": {
             "outlinewidth": 0,
             "ticks": ""
            },
            "type": "mesh3d"
           }
          ],
          "parcoords": [
           {
            "line": {
             "colorbar": {
              "outlinewidth": 0,
              "ticks": ""
             }
            },
            "type": "parcoords"
           }
          ],
          "pie": [
           {
            "automargin": true,
            "type": "pie"
           }
          ],
          "scatter": [
           {
            "fillpattern": {
             "fillmode": "overlay",
             "size": 10,
             "solidity": 0.2
            },
            "type": "scatter"
           }
          ],
          "scatter3d": [
           {
            "line": {
             "colorbar": {
              "outlinewidth": 0,
              "ticks": ""
             }
            },
            "marker": {
             "colorbar": {
              "outlinewidth": 0,
              "ticks": ""
             }
            },
            "type": "scatter3d"
           }
          ],
          "scattercarpet": [
           {
            "marker": {
             "colorbar": {
              "outlinewidth": 0,
              "ticks": ""
             }
            },
            "type": "scattercarpet"
           }
          ],
          "scattergeo": [
           {
            "marker": {
             "colorbar": {
              "outlinewidth": 0,
              "ticks": ""
             }
            },
            "type": "scattergeo"
           }
          ],
          "scattergl": [
           {
            "marker": {
             "colorbar": {
              "outlinewidth": 0,
              "ticks": ""
             }
            },
            "type": "scattergl"
           }
          ],
          "scattermap": [
           {
            "marker": {
             "colorbar": {
              "outlinewidth": 0,
              "ticks": ""
             }
            },
            "type": "scattermap"
           }
          ],
          "scattermapbox": [
           {
            "marker": {
             "colorbar": {
              "outlinewidth": 0,
              "ticks": ""
             }
            },
            "type": "scattermapbox"
           }
          ],
          "scatterpolar": [
           {
            "marker": {
             "colorbar": {
              "outlinewidth": 0,
              "ticks": ""
             }
            },
            "type": "scatterpolar"
           }
          ],
          "scatterpolargl": [
           {
            "marker": {
             "colorbar": {
              "outlinewidth": 0,
              "ticks": ""
             }
            },
            "type": "scatterpolargl"
           }
          ],
          "scatterternary": [
           {
            "marker": {
             "colorbar": {
              "outlinewidth": 0,
              "ticks": ""
             }
            },
            "type": "scatterternary"
           }
          ],
          "surface": [
           {
            "colorbar": {
             "outlinewidth": 0,
             "ticks": ""
            },
            "colorscale": [
             [
              0,
              "#0d0887"
             ],
             [
              0.1111111111111111,
              "#46039f"
             ],
             [
              0.2222222222222222,
              "#7201a8"
             ],
             [
              0.3333333333333333,
              "#9c179e"
             ],
             [
              0.4444444444444444,
              "#bd3786"
             ],
             [
              0.5555555555555556,
              "#d8576b"
             ],
             [
              0.6666666666666666,
              "#ed7953"
             ],
             [
              0.7777777777777778,
              "#fb9f3a"
             ],
             [
              0.8888888888888888,
              "#fdca26"
             ],
             [
              1,
              "#f0f921"
             ]
            ],
            "type": "surface"
           }
          ],
          "table": [
           {
            "cells": {
             "fill": {
              "color": "#EBF0F8"
             },
             "line": {
              "color": "white"
             }
            },
            "header": {
             "fill": {
              "color": "#C8D4E3"
             },
             "line": {
              "color": "white"
             }
            },
            "type": "table"
           }
          ]
         },
         "layout": {
          "annotationdefaults": {
           "arrowcolor": "#2a3f5f",
           "arrowhead": 0,
           "arrowwidth": 1
          },
          "autotypenumbers": "strict",
          "coloraxis": {
           "colorbar": {
            "outlinewidth": 0,
            "ticks": ""
           }
          },
          "colorscale": {
           "diverging": [
            [
             0,
             "#8e0152"
            ],
            [
             0.1,
             "#c51b7d"
            ],
            [
             0.2,
             "#de77ae"
            ],
            [
             0.3,
             "#f1b6da"
            ],
            [
             0.4,
             "#fde0ef"
            ],
            [
             0.5,
             "#f7f7f7"
            ],
            [
             0.6,
             "#e6f5d0"
            ],
            [
             0.7,
             "#b8e186"
            ],
            [
             0.8,
             "#7fbc41"
            ],
            [
             0.9,
             "#4d9221"
            ],
            [
             1,
             "#276419"
            ]
           ],
           "sequential": [
            [
             0,
             "#0d0887"
            ],
            [
             0.1111111111111111,
             "#46039f"
            ],
            [
             0.2222222222222222,
             "#7201a8"
            ],
            [
             0.3333333333333333,
             "#9c179e"
            ],
            [
             0.4444444444444444,
             "#bd3786"
            ],
            [
             0.5555555555555556,
             "#d8576b"
            ],
            [
             0.6666666666666666,
             "#ed7953"
            ],
            [
             0.7777777777777778,
             "#fb9f3a"
            ],
            [
             0.8888888888888888,
             "#fdca26"
            ],
            [
             1,
             "#f0f921"
            ]
           ],
           "sequentialminus": [
            [
             0,
             "#0d0887"
            ],
            [
             0.1111111111111111,
             "#46039f"
            ],
            [
             0.2222222222222222,
             "#7201a8"
            ],
            [
             0.3333333333333333,
             "#9c179e"
            ],
            [
             0.4444444444444444,
             "#bd3786"
            ],
            [
             0.5555555555555556,
             "#d8576b"
            ],
            [
             0.6666666666666666,
             "#ed7953"
            ],
            [
             0.7777777777777778,
             "#fb9f3a"
            ],
            [
             0.8888888888888888,
             "#fdca26"
            ],
            [
             1,
             "#f0f921"
            ]
           ]
          },
          "colorway": [
           "#636efa",
           "#EF553B",
           "#00cc96",
           "#ab63fa",
           "#FFA15A",
           "#19d3f3",
           "#FF6692",
           "#B6E880",
           "#FF97FF",
           "#FECB52"
          ],
          "font": {
           "color": "#2a3f5f"
          },
          "geo": {
           "bgcolor": "white",
           "lakecolor": "white",
           "landcolor": "#E5ECF6",
           "showlakes": true,
           "showland": true,
           "subunitcolor": "white"
          },
          "hoverlabel": {
           "align": "left"
          },
          "hovermode": "closest",
          "mapbox": {
           "style": "light"
          },
          "paper_bgcolor": "white",
          "plot_bgcolor": "#E5ECF6",
          "polar": {
           "angularaxis": {
            "gridcolor": "white",
            "linecolor": "white",
            "ticks": ""
           },
           "bgcolor": "#E5ECF6",
           "radialaxis": {
            "gridcolor": "white",
            "linecolor": "white",
            "ticks": ""
           }
          },
          "scene": {
           "xaxis": {
            "backgroundcolor": "#E5ECF6",
            "gridcolor": "white",
            "gridwidth": 2,
            "linecolor": "white",
            "showbackground": true,
            "ticks": "",
            "zerolinecolor": "white"
           },
           "yaxis": {
            "backgroundcolor": "#E5ECF6",
            "gridcolor": "white",
            "gridwidth": 2,
            "linecolor": "white",
            "showbackground": true,
            "ticks": "",
            "zerolinecolor": "white"
           },
           "zaxis": {
            "backgroundcolor": "#E5ECF6",
            "gridcolor": "white",
            "gridwidth": 2,
            "linecolor": "white",
            "showbackground": true,
            "ticks": "",
            "zerolinecolor": "white"
           }
          },
          "shapedefaults": {
           "line": {
            "color": "#2a3f5f"
           }
          },
          "ternary": {
           "aaxis": {
            "gridcolor": "white",
            "linecolor": "white",
            "ticks": ""
           },
           "baxis": {
            "gridcolor": "white",
            "linecolor": "white",
            "ticks": ""
           },
           "bgcolor": "#E5ECF6",
           "caxis": {
            "gridcolor": "white",
            "linecolor": "white",
            "ticks": ""
           }
          },
          "title": {
           "x": 0.05
          },
          "xaxis": {
           "automargin": true,
           "gridcolor": "white",
           "linecolor": "white",
           "ticks": "",
           "title": {
            "standoff": 15
           },
           "zerolinecolor": "white",
           "zerolinewidth": 2
          },
          "yaxis": {
           "automargin": true,
           "gridcolor": "white",
           "linecolor": "white",
           "ticks": "",
           "title": {
            "standoff": 15
           },
           "zerolinecolor": "white",
           "zerolinewidth": 2
          }
         }
        },
        "title": {
         "text": "cophenetic corr across normalized layers (↑)"
        },
        "xaxis": {
         "range": [
          0,
          1
         ],
         "title": {
          "text": "Normalized layer (0 → 1)"
         }
        },
        "yaxis": {
         "title": {
          "text": "cophenetic corr"
         }
        }
       }
      }
     },
     "metadata": {},
     "output_type": "display_data"
    }
   ],
   "source": [
    "# ===== データ準備 =====\n",
    "BASE_PATH = Path(\"/home/masaki/hierarchical-repr/EntityTree/output/eval_tree\")\n",
    "df_llama = load_llama3_8b(BASE_PATH)\n",
    "df_gpt2  = load_gpt2(BASE_PATH)\n",
    "df_single = load_singleton_models(BASE_PATH)   # random_emb / fasttext / gold_binary_balanced（L0のみ）\n",
    "\n",
    "# main 2モデル\n",
    "frames = [df for df in [df_gpt2, df_llama] if not df.empty]\n",
    "if not frames:\n",
    "    raise RuntimeError(\"gpt2 / Llama-3-8B のデータが見つかりません。パスやファイルを確認してください。\")\n",
    "df = pd.concat(frames, ignore_index=True)\n",
    "\n",
    "# 数値化\n",
    "for c in [\"layer\", \"jrf_k1\", \"jrf_k2\", \"gtd\", \"gqd\", \"cophenetic_corr\"]:\n",
    "    if c in df.columns:\n",
    "        df[c] = pd.to_numeric(df[c], errors=\"coerce\")\n",
    "if not df_single.empty:\n",
    "    for c in [\"jrf_k1\", \"jrf_k2\", \"gtd\", \"gqd\", \"cophenetic_corr\"]:\n",
    "        if c in df_single.columns:\n",
    "            df_single[c] = pd.to_numeric(df_single[c], errors=\"coerce\")\n",
    "\n",
    "# entity_only のみ\n",
    "df = df[df[\"template\"] == \"entity_only\"].copy()\n",
    "if not df_single.empty:\n",
    "    df_single = df_single[df_single[\"template\"] == \"entity_only\"].copy()\n",
    "\n",
    "# normalized layer（0層→0.0、最終層→1.0）\n",
    "df[\"normalized_layer\"] = df.groupby(\"model\")[\"layer\"].transform(\n",
    "    lambda s: s / s.max() if s.max() and s.max() > 0 else 0\n",
    ")\n",
    "\n",
    "\n",
    "df[\"model_disp\"] = df[\"model\"].map(to_disp)\n",
    "if not df_single.empty:\n",
    "    df_single[\"model_disp\"] = df_single[\"model\"].map(to_disp)\n",
    "\n",
    "# ===== 図ユーティリティ =====\n",
    "METRIC_INFO = {\n",
    "    \"jrf_k1\": (\"JRF(k=1)\", \"↓\"),\n",
    "    \"gtd\": (\"Generalized Triplet Distance\", \"↓\"),\n",
    "    \"gqd\": (\"Generalized Quartet Distance\", \"↓\"),\n",
    "    \"cophenetic_corr\": (\"cophenetic corr\", \"↑\"),\n",
    "}\n",
    "\n",
    "\n",
    "# ===== 4 指標をそれぞれ 1 図で可視化 =====\n",
    "fig_jrfk1 = plot_metric(df, \"jrf_k1\", df_single)\n",
    "fig_gtd   = plot_metric(df, \"gtd\", df_single)\n",
    "fig_gqd   = plot_metric(df, \"gqd\", df_single)\n",
    "fig_coph  = plot_metric(df, \"cophenetic_corr\", df_single)\n",
    "\n",
    "for f in [fig_jrfk1, fig_gtd, fig_gqd, fig_coph]:\n",
    "    if f is not None:\n",
    "        f.show()\n"
   ]
  },
  {
   "cell_type": "code",
   "execution_count": 8,
   "id": "920d9b33",
   "metadata": {},
   "outputs": [
    {
     "data": {
      "application/vnd.plotly.v1+json": {
       "config": {
        "plotlyServerURL": "https://plot.ly"
       },
       "data": [
        {
         "hovertemplate": "Layer(norm)=%{x:.2f}<br>JRF(k=1)=%{y:.2f}<extra>gpt2</extra>",
         "line": {
          "color": "#d62728"
         },
         "marker": {
          "color": "#d62728"
         },
         "mode": "lines+markers",
         "name": "gpt2",
         "type": "scatter",
         "x": {
          "bdata": "AAAAAAAAAABVVVVVVVW1P1VVVVVVVcU/AAAAAAAA0D9VVVVVVVXVP6uqqqqqqto/AAAAAAAA4D+rqqqqqqriP1VVVVVVVeU/AAAAAAAA6D+rqqqqqqrqP1VVVVVVVe0/AAAAAAAA8D8=",
          "dtype": "f8"
         },
         "y": {
          "bdata": "Nwtv+B/IVkAik4D2m8tWQL5EJlz+2VZAmUlzWl7MVkAa1zllstJWQGib3VLmz1ZAhMMnLRzDVkD5Ice9jclWQH6335orxFZA+z1/RTq8VkC8sy6ysLtWQMD8y7/8u1ZAnDMp+Y/LVkA=",
          "dtype": "f8"
         }
        },
        {
         "hovertemplate": "Layer(norm)=%{x:.2f}<br>JRF(k=1)=%{y:.2f}<extra>Llama-3-8B</extra>",
         "line": {
          "color": "#1f77b4"
         },
         "marker": {
          "color": "#1f77b4"
         },
         "mode": "lines+markers",
         "name": "Llama-3-8B",
         "type": "scatter",
         "x": {
          "bdata": "AAAAAAAAAAAAAAAAAACgPwAAAAAAALA/AAAAAAAAuD8AAAAAAADAPwAAAAAAAMQ/AAAAAAAAyD8AAAAAAADMPwAAAAAAANA/AAAAAAAA0j8AAAAAAADUPwAAAAAAANY/AAAAAAAA2D8AAAAAAADaPwAAAAAAANw/AAAAAAAA3j8AAAAAAADgPwAAAAAAAOE/AAAAAAAA4j8AAAAAAADjPwAAAAAAAOQ/AAAAAAAA5T8AAAAAAADmPwAAAAAAAOc/AAAAAAAA6D8AAAAAAADpPwAAAAAAAOo/AAAAAAAA6z8AAAAAAADsPwAAAAAAAO0/AAAAAAAA7j8AAAAAAADvPwAAAAAAAPA/",
          "dtype": "f8"
         },
         "y": {
          "bdata": "pRLupBLOVkBixAEk2b5WQPJYNNr1x1ZAsCrd+X2pVkC2WZu1WbtWQBrdDRrdjVZAVGZ1BqJeVkBRmLYvFPZVQPm7eYTq41VAmpmZmZlZVUByHMdxHNdUQFZVVVVV5VRADLZgC7YAVUByHMdxHCdVQI7jOI7jGFVAjuM4juMIVUBociZncjZVQBzHcRzHQVVA5DiO4zgeVUDkOI7jOB5VQMdxHMdxHFVAx3Ecx3EcVUByHMdxHAdVQNuszdqsDVVA26zN2qwNVUDbrM3arA1VQNuszdqsDVVA26zN2qwNVUA/93M/9zNVQD/3cz/3U1VA4ziO4zguVUDjOI7jOC5VQBzHcRzHEVVA",
          "dtype": "f8"
         }
        },
        {
         "hovertemplate": "Layer(norm)=%{x:.2f}<br>JRF(k=1)=%{y:.2f}<extra>random_emb (dim=4096)</extra>",
         "line": {
          "color": "#555555",
          "dash": "dot",
          "width": 3.5
         },
         "mode": "lines",
         "name": "random_emb (dim=4096)",
         "type": "scatter",
         "x": [
          0,
          1
         ],
         "y": [
          91.35750915750916,
          91.35750915750916
         ]
        },
        {
         "hovertemplate": "Layer(norm)=%{x:.2f}<br>JRF(k=1)=%{y:.2f}<extra>fasttext</extra>",
         "line": {
          "color": "#ff7f0e",
          "dash": "dot",
          "width": 3.5
         },
         "mode": "lines",
         "name": "fasttext",
         "type": "scatter",
         "x": [
          0,
          1
         ],
         "y": [
          90.75315669214687,
          90.75315669214687
         ]
        },
        {
         "hovertemplate": "Layer(norm)=%{x:.2f}<br>JRF(k=1)=%{y:.2f}<extra>Reference (Gold binary-balanced)</extra>",
         "line": {
          "color": "#2ca02c",
          "dash": "dot",
          "width": 3.5
         },
         "mode": "lines",
         "name": "Reference (Gold binary-balanced)",
         "type": "scatter",
         "x": [
          0,
          1
         ],
         "y": [
          82,
          82
         ]
        }
       ],
       "layout": {
        "legend": {
         "title": {
          "text": "Model / Dotted refs"
         }
        },
        "template": {
         "data": {
          "bar": [
           {
            "error_x": {
             "color": "#2a3f5f"
            },
            "error_y": {
             "color": "#2a3f5f"
            },
            "marker": {
             "line": {
              "color": "#E5ECF6",
              "width": 0.5
             },
             "pattern": {
              "fillmode": "overlay",
              "size": 10,
              "solidity": 0.2
             }
            },
            "type": "bar"
           }
          ],
          "barpolar": [
           {
            "marker": {
             "line": {
              "color": "#E5ECF6",
              "width": 0.5
             },
             "pattern": {
              "fillmode": "overlay",
              "size": 10,
              "solidity": 0.2
             }
            },
            "type": "barpolar"
           }
          ],
          "carpet": [
           {
            "aaxis": {
             "endlinecolor": "#2a3f5f",
             "gridcolor": "white",
             "linecolor": "white",
             "minorgridcolor": "white",
             "startlinecolor": "#2a3f5f"
            },
            "baxis": {
             "endlinecolor": "#2a3f5f",
             "gridcolor": "white",
             "linecolor": "white",
             "minorgridcolor": "white",
             "startlinecolor": "#2a3f5f"
            },
            "type": "carpet"
           }
          ],
          "choropleth": [
           {
            "colorbar": {
             "outlinewidth": 0,
             "ticks": ""
            },
            "type": "choropleth"
           }
          ],
          "contour": [
           {
            "colorbar": {
             "outlinewidth": 0,
             "ticks": ""
            },
            "colorscale": [
             [
              0,
              "#0d0887"
             ],
             [
              0.1111111111111111,
              "#46039f"
             ],
             [
              0.2222222222222222,
              "#7201a8"
             ],
             [
              0.3333333333333333,
              "#9c179e"
             ],
             [
              0.4444444444444444,
              "#bd3786"
             ],
             [
              0.5555555555555556,
              "#d8576b"
             ],
             [
              0.6666666666666666,
              "#ed7953"
             ],
             [
              0.7777777777777778,
              "#fb9f3a"
             ],
             [
              0.8888888888888888,
              "#fdca26"
             ],
             [
              1,
              "#f0f921"
             ]
            ],
            "type": "contour"
           }
          ],
          "contourcarpet": [
           {
            "colorbar": {
             "outlinewidth": 0,
             "ticks": ""
            },
            "type": "contourcarpet"
           }
          ],
          "heatmap": [
           {
            "colorbar": {
             "outlinewidth": 0,
             "ticks": ""
            },
            "colorscale": [
             [
              0,
              "#0d0887"
             ],
             [
              0.1111111111111111,
              "#46039f"
             ],
             [
              0.2222222222222222,
              "#7201a8"
             ],
             [
              0.3333333333333333,
              "#9c179e"
             ],
             [
              0.4444444444444444,
              "#bd3786"
             ],
             [
              0.5555555555555556,
              "#d8576b"
             ],
             [
              0.6666666666666666,
              "#ed7953"
             ],
             [
              0.7777777777777778,
              "#fb9f3a"
             ],
             [
              0.8888888888888888,
              "#fdca26"
             ],
             [
              1,
              "#f0f921"
             ]
            ],
            "type": "heatmap"
           }
          ],
          "histogram": [
           {
            "marker": {
             "pattern": {
              "fillmode": "overlay",
              "size": 10,
              "solidity": 0.2
             }
            },
            "type": "histogram"
           }
          ],
          "histogram2d": [
           {
            "colorbar": {
             "outlinewidth": 0,
             "ticks": ""
            },
            "colorscale": [
             [
              0,
              "#0d0887"
             ],
             [
              0.1111111111111111,
              "#46039f"
             ],
             [
              0.2222222222222222,
              "#7201a8"
             ],
             [
              0.3333333333333333,
              "#9c179e"
             ],
             [
              0.4444444444444444,
              "#bd3786"
             ],
             [
              0.5555555555555556,
              "#d8576b"
             ],
             [
              0.6666666666666666,
              "#ed7953"
             ],
             [
              0.7777777777777778,
              "#fb9f3a"
             ],
             [
              0.8888888888888888,
              "#fdca26"
             ],
             [
              1,
              "#f0f921"
             ]
            ],
            "type": "histogram2d"
           }
          ],
          "histogram2dcontour": [
           {
            "colorbar": {
             "outlinewidth": 0,
             "ticks": ""
            },
            "colorscale": [
             [
              0,
              "#0d0887"
             ],
             [
              0.1111111111111111,
              "#46039f"
             ],
             [
              0.2222222222222222,
              "#7201a8"
             ],
             [
              0.3333333333333333,
              "#9c179e"
             ],
             [
              0.4444444444444444,
              "#bd3786"
             ],
             [
              0.5555555555555556,
              "#d8576b"
             ],
             [
              0.6666666666666666,
              "#ed7953"
             ],
             [
              0.7777777777777778,
              "#fb9f3a"
             ],
             [
              0.8888888888888888,
              "#fdca26"
             ],
             [
              1,
              "#f0f921"
             ]
            ],
            "type": "histogram2dcontour"
           }
          ],
          "mesh3d": [
           {
            "colorbar": {
             "outlinewidth": 0,
             "ticks": ""
            },
            "type": "mesh3d"
           }
          ],
          "parcoords": [
           {
            "line": {
             "colorbar": {
              "outlinewidth": 0,
              "ticks": ""
             }
            },
            "type": "parcoords"
           }
          ],
          "pie": [
           {
            "automargin": true,
            "type": "pie"
           }
          ],
          "scatter": [
           {
            "fillpattern": {
             "fillmode": "overlay",
             "size": 10,
             "solidity": 0.2
            },
            "type": "scatter"
           }
          ],
          "scatter3d": [
           {
            "line": {
             "colorbar": {
              "outlinewidth": 0,
              "ticks": ""
             }
            },
            "marker": {
             "colorbar": {
              "outlinewidth": 0,
              "ticks": ""
             }
            },
            "type": "scatter3d"
           }
          ],
          "scattercarpet": [
           {
            "marker": {
             "colorbar": {
              "outlinewidth": 0,
              "ticks": ""
             }
            },
            "type": "scattercarpet"
           }
          ],
          "scattergeo": [
           {
            "marker": {
             "colorbar": {
              "outlinewidth": 0,
              "ticks": ""
             }
            },
            "type": "scattergeo"
           }
          ],
          "scattergl": [
           {
            "marker": {
             "colorbar": {
              "outlinewidth": 0,
              "ticks": ""
             }
            },
            "type": "scattergl"
           }
          ],
          "scattermap": [
           {
            "marker": {
             "colorbar": {
              "outlinewidth": 0,
              "ticks": ""
             }
            },
            "type": "scattermap"
           }
          ],
          "scattermapbox": [
           {
            "marker": {
             "colorbar": {
              "outlinewidth": 0,
              "ticks": ""
             }
            },
            "type": "scattermapbox"
           }
          ],
          "scatterpolar": [
           {
            "marker": {
             "colorbar": {
              "outlinewidth": 0,
              "ticks": ""
             }
            },
            "type": "scatterpolar"
           }
          ],
          "scatterpolargl": [
           {
            "marker": {
             "colorbar": {
              "outlinewidth": 0,
              "ticks": ""
             }
            },
            "type": "scatterpolargl"
           }
          ],
          "scatterternary": [
           {
            "marker": {
             "colorbar": {
              "outlinewidth": 0,
              "ticks": ""
             }
            },
            "type": "scatterternary"
           }
          ],
          "surface": [
           {
            "colorbar": {
             "outlinewidth": 0,
             "ticks": ""
            },
            "colorscale": [
             [
              0,
              "#0d0887"
             ],
             [
              0.1111111111111111,
              "#46039f"
             ],
             [
              0.2222222222222222,
              "#7201a8"
             ],
             [
              0.3333333333333333,
              "#9c179e"
             ],
             [
              0.4444444444444444,
              "#bd3786"
             ],
             [
              0.5555555555555556,
              "#d8576b"
             ],
             [
              0.6666666666666666,
              "#ed7953"
             ],
             [
              0.7777777777777778,
              "#fb9f3a"
             ],
             [
              0.8888888888888888,
              "#fdca26"
             ],
             [
              1,
              "#f0f921"
             ]
            ],
            "type": "surface"
           }
          ],
          "table": [
           {
            "cells": {
             "fill": {
              "color": "#EBF0F8"
             },
             "line": {
              "color": "white"
             }
            },
            "header": {
             "fill": {
              "color": "#C8D4E3"
             },
             "line": {
              "color": "white"
             }
            },
            "type": "table"
           }
          ]
         },
         "layout": {
          "annotationdefaults": {
           "arrowcolor": "#2a3f5f",
           "arrowhead": 0,
           "arrowwidth": 1
          },
          "autotypenumbers": "strict",
          "coloraxis": {
           "colorbar": {
            "outlinewidth": 0,
            "ticks": ""
           }
          },
          "colorscale": {
           "diverging": [
            [
             0,
             "#8e0152"
            ],
            [
             0.1,
             "#c51b7d"
            ],
            [
             0.2,
             "#de77ae"
            ],
            [
             0.3,
             "#f1b6da"
            ],
            [
             0.4,
             "#fde0ef"
            ],
            [
             0.5,
             "#f7f7f7"
            ],
            [
             0.6,
             "#e6f5d0"
            ],
            [
             0.7,
             "#b8e186"
            ],
            [
             0.8,
             "#7fbc41"
            ],
            [
             0.9,
             "#4d9221"
            ],
            [
             1,
             "#276419"
            ]
           ],
           "sequential": [
            [
             0,
             "#0d0887"
            ],
            [
             0.1111111111111111,
             "#46039f"
            ],
            [
             0.2222222222222222,
             "#7201a8"
            ],
            [
             0.3333333333333333,
             "#9c179e"
            ],
            [
             0.4444444444444444,
             "#bd3786"
            ],
            [
             0.5555555555555556,
             "#d8576b"
            ],
            [
             0.6666666666666666,
             "#ed7953"
            ],
            [
             0.7777777777777778,
             "#fb9f3a"
            ],
            [
             0.8888888888888888,
             "#fdca26"
            ],
            [
             1,
             "#f0f921"
            ]
           ],
           "sequentialminus": [
            [
             0,
             "#0d0887"
            ],
            [
             0.1111111111111111,
             "#46039f"
            ],
            [
             0.2222222222222222,
             "#7201a8"
            ],
            [
             0.3333333333333333,
             "#9c179e"
            ],
            [
             0.4444444444444444,
             "#bd3786"
            ],
            [
             0.5555555555555556,
             "#d8576b"
            ],
            [
             0.6666666666666666,
             "#ed7953"
            ],
            [
             0.7777777777777778,
             "#fb9f3a"
            ],
            [
             0.8888888888888888,
             "#fdca26"
            ],
            [
             1,
             "#f0f921"
            ]
           ]
          },
          "colorway": [
           "#636efa",
           "#EF553B",
           "#00cc96",
           "#ab63fa",
           "#FFA15A",
           "#19d3f3",
           "#FF6692",
           "#B6E880",
           "#FF97FF",
           "#FECB52"
          ],
          "font": {
           "color": "#2a3f5f"
          },
          "geo": {
           "bgcolor": "white",
           "lakecolor": "white",
           "landcolor": "#E5ECF6",
           "showlakes": true,
           "showland": true,
           "subunitcolor": "white"
          },
          "hoverlabel": {
           "align": "left"
          },
          "hovermode": "closest",
          "mapbox": {
           "style": "light"
          },
          "paper_bgcolor": "white",
          "plot_bgcolor": "#E5ECF6",
          "polar": {
           "angularaxis": {
            "gridcolor": "white",
            "linecolor": "white",
            "ticks": ""
           },
           "bgcolor": "#E5ECF6",
           "radialaxis": {
            "gridcolor": "white",
            "linecolor": "white",
            "ticks": ""
           }
          },
          "scene": {
           "xaxis": {
            "backgroundcolor": "#E5ECF6",
            "gridcolor": "white",
            "gridwidth": 2,
            "linecolor": "white",
            "showbackground": true,
            "ticks": "",
            "zerolinecolor": "white"
           },
           "yaxis": {
            "backgroundcolor": "#E5ECF6",
            "gridcolor": "white",
            "gridwidth": 2,
            "linecolor": "white",
            "showbackground": true,
            "ticks": "",
            "zerolinecolor": "white"
           },
           "zaxis": {
            "backgroundcolor": "#E5ECF6",
            "gridcolor": "white",
            "gridwidth": 2,
            "linecolor": "white",
            "showbackground": true,
            "ticks": "",
            "zerolinecolor": "white"
           }
          },
          "shapedefaults": {
           "line": {
            "color": "#2a3f5f"
           }
          },
          "ternary": {
           "aaxis": {
            "gridcolor": "white",
            "linecolor": "white",
            "ticks": ""
           },
           "baxis": {
            "gridcolor": "white",
            "linecolor": "white",
            "ticks": ""
           },
           "bgcolor": "#E5ECF6",
           "caxis": {
            "gridcolor": "white",
            "linecolor": "white",
            "ticks": ""
           }
          },
          "title": {
           "x": 0.05
          },
          "xaxis": {
           "automargin": true,
           "gridcolor": "white",
           "linecolor": "white",
           "ticks": "",
           "title": {
            "standoff": 15
           },
           "zerolinecolor": "white",
           "zerolinewidth": 2
          },
          "yaxis": {
           "automargin": true,
           "gridcolor": "white",
           "linecolor": "white",
           "ticks": "",
           "title": {
            "standoff": 15
           },
           "zerolinecolor": "white",
           "zerolinewidth": 2
          }
         }
        },
        "title": {
         "text": "JRF(k=1) across normalized layers (↓)"
        },
        "xaxis": {
         "range": [
          0,
          1
         ],
         "title": {
          "text": "Normalized layer (0 → 1)"
         }
        },
        "yaxis": {
         "title": {
          "text": "JRF(k=1)"
         }
        }
       }
      }
     },
     "metadata": {},
     "output_type": "display_data"
    },
    {
     "data": {
      "application/vnd.plotly.v1+json": {
       "config": {
        "plotlyServerURL": "https://plot.ly"
       },
       "data": [
        {
         "hovertemplate": "Layer(norm)=%{x:.2f}<br>Generalized Triplet Distance=%{y:.2f}<extra>gpt2</extra>",
         "line": {
          "color": "#d62728"
         },
         "marker": {
          "color": "#d62728"
         },
         "mode": "lines+markers",
         "name": "gpt2",
         "type": "scatter",
         "x": {
          "bdata": "AAAAAAAAAABVVVVVVVW1P1VVVVVVVcU/AAAAAAAA0D9VVVVVVVXVP6uqqqqqqto/AAAAAAAA4D+rqqqqqqriP1VVVVVVVeU/AAAAAAAA6D+rqqqqqqrqP1VVVVVVVe0/AAAAAAAA8D8=",
          "dtype": "f8"
         },
         "y": {
          "bdata": "rq7vgHYp5T9MihfIpHjlP3Fi0JlVwOU/9DB9nIOk5T8ceKvrO6DlP3otDicGneU/Fhzj25J35T+qP3oDb3XlP2R8W/KuWuU/DpI2RJU65T9n69Bvtg7lPwk2bjTsEeU/vgPapSRD5T8=",
          "dtype": "f8"
         }
        },
        {
         "hovertemplate": "Layer(norm)=%{x:.2f}<br>Generalized Triplet Distance=%{y:.2f}<extra>Llama-3-8B</extra>",
         "line": {
          "color": "#1f77b4"
         },
         "marker": {
          "color": "#1f77b4"
         },
         "mode": "lines+markers",
         "name": "Llama-3-8B",
         "type": "scatter",
         "x": {
          "bdata": "AAAAAAAAAAAAAAAAAACgPwAAAAAAALA/AAAAAAAAuD8AAAAAAADAPwAAAAAAAMQ/AAAAAAAAyD8AAAAAAADMPwAAAAAAANA/AAAAAAAA0j8AAAAAAADUPwAAAAAAANY/AAAAAAAA2D8AAAAAAADaPwAAAAAAANw/AAAAAAAA3j8AAAAAAADgPwAAAAAAAOE/AAAAAAAA4j8AAAAAAADjPwAAAAAAAOQ/AAAAAAAA5T8AAAAAAADmPwAAAAAAAOc/AAAAAAAA6D8AAAAAAADpPwAAAAAAAOo/AAAAAAAA6z8AAAAAAADsPwAAAAAAAO0/AAAAAAAA7j8AAAAAAADvPwAAAAAAAPA/",
          "dtype": "f8"
         },
         "y": {
          "bdata": "yrtqxXaU5T+2OJwYdGblP+PbknfViuU/hmfBMb4t5T+l47HzxUzlPyo0geFZcOQ/5TMWsbI04z8UmsDwLDjeP7iQH1JREN8/KnUS1wwQ1D/Eck8jLPfEP2Q7yvz7usk//KM38FbXxz8klyfc/afMP+Qv0drmtcg/BDIpXiCTwj9wnxy5POHOP3SQtCGq1NE/Vuokrhkg0D84cnnC3X/KP2DMVH/0Bs4/8Oum0ASGxz/w1LSM2nvFP9jicGLQmcU/YA3mdKemxT+wm0ITGJ7FP6BGWO5phMU/lBDquX1yxD8I3ur6DmjHPyifsYiVpck/RBdddNFFxz9gi8OJQWfGPwwQFFkv+8k/",
          "dtype": "f8"
         }
        },
        {
         "hovertemplate": "Layer(norm)=%{x:.2f}<br>Generalized Triplet Distance=%{y:.2f}<extra>random_emb (dim=4096)</extra>",
         "line": {
          "color": "#555555",
          "dash": "dot",
          "width": 3.5
         },
         "mode": "lines",
         "name": "random_emb (dim=4096)",
         "type": "scatter",
         "x": [
          0,
          1
         ],
         "y": [
          0.6772466039707419,
          0.6772466039707419
         ]
        },
        {
         "hovertemplate": "Layer(norm)=%{x:.2f}<br>Generalized Triplet Distance=%{y:.2f}<extra>fasttext</extra>",
         "line": {
          "color": "#ff7f0e",
          "dash": "dot",
          "width": 3.5
         },
         "mode": "lines",
         "name": "fasttext",
         "type": "scatter",
         "x": [
          0,
          1
         ],
         "y": [
          0.6589602925809822,
          0.6589602925809822
         ]
        },
        {
         "hovertemplate": "Layer(norm)=%{x:.2f}<br>Generalized Triplet Distance=%{y:.2f}<extra>Reference (Gold binary-balanced)</extra>",
         "line": {
          "color": "#2ca02c",
          "dash": "dot",
          "width": 3.5
         },
         "mode": "lines",
         "name": "Reference (Gold binary-balanced)",
         "type": "scatter",
         "x": [
          0,
          1
         ],
         "y": [
          0,
          0
         ]
        }
       ],
       "layout": {
        "legend": {
         "title": {
          "text": "Model / Dotted refs"
         }
        },
        "template": {
         "data": {
          "bar": [
           {
            "error_x": {
             "color": "#2a3f5f"
            },
            "error_y": {
             "color": "#2a3f5f"
            },
            "marker": {
             "line": {
              "color": "#E5ECF6",
              "width": 0.5
             },
             "pattern": {
              "fillmode": "overlay",
              "size": 10,
              "solidity": 0.2
             }
            },
            "type": "bar"
           }
          ],
          "barpolar": [
           {
            "marker": {
             "line": {
              "color": "#E5ECF6",
              "width": 0.5
             },
             "pattern": {
              "fillmode": "overlay",
              "size": 10,
              "solidity": 0.2
             }
            },
            "type": "barpolar"
           }
          ],
          "carpet": [
           {
            "aaxis": {
             "endlinecolor": "#2a3f5f",
             "gridcolor": "white",
             "linecolor": "white",
             "minorgridcolor": "white",
             "startlinecolor": "#2a3f5f"
            },
            "baxis": {
             "endlinecolor": "#2a3f5f",
             "gridcolor": "white",
             "linecolor": "white",
             "minorgridcolor": "white",
             "startlinecolor": "#2a3f5f"
            },
            "type": "carpet"
           }
          ],
          "choropleth": [
           {
            "colorbar": {
             "outlinewidth": 0,
             "ticks": ""
            },
            "type": "choropleth"
           }
          ],
          "contour": [
           {
            "colorbar": {
             "outlinewidth": 0,
             "ticks": ""
            },
            "colorscale": [
             [
              0,
              "#0d0887"
             ],
             [
              0.1111111111111111,
              "#46039f"
             ],
             [
              0.2222222222222222,
              "#7201a8"
             ],
             [
              0.3333333333333333,
              "#9c179e"
             ],
             [
              0.4444444444444444,
              "#bd3786"
             ],
             [
              0.5555555555555556,
              "#d8576b"
             ],
             [
              0.6666666666666666,
              "#ed7953"
             ],
             [
              0.7777777777777778,
              "#fb9f3a"
             ],
             [
              0.8888888888888888,
              "#fdca26"
             ],
             [
              1,
              "#f0f921"
             ]
            ],
            "type": "contour"
           }
          ],
          "contourcarpet": [
           {
            "colorbar": {
             "outlinewidth": 0,
             "ticks": ""
            },
            "type": "contourcarpet"
           }
          ],
          "heatmap": [
           {
            "colorbar": {
             "outlinewidth": 0,
             "ticks": ""
            },
            "colorscale": [
             [
              0,
              "#0d0887"
             ],
             [
              0.1111111111111111,
              "#46039f"
             ],
             [
              0.2222222222222222,
              "#7201a8"
             ],
             [
              0.3333333333333333,
              "#9c179e"
             ],
             [
              0.4444444444444444,
              "#bd3786"
             ],
             [
              0.5555555555555556,
              "#d8576b"
             ],
             [
              0.6666666666666666,
              "#ed7953"
             ],
             [
              0.7777777777777778,
              "#fb9f3a"
             ],
             [
              0.8888888888888888,
              "#fdca26"
             ],
             [
              1,
              "#f0f921"
             ]
            ],
            "type": "heatmap"
           }
          ],
          "histogram": [
           {
            "marker": {
             "pattern": {
              "fillmode": "overlay",
              "size": 10,
              "solidity": 0.2
             }
            },
            "type": "histogram"
           }
          ],
          "histogram2d": [
           {
            "colorbar": {
             "outlinewidth": 0,
             "ticks": ""
            },
            "colorscale": [
             [
              0,
              "#0d0887"
             ],
             [
              0.1111111111111111,
              "#46039f"
             ],
             [
              0.2222222222222222,
              "#7201a8"
             ],
             [
              0.3333333333333333,
              "#9c179e"
             ],
             [
              0.4444444444444444,
              "#bd3786"
             ],
             [
              0.5555555555555556,
              "#d8576b"
             ],
             [
              0.6666666666666666,
              "#ed7953"
             ],
             [
              0.7777777777777778,
              "#fb9f3a"
             ],
             [
              0.8888888888888888,
              "#fdca26"
             ],
             [
              1,
              "#f0f921"
             ]
            ],
            "type": "histogram2d"
           }
          ],
          "histogram2dcontour": [
           {
            "colorbar": {
             "outlinewidth": 0,
             "ticks": ""
            },
            "colorscale": [
             [
              0,
              "#0d0887"
             ],
             [
              0.1111111111111111,
              "#46039f"
             ],
             [
              0.2222222222222222,
              "#7201a8"
             ],
             [
              0.3333333333333333,
              "#9c179e"
             ],
             [
              0.4444444444444444,
              "#bd3786"
             ],
             [
              0.5555555555555556,
              "#d8576b"
             ],
             [
              0.6666666666666666,
              "#ed7953"
             ],
             [
              0.7777777777777778,
              "#fb9f3a"
             ],
             [
              0.8888888888888888,
              "#fdca26"
             ],
             [
              1,
              "#f0f921"
             ]
            ],
            "type": "histogram2dcontour"
           }
          ],
          "mesh3d": [
           {
            "colorbar": {
             "outlinewidth": 0,
             "ticks": ""
            },
            "type": "mesh3d"
           }
          ],
          "parcoords": [
           {
            "line": {
             "colorbar": {
              "outlinewidth": 0,
              "ticks": ""
             }
            },
            "type": "parcoords"
           }
          ],
          "pie": [
           {
            "automargin": true,
            "type": "pie"
           }
          ],
          "scatter": [
           {
            "fillpattern": {
             "fillmode": "overlay",
             "size": 10,
             "solidity": 0.2
            },
            "type": "scatter"
           }
          ],
          "scatter3d": [
           {
            "line": {
             "colorbar": {
              "outlinewidth": 0,
              "ticks": ""
             }
            },
            "marker": {
             "colorbar": {
              "outlinewidth": 0,
              "ticks": ""
             }
            },
            "type": "scatter3d"
           }
          ],
          "scattercarpet": [
           {
            "marker": {
             "colorbar": {
              "outlinewidth": 0,
              "ticks": ""
             }
            },
            "type": "scattercarpet"
           }
          ],
          "scattergeo": [
           {
            "marker": {
             "colorbar": {
              "outlinewidth": 0,
              "ticks": ""
             }
            },
            "type": "scattergeo"
           }
          ],
          "scattergl": [
           {
            "marker": {
             "colorbar": {
              "outlinewidth": 0,
              "ticks": ""
             }
            },
            "type": "scattergl"
           }
          ],
          "scattermap": [
           {
            "marker": {
             "colorbar": {
              "outlinewidth": 0,
              "ticks": ""
             }
            },
            "type": "scattermap"
           }
          ],
          "scattermapbox": [
           {
            "marker": {
             "colorbar": {
              "outlinewidth": 0,
              "ticks": ""
             }
            },
            "type": "scattermapbox"
           }
          ],
          "scatterpolar": [
           {
            "marker": {
             "colorbar": {
              "outlinewidth": 0,
              "ticks": ""
             }
            },
            "type": "scatterpolar"
           }
          ],
          "scatterpolargl": [
           {
            "marker": {
             "colorbar": {
              "outlinewidth": 0,
              "ticks": ""
             }
            },
            "type": "scatterpolargl"
           }
          ],
          "scatterternary": [
           {
            "marker": {
             "colorbar": {
              "outlinewidth": 0,
              "ticks": ""
             }
            },
            "type": "scatterternary"
           }
          ],
          "surface": [
           {
            "colorbar": {
             "outlinewidth": 0,
             "ticks": ""
            },
            "colorscale": [
             [
              0,
              "#0d0887"
             ],
             [
              0.1111111111111111,
              "#46039f"
             ],
             [
              0.2222222222222222,
              "#7201a8"
             ],
             [
              0.3333333333333333,
              "#9c179e"
             ],
             [
              0.4444444444444444,
              "#bd3786"
             ],
             [
              0.5555555555555556,
              "#d8576b"
             ],
             [
              0.6666666666666666,
              "#ed7953"
             ],
             [
              0.7777777777777778,
              "#fb9f3a"
             ],
             [
              0.8888888888888888,
              "#fdca26"
             ],
             [
              1,
              "#f0f921"
             ]
            ],
            "type": "surface"
           }
          ],
          "table": [
           {
            "cells": {
             "fill": {
              "color": "#EBF0F8"
             },
             "line": {
              "color": "white"
             }
            },
            "header": {
             "fill": {
              "color": "#C8D4E3"
             },
             "line": {
              "color": "white"
             }
            },
            "type": "table"
           }
          ]
         },
         "layout": {
          "annotationdefaults": {
           "arrowcolor": "#2a3f5f",
           "arrowhead": 0,
           "arrowwidth": 1
          },
          "autotypenumbers": "strict",
          "coloraxis": {
           "colorbar": {
            "outlinewidth": 0,
            "ticks": ""
           }
          },
          "colorscale": {
           "diverging": [
            [
             0,
             "#8e0152"
            ],
            [
             0.1,
             "#c51b7d"
            ],
            [
             0.2,
             "#de77ae"
            ],
            [
             0.3,
             "#f1b6da"
            ],
            [
             0.4,
             "#fde0ef"
            ],
            [
             0.5,
             "#f7f7f7"
            ],
            [
             0.6,
             "#e6f5d0"
            ],
            [
             0.7,
             "#b8e186"
            ],
            [
             0.8,
             "#7fbc41"
            ],
            [
             0.9,
             "#4d9221"
            ],
            [
             1,
             "#276419"
            ]
           ],
           "sequential": [
            [
             0,
             "#0d0887"
            ],
            [
             0.1111111111111111,
             "#46039f"
            ],
            [
             0.2222222222222222,
             "#7201a8"
            ],
            [
             0.3333333333333333,
             "#9c179e"
            ],
            [
             0.4444444444444444,
             "#bd3786"
            ],
            [
             0.5555555555555556,
             "#d8576b"
            ],
            [
             0.6666666666666666,
             "#ed7953"
            ],
            [
             0.7777777777777778,
             "#fb9f3a"
            ],
            [
             0.8888888888888888,
             "#fdca26"
            ],
            [
             1,
             "#f0f921"
            ]
           ],
           "sequentialminus": [
            [
             0,
             "#0d0887"
            ],
            [
             0.1111111111111111,
             "#46039f"
            ],
            [
             0.2222222222222222,
             "#7201a8"
            ],
            [
             0.3333333333333333,
             "#9c179e"
            ],
            [
             0.4444444444444444,
             "#bd3786"
            ],
            [
             0.5555555555555556,
             "#d8576b"
            ],
            [
             0.6666666666666666,
             "#ed7953"
            ],
            [
             0.7777777777777778,
             "#fb9f3a"
            ],
            [
             0.8888888888888888,
             "#fdca26"
            ],
            [
             1,
             "#f0f921"
            ]
           ]
          },
          "colorway": [
           "#636efa",
           "#EF553B",
           "#00cc96",
           "#ab63fa",
           "#FFA15A",
           "#19d3f3",
           "#FF6692",
           "#B6E880",
           "#FF97FF",
           "#FECB52"
          ],
          "font": {
           "color": "#2a3f5f"
          },
          "geo": {
           "bgcolor": "white",
           "lakecolor": "white",
           "landcolor": "#E5ECF6",
           "showlakes": true,
           "showland": true,
           "subunitcolor": "white"
          },
          "hoverlabel": {
           "align": "left"
          },
          "hovermode": "closest",
          "mapbox": {
           "style": "light"
          },
          "paper_bgcolor": "white",
          "plot_bgcolor": "#E5ECF6",
          "polar": {
           "angularaxis": {
            "gridcolor": "white",
            "linecolor": "white",
            "ticks": ""
           },
           "bgcolor": "#E5ECF6",
           "radialaxis": {
            "gridcolor": "white",
            "linecolor": "white",
            "ticks": ""
           }
          },
          "scene": {
           "xaxis": {
            "backgroundcolor": "#E5ECF6",
            "gridcolor": "white",
            "gridwidth": 2,
            "linecolor": "white",
            "showbackground": true,
            "ticks": "",
            "zerolinecolor": "white"
           },
           "yaxis": {
            "backgroundcolor": "#E5ECF6",
            "gridcolor": "white",
            "gridwidth": 2,
            "linecolor": "white",
            "showbackground": true,
            "ticks": "",
            "zerolinecolor": "white"
           },
           "zaxis": {
            "backgroundcolor": "#E5ECF6",
            "gridcolor": "white",
            "gridwidth": 2,
            "linecolor": "white",
            "showbackground": true,
            "ticks": "",
            "zerolinecolor": "white"
           }
          },
          "shapedefaults": {
           "line": {
            "color": "#2a3f5f"
           }
          },
          "ternary": {
           "aaxis": {
            "gridcolor": "white",
            "linecolor": "white",
            "ticks": ""
           },
           "baxis": {
            "gridcolor": "white",
            "linecolor": "white",
            "ticks": ""
           },
           "bgcolor": "#E5ECF6",
           "caxis": {
            "gridcolor": "white",
            "linecolor": "white",
            "ticks": ""
           }
          },
          "title": {
           "x": 0.05
          },
          "xaxis": {
           "automargin": true,
           "gridcolor": "white",
           "linecolor": "white",
           "ticks": "",
           "title": {
            "standoff": 15
           },
           "zerolinecolor": "white",
           "zerolinewidth": 2
          },
          "yaxis": {
           "automargin": true,
           "gridcolor": "white",
           "linecolor": "white",
           "ticks": "",
           "title": {
            "standoff": 15
           },
           "zerolinecolor": "white",
           "zerolinewidth": 2
          }
         }
        },
        "title": {
         "text": "Generalized Triplet Distance across normalized layers (↓)"
        },
        "xaxis": {
         "range": [
          0,
          1
         ],
         "title": {
          "text": "Normalized layer (0 → 1)"
         }
        },
        "yaxis": {
         "title": {
          "text": "Generalized Triplet Distance"
         }
        }
       }
      }
     },
     "metadata": {},
     "output_type": "display_data"
    },
    {
     "data": {
      "application/vnd.plotly.v1+json": {
       "config": {
        "plotlyServerURL": "https://plot.ly"
       },
       "data": [
        {
         "hovertemplate": "Layer(norm)=%{x:.2f}<br>Generalized Quartet Distance=%{y:.2f}<extra>gpt2</extra>",
         "line": {
          "color": "#d62728"
         },
         "marker": {
          "color": "#d62728"
         },
         "mode": "lines+markers",
         "name": "gpt2",
         "type": "scatter",
         "x": {
          "bdata": "AAAAAAAAAABVVVVVVVW1P1VVVVVVVcU/AAAAAAAA0D9VVVVVVVXVP6uqqqqqqto/AAAAAAAA4D+rqqqqqqriP1VVVVVVVeU/AAAAAAAA6D+rqqqqqqrqP1VVVVVVVe0/AAAAAAAA8D8=",
          "dtype": "f8"
         },
         "y": {
          "bdata": "Sj3K32Ns5T8VcSDwhajlP1TyoyY3GOY/asZ1Rdv95T/Yjy/ZCfLlPyAHl1sx5OU/wRN5chie5T8U910OWLDlP2sDVzbyeeU/FF44UQJI5T/ara3u+P3kP8Bz5lLj5OQ/VmQU4Exb5T8=",
          "dtype": "f8"
         }
        },
        {
         "hovertemplate": "Layer(norm)=%{x:.2f}<br>Generalized Quartet Distance=%{y:.2f}<extra>Llama-3-8B</extra>",
         "line": {
          "color": "#1f77b4"
         },
         "marker": {
          "color": "#1f77b4"
         },
         "mode": "lines+markers",
         "name": "Llama-3-8B",
         "type": "scatter",
         "x": {
          "bdata": "AAAAAAAAAAAAAAAAAACgPwAAAAAAALA/AAAAAAAAuD8AAAAAAADAPwAAAAAAAMQ/AAAAAAAAyD8AAAAAAADMPwAAAAAAANA/AAAAAAAA0j8AAAAAAADUPwAAAAAAANY/AAAAAAAA2D8AAAAAAADaPwAAAAAAANw/AAAAAAAA3j8AAAAAAADgPwAAAAAAAOE/AAAAAAAA4j8AAAAAAADjPwAAAAAAAOQ/AAAAAAAA5T8AAAAAAADmPwAAAAAAAOc/AAAAAAAA6D8AAAAAAADpPwAAAAAAAOo/AAAAAAAA6z8AAAAAAADsPwAAAAAAAO0/AAAAAAAA7j8AAAAAAADvPwAAAAAAAPA/",
          "dtype": "f8"
         },
         "y": {
          "bdata": "/reImH3Y5T+/ywELlnblP1yF1kOPXeU/Pbf3xOia5D8EkO7OBE/lP3BOEuzHl+M/B65s5PNa4j9skAG3o9LeP5a7nsRqr9w/8k80k/ES0T8oaH7+3VjCP4jwmJDArMI/9Dgj4OFXxT9gDXPqe/fIP9gkLILT/8g/wLMLkk1Xvz8IOxdlpbPJP8jntZQTutA/pBNPecYKzj+UOYq6JALNPxxR2E4l1M4/zCBucZ7byz90J13oh3LJPyhspxJqs8k/gHzJTpDXyT/YaV+bAjHKP1hRLEHJ+sk/WFEsQcn6yT8YFdwjR7zOP74UXjhRAtA/IJhq8G6Xzj+Q+WR7uo/NP7TwV4a7Ccw/",
          "dtype": "f8"
         }
        },
        {
         "hovertemplate": "Layer(norm)=%{x:.2f}<br>Generalized Quartet Distance=%{y:.2f}<extra>random_emb (dim=4096)</extra>",
         "line": {
          "color": "#555555",
          "dash": "dot",
          "width": 3.5
         },
         "mode": "lines",
         "name": "random_emb (dim=4096)",
         "type": "scatter",
         "x": [
          0,
          1
         ],
         "y": [
          0.684091423398959,
          0.684091423398959
         ]
        },
        {
         "hovertemplate": "Layer(norm)=%{x:.2f}<br>Generalized Quartet Distance=%{y:.2f}<extra>fasttext</extra>",
         "line": {
          "color": "#ff7f0e",
          "dash": "dot",
          "width": 3.5
         },
         "mode": "lines",
         "name": "fasttext",
         "type": "scatter",
         "x": [
          0,
          1
         ],
         "y": [
          0.6667090970807875,
          0.6667090970807875
         ]
        },
        {
         "hovertemplate": "Layer(norm)=%{x:.2f}<br>Generalized Quartet Distance=%{y:.2f}<extra>Reference (Gold binary-balanced)</extra>",
         "line": {
          "color": "#2ca02c",
          "dash": "dot",
          "width": 3.5
         },
         "mode": "lines",
         "name": "Reference (Gold binary-balanced)",
         "type": "scatter",
         "x": [
          0,
          1
         ],
         "y": [
          0,
          0
         ]
        }
       ],
       "layout": {
        "legend": {
         "title": {
          "text": "Model / Dotted refs"
         }
        },
        "template": {
         "data": {
          "bar": [
           {
            "error_x": {
             "color": "#2a3f5f"
            },
            "error_y": {
             "color": "#2a3f5f"
            },
            "marker": {
             "line": {
              "color": "#E5ECF6",
              "width": 0.5
             },
             "pattern": {
              "fillmode": "overlay",
              "size": 10,
              "solidity": 0.2
             }
            },
            "type": "bar"
           }
          ],
          "barpolar": [
           {
            "marker": {
             "line": {
              "color": "#E5ECF6",
              "width": 0.5
             },
             "pattern": {
              "fillmode": "overlay",
              "size": 10,
              "solidity": 0.2
             }
            },
            "type": "barpolar"
           }
          ],
          "carpet": [
           {
            "aaxis": {
             "endlinecolor": "#2a3f5f",
             "gridcolor": "white",
             "linecolor": "white",
             "minorgridcolor": "white",
             "startlinecolor": "#2a3f5f"
            },
            "baxis": {
             "endlinecolor": "#2a3f5f",
             "gridcolor": "white",
             "linecolor": "white",
             "minorgridcolor": "white",
             "startlinecolor": "#2a3f5f"
            },
            "type": "carpet"
           }
          ],
          "choropleth": [
           {
            "colorbar": {
             "outlinewidth": 0,
             "ticks": ""
            },
            "type": "choropleth"
           }
          ],
          "contour": [
           {
            "colorbar": {
             "outlinewidth": 0,
             "ticks": ""
            },
            "colorscale": [
             [
              0,
              "#0d0887"
             ],
             [
              0.1111111111111111,
              "#46039f"
             ],
             [
              0.2222222222222222,
              "#7201a8"
             ],
             [
              0.3333333333333333,
              "#9c179e"
             ],
             [
              0.4444444444444444,
              "#bd3786"
             ],
             [
              0.5555555555555556,
              "#d8576b"
             ],
             [
              0.6666666666666666,
              "#ed7953"
             ],
             [
              0.7777777777777778,
              "#fb9f3a"
             ],
             [
              0.8888888888888888,
              "#fdca26"
             ],
             [
              1,
              "#f0f921"
             ]
            ],
            "type": "contour"
           }
          ],
          "contourcarpet": [
           {
            "colorbar": {
             "outlinewidth": 0,
             "ticks": ""
            },
            "type": "contourcarpet"
           }
          ],
          "heatmap": [
           {
            "colorbar": {
             "outlinewidth": 0,
             "ticks": ""
            },
            "colorscale": [
             [
              0,
              "#0d0887"
             ],
             [
              0.1111111111111111,
              "#46039f"
             ],
             [
              0.2222222222222222,
              "#7201a8"
             ],
             [
              0.3333333333333333,
              "#9c179e"
             ],
             [
              0.4444444444444444,
              "#bd3786"
             ],
             [
              0.5555555555555556,
              "#d8576b"
             ],
             [
              0.6666666666666666,
              "#ed7953"
             ],
             [
              0.7777777777777778,
              "#fb9f3a"
             ],
             [
              0.8888888888888888,
              "#fdca26"
             ],
             [
              1,
              "#f0f921"
             ]
            ],
            "type": "heatmap"
           }
          ],
          "histogram": [
           {
            "marker": {
             "pattern": {
              "fillmode": "overlay",
              "size": 10,
              "solidity": 0.2
             }
            },
            "type": "histogram"
           }
          ],
          "histogram2d": [
           {
            "colorbar": {
             "outlinewidth": 0,
             "ticks": ""
            },
            "colorscale": [
             [
              0,
              "#0d0887"
             ],
             [
              0.1111111111111111,
              "#46039f"
             ],
             [
              0.2222222222222222,
              "#7201a8"
             ],
             [
              0.3333333333333333,
              "#9c179e"
             ],
             [
              0.4444444444444444,
              "#bd3786"
             ],
             [
              0.5555555555555556,
              "#d8576b"
             ],
             [
              0.6666666666666666,
              "#ed7953"
             ],
             [
              0.7777777777777778,
              "#fb9f3a"
             ],
             [
              0.8888888888888888,
              "#fdca26"
             ],
             [
              1,
              "#f0f921"
             ]
            ],
            "type": "histogram2d"
           }
          ],
          "histogram2dcontour": [
           {
            "colorbar": {
             "outlinewidth": 0,
             "ticks": ""
            },
            "colorscale": [
             [
              0,
              "#0d0887"
             ],
             [
              0.1111111111111111,
              "#46039f"
             ],
             [
              0.2222222222222222,
              "#7201a8"
             ],
             [
              0.3333333333333333,
              "#9c179e"
             ],
             [
              0.4444444444444444,
              "#bd3786"
             ],
             [
              0.5555555555555556,
              "#d8576b"
             ],
             [
              0.6666666666666666,
              "#ed7953"
             ],
             [
              0.7777777777777778,
              "#fb9f3a"
             ],
             [
              0.8888888888888888,
              "#fdca26"
             ],
             [
              1,
              "#f0f921"
             ]
            ],
            "type": "histogram2dcontour"
           }
          ],
          "mesh3d": [
           {
            "colorbar": {
             "outlinewidth": 0,
             "ticks": ""
            },
            "type": "mesh3d"
           }
          ],
          "parcoords": [
           {
            "line": {
             "colorbar": {
              "outlinewidth": 0,
              "ticks": ""
             }
            },
            "type": "parcoords"
           }
          ],
          "pie": [
           {
            "automargin": true,
            "type": "pie"
           }
          ],
          "scatter": [
           {
            "fillpattern": {
             "fillmode": "overlay",
             "size": 10,
             "solidity": 0.2
            },
            "type": "scatter"
           }
          ],
          "scatter3d": [
           {
            "line": {
             "colorbar": {
              "outlinewidth": 0,
              "ticks": ""
             }
            },
            "marker": {
             "colorbar": {
              "outlinewidth": 0,
              "ticks": ""
             }
            },
            "type": "scatter3d"
           }
          ],
          "scattercarpet": [
           {
            "marker": {
             "colorbar": {
              "outlinewidth": 0,
              "ticks": ""
             }
            },
            "type": "scattercarpet"
           }
          ],
          "scattergeo": [
           {
            "marker": {
             "colorbar": {
              "outlinewidth": 0,
              "ticks": ""
             }
            },
            "type": "scattergeo"
           }
          ],
          "scattergl": [
           {
            "marker": {
             "colorbar": {
              "outlinewidth": 0,
              "ticks": ""
             }
            },
            "type": "scattergl"
           }
          ],
          "scattermap": [
           {
            "marker": {
             "colorbar": {
              "outlinewidth": 0,
              "ticks": ""
             }
            },
            "type": "scattermap"
           }
          ],
          "scattermapbox": [
           {
            "marker": {
             "colorbar": {
              "outlinewidth": 0,
              "ticks": ""
             }
            },
            "type": "scattermapbox"
           }
          ],
          "scatterpolar": [
           {
            "marker": {
             "colorbar": {
              "outlinewidth": 0,
              "ticks": ""
             }
            },
            "type": "scatterpolar"
           }
          ],
          "scatterpolargl": [
           {
            "marker": {
             "colorbar": {
              "outlinewidth": 0,
              "ticks": ""
             }
            },
            "type": "scatterpolargl"
           }
          ],
          "scatterternary": [
           {
            "marker": {
             "colorbar": {
              "outlinewidth": 0,
              "ticks": ""
             }
            },
            "type": "scatterternary"
           }
          ],
          "surface": [
           {
            "colorbar": {
             "outlinewidth": 0,
             "ticks": ""
            },
            "colorscale": [
             [
              0,
              "#0d0887"
             ],
             [
              0.1111111111111111,
              "#46039f"
             ],
             [
              0.2222222222222222,
              "#7201a8"
             ],
             [
              0.3333333333333333,
              "#9c179e"
             ],
             [
              0.4444444444444444,
              "#bd3786"
             ],
             [
              0.5555555555555556,
              "#d8576b"
             ],
             [
              0.6666666666666666,
              "#ed7953"
             ],
             [
              0.7777777777777778,
              "#fb9f3a"
             ],
             [
              0.8888888888888888,
              "#fdca26"
             ],
             [
              1,
              "#f0f921"
             ]
            ],
            "type": "surface"
           }
          ],
          "table": [
           {
            "cells": {
             "fill": {
              "color": "#EBF0F8"
             },
             "line": {
              "color": "white"
             }
            },
            "header": {
             "fill": {
              "color": "#C8D4E3"
             },
             "line": {
              "color": "white"
             }
            },
            "type": "table"
           }
          ]
         },
         "layout": {
          "annotationdefaults": {
           "arrowcolor": "#2a3f5f",
           "arrowhead": 0,
           "arrowwidth": 1
          },
          "autotypenumbers": "strict",
          "coloraxis": {
           "colorbar": {
            "outlinewidth": 0,
            "ticks": ""
           }
          },
          "colorscale": {
           "diverging": [
            [
             0,
             "#8e0152"
            ],
            [
             0.1,
             "#c51b7d"
            ],
            [
             0.2,
             "#de77ae"
            ],
            [
             0.3,
             "#f1b6da"
            ],
            [
             0.4,
             "#fde0ef"
            ],
            [
             0.5,
             "#f7f7f7"
            ],
            [
             0.6,
             "#e6f5d0"
            ],
            [
             0.7,
             "#b8e186"
            ],
            [
             0.8,
             "#7fbc41"
            ],
            [
             0.9,
             "#4d9221"
            ],
            [
             1,
             "#276419"
            ]
           ],
           "sequential": [
            [
             0,
             "#0d0887"
            ],
            [
             0.1111111111111111,
             "#46039f"
            ],
            [
             0.2222222222222222,
             "#7201a8"
            ],
            [
             0.3333333333333333,
             "#9c179e"
            ],
            [
             0.4444444444444444,
             "#bd3786"
            ],
            [
             0.5555555555555556,
             "#d8576b"
            ],
            [
             0.6666666666666666,
             "#ed7953"
            ],
            [
             0.7777777777777778,
             "#fb9f3a"
            ],
            [
             0.8888888888888888,
             "#fdca26"
            ],
            [
             1,
             "#f0f921"
            ]
           ],
           "sequentialminus": [
            [
             0,
             "#0d0887"
            ],
            [
             0.1111111111111111,
             "#46039f"
            ],
            [
             0.2222222222222222,
             "#7201a8"
            ],
            [
             0.3333333333333333,
             "#9c179e"
            ],
            [
             0.4444444444444444,
             "#bd3786"
            ],
            [
             0.5555555555555556,
             "#d8576b"
            ],
            [
             0.6666666666666666,
             "#ed7953"
            ],
            [
             0.7777777777777778,
             "#fb9f3a"
            ],
            [
             0.8888888888888888,
             "#fdca26"
            ],
            [
             1,
             "#f0f921"
            ]
           ]
          },
          "colorway": [
           "#636efa",
           "#EF553B",
           "#00cc96",
           "#ab63fa",
           "#FFA15A",
           "#19d3f3",
           "#FF6692",
           "#B6E880",
           "#FF97FF",
           "#FECB52"
          ],
          "font": {
           "color": "#2a3f5f"
          },
          "geo": {
           "bgcolor": "white",
           "lakecolor": "white",
           "landcolor": "#E5ECF6",
           "showlakes": true,
           "showland": true,
           "subunitcolor": "white"
          },
          "hoverlabel": {
           "align": "left"
          },
          "hovermode": "closest",
          "mapbox": {
           "style": "light"
          },
          "paper_bgcolor": "white",
          "plot_bgcolor": "#E5ECF6",
          "polar": {
           "angularaxis": {
            "gridcolor": "white",
            "linecolor": "white",
            "ticks": ""
           },
           "bgcolor": "#E5ECF6",
           "radialaxis": {
            "gridcolor": "white",
            "linecolor": "white",
            "ticks": ""
           }
          },
          "scene": {
           "xaxis": {
            "backgroundcolor": "#E5ECF6",
            "gridcolor": "white",
            "gridwidth": 2,
            "linecolor": "white",
            "showbackground": true,
            "ticks": "",
            "zerolinecolor": "white"
           },
           "yaxis": {
            "backgroundcolor": "#E5ECF6",
            "gridcolor": "white",
            "gridwidth": 2,
            "linecolor": "white",
            "showbackground": true,
            "ticks": "",
            "zerolinecolor": "white"
           },
           "zaxis": {
            "backgroundcolor": "#E5ECF6",
            "gridcolor": "white",
            "gridwidth": 2,
            "linecolor": "white",
            "showbackground": true,
            "ticks": "",
            "zerolinecolor": "white"
           }
          },
          "shapedefaults": {
           "line": {
            "color": "#2a3f5f"
           }
          },
          "ternary": {
           "aaxis": {
            "gridcolor": "white",
            "linecolor": "white",
            "ticks": ""
           },
           "baxis": {
            "gridcolor": "white",
            "linecolor": "white",
            "ticks": ""
           },
           "bgcolor": "#E5ECF6",
           "caxis": {
            "gridcolor": "white",
            "linecolor": "white",
            "ticks": ""
           }
          },
          "title": {
           "x": 0.05
          },
          "xaxis": {
           "automargin": true,
           "gridcolor": "white",
           "linecolor": "white",
           "ticks": "",
           "title": {
            "standoff": 15
           },
           "zerolinecolor": "white",
           "zerolinewidth": 2
          },
          "yaxis": {
           "automargin": true,
           "gridcolor": "white",
           "linecolor": "white",
           "ticks": "",
           "title": {
            "standoff": 15
           },
           "zerolinecolor": "white",
           "zerolinewidth": 2
          }
         }
        },
        "title": {
         "text": "Generalized Quartet Distance across normalized layers (↓)"
        },
        "xaxis": {
         "range": [
          0,
          1
         ],
         "title": {
          "text": "Normalized layer (0 → 1)"
         }
        },
        "yaxis": {
         "title": {
          "text": "Generalized Quartet Distance"
         }
        }
       }
      }
     },
     "metadata": {},
     "output_type": "display_data"
    },
    {
     "data": {
      "application/vnd.plotly.v1+json": {
       "config": {
        "plotlyServerURL": "https://plot.ly"
       },
       "data": [
        {
         "hovertemplate": "Layer(norm)=%{x:.2f}<br>cophenetic corr=%{y:.2f}<extra>gpt2</extra>",
         "line": {
          "color": "#d62728"
         },
         "marker": {
          "color": "#d62728"
         },
         "mode": "lines+markers",
         "name": "gpt2",
         "type": "scatter",
         "x": {
          "bdata": "AAAAAAAAAABVVVVVVVW1P1VVVVVVVcU/AAAAAAAA0D9VVVVVVVXVP6uqqqqqqto/AAAAAAAA4D+rqqqqqqriP1VVVVVVVeU/AAAAAAAA6D+rqqqqqqrqP1VVVVVVVe0/AAAAAAAA8D8=",
          "dtype": "f8"
         },
         "y": {
          "bdata": "sClxAMGOfz/lqzOvbrt4v6ohKlKMr5S/YvB5xVMkkL+W/N6KuXGLv84B00HVMYy/ro2JMAj4gL+k9/xVhxt3vypslt7nDFC/OQc81iEQdD/rmN7IsXuKPzJrbXisrJA/Dyg9w8eQej8=",
          "dtype": "f8"
         }
        },
        {
         "hovertemplate": "Layer(norm)=%{x:.2f}<br>cophenetic corr=%{y:.2f}<extra>Llama-3-8B</extra>",
         "line": {
          "color": "#1f77b4"
         },
         "marker": {
          "color": "#1f77b4"
         },
         "mode": "lines+markers",
         "name": "Llama-3-8B",
         "type": "scatter",
         "x": {
          "bdata": "AAAAAAAAAAAAAAAAAACgPwAAAAAAALA/AAAAAAAAuD8AAAAAAADAPwAAAAAAAMQ/AAAAAAAAyD8AAAAAAADMPwAAAAAAANA/AAAAAAAA0j8AAAAAAADUPwAAAAAAANY/AAAAAAAA2D8AAAAAAADaPwAAAAAAANw/AAAAAAAA3j8AAAAAAADgPwAAAAAAAOE/AAAAAAAA4j8AAAAAAADjPwAAAAAAAOQ/AAAAAAAA5T8AAAAAAADmPwAAAAAAAOc/AAAAAAAA6D8AAAAAAADpPwAAAAAAAOo/AAAAAAAA6z8AAAAAAADsPwAAAAAAAO0/AAAAAAAA7j8AAAAAAADvPwAAAAAAAPA/",
          "dtype": "f8"
         },
         "y": {
          "bdata": "LHm3zqKsh7/09yN2/idpv5DzIgJWuoO/djmrqeQEdD+ANNAJlC8jv/E+kdGBHKU/xh4r/1sYsD8GUilvQKq2P75HBOAHHbg/dnhuu4bNyT9sjdTXD5vZPwgEdgisqtc/Ainixdij2D++26Z9q8bVP/yv7rnfPtg/mllewQI54D8JGoFBvAnVPwgBW9Bd69A/KCLgYZp70z/2WZlTmBPWP0AIKWpEYNQ/IJZbWIHN2D9Ic0FIkVfbP7K/Y8LznNo/on10rkF+2j/AIf0j4K7ZP+cSLL5wy9k/PS0LMK5F2D8CdeMlOkDVP39UsA+LJtQ/LHIZ40rs1T8aZF2MewnWP9Gq+2IoFtg/",
          "dtype": "f8"
         }
        },
        {
         "hovertemplate": "Layer(norm)=%{x:.2f}<br>cophenetic corr=%{y:.2f}<extra>random_emb (dim=4096)</extra>",
         "line": {
          "color": "#555555",
          "dash": "dot",
          "width": 3.5
         },
         "mode": "lines",
         "name": "random_emb (dim=4096)",
         "type": "scatter",
         "x": [
          0,
          1
         ],
         "y": [
          -0.018543463906202894,
          -0.018543463906202894
         ]
        },
        {
         "hovertemplate": "Layer(norm)=%{x:.2f}<br>cophenetic corr=%{y:.2f}<extra>fasttext</extra>",
         "line": {
          "color": "#ff7f0e",
          "dash": "dot",
          "width": 3.5
         },
         "mode": "lines",
         "name": "fasttext",
         "type": "scatter",
         "x": [
          0,
          1
         ],
         "y": [
          -0.00756042030600813,
          -0.00756042030600813
         ]
        },
        {
         "hovertemplate": "Layer(norm)=%{x:.2f}<br>cophenetic corr=%{y:.2f}<extra>Reference (Gold binary-balanced)</extra>",
         "line": {
          "color": "#2ca02c",
          "dash": "dot",
          "width": 3.5
         },
         "mode": "lines",
         "name": "Reference (Gold binary-balanced)",
         "type": "scatter",
         "x": [
          0,
          1
         ],
         "y": [
          0.7932107073754795,
          0.7932107073754795
         ]
        }
       ],
       "layout": {
        "legend": {
         "title": {
          "text": "Model / Dotted refs"
         }
        },
        "template": {
         "data": {
          "bar": [
           {
            "error_x": {
             "color": "#2a3f5f"
            },
            "error_y": {
             "color": "#2a3f5f"
            },
            "marker": {
             "line": {
              "color": "#E5ECF6",
              "width": 0.5
             },
             "pattern": {
              "fillmode": "overlay",
              "size": 10,
              "solidity": 0.2
             }
            },
            "type": "bar"
           }
          ],
          "barpolar": [
           {
            "marker": {
             "line": {
              "color": "#E5ECF6",
              "width": 0.5
             },
             "pattern": {
              "fillmode": "overlay",
              "size": 10,
              "solidity": 0.2
             }
            },
            "type": "barpolar"
           }
          ],
          "carpet": [
           {
            "aaxis": {
             "endlinecolor": "#2a3f5f",
             "gridcolor": "white",
             "linecolor": "white",
             "minorgridcolor": "white",
             "startlinecolor": "#2a3f5f"
            },
            "baxis": {
             "endlinecolor": "#2a3f5f",
             "gridcolor": "white",
             "linecolor": "white",
             "minorgridcolor": "white",
             "startlinecolor": "#2a3f5f"
            },
            "type": "carpet"
           }
          ],
          "choropleth": [
           {
            "colorbar": {
             "outlinewidth": 0,
             "ticks": ""
            },
            "type": "choropleth"
           }
          ],
          "contour": [
           {
            "colorbar": {
             "outlinewidth": 0,
             "ticks": ""
            },
            "colorscale": [
             [
              0,
              "#0d0887"
             ],
             [
              0.1111111111111111,
              "#46039f"
             ],
             [
              0.2222222222222222,
              "#7201a8"
             ],
             [
              0.3333333333333333,
              "#9c179e"
             ],
             [
              0.4444444444444444,
              "#bd3786"
             ],
             [
              0.5555555555555556,
              "#d8576b"
             ],
             [
              0.6666666666666666,
              "#ed7953"
             ],
             [
              0.7777777777777778,
              "#fb9f3a"
             ],
             [
              0.8888888888888888,
              "#fdca26"
             ],
             [
              1,
              "#f0f921"
             ]
            ],
            "type": "contour"
           }
          ],
          "contourcarpet": [
           {
            "colorbar": {
             "outlinewidth": 0,
             "ticks": ""
            },
            "type": "contourcarpet"
           }
          ],
          "heatmap": [
           {
            "colorbar": {
             "outlinewidth": 0,
             "ticks": ""
            },
            "colorscale": [
             [
              0,
              "#0d0887"
             ],
             [
              0.1111111111111111,
              "#46039f"
             ],
             [
              0.2222222222222222,
              "#7201a8"
             ],
             [
              0.3333333333333333,
              "#9c179e"
             ],
             [
              0.4444444444444444,
              "#bd3786"
             ],
             [
              0.5555555555555556,
              "#d8576b"
             ],
             [
              0.6666666666666666,
              "#ed7953"
             ],
             [
              0.7777777777777778,
              "#fb9f3a"
             ],
             [
              0.8888888888888888,
              "#fdca26"
             ],
             [
              1,
              "#f0f921"
             ]
            ],
            "type": "heatmap"
           }
          ],
          "histogram": [
           {
            "marker": {
             "pattern": {
              "fillmode": "overlay",
              "size": 10,
              "solidity": 0.2
             }
            },
            "type": "histogram"
           }
          ],
          "histogram2d": [
           {
            "colorbar": {
             "outlinewidth": 0,
             "ticks": ""
            },
            "colorscale": [
             [
              0,
              "#0d0887"
             ],
             [
              0.1111111111111111,
              "#46039f"
             ],
             [
              0.2222222222222222,
              "#7201a8"
             ],
             [
              0.3333333333333333,
              "#9c179e"
             ],
             [
              0.4444444444444444,
              "#bd3786"
             ],
             [
              0.5555555555555556,
              "#d8576b"
             ],
             [
              0.6666666666666666,
              "#ed7953"
             ],
             [
              0.7777777777777778,
              "#fb9f3a"
             ],
             [
              0.8888888888888888,
              "#fdca26"
             ],
             [
              1,
              "#f0f921"
             ]
            ],
            "type": "histogram2d"
           }
          ],
          "histogram2dcontour": [
           {
            "colorbar": {
             "outlinewidth": 0,
             "ticks": ""
            },
            "colorscale": [
             [
              0,
              "#0d0887"
             ],
             [
              0.1111111111111111,
              "#46039f"
             ],
             [
              0.2222222222222222,
              "#7201a8"
             ],
             [
              0.3333333333333333,
              "#9c179e"
             ],
             [
              0.4444444444444444,
              "#bd3786"
             ],
             [
              0.5555555555555556,
              "#d8576b"
             ],
             [
              0.6666666666666666,
              "#ed7953"
             ],
             [
              0.7777777777777778,
              "#fb9f3a"
             ],
             [
              0.8888888888888888,
              "#fdca26"
             ],
             [
              1,
              "#f0f921"
             ]
            ],
            "type": "histogram2dcontour"
           }
          ],
          "mesh3d": [
           {
            "colorbar": {
             "outlinewidth": 0,
             "ticks": ""
            },
            "type": "mesh3d"
           }
          ],
          "parcoords": [
           {
            "line": {
             "colorbar": {
              "outlinewidth": 0,
              "ticks": ""
             }
            },
            "type": "parcoords"
           }
          ],
          "pie": [
           {
            "automargin": true,
            "type": "pie"
           }
          ],
          "scatter": [
           {
            "fillpattern": {
             "fillmode": "overlay",
             "size": 10,
             "solidity": 0.2
            },
            "type": "scatter"
           }
          ],
          "scatter3d": [
           {
            "line": {
             "colorbar": {
              "outlinewidth": 0,
              "ticks": ""
             }
            },
            "marker": {
             "colorbar": {
              "outlinewidth": 0,
              "ticks": ""
             }
            },
            "type": "scatter3d"
           }
          ],
          "scattercarpet": [
           {
            "marker": {
             "colorbar": {
              "outlinewidth": 0,
              "ticks": ""
             }
            },
            "type": "scattercarpet"
           }
          ],
          "scattergeo": [
           {
            "marker": {
             "colorbar": {
              "outlinewidth": 0,
              "ticks": ""
             }
            },
            "type": "scattergeo"
           }
          ],
          "scattergl": [
           {
            "marker": {
             "colorbar": {
              "outlinewidth": 0,
              "ticks": ""
             }
            },
            "type": "scattergl"
           }
          ],
          "scattermap": [
           {
            "marker": {
             "colorbar": {
              "outlinewidth": 0,
              "ticks": ""
             }
            },
            "type": "scattermap"
           }
          ],
          "scattermapbox": [
           {
            "marker": {
             "colorbar": {
              "outlinewidth": 0,
              "ticks": ""
             }
            },
            "type": "scattermapbox"
           }
          ],
          "scatterpolar": [
           {
            "marker": {
             "colorbar": {
              "outlinewidth": 0,
              "ticks": ""
             }
            },
            "type": "scatterpolar"
           }
          ],
          "scatterpolargl": [
           {
            "marker": {
             "colorbar": {
              "outlinewidth": 0,
              "ticks": ""
             }
            },
            "type": "scatterpolargl"
           }
          ],
          "scatterternary": [
           {
            "marker": {
             "colorbar": {
              "outlinewidth": 0,
              "ticks": ""
             }
            },
            "type": "scatterternary"
           }
          ],
          "surface": [
           {
            "colorbar": {
             "outlinewidth": 0,
             "ticks": ""
            },
            "colorscale": [
             [
              0,
              "#0d0887"
             ],
             [
              0.1111111111111111,
              "#46039f"
             ],
             [
              0.2222222222222222,
              "#7201a8"
             ],
             [
              0.3333333333333333,
              "#9c179e"
             ],
             [
              0.4444444444444444,
              "#bd3786"
             ],
             [
              0.5555555555555556,
              "#d8576b"
             ],
             [
              0.6666666666666666,
              "#ed7953"
             ],
             [
              0.7777777777777778,
              "#fb9f3a"
             ],
             [
              0.8888888888888888,
              "#fdca26"
             ],
             [
              1,
              "#f0f921"
             ]
            ],
            "type": "surface"
           }
          ],
          "table": [
           {
            "cells": {
             "fill": {
              "color": "#EBF0F8"
             },
             "line": {
              "color": "white"
             }
            },
            "header": {
             "fill": {
              "color": "#C8D4E3"
             },
             "line": {
              "color": "white"
             }
            },
            "type": "table"
           }
          ]
         },
         "layout": {
          "annotationdefaults": {
           "arrowcolor": "#2a3f5f",
           "arrowhead": 0,
           "arrowwidth": 1
          },
          "autotypenumbers": "strict",
          "coloraxis": {
           "colorbar": {
            "outlinewidth": 0,
            "ticks": ""
           }
          },
          "colorscale": {
           "diverging": [
            [
             0,
             "#8e0152"
            ],
            [
             0.1,
             "#c51b7d"
            ],
            [
             0.2,
             "#de77ae"
            ],
            [
             0.3,
             "#f1b6da"
            ],
            [
             0.4,
             "#fde0ef"
            ],
            [
             0.5,
             "#f7f7f7"
            ],
            [
             0.6,
             "#e6f5d0"
            ],
            [
             0.7,
             "#b8e186"
            ],
            [
             0.8,
             "#7fbc41"
            ],
            [
             0.9,
             "#4d9221"
            ],
            [
             1,
             "#276419"
            ]
           ],
           "sequential": [
            [
             0,
             "#0d0887"
            ],
            [
             0.1111111111111111,
             "#46039f"
            ],
            [
             0.2222222222222222,
             "#7201a8"
            ],
            [
             0.3333333333333333,
             "#9c179e"
            ],
            [
             0.4444444444444444,
             "#bd3786"
            ],
            [
             0.5555555555555556,
             "#d8576b"
            ],
            [
             0.6666666666666666,
             "#ed7953"
            ],
            [
             0.7777777777777778,
             "#fb9f3a"
            ],
            [
             0.8888888888888888,
             "#fdca26"
            ],
            [
             1,
             "#f0f921"
            ]
           ],
           "sequentialminus": [
            [
             0,
             "#0d0887"
            ],
            [
             0.1111111111111111,
             "#46039f"
            ],
            [
             0.2222222222222222,
             "#7201a8"
            ],
            [
             0.3333333333333333,
             "#9c179e"
            ],
            [
             0.4444444444444444,
             "#bd3786"
            ],
            [
             0.5555555555555556,
             "#d8576b"
            ],
            [
             0.6666666666666666,
             "#ed7953"
            ],
            [
             0.7777777777777778,
             "#fb9f3a"
            ],
            [
             0.8888888888888888,
             "#fdca26"
            ],
            [
             1,
             "#f0f921"
            ]
           ]
          },
          "colorway": [
           "#636efa",
           "#EF553B",
           "#00cc96",
           "#ab63fa",
           "#FFA15A",
           "#19d3f3",
           "#FF6692",
           "#B6E880",
           "#FF97FF",
           "#FECB52"
          ],
          "font": {
           "color": "#2a3f5f"
          },
          "geo": {
           "bgcolor": "white",
           "lakecolor": "white",
           "landcolor": "#E5ECF6",
           "showlakes": true,
           "showland": true,
           "subunitcolor": "white"
          },
          "hoverlabel": {
           "align": "left"
          },
          "hovermode": "closest",
          "mapbox": {
           "style": "light"
          },
          "paper_bgcolor": "white",
          "plot_bgcolor": "#E5ECF6",
          "polar": {
           "angularaxis": {
            "gridcolor": "white",
            "linecolor": "white",
            "ticks": ""
           },
           "bgcolor": "#E5ECF6",
           "radialaxis": {
            "gridcolor": "white",
            "linecolor": "white",
            "ticks": ""
           }
          },
          "scene": {
           "xaxis": {
            "backgroundcolor": "#E5ECF6",
            "gridcolor": "white",
            "gridwidth": 2,
            "linecolor": "white",
            "showbackground": true,
            "ticks": "",
            "zerolinecolor": "white"
           },
           "yaxis": {
            "backgroundcolor": "#E5ECF6",
            "gridcolor": "white",
            "gridwidth": 2,
            "linecolor": "white",
            "showbackground": true,
            "ticks": "",
            "zerolinecolor": "white"
           },
           "zaxis": {
            "backgroundcolor": "#E5ECF6",
            "gridcolor": "white",
            "gridwidth": 2,
            "linecolor": "white",
            "showbackground": true,
            "ticks": "",
            "zerolinecolor": "white"
           }
          },
          "shapedefaults": {
           "line": {
            "color": "#2a3f5f"
           }
          },
          "ternary": {
           "aaxis": {
            "gridcolor": "white",
            "linecolor": "white",
            "ticks": ""
           },
           "baxis": {
            "gridcolor": "white",
            "linecolor": "white",
            "ticks": ""
           },
           "bgcolor": "#E5ECF6",
           "caxis": {
            "gridcolor": "white",
            "linecolor": "white",
            "ticks": ""
           }
          },
          "title": {
           "x": 0.05
          },
          "xaxis": {
           "automargin": true,
           "gridcolor": "white",
           "linecolor": "white",
           "ticks": "",
           "title": {
            "standoff": 15
           },
           "zerolinecolor": "white",
           "zerolinewidth": 2
          },
          "yaxis": {
           "automargin": true,
           "gridcolor": "white",
           "linecolor": "white",
           "ticks": "",
           "title": {
            "standoff": 15
           },
           "zerolinecolor": "white",
           "zerolinewidth": 2
          }
         }
        },
        "title": {
         "text": "cophenetic corr across normalized layers (↑)"
        },
        "xaxis": {
         "range": [
          0,
          1
         ],
         "title": {
          "text": "Normalized layer (0 → 1)"
         }
        },
        "yaxis": {
         "title": {
          "text": "cophenetic corr"
         }
        }
       }
      }
     },
     "metadata": {},
     "output_type": "display_data"
    }
   ],
   "source": [
    "# ===== データ準備 =====\n",
    "BASE_PATH = Path(\"/home/masaki/hierarchical-repr/EntityTree/output/eval_tree_popLow\")\n",
    "df_llama = load_llama3_8b(BASE_PATH)\n",
    "df_gpt2  = load_gpt2(BASE_PATH)\n",
    "df_single = load_singleton_models(BASE_PATH)   # random_emb / fasttext / gold_binary_balanced（L0のみ）\n",
    "\n",
    "# main 2モデル\n",
    "frames = [df for df in [df_gpt2, df_llama] if not df.empty]\n",
    "if not frames:\n",
    "    raise RuntimeError(\"gpt2 / Llama-3-8B のデータが見つかりません。パスやファイルを確認してください。\")\n",
    "df = pd.concat(frames, ignore_index=True)\n",
    "\n",
    "# 数値化\n",
    "for c in [\"layer\", \"jrf_k1\", \"jrf_k2\", \"gtd\", \"gqd\", \"cophenetic_corr\"]:\n",
    "    if c in df.columns:\n",
    "        df[c] = pd.to_numeric(df[c], errors=\"coerce\")\n",
    "if not df_single.empty:\n",
    "    for c in [\"jrf_k1\", \"jrf_k2\", \"gtd\", \"gqd\", \"cophenetic_corr\"]:\n",
    "        if c in df_single.columns:\n",
    "            df_single[c] = pd.to_numeric(df_single[c], errors=\"coerce\")\n",
    "\n",
    "# entity_only のみ\n",
    "df = df[df[\"template\"] == \"entity_only\"].copy()\n",
    "if not df_single.empty:\n",
    "    df_single = df_single[df_single[\"template\"] == \"entity_only\"].copy()\n",
    "\n",
    "# normalized layer（0層→0.0、最終層→1.0）\n",
    "df[\"normalized_layer\"] = df.groupby(\"model\")[\"layer\"].transform(\n",
    "    lambda s: s / s.max() if s.max() and s.max() > 0 else 0\n",
    ")\n",
    "\n",
    "\n",
    "df[\"model_disp\"] = df[\"model\"].map(to_disp)\n",
    "if not df_single.empty:\n",
    "    df_single[\"model_disp\"] = df_single[\"model\"].map(to_disp)\n",
    "\n",
    "# ===== 図ユーティリティ =====\n",
    "METRIC_INFO = {\n",
    "    \"jrf_k1\": (\"JRF(k=1)\", \"↓\"),\n",
    "    \"gtd\": (\"Generalized Triplet Distance\", \"↓\"),\n",
    "    \"gqd\": (\"Generalized Quartet Distance\", \"↓\"),\n",
    "    \"cophenetic_corr\": (\"cophenetic corr\", \"↑\"),\n",
    "}\n",
    "\n",
    "\n",
    "# ===== 4 指標をそれぞれ 1 図で可視化 =====\n",
    "fig_jrfk1 = plot_metric(df, \"jrf_k1\", df_single)\n",
    "fig_gtd   = plot_metric(df, \"gtd\", df_single)\n",
    "fig_gqd   = plot_metric(df, \"gqd\", df_single)\n",
    "fig_coph  = plot_metric(df, \"cophenetic_corr\", df_single)\n",
    "\n",
    "for f in [fig_jrfk1, fig_gtd, fig_gqd, fig_coph]:\n",
    "    if f is not None:\n",
    "        f.show()\n"
   ]
  },
  {
   "cell_type": "code",
   "execution_count": 9,
   "id": "1366550c",
   "metadata": {},
   "outputs": [
    {
     "data": {
      "application/vnd.plotly.v1+json": {
       "config": {
        "plotlyServerURL": "https://plot.ly"
       },
       "data": [
        {
         "hovertemplate": "Layer(norm)=%{x:.2f}<br>JRF(k=1)=%{y:.2f}<extra>gpt2</extra>",
         "line": {
          "color": "#d62728"
         },
         "marker": {
          "color": "#d62728"
         },
         "mode": "lines+markers",
         "name": "gpt2",
         "type": "scatter",
         "x": {
          "bdata": "AAAAAAAAAABVVVVVVVW1P1VVVVVVVcU/AAAAAAAA0D9VVVVVVVXVP6uqqqqqqto/AAAAAAAA4D+rqqqqqqriP1VVVVVVVeU/AAAAAAAA6D+rqqqqqqrqP1VVVVVVVe0/AAAAAAAA8D8=",
          "dtype": "f8"
         },
         "y": {
          "bdata": "4r95tsjUVkDmC6cTxsdWQE0TyjShzFZAsaFfnfbTVkACAY6iM7pWQPickm6du1ZAZjs972HHVkCihLBuUc1WQMz/CMyF0lZAhiCP5GPIVkAO1SoLjcdWQJhXFTQ2ylZAKYqiKIrCVkA=",
          "dtype": "f8"
         }
        },
        {
         "hovertemplate": "Layer(norm)=%{x:.2f}<br>JRF(k=1)=%{y:.2f}<extra>Llama-3-8B</extra>",
         "line": {
          "color": "#1f77b4"
         },
         "marker": {
          "color": "#1f77b4"
         },
         "mode": "lines+markers",
         "name": "Llama-3-8B",
         "type": "scatter",
         "x": {
          "bdata": "AAAAAAAAAAAAAAAAAACgPwAAAAAAALA/AAAAAAAAuD8AAAAAAADAPwAAAAAAAMQ/AAAAAAAAyD8AAAAAAADMPwAAAAAAANA/AAAAAAAA0j8AAAAAAADUPwAAAAAAANY/AAAAAAAA2D8AAAAAAADaPwAAAAAAANw/AAAAAAAA3j8AAAAAAADgPwAAAAAAAOE/AAAAAAAA4j8AAAAAAADjPwAAAAAAAOQ/AAAAAAAA5T8AAAAAAADmPwAAAAAAAOc/AAAAAAAA6D8AAAAAAADpPwAAAAAAAOo/AAAAAAAA6z8AAAAAAADsPwAAAAAAAO0/AAAAAAAA7j8AAAAAAADvPwAAAAAAAPA/",
          "dtype": "f8"
         },
         "y": {
          "bdata": "PPJfO/K/VkBULcU+k8RWQJLH9i/aulZA3QZ/IYmmVkCz4qlVv3pWQM+QmLczBFZAgHZ1PP0HVkBWVVVVVaVVQH1H8HxHIFZAEr1nEr3HVUDpkz7pk65VQCTd8nzY+VVAXmgt2ysIVkB0sjQwOedVQArU+pUCtVVA7ud+7ueuVUAREREREfFVQAgffPDB51VAdDZnczb3VUCO4ziO47hVQI7jOI7jqFVAgVq/UqCWVUChvYT2ErJVQBPaS2gvsVVA6D2T6D1zVUBaWlpaWopVQC0tLS0tjVVALS0tLS19VUDMdiHMdmFVQMx2Icx2UVVAq6qqqqoqVUAkuI/gPjJVQJQ+6ZM+SVVA",
          "dtype": "f8"
         }
        },
        {
         "hovertemplate": "Layer(norm)=%{x:.2f}<br>JRF(k=1)=%{y:.2f}<extra>random_emb (dim=4096)</extra>",
         "line": {
          "color": "#555555",
          "dash": "dot",
          "width": 3.5
         },
         "mode": "lines",
         "name": "random_emb (dim=4096)",
         "type": "scatter",
         "x": [
          0,
          1
         ],
         "y": [
          91.014446524744,
          91.014446524744
         ]
        },
        {
         "hovertemplate": "Layer(norm)=%{x:.2f}<br>JRF(k=1)=%{y:.2f}<extra>fasttext</extra>",
         "line": {
          "color": "#ff7f0e",
          "dash": "dot",
          "width": 3.5
         },
         "mode": "lines",
         "name": "fasttext",
         "type": "scatter",
         "x": [
          0,
          1
         ],
         "y": [
          91.1603477091282,
          91.1603477091282
         ]
        },
        {
         "hovertemplate": "Layer(norm)=%{x:.2f}<br>JRF(k=1)=%{y:.2f}<extra>Reference (Gold binary-balanced)</extra>",
         "line": {
          "color": "#2ca02c",
          "dash": "dot",
          "width": 3.5
         },
         "mode": "lines",
         "name": "Reference (Gold binary-balanced)",
         "type": "scatter",
         "x": [
          0,
          1
         ],
         "y": [
          82,
          82
         ]
        }
       ],
       "layout": {
        "legend": {
         "title": {
          "text": "Model / Dotted refs"
         }
        },
        "template": {
         "data": {
          "bar": [
           {
            "error_x": {
             "color": "#2a3f5f"
            },
            "error_y": {
             "color": "#2a3f5f"
            },
            "marker": {
             "line": {
              "color": "#E5ECF6",
              "width": 0.5
             },
             "pattern": {
              "fillmode": "overlay",
              "size": 10,
              "solidity": 0.2
             }
            },
            "type": "bar"
           }
          ],
          "barpolar": [
           {
            "marker": {
             "line": {
              "color": "#E5ECF6",
              "width": 0.5
             },
             "pattern": {
              "fillmode": "overlay",
              "size": 10,
              "solidity": 0.2
             }
            },
            "type": "barpolar"
           }
          ],
          "carpet": [
           {
            "aaxis": {
             "endlinecolor": "#2a3f5f",
             "gridcolor": "white",
             "linecolor": "white",
             "minorgridcolor": "white",
             "startlinecolor": "#2a3f5f"
            },
            "baxis": {
             "endlinecolor": "#2a3f5f",
             "gridcolor": "white",
             "linecolor": "white",
             "minorgridcolor": "white",
             "startlinecolor": "#2a3f5f"
            },
            "type": "carpet"
           }
          ],
          "choropleth": [
           {
            "colorbar": {
             "outlinewidth": 0,
             "ticks": ""
            },
            "type": "choropleth"
           }
          ],
          "contour": [
           {
            "colorbar": {
             "outlinewidth": 0,
             "ticks": ""
            },
            "colorscale": [
             [
              0,
              "#0d0887"
             ],
             [
              0.1111111111111111,
              "#46039f"
             ],
             [
              0.2222222222222222,
              "#7201a8"
             ],
             [
              0.3333333333333333,
              "#9c179e"
             ],
             [
              0.4444444444444444,
              "#bd3786"
             ],
             [
              0.5555555555555556,
              "#d8576b"
             ],
             [
              0.6666666666666666,
              "#ed7953"
             ],
             [
              0.7777777777777778,
              "#fb9f3a"
             ],
             [
              0.8888888888888888,
              "#fdca26"
             ],
             [
              1,
              "#f0f921"
             ]
            ],
            "type": "contour"
           }
          ],
          "contourcarpet": [
           {
            "colorbar": {
             "outlinewidth": 0,
             "ticks": ""
            },
            "type": "contourcarpet"
           }
          ],
          "heatmap": [
           {
            "colorbar": {
             "outlinewidth": 0,
             "ticks": ""
            },
            "colorscale": [
             [
              0,
              "#0d0887"
             ],
             [
              0.1111111111111111,
              "#46039f"
             ],
             [
              0.2222222222222222,
              "#7201a8"
             ],
             [
              0.3333333333333333,
              "#9c179e"
             ],
             [
              0.4444444444444444,
              "#bd3786"
             ],
             [
              0.5555555555555556,
              "#d8576b"
             ],
             [
              0.6666666666666666,
              "#ed7953"
             ],
             [
              0.7777777777777778,
              "#fb9f3a"
             ],
             [
              0.8888888888888888,
              "#fdca26"
             ],
             [
              1,
              "#f0f921"
             ]
            ],
            "type": "heatmap"
           }
          ],
          "histogram": [
           {
            "marker": {
             "pattern": {
              "fillmode": "overlay",
              "size": 10,
              "solidity": 0.2
             }
            },
            "type": "histogram"
           }
          ],
          "histogram2d": [
           {
            "colorbar": {
             "outlinewidth": 0,
             "ticks": ""
            },
            "colorscale": [
             [
              0,
              "#0d0887"
             ],
             [
              0.1111111111111111,
              "#46039f"
             ],
             [
              0.2222222222222222,
              "#7201a8"
             ],
             [
              0.3333333333333333,
              "#9c179e"
             ],
             [
              0.4444444444444444,
              "#bd3786"
             ],
             [
              0.5555555555555556,
              "#d8576b"
             ],
             [
              0.6666666666666666,
              "#ed7953"
             ],
             [
              0.7777777777777778,
              "#fb9f3a"
             ],
             [
              0.8888888888888888,
              "#fdca26"
             ],
             [
              1,
              "#f0f921"
             ]
            ],
            "type": "histogram2d"
           }
          ],
          "histogram2dcontour": [
           {
            "colorbar": {
             "outlinewidth": 0,
             "ticks": ""
            },
            "colorscale": [
             [
              0,
              "#0d0887"
             ],
             [
              0.1111111111111111,
              "#46039f"
             ],
             [
              0.2222222222222222,
              "#7201a8"
             ],
             [
              0.3333333333333333,
              "#9c179e"
             ],
             [
              0.4444444444444444,
              "#bd3786"
             ],
             [
              0.5555555555555556,
              "#d8576b"
             ],
             [
              0.6666666666666666,
              "#ed7953"
             ],
             [
              0.7777777777777778,
              "#fb9f3a"
             ],
             [
              0.8888888888888888,
              "#fdca26"
             ],
             [
              1,
              "#f0f921"
             ]
            ],
            "type": "histogram2dcontour"
           }
          ],
          "mesh3d": [
           {
            "colorbar": {
             "outlinewidth": 0,
             "ticks": ""
            },
            "type": "mesh3d"
           }
          ],
          "parcoords": [
           {
            "line": {
             "colorbar": {
              "outlinewidth": 0,
              "ticks": ""
             }
            },
            "type": "parcoords"
           }
          ],
          "pie": [
           {
            "automargin": true,
            "type": "pie"
           }
          ],
          "scatter": [
           {
            "fillpattern": {
             "fillmode": "overlay",
             "size": 10,
             "solidity": 0.2
            },
            "type": "scatter"
           }
          ],
          "scatter3d": [
           {
            "line": {
             "colorbar": {
              "outlinewidth": 0,
              "ticks": ""
             }
            },
            "marker": {
             "colorbar": {
              "outlinewidth": 0,
              "ticks": ""
             }
            },
            "type": "scatter3d"
           }
          ],
          "scattercarpet": [
           {
            "marker": {
             "colorbar": {
              "outlinewidth": 0,
              "ticks": ""
             }
            },
            "type": "scattercarpet"
           }
          ],
          "scattergeo": [
           {
            "marker": {
             "colorbar": {
              "outlinewidth": 0,
              "ticks": ""
             }
            },
            "type": "scattergeo"
           }
          ],
          "scattergl": [
           {
            "marker": {
             "colorbar": {
              "outlinewidth": 0,
              "ticks": ""
             }
            },
            "type": "scattergl"
           }
          ],
          "scattermap": [
           {
            "marker": {
             "colorbar": {
              "outlinewidth": 0,
              "ticks": ""
             }
            },
            "type": "scattermap"
           }
          ],
          "scattermapbox": [
           {
            "marker": {
             "colorbar": {
              "outlinewidth": 0,
              "ticks": ""
             }
            },
            "type": "scattermapbox"
           }
          ],
          "scatterpolar": [
           {
            "marker": {
             "colorbar": {
              "outlinewidth": 0,
              "ticks": ""
             }
            },
            "type": "scatterpolar"
           }
          ],
          "scatterpolargl": [
           {
            "marker": {
             "colorbar": {
              "outlinewidth": 0,
              "ticks": ""
             }
            },
            "type": "scatterpolargl"
           }
          ],
          "scatterternary": [
           {
            "marker": {
             "colorbar": {
              "outlinewidth": 0,
              "ticks": ""
             }
            },
            "type": "scatterternary"
           }
          ],
          "surface": [
           {
            "colorbar": {
             "outlinewidth": 0,
             "ticks": ""
            },
            "colorscale": [
             [
              0,
              "#0d0887"
             ],
             [
              0.1111111111111111,
              "#46039f"
             ],
             [
              0.2222222222222222,
              "#7201a8"
             ],
             [
              0.3333333333333333,
              "#9c179e"
             ],
             [
              0.4444444444444444,
              "#bd3786"
             ],
             [
              0.5555555555555556,
              "#d8576b"
             ],
             [
              0.6666666666666666,
              "#ed7953"
             ],
             [
              0.7777777777777778,
              "#fb9f3a"
             ],
             [
              0.8888888888888888,
              "#fdca26"
             ],
             [
              1,
              "#f0f921"
             ]
            ],
            "type": "surface"
           }
          ],
          "table": [
           {
            "cells": {
             "fill": {
              "color": "#EBF0F8"
             },
             "line": {
              "color": "white"
             }
            },
            "header": {
             "fill": {
              "color": "#C8D4E3"
             },
             "line": {
              "color": "white"
             }
            },
            "type": "table"
           }
          ]
         },
         "layout": {
          "annotationdefaults": {
           "arrowcolor": "#2a3f5f",
           "arrowhead": 0,
           "arrowwidth": 1
          },
          "autotypenumbers": "strict",
          "coloraxis": {
           "colorbar": {
            "outlinewidth": 0,
            "ticks": ""
           }
          },
          "colorscale": {
           "diverging": [
            [
             0,
             "#8e0152"
            ],
            [
             0.1,
             "#c51b7d"
            ],
            [
             0.2,
             "#de77ae"
            ],
            [
             0.3,
             "#f1b6da"
            ],
            [
             0.4,
             "#fde0ef"
            ],
            [
             0.5,
             "#f7f7f7"
            ],
            [
             0.6,
             "#e6f5d0"
            ],
            [
             0.7,
             "#b8e186"
            ],
            [
             0.8,
             "#7fbc41"
            ],
            [
             0.9,
             "#4d9221"
            ],
            [
             1,
             "#276419"
            ]
           ],
           "sequential": [
            [
             0,
             "#0d0887"
            ],
            [
             0.1111111111111111,
             "#46039f"
            ],
            [
             0.2222222222222222,
             "#7201a8"
            ],
            [
             0.3333333333333333,
             "#9c179e"
            ],
            [
             0.4444444444444444,
             "#bd3786"
            ],
            [
             0.5555555555555556,
             "#d8576b"
            ],
            [
             0.6666666666666666,
             "#ed7953"
            ],
            [
             0.7777777777777778,
             "#fb9f3a"
            ],
            [
             0.8888888888888888,
             "#fdca26"
            ],
            [
             1,
             "#f0f921"
            ]
           ],
           "sequentialminus": [
            [
             0,
             "#0d0887"
            ],
            [
             0.1111111111111111,
             "#46039f"
            ],
            [
             0.2222222222222222,
             "#7201a8"
            ],
            [
             0.3333333333333333,
             "#9c179e"
            ],
            [
             0.4444444444444444,
             "#bd3786"
            ],
            [
             0.5555555555555556,
             "#d8576b"
            ],
            [
             0.6666666666666666,
             "#ed7953"
            ],
            [
             0.7777777777777778,
             "#fb9f3a"
            ],
            [
             0.8888888888888888,
             "#fdca26"
            ],
            [
             1,
             "#f0f921"
            ]
           ]
          },
          "colorway": [
           "#636efa",
           "#EF553B",
           "#00cc96",
           "#ab63fa",
           "#FFA15A",
           "#19d3f3",
           "#FF6692",
           "#B6E880",
           "#FF97FF",
           "#FECB52"
          ],
          "font": {
           "color": "#2a3f5f"
          },
          "geo": {
           "bgcolor": "white",
           "lakecolor": "white",
           "landcolor": "#E5ECF6",
           "showlakes": true,
           "showland": true,
           "subunitcolor": "white"
          },
          "hoverlabel": {
           "align": "left"
          },
          "hovermode": "closest",
          "mapbox": {
           "style": "light"
          },
          "paper_bgcolor": "white",
          "plot_bgcolor": "#E5ECF6",
          "polar": {
           "angularaxis": {
            "gridcolor": "white",
            "linecolor": "white",
            "ticks": ""
           },
           "bgcolor": "#E5ECF6",
           "radialaxis": {
            "gridcolor": "white",
            "linecolor": "white",
            "ticks": ""
           }
          },
          "scene": {
           "xaxis": {
            "backgroundcolor": "#E5ECF6",
            "gridcolor": "white",
            "gridwidth": 2,
            "linecolor": "white",
            "showbackground": true,
            "ticks": "",
            "zerolinecolor": "white"
           },
           "yaxis": {
            "backgroundcolor": "#E5ECF6",
            "gridcolor": "white",
            "gridwidth": 2,
            "linecolor": "white",
            "showbackground": true,
            "ticks": "",
            "zerolinecolor": "white"
           },
           "zaxis": {
            "backgroundcolor": "#E5ECF6",
            "gridcolor": "white",
            "gridwidth": 2,
            "linecolor": "white",
            "showbackground": true,
            "ticks": "",
            "zerolinecolor": "white"
           }
          },
          "shapedefaults": {
           "line": {
            "color": "#2a3f5f"
           }
          },
          "ternary": {
           "aaxis": {
            "gridcolor": "white",
            "linecolor": "white",
            "ticks": ""
           },
           "baxis": {
            "gridcolor": "white",
            "linecolor": "white",
            "ticks": ""
           },
           "bgcolor": "#E5ECF6",
           "caxis": {
            "gridcolor": "white",
            "linecolor": "white",
            "ticks": ""
           }
          },
          "title": {
           "x": 0.05
          },
          "xaxis": {
           "automargin": true,
           "gridcolor": "white",
           "linecolor": "white",
           "ticks": "",
           "title": {
            "standoff": 15
           },
           "zerolinecolor": "white",
           "zerolinewidth": 2
          },
          "yaxis": {
           "automargin": true,
           "gridcolor": "white",
           "linecolor": "white",
           "ticks": "",
           "title": {
            "standoff": 15
           },
           "zerolinecolor": "white",
           "zerolinewidth": 2
          }
         }
        },
        "title": {
         "text": "JRF(k=1) across normalized layers (↓)"
        },
        "xaxis": {
         "range": [
          0,
          1
         ],
         "title": {
          "text": "Normalized layer (0 → 1)"
         }
        },
        "yaxis": {
         "title": {
          "text": "JRF(k=1)"
         }
        }
       }
      }
     },
     "metadata": {},
     "output_type": "display_data"
    },
    {
     "data": {
      "application/vnd.plotly.v1+json": {
       "config": {
        "plotlyServerURL": "https://plot.ly"
       },
       "data": [
        {
         "hovertemplate": "Layer(norm)=%{x:.2f}<br>Generalized Triplet Distance=%{y:.2f}<extra>gpt2</extra>",
         "line": {
          "color": "#d62728"
         },
         "marker": {
          "color": "#d62728"
         },
         "mode": "lines+markers",
         "name": "gpt2",
         "type": "scatter",
         "x": {
          "bdata": "AAAAAAAAAABVVVVVVVW1P1VVVVVVVcU/AAAAAAAA0D9VVVVVVVXVP6uqqqqqqto/AAAAAAAA4D+rqqqqqqriP1VVVVVVVeU/AAAAAAAA6D+rqqqqqqrqP1VVVVVVVe0/AAAAAAAA8D8=",
          "dtype": "f8"
         },
         "y": {
          "bdata": "EH+J1jav5T8g5yBpQ1TlPzNq7xVGguU/adgjAliD5T/YIwJYgznlP1Incc0AQeU/Fhzj25J35T8zau8VRoLlP4UmMDwLjuU/IOcgaUNU5T/CMb4teVflP59GWO5phOU/dNFFF1105T8=",
          "dtype": "f8"
         }
        },
        {
         "hovertemplate": "Layer(norm)=%{x:.2f}<br>Generalized Triplet Distance=%{y:.2f}<extra>Llama-3-8B</extra>",
         "line": {
          "color": "#1f77b4"
         },
         "marker": {
          "color": "#1f77b4"
         },
         "mode": "lines+markers",
         "name": "Llama-3-8B",
         "type": "scatter",
         "x": {
          "bdata": "AAAAAAAAAAAAAAAAAACgPwAAAAAAALA/AAAAAAAAuD8AAAAAAADAPwAAAAAAAMQ/AAAAAAAAyD8AAAAAAADMPwAAAAAAANA/AAAAAAAA0j8AAAAAAADUPwAAAAAAANY/AAAAAAAA2D8AAAAAAADaPwAAAAAAANw/AAAAAAAA3j8AAAAAAADgPwAAAAAAAOE/AAAAAAAA4j8AAAAAAADjPwAAAAAAAOQ/AAAAAAAA5T8AAAAAAADmPwAAAAAAAOc/AAAAAAAA6D8AAAAAAADpPwAAAAAAAOo/AAAAAAAA6z8AAAAAAADsPwAAAAAAAO0/AAAAAAAA7j8AAAAAAADvPwAAAAAAAPA/",
          "dtype": "f8"
         },
         "y": {
          "bdata": "JoR6bp8c5T88NS2j9l7lP8r8+7opNOU/Tgw6swq45D/Rb7YO/WbjPz63T45cnuA/UrxAJsUL4D8YngXH+LbcPxlKx2Pni+E/FBieBcf43j+6vgPapSTbP4A1mNOdmt4/Cnf/KZ+x4D+W5koI9dzeP8Ixvi15V90/orXNa3E42T+6U9Myau/dP1DP7ZMjl98/vi15V63Y3j+sLM2VEOrZP15hJNi40dg/5EbDHhHA0j+sAi7kh1TUP7R16Ddbh9Y/sNzTCMs91T/k25J31YrVP95/ymcsYtU/sh1l/n3d1D9scTgx6MzSP5pVwIX8kNI/8oS7/5TP0D+YVcCF/JDKP16Lw4lBZ9Y/",
          "dtype": "f8"
         }
        },
        {
         "hovertemplate": "Layer(norm)=%{x:.2f}<br>Generalized Triplet Distance=%{y:.2f}<extra>random_emb (dim=4096)</extra>",
         "line": {
          "color": "#555555",
          "dash": "dot",
          "width": 3.5
         },
         "mode": "lines",
         "name": "random_emb (dim=4096)",
         "type": "scatter",
         "x": [
          0,
          1
         ],
         "y": [
          0.658307210031348,
          0.658307210031348
         ]
        },
        {
         "hovertemplate": "Layer(norm)=%{x:.2f}<br>Generalized Triplet Distance=%{y:.2f}<extra>fasttext</extra>",
         "line": {
          "color": "#ff7f0e",
          "dash": "dot",
          "width": 3.5
         },
         "mode": "lines",
         "name": "fasttext",
         "type": "scatter",
         "x": [
          0,
          1
         ],
         "y": [
          0.6678422152560084,
          0.6678422152560084
         ]
        },
        {
         "hovertemplate": "Layer(norm)=%{x:.2f}<br>Generalized Triplet Distance=%{y:.2f}<extra>Reference (Gold binary-balanced)</extra>",
         "line": {
          "color": "#2ca02c",
          "dash": "dot",
          "width": 3.5
         },
         "mode": "lines",
         "name": "Reference (Gold binary-balanced)",
         "type": "scatter",
         "x": [
          0,
          1
         ],
         "y": [
          0,
          0
         ]
        }
       ],
       "layout": {
        "legend": {
         "title": {
          "text": "Model / Dotted refs"
         }
        },
        "template": {
         "data": {
          "bar": [
           {
            "error_x": {
             "color": "#2a3f5f"
            },
            "error_y": {
             "color": "#2a3f5f"
            },
            "marker": {
             "line": {
              "color": "#E5ECF6",
              "width": 0.5
             },
             "pattern": {
              "fillmode": "overlay",
              "size": 10,
              "solidity": 0.2
             }
            },
            "type": "bar"
           }
          ],
          "barpolar": [
           {
            "marker": {
             "line": {
              "color": "#E5ECF6",
              "width": 0.5
             },
             "pattern": {
              "fillmode": "overlay",
              "size": 10,
              "solidity": 0.2
             }
            },
            "type": "barpolar"
           }
          ],
          "carpet": [
           {
            "aaxis": {
             "endlinecolor": "#2a3f5f",
             "gridcolor": "white",
             "linecolor": "white",
             "minorgridcolor": "white",
             "startlinecolor": "#2a3f5f"
            },
            "baxis": {
             "endlinecolor": "#2a3f5f",
             "gridcolor": "white",
             "linecolor": "white",
             "minorgridcolor": "white",
             "startlinecolor": "#2a3f5f"
            },
            "type": "carpet"
           }
          ],
          "choropleth": [
           {
            "colorbar": {
             "outlinewidth": 0,
             "ticks": ""
            },
            "type": "choropleth"
           }
          ],
          "contour": [
           {
            "colorbar": {
             "outlinewidth": 0,
             "ticks": ""
            },
            "colorscale": [
             [
              0,
              "#0d0887"
             ],
             [
              0.1111111111111111,
              "#46039f"
             ],
             [
              0.2222222222222222,
              "#7201a8"
             ],
             [
              0.3333333333333333,
              "#9c179e"
             ],
             [
              0.4444444444444444,
              "#bd3786"
             ],
             [
              0.5555555555555556,
              "#d8576b"
             ],
             [
              0.6666666666666666,
              "#ed7953"
             ],
             [
              0.7777777777777778,
              "#fb9f3a"
             ],
             [
              0.8888888888888888,
              "#fdca26"
             ],
             [
              1,
              "#f0f921"
             ]
            ],
            "type": "contour"
           }
          ],
          "contourcarpet": [
           {
            "colorbar": {
             "outlinewidth": 0,
             "ticks": ""
            },
            "type": "contourcarpet"
           }
          ],
          "heatmap": [
           {
            "colorbar": {
             "outlinewidth": 0,
             "ticks": ""
            },
            "colorscale": [
             [
              0,
              "#0d0887"
             ],
             [
              0.1111111111111111,
              "#46039f"
             ],
             [
              0.2222222222222222,
              "#7201a8"
             ],
             [
              0.3333333333333333,
              "#9c179e"
             ],
             [
              0.4444444444444444,
              "#bd3786"
             ],
             [
              0.5555555555555556,
              "#d8576b"
             ],
             [
              0.6666666666666666,
              "#ed7953"
             ],
             [
              0.7777777777777778,
              "#fb9f3a"
             ],
             [
              0.8888888888888888,
              "#fdca26"
             ],
             [
              1,
              "#f0f921"
             ]
            ],
            "type": "heatmap"
           }
          ],
          "histogram": [
           {
            "marker": {
             "pattern": {
              "fillmode": "overlay",
              "size": 10,
              "solidity": 0.2
             }
            },
            "type": "histogram"
           }
          ],
          "histogram2d": [
           {
            "colorbar": {
             "outlinewidth": 0,
             "ticks": ""
            },
            "colorscale": [
             [
              0,
              "#0d0887"
             ],
             [
              0.1111111111111111,
              "#46039f"
             ],
             [
              0.2222222222222222,
              "#7201a8"
             ],
             [
              0.3333333333333333,
              "#9c179e"
             ],
             [
              0.4444444444444444,
              "#bd3786"
             ],
             [
              0.5555555555555556,
              "#d8576b"
             ],
             [
              0.6666666666666666,
              "#ed7953"
             ],
             [
              0.7777777777777778,
              "#fb9f3a"
             ],
             [
              0.8888888888888888,
              "#fdca26"
             ],
             [
              1,
              "#f0f921"
             ]
            ],
            "type": "histogram2d"
           }
          ],
          "histogram2dcontour": [
           {
            "colorbar": {
             "outlinewidth": 0,
             "ticks": ""
            },
            "colorscale": [
             [
              0,
              "#0d0887"
             ],
             [
              0.1111111111111111,
              "#46039f"
             ],
             [
              0.2222222222222222,
              "#7201a8"
             ],
             [
              0.3333333333333333,
              "#9c179e"
             ],
             [
              0.4444444444444444,
              "#bd3786"
             ],
             [
              0.5555555555555556,
              "#d8576b"
             ],
             [
              0.6666666666666666,
              "#ed7953"
             ],
             [
              0.7777777777777778,
              "#fb9f3a"
             ],
             [
              0.8888888888888888,
              "#fdca26"
             ],
             [
              1,
              "#f0f921"
             ]
            ],
            "type": "histogram2dcontour"
           }
          ],
          "mesh3d": [
           {
            "colorbar": {
             "outlinewidth": 0,
             "ticks": ""
            },
            "type": "mesh3d"
           }
          ],
          "parcoords": [
           {
            "line": {
             "colorbar": {
              "outlinewidth": 0,
              "ticks": ""
             }
            },
            "type": "parcoords"
           }
          ],
          "pie": [
           {
            "automargin": true,
            "type": "pie"
           }
          ],
          "scatter": [
           {
            "fillpattern": {
             "fillmode": "overlay",
             "size": 10,
             "solidity": 0.2
            },
            "type": "scatter"
           }
          ],
          "scatter3d": [
           {
            "line": {
             "colorbar": {
              "outlinewidth": 0,
              "ticks": ""
             }
            },
            "marker": {
             "colorbar": {
              "outlinewidth": 0,
              "ticks": ""
             }
            },
            "type": "scatter3d"
           }
          ],
          "scattercarpet": [
           {
            "marker": {
             "colorbar": {
              "outlinewidth": 0,
              "ticks": ""
             }
            },
            "type": "scattercarpet"
           }
          ],
          "scattergeo": [
           {
            "marker": {
             "colorbar": {
              "outlinewidth": 0,
              "ticks": ""
             }
            },
            "type": "scattergeo"
           }
          ],
          "scattergl": [
           {
            "marker": {
             "colorbar": {
              "outlinewidth": 0,
              "ticks": ""
             }
            },
            "type": "scattergl"
           }
          ],
          "scattermap": [
           {
            "marker": {
             "colorbar": {
              "outlinewidth": 0,
              "ticks": ""
             }
            },
            "type": "scattermap"
           }
          ],
          "scattermapbox": [
           {
            "marker": {
             "colorbar": {
              "outlinewidth": 0,
              "ticks": ""
             }
            },
            "type": "scattermapbox"
           }
          ],
          "scatterpolar": [
           {
            "marker": {
             "colorbar": {
              "outlinewidth": 0,
              "ticks": ""
             }
            },
            "type": "scatterpolar"
           }
          ],
          "scatterpolargl": [
           {
            "marker": {
             "colorbar": {
              "outlinewidth": 0,
              "ticks": ""
             }
            },
            "type": "scatterpolargl"
           }
          ],
          "scatterternary": [
           {
            "marker": {
             "colorbar": {
              "outlinewidth": 0,
              "ticks": ""
             }
            },
            "type": "scatterternary"
           }
          ],
          "surface": [
           {
            "colorbar": {
             "outlinewidth": 0,
             "ticks": ""
            },
            "colorscale": [
             [
              0,
              "#0d0887"
             ],
             [
              0.1111111111111111,
              "#46039f"
             ],
             [
              0.2222222222222222,
              "#7201a8"
             ],
             [
              0.3333333333333333,
              "#9c179e"
             ],
             [
              0.4444444444444444,
              "#bd3786"
             ],
             [
              0.5555555555555556,
              "#d8576b"
             ],
             [
              0.6666666666666666,
              "#ed7953"
             ],
             [
              0.7777777777777778,
              "#fb9f3a"
             ],
             [
              0.8888888888888888,
              "#fdca26"
             ],
             [
              1,
              "#f0f921"
             ]
            ],
            "type": "surface"
           }
          ],
          "table": [
           {
            "cells": {
             "fill": {
              "color": "#EBF0F8"
             },
             "line": {
              "color": "white"
             }
            },
            "header": {
             "fill": {
              "color": "#C8D4E3"
             },
             "line": {
              "color": "white"
             }
            },
            "type": "table"
           }
          ]
         },
         "layout": {
          "annotationdefaults": {
           "arrowcolor": "#2a3f5f",
           "arrowhead": 0,
           "arrowwidth": 1
          },
          "autotypenumbers": "strict",
          "coloraxis": {
           "colorbar": {
            "outlinewidth": 0,
            "ticks": ""
           }
          },
          "colorscale": {
           "diverging": [
            [
             0,
             "#8e0152"
            ],
            [
             0.1,
             "#c51b7d"
            ],
            [
             0.2,
             "#de77ae"
            ],
            [
             0.3,
             "#f1b6da"
            ],
            [
             0.4,
             "#fde0ef"
            ],
            [
             0.5,
             "#f7f7f7"
            ],
            [
             0.6,
             "#e6f5d0"
            ],
            [
             0.7,
             "#b8e186"
            ],
            [
             0.8,
             "#7fbc41"
            ],
            [
             0.9,
             "#4d9221"
            ],
            [
             1,
             "#276419"
            ]
           ],
           "sequential": [
            [
             0,
             "#0d0887"
            ],
            [
             0.1111111111111111,
             "#46039f"
            ],
            [
             0.2222222222222222,
             "#7201a8"
            ],
            [
             0.3333333333333333,
             "#9c179e"
            ],
            [
             0.4444444444444444,
             "#bd3786"
            ],
            [
             0.5555555555555556,
             "#d8576b"
            ],
            [
             0.6666666666666666,
             "#ed7953"
            ],
            [
             0.7777777777777778,
             "#fb9f3a"
            ],
            [
             0.8888888888888888,
             "#fdca26"
            ],
            [
             1,
             "#f0f921"
            ]
           ],
           "sequentialminus": [
            [
             0,
             "#0d0887"
            ],
            [
             0.1111111111111111,
             "#46039f"
            ],
            [
             0.2222222222222222,
             "#7201a8"
            ],
            [
             0.3333333333333333,
             "#9c179e"
            ],
            [
             0.4444444444444444,
             "#bd3786"
            ],
            [
             0.5555555555555556,
             "#d8576b"
            ],
            [
             0.6666666666666666,
             "#ed7953"
            ],
            [
             0.7777777777777778,
             "#fb9f3a"
            ],
            [
             0.8888888888888888,
             "#fdca26"
            ],
            [
             1,
             "#f0f921"
            ]
           ]
          },
          "colorway": [
           "#636efa",
           "#EF553B",
           "#00cc96",
           "#ab63fa",
           "#FFA15A",
           "#19d3f3",
           "#FF6692",
           "#B6E880",
           "#FF97FF",
           "#FECB52"
          ],
          "font": {
           "color": "#2a3f5f"
          },
          "geo": {
           "bgcolor": "white",
           "lakecolor": "white",
           "landcolor": "#E5ECF6",
           "showlakes": true,
           "showland": true,
           "subunitcolor": "white"
          },
          "hoverlabel": {
           "align": "left"
          },
          "hovermode": "closest",
          "mapbox": {
           "style": "light"
          },
          "paper_bgcolor": "white",
          "plot_bgcolor": "#E5ECF6",
          "polar": {
           "angularaxis": {
            "gridcolor": "white",
            "linecolor": "white",
            "ticks": ""
           },
           "bgcolor": "#E5ECF6",
           "radialaxis": {
            "gridcolor": "white",
            "linecolor": "white",
            "ticks": ""
           }
          },
          "scene": {
           "xaxis": {
            "backgroundcolor": "#E5ECF6",
            "gridcolor": "white",
            "gridwidth": 2,
            "linecolor": "white",
            "showbackground": true,
            "ticks": "",
            "zerolinecolor": "white"
           },
           "yaxis": {
            "backgroundcolor": "#E5ECF6",
            "gridcolor": "white",
            "gridwidth": 2,
            "linecolor": "white",
            "showbackground": true,
            "ticks": "",
            "zerolinecolor": "white"
           },
           "zaxis": {
            "backgroundcolor": "#E5ECF6",
            "gridcolor": "white",
            "gridwidth": 2,
            "linecolor": "white",
            "showbackground": true,
            "ticks": "",
            "zerolinecolor": "white"
           }
          },
          "shapedefaults": {
           "line": {
            "color": "#2a3f5f"
           }
          },
          "ternary": {
           "aaxis": {
            "gridcolor": "white",
            "linecolor": "white",
            "ticks": ""
           },
           "baxis": {
            "gridcolor": "white",
            "linecolor": "white",
            "ticks": ""
           },
           "bgcolor": "#E5ECF6",
           "caxis": {
            "gridcolor": "white",
            "linecolor": "white",
            "ticks": ""
           }
          },
          "title": {
           "x": 0.05
          },
          "xaxis": {
           "automargin": true,
           "gridcolor": "white",
           "linecolor": "white",
           "ticks": "",
           "title": {
            "standoff": 15
           },
           "zerolinecolor": "white",
           "zerolinewidth": 2
          },
          "yaxis": {
           "automargin": true,
           "gridcolor": "white",
           "linecolor": "white",
           "ticks": "",
           "title": {
            "standoff": 15
           },
           "zerolinecolor": "white",
           "zerolinewidth": 2
          }
         }
        },
        "title": {
         "text": "Generalized Triplet Distance across normalized layers (↓)"
        },
        "xaxis": {
         "range": [
          0,
          1
         ],
         "title": {
          "text": "Normalized layer (0 → 1)"
         }
        },
        "yaxis": {
         "title": {
          "text": "Generalized Triplet Distance"
         }
        }
       }
      }
     },
     "metadata": {},
     "output_type": "display_data"
    },
    {
     "data": {
      "application/vnd.plotly.v1+json": {
       "config": {
        "plotlyServerURL": "https://plot.ly"
       },
       "data": [
        {
         "hovertemplate": "Layer(norm)=%{x:.2f}<br>Generalized Quartet Distance=%{y:.2f}<extra>gpt2</extra>",
         "line": {
          "color": "#d62728"
         },
         "marker": {
          "color": "#d62728"
         },
         "mode": "lines+markers",
         "name": "gpt2",
         "type": "scatter",
         "x": {
          "bdata": "AAAAAAAAAABVVVVVVVW1P1VVVVVVVcU/AAAAAAAA0D9VVVVVVVXVP6uqqqqqqto/AAAAAAAA4D+rqqqqqqriP1VVVVVVVeU/AAAAAAAA6D+rqqqqqqrqP1VVVVVVVe0/AAAAAAAA8D8=",
          "dtype": "f8"
         },
         "y": {
          "bdata": "Ofnmj8TV5T8sKrhHjnjlP3hMSGBWz+U/aCoMOjKf5T9Op+hwYfrkP2pMs2OtBeU/ZlxXtN1v5T/mptWIwnblP2JljqIuieU/RkLYuSgr5T+itMZeNCjlP1ECSHdnguU/8LPKh0i05T8=",
          "dtype": "f8"
         }
        },
        {
         "hovertemplate": "Layer(norm)=%{x:.2f}<br>Generalized Quartet Distance=%{y:.2f}<extra>Llama-3-8B</extra>",
         "line": {
          "color": "#1f77b4"
         },
         "marker": {
          "color": "#1f77b4"
         },
         "mode": "lines+markers",
         "name": "Llama-3-8B",
         "type": "scatter",
         "x": {
          "bdata": "AAAAAAAAAAAAAAAAAACgPwAAAAAAALA/AAAAAAAAuD8AAAAAAADAPwAAAAAAAMQ/AAAAAAAAyD8AAAAAAADMPwAAAAAAANA/AAAAAAAA0j8AAAAAAADUPwAAAAAAANY/AAAAAAAA2D8AAAAAAADaPwAAAAAAANw/AAAAAAAA3j8AAAAAAADgPwAAAAAAAOE/AAAAAAAA4j8AAAAAAADjPwAAAAAAAOQ/AAAAAAAA5T8AAAAAAADmPwAAAAAAAOc/AAAAAAAA6D8AAAAAAADpPwAAAAAAAOo/AAAAAAAA6z8AAAAAAADsPwAAAAAAAO0/AAAAAAAA7j8AAAAAAADvPwAAAAAAAPA/",
          "dtype": "f8"
         },
         "y": {
          "bdata": "hMeEBGb15D+CUes2xFflP1FaYy8aFOU/a0RhO5VQ5D9WFEtQsn7hP9yScydd6Nk/TtHhwvQV2z96/8IeD+nVP3JVf06n6Nw/RFJ8ClmV1j+8nsRqr2TSPyxF8g4qjtY/wDLcTUAO2j/Er+J9wfzXP5jCCydKANU/Ev+vNnBl1T+QCQnM6vnYP1KXRCAxkNk/aCbjJaZE2z/OiowCnGnXPzrDcgGNqtQ/OrSzdpWk0T8IKC/GIVPTP7JYF4+eBdU/0NIDah6R0T+08FeGuwnSP9x7YnRNLdI/7iYgB5db0T+Iev/CHg/NPxzpGEZC2M0/hNP/QAoFyz9AzSOyv/HJP0ykpCIOBNA/",
          "dtype": "f8"
         }
        },
        {
         "hovertemplate": "Layer(norm)=%{x:.2f}<br>Generalized Quartet Distance=%{y:.2f}<extra>random_emb (dim=4096)</extra>",
         "line": {
          "color": "#555555",
          "dash": "dot",
          "width": 3.5
         },
         "mode": "lines",
         "name": "random_emb (dim=4096)",
         "type": "scatter",
         "x": [
          0,
          1
         ],
         "y": [
          0.653979972844535,
          0.653979972844535
         ]
        },
        {
         "hovertemplate": "Layer(norm)=%{x:.2f}<br>Generalized Quartet Distance=%{y:.2f}<extra>fasttext</extra>",
         "line": {
          "color": "#ff7f0e",
          "dash": "dot",
          "width": 3.5
         },
         "mode": "lines",
         "name": "fasttext",
         "type": "scatter",
         "x": [
          0,
          1
         ],
         "y": [
          0.6777127178094591,
          0.6777127178094591
         ]
        },
        {
         "hovertemplate": "Layer(norm)=%{x:.2f}<br>Generalized Quartet Distance=%{y:.2f}<extra>Reference (Gold binary-balanced)</extra>",
         "line": {
          "color": "#2ca02c",
          "dash": "dot",
          "width": 3.5
         },
         "mode": "lines",
         "name": "Reference (Gold binary-balanced)",
         "type": "scatter",
         "x": [
          0,
          1
         ],
         "y": [
          0,
          0
         ]
        }
       ],
       "layout": {
        "legend": {
         "title": {
          "text": "Model / Dotted refs"
         }
        },
        "template": {
         "data": {
          "bar": [
           {
            "error_x": {
             "color": "#2a3f5f"
            },
            "error_y": {
             "color": "#2a3f5f"
            },
            "marker": {
             "line": {
              "color": "#E5ECF6",
              "width": 0.5
             },
             "pattern": {
              "fillmode": "overlay",
              "size": 10,
              "solidity": 0.2
             }
            },
            "type": "bar"
           }
          ],
          "barpolar": [
           {
            "marker": {
             "line": {
              "color": "#E5ECF6",
              "width": 0.5
             },
             "pattern": {
              "fillmode": "overlay",
              "size": 10,
              "solidity": 0.2
             }
            },
            "type": "barpolar"
           }
          ],
          "carpet": [
           {
            "aaxis": {
             "endlinecolor": "#2a3f5f",
             "gridcolor": "white",
             "linecolor": "white",
             "minorgridcolor": "white",
             "startlinecolor": "#2a3f5f"
            },
            "baxis": {
             "endlinecolor": "#2a3f5f",
             "gridcolor": "white",
             "linecolor": "white",
             "minorgridcolor": "white",
             "startlinecolor": "#2a3f5f"
            },
            "type": "carpet"
           }
          ],
          "choropleth": [
           {
            "colorbar": {
             "outlinewidth": 0,
             "ticks": ""
            },
            "type": "choropleth"
           }
          ],
          "contour": [
           {
            "colorbar": {
             "outlinewidth": 0,
             "ticks": ""
            },
            "colorscale": [
             [
              0,
              "#0d0887"
             ],
             [
              0.1111111111111111,
              "#46039f"
             ],
             [
              0.2222222222222222,
              "#7201a8"
             ],
             [
              0.3333333333333333,
              "#9c179e"
             ],
             [
              0.4444444444444444,
              "#bd3786"
             ],
             [
              0.5555555555555556,
              "#d8576b"
             ],
             [
              0.6666666666666666,
              "#ed7953"
             ],
             [
              0.7777777777777778,
              "#fb9f3a"
             ],
             [
              0.8888888888888888,
              "#fdca26"
             ],
             [
              1,
              "#f0f921"
             ]
            ],
            "type": "contour"
           }
          ],
          "contourcarpet": [
           {
            "colorbar": {
             "outlinewidth": 0,
             "ticks": ""
            },
            "type": "contourcarpet"
           }
          ],
          "heatmap": [
           {
            "colorbar": {
             "outlinewidth": 0,
             "ticks": ""
            },
            "colorscale": [
             [
              0,
              "#0d0887"
             ],
             [
              0.1111111111111111,
              "#46039f"
             ],
             [
              0.2222222222222222,
              "#7201a8"
             ],
             [
              0.3333333333333333,
              "#9c179e"
             ],
             [
              0.4444444444444444,
              "#bd3786"
             ],
             [
              0.5555555555555556,
              "#d8576b"
             ],
             [
              0.6666666666666666,
              "#ed7953"
             ],
             [
              0.7777777777777778,
              "#fb9f3a"
             ],
             [
              0.8888888888888888,
              "#fdca26"
             ],
             [
              1,
              "#f0f921"
             ]
            ],
            "type": "heatmap"
           }
          ],
          "histogram": [
           {
            "marker": {
             "pattern": {
              "fillmode": "overlay",
              "size": 10,
              "solidity": 0.2
             }
            },
            "type": "histogram"
           }
          ],
          "histogram2d": [
           {
            "colorbar": {
             "outlinewidth": 0,
             "ticks": ""
            },
            "colorscale": [
             [
              0,
              "#0d0887"
             ],
             [
              0.1111111111111111,
              "#46039f"
             ],
             [
              0.2222222222222222,
              "#7201a8"
             ],
             [
              0.3333333333333333,
              "#9c179e"
             ],
             [
              0.4444444444444444,
              "#bd3786"
             ],
             [
              0.5555555555555556,
              "#d8576b"
             ],
             [
              0.6666666666666666,
              "#ed7953"
             ],
             [
              0.7777777777777778,
              "#fb9f3a"
             ],
             [
              0.8888888888888888,
              "#fdca26"
             ],
             [
              1,
              "#f0f921"
             ]
            ],
            "type": "histogram2d"
           }
          ],
          "histogram2dcontour": [
           {
            "colorbar": {
             "outlinewidth": 0,
             "ticks": ""
            },
            "colorscale": [
             [
              0,
              "#0d0887"
             ],
             [
              0.1111111111111111,
              "#46039f"
             ],
             [
              0.2222222222222222,
              "#7201a8"
             ],
             [
              0.3333333333333333,
              "#9c179e"
             ],
             [
              0.4444444444444444,
              "#bd3786"
             ],
             [
              0.5555555555555556,
              "#d8576b"
             ],
             [
              0.6666666666666666,
              "#ed7953"
             ],
             [
              0.7777777777777778,
              "#fb9f3a"
             ],
             [
              0.8888888888888888,
              "#fdca26"
             ],
             [
              1,
              "#f0f921"
             ]
            ],
            "type": "histogram2dcontour"
           }
          ],
          "mesh3d": [
           {
            "colorbar": {
             "outlinewidth": 0,
             "ticks": ""
            },
            "type": "mesh3d"
           }
          ],
          "parcoords": [
           {
            "line": {
             "colorbar": {
              "outlinewidth": 0,
              "ticks": ""
             }
            },
            "type": "parcoords"
           }
          ],
          "pie": [
           {
            "automargin": true,
            "type": "pie"
           }
          ],
          "scatter": [
           {
            "fillpattern": {
             "fillmode": "overlay",
             "size": 10,
             "solidity": 0.2
            },
            "type": "scatter"
           }
          ],
          "scatter3d": [
           {
            "line": {
             "colorbar": {
              "outlinewidth": 0,
              "ticks": ""
             }
            },
            "marker": {
             "colorbar": {
              "outlinewidth": 0,
              "ticks": ""
             }
            },
            "type": "scatter3d"
           }
          ],
          "scattercarpet": [
           {
            "marker": {
             "colorbar": {
              "outlinewidth": 0,
              "ticks": ""
             }
            },
            "type": "scattercarpet"
           }
          ],
          "scattergeo": [
           {
            "marker": {
             "colorbar": {
              "outlinewidth": 0,
              "ticks": ""
             }
            },
            "type": "scattergeo"
           }
          ],
          "scattergl": [
           {
            "marker": {
             "colorbar": {
              "outlinewidth": 0,
              "ticks": ""
             }
            },
            "type": "scattergl"
           }
          ],
          "scattermap": [
           {
            "marker": {
             "colorbar": {
              "outlinewidth": 0,
              "ticks": ""
             }
            },
            "type": "scattermap"
           }
          ],
          "scattermapbox": [
           {
            "marker": {
             "colorbar": {
              "outlinewidth": 0,
              "ticks": ""
             }
            },
            "type": "scattermapbox"
           }
          ],
          "scatterpolar": [
           {
            "marker": {
             "colorbar": {
              "outlinewidth": 0,
              "ticks": ""
             }
            },
            "type": "scatterpolar"
           }
          ],
          "scatterpolargl": [
           {
            "marker": {
             "colorbar": {
              "outlinewidth": 0,
              "ticks": ""
             }
            },
            "type": "scatterpolargl"
           }
          ],
          "scatterternary": [
           {
            "marker": {
             "colorbar": {
              "outlinewidth": 0,
              "ticks": ""
             }
            },
            "type": "scatterternary"
           }
          ],
          "surface": [
           {
            "colorbar": {
             "outlinewidth": 0,
             "ticks": ""
            },
            "colorscale": [
             [
              0,
              "#0d0887"
             ],
             [
              0.1111111111111111,
              "#46039f"
             ],
             [
              0.2222222222222222,
              "#7201a8"
             ],
             [
              0.3333333333333333,
              "#9c179e"
             ],
             [
              0.4444444444444444,
              "#bd3786"
             ],
             [
              0.5555555555555556,
              "#d8576b"
             ],
             [
              0.6666666666666666,
              "#ed7953"
             ],
             [
              0.7777777777777778,
              "#fb9f3a"
             ],
             [
              0.8888888888888888,
              "#fdca26"
             ],
             [
              1,
              "#f0f921"
             ]
            ],
            "type": "surface"
           }
          ],
          "table": [
           {
            "cells": {
             "fill": {
              "color": "#EBF0F8"
             },
             "line": {
              "color": "white"
             }
            },
            "header": {
             "fill": {
              "color": "#C8D4E3"
             },
             "line": {
              "color": "white"
             }
            },
            "type": "table"
           }
          ]
         },
         "layout": {
          "annotationdefaults": {
           "arrowcolor": "#2a3f5f",
           "arrowhead": 0,
           "arrowwidth": 1
          },
          "autotypenumbers": "strict",
          "coloraxis": {
           "colorbar": {
            "outlinewidth": 0,
            "ticks": ""
           }
          },
          "colorscale": {
           "diverging": [
            [
             0,
             "#8e0152"
            ],
            [
             0.1,
             "#c51b7d"
            ],
            [
             0.2,
             "#de77ae"
            ],
            [
             0.3,
             "#f1b6da"
            ],
            [
             0.4,
             "#fde0ef"
            ],
            [
             0.5,
             "#f7f7f7"
            ],
            [
             0.6,
             "#e6f5d0"
            ],
            [
             0.7,
             "#b8e186"
            ],
            [
             0.8,
             "#7fbc41"
            ],
            [
             0.9,
             "#4d9221"
            ],
            [
             1,
             "#276419"
            ]
           ],
           "sequential": [
            [
             0,
             "#0d0887"
            ],
            [
             0.1111111111111111,
             "#46039f"
            ],
            [
             0.2222222222222222,
             "#7201a8"
            ],
            [
             0.3333333333333333,
             "#9c179e"
            ],
            [
             0.4444444444444444,
             "#bd3786"
            ],
            [
             0.5555555555555556,
             "#d8576b"
            ],
            [
             0.6666666666666666,
             "#ed7953"
            ],
            [
             0.7777777777777778,
             "#fb9f3a"
            ],
            [
             0.8888888888888888,
             "#fdca26"
            ],
            [
             1,
             "#f0f921"
            ]
           ],
           "sequentialminus": [
            [
             0,
             "#0d0887"
            ],
            [
             0.1111111111111111,
             "#46039f"
            ],
            [
             0.2222222222222222,
             "#7201a8"
            ],
            [
             0.3333333333333333,
             "#9c179e"
            ],
            [
             0.4444444444444444,
             "#bd3786"
            ],
            [
             0.5555555555555556,
             "#d8576b"
            ],
            [
             0.6666666666666666,
             "#ed7953"
            ],
            [
             0.7777777777777778,
             "#fb9f3a"
            ],
            [
             0.8888888888888888,
             "#fdca26"
            ],
            [
             1,
             "#f0f921"
            ]
           ]
          },
          "colorway": [
           "#636efa",
           "#EF553B",
           "#00cc96",
           "#ab63fa",
           "#FFA15A",
           "#19d3f3",
           "#FF6692",
           "#B6E880",
           "#FF97FF",
           "#FECB52"
          ],
          "font": {
           "color": "#2a3f5f"
          },
          "geo": {
           "bgcolor": "white",
           "lakecolor": "white",
           "landcolor": "#E5ECF6",
           "showlakes": true,
           "showland": true,
           "subunitcolor": "white"
          },
          "hoverlabel": {
           "align": "left"
          },
          "hovermode": "closest",
          "mapbox": {
           "style": "light"
          },
          "paper_bgcolor": "white",
          "plot_bgcolor": "#E5ECF6",
          "polar": {
           "angularaxis": {
            "gridcolor": "white",
            "linecolor": "white",
            "ticks": ""
           },
           "bgcolor": "#E5ECF6",
           "radialaxis": {
            "gridcolor": "white",
            "linecolor": "white",
            "ticks": ""
           }
          },
          "scene": {
           "xaxis": {
            "backgroundcolor": "#E5ECF6",
            "gridcolor": "white",
            "gridwidth": 2,
            "linecolor": "white",
            "showbackground": true,
            "ticks": "",
            "zerolinecolor": "white"
           },
           "yaxis": {
            "backgroundcolor": "#E5ECF6",
            "gridcolor": "white",
            "gridwidth": 2,
            "linecolor": "white",
            "showbackground": true,
            "ticks": "",
            "zerolinecolor": "white"
           },
           "zaxis": {
            "backgroundcolor": "#E5ECF6",
            "gridcolor": "white",
            "gridwidth": 2,
            "linecolor": "white",
            "showbackground": true,
            "ticks": "",
            "zerolinecolor": "white"
           }
          },
          "shapedefaults": {
           "line": {
            "color": "#2a3f5f"
           }
          },
          "ternary": {
           "aaxis": {
            "gridcolor": "white",
            "linecolor": "white",
            "ticks": ""
           },
           "baxis": {
            "gridcolor": "white",
            "linecolor": "white",
            "ticks": ""
           },
           "bgcolor": "#E5ECF6",
           "caxis": {
            "gridcolor": "white",
            "linecolor": "white",
            "ticks": ""
           }
          },
          "title": {
           "x": 0.05
          },
          "xaxis": {
           "automargin": true,
           "gridcolor": "white",
           "linecolor": "white",
           "ticks": "",
           "title": {
            "standoff": 15
           },
           "zerolinecolor": "white",
           "zerolinewidth": 2
          },
          "yaxis": {
           "automargin": true,
           "gridcolor": "white",
           "linecolor": "white",
           "ticks": "",
           "title": {
            "standoff": 15
           },
           "zerolinecolor": "white",
           "zerolinewidth": 2
          }
         }
        },
        "title": {
         "text": "Generalized Quartet Distance across normalized layers (↓)"
        },
        "xaxis": {
         "range": [
          0,
          1
         ],
         "title": {
          "text": "Normalized layer (0 → 1)"
         }
        },
        "yaxis": {
         "title": {
          "text": "Generalized Quartet Distance"
         }
        }
       }
      }
     },
     "metadata": {},
     "output_type": "display_data"
    },
    {
     "data": {
      "application/vnd.plotly.v1+json": {
       "config": {
        "plotlyServerURL": "https://plot.ly"
       },
       "data": [
        {
         "hovertemplate": "Layer(norm)=%{x:.2f}<br>cophenetic corr=%{y:.2f}<extra>gpt2</extra>",
         "line": {
          "color": "#d62728"
         },
         "marker": {
          "color": "#d62728"
         },
         "mode": "lines+markers",
         "name": "gpt2",
         "type": "scatter",
         "x": {
          "bdata": "AAAAAAAAAABVVVVVVVW1P1VVVVVVVcU/AAAAAAAA0D9VVVVVVVXVP6uqqqqqqto/AAAAAAAA4D+rqqqqqqriP1VVVVVVVeU/AAAAAAAA6D+rqqqqqqrqP1VVVVVVVe0/AAAAAAAA8D8=",
          "dtype": "f8"
         },
         "y": {
          "bdata": "D+wS5SJWjL/8xxc8q6pjP2ATpRxcglC/wxwSLQfScb/rCNFxtEOAP2gFFktEg2s/AEY4kM1N9b6IGenf/Y1pvwxijB8qQ3O/EKhH2PvqaD/Af3jT4zY+v9C4zrVmlXK/KfW1EqQZg78=",
          "dtype": "f8"
         }
        },
        {
         "hovertemplate": "Layer(norm)=%{x:.2f}<br>cophenetic corr=%{y:.2f}<extra>Llama-3-8B</extra>",
         "line": {
          "color": "#1f77b4"
         },
         "marker": {
          "color": "#1f77b4"
         },
         "mode": "lines+markers",
         "name": "Llama-3-8B",
         "type": "scatter",
         "x": {
          "bdata": "AAAAAAAAAAAAAAAAAACgPwAAAAAAALA/AAAAAAAAuD8AAAAAAADAPwAAAAAAAMQ/AAAAAAAAyD8AAAAAAADMPwAAAAAAANA/AAAAAAAA0j8AAAAAAADUPwAAAAAAANY/AAAAAAAA2D8AAAAAAADaPwAAAAAAANw/AAAAAAAA3j8AAAAAAADgPwAAAAAAAOE/AAAAAAAA4j8AAAAAAADjPwAAAAAAAOQ/AAAAAAAA5T8AAAAAAADmPwAAAAAAAOc/AAAAAAAA6D8AAAAAAADpPwAAAAAAAOo/AAAAAAAA6z8AAAAAAADsPwAAAAAAAO0/AAAAAAAA7j8AAAAAAADvPwAAAAAAAPA/",
          "dtype": "f8"
         },
         "y": {
          "bdata": "koK600xEhT/QYel9g9lav8S+cc5ns3g/VlVddVKcnT/OxcKPOyy3P4lfJJRCPMI/5JphXVKEwj8LN/MpZMHCP34kswest70/fH8vgQmKwT+SKFoIannHPxCHle1jS8c/z1CZwAgmwz8adY7A3APEP1xrcAGG4cQ/9nsV5NH0yj+FipK6j0fDP27SZ/VYHsM/oNJlMLWxwz+wXJbnyKvLP4G6sfZOF8w/pXp+I+2Q1j9K82fbSWPYPzNQmaI6kdM/HQg1v4qA0z+y2Z0Ju5LTPyEkOcKA/tQ/4lc1SU/g1D94ZOaa/tLWP2iiTHh5btk/SfuqDjq33j9splibsDzhP0KxyCwO5so/",
          "dtype": "f8"
         }
        },
        {
         "hovertemplate": "Layer(norm)=%{x:.2f}<br>cophenetic corr=%{y:.2f}<extra>random_emb (dim=4096)</extra>",
         "line": {
          "color": "#555555",
          "dash": "dot",
          "width": 3.5
         },
         "mode": "lines",
         "name": "random_emb (dim=4096)",
         "type": "scatter",
         "x": [
          0,
          1
         ],
         "y": [
          0.015865639782408868,
          0.015865639782408868
         ]
        },
        {
         "hovertemplate": "Layer(norm)=%{x:.2f}<br>cophenetic corr=%{y:.2f}<extra>fasttext</extra>",
         "line": {
          "color": "#ff7f0e",
          "dash": "dot",
          "width": 3.5
         },
         "mode": "lines",
         "name": "fasttext",
         "type": "scatter",
         "x": [
          0,
          1
         ],
         "y": [
          -0.0017633510428191976,
          -0.0017633510428191976
         ]
        },
        {
         "hovertemplate": "Layer(norm)=%{x:.2f}<br>cophenetic corr=%{y:.2f}<extra>Reference (Gold binary-balanced)</extra>",
         "line": {
          "color": "#2ca02c",
          "dash": "dot",
          "width": 3.5
         },
         "mode": "lines",
         "name": "Reference (Gold binary-balanced)",
         "type": "scatter",
         "x": [
          0,
          1
         ],
         "y": [
          0.7935231150009302,
          0.7935231150009302
         ]
        }
       ],
       "layout": {
        "legend": {
         "title": {
          "text": "Model / Dotted refs"
         }
        },
        "template": {
         "data": {
          "bar": [
           {
            "error_x": {
             "color": "#2a3f5f"
            },
            "error_y": {
             "color": "#2a3f5f"
            },
            "marker": {
             "line": {
              "color": "#E5ECF6",
              "width": 0.5
             },
             "pattern": {
              "fillmode": "overlay",
              "size": 10,
              "solidity": 0.2
             }
            },
            "type": "bar"
           }
          ],
          "barpolar": [
           {
            "marker": {
             "line": {
              "color": "#E5ECF6",
              "width": 0.5
             },
             "pattern": {
              "fillmode": "overlay",
              "size": 10,
              "solidity": 0.2
             }
            },
            "type": "barpolar"
           }
          ],
          "carpet": [
           {
            "aaxis": {
             "endlinecolor": "#2a3f5f",
             "gridcolor": "white",
             "linecolor": "white",
             "minorgridcolor": "white",
             "startlinecolor": "#2a3f5f"
            },
            "baxis": {
             "endlinecolor": "#2a3f5f",
             "gridcolor": "white",
             "linecolor": "white",
             "minorgridcolor": "white",
             "startlinecolor": "#2a3f5f"
            },
            "type": "carpet"
           }
          ],
          "choropleth": [
           {
            "colorbar": {
             "outlinewidth": 0,
             "ticks": ""
            },
            "type": "choropleth"
           }
          ],
          "contour": [
           {
            "colorbar": {
             "outlinewidth": 0,
             "ticks": ""
            },
            "colorscale": [
             [
              0,
              "#0d0887"
             ],
             [
              0.1111111111111111,
              "#46039f"
             ],
             [
              0.2222222222222222,
              "#7201a8"
             ],
             [
              0.3333333333333333,
              "#9c179e"
             ],
             [
              0.4444444444444444,
              "#bd3786"
             ],
             [
              0.5555555555555556,
              "#d8576b"
             ],
             [
              0.6666666666666666,
              "#ed7953"
             ],
             [
              0.7777777777777778,
              "#fb9f3a"
             ],
             [
              0.8888888888888888,
              "#fdca26"
             ],
             [
              1,
              "#f0f921"
             ]
            ],
            "type": "contour"
           }
          ],
          "contourcarpet": [
           {
            "colorbar": {
             "outlinewidth": 0,
             "ticks": ""
            },
            "type": "contourcarpet"
           }
          ],
          "heatmap": [
           {
            "colorbar": {
             "outlinewidth": 0,
             "ticks": ""
            },
            "colorscale": [
             [
              0,
              "#0d0887"
             ],
             [
              0.1111111111111111,
              "#46039f"
             ],
             [
              0.2222222222222222,
              "#7201a8"
             ],
             [
              0.3333333333333333,
              "#9c179e"
             ],
             [
              0.4444444444444444,
              "#bd3786"
             ],
             [
              0.5555555555555556,
              "#d8576b"
             ],
             [
              0.6666666666666666,
              "#ed7953"
             ],
             [
              0.7777777777777778,
              "#fb9f3a"
             ],
             [
              0.8888888888888888,
              "#fdca26"
             ],
             [
              1,
              "#f0f921"
             ]
            ],
            "type": "heatmap"
           }
          ],
          "histogram": [
           {
            "marker": {
             "pattern": {
              "fillmode": "overlay",
              "size": 10,
              "solidity": 0.2
             }
            },
            "type": "histogram"
           }
          ],
          "histogram2d": [
           {
            "colorbar": {
             "outlinewidth": 0,
             "ticks": ""
            },
            "colorscale": [
             [
              0,
              "#0d0887"
             ],
             [
              0.1111111111111111,
              "#46039f"
             ],
             [
              0.2222222222222222,
              "#7201a8"
             ],
             [
              0.3333333333333333,
              "#9c179e"
             ],
             [
              0.4444444444444444,
              "#bd3786"
             ],
             [
              0.5555555555555556,
              "#d8576b"
             ],
             [
              0.6666666666666666,
              "#ed7953"
             ],
             [
              0.7777777777777778,
              "#fb9f3a"
             ],
             [
              0.8888888888888888,
              "#fdca26"
             ],
             [
              1,
              "#f0f921"
             ]
            ],
            "type": "histogram2d"
           }
          ],
          "histogram2dcontour": [
           {
            "colorbar": {
             "outlinewidth": 0,
             "ticks": ""
            },
            "colorscale": [
             [
              0,
              "#0d0887"
             ],
             [
              0.1111111111111111,
              "#46039f"
             ],
             [
              0.2222222222222222,
              "#7201a8"
             ],
             [
              0.3333333333333333,
              "#9c179e"
             ],
             [
              0.4444444444444444,
              "#bd3786"
             ],
             [
              0.5555555555555556,
              "#d8576b"
             ],
             [
              0.6666666666666666,
              "#ed7953"
             ],
             [
              0.7777777777777778,
              "#fb9f3a"
             ],
             [
              0.8888888888888888,
              "#fdca26"
             ],
             [
              1,
              "#f0f921"
             ]
            ],
            "type": "histogram2dcontour"
           }
          ],
          "mesh3d": [
           {
            "colorbar": {
             "outlinewidth": 0,
             "ticks": ""
            },
            "type": "mesh3d"
           }
          ],
          "parcoords": [
           {
            "line": {
             "colorbar": {
              "outlinewidth": 0,
              "ticks": ""
             }
            },
            "type": "parcoords"
           }
          ],
          "pie": [
           {
            "automargin": true,
            "type": "pie"
           }
          ],
          "scatter": [
           {
            "fillpattern": {
             "fillmode": "overlay",
             "size": 10,
             "solidity": 0.2
            },
            "type": "scatter"
           }
          ],
          "scatter3d": [
           {
            "line": {
             "colorbar": {
              "outlinewidth": 0,
              "ticks": ""
             }
            },
            "marker": {
             "colorbar": {
              "outlinewidth": 0,
              "ticks": ""
             }
            },
            "type": "scatter3d"
           }
          ],
          "scattercarpet": [
           {
            "marker": {
             "colorbar": {
              "outlinewidth": 0,
              "ticks": ""
             }
            },
            "type": "scattercarpet"
           }
          ],
          "scattergeo": [
           {
            "marker": {
             "colorbar": {
              "outlinewidth": 0,
              "ticks": ""
             }
            },
            "type": "scattergeo"
           }
          ],
          "scattergl": [
           {
            "marker": {
             "colorbar": {
              "outlinewidth": 0,
              "ticks": ""
             }
            },
            "type": "scattergl"
           }
          ],
          "scattermap": [
           {
            "marker": {
             "colorbar": {
              "outlinewidth": 0,
              "ticks": ""
             }
            },
            "type": "scattermap"
           }
          ],
          "scattermapbox": [
           {
            "marker": {
             "colorbar": {
              "outlinewidth": 0,
              "ticks": ""
             }
            },
            "type": "scattermapbox"
           }
          ],
          "scatterpolar": [
           {
            "marker": {
             "colorbar": {
              "outlinewidth": 0,
              "ticks": ""
             }
            },
            "type": "scatterpolar"
           }
          ],
          "scatterpolargl": [
           {
            "marker": {
             "colorbar": {
              "outlinewidth": 0,
              "ticks": ""
             }
            },
            "type": "scatterpolargl"
           }
          ],
          "scatterternary": [
           {
            "marker": {
             "colorbar": {
              "outlinewidth": 0,
              "ticks": ""
             }
            },
            "type": "scatterternary"
           }
          ],
          "surface": [
           {
            "colorbar": {
             "outlinewidth": 0,
             "ticks": ""
            },
            "colorscale": [
             [
              0,
              "#0d0887"
             ],
             [
              0.1111111111111111,
              "#46039f"
             ],
             [
              0.2222222222222222,
              "#7201a8"
             ],
             [
              0.3333333333333333,
              "#9c179e"
             ],
             [
              0.4444444444444444,
              "#bd3786"
             ],
             [
              0.5555555555555556,
              "#d8576b"
             ],
             [
              0.6666666666666666,
              "#ed7953"
             ],
             [
              0.7777777777777778,
              "#fb9f3a"
             ],
             [
              0.8888888888888888,
              "#fdca26"
             ],
             [
              1,
              "#f0f921"
             ]
            ],
            "type": "surface"
           }
          ],
          "table": [
           {
            "cells": {
             "fill": {
              "color": "#EBF0F8"
             },
             "line": {
              "color": "white"
             }
            },
            "header": {
             "fill": {
              "color": "#C8D4E3"
             },
             "line": {
              "color": "white"
             }
            },
            "type": "table"
           }
          ]
         },
         "layout": {
          "annotationdefaults": {
           "arrowcolor": "#2a3f5f",
           "arrowhead": 0,
           "arrowwidth": 1
          },
          "autotypenumbers": "strict",
          "coloraxis": {
           "colorbar": {
            "outlinewidth": 0,
            "ticks": ""
           }
          },
          "colorscale": {
           "diverging": [
            [
             0,
             "#8e0152"
            ],
            [
             0.1,
             "#c51b7d"
            ],
            [
             0.2,
             "#de77ae"
            ],
            [
             0.3,
             "#f1b6da"
            ],
            [
             0.4,
             "#fde0ef"
            ],
            [
             0.5,
             "#f7f7f7"
            ],
            [
             0.6,
             "#e6f5d0"
            ],
            [
             0.7,
             "#b8e186"
            ],
            [
             0.8,
             "#7fbc41"
            ],
            [
             0.9,
             "#4d9221"
            ],
            [
             1,
             "#276419"
            ]
           ],
           "sequential": [
            [
             0,
             "#0d0887"
            ],
            [
             0.1111111111111111,
             "#46039f"
            ],
            [
             0.2222222222222222,
             "#7201a8"
            ],
            [
             0.3333333333333333,
             "#9c179e"
            ],
            [
             0.4444444444444444,
             "#bd3786"
            ],
            [
             0.5555555555555556,
             "#d8576b"
            ],
            [
             0.6666666666666666,
             "#ed7953"
            ],
            [
             0.7777777777777778,
             "#fb9f3a"
            ],
            [
             0.8888888888888888,
             "#fdca26"
            ],
            [
             1,
             "#f0f921"
            ]
           ],
           "sequentialminus": [
            [
             0,
             "#0d0887"
            ],
            [
             0.1111111111111111,
             "#46039f"
            ],
            [
             0.2222222222222222,
             "#7201a8"
            ],
            [
             0.3333333333333333,
             "#9c179e"
            ],
            [
             0.4444444444444444,
             "#bd3786"
            ],
            [
             0.5555555555555556,
             "#d8576b"
            ],
            [
             0.6666666666666666,
             "#ed7953"
            ],
            [
             0.7777777777777778,
             "#fb9f3a"
            ],
            [
             0.8888888888888888,
             "#fdca26"
            ],
            [
             1,
             "#f0f921"
            ]
           ]
          },
          "colorway": [
           "#636efa",
           "#EF553B",
           "#00cc96",
           "#ab63fa",
           "#FFA15A",
           "#19d3f3",
           "#FF6692",
           "#B6E880",
           "#FF97FF",
           "#FECB52"
          ],
          "font": {
           "color": "#2a3f5f"
          },
          "geo": {
           "bgcolor": "white",
           "lakecolor": "white",
           "landcolor": "#E5ECF6",
           "showlakes": true,
           "showland": true,
           "subunitcolor": "white"
          },
          "hoverlabel": {
           "align": "left"
          },
          "hovermode": "closest",
          "mapbox": {
           "style": "light"
          },
          "paper_bgcolor": "white",
          "plot_bgcolor": "#E5ECF6",
          "polar": {
           "angularaxis": {
            "gridcolor": "white",
            "linecolor": "white",
            "ticks": ""
           },
           "bgcolor": "#E5ECF6",
           "radialaxis": {
            "gridcolor": "white",
            "linecolor": "white",
            "ticks": ""
           }
          },
          "scene": {
           "xaxis": {
            "backgroundcolor": "#E5ECF6",
            "gridcolor": "white",
            "gridwidth": 2,
            "linecolor": "white",
            "showbackground": true,
            "ticks": "",
            "zerolinecolor": "white"
           },
           "yaxis": {
            "backgroundcolor": "#E5ECF6",
            "gridcolor": "white",
            "gridwidth": 2,
            "linecolor": "white",
            "showbackground": true,
            "ticks": "",
            "zerolinecolor": "white"
           },
           "zaxis": {
            "backgroundcolor": "#E5ECF6",
            "gridcolor": "white",
            "gridwidth": 2,
            "linecolor": "white",
            "showbackground": true,
            "ticks": "",
            "zerolinecolor": "white"
           }
          },
          "shapedefaults": {
           "line": {
            "color": "#2a3f5f"
           }
          },
          "ternary": {
           "aaxis": {
            "gridcolor": "white",
            "linecolor": "white",
            "ticks": ""
           },
           "baxis": {
            "gridcolor": "white",
            "linecolor": "white",
            "ticks": ""
           },
           "bgcolor": "#E5ECF6",
           "caxis": {
            "gridcolor": "white",
            "linecolor": "white",
            "ticks": ""
           }
          },
          "title": {
           "x": 0.05
          },
          "xaxis": {
           "automargin": true,
           "gridcolor": "white",
           "linecolor": "white",
           "ticks": "",
           "title": {
            "standoff": 15
           },
           "zerolinecolor": "white",
           "zerolinewidth": 2
          },
          "yaxis": {
           "automargin": true,
           "gridcolor": "white",
           "linecolor": "white",
           "ticks": "",
           "title": {
            "standoff": 15
           },
           "zerolinecolor": "white",
           "zerolinewidth": 2
          }
         }
        },
        "title": {
         "text": "cophenetic corr across normalized layers (↑)"
        },
        "xaxis": {
         "range": [
          0,
          1
         ],
         "title": {
          "text": "Normalized layer (0 → 1)"
         }
        },
        "yaxis": {
         "title": {
          "text": "cophenetic corr"
         }
        }
       }
      }
     },
     "metadata": {},
     "output_type": "display_data"
    }
   ],
   "source": [
    "# ===== データ準備 =====\n",
    "BASE_PATH = Path(\"/home/masaki/hierarchical-repr/EntityTree/output/eval_tree_popMiddle\")\n",
    "df_llama = load_llama3_8b(BASE_PATH)\n",
    "df_gpt2  = load_gpt2(BASE_PATH)\n",
    "df_single = load_singleton_models(BASE_PATH)   # random_emb / fasttext / gold_binary_balanced（L0のみ）\n",
    "\n",
    "# main 2モデル\n",
    "frames = [df for df in [df_gpt2, df_llama] if not df.empty]\n",
    "if not frames:\n",
    "    raise RuntimeError(\"gpt2 / Llama-3-8B のデータが見つかりません。パスやファイルを確認してください。\")\n",
    "df = pd.concat(frames, ignore_index=True)\n",
    "\n",
    "# 数値化\n",
    "for c in [\"layer\", \"jrf_k1\", \"jrf_k2\", \"gtd\", \"gqd\", \"cophenetic_corr\"]:\n",
    "    if c in df.columns:\n",
    "        df[c] = pd.to_numeric(df[c], errors=\"coerce\")\n",
    "if not df_single.empty:\n",
    "    for c in [\"jrf_k1\", \"jrf_k2\", \"gtd\", \"gqd\", \"cophenetic_corr\"]:\n",
    "        if c in df_single.columns:\n",
    "            df_single[c] = pd.to_numeric(df_single[c], errors=\"coerce\")\n",
    "\n",
    "# entity_only のみ\n",
    "df = df[df[\"template\"] == \"entity_only\"].copy()\n",
    "if not df_single.empty:\n",
    "    df_single = df_single[df_single[\"template\"] == \"entity_only\"].copy()\n",
    "\n",
    "# normalized layer（0層→0.0、最終層→1.0）\n",
    "df[\"normalized_layer\"] = df.groupby(\"model\")[\"layer\"].transform(\n",
    "    lambda s: s / s.max() if s.max() and s.max() > 0 else 0\n",
    ")\n",
    "\n",
    "\n",
    "df[\"model_disp\"] = df[\"model\"].map(to_disp)\n",
    "if not df_single.empty:\n",
    "    df_single[\"model_disp\"] = df_single[\"model\"].map(to_disp)\n",
    "\n",
    "# ===== 図ユーティリティ =====\n",
    "METRIC_INFO = {\n",
    "    \"jrf_k1\": (\"JRF(k=1)\", \"↓\"),\n",
    "    \"gtd\": (\"Generalized Triplet Distance\", \"↓\"),\n",
    "    \"gqd\": (\"Generalized Quartet Distance\", \"↓\"),\n",
    "    \"cophenetic_corr\": (\"cophenetic corr\", \"↑\"),\n",
    "}\n",
    "\n",
    "\n",
    "# ===== 4 指標をそれぞれ 1 図で可視化 =====\n",
    "fig_jrfk1 = plot_metric(df, \"jrf_k1\", df_single)\n",
    "fig_gtd   = plot_metric(df, \"gtd\", df_single)\n",
    "fig_gqd   = plot_metric(df, \"gqd\", df_single)\n",
    "fig_coph  = plot_metric(df, \"cophenetic_corr\", df_single)\n",
    "\n",
    "for f in [fig_jrfk1, fig_gtd, fig_gqd, fig_coph]:\n",
    "    if f is not None:\n",
    "        f.show()\n"
   ]
  },
  {
   "cell_type": "markdown",
   "id": "0aef9917",
   "metadata": {},
   "source": [
    "# Contextの違い"
   ]
  },
  {
   "cell_type": "code",
   "execution_count": 10,
   "id": "2acfbcfc",
   "metadata": {},
   "outputs": [],
   "source": [
    "# ==== Llama-3-8B 固定：templateごとの比較（ハードコード版） ====\n",
    "\n",
    "TEMPLATE_LIST = [\n",
    "    \"entity_only\",\n",
    "    \"gift\",\n",
    "    \"occupation_question\",\n",
    "    \"occupation_simple\",\n",
    "    \"profession_query\",\n",
    "    \"professional_intro\",\n",
    "]\n",
    "\n",
    "def load_llama8b_template_metrics_fixed(base_path: str, layer: int, include_src_path: bool=False) -> pd.DataFrame:\n",
    "    base = Path(base_path)\n",
    "    rows = []\n",
    "    for tmpl in TEMPLATE_LIST:\n",
    "        jf = base / \"meta-llama\" / \"Meta-Llama-3-8B\" / f\"template_{tmpl}\" / \"layer_all\" / f\"evaluation_results_L{layer}.json\"\n",
    "        if not jf.exists():\n",
    "            # 必要なら print で欠損を知らせる\n",
    "            # print(f\"[missing] {jf}\")\n",
    "            continue\n",
    "        try:\n",
    "            with open(jf, \"r\") as f:\n",
    "                data = json.load(f)\n",
    "        except Exception as e:\n",
    "            print(f\"Error loading {jf}: {e}\")\n",
    "            continue\n",
    "\n",
    "        # JSONのtemplateは信用せず、パスから上書き\n",
    "        row = {\n",
    "            \"model\": \"meta-llama/Meta-Llama-3-8B\",\n",
    "            \"layer\": int(layer),\n",
    "            \"template\": tmpl,\n",
    "            \"jrf_k1\": data.get(\"jrf_k1\"),\n",
    "            \"jrf_k2\": data.get(\"jrf_k2\"),\n",
    "            \"gtd\": data.get(\"gtd\"),\n",
    "            \"gqd\": data.get(\"gqd\"),\n",
    "            \"cophenetic_corr\": data.get(\"cophenetic_corr\"),\n",
    "        }\n",
    "        if include_src_path:\n",
    "            row[\"src_path\"] = str(jf)\n",
    "        rows.append(row)\n",
    "\n",
    "    df = pd.DataFrame(rows)\n",
    "    if df.empty:\n",
    "        print(\"No rows matched. ファイルが存在するか / layer 番号を確認してください。\")\n",
    "        return df\n",
    "\n",
    "    # 数値化\n",
    "    to_numeric_inplace(df, [\"jrf_k1\", \"jrf_k2\", \"gtd\", \"gqd\", \"cophenetic_corr\"])\n",
    "\n",
    "    # 表示順は TEMPLATE_LIST の順\n",
    "    df[\"template\"] = pd.Categorical(df[\"template\"], categories=TEMPLATE_LIST, ordered=True)\n",
    "    df = df.sort_values([\"template\"], kind=\"mergesort\")\n",
    "\n",
    "    # 列名リネーム（矢印付き）\n",
    "    rename = {\n",
    "        \"jrf_k1\": \"jrf_k1(↓)\",\n",
    "        \"jrf_k2\": \"jrf_k2(↓)\",\n",
    "        \"gtd\": \"Generalized Triplet Distance (↓)\",\n",
    "        \"gqd\": \"Generalized Quartet Distance (↓)\",\n",
    "        \"cophenetic_corr\": \"cophenetic corr (↑)\",\n",
    "    }\n",
    "    df = df.rename(columns=rename)\n",
    "\n",
    "    display_cols = [\"model\", \"layer\", \"template\",\n",
    "                    \"jrf_k1(↓)\", \"jrf_k2(↓)\",\n",
    "                    \"Generalized Triplet Distance (↓)\",\n",
    "                    \"Generalized Quartet Distance (↓)\",\n",
    "                    \"cophenetic corr (↑)\"]\n",
    "    if include_src_path:\n",
    "        display_cols.append(\"src_path\")\n",
    "\n",
    "    # 必要なら丸める（例：小数第3位）\n",
    "    num_cols = [c for c in [\"jrf_k1(↓)\",\"jrf_k2(↓)\",\"Generalized Triplet Distance (↓)\",\"Generalized Quartet Distance (↓)\",\"cophenetic corr (↑)\"] if c in df.columns]\n",
    "    df[num_cols] = df[num_cols].round(2)\n",
    "\n",
    "    return df[display_cols]\n"
   ]
  },
  {
   "cell_type": "code",
   "execution_count": 11,
   "id": "52a6c670",
   "metadata": {},
   "outputs": [
    {
     "data": {
      "text/html": [
       "<div>\n",
       "<style scoped>\n",
       "    .dataframe tbody tr th:only-of-type {\n",
       "        vertical-align: middle;\n",
       "    }\n",
       "\n",
       "    .dataframe tbody tr th {\n",
       "        vertical-align: top;\n",
       "    }\n",
       "\n",
       "    .dataframe thead th {\n",
       "        text-align: right;\n",
       "    }\n",
       "</style>\n",
       "<table border=\"1\" class=\"dataframe\">\n",
       "  <thead>\n",
       "    <tr style=\"text-align: right;\">\n",
       "      <th></th>\n",
       "      <th>model</th>\n",
       "      <th>layer</th>\n",
       "      <th>template</th>\n",
       "      <th>jrf_k1(↓)</th>\n",
       "      <th>jrf_k2(↓)</th>\n",
       "      <th>Generalized Triplet Distance (↓)</th>\n",
       "      <th>Generalized Quartet Distance (↓)</th>\n",
       "      <th>cophenetic corr (↑)</th>\n",
       "      <th>src_path</th>\n",
       "    </tr>\n",
       "  </thead>\n",
       "  <tbody>\n",
       "    <tr>\n",
       "      <th>0</th>\n",
       "      <td>meta-llama/Meta-Llama-3-8B</td>\n",
       "      <td>10</td>\n",
       "      <td>entity_only</td>\n",
       "      <td>86.77</td>\n",
       "      <td>88.93</td>\n",
       "      <td>0.42</td>\n",
       "      <td>0.30</td>\n",
       "      <td>0.19</td>\n",
       "      <td>/home/masaki/hierarchical-repr/EntityTree/output/eval_tree/meta-llama/Meta-Llama-3-8B/template_entity_only/layer_all/evaluation_results_L10.json</td>\n",
       "    </tr>\n",
       "    <tr>\n",
       "      <th>1</th>\n",
       "      <td>meta-llama/Meta-Llama-3-8B</td>\n",
       "      <td>10</td>\n",
       "      <td>gift</td>\n",
       "      <td>88.24</td>\n",
       "      <td>90.80</td>\n",
       "      <td>0.50</td>\n",
       "      <td>0.44</td>\n",
       "      <td>0.14</td>\n",
       "      <td>/home/masaki/hierarchical-repr/EntityTree/output/eval_tree/meta-llama/Meta-Llama-3-8B/template_gift/layer_all/evaluation_results_L10.json</td>\n",
       "    </tr>\n",
       "    <tr>\n",
       "      <th>2</th>\n",
       "      <td>meta-llama/Meta-Llama-3-8B</td>\n",
       "      <td>10</td>\n",
       "      <td>occupation_question</td>\n",
       "      <td>88.48</td>\n",
       "      <td>91.16</td>\n",
       "      <td>0.47</td>\n",
       "      <td>0.42</td>\n",
       "      <td>0.13</td>\n",
       "      <td>/home/masaki/hierarchical-repr/EntityTree/output/eval_tree/meta-llama/Meta-Llama-3-8B/template_occupation_question/layer_all/evaluation_results_L10.json</td>\n",
       "    </tr>\n",
       "    <tr>\n",
       "      <th>3</th>\n",
       "      <td>meta-llama/Meta-Llama-3-8B</td>\n",
       "      <td>10</td>\n",
       "      <td>occupation_simple</td>\n",
       "      <td>88.56</td>\n",
       "      <td>91.27</td>\n",
       "      <td>0.52</td>\n",
       "      <td>0.45</td>\n",
       "      <td>0.11</td>\n",
       "      <td>/home/masaki/hierarchical-repr/EntityTree/output/eval_tree/meta-llama/Meta-Llama-3-8B/template_occupation_simple/layer_all/evaluation_results_L10.json</td>\n",
       "    </tr>\n",
       "    <tr>\n",
       "      <th>4</th>\n",
       "      <td>meta-llama/Meta-Llama-3-8B</td>\n",
       "      <td>10</td>\n",
       "      <td>profession_query</td>\n",
       "      <td>88.17</td>\n",
       "      <td>90.95</td>\n",
       "      <td>0.48</td>\n",
       "      <td>0.43</td>\n",
       "      <td>0.12</td>\n",
       "      <td>/home/masaki/hierarchical-repr/EntityTree/output/eval_tree/meta-llama/Meta-Llama-3-8B/template_profession_query/layer_all/evaluation_results_L10.json</td>\n",
       "    </tr>\n",
       "    <tr>\n",
       "      <th>5</th>\n",
       "      <td>meta-llama/Meta-Llama-3-8B</td>\n",
       "      <td>10</td>\n",
       "      <td>professional_intro</td>\n",
       "      <td>88.58</td>\n",
       "      <td>91.36</td>\n",
       "      <td>0.50</td>\n",
       "      <td>0.45</td>\n",
       "      <td>0.11</td>\n",
       "      <td>/home/masaki/hierarchical-repr/EntityTree/output/eval_tree/meta-llama/Meta-Llama-3-8B/template_professional_intro/layer_all/evaluation_results_L10.json</td>\n",
       "    </tr>\n",
       "  </tbody>\n",
       "</table>\n",
       "</div>"
      ],
      "text/plain": [
       "                        model  layer             template  jrf_k1(↓)  \\\n",
       "0  meta-llama/Meta-Llama-3-8B     10          entity_only      86.77   \n",
       "1  meta-llama/Meta-Llama-3-8B     10                 gift      88.24   \n",
       "2  meta-llama/Meta-Llama-3-8B     10  occupation_question      88.48   \n",
       "3  meta-llama/Meta-Llama-3-8B     10    occupation_simple      88.56   \n",
       "4  meta-llama/Meta-Llama-3-8B     10     profession_query      88.17   \n",
       "5  meta-llama/Meta-Llama-3-8B     10   professional_intro      88.58   \n",
       "\n",
       "   jrf_k2(↓)  Generalized Triplet Distance (↓)  \\\n",
       "0      88.93                              0.42   \n",
       "1      90.80                              0.50   \n",
       "2      91.16                              0.47   \n",
       "3      91.27                              0.52   \n",
       "4      90.95                              0.48   \n",
       "5      91.36                              0.50   \n",
       "\n",
       "   Generalized Quartet Distance (↓)  cophenetic corr (↑)  \\\n",
       "0                              0.30                 0.19   \n",
       "1                              0.44                 0.14   \n",
       "2                              0.42                 0.13   \n",
       "3                              0.45                 0.11   \n",
       "4                              0.43                 0.12   \n",
       "5                              0.45                 0.11   \n",
       "\n",
       "                                                                                                                                                   src_path  \n",
       "0          /home/masaki/hierarchical-repr/EntityTree/output/eval_tree/meta-llama/Meta-Llama-3-8B/template_entity_only/layer_all/evaluation_results_L10.json  \n",
       "1                 /home/masaki/hierarchical-repr/EntityTree/output/eval_tree/meta-llama/Meta-Llama-3-8B/template_gift/layer_all/evaluation_results_L10.json  \n",
       "2  /home/masaki/hierarchical-repr/EntityTree/output/eval_tree/meta-llama/Meta-Llama-3-8B/template_occupation_question/layer_all/evaluation_results_L10.json  \n",
       "3    /home/masaki/hierarchical-repr/EntityTree/output/eval_tree/meta-llama/Meta-Llama-3-8B/template_occupation_simple/layer_all/evaluation_results_L10.json  \n",
       "4     /home/masaki/hierarchical-repr/EntityTree/output/eval_tree/meta-llama/Meta-Llama-3-8B/template_profession_query/layer_all/evaluation_results_L10.json  \n",
       "5   /home/masaki/hierarchical-repr/EntityTree/output/eval_tree/meta-llama/Meta-Llama-3-8B/template_professional_intro/layer_all/evaluation_results_L10.json  "
      ]
     },
     "metadata": {},
     "output_type": "display_data"
    }
   ],
   "source": [
    "BASE_PATH = \"/home/masaki/hierarchical-repr/EntityTree/output/eval_tree\"\n",
    "layer = 10\n",
    "\n",
    "df_templates = load_llama8b_template_metrics_fixed(BASE_PATH, layer=layer, include_src_path=True)\n",
    "display(df_templates)\n"
   ]
  },
  {
   "cell_type": "code",
   "execution_count": 12,
   "id": "dbaa0cf3",
   "metadata": {},
   "outputs": [],
   "source": [
    "import json\n",
    "import re\n",
    "from pathlib import Path\n",
    "import pandas as pd\n",
    "import plotly.graph_objects as go\n",
    "\n",
    "# ===== 対象テンプレート（この順で凡例表示） =====\n",
    "TEMPLATE_LIST = [\n",
    "    \"entity_only\",\n",
    "    \"gift\",\n",
    "    \"occupation_question\",\n",
    "    \"occupation_simple\",\n",
    "    \"profession_query\",\n",
    "    \"professional_intro\",\n",
    "]\n",
    "\n",
    "# ===== Llama-3-8B を template ごとにロード =====\n",
    "def load_llama3_8b_templates(base: Path, templates: list[str]) -> pd.DataFrame:\n",
    "    rows = []\n",
    "    for tmpl in templates:\n",
    "        root = base / \"meta-llama\" / \"Meta-Llama-3-8B\" / f\"template_{tmpl}\" / \"layer_all\"\n",
    "        if not root.exists():\n",
    "            continue\n",
    "        for jf in sorted(root.glob(\"evaluation_results_L*.json\")):\n",
    "            try:\n",
    "                with open(jf, \"r\") as f:\n",
    "                    data = json.load(f)\n",
    "            except Exception:\n",
    "                continue\n",
    "            m = re.search(r\"_L(\\d+)\\.json$\", jf.name)\n",
    "            layer = int(m.group(1)) if m else data.get(\"layer\")\n",
    "            rows.append({\n",
    "                \"model\": \"meta-llama/Meta-Llama-3-8B\",\n",
    "                \"template\": tmpl,  # JSON内のtemplateは使わずパス由来を採用\n",
    "                \"layer\": layer,\n",
    "                \"jrf_k1\": data.get(\"jrf_k1\"),\n",
    "                \"jrf_k2\": data.get(\"jrf_k2\"),\n",
    "                \"gtd\": data.get(\"gtd\"),\n",
    "                \"gqd\": data.get(\"gqd\"),\n",
    "                \"cophenetic_corr\": data.get(\"cophenetic_corr\"),\n",
    "            })\n",
    "    return pd.DataFrame(rows)\n",
    "\n",
    "def plot_metric_by_templates(df_metric: pd.DataFrame, metric_key: str):\n",
    "    label, arrow = METRIC_INFO[metric_key]\n",
    "    g = df_metric.dropna(subset=[metric_key, \"normalized_layer\"])\n",
    "    if g.empty:\n",
    "        print(f\"[warn] {metric_key} のデータが空です。スキップします。\")\n",
    "        return None\n",
    "\n",
    "    fig = go.Figure()\n",
    "\n",
    "    # TEMPLATE_LIST の順で描画（存在するものだけ）\n",
    "    for tmpl in TEMPLATE_LIST:\n",
    "        sub = g[g[\"template\"] == tmpl].sort_values(\"layer\")\n",
    "        if sub.empty:\n",
    "            continue\n",
    "        fig.add_trace(\n",
    "            go.Scatter(\n",
    "                x=sub[\"normalized_layer\"],\n",
    "                y=sub[metric_key],\n",
    "                mode=\"lines+markers\",\n",
    "                name=tmpl,\n",
    "                hovertemplate=\"Layer(norm)=%{x:.2f}<br>\"\n",
    "                              f\"{label}=%{{y:.2f}}<extra>{tmpl}</extra>\",\n",
    "            )\n",
    "        )\n",
    "\n",
    "    fig.update_layout(\n",
    "        title=f\"{MODEL_TITLE}: {label} across normalized layers ({arrow})\",\n",
    "        xaxis_title=\"Normalized layer (0 → 1)\",\n",
    "        yaxis_title=label,\n",
    "        legend_title=\"Template\",\n",
    "    )\n",
    "    # ここを変更（余白付きレンジ）\n",
    "    fig.update_xaxes(range=[-0.01, 1.01])\n",
    "    return fig\n"
   ]
  },
  {
   "cell_type": "code",
   "execution_count": 13,
   "id": "caab33ca",
   "metadata": {},
   "outputs": [
    {
     "data": {
      "application/vnd.plotly.v1+json": {
       "config": {
        "plotlyServerURL": "https://plot.ly"
       },
       "data": [
        {
         "hovertemplate": "Layer(norm)=%{x:.2f}<br>JRF(k=1)=%{y:.2f}<extra>entity_only</extra>",
         "mode": "lines+markers",
         "name": "entity_only",
         "type": "scatter",
         "x": {
          "bdata": "AAAAAAAAAAAAAAAAAACgPwAAAAAAALA/AAAAAAAAuD8AAAAAAADAPwAAAAAAAMQ/AAAAAAAAyD8AAAAAAADMPwAAAAAAANA/AAAAAAAA0j8AAAAAAADUPwAAAAAAANY/AAAAAAAA2D8AAAAAAADaPwAAAAAAANw/AAAAAAAA3j8AAAAAAADgPwAAAAAAAOE/AAAAAAAA4j8AAAAAAADjPwAAAAAAAOQ/AAAAAAAA5T8AAAAAAADmPwAAAAAAAOc/AAAAAAAA6D8AAAAAAADpPwAAAAAAAOo/AAAAAAAA6z8AAAAAAADsPwAAAAAAAO0/AAAAAAAA7j8AAAAAAADvPwAAAAAAAPA/",
          "dtype": "f8"
         },
         "y": {
          "bdata": "LVekC9OjVkAGCKB1kbJWQPCOmBc+mlZArKewnsKaVkDI1MDeMVVWQL4cYNnmG1ZAXL7lW771VUCtxEqsxNpVQEqSJEmS9FVA5DiO4zjeVUAZhmEYhrFVQGdmZmZm5lVAtmALtmDLVUDbrM3arP1VQMMwDMMwzFVAyYu8yIv8VUAl8c51TyJWQIp5O0Ni/lVAMW9nSMwzVkCjiy666BJWQFDrVwrUGlZAuPZ4dH3bVUBtsskmmwxWQALIPFMm8FVAXL7lW771VUDajYCUdvNVQM/zPM/z/FVAz/M8z/PsVUDP8zzP8+xVQM/zPM/z7FVAz/M8z/PsVUDP8zzP8+xVQDmO4ziO41VA",
          "dtype": "f8"
         }
        },
        {
         "hovertemplate": "Layer(norm)=%{x:.2f}<br>JRF(k=1)=%{y:.2f}<extra>gift</extra>",
         "mode": "lines+markers",
         "name": "gift",
         "type": "scatter",
         "x": {
          "bdata": "AAAAAAAAAAAAAAAAAACgPwAAAAAAALA/AAAAAAAAuD8AAAAAAADAPwAAAAAAAMQ/AAAAAAAAyD8AAAAAAADMPwAAAAAAANA/AAAAAAAA0j8AAAAAAADUPwAAAAAAANY/AAAAAAAA2D8AAAAAAADaPwAAAAAAANw/AAAAAAAA3j8AAAAAAADgPwAAAAAAAOE/AAAAAAAA4j8AAAAAAADjPwAAAAAAAOQ/AAAAAAAA5T8AAAAAAADmPwAAAAAAAOc/AAAAAAAA6D8AAAAAAADpPwAAAAAAAOo/AAAAAAAA6z8AAAAAAADsPwAAAAAAAO0/AAAAAAAA7j8AAAAAAADvPwAAAAAAAPA/",
          "dtype": "f8"
         },
         "y": {
          "bdata": "lABFe52YVkBqoA/opKpWQAirpISbhlZAXt//B4qqVkChKgfnQVRWQBD/8A//YFZADLZgC7ZQVkDe3d3d3f1VQAAAAAAA0FVAFo0EfPMKVkD6pE/6pA9WQIz4FRDeFFZAuTK3odVSVkDv7u7u7i5WQHIcx3Ec91VAsAVbsAUrVkCKndiJnUhWQKKTj/GcUVZARDd0Qzd0VkC5XBEtLmdWQAVO4AROQFZARDZkQzY0VkCIcyPj4VxWQED2Yz/2Y1ZAS1P8kghZVkCyySabbEJWQFZVVVVVNVZAAAAAAAAgVkCXvwIedSJWQA+mn2RtB1ZAjuM4juPoVUDkOI7jOP5VQDYyv9EQ9FVA",
          "dtype": "f8"
         }
        },
        {
         "hovertemplate": "Layer(norm)=%{x:.2f}<br>JRF(k=1)=%{y:.2f}<extra>occupation_question</extra>",
         "mode": "lines+markers",
         "name": "occupation_question",
         "type": "scatter",
         "x": {
          "bdata": "AAAAAAAAAAAAAAAAAACgPwAAAAAAALA/AAAAAAAAuD8AAAAAAADAPwAAAAAAAMQ/AAAAAAAAyD8AAAAAAADMPwAAAAAAANA/AAAAAAAA0j8AAAAAAADUPwAAAAAAANY/AAAAAAAA2D8AAAAAAADaPwAAAAAAANw/AAAAAAAA3j8AAAAAAADgPwAAAAAAAOE/AAAAAAAA4j8AAAAAAADjPwAAAAAAAOQ/AAAAAAAA5T8AAAAAAADmPwAAAAAAAOc/AAAAAAAA6D8AAAAAAADpPwAAAAAAAOo/AAAAAAAA6z8AAAAAAADsPwAAAAAAAO0/AAAAAAAA7j8AAAAAAADvPwAAAAAAAPA/",
          "dtype": "f8"
         },
         "y": {
          "bdata": "lABFe52YVkAPPB8366RWQKj34jpFeVZA4tV/pHChVkBoAk7tg25WQAAAAAAASFZAAAAAAABAVkBVVVVVVTVWQLESK7ESO1ZAAAAAAAAgVkDqkz7pkx5WQGaEAPGyClZA1DRN0zQdVkCCThvotClWQIJOG+i0IVZA5DiO4zg+VkAIH3zwwXdWQMphhCOZnFZAJn/R32eUVkDw+77v+35WQDQ3+3QSWVZAU9gQPHtcVkBSEnq9i2JWQCIiIiIiUlZADCcEkDZSVkDentYMWT9WQGpg75gaOFZAd4bEvJ0JVkDV60i9jvRVQKrbAuPc0VVADm9QGba2VUBLkKcEecpVQJqZmZmZyVVA",
          "dtype": "f8"
         }
        },
        {
         "hovertemplate": "Layer(norm)=%{x:.2f}<br>JRF(k=1)=%{y:.2f}<extra>occupation_simple</extra>",
         "mode": "lines+markers",
         "name": "occupation_simple",
         "type": "scatter",
         "x": {
          "bdata": "AAAAAAAAAAAAAAAAAACgPwAAAAAAALA/AAAAAAAAuD8AAAAAAADAPwAAAAAAAMQ/AAAAAAAAyD8AAAAAAADMPwAAAAAAANA/AAAAAAAA0j8AAAAAAADUPwAAAAAAANY/AAAAAAAA2D8AAAAAAADaPwAAAAAAANw/AAAAAAAA3j8AAAAAAADgPwAAAAAAAOE/AAAAAAAA4j8AAAAAAADjPwAAAAAAAOQ/AAAAAAAA5T8AAAAAAADmPwAAAAAAAOc/AAAAAAAA6D8AAAAAAADpPwAAAAAAAOo/AAAAAAAA6z8AAAAAAADsPwAAAAAAAO0/AAAAAAAA7j8AAAAAAADvPwAAAAAAAPA/",
          "dtype": "f8"
         },
         "y": {
          "bdata": "lABFe52YVkBqoA/opKpWQJJr0GOxh1ZA9a/LDKCiVkBcPx3hwH1WQFVVVVVVhVZAjuM4juNYVkCym8huIjtWQBRD/eWISFZAjisnQhIEVkB+QEhn4yNWQI7jOI7jKFZAamDvmBo4VkDACZzACSxWQEREREREFFZA/UqBWr/yVUB7qId6qDdWQDmO4ziOQ1ZAZsHf6ZdcVkBIgzRIg1RWQC4RCtYicFZAQ5OaD2B3VkDCwi1eBXFWQHTKkiBfc1ZAMzMzMzNjVkCg0wY6bVBWQLQLiE2lUVZAz/M8z/NcVkBHkkByJGlWQN+aCR/hbFZA/hyiU2tYVkC2gQz8ClxWQMK0faEwTVZA",
          "dtype": "f8"
         }
        },
        {
         "hovertemplate": "Layer(norm)=%{x:.2f}<br>JRF(k=1)=%{y:.2f}<extra>profession_query</extra>",
         "mode": "lines+markers",
         "name": "profession_query",
         "type": "scatter",
         "x": {
          "bdata": "AAAAAAAAAAAAAAAAAACgPwAAAAAAALA/AAAAAAAAuD8AAAAAAADAPwAAAAAAAMQ/AAAAAAAAyD8AAAAAAADMPwAAAAAAANA/AAAAAAAA0j8AAAAAAADUPwAAAAAAANY/AAAAAAAA2D8AAAAAAADaPwAAAAAAANw/AAAAAAAA3j8AAAAAAADgPwAAAAAAAOE/AAAAAAAA4j8AAAAAAADjPwAAAAAAAOQ/AAAAAAAA5T8AAAAAAADmPwAAAAAAAOc/AAAAAAAA6D8AAAAAAADpPwAAAAAAAOo/AAAAAAAA6z8AAAAAAADsPwAAAAAAAO0/AAAAAAAA7j8AAAAAAADvPwAAAAAAAPA/",
          "dtype": "f8"
         },
         "y": {
          "bdata": "lABFe52YVkBOMoN24aRWQFRABVRAhVZABhZ+eQOfVkAUMZlUDFdWQCVJkiRJQlZAW7AFW7A1VkAAAAAAACBWQM3MzMzMDFZAd3d3d3cnVkCrqqqqqgpWQDTRRBNNBFZAVlVVVVX1VUD3EtpLaN9VQB7cwR3cAVZAC7ZgC7YwVkDsxE7sxB5WQCEVUiEVQlZAhHLiD6FcVkCF9RTWU1hWQOcNmzdsXlZA3t3d3d2NVkBbxeK/YZhWQJAy4xthjVZA8dJ/fAGKVkDUGDCNAYNWQCBN7C2DdFZA4q1jZ9p3VkBqZKJZHnhWQCD5XfE+ZVZAtJjOYjo7VkCQ4D6C++hVQDmO4ziOA1ZA",
          "dtype": "f8"
         }
        },
        {
         "hovertemplate": "Layer(norm)=%{x:.2f}<br>JRF(k=1)=%{y:.2f}<extra>professional_intro</extra>",
         "mode": "lines+markers",
         "name": "professional_intro",
         "type": "scatter",
         "x": {
          "bdata": "AAAAAAAAAAAAAAAAAACgPwAAAAAAALA/AAAAAAAAuD8AAAAAAADAPwAAAAAAAMQ/AAAAAAAAyD8AAAAAAADMPwAAAAAAANA/AAAAAAAA0j8AAAAAAADUPwAAAAAAANY/AAAAAAAA2D8AAAAAAADaPwAAAAAAANw/AAAAAAAA3j8AAAAAAADgPwAAAAAAAOE/AAAAAAAA4j8AAAAAAADjPwAAAAAAAOQ/AAAAAAAA5T8AAAAAAADmPwAAAAAAAOc/AAAAAAAA6D8AAAAAAADpPwAAAAAAAOo/AAAAAAAA6z8AAAAAAADsPwAAAAAAAO0/AAAAAAAA7j8AAAAAAADvPwAAAAAAAPA/",
          "dtype": "f8"
         },
         "y": {
          "bdata": "lABFe52YVkAWYAqUZKVWQGiYdYZZh1ZALsq0KNOiVkDqMVDJrV9WQLJOwpDKYVZAy+zjmzIrVkBeIJPiBRJWQDpf36QJKVZADV68/3gGVkBVVVVVVSVWQAzDMAzDMFZA/uqv/ur/VUAr5B5ftSNWQPqkT/qk/1VAf6VArV/pVUCqqqqqqjpWQJHixCzBKVZAGkuU5Y5VVkDsHVMDe3dWQLMoi7Ioe1ZAO5Tm9HxpVkDTEyyVXHdWQIfO48Pza1ZAKNh2ObReVkB/lvNnOT9WQCpBnhLkOVZAKkGeEuQZVkAiIiIiIvJVQAtxCGbc9VVAxBX4X/TsVUCpS4w3RdtVQAu2YAu2AFZA",
          "dtype": "f8"
         }
        }
       ],
       "layout": {
        "legend": {
         "title": {
          "text": "Template"
         }
        },
        "template": {
         "data": {
          "bar": [
           {
            "error_x": {
             "color": "#2a3f5f"
            },
            "error_y": {
             "color": "#2a3f5f"
            },
            "marker": {
             "line": {
              "color": "#E5ECF6",
              "width": 0.5
             },
             "pattern": {
              "fillmode": "overlay",
              "size": 10,
              "solidity": 0.2
             }
            },
            "type": "bar"
           }
          ],
          "barpolar": [
           {
            "marker": {
             "line": {
              "color": "#E5ECF6",
              "width": 0.5
             },
             "pattern": {
              "fillmode": "overlay",
              "size": 10,
              "solidity": 0.2
             }
            },
            "type": "barpolar"
           }
          ],
          "carpet": [
           {
            "aaxis": {
             "endlinecolor": "#2a3f5f",
             "gridcolor": "white",
             "linecolor": "white",
             "minorgridcolor": "white",
             "startlinecolor": "#2a3f5f"
            },
            "baxis": {
             "endlinecolor": "#2a3f5f",
             "gridcolor": "white",
             "linecolor": "white",
             "minorgridcolor": "white",
             "startlinecolor": "#2a3f5f"
            },
            "type": "carpet"
           }
          ],
          "choropleth": [
           {
            "colorbar": {
             "outlinewidth": 0,
             "ticks": ""
            },
            "type": "choropleth"
           }
          ],
          "contour": [
           {
            "colorbar": {
             "outlinewidth": 0,
             "ticks": ""
            },
            "colorscale": [
             [
              0,
              "#0d0887"
             ],
             [
              0.1111111111111111,
              "#46039f"
             ],
             [
              0.2222222222222222,
              "#7201a8"
             ],
             [
              0.3333333333333333,
              "#9c179e"
             ],
             [
              0.4444444444444444,
              "#bd3786"
             ],
             [
              0.5555555555555556,
              "#d8576b"
             ],
             [
              0.6666666666666666,
              "#ed7953"
             ],
             [
              0.7777777777777778,
              "#fb9f3a"
             ],
             [
              0.8888888888888888,
              "#fdca26"
             ],
             [
              1,
              "#f0f921"
             ]
            ],
            "type": "contour"
           }
          ],
          "contourcarpet": [
           {
            "colorbar": {
             "outlinewidth": 0,
             "ticks": ""
            },
            "type": "contourcarpet"
           }
          ],
          "heatmap": [
           {
            "colorbar": {
             "outlinewidth": 0,
             "ticks": ""
            },
            "colorscale": [
             [
              0,
              "#0d0887"
             ],
             [
              0.1111111111111111,
              "#46039f"
             ],
             [
              0.2222222222222222,
              "#7201a8"
             ],
             [
              0.3333333333333333,
              "#9c179e"
             ],
             [
              0.4444444444444444,
              "#bd3786"
             ],
             [
              0.5555555555555556,
              "#d8576b"
             ],
             [
              0.6666666666666666,
              "#ed7953"
             ],
             [
              0.7777777777777778,
              "#fb9f3a"
             ],
             [
              0.8888888888888888,
              "#fdca26"
             ],
             [
              1,
              "#f0f921"
             ]
            ],
            "type": "heatmap"
           }
          ],
          "histogram": [
           {
            "marker": {
             "pattern": {
              "fillmode": "overlay",
              "size": 10,
              "solidity": 0.2
             }
            },
            "type": "histogram"
           }
          ],
          "histogram2d": [
           {
            "colorbar": {
             "outlinewidth": 0,
             "ticks": ""
            },
            "colorscale": [
             [
              0,
              "#0d0887"
             ],
             [
              0.1111111111111111,
              "#46039f"
             ],
             [
              0.2222222222222222,
              "#7201a8"
             ],
             [
              0.3333333333333333,
              "#9c179e"
             ],
             [
              0.4444444444444444,
              "#bd3786"
             ],
             [
              0.5555555555555556,
              "#d8576b"
             ],
             [
              0.6666666666666666,
              "#ed7953"
             ],
             [
              0.7777777777777778,
              "#fb9f3a"
             ],
             [
              0.8888888888888888,
              "#fdca26"
             ],
             [
              1,
              "#f0f921"
             ]
            ],
            "type": "histogram2d"
           }
          ],
          "histogram2dcontour": [
           {
            "colorbar": {
             "outlinewidth": 0,
             "ticks": ""
            },
            "colorscale": [
             [
              0,
              "#0d0887"
             ],
             [
              0.1111111111111111,
              "#46039f"
             ],
             [
              0.2222222222222222,
              "#7201a8"
             ],
             [
              0.3333333333333333,
              "#9c179e"
             ],
             [
              0.4444444444444444,
              "#bd3786"
             ],
             [
              0.5555555555555556,
              "#d8576b"
             ],
             [
              0.6666666666666666,
              "#ed7953"
             ],
             [
              0.7777777777777778,
              "#fb9f3a"
             ],
             [
              0.8888888888888888,
              "#fdca26"
             ],
             [
              1,
              "#f0f921"
             ]
            ],
            "type": "histogram2dcontour"
           }
          ],
          "mesh3d": [
           {
            "colorbar": {
             "outlinewidth": 0,
             "ticks": ""
            },
            "type": "mesh3d"
           }
          ],
          "parcoords": [
           {
            "line": {
             "colorbar": {
              "outlinewidth": 0,
              "ticks": ""
             }
            },
            "type": "parcoords"
           }
          ],
          "pie": [
           {
            "automargin": true,
            "type": "pie"
           }
          ],
          "scatter": [
           {
            "fillpattern": {
             "fillmode": "overlay",
             "size": 10,
             "solidity": 0.2
            },
            "type": "scatter"
           }
          ],
          "scatter3d": [
           {
            "line": {
             "colorbar": {
              "outlinewidth": 0,
              "ticks": ""
             }
            },
            "marker": {
             "colorbar": {
              "outlinewidth": 0,
              "ticks": ""
             }
            },
            "type": "scatter3d"
           }
          ],
          "scattercarpet": [
           {
            "marker": {
             "colorbar": {
              "outlinewidth": 0,
              "ticks": ""
             }
            },
            "type": "scattercarpet"
           }
          ],
          "scattergeo": [
           {
            "marker": {
             "colorbar": {
              "outlinewidth": 0,
              "ticks": ""
             }
            },
            "type": "scattergeo"
           }
          ],
          "scattergl": [
           {
            "marker": {
             "colorbar": {
              "outlinewidth": 0,
              "ticks": ""
             }
            },
            "type": "scattergl"
           }
          ],
          "scattermap": [
           {
            "marker": {
             "colorbar": {
              "outlinewidth": 0,
              "ticks": ""
             }
            },
            "type": "scattermap"
           }
          ],
          "scattermapbox": [
           {
            "marker": {
             "colorbar": {
              "outlinewidth": 0,
              "ticks": ""
             }
            },
            "type": "scattermapbox"
           }
          ],
          "scatterpolar": [
           {
            "marker": {
             "colorbar": {
              "outlinewidth": 0,
              "ticks": ""
             }
            },
            "type": "scatterpolar"
           }
          ],
          "scatterpolargl": [
           {
            "marker": {
             "colorbar": {
              "outlinewidth": 0,
              "ticks": ""
             }
            },
            "type": "scatterpolargl"
           }
          ],
          "scatterternary": [
           {
            "marker": {
             "colorbar": {
              "outlinewidth": 0,
              "ticks": ""
             }
            },
            "type": "scatterternary"
           }
          ],
          "surface": [
           {
            "colorbar": {
             "outlinewidth": 0,
             "ticks": ""
            },
            "colorscale": [
             [
              0,
              "#0d0887"
             ],
             [
              0.1111111111111111,
              "#46039f"
             ],
             [
              0.2222222222222222,
              "#7201a8"
             ],
             [
              0.3333333333333333,
              "#9c179e"
             ],
             [
              0.4444444444444444,
              "#bd3786"
             ],
             [
              0.5555555555555556,
              "#d8576b"
             ],
             [
              0.6666666666666666,
              "#ed7953"
             ],
             [
              0.7777777777777778,
              "#fb9f3a"
             ],
             [
              0.8888888888888888,
              "#fdca26"
             ],
             [
              1,
              "#f0f921"
             ]
            ],
            "type": "surface"
           }
          ],
          "table": [
           {
            "cells": {
             "fill": {
              "color": "#EBF0F8"
             },
             "line": {
              "color": "white"
             }
            },
            "header": {
             "fill": {
              "color": "#C8D4E3"
             },
             "line": {
              "color": "white"
             }
            },
            "type": "table"
           }
          ]
         },
         "layout": {
          "annotationdefaults": {
           "arrowcolor": "#2a3f5f",
           "arrowhead": 0,
           "arrowwidth": 1
          },
          "autotypenumbers": "strict",
          "coloraxis": {
           "colorbar": {
            "outlinewidth": 0,
            "ticks": ""
           }
          },
          "colorscale": {
           "diverging": [
            [
             0,
             "#8e0152"
            ],
            [
             0.1,
             "#c51b7d"
            ],
            [
             0.2,
             "#de77ae"
            ],
            [
             0.3,
             "#f1b6da"
            ],
            [
             0.4,
             "#fde0ef"
            ],
            [
             0.5,
             "#f7f7f7"
            ],
            [
             0.6,
             "#e6f5d0"
            ],
            [
             0.7,
             "#b8e186"
            ],
            [
             0.8,
             "#7fbc41"
            ],
            [
             0.9,
             "#4d9221"
            ],
            [
             1,
             "#276419"
            ]
           ],
           "sequential": [
            [
             0,
             "#0d0887"
            ],
            [
             0.1111111111111111,
             "#46039f"
            ],
            [
             0.2222222222222222,
             "#7201a8"
            ],
            [
             0.3333333333333333,
             "#9c179e"
            ],
            [
             0.4444444444444444,
             "#bd3786"
            ],
            [
             0.5555555555555556,
             "#d8576b"
            ],
            [
             0.6666666666666666,
             "#ed7953"
            ],
            [
             0.7777777777777778,
             "#fb9f3a"
            ],
            [
             0.8888888888888888,
             "#fdca26"
            ],
            [
             1,
             "#f0f921"
            ]
           ],
           "sequentialminus": [
            [
             0,
             "#0d0887"
            ],
            [
             0.1111111111111111,
             "#46039f"
            ],
            [
             0.2222222222222222,
             "#7201a8"
            ],
            [
             0.3333333333333333,
             "#9c179e"
            ],
            [
             0.4444444444444444,
             "#bd3786"
            ],
            [
             0.5555555555555556,
             "#d8576b"
            ],
            [
             0.6666666666666666,
             "#ed7953"
            ],
            [
             0.7777777777777778,
             "#fb9f3a"
            ],
            [
             0.8888888888888888,
             "#fdca26"
            ],
            [
             1,
             "#f0f921"
            ]
           ]
          },
          "colorway": [
           "#636efa",
           "#EF553B",
           "#00cc96",
           "#ab63fa",
           "#FFA15A",
           "#19d3f3",
           "#FF6692",
           "#B6E880",
           "#FF97FF",
           "#FECB52"
          ],
          "font": {
           "color": "#2a3f5f"
          },
          "geo": {
           "bgcolor": "white",
           "lakecolor": "white",
           "landcolor": "#E5ECF6",
           "showlakes": true,
           "showland": true,
           "subunitcolor": "white"
          },
          "hoverlabel": {
           "align": "left"
          },
          "hovermode": "closest",
          "mapbox": {
           "style": "light"
          },
          "paper_bgcolor": "white",
          "plot_bgcolor": "#E5ECF6",
          "polar": {
           "angularaxis": {
            "gridcolor": "white",
            "linecolor": "white",
            "ticks": ""
           },
           "bgcolor": "#E5ECF6",
           "radialaxis": {
            "gridcolor": "white",
            "linecolor": "white",
            "ticks": ""
           }
          },
          "scene": {
           "xaxis": {
            "backgroundcolor": "#E5ECF6",
            "gridcolor": "white",
            "gridwidth": 2,
            "linecolor": "white",
            "showbackground": true,
            "ticks": "",
            "zerolinecolor": "white"
           },
           "yaxis": {
            "backgroundcolor": "#E5ECF6",
            "gridcolor": "white",
            "gridwidth": 2,
            "linecolor": "white",
            "showbackground": true,
            "ticks": "",
            "zerolinecolor": "white"
           },
           "zaxis": {
            "backgroundcolor": "#E5ECF6",
            "gridcolor": "white",
            "gridwidth": 2,
            "linecolor": "white",
            "showbackground": true,
            "ticks": "",
            "zerolinecolor": "white"
           }
          },
          "shapedefaults": {
           "line": {
            "color": "#2a3f5f"
           }
          },
          "ternary": {
           "aaxis": {
            "gridcolor": "white",
            "linecolor": "white",
            "ticks": ""
           },
           "baxis": {
            "gridcolor": "white",
            "linecolor": "white",
            "ticks": ""
           },
           "bgcolor": "#E5ECF6",
           "caxis": {
            "gridcolor": "white",
            "linecolor": "white",
            "ticks": ""
           }
          },
          "title": {
           "x": 0.05
          },
          "xaxis": {
           "automargin": true,
           "gridcolor": "white",
           "linecolor": "white",
           "ticks": "",
           "title": {
            "standoff": 15
           },
           "zerolinecolor": "white",
           "zerolinewidth": 2
          },
          "yaxis": {
           "automargin": true,
           "gridcolor": "white",
           "linecolor": "white",
           "ticks": "",
           "title": {
            "standoff": 15
           },
           "zerolinecolor": "white",
           "zerolinewidth": 2
          }
         }
        },
        "title": {
         "text": "Llama-3-8B: JRF(k=1) across normalized layers (↓)"
        },
        "xaxis": {
         "range": [
          -0.01,
          1.01
         ],
         "title": {
          "text": "Normalized layer (0 → 1)"
         }
        },
        "yaxis": {
         "title": {
          "text": "JRF(k=1)"
         }
        }
       }
      }
     },
     "metadata": {},
     "output_type": "display_data"
    },
    {
     "data": {
      "application/vnd.plotly.v1+json": {
       "config": {
        "plotlyServerURL": "https://plot.ly"
       },
       "data": [
        {
         "hovertemplate": "Layer(norm)=%{x:.2f}<br>Generalized Triplet Distance=%{y:.2f}<extra>entity_only</extra>",
         "mode": "lines+markers",
         "name": "entity_only",
         "type": "scatter",
         "x": {
          "bdata": "AAAAAAAAAAAAAAAAAACgPwAAAAAAALA/AAAAAAAAuD8AAAAAAADAPwAAAAAAAMQ/AAAAAAAAyD8AAAAAAADMPwAAAAAAANA/AAAAAAAA0j8AAAAAAADUPwAAAAAAANY/AAAAAAAA2D8AAAAAAADaPwAAAAAAANw/AAAAAAAA3j8AAAAAAADgPwAAAAAAAOE/AAAAAAAA4j8AAAAAAADjPwAAAAAAAOQ/AAAAAAAA5T8AAAAAAADmPwAAAAAAAOc/AAAAAAAA6D8AAAAAAADpPwAAAAAAAOo/AAAAAAAA6z8AAAAAAADsPwAAAAAAAO0/AAAAAAAA7j8AAAAAAADvPwAAAAAAAPA/",
          "dtype": "f8"
         },
         "y": {
          "bdata": "YtCZVcCF5D9CExieBcfkPyp1EtcMEOQ/mJIMpeOx4z957HwxU/3hPyDnIGlDVOE/kAhgDeZ03z9EVKmTuGbgP80q4EJ+SOE/iOnjHCRt4D/AW13fAe3aPyLUc/vkyN0//tEbeKvr2z9k54uZ6o/eP4wuuuiii94/8KoV21Hm3z8w+3mYPs7hP5SOx84XM+E/xaAzq4AL4T/qTk3LqL3fP60CLuSHVOA/HDca9ogA3j+opmXU3ivgPzL/vm4KTeA/JG2IKnUS3z9U0zJq7xXeP2BOd2paRt0/eEC7lGQo3T+29wojwcbdP8pnLGJlad4/Wi/7eZg+3j9GWO5phOXeP67YjjL/vt4/",
          "dtype": "f8"
         }
        },
        {
         "hovertemplate": "Layer(norm)=%{x:.2f}<br>Generalized Triplet Distance=%{y:.2f}<extra>gift</extra>",
         "mode": "lines+markers",
         "name": "gift",
         "type": "scatter",
         "x": {
          "bdata": "AAAAAAAAAAAAAAAAAACgPwAAAAAAALA/AAAAAAAAuD8AAAAAAADAPwAAAAAAAMQ/AAAAAAAAyD8AAAAAAADMPwAAAAAAANA/AAAAAAAA0j8AAAAAAADUPwAAAAAAANY/AAAAAAAA2D8AAAAAAADaPwAAAAAAANw/AAAAAAAA3j8AAAAAAADgPwAAAAAAAOE/AAAAAAAA4j8AAAAAAADjPwAAAAAAAOQ/AAAAAAAA5T8AAAAAAADmPwAAAAAAAOc/AAAAAAAA6D8AAAAAAADpPwAAAAAAAOo/AAAAAAAA6z8AAAAAAADsPwAAAAAAAO0/AAAAAAAA7j8AAAAAAADvPwAAAAAAAPA/",
          "dtype": "f8"
         },
         "y": {
          "bdata": "yVA6Hjtf5D8mxQtkUrzkP9AuJRlKx+M/9Abe6voO5D/YjjL/vm7iPzqzCriQH+I/0oaoUidx4T8sjAQbNxreP7xAJsULZNo/AEGR9bKf3z8AAAAAAADgP76Yqf7oDeA/1AjLPY2w4D9KMpSOx87fP4prBgiKrN8/3JJ31Yrt4D9kKB2PnS/iPyyMBBs3GuI/CqGe2ydH4j85cnnC3X/iP3Z9B7RLSeI/LM2VEOq54T9ssskmm2ziP+8/5TMWseI/fge0S0mG4j9acIxvS97hP6fQBIZnweE/l7yrVmxH4T822WSTTTbhPxqLWFmaK+E/4AHtUpKh4D+gh+njHCThP85rcTgx6OA/",
          "dtype": "f8"
         }
        },
        {
         "hovertemplate": "Layer(norm)=%{x:.2f}<br>Generalized Triplet Distance=%{y:.2f}<extra>occupation_question</extra>",
         "mode": "lines+markers",
         "name": "occupation_question",
         "type": "scatter",
         "x": {
          "bdata": "AAAAAAAAAAAAAAAAAACgPwAAAAAAALA/AAAAAAAAuD8AAAAAAADAPwAAAAAAAMQ/AAAAAAAAyD8AAAAAAADMPwAAAAAAANA/AAAAAAAA0j8AAAAAAADUPwAAAAAAANY/AAAAAAAA2D8AAAAAAADaPwAAAAAAANw/AAAAAAAA3j8AAAAAAADgPwAAAAAAAOE/AAAAAAAA4j8AAAAAAADjPwAAAAAAAOQ/AAAAAAAA5T8AAAAAAADmPwAAAAAAAOc/AAAAAAAA6D8AAAAAAADpPwAAAAAAAOo/AAAAAAAA6z8AAAAAAADsPwAAAAAAAO0/AAAAAAAA7j8AAAAAAADvPwAAAAAAAPA/",
          "dtype": "f8"
         },
         "y": {
          "bdata": "yVA6Hjtf5D8yvi15V63kP/h1U2gCw+M/Nm407BEB5D9huacRlnviP1dCqOf2yeE/LnlXrdiO4j8w+3mYPs7hP+tlPw/Tx+E/SvECmRQv4D+6EkI9t0/eP7CbQhMYnt0/cGLQmVXA3T++LXlXrdjePxr2iADWYN4/q4AL+SEV4T/Rb7YO/WbjPxxODDqzCuQ/9ogA1mBO4z9QZL3s52HiP7KIlaW5EuI/ikFnVgEX4j8eZf593RTiP3otDicGneE/Fhzj25J34T+mJEPpeOzgP2S97Odh+uA/CriQH1JR4D+EzqwCLuTfP3T75MjlCd8/IhUF8Zdo3T9kKB2PnS/eP0bDHhHAGtw/",
          "dtype": "f8"
         }
        },
        {
         "hovertemplate": "Layer(norm)=%{x:.2f}<br>Generalized Triplet Distance=%{y:.2f}<extra>occupation_simple</extra>",
         "mode": "lines+markers",
         "name": "occupation_simple",
         "type": "scatter",
         "x": {
          "bdata": "AAAAAAAAAAAAAAAAAACgPwAAAAAAALA/AAAAAAAAuD8AAAAAAADAPwAAAAAAAMQ/AAAAAAAAyD8AAAAAAADMPwAAAAAAANA/AAAAAAAA0j8AAAAAAADUPwAAAAAAANY/AAAAAAAA2D8AAAAAAADaPwAAAAAAANw/AAAAAAAA3j8AAAAAAADgPwAAAAAAAOE/AAAAAAAA4j8AAAAAAADjPwAAAAAAAOQ/AAAAAAAA5T8AAAAAAADmPwAAAAAAAOc/AAAAAAAA6D8AAAAAAADpPwAAAAAAAOo/AAAAAAAA6z8AAAAAAADsPwAAAAAAAO0/AAAAAAAA7j8AAAAAAADvPwAAAAAAAPA/",
          "dtype": "f8"
         },
         "y": {
          "bdata": "yVA6Hjtf5D+empZRe6/kP/qjN/BW1+M/OJwYdGYV5D8wZqo/egPjP06hCQzPguM/EtcMEBRZ4z/sEQGswZziP4wuuuiii+I/T7j7T/mM4T+KF8ikeIHgP8T0cQ6SNuA/cCE/pKIg3j+dWQVcyA/hP/593RSawOA/GJ4Fx/i23D/zhLv/lM/gP8WgM6uAC+E/YjvK/Pu64T+wm0ITGJ7hPw79ZuvQb+I/mlXAhfyQ4j8oHY+dL2biP2xxODHozOI/rhkgKLJe4j/Qw/RxDpLiP+rjHCRtiOI/pk7imgGC4j9WwIX8kIriP0rHY+eLmeI/UGS97Odh4j9w4K2u74DiP0N+SEVB/OE/",
          "dtype": "f8"
         }
        },
        {
         "hovertemplate": "Layer(norm)=%{x:.2f}<br>Generalized Triplet Distance=%{y:.2f}<extra>profession_query</extra>",
         "mode": "lines+markers",
         "name": "profession_query",
         "type": "scatter",
         "x": {
          "bdata": "AAAAAAAAAAAAAAAAAACgPwAAAAAAALA/AAAAAAAAuD8AAAAAAADAPwAAAAAAAMQ/AAAAAAAAyD8AAAAAAADMPwAAAAAAANA/AAAAAAAA0j8AAAAAAADUPwAAAAAAANY/AAAAAAAA2D8AAAAAAADaPwAAAAAAANw/AAAAAAAA3j8AAAAAAADgPwAAAAAAAOE/AAAAAAAA4j8AAAAAAADjPwAAAAAAAOQ/AAAAAAAA5T8AAAAAAADmPwAAAAAAAOc/AAAAAAAA6D8AAAAAAADpPwAAAAAAAOo/AAAAAAAA6z8AAAAAAADsPwAAAAAAAO0/AAAAAAAA7j8AAAAAAADvPwAAAAAAAPA/",
          "dtype": "f8"
         },
         "y": {
          "bdata": "yVA6Hjtf5D/iL9Ha5rXkP2RSvEAmxeM/76oV21Hm4z+iIP4SrW3iP+6TI5cn3OE/8MEHH3zw4T9w95/yGYvgP/OEu/+Uz+A/pXiBTIoX4D/sEQGswZzeP8yovVcYCd4/Fhzj25J33T9Uf/QG3uraP8DwLDjGt90/asV2lPn34T9obfNaHE7gP0QAazCnO+E/0rBHBLAG4z+aVcCF/JDiP3vZz8P0ceI/au8VRoKN4z83r8XhxKDjP01geBYc4+M/U/3RG3ir4z83r8XhxKDjP0ZY7mmE5eI/ANZgTndq4j+U+fd1U2jiPy666KKLLuI/w7PgGN+W4D++bgpNYHjeP8JIsHGjYd8/",
          "dtype": "f8"
         }
        },
        {
         "hovertemplate": "Layer(norm)=%{x:.2f}<br>Generalized Triplet Distance=%{y:.2f}<extra>professional_intro</extra>",
         "mode": "lines+markers",
         "name": "professional_intro",
         "type": "scatter",
         "x": {
          "bdata": "AAAAAAAAAAAAAAAAAACgPwAAAAAAALA/AAAAAAAAuD8AAAAAAADAPwAAAAAAAMQ/AAAAAAAAyD8AAAAAAADMPwAAAAAAANA/AAAAAAAA0j8AAAAAAADUPwAAAAAAANY/AAAAAAAA2D8AAAAAAADaPwAAAAAAANw/AAAAAAAA3j8AAAAAAADgPwAAAAAAAOE/AAAAAAAA4j8AAAAAAADjPwAAAAAAAOQ/AAAAAAAA5T8AAAAAAADmPwAAAAAAAOc/AAAAAAAA6D8AAAAAAADpPwAAAAAAAOo/AAAAAAAA6z8AAAAAAADsPwAAAAAAAO0/AAAAAAAA7j8AAAAAAADvPwAAAAAAAPA/",
          "dtype": "f8"
         },
         "y": {
          "bdata": "yVA6Hjtf5D8yvi15V63kPwadWQVcyOM/lCOXJ9z94z8+zkHShqjiP5qWUXuvMOI/jvFtybtq4T9+3RSawPDgPxqLWFmaK+E//E/5jEWs4D84nBh0ZhXgP2gCw7PgGN8/MmrvFUaC3T/I5Ql3/ynfP7jRsEcEsN4/4AHtUpKh3D/ae4WRYOPeP5YQ6rl9cuA/Uubf102h4T/s0G+2Dv3iP6Ge2ydHLuM/luZKCPXc4j/s0G+2Dv3iP1juaYTlnuI/jC666KKL4j/Xod9sHfrhPw5RpU7imuE/AGswpzs14T/JUDoeO1/gP7spNIHhWeA/llF7rzAS4D9GF1100UXfPwLtUpKhdOA/",
          "dtype": "f8"
         }
        }
       ],
       "layout": {
        "legend": {
         "title": {
          "text": "Template"
         }
        },
        "template": {
         "data": {
          "bar": [
           {
            "error_x": {
             "color": "#2a3f5f"
            },
            "error_y": {
             "color": "#2a3f5f"
            },
            "marker": {
             "line": {
              "color": "#E5ECF6",
              "width": 0.5
             },
             "pattern": {
              "fillmode": "overlay",
              "size": 10,
              "solidity": 0.2
             }
            },
            "type": "bar"
           }
          ],
          "barpolar": [
           {
            "marker": {
             "line": {
              "color": "#E5ECF6",
              "width": 0.5
             },
             "pattern": {
              "fillmode": "overlay",
              "size": 10,
              "solidity": 0.2
             }
            },
            "type": "barpolar"
           }
          ],
          "carpet": [
           {
            "aaxis": {
             "endlinecolor": "#2a3f5f",
             "gridcolor": "white",
             "linecolor": "white",
             "minorgridcolor": "white",
             "startlinecolor": "#2a3f5f"
            },
            "baxis": {
             "endlinecolor": "#2a3f5f",
             "gridcolor": "white",
             "linecolor": "white",
             "minorgridcolor": "white",
             "startlinecolor": "#2a3f5f"
            },
            "type": "carpet"
           }
          ],
          "choropleth": [
           {
            "colorbar": {
             "outlinewidth": 0,
             "ticks": ""
            },
            "type": "choropleth"
           }
          ],
          "contour": [
           {
            "colorbar": {
             "outlinewidth": 0,
             "ticks": ""
            },
            "colorscale": [
             [
              0,
              "#0d0887"
             ],
             [
              0.1111111111111111,
              "#46039f"
             ],
             [
              0.2222222222222222,
              "#7201a8"
             ],
             [
              0.3333333333333333,
              "#9c179e"
             ],
             [
              0.4444444444444444,
              "#bd3786"
             ],
             [
              0.5555555555555556,
              "#d8576b"
             ],
             [
              0.6666666666666666,
              "#ed7953"
             ],
             [
              0.7777777777777778,
              "#fb9f3a"
             ],
             [
              0.8888888888888888,
              "#fdca26"
             ],
             [
              1,
              "#f0f921"
             ]
            ],
            "type": "contour"
           }
          ],
          "contourcarpet": [
           {
            "colorbar": {
             "outlinewidth": 0,
             "ticks": ""
            },
            "type": "contourcarpet"
           }
          ],
          "heatmap": [
           {
            "colorbar": {
             "outlinewidth": 0,
             "ticks": ""
            },
            "colorscale": [
             [
              0,
              "#0d0887"
             ],
             [
              0.1111111111111111,
              "#46039f"
             ],
             [
              0.2222222222222222,
              "#7201a8"
             ],
             [
              0.3333333333333333,
              "#9c179e"
             ],
             [
              0.4444444444444444,
              "#bd3786"
             ],
             [
              0.5555555555555556,
              "#d8576b"
             ],
             [
              0.6666666666666666,
              "#ed7953"
             ],
             [
              0.7777777777777778,
              "#fb9f3a"
             ],
             [
              0.8888888888888888,
              "#fdca26"
             ],
             [
              1,
              "#f0f921"
             ]
            ],
            "type": "heatmap"
           }
          ],
          "histogram": [
           {
            "marker": {
             "pattern": {
              "fillmode": "overlay",
              "size": 10,
              "solidity": 0.2
             }
            },
            "type": "histogram"
           }
          ],
          "histogram2d": [
           {
            "colorbar": {
             "outlinewidth": 0,
             "ticks": ""
            },
            "colorscale": [
             [
              0,
              "#0d0887"
             ],
             [
              0.1111111111111111,
              "#46039f"
             ],
             [
              0.2222222222222222,
              "#7201a8"
             ],
             [
              0.3333333333333333,
              "#9c179e"
             ],
             [
              0.4444444444444444,
              "#bd3786"
             ],
             [
              0.5555555555555556,
              "#d8576b"
             ],
             [
              0.6666666666666666,
              "#ed7953"
             ],
             [
              0.7777777777777778,
              "#fb9f3a"
             ],
             [
              0.8888888888888888,
              "#fdca26"
             ],
             [
              1,
              "#f0f921"
             ]
            ],
            "type": "histogram2d"
           }
          ],
          "histogram2dcontour": [
           {
            "colorbar": {
             "outlinewidth": 0,
             "ticks": ""
            },
            "colorscale": [
             [
              0,
              "#0d0887"
             ],
             [
              0.1111111111111111,
              "#46039f"
             ],
             [
              0.2222222222222222,
              "#7201a8"
             ],
             [
              0.3333333333333333,
              "#9c179e"
             ],
             [
              0.4444444444444444,
              "#bd3786"
             ],
             [
              0.5555555555555556,
              "#d8576b"
             ],
             [
              0.6666666666666666,
              "#ed7953"
             ],
             [
              0.7777777777777778,
              "#fb9f3a"
             ],
             [
              0.8888888888888888,
              "#fdca26"
             ],
             [
              1,
              "#f0f921"
             ]
            ],
            "type": "histogram2dcontour"
           }
          ],
          "mesh3d": [
           {
            "colorbar": {
             "outlinewidth": 0,
             "ticks": ""
            },
            "type": "mesh3d"
           }
          ],
          "parcoords": [
           {
            "line": {
             "colorbar": {
              "outlinewidth": 0,
              "ticks": ""
             }
            },
            "type": "parcoords"
           }
          ],
          "pie": [
           {
            "automargin": true,
            "type": "pie"
           }
          ],
          "scatter": [
           {
            "fillpattern": {
             "fillmode": "overlay",
             "size": 10,
             "solidity": 0.2
            },
            "type": "scatter"
           }
          ],
          "scatter3d": [
           {
            "line": {
             "colorbar": {
              "outlinewidth": 0,
              "ticks": ""
             }
            },
            "marker": {
             "colorbar": {
              "outlinewidth": 0,
              "ticks": ""
             }
            },
            "type": "scatter3d"
           }
          ],
          "scattercarpet": [
           {
            "marker": {
             "colorbar": {
              "outlinewidth": 0,
              "ticks": ""
             }
            },
            "type": "scattercarpet"
           }
          ],
          "scattergeo": [
           {
            "marker": {
             "colorbar": {
              "outlinewidth": 0,
              "ticks": ""
             }
            },
            "type": "scattergeo"
           }
          ],
          "scattergl": [
           {
            "marker": {
             "colorbar": {
              "outlinewidth": 0,
              "ticks": ""
             }
            },
            "type": "scattergl"
           }
          ],
          "scattermap": [
           {
            "marker": {
             "colorbar": {
              "outlinewidth": 0,
              "ticks": ""
             }
            },
            "type": "scattermap"
           }
          ],
          "scattermapbox": [
           {
            "marker": {
             "colorbar": {
              "outlinewidth": 0,
              "ticks": ""
             }
            },
            "type": "scattermapbox"
           }
          ],
          "scatterpolar": [
           {
            "marker": {
             "colorbar": {
              "outlinewidth": 0,
              "ticks": ""
             }
            },
            "type": "scatterpolar"
           }
          ],
          "scatterpolargl": [
           {
            "marker": {
             "colorbar": {
              "outlinewidth": 0,
              "ticks": ""
             }
            },
            "type": "scatterpolargl"
           }
          ],
          "scatterternary": [
           {
            "marker": {
             "colorbar": {
              "outlinewidth": 0,
              "ticks": ""
             }
            },
            "type": "scatterternary"
           }
          ],
          "surface": [
           {
            "colorbar": {
             "outlinewidth": 0,
             "ticks": ""
            },
            "colorscale": [
             [
              0,
              "#0d0887"
             ],
             [
              0.1111111111111111,
              "#46039f"
             ],
             [
              0.2222222222222222,
              "#7201a8"
             ],
             [
              0.3333333333333333,
              "#9c179e"
             ],
             [
              0.4444444444444444,
              "#bd3786"
             ],
             [
              0.5555555555555556,
              "#d8576b"
             ],
             [
              0.6666666666666666,
              "#ed7953"
             ],
             [
              0.7777777777777778,
              "#fb9f3a"
             ],
             [
              0.8888888888888888,
              "#fdca26"
             ],
             [
              1,
              "#f0f921"
             ]
            ],
            "type": "surface"
           }
          ],
          "table": [
           {
            "cells": {
             "fill": {
              "color": "#EBF0F8"
             },
             "line": {
              "color": "white"
             }
            },
            "header": {
             "fill": {
              "color": "#C8D4E3"
             },
             "line": {
              "color": "white"
             }
            },
            "type": "table"
           }
          ]
         },
         "layout": {
          "annotationdefaults": {
           "arrowcolor": "#2a3f5f",
           "arrowhead": 0,
           "arrowwidth": 1
          },
          "autotypenumbers": "strict",
          "coloraxis": {
           "colorbar": {
            "outlinewidth": 0,
            "ticks": ""
           }
          },
          "colorscale": {
           "diverging": [
            [
             0,
             "#8e0152"
            ],
            [
             0.1,
             "#c51b7d"
            ],
            [
             0.2,
             "#de77ae"
            ],
            [
             0.3,
             "#f1b6da"
            ],
            [
             0.4,
             "#fde0ef"
            ],
            [
             0.5,
             "#f7f7f7"
            ],
            [
             0.6,
             "#e6f5d0"
            ],
            [
             0.7,
             "#b8e186"
            ],
            [
             0.8,
             "#7fbc41"
            ],
            [
             0.9,
             "#4d9221"
            ],
            [
             1,
             "#276419"
            ]
           ],
           "sequential": [
            [
             0,
             "#0d0887"
            ],
            [
             0.1111111111111111,
             "#46039f"
            ],
            [
             0.2222222222222222,
             "#7201a8"
            ],
            [
             0.3333333333333333,
             "#9c179e"
            ],
            [
             0.4444444444444444,
             "#bd3786"
            ],
            [
             0.5555555555555556,
             "#d8576b"
            ],
            [
             0.6666666666666666,
             "#ed7953"
            ],
            [
             0.7777777777777778,
             "#fb9f3a"
            ],
            [
             0.8888888888888888,
             "#fdca26"
            ],
            [
             1,
             "#f0f921"
            ]
           ],
           "sequentialminus": [
            [
             0,
             "#0d0887"
            ],
            [
             0.1111111111111111,
             "#46039f"
            ],
            [
             0.2222222222222222,
             "#7201a8"
            ],
            [
             0.3333333333333333,
             "#9c179e"
            ],
            [
             0.4444444444444444,
             "#bd3786"
            ],
            [
             0.5555555555555556,
             "#d8576b"
            ],
            [
             0.6666666666666666,
             "#ed7953"
            ],
            [
             0.7777777777777778,
             "#fb9f3a"
            ],
            [
             0.8888888888888888,
             "#fdca26"
            ],
            [
             1,
             "#f0f921"
            ]
           ]
          },
          "colorway": [
           "#636efa",
           "#EF553B",
           "#00cc96",
           "#ab63fa",
           "#FFA15A",
           "#19d3f3",
           "#FF6692",
           "#B6E880",
           "#FF97FF",
           "#FECB52"
          ],
          "font": {
           "color": "#2a3f5f"
          },
          "geo": {
           "bgcolor": "white",
           "lakecolor": "white",
           "landcolor": "#E5ECF6",
           "showlakes": true,
           "showland": true,
           "subunitcolor": "white"
          },
          "hoverlabel": {
           "align": "left"
          },
          "hovermode": "closest",
          "mapbox": {
           "style": "light"
          },
          "paper_bgcolor": "white",
          "plot_bgcolor": "#E5ECF6",
          "polar": {
           "angularaxis": {
            "gridcolor": "white",
            "linecolor": "white",
            "ticks": ""
           },
           "bgcolor": "#E5ECF6",
           "radialaxis": {
            "gridcolor": "white",
            "linecolor": "white",
            "ticks": ""
           }
          },
          "scene": {
           "xaxis": {
            "backgroundcolor": "#E5ECF6",
            "gridcolor": "white",
            "gridwidth": 2,
            "linecolor": "white",
            "showbackground": true,
            "ticks": "",
            "zerolinecolor": "white"
           },
           "yaxis": {
            "backgroundcolor": "#E5ECF6",
            "gridcolor": "white",
            "gridwidth": 2,
            "linecolor": "white",
            "showbackground": true,
            "ticks": "",
            "zerolinecolor": "white"
           },
           "zaxis": {
            "backgroundcolor": "#E5ECF6",
            "gridcolor": "white",
            "gridwidth": 2,
            "linecolor": "white",
            "showbackground": true,
            "ticks": "",
            "zerolinecolor": "white"
           }
          },
          "shapedefaults": {
           "line": {
            "color": "#2a3f5f"
           }
          },
          "ternary": {
           "aaxis": {
            "gridcolor": "white",
            "linecolor": "white",
            "ticks": ""
           },
           "baxis": {
            "gridcolor": "white",
            "linecolor": "white",
            "ticks": ""
           },
           "bgcolor": "#E5ECF6",
           "caxis": {
            "gridcolor": "white",
            "linecolor": "white",
            "ticks": ""
           }
          },
          "title": {
           "x": 0.05
          },
          "xaxis": {
           "automargin": true,
           "gridcolor": "white",
           "linecolor": "white",
           "ticks": "",
           "title": {
            "standoff": 15
           },
           "zerolinecolor": "white",
           "zerolinewidth": 2
          },
          "yaxis": {
           "automargin": true,
           "gridcolor": "white",
           "linecolor": "white",
           "ticks": "",
           "title": {
            "standoff": 15
           },
           "zerolinecolor": "white",
           "zerolinewidth": 2
          }
         }
        },
        "title": {
         "text": "Llama-3-8B: Generalized Triplet Distance across normalized layers (↓)"
        },
        "xaxis": {
         "range": [
          -0.01,
          1.01
         ],
         "title": {
          "text": "Normalized layer (0 → 1)"
         }
        },
        "yaxis": {
         "title": {
          "text": "Generalized Triplet Distance"
         }
        }
       }
      }
     },
     "metadata": {},
     "output_type": "display_data"
    },
    {
     "data": {
      "application/vnd.plotly.v1+json": {
       "config": {
        "plotlyServerURL": "https://plot.ly"
       },
       "data": [
        {
         "hovertemplate": "Layer(norm)=%{x:.2f}<br>Generalized Quartet Distance=%{y:.2f}<extra>entity_only</extra>",
         "mode": "lines+markers",
         "name": "entity_only",
         "type": "scatter",
         "x": {
          "bdata": "AAAAAAAAAAAAAAAAAACgPwAAAAAAALA/AAAAAAAAuD8AAAAAAADAPwAAAAAAAMQ/AAAAAAAAyD8AAAAAAADMPwAAAAAAANA/AAAAAAAA0j8AAAAAAADUPwAAAAAAANY/AAAAAAAA2D8AAAAAAADaPwAAAAAAANw/AAAAAAAA3j8AAAAAAADgPwAAAAAAAOE/AAAAAAAA4j8AAAAAAADjPwAAAAAAAOQ/AAAAAAAA5T8AAAAAAADmPwAAAAAAAOc/AAAAAAAA6D8AAAAAAADpPwAAAAAAAOo/AAAAAAAA6z8AAAAAAADsPwAAAAAAAO0/AAAAAAAA7j8AAAAAAADvPwAAAAAAAPA/",
          "dtype": "f8"
         },
         "y": {
          "bdata": "UucNsMts4z+Auao/p1PkPzTU+xf2eOI/oCcc3oLP4j98HUE0/vTfP05uMJTW2N0/PNZaoBAL2z8mEUgMZCvbP572tSkQY94/dGhn7SpJ2z84rUYUtlPTP7Q1i5/qOtc/DtrEvqEI1T86sIpiCUrYPwIefhXvC9g/RGmNvWhQ2j+iDOIW57nfP679t4iYfd4/rN85c6lx3j9sfRkYIHLaP+ixa/8tItw/dGhn7SpJ2T+uhx679t/aP2adYbmARts/XiFATzi82T8+7IaN52HYP3xHOoaRENo/lOnAKool2j/inCTYjy/bP4CPse0TONw/6rjYYQ1z3D8Gyaarj3DdP3QMIyHsXNw/",
          "dtype": "f8"
         }
        },
        {
         "hovertemplate": "Layer(norm)=%{x:.2f}<br>Generalized Quartet Distance=%{y:.2f}<extra>gift</extra>",
         "mode": "lines+markers",
         "name": "gift",
         "type": "scatter",
         "x": {
          "bdata": "AAAAAAAAAAAAAAAAAACgPwAAAAAAALA/AAAAAAAAuD8AAAAAAADAPwAAAAAAAMQ/AAAAAAAAyD8AAAAAAADMPwAAAAAAANA/AAAAAAAA0j8AAAAAAADUPwAAAAAAANY/AAAAAAAA2D8AAAAAAADaPwAAAAAAANw/AAAAAAAA3j8AAAAAAADgPwAAAAAAAOE/AAAAAAAA4j8AAAAAAADjPwAAAAAAAOQ/AAAAAAAA5T8AAAAAAADmPwAAAAAAAOc/AAAAAAAA6D8AAAAAAADpPwAAAAAAAOo/AAAAAAAA6z8AAAAAAADsPwAAAAAAAO0/AAAAAAAA7j8AAAAAAADvPwAAAAAAAPA/",
          "dtype": "f8"
         },
         "y": {
          "bdata": "VBydeMoz4z/eBOTgcivkP82OtRYoxOE/ZH/jo5E64z+ofW0KxJjgP2RV6lH+HuA/XIGtLwMD4D8e6RhGQtjZP6arj3DjDtc/vLGsCTPF2j9eySSXhSrcP4Dfen2uFN0/Jg0f+NfQ3z/ShX4o16rdPxQlgHR3Jt4/rMgowJm23j/uzgRP5MngP54JnsiTw+A/yvqdM5ca4T9gGe4mIAfhPzxnLjVOvuA/gmj86dMS4D/qEPQZwAThP9R9LAC/9eA/fu8ezt5+4D8iUzfXP2bfP+78JrUDQN8/2sjntZQT3j8g3Z0JnsjdPw5rmFPfu90/6MRTnrGC3D+Ehnr/wh7dP/b+hT0e0ts/",
          "dtype": "f8"
         }
        },
        {
         "hovertemplate": "Layer(norm)=%{x:.2f}<br>Generalized Quartet Distance=%{y:.2f}<extra>occupation_question</extra>",
         "mode": "lines+markers",
         "name": "occupation_question",
         "type": "scatter",
         "x": {
          "bdata": "AAAAAAAAAAAAAAAAAACgPwAAAAAAALA/AAAAAAAAuD8AAAAAAADAPwAAAAAAAMQ/AAAAAAAAyD8AAAAAAADMPwAAAAAAANA/AAAAAAAA0j8AAAAAAADUPwAAAAAAANY/AAAAAAAA2D8AAAAAAADaPwAAAAAAANw/AAAAAAAA3j8AAAAAAADgPwAAAAAAAOE/AAAAAAAA4j8AAAAAAADjPwAAAAAAAOQ/AAAAAAAA5T8AAAAAAADmPwAAAAAAAOc/AAAAAAAA6D8AAAAAAADpPwAAAAAAAOo/AAAAAAAA6z8AAAAAAADsPwAAAAAAAO0/AAAAAAAA7j8AAAAAAADvPwAAAAAAAPA/",
          "dtype": "f8"
         },
         "y": {
          "bdata": "VBydeMoz4z+BWT1f3AzkP+BfQ+d4s+E/smfWGZYL4z8KGIt18ejgP/qOdAwjIeA/UDST8RJT4T9a4RoQzkngP8Cwx0P6YOA/csCCpd3a3D/amsVPdZ3aP1Y+RKJFmtk/UkNSfApZ2z+K6EZoqPfbP1aODTLgdtw/Tho+8K+h3z9FyBXY+jLjPxh0ZD7ZnuM/OJIMTRo+4j8kNNT7F/bgP+v54mawSeA/NY/I/sZH4D94kXt5hQDgP+It+GzN4t0/yg2G0hp73T8Q0nKWiVPcP5KhScMH/ts/8hJTotqW2j8Cs3q+uBnaP0aa83HbvNg/4PyRuFp21z8kn9dSTujYP4igzwAm0Nc/",
          "dtype": "f8"
         }
        },
        {
         "hovertemplate": "Layer(norm)=%{x:.2f}<br>Generalized Quartet Distance=%{y:.2f}<extra>occupation_simple</extra>",
         "mode": "lines+markers",
         "name": "occupation_simple",
         "type": "scatter",
         "x": {
          "bdata": "AAAAAAAAAAAAAAAAAACgPwAAAAAAALA/AAAAAAAAuD8AAAAAAADAPwAAAAAAAMQ/AAAAAAAAyD8AAAAAAADMPwAAAAAAANA/AAAAAAAA0j8AAAAAAADUPwAAAAAAANY/AAAAAAAA2D8AAAAAAADaPwAAAAAAANw/AAAAAAAA3j8AAAAAAADgPwAAAAAAAOE/AAAAAAAA4j8AAAAAAADjPwAAAAAAAOQ/AAAAAAAA5T8AAAAAAADmPwAAAAAAAOc/AAAAAAAA6D8AAAAAAADpPwAAAAAAAOo/AAAAAAAA6z8AAAAAAADsPwAAAAAAAO0/AAAAAAAA7j8AAAAAAADvPwAAAAAAAPA/",
          "dtype": "f8"
         },
         "y": {
          "bdata": "VBydeMoz4z8IP0B5MQ7kPxvm1Pfu4eE/yBXY+jIw4z8E1SHoM4DhP/4xS3qr0OI/DH9luJuA4j+Yp9FfrurgP6osv7TwV+E/BP8aOseb3z80afjAv4bcP44kQ5OGD94/oGgm4yWm3D9IvJqbViPeP4A3ljVhpt4/epjo22RR2T/GEpSs3znfPxBMNXi3S98/i4wCnGkL4D/+jY9G6rzfP1r4K8PdBOE/PTXjuqLt4D/cTUAOLrfgP8cdKiNL5eA/yVK560ms4D/bPoGDNrHgP8bJN38kruA/sUUv8Bql4D+DZNPVR7jgP3zJTpDXveA/iVdz02pE4D8+MbqmFpPgPypJGyO26N8/",
          "dtype": "f8"
         }
        },
        {
         "hovertemplate": "Layer(norm)=%{x:.2f}<br>Generalized Quartet Distance=%{y:.2f}<extra>profession_query</extra>",
         "mode": "lines+markers",
         "name": "profession_query",
         "type": "scatter",
         "x": {
          "bdata": "AAAAAAAAAAAAAAAAAACgPwAAAAAAALA/AAAAAAAAuD8AAAAAAADAPwAAAAAAAMQ/AAAAAAAAyD8AAAAAAADMPwAAAAAAANA/AAAAAAAA0j8AAAAAAADUPwAAAAAAANY/AAAAAAAA2D8AAAAAAADaPwAAAAAAANw/AAAAAAAA3j8AAAAAAADgPwAAAAAAAOE/AAAAAAAA4j8AAAAAAADjPwAAAAAAAOQ/AAAAAAAA5T8AAAAAAADmPwAAAAAAAOc/AAAAAAAA6D8AAAAAAADpPwAAAAAAAOo/AAAAAAAA6z8AAAAAAADsPwAAAAAAAO0/AAAAAAAA7j8AAAAAAADvPwAAAAAAAPA/",
          "dtype": "f8"
         },
         "y": {
          "bdata": "VBydeMoz4z8235GOYSTkP4D2izC+z+E/Wvgrw90E4z8SbtyhMrLgP5hXCNATDuA/5EdNbjCU4D+a3GAorbHdP6Kh3r+wx90/Tn3vHs7e3D8g9K68rYPbP8xR1CURSNo//KzyIRIt2j8aQhnELc7XP0idN8Aus9k/tW5DfHVc4T/KN38krpbgPxSQg8utGOE/xEC2Ev+v4j/uEzhoE/vhP+lCP5Rr1eE/D1SHoM8A4z/2DUXIFdjiP4t18ehZUOM/1nGxwxrm4j+SI17NTaviPy38leFuAuI/pyl7Zp1h4T+BxEC2Ev/gP9LKsUEG3OA/kuJTyKrU3T9qY8QWvcDZP9qH3bDxPNw/",
          "dtype": "f8"
         }
        },
        {
         "hovertemplate": "Layer(norm)=%{x:.2f}<br>Generalized Quartet Distance=%{y:.2f}<extra>professional_intro</extra>",
         "mode": "lines+markers",
         "name": "professional_intro",
         "type": "scatter",
         "x": {
          "bdata": "AAAAAAAAAAAAAAAAAACgPwAAAAAAALA/AAAAAAAAuD8AAAAAAADAPwAAAAAAAMQ/AAAAAAAAyD8AAAAAAADMPwAAAAAAANA/AAAAAAAA0j8AAAAAAADUPwAAAAAAANY/AAAAAAAA2D8AAAAAAADaPwAAAAAAANw/AAAAAAAA3j8AAAAAAADgPwAAAAAAAOE/AAAAAAAA4j8AAAAAAADjPwAAAAAAAOQ/AAAAAAAA5T8AAAAAAADmPwAAAAAAAOc/AAAAAAAA6D8AAAAAAADpPwAAAAAAAOo/AAAAAAAA6z8AAAAAAADsPwAAAAAAAO0/AAAAAAAA7j8AAAAAAADvPwAAAAAAAPA/",
          "dtype": "f8"
         },
         "y": {
          "bdata": "VBydeMoz4z92nfa1KRDkPySEnYuy0uE/3OZly4Mf4z/sG4qQK7DgP8L8Z78I498/bDjm/vBA3z9wqla4BoTdP1wDwjlJsN0/VC+FF06U3D+0IqMAZ9rcP0QgMZCtxNs/EH6A8mIc2j8cDKU19qLbPyh0+TqCaNo/5DA8uyDZ2D/gSDI0afjcPzgj4OFX8dw/q72SSS4L4D84OvGUZ6zhP1YnM+813+E/YVKmA6so4T/KdGAVxRLhP9i9UT8paOA/oliCkvU74D/IBhlwOyrfP2iVD5Fokd4/fOBfQ+d43T+QHPFqblrbP+APelfe1ts/ZhtNrzqZ2z/+9GmJlFTaP7z23yJi9ts/",
          "dtype": "f8"
         }
        }
       ],
       "layout": {
        "legend": {
         "title": {
          "text": "Template"
         }
        },
        "template": {
         "data": {
          "bar": [
           {
            "error_x": {
             "color": "#2a3f5f"
            },
            "error_y": {
             "color": "#2a3f5f"
            },
            "marker": {
             "line": {
              "color": "#E5ECF6",
              "width": 0.5
             },
             "pattern": {
              "fillmode": "overlay",
              "size": 10,
              "solidity": 0.2
             }
            },
            "type": "bar"
           }
          ],
          "barpolar": [
           {
            "marker": {
             "line": {
              "color": "#E5ECF6",
              "width": 0.5
             },
             "pattern": {
              "fillmode": "overlay",
              "size": 10,
              "solidity": 0.2
             }
            },
            "type": "barpolar"
           }
          ],
          "carpet": [
           {
            "aaxis": {
             "endlinecolor": "#2a3f5f",
             "gridcolor": "white",
             "linecolor": "white",
             "minorgridcolor": "white",
             "startlinecolor": "#2a3f5f"
            },
            "baxis": {
             "endlinecolor": "#2a3f5f",
             "gridcolor": "white",
             "linecolor": "white",
             "minorgridcolor": "white",
             "startlinecolor": "#2a3f5f"
            },
            "type": "carpet"
           }
          ],
          "choropleth": [
           {
            "colorbar": {
             "outlinewidth": 0,
             "ticks": ""
            },
            "type": "choropleth"
           }
          ],
          "contour": [
           {
            "colorbar": {
             "outlinewidth": 0,
             "ticks": ""
            },
            "colorscale": [
             [
              0,
              "#0d0887"
             ],
             [
              0.1111111111111111,
              "#46039f"
             ],
             [
              0.2222222222222222,
              "#7201a8"
             ],
             [
              0.3333333333333333,
              "#9c179e"
             ],
             [
              0.4444444444444444,
              "#bd3786"
             ],
             [
              0.5555555555555556,
              "#d8576b"
             ],
             [
              0.6666666666666666,
              "#ed7953"
             ],
             [
              0.7777777777777778,
              "#fb9f3a"
             ],
             [
              0.8888888888888888,
              "#fdca26"
             ],
             [
              1,
              "#f0f921"
             ]
            ],
            "type": "contour"
           }
          ],
          "contourcarpet": [
           {
            "colorbar": {
             "outlinewidth": 0,
             "ticks": ""
            },
            "type": "contourcarpet"
           }
          ],
          "heatmap": [
           {
            "colorbar": {
             "outlinewidth": 0,
             "ticks": ""
            },
            "colorscale": [
             [
              0,
              "#0d0887"
             ],
             [
              0.1111111111111111,
              "#46039f"
             ],
             [
              0.2222222222222222,
              "#7201a8"
             ],
             [
              0.3333333333333333,
              "#9c179e"
             ],
             [
              0.4444444444444444,
              "#bd3786"
             ],
             [
              0.5555555555555556,
              "#d8576b"
             ],
             [
              0.6666666666666666,
              "#ed7953"
             ],
             [
              0.7777777777777778,
              "#fb9f3a"
             ],
             [
              0.8888888888888888,
              "#fdca26"
             ],
             [
              1,
              "#f0f921"
             ]
            ],
            "type": "heatmap"
           }
          ],
          "histogram": [
           {
            "marker": {
             "pattern": {
              "fillmode": "overlay",
              "size": 10,
              "solidity": 0.2
             }
            },
            "type": "histogram"
           }
          ],
          "histogram2d": [
           {
            "colorbar": {
             "outlinewidth": 0,
             "ticks": ""
            },
            "colorscale": [
             [
              0,
              "#0d0887"
             ],
             [
              0.1111111111111111,
              "#46039f"
             ],
             [
              0.2222222222222222,
              "#7201a8"
             ],
             [
              0.3333333333333333,
              "#9c179e"
             ],
             [
              0.4444444444444444,
              "#bd3786"
             ],
             [
              0.5555555555555556,
              "#d8576b"
             ],
             [
              0.6666666666666666,
              "#ed7953"
             ],
             [
              0.7777777777777778,
              "#fb9f3a"
             ],
             [
              0.8888888888888888,
              "#fdca26"
             ],
             [
              1,
              "#f0f921"
             ]
            ],
            "type": "histogram2d"
           }
          ],
          "histogram2dcontour": [
           {
            "colorbar": {
             "outlinewidth": 0,
             "ticks": ""
            },
            "colorscale": [
             [
              0,
              "#0d0887"
             ],
             [
              0.1111111111111111,
              "#46039f"
             ],
             [
              0.2222222222222222,
              "#7201a8"
             ],
             [
              0.3333333333333333,
              "#9c179e"
             ],
             [
              0.4444444444444444,
              "#bd3786"
             ],
             [
              0.5555555555555556,
              "#d8576b"
             ],
             [
              0.6666666666666666,
              "#ed7953"
             ],
             [
              0.7777777777777778,
              "#fb9f3a"
             ],
             [
              0.8888888888888888,
              "#fdca26"
             ],
             [
              1,
              "#f0f921"
             ]
            ],
            "type": "histogram2dcontour"
           }
          ],
          "mesh3d": [
           {
            "colorbar": {
             "outlinewidth": 0,
             "ticks": ""
            },
            "type": "mesh3d"
           }
          ],
          "parcoords": [
           {
            "line": {
             "colorbar": {
              "outlinewidth": 0,
              "ticks": ""
             }
            },
            "type": "parcoords"
           }
          ],
          "pie": [
           {
            "automargin": true,
            "type": "pie"
           }
          ],
          "scatter": [
           {
            "fillpattern": {
             "fillmode": "overlay",
             "size": 10,
             "solidity": 0.2
            },
            "type": "scatter"
           }
          ],
          "scatter3d": [
           {
            "line": {
             "colorbar": {
              "outlinewidth": 0,
              "ticks": ""
             }
            },
            "marker": {
             "colorbar": {
              "outlinewidth": 0,
              "ticks": ""
             }
            },
            "type": "scatter3d"
           }
          ],
          "scattercarpet": [
           {
            "marker": {
             "colorbar": {
              "outlinewidth": 0,
              "ticks": ""
             }
            },
            "type": "scattercarpet"
           }
          ],
          "scattergeo": [
           {
            "marker": {
             "colorbar": {
              "outlinewidth": 0,
              "ticks": ""
             }
            },
            "type": "scattergeo"
           }
          ],
          "scattergl": [
           {
            "marker": {
             "colorbar": {
              "outlinewidth": 0,
              "ticks": ""
             }
            },
            "type": "scattergl"
           }
          ],
          "scattermap": [
           {
            "marker": {
             "colorbar": {
              "outlinewidth": 0,
              "ticks": ""
             }
            },
            "type": "scattermap"
           }
          ],
          "scattermapbox": [
           {
            "marker": {
             "colorbar": {
              "outlinewidth": 0,
              "ticks": ""
             }
            },
            "type": "scattermapbox"
           }
          ],
          "scatterpolar": [
           {
            "marker": {
             "colorbar": {
              "outlinewidth": 0,
              "ticks": ""
             }
            },
            "type": "scatterpolar"
           }
          ],
          "scatterpolargl": [
           {
            "marker": {
             "colorbar": {
              "outlinewidth": 0,
              "ticks": ""
             }
            },
            "type": "scatterpolargl"
           }
          ],
          "scatterternary": [
           {
            "marker": {
             "colorbar": {
              "outlinewidth": 0,
              "ticks": ""
             }
            },
            "type": "scatterternary"
           }
          ],
          "surface": [
           {
            "colorbar": {
             "outlinewidth": 0,
             "ticks": ""
            },
            "colorscale": [
             [
              0,
              "#0d0887"
             ],
             [
              0.1111111111111111,
              "#46039f"
             ],
             [
              0.2222222222222222,
              "#7201a8"
             ],
             [
              0.3333333333333333,
              "#9c179e"
             ],
             [
              0.4444444444444444,
              "#bd3786"
             ],
             [
              0.5555555555555556,
              "#d8576b"
             ],
             [
              0.6666666666666666,
              "#ed7953"
             ],
             [
              0.7777777777777778,
              "#fb9f3a"
             ],
             [
              0.8888888888888888,
              "#fdca26"
             ],
             [
              1,
              "#f0f921"
             ]
            ],
            "type": "surface"
           }
          ],
          "table": [
           {
            "cells": {
             "fill": {
              "color": "#EBF0F8"
             },
             "line": {
              "color": "white"
             }
            },
            "header": {
             "fill": {
              "color": "#C8D4E3"
             },
             "line": {
              "color": "white"
             }
            },
            "type": "table"
           }
          ]
         },
         "layout": {
          "annotationdefaults": {
           "arrowcolor": "#2a3f5f",
           "arrowhead": 0,
           "arrowwidth": 1
          },
          "autotypenumbers": "strict",
          "coloraxis": {
           "colorbar": {
            "outlinewidth": 0,
            "ticks": ""
           }
          },
          "colorscale": {
           "diverging": [
            [
             0,
             "#8e0152"
            ],
            [
             0.1,
             "#c51b7d"
            ],
            [
             0.2,
             "#de77ae"
            ],
            [
             0.3,
             "#f1b6da"
            ],
            [
             0.4,
             "#fde0ef"
            ],
            [
             0.5,
             "#f7f7f7"
            ],
            [
             0.6,
             "#e6f5d0"
            ],
            [
             0.7,
             "#b8e186"
            ],
            [
             0.8,
             "#7fbc41"
            ],
            [
             0.9,
             "#4d9221"
            ],
            [
             1,
             "#276419"
            ]
           ],
           "sequential": [
            [
             0,
             "#0d0887"
            ],
            [
             0.1111111111111111,
             "#46039f"
            ],
            [
             0.2222222222222222,
             "#7201a8"
            ],
            [
             0.3333333333333333,
             "#9c179e"
            ],
            [
             0.4444444444444444,
             "#bd3786"
            ],
            [
             0.5555555555555556,
             "#d8576b"
            ],
            [
             0.6666666666666666,
             "#ed7953"
            ],
            [
             0.7777777777777778,
             "#fb9f3a"
            ],
            [
             0.8888888888888888,
             "#fdca26"
            ],
            [
             1,
             "#f0f921"
            ]
           ],
           "sequentialminus": [
            [
             0,
             "#0d0887"
            ],
            [
             0.1111111111111111,
             "#46039f"
            ],
            [
             0.2222222222222222,
             "#7201a8"
            ],
            [
             0.3333333333333333,
             "#9c179e"
            ],
            [
             0.4444444444444444,
             "#bd3786"
            ],
            [
             0.5555555555555556,
             "#d8576b"
            ],
            [
             0.6666666666666666,
             "#ed7953"
            ],
            [
             0.7777777777777778,
             "#fb9f3a"
            ],
            [
             0.8888888888888888,
             "#fdca26"
            ],
            [
             1,
             "#f0f921"
            ]
           ]
          },
          "colorway": [
           "#636efa",
           "#EF553B",
           "#00cc96",
           "#ab63fa",
           "#FFA15A",
           "#19d3f3",
           "#FF6692",
           "#B6E880",
           "#FF97FF",
           "#FECB52"
          ],
          "font": {
           "color": "#2a3f5f"
          },
          "geo": {
           "bgcolor": "white",
           "lakecolor": "white",
           "landcolor": "#E5ECF6",
           "showlakes": true,
           "showland": true,
           "subunitcolor": "white"
          },
          "hoverlabel": {
           "align": "left"
          },
          "hovermode": "closest",
          "mapbox": {
           "style": "light"
          },
          "paper_bgcolor": "white",
          "plot_bgcolor": "#E5ECF6",
          "polar": {
           "angularaxis": {
            "gridcolor": "white",
            "linecolor": "white",
            "ticks": ""
           },
           "bgcolor": "#E5ECF6",
           "radialaxis": {
            "gridcolor": "white",
            "linecolor": "white",
            "ticks": ""
           }
          },
          "scene": {
           "xaxis": {
            "backgroundcolor": "#E5ECF6",
            "gridcolor": "white",
            "gridwidth": 2,
            "linecolor": "white",
            "showbackground": true,
            "ticks": "",
            "zerolinecolor": "white"
           },
           "yaxis": {
            "backgroundcolor": "#E5ECF6",
            "gridcolor": "white",
            "gridwidth": 2,
            "linecolor": "white",
            "showbackground": true,
            "ticks": "",
            "zerolinecolor": "white"
           },
           "zaxis": {
            "backgroundcolor": "#E5ECF6",
            "gridcolor": "white",
            "gridwidth": 2,
            "linecolor": "white",
            "showbackground": true,
            "ticks": "",
            "zerolinecolor": "white"
           }
          },
          "shapedefaults": {
           "line": {
            "color": "#2a3f5f"
           }
          },
          "ternary": {
           "aaxis": {
            "gridcolor": "white",
            "linecolor": "white",
            "ticks": ""
           },
           "baxis": {
            "gridcolor": "white",
            "linecolor": "white",
            "ticks": ""
           },
           "bgcolor": "#E5ECF6",
           "caxis": {
            "gridcolor": "white",
            "linecolor": "white",
            "ticks": ""
           }
          },
          "title": {
           "x": 0.05
          },
          "xaxis": {
           "automargin": true,
           "gridcolor": "white",
           "linecolor": "white",
           "ticks": "",
           "title": {
            "standoff": 15
           },
           "zerolinecolor": "white",
           "zerolinewidth": 2
          },
          "yaxis": {
           "automargin": true,
           "gridcolor": "white",
           "linecolor": "white",
           "ticks": "",
           "title": {
            "standoff": 15
           },
           "zerolinecolor": "white",
           "zerolinewidth": 2
          }
         }
        },
        "title": {
         "text": "Llama-3-8B: Generalized Quartet Distance across normalized layers (↓)"
        },
        "xaxis": {
         "range": [
          -0.01,
          1.01
         ],
         "title": {
          "text": "Normalized layer (0 → 1)"
         }
        },
        "yaxis": {
         "title": {
          "text": "Generalized Quartet Distance"
         }
        }
       }
      }
     },
     "metadata": {},
     "output_type": "display_data"
    },
    {
     "data": {
      "application/vnd.plotly.v1+json": {
       "config": {
        "plotlyServerURL": "https://plot.ly"
       },
       "data": [
        {
         "hovertemplate": "Layer(norm)=%{x:.2f}<br>cophenetic corr=%{y:.2f}<extra>entity_only</extra>",
         "mode": "lines+markers",
         "name": "entity_only",
         "type": "scatter",
         "x": {
          "bdata": "AAAAAAAAAAAAAAAAAACgPwAAAAAAALA/AAAAAAAAuD8AAAAAAADAPwAAAAAAAMQ/AAAAAAAAyD8AAAAAAADMPwAAAAAAANA/AAAAAAAA0j8AAAAAAADUPwAAAAAAANY/AAAAAAAA2D8AAAAAAADaPwAAAAAAANw/AAAAAAAA3j8AAAAAAADgPwAAAAAAAOE/AAAAAAAA4j8AAAAAAADjPwAAAAAAAOQ/AAAAAAAA5T8AAAAAAADmPwAAAAAAAOc/AAAAAAAA6D8AAAAAAADpPwAAAAAAAOo/AAAAAAAA6z8AAAAAAADsPwAAAAAAAO0/AAAAAAAA7j8AAAAAAADvPwAAAAAAAPA/",
          "dtype": "f8"
         },
         "y": {
          "bdata": "lsl8Vwx2oz94rXNIDq+aPzPOhiaOY68/UB5wDCYKsD+o8vw8UBy6PwwngkgYSrw/plB7hKfEwT9laIiq2Ki/P6CAe3BlBLc/IEVAX2KTvj9kz52DtdvHP1z+s4SsNcU//5QSnkZDxT/y3IVMQiTDPzqSaBUN98E/C/MCF2Ubwj9ds+pu51a2P7eMT1/nvbk/RmTXSnWBvT/pJlMTNbXDP92JVq0SQME/bQZwdCmOxj9pQSeDhRLBP24R7KWGF7w/uAuOE3qmwj9+qsN/2HTEP+E85TBsVsU/mFbffs6OxD+8ZivdZDHEPyYwwNkRpcM/M2S1TJAuwz+2uXPShT3BP/k+VHNB5L0/",
          "dtype": "f8"
         }
        },
        {
         "hovertemplate": "Layer(norm)=%{x:.2f}<br>cophenetic corr=%{y:.2f}<extra>gift</extra>",
         "mode": "lines+markers",
         "name": "gift",
         "type": "scatter",
         "x": {
          "bdata": "AAAAAAAAAAAAAAAAAACgPwAAAAAAALA/AAAAAAAAuD8AAAAAAADAPwAAAAAAAMQ/AAAAAAAAyD8AAAAAAADMPwAAAAAAANA/AAAAAAAA0j8AAAAAAADUPwAAAAAAANY/AAAAAAAA2D8AAAAAAADaPwAAAAAAANw/AAAAAAAA3j8AAAAAAADgPwAAAAAAAOE/AAAAAAAA4j8AAAAAAADjPwAAAAAAAOQ/AAAAAAAA5T8AAAAAAADmPwAAAAAAAOc/AAAAAAAA6D8AAAAAAADpPwAAAAAAAOo/AAAAAAAA6z8AAAAAAADsPwAAAAAAAO0/AAAAAAAA7j8AAAAAAADvPwAAAAAAAPA/",
          "dtype": "f8"
         },
         "y": {
          "bdata": "iDv4T40Spz8Ae0ZEq7CcP6/yQWRzB7I/pSsNQzf1pz/X8nTYm5+xPz6LYUm0Nbo/vjKdHHequz9omRPF/a/FP4Lzz3IZjco/eLWZrzirwT9GO8gb9g7CP7+0/h/gacE/LLqshA+tuj+1WUT8uUK+P/YvkaCeZL4/v8v36V7+uT8dGM8Ghu2yPz66RIhUdbY/eZWf6AwItz/I1+3qMqi1P6kuoiqSSLU/uYLVJbKutz9aTziCWly0P3eDeKeYt7Y/w2OfuNsduD9UOmljIXe5P6wFhOAWl7k/Yh34Bt9juz+MrZu/sMy8P977BJM/Dbg/iQ3bHthhvD/2hQl+Ky26PwBP96/QV7s/",
          "dtype": "f8"
         }
        },
        {
         "hovertemplate": "Layer(norm)=%{x:.2f}<br>cophenetic corr=%{y:.2f}<extra>occupation_question</extra>",
         "mode": "lines+markers",
         "name": "occupation_question",
         "type": "scatter",
         "x": {
          "bdata": "AAAAAAAAAAAAAAAAAACgPwAAAAAAALA/AAAAAAAAuD8AAAAAAADAPwAAAAAAAMQ/AAAAAAAAyD8AAAAAAADMPwAAAAAAANA/AAAAAAAA0j8AAAAAAADUPwAAAAAAANY/AAAAAAAA2D8AAAAAAADaPwAAAAAAANw/AAAAAAAA3j8AAAAAAADgPwAAAAAAAOE/AAAAAAAA4j8AAAAAAADjPwAAAAAAAOQ/AAAAAAAA5T8AAAAAAADmPwAAAAAAAOc/AAAAAAAA6D8AAAAAAADpPwAAAAAAAOo/AAAAAAAA6z8AAAAAAADsPwAAAAAAAO0/AAAAAAAA7j8AAAAAAADvPwAAAAAAAPA/",
          "dtype": "f8"
         },
         "y": {
          "bdata": "iDv4T40Spz+9mm0+un+fP2/zFWNdY7I//nquTYcLpz8MZM/Gpy60P0SIx+wZQbI/dJk7Tgcipj9QHnifkfOwP8bv9I8s3LI/6OYDwMo8vD+K81l8HNfAP04+Y17NisE/W4EgfI0dwT95XsvK362/Pyed5jaTu78/LMgPWCHitj+9kU2BqIiZPwGtMGVlZpo/MndTvsUVsT99GZOQB7y3P0T5K7GK8Lo/g/qBoKuNuz+iVg4k2Oa8P6peyEoW+b8/3otafQ5gwT8UOcZANU3BPy7PVv6YHsI/WrRFXNlnwz9lL0XHxnzCP7p+F5W88sE/iLyKW6fHwz/K56GbPbLCPwhuRp5LAsU/",
          "dtype": "f8"
         }
        },
        {
         "hovertemplate": "Layer(norm)=%{x:.2f}<br>cophenetic corr=%{y:.2f}<extra>occupation_simple</extra>",
         "mode": "lines+markers",
         "name": "occupation_simple",
         "type": "scatter",
         "x": {
          "bdata": "AAAAAAAAAAAAAAAAAACgPwAAAAAAALA/AAAAAAAAuD8AAAAAAADAPwAAAAAAAMQ/AAAAAAAAyD8AAAAAAADMPwAAAAAAANA/AAAAAAAA0j8AAAAAAADUPwAAAAAAANY/AAAAAAAA2D8AAAAAAADaPwAAAAAAANw/AAAAAAAA3j8AAAAAAADgPwAAAAAAAOE/AAAAAAAA4j8AAAAAAADjPwAAAAAAAOQ/AAAAAAAA5T8AAAAAAADmPwAAAAAAAOc/AAAAAAAA6D8AAAAAAADpPwAAAAAAAOo/AAAAAAAA6z8AAAAAAADsPwAAAAAAAO0/AAAAAAAA7j8AAAAAAADvPwAAAAAAAPA/",
          "dtype": "f8"
         },
         "y": {
          "bdata": "iDv4T40Spz+gcUM/ARmfP3J80k9DerE/fgAg3BAnpz+jjAkNkQuwP993lLxoAaM/hN36Qob+nD/qcH8nG/euP0hphrIlUrA/Cg3xP/n+tD8ILsKrtqK7P+CC11pKGbs/bGhoTN1IwT8I75olHjW9P2WGQpTHw7c/WJDnYXu4wD91O0EMXxu7P2Io91Lkd7o/bYDefpq9uD/E9CamM/K9P6/xROBYKLg/3GzcNcFAuT/62LUDwWy6Py7eSn+XgLs/PBynGanMuz+YYfrTk126P+DBoUHvvro/NurguRW8uj/Kd8rxgZi5P6RVPA9KdLs/kKW88yrDvD+uv7pShJu5PyBBYY/cnrg/",
          "dtype": "f8"
         }
        },
        {
         "hovertemplate": "Layer(norm)=%{x:.2f}<br>cophenetic corr=%{y:.2f}<extra>profession_query</extra>",
         "mode": "lines+markers",
         "name": "profession_query",
         "type": "scatter",
         "x": {
          "bdata": "AAAAAAAAAAAAAAAAAACgPwAAAAAAALA/AAAAAAAAuD8AAAAAAADAPwAAAAAAAMQ/AAAAAAAAyD8AAAAAAADMPwAAAAAAANA/AAAAAAAA0j8AAAAAAADUPwAAAAAAANY/AAAAAAAA2D8AAAAAAADaPwAAAAAAANw/AAAAAAAA3j8AAAAAAADgPwAAAAAAAOE/AAAAAAAA4j8AAAAAAADjPwAAAAAAAOQ/AAAAAAAA5T8AAAAAAADmPwAAAAAAAOc/AAAAAAAA6D8AAAAAAADpPwAAAAAAAOo/AAAAAAAA6z8AAAAAAADsPwAAAAAAAO0/AAAAAAAA7j8AAAAAAADvPwAAAAAAAPA/",
          "dtype": "f8"
         },
         "y": {
          "bdata": "iDv4T40Spz9P9sRB1uSdPzqhMIUXyLE/imnlEGOgqz8V235bIxy2PzMRY7AbTrI//pgyGBn7sz+fdbhOXoC9P8LyylwEqbo/48AHMat/vj+4pLohgEy/PygFJMak4MA/Vn200DhUwz+1QB0+03fFP++rSqGqgMI/1DTP5Svnrj+MJV84XAyzP8d36N+tH7A/wPZQL0MCoD/kh+PQjFSpP2xw1P8Gmao/Uq0d46UMpj9ky6a74dymPzBdQJylLqM/hdT2ZnOdpj+TFcbZ7UepPwEyhwPnO60/qS8DOjhFrz+JQRFpF8eyP2aOrCp4drI/rjPDYFFIuz/QuypPbcy+P6RjGidecL0/",
          "dtype": "f8"
         }
        },
        {
         "hovertemplate": "Layer(norm)=%{x:.2f}<br>cophenetic corr=%{y:.2f}<extra>professional_intro</extra>",
         "mode": "lines+markers",
         "name": "professional_intro",
         "type": "scatter",
         "x": {
          "bdata": "AAAAAAAAAAAAAAAAAACgPwAAAAAAALA/AAAAAAAAuD8AAAAAAADAPwAAAAAAAMQ/AAAAAAAAyD8AAAAAAADMPwAAAAAAANA/AAAAAAAA0j8AAAAAAADUPwAAAAAAANY/AAAAAAAA2D8AAAAAAADaPwAAAAAAANw/AAAAAAAA3j8AAAAAAADgPwAAAAAAAOE/AAAAAAAA4j8AAAAAAADjPwAAAAAAAOQ/AAAAAAAA5T8AAAAAAADmPwAAAAAAAOc/AAAAAAAA6D8AAAAAAADpPwAAAAAAAOo/AAAAAAAA6z8AAAAAAADsPwAAAAAAAO0/AAAAAAAA7j8AAAAAAADvPwAAAAAAAPA/",
          "dtype": "f8"
         },
         "y": {
          "bdata": "iDv4T40Spz+/mm0+un+fP2k+dzKwsLE/pEtXyAe6qT87HUg5K0K2P2YbdTM+gro/UX3Qd/YHuz/1bV/1hL28P8QGEQqALLs/hMouCiyyvD/AkcEJ1BK9P9jPChwDAsM/onDzL+fsxD+AbFVSqYHEPyi6q7vnN8M/SqUv6P1twz+kQBsbnfq8PzENA5RxObw/RGTUXEAzuj++gpNB5RS0P90vb19AcbM/Wv5y9DvwtT/GGmtGeNu3P2VQ0mEZRLo/CfpBrqifuz+nIHN4QY+7Px8qGrekGL4/AlB1i8iQvD8bc4fu85m9P3C+/fKA2b8/ghyaL4cNwD/0uu5JNxXAPwB+zA/Pm7U/",
          "dtype": "f8"
         }
        }
       ],
       "layout": {
        "legend": {
         "title": {
          "text": "Template"
         }
        },
        "template": {
         "data": {
          "bar": [
           {
            "error_x": {
             "color": "#2a3f5f"
            },
            "error_y": {
             "color": "#2a3f5f"
            },
            "marker": {
             "line": {
              "color": "#E5ECF6",
              "width": 0.5
             },
             "pattern": {
              "fillmode": "overlay",
              "size": 10,
              "solidity": 0.2
             }
            },
            "type": "bar"
           }
          ],
          "barpolar": [
           {
            "marker": {
             "line": {
              "color": "#E5ECF6",
              "width": 0.5
             },
             "pattern": {
              "fillmode": "overlay",
              "size": 10,
              "solidity": 0.2
             }
            },
            "type": "barpolar"
           }
          ],
          "carpet": [
           {
            "aaxis": {
             "endlinecolor": "#2a3f5f",
             "gridcolor": "white",
             "linecolor": "white",
             "minorgridcolor": "white",
             "startlinecolor": "#2a3f5f"
            },
            "baxis": {
             "endlinecolor": "#2a3f5f",
             "gridcolor": "white",
             "linecolor": "white",
             "minorgridcolor": "white",
             "startlinecolor": "#2a3f5f"
            },
            "type": "carpet"
           }
          ],
          "choropleth": [
           {
            "colorbar": {
             "outlinewidth": 0,
             "ticks": ""
            },
            "type": "choropleth"
           }
          ],
          "contour": [
           {
            "colorbar": {
             "outlinewidth": 0,
             "ticks": ""
            },
            "colorscale": [
             [
              0,
              "#0d0887"
             ],
             [
              0.1111111111111111,
              "#46039f"
             ],
             [
              0.2222222222222222,
              "#7201a8"
             ],
             [
              0.3333333333333333,
              "#9c179e"
             ],
             [
              0.4444444444444444,
              "#bd3786"
             ],
             [
              0.5555555555555556,
              "#d8576b"
             ],
             [
              0.6666666666666666,
              "#ed7953"
             ],
             [
              0.7777777777777778,
              "#fb9f3a"
             ],
             [
              0.8888888888888888,
              "#fdca26"
             ],
             [
              1,
              "#f0f921"
             ]
            ],
            "type": "contour"
           }
          ],
          "contourcarpet": [
           {
            "colorbar": {
             "outlinewidth": 0,
             "ticks": ""
            },
            "type": "contourcarpet"
           }
          ],
          "heatmap": [
           {
            "colorbar": {
             "outlinewidth": 0,
             "ticks": ""
            },
            "colorscale": [
             [
              0,
              "#0d0887"
             ],
             [
              0.1111111111111111,
              "#46039f"
             ],
             [
              0.2222222222222222,
              "#7201a8"
             ],
             [
              0.3333333333333333,
              "#9c179e"
             ],
             [
              0.4444444444444444,
              "#bd3786"
             ],
             [
              0.5555555555555556,
              "#d8576b"
             ],
             [
              0.6666666666666666,
              "#ed7953"
             ],
             [
              0.7777777777777778,
              "#fb9f3a"
             ],
             [
              0.8888888888888888,
              "#fdca26"
             ],
             [
              1,
              "#f0f921"
             ]
            ],
            "type": "heatmap"
           }
          ],
          "histogram": [
           {
            "marker": {
             "pattern": {
              "fillmode": "overlay",
              "size": 10,
              "solidity": 0.2
             }
            },
            "type": "histogram"
           }
          ],
          "histogram2d": [
           {
            "colorbar": {
             "outlinewidth": 0,
             "ticks": ""
            },
            "colorscale": [
             [
              0,
              "#0d0887"
             ],
             [
              0.1111111111111111,
              "#46039f"
             ],
             [
              0.2222222222222222,
              "#7201a8"
             ],
             [
              0.3333333333333333,
              "#9c179e"
             ],
             [
              0.4444444444444444,
              "#bd3786"
             ],
             [
              0.5555555555555556,
              "#d8576b"
             ],
             [
              0.6666666666666666,
              "#ed7953"
             ],
             [
              0.7777777777777778,
              "#fb9f3a"
             ],
             [
              0.8888888888888888,
              "#fdca26"
             ],
             [
              1,
              "#f0f921"
             ]
            ],
            "type": "histogram2d"
           }
          ],
          "histogram2dcontour": [
           {
            "colorbar": {
             "outlinewidth": 0,
             "ticks": ""
            },
            "colorscale": [
             [
              0,
              "#0d0887"
             ],
             [
              0.1111111111111111,
              "#46039f"
             ],
             [
              0.2222222222222222,
              "#7201a8"
             ],
             [
              0.3333333333333333,
              "#9c179e"
             ],
             [
              0.4444444444444444,
              "#bd3786"
             ],
             [
              0.5555555555555556,
              "#d8576b"
             ],
             [
              0.6666666666666666,
              "#ed7953"
             ],
             [
              0.7777777777777778,
              "#fb9f3a"
             ],
             [
              0.8888888888888888,
              "#fdca26"
             ],
             [
              1,
              "#f0f921"
             ]
            ],
            "type": "histogram2dcontour"
           }
          ],
          "mesh3d": [
           {
            "colorbar": {
             "outlinewidth": 0,
             "ticks": ""
            },
            "type": "mesh3d"
           }
          ],
          "parcoords": [
           {
            "line": {
             "colorbar": {
              "outlinewidth": 0,
              "ticks": ""
             }
            },
            "type": "parcoords"
           }
          ],
          "pie": [
           {
            "automargin": true,
            "type": "pie"
           }
          ],
          "scatter": [
           {
            "fillpattern": {
             "fillmode": "overlay",
             "size": 10,
             "solidity": 0.2
            },
            "type": "scatter"
           }
          ],
          "scatter3d": [
           {
            "line": {
             "colorbar": {
              "outlinewidth": 0,
              "ticks": ""
             }
            },
            "marker": {
             "colorbar": {
              "outlinewidth": 0,
              "ticks": ""
             }
            },
            "type": "scatter3d"
           }
          ],
          "scattercarpet": [
           {
            "marker": {
             "colorbar": {
              "outlinewidth": 0,
              "ticks": ""
             }
            },
            "type": "scattercarpet"
           }
          ],
          "scattergeo": [
           {
            "marker": {
             "colorbar": {
              "outlinewidth": 0,
              "ticks": ""
             }
            },
            "type": "scattergeo"
           }
          ],
          "scattergl": [
           {
            "marker": {
             "colorbar": {
              "outlinewidth": 0,
              "ticks": ""
             }
            },
            "type": "scattergl"
           }
          ],
          "scattermap": [
           {
            "marker": {
             "colorbar": {
              "outlinewidth": 0,
              "ticks": ""
             }
            },
            "type": "scattermap"
           }
          ],
          "scattermapbox": [
           {
            "marker": {
             "colorbar": {
              "outlinewidth": 0,
              "ticks": ""
             }
            },
            "type": "scattermapbox"
           }
          ],
          "scatterpolar": [
           {
            "marker": {
             "colorbar": {
              "outlinewidth": 0,
              "ticks": ""
             }
            },
            "type": "scatterpolar"
           }
          ],
          "scatterpolargl": [
           {
            "marker": {
             "colorbar": {
              "outlinewidth": 0,
              "ticks": ""
             }
            },
            "type": "scatterpolargl"
           }
          ],
          "scatterternary": [
           {
            "marker": {
             "colorbar": {
              "outlinewidth": 0,
              "ticks": ""
             }
            },
            "type": "scatterternary"
           }
          ],
          "surface": [
           {
            "colorbar": {
             "outlinewidth": 0,
             "ticks": ""
            },
            "colorscale": [
             [
              0,
              "#0d0887"
             ],
             [
              0.1111111111111111,
              "#46039f"
             ],
             [
              0.2222222222222222,
              "#7201a8"
             ],
             [
              0.3333333333333333,
              "#9c179e"
             ],
             [
              0.4444444444444444,
              "#bd3786"
             ],
             [
              0.5555555555555556,
              "#d8576b"
             ],
             [
              0.6666666666666666,
              "#ed7953"
             ],
             [
              0.7777777777777778,
              "#fb9f3a"
             ],
             [
              0.8888888888888888,
              "#fdca26"
             ],
             [
              1,
              "#f0f921"
             ]
            ],
            "type": "surface"
           }
          ],
          "table": [
           {
            "cells": {
             "fill": {
              "color": "#EBF0F8"
             },
             "line": {
              "color": "white"
             }
            },
            "header": {
             "fill": {
              "color": "#C8D4E3"
             },
             "line": {
              "color": "white"
             }
            },
            "type": "table"
           }
          ]
         },
         "layout": {
          "annotationdefaults": {
           "arrowcolor": "#2a3f5f",
           "arrowhead": 0,
           "arrowwidth": 1
          },
          "autotypenumbers": "strict",
          "coloraxis": {
           "colorbar": {
            "outlinewidth": 0,
            "ticks": ""
           }
          },
          "colorscale": {
           "diverging": [
            [
             0,
             "#8e0152"
            ],
            [
             0.1,
             "#c51b7d"
            ],
            [
             0.2,
             "#de77ae"
            ],
            [
             0.3,
             "#f1b6da"
            ],
            [
             0.4,
             "#fde0ef"
            ],
            [
             0.5,
             "#f7f7f7"
            ],
            [
             0.6,
             "#e6f5d0"
            ],
            [
             0.7,
             "#b8e186"
            ],
            [
             0.8,
             "#7fbc41"
            ],
            [
             0.9,
             "#4d9221"
            ],
            [
             1,
             "#276419"
            ]
           ],
           "sequential": [
            [
             0,
             "#0d0887"
            ],
            [
             0.1111111111111111,
             "#46039f"
            ],
            [
             0.2222222222222222,
             "#7201a8"
            ],
            [
             0.3333333333333333,
             "#9c179e"
            ],
            [
             0.4444444444444444,
             "#bd3786"
            ],
            [
             0.5555555555555556,
             "#d8576b"
            ],
            [
             0.6666666666666666,
             "#ed7953"
            ],
            [
             0.7777777777777778,
             "#fb9f3a"
            ],
            [
             0.8888888888888888,
             "#fdca26"
            ],
            [
             1,
             "#f0f921"
            ]
           ],
           "sequentialminus": [
            [
             0,
             "#0d0887"
            ],
            [
             0.1111111111111111,
             "#46039f"
            ],
            [
             0.2222222222222222,
             "#7201a8"
            ],
            [
             0.3333333333333333,
             "#9c179e"
            ],
            [
             0.4444444444444444,
             "#bd3786"
            ],
            [
             0.5555555555555556,
             "#d8576b"
            ],
            [
             0.6666666666666666,
             "#ed7953"
            ],
            [
             0.7777777777777778,
             "#fb9f3a"
            ],
            [
             0.8888888888888888,
             "#fdca26"
            ],
            [
             1,
             "#f0f921"
            ]
           ]
          },
          "colorway": [
           "#636efa",
           "#EF553B",
           "#00cc96",
           "#ab63fa",
           "#FFA15A",
           "#19d3f3",
           "#FF6692",
           "#B6E880",
           "#FF97FF",
           "#FECB52"
          ],
          "font": {
           "color": "#2a3f5f"
          },
          "geo": {
           "bgcolor": "white",
           "lakecolor": "white",
           "landcolor": "#E5ECF6",
           "showlakes": true,
           "showland": true,
           "subunitcolor": "white"
          },
          "hoverlabel": {
           "align": "left"
          },
          "hovermode": "closest",
          "mapbox": {
           "style": "light"
          },
          "paper_bgcolor": "white",
          "plot_bgcolor": "#E5ECF6",
          "polar": {
           "angularaxis": {
            "gridcolor": "white",
            "linecolor": "white",
            "ticks": ""
           },
           "bgcolor": "#E5ECF6",
           "radialaxis": {
            "gridcolor": "white",
            "linecolor": "white",
            "ticks": ""
           }
          },
          "scene": {
           "xaxis": {
            "backgroundcolor": "#E5ECF6",
            "gridcolor": "white",
            "gridwidth": 2,
            "linecolor": "white",
            "showbackground": true,
            "ticks": "",
            "zerolinecolor": "white"
           },
           "yaxis": {
            "backgroundcolor": "#E5ECF6",
            "gridcolor": "white",
            "gridwidth": 2,
            "linecolor": "white",
            "showbackground": true,
            "ticks": "",
            "zerolinecolor": "white"
           },
           "zaxis": {
            "backgroundcolor": "#E5ECF6",
            "gridcolor": "white",
            "gridwidth": 2,
            "linecolor": "white",
            "showbackground": true,
            "ticks": "",
            "zerolinecolor": "white"
           }
          },
          "shapedefaults": {
           "line": {
            "color": "#2a3f5f"
           }
          },
          "ternary": {
           "aaxis": {
            "gridcolor": "white",
            "linecolor": "white",
            "ticks": ""
           },
           "baxis": {
            "gridcolor": "white",
            "linecolor": "white",
            "ticks": ""
           },
           "bgcolor": "#E5ECF6",
           "caxis": {
            "gridcolor": "white",
            "linecolor": "white",
            "ticks": ""
           }
          },
          "title": {
           "x": 0.05
          },
          "xaxis": {
           "automargin": true,
           "gridcolor": "white",
           "linecolor": "white",
           "ticks": "",
           "title": {
            "standoff": 15
           },
           "zerolinecolor": "white",
           "zerolinewidth": 2
          },
          "yaxis": {
           "automargin": true,
           "gridcolor": "white",
           "linecolor": "white",
           "ticks": "",
           "title": {
            "standoff": 15
           },
           "zerolinecolor": "white",
           "zerolinewidth": 2
          }
         }
        },
        "title": {
         "text": "Llama-3-8B: cophenetic corr across normalized layers (↑)"
        },
        "xaxis": {
         "range": [
          -0.01,
          1.01
         ],
         "title": {
          "text": "Normalized layer (0 → 1)"
         }
        },
        "yaxis": {
         "title": {
          "text": "cophenetic corr"
         }
        }
       }
      }
     },
     "metadata": {},
     "output_type": "display_data"
    }
   ],
   "source": [
    "\n",
    "# ===== パス設定 =====\n",
    "BASE_PATH = Path(\"/home/masaki/hierarchical-repr/EntityTree/output/eval_tree\")\n",
    "\n",
    "# ===== データ準備 =====\n",
    "df = load_llama3_8b_templates(BASE_PATH, TEMPLATE_LIST)\n",
    "if df.empty:\n",
    "    raise RuntimeError(\"Llama-3-8B の評価ファイルが見つかりません。パスとテンプレートの存在を確認してください。\")\n",
    "\n",
    "# 数値化\n",
    "for c in [\"layer\", \"jrf_k1\", \"jrf_k2\", \"gtd\", \"gqd\", \"cophenetic_corr\"]:\n",
    "    if c in df.columns:\n",
    "        df[c] = pd.to_numeric(df[c], errors=\"coerce\")\n",
    "\n",
    "# 正規化レイヤ（同一モデルなので全体最大でOK）\n",
    "max_layer = df[\"layer\"].max()\n",
    "df[\"normalized_layer\"] = df[\"layer\"] / max_layer if pd.notna(max_layer) and max_layer > 0 else 0.0\n",
    "\n",
    "# ===== 図ユーティリティ =====\n",
    "METRIC_INFO = {\n",
    "    \"jrf_k1\": (\"JRF(k=1)\", \"↓\"),\n",
    "    \"gtd\": (\"Generalized Triplet Distance\", \"↓\"),\n",
    "    \"gqd\": (\"Generalized Quartet Distance\", \"↓\"),\n",
    "    \"cophenetic_corr\": (\"cophenetic corr\", \"↑\"),\n",
    "}\n",
    "MODEL_TITLE = \"Llama-3-8B\"\n",
    "\n",
    "# ===== 指標ごとに 1 図ずつ表示 =====\n",
    "fig_jrfk1 = plot_metric_by_templates(df, \"jrf_k1\")\n",
    "fig_gtd   = plot_metric_by_templates(df, \"gtd\")\n",
    "fig_gqd   = plot_metric_by_templates(df, \"gqd\")\n",
    "fig_coph  = plot_metric_by_templates(df, \"cophenetic_corr\")\n",
    "\n",
    "for f in [fig_jrfk1, fig_gtd, fig_gqd, fig_coph]:\n",
    "    if f is not None:\n",
    "        f.show()\n"
   ]
  },
  {
   "cell_type": "code",
   "execution_count": 14,
   "id": "d33523a1",
   "metadata": {},
   "outputs": [
    {
     "data": {
      "application/vnd.plotly.v1+json": {
       "config": {
        "plotlyServerURL": "https://plot.ly"
       },
       "data": [
        {
         "hovertemplate": "Layer(norm)=%{x:.2f}<br>JRF(k=1)=%{y:.2f}<extra>entity_only</extra>",
         "mode": "lines+markers",
         "name": "entity_only",
         "type": "scatter",
         "x": {
          "bdata": "AAAAAAAAAAAAAAAAAACgPwAAAAAAALA/AAAAAAAAuD8AAAAAAADAPwAAAAAAAMQ/AAAAAAAAyD8AAAAAAADMPwAAAAAAANA/AAAAAAAA0j8AAAAAAADUPwAAAAAAANY/AAAAAAAA2D8AAAAAAADaPwAAAAAAANw/AAAAAAAA3j8AAAAAAADgPwAAAAAAAOE/AAAAAAAA4j8AAAAAAADjPwAAAAAAAOQ/AAAAAAAA5T8AAAAAAADmPwAAAAAAAOc/AAAAAAAA6D8AAAAAAADpPwAAAAAAAOo/AAAAAAAA6z8AAAAAAADsPwAAAAAAAO0/AAAAAAAA7j8AAAAAAADvPwAAAAAAAPA/",
          "dtype": "f8"
         },
         "y": {
          "bdata": "pRLupBLOVkBixAEk2b5WQPJYNNr1x1ZAsCrd+X2pVkC2WZu1WbtWQBrdDRrdjVZAVGZ1BqJeVkBRmLYvFPZVQPm7eYTq41VAmpmZmZlZVUByHMdxHNdUQFZVVVVV5VRADLZgC7YAVUByHMdxHCdVQI7jOI7jGFVAjuM4juMIVUBociZncjZVQBzHcRzHQVVA5DiO4zgeVUDkOI7jOB5VQMdxHMdxHFVAx3Ecx3EcVUByHMdxHAdVQNuszdqsDVVA26zN2qwNVUDbrM3arA1VQNuszdqsDVVA26zN2qwNVUA/93M/9zNVQD/3cz/3U1VA4ziO4zguVUDjOI7jOC5VQBzHcRzHEVVA",
          "dtype": "f8"
         }
        },
        {
         "hovertemplate": "Layer(norm)=%{x:.2f}<br>JRF(k=1)=%{y:.2f}<extra>gift</extra>",
         "mode": "lines+markers",
         "name": "gift",
         "type": "scatter",
         "x": {
          "bdata": "AAAAAAAAAAAAAAAAAACgPwAAAAAAALA/AAAAAAAAuD8AAAAAAADAPwAAAAAAAMQ/AAAAAAAAyD8AAAAAAADMPwAAAAAAANA/AAAAAAAA0j8AAAAAAADUPwAAAAAAANY/AAAAAAAA2D8AAAAAAADaPwAAAAAAANw/AAAAAAAA3j8AAAAAAADgPwAAAAAAAOE/AAAAAAAA4j8AAAAAAADjPwAAAAAAAOQ/AAAAAAAA5T8AAAAAAADmPwAAAAAAAOc/AAAAAAAA6D8AAAAAAADpPwAAAAAAAOo/AAAAAAAA6z8AAAAAAADsPwAAAAAAAO0/AAAAAAAA7j8AAAAAAADvPwAAAAAAAPA/",
          "dtype": "f8"
         },
         "y": {
          "bdata": "pRLupBLOVkDCJEzCJMxWQECRc9tvyFZAXeEHVNO7VkBsAP+ax8BWQLRQC7VQi1ZAcL1GfaJ8VkCaVEH0v/ZVQEIapEEa3FVATm9605uuVUAAAAAAAGBVQMmUTMmUfFVAjuM4juMoVUCO4ziO4xhVQI7jOI7jKFVAjuM4juMYVUClQK1fKTBVQI7jOI7jOFVAx3Ecx3E8VUA4juM4jiNVQDmO4ziOQ1VAHMdxHMdRVUBAfwH9BVRVQFVVVVVVNVVAOY7jOI5DVUA5juM4jmNVQJi3MyTmbVVAmLczJOZ9VUCYtzMk5m1VQOYmrveBfFVAFlS3yPNuVUAWVLfI835VQHIcx3Ecd1VA",
          "dtype": "f8"
         }
        },
        {
         "hovertemplate": "Layer(norm)=%{x:.2f}<br>JRF(k=1)=%{y:.2f}<extra>occupation_question</extra>",
         "mode": "lines+markers",
         "name": "occupation_question",
         "type": "scatter",
         "x": {
          "bdata": "AAAAAAAAAAAAAAAAAACgPwAAAAAAALA/AAAAAAAAuD8AAAAAAADAPwAAAAAAAMQ/AAAAAAAAyD8AAAAAAADMPwAAAAAAANA/AAAAAAAA0j8AAAAAAADUPwAAAAAAANY/AAAAAAAA2D8AAAAAAADaPwAAAAAAANw/AAAAAAAA3j8AAAAAAADgPwAAAAAAAOE/AAAAAAAA4j8AAAAAAADjPwAAAAAAAOQ/AAAAAAAA5T8AAAAAAADmPwAAAAAAAOc/AAAAAAAA6D8AAAAAAADpPwAAAAAAAOo/AAAAAAAA6z8AAAAAAADsPwAAAAAAAO0/AAAAAAAA7j8AAAAAAADvPwAAAAAAAPA/",
          "dtype": "f8"
         },
         "y": {
          "bdata": "pRLupBLOVkDwRarvRcpWQPiTcmcOxlZAmP//5Eq3VkBsrlCP2sdWQHu0Jj6xllZACdf0oepMVkCQszDqHu5VQHqe53me91VAq6qqqqqqVUC2YAu2YHtVQKIe6qEeOlVA+HM/93MPVUBVVVVVVTVVQBzHcRzHUVVA+HM/93MPVUDofu7nfk5VQDmO4ziOQ1VAOY7jOI5jVUDu537u525VQDmO4ziOa1VAHMdxHMdhVUBBEARBEHRVQKuqqqqqmlVAx3Ecx3GMVUAcx3Ecx4FVQOQ4juM4flVA5DiO4zh+VUDkOI7jOH5VQAAAAAAAcFVA0yd90id9VUAexHcQ35FVQKynsJ7CmlVA",
          "dtype": "f8"
         }
        },
        {
         "hovertemplate": "Layer(norm)=%{x:.2f}<br>JRF(k=1)=%{y:.2f}<extra>occupation_simple</extra>",
         "mode": "lines+markers",
         "name": "occupation_simple",
         "type": "scatter",
         "x": {
          "bdata": "AAAAAAAAAAAAAAAAAACgPwAAAAAAALA/AAAAAAAAuD8AAAAAAADAPwAAAAAAAMQ/AAAAAAAAyD8AAAAAAADMPwAAAAAAANA/AAAAAAAA0j8AAAAAAADUPwAAAAAAANY/AAAAAAAA2D8AAAAAAADaPwAAAAAAANw/AAAAAAAA3j8AAAAAAADgPwAAAAAAAOE/AAAAAAAA4j8AAAAAAADjPwAAAAAAAOQ/AAAAAAAA5T8AAAAAAADmPwAAAAAAAOc/AAAAAAAA6D8AAAAAAADpPwAAAAAAAOo/AAAAAAAA6z8AAAAAAADsPwAAAAAAAO0/AAAAAAAA7j8AAAAAAADvPwAAAAAAAPA/",
          "dtype": "f8"
         },
         "y": {
          "bdata": "pRLupBLOVkAHCCovt8tWQOxBaoY3xFZA4SlpMLm8VkDdc/Q/AMZWQIPiFe2snVZAC2/ZOSliVkAYdhP/D/tVQHh3d3d391VAqBGWexqxVUDIcRzHcXxVQAAAAAAAcFVAv1Kg1q9UVUAAAAAAAIBVQDVN0zRNQ1VANU3TNE0zVUDHcRzHcVxVQLZgC7Zge1VAx3Ecx3FMVUDHcRzHcTxVQMdxHMdxPFVAHMdxHMdRVUAcx3Ecx1FVQBzHcRzHUVVAYt7OkJhXVUBi3s6QmGdVQGLezpCYZ1VAav1KgVp/VUDDegrrKYxVQDwZ8mTIk1VAmGz/ioeJVUCg9Emf9IlVQOQ4juM4jlVA",
          "dtype": "f8"
         }
        },
        {
         "hovertemplate": "Layer(norm)=%{x:.2f}<br>JRF(k=1)=%{y:.2f}<extra>profession_query</extra>",
         "mode": "lines+markers",
         "name": "profession_query",
         "type": "scatter",
         "x": {
          "bdata": "AAAAAAAAAAAAAAAAAACgPwAAAAAAALA/AAAAAAAAuD8AAAAAAADAPwAAAAAAAMQ/AAAAAAAAyD8AAAAAAADMPwAAAAAAANA/AAAAAAAA0j8AAAAAAADUPwAAAAAAANY/AAAAAAAA2D8AAAAAAADaPwAAAAAAANw/AAAAAAAA3j8AAAAAAADgPwAAAAAAAOE/AAAAAAAA4j8AAAAAAADjPwAAAAAAAOQ/AAAAAAAA5T8AAAAAAADmPwAAAAAAAOc/AAAAAAAA6D8AAAAAAADpPwAAAAAAAOo/AAAAAAAA6z8AAAAAAADsPwAAAAAAAO0/AAAAAAAA7j8AAAAAAADvPwAAAAAAAPA/",
          "dtype": "f8"
         },
         "y": {
          "bdata": "pRLupBLOVkDZxa+a2shWQHdAgJZTxFZALZHDg1S5VkDpS18kLs5WQGrXsmnXklZAohu6oRt6VkCh+kxb4+9VQODyLd/y7VVAaHImZ3I2VUC9x3u8xwtVQBQ7sRM7AVVAFDuxEzsBVUAUO7ETOwFVQOEHfuAHHlVAW7AFW7AFVUAYgREYgVFVQNInfdInXVVA5DiO4zg+VUDkOI7jOD5VQOQ4juM4PlVAQK1fKVBLVUBIL4Ax0otVQEgvgDHSi1VAVlVVVVWVVUCWGE2VGI1VQFZVVVVVlVVAOY7jOI6jVUAIgiAIgqBVQJYD35UDr1VAtgthtguxVUCYR+mlLK9VQHaVEQLEm1VA",
          "dtype": "f8"
         }
        },
        {
         "hovertemplate": "Layer(norm)=%{x:.2f}<br>JRF(k=1)=%{y:.2f}<extra>professional_intro</extra>",
         "mode": "lines+markers",
         "name": "professional_intro",
         "type": "scatter",
         "x": {
          "bdata": "AAAAAAAAAAAAAAAAAACgPwAAAAAAALA/AAAAAAAAuD8AAAAAAADAPwAAAAAAAMQ/AAAAAAAAyD8AAAAAAADMPwAAAAAAANA/AAAAAAAA0j8AAAAAAADUPwAAAAAAANY/AAAAAAAA2D8AAAAAAADaPwAAAAAAANw/AAAAAAAA3j8AAAAAAADgPwAAAAAAAOE/AAAAAAAA4j8AAAAAAADjPwAAAAAAAOQ/AAAAAAAA5T8AAAAAAADmPwAAAAAAAOc/AAAAAAAA6D8AAAAAAADpPwAAAAAAAOo/AAAAAAAA6z8AAAAAAADsPwAAAAAAAO0/AAAAAAAA7j8AAAAAAADvPwAAAAAAAPA/",
          "dtype": "f8"
         },
         "y": {
          "bdata": "pRLupBLOVkASaMwRaMxWQP4Cb8wex1ZA6laTdyO9VkA27AvzCL5WQP4SovEtjFZA1vf4qQB0VkCQpwR5SgBWQNZF/AoI/1VA6nL7gwxFVUByHMdxHPdUQI7jOI7j6FRAjuM4juPoVEByHMdxHPdUQKuqqqqq2lRAjuM4juPIVEA5juM4jmNVQEZBSjhcdFVAx3Ecx3F8VUDHcRzHcYxVQO7nfu7njlVAqOwwdbmNVUDHcRzHcYxVQJJ1rjwgmVVApmRKpmSKVUB6O0Ni3o5VQHo7Q2LeflVAgy3Ygi2IVUA8fkuVtaNVQGALtmALllVA2hiblp+NVUBERERERLRVQNuszdqszVVA",
          "dtype": "f8"
         }
        }
       ],
       "layout": {
        "legend": {
         "title": {
          "text": "Template"
         }
        },
        "template": {
         "data": {
          "bar": [
           {
            "error_x": {
             "color": "#2a3f5f"
            },
            "error_y": {
             "color": "#2a3f5f"
            },
            "marker": {
             "line": {
              "color": "#E5ECF6",
              "width": 0.5
             },
             "pattern": {
              "fillmode": "overlay",
              "size": 10,
              "solidity": 0.2
             }
            },
            "type": "bar"
           }
          ],
          "barpolar": [
           {
            "marker": {
             "line": {
              "color": "#E5ECF6",
              "width": 0.5
             },
             "pattern": {
              "fillmode": "overlay",
              "size": 10,
              "solidity": 0.2
             }
            },
            "type": "barpolar"
           }
          ],
          "carpet": [
           {
            "aaxis": {
             "endlinecolor": "#2a3f5f",
             "gridcolor": "white",
             "linecolor": "white",
             "minorgridcolor": "white",
             "startlinecolor": "#2a3f5f"
            },
            "baxis": {
             "endlinecolor": "#2a3f5f",
             "gridcolor": "white",
             "linecolor": "white",
             "minorgridcolor": "white",
             "startlinecolor": "#2a3f5f"
            },
            "type": "carpet"
           }
          ],
          "choropleth": [
           {
            "colorbar": {
             "outlinewidth": 0,
             "ticks": ""
            },
            "type": "choropleth"
           }
          ],
          "contour": [
           {
            "colorbar": {
             "outlinewidth": 0,
             "ticks": ""
            },
            "colorscale": [
             [
              0,
              "#0d0887"
             ],
             [
              0.1111111111111111,
              "#46039f"
             ],
             [
              0.2222222222222222,
              "#7201a8"
             ],
             [
              0.3333333333333333,
              "#9c179e"
             ],
             [
              0.4444444444444444,
              "#bd3786"
             ],
             [
              0.5555555555555556,
              "#d8576b"
             ],
             [
              0.6666666666666666,
              "#ed7953"
             ],
             [
              0.7777777777777778,
              "#fb9f3a"
             ],
             [
              0.8888888888888888,
              "#fdca26"
             ],
             [
              1,
              "#f0f921"
             ]
            ],
            "type": "contour"
           }
          ],
          "contourcarpet": [
           {
            "colorbar": {
             "outlinewidth": 0,
             "ticks": ""
            },
            "type": "contourcarpet"
           }
          ],
          "heatmap": [
           {
            "colorbar": {
             "outlinewidth": 0,
             "ticks": ""
            },
            "colorscale": [
             [
              0,
              "#0d0887"
             ],
             [
              0.1111111111111111,
              "#46039f"
             ],
             [
              0.2222222222222222,
              "#7201a8"
             ],
             [
              0.3333333333333333,
              "#9c179e"
             ],
             [
              0.4444444444444444,
              "#bd3786"
             ],
             [
              0.5555555555555556,
              "#d8576b"
             ],
             [
              0.6666666666666666,
              "#ed7953"
             ],
             [
              0.7777777777777778,
              "#fb9f3a"
             ],
             [
              0.8888888888888888,
              "#fdca26"
             ],
             [
              1,
              "#f0f921"
             ]
            ],
            "type": "heatmap"
           }
          ],
          "histogram": [
           {
            "marker": {
             "pattern": {
              "fillmode": "overlay",
              "size": 10,
              "solidity": 0.2
             }
            },
            "type": "histogram"
           }
          ],
          "histogram2d": [
           {
            "colorbar": {
             "outlinewidth": 0,
             "ticks": ""
            },
            "colorscale": [
             [
              0,
              "#0d0887"
             ],
             [
              0.1111111111111111,
              "#46039f"
             ],
             [
              0.2222222222222222,
              "#7201a8"
             ],
             [
              0.3333333333333333,
              "#9c179e"
             ],
             [
              0.4444444444444444,
              "#bd3786"
             ],
             [
              0.5555555555555556,
              "#d8576b"
             ],
             [
              0.6666666666666666,
              "#ed7953"
             ],
             [
              0.7777777777777778,
              "#fb9f3a"
             ],
             [
              0.8888888888888888,
              "#fdca26"
             ],
             [
              1,
              "#f0f921"
             ]
            ],
            "type": "histogram2d"
           }
          ],
          "histogram2dcontour": [
           {
            "colorbar": {
             "outlinewidth": 0,
             "ticks": ""
            },
            "colorscale": [
             [
              0,
              "#0d0887"
             ],
             [
              0.1111111111111111,
              "#46039f"
             ],
             [
              0.2222222222222222,
              "#7201a8"
             ],
             [
              0.3333333333333333,
              "#9c179e"
             ],
             [
              0.4444444444444444,
              "#bd3786"
             ],
             [
              0.5555555555555556,
              "#d8576b"
             ],
             [
              0.6666666666666666,
              "#ed7953"
             ],
             [
              0.7777777777777778,
              "#fb9f3a"
             ],
             [
              0.8888888888888888,
              "#fdca26"
             ],
             [
              1,
              "#f0f921"
             ]
            ],
            "type": "histogram2dcontour"
           }
          ],
          "mesh3d": [
           {
            "colorbar": {
             "outlinewidth": 0,
             "ticks": ""
            },
            "type": "mesh3d"
           }
          ],
          "parcoords": [
           {
            "line": {
             "colorbar": {
              "outlinewidth": 0,
              "ticks": ""
             }
            },
            "type": "parcoords"
           }
          ],
          "pie": [
           {
            "automargin": true,
            "type": "pie"
           }
          ],
          "scatter": [
           {
            "fillpattern": {
             "fillmode": "overlay",
             "size": 10,
             "solidity": 0.2
            },
            "type": "scatter"
           }
          ],
          "scatter3d": [
           {
            "line": {
             "colorbar": {
              "outlinewidth": 0,
              "ticks": ""
             }
            },
            "marker": {
             "colorbar": {
              "outlinewidth": 0,
              "ticks": ""
             }
            },
            "type": "scatter3d"
           }
          ],
          "scattercarpet": [
           {
            "marker": {
             "colorbar": {
              "outlinewidth": 0,
              "ticks": ""
             }
            },
            "type": "scattercarpet"
           }
          ],
          "scattergeo": [
           {
            "marker": {
             "colorbar": {
              "outlinewidth": 0,
              "ticks": ""
             }
            },
            "type": "scattergeo"
           }
          ],
          "scattergl": [
           {
            "marker": {
             "colorbar": {
              "outlinewidth": 0,
              "ticks": ""
             }
            },
            "type": "scattergl"
           }
          ],
          "scattermap": [
           {
            "marker": {
             "colorbar": {
              "outlinewidth": 0,
              "ticks": ""
             }
            },
            "type": "scattermap"
           }
          ],
          "scattermapbox": [
           {
            "marker": {
             "colorbar": {
              "outlinewidth": 0,
              "ticks": ""
             }
            },
            "type": "scattermapbox"
           }
          ],
          "scatterpolar": [
           {
            "marker": {
             "colorbar": {
              "outlinewidth": 0,
              "ticks": ""
             }
            },
            "type": "scatterpolar"
           }
          ],
          "scatterpolargl": [
           {
            "marker": {
             "colorbar": {
              "outlinewidth": 0,
              "ticks": ""
             }
            },
            "type": "scatterpolargl"
           }
          ],
          "scatterternary": [
           {
            "marker": {
             "colorbar": {
              "outlinewidth": 0,
              "ticks": ""
             }
            },
            "type": "scatterternary"
           }
          ],
          "surface": [
           {
            "colorbar": {
             "outlinewidth": 0,
             "ticks": ""
            },
            "colorscale": [
             [
              0,
              "#0d0887"
             ],
             [
              0.1111111111111111,
              "#46039f"
             ],
             [
              0.2222222222222222,
              "#7201a8"
             ],
             [
              0.3333333333333333,
              "#9c179e"
             ],
             [
              0.4444444444444444,
              "#bd3786"
             ],
             [
              0.5555555555555556,
              "#d8576b"
             ],
             [
              0.6666666666666666,
              "#ed7953"
             ],
             [
              0.7777777777777778,
              "#fb9f3a"
             ],
             [
              0.8888888888888888,
              "#fdca26"
             ],
             [
              1,
              "#f0f921"
             ]
            ],
            "type": "surface"
           }
          ],
          "table": [
           {
            "cells": {
             "fill": {
              "color": "#EBF0F8"
             },
             "line": {
              "color": "white"
             }
            },
            "header": {
             "fill": {
              "color": "#C8D4E3"
             },
             "line": {
              "color": "white"
             }
            },
            "type": "table"
           }
          ]
         },
         "layout": {
          "annotationdefaults": {
           "arrowcolor": "#2a3f5f",
           "arrowhead": 0,
           "arrowwidth": 1
          },
          "autotypenumbers": "strict",
          "coloraxis": {
           "colorbar": {
            "outlinewidth": 0,
            "ticks": ""
           }
          },
          "colorscale": {
           "diverging": [
            [
             0,
             "#8e0152"
            ],
            [
             0.1,
             "#c51b7d"
            ],
            [
             0.2,
             "#de77ae"
            ],
            [
             0.3,
             "#f1b6da"
            ],
            [
             0.4,
             "#fde0ef"
            ],
            [
             0.5,
             "#f7f7f7"
            ],
            [
             0.6,
             "#e6f5d0"
            ],
            [
             0.7,
             "#b8e186"
            ],
            [
             0.8,
             "#7fbc41"
            ],
            [
             0.9,
             "#4d9221"
            ],
            [
             1,
             "#276419"
            ]
           ],
           "sequential": [
            [
             0,
             "#0d0887"
            ],
            [
             0.1111111111111111,
             "#46039f"
            ],
            [
             0.2222222222222222,
             "#7201a8"
            ],
            [
             0.3333333333333333,
             "#9c179e"
            ],
            [
             0.4444444444444444,
             "#bd3786"
            ],
            [
             0.5555555555555556,
             "#d8576b"
            ],
            [
             0.6666666666666666,
             "#ed7953"
            ],
            [
             0.7777777777777778,
             "#fb9f3a"
            ],
            [
             0.8888888888888888,
             "#fdca26"
            ],
            [
             1,
             "#f0f921"
            ]
           ],
           "sequentialminus": [
            [
             0,
             "#0d0887"
            ],
            [
             0.1111111111111111,
             "#46039f"
            ],
            [
             0.2222222222222222,
             "#7201a8"
            ],
            [
             0.3333333333333333,
             "#9c179e"
            ],
            [
             0.4444444444444444,
             "#bd3786"
            ],
            [
             0.5555555555555556,
             "#d8576b"
            ],
            [
             0.6666666666666666,
             "#ed7953"
            ],
            [
             0.7777777777777778,
             "#fb9f3a"
            ],
            [
             0.8888888888888888,
             "#fdca26"
            ],
            [
             1,
             "#f0f921"
            ]
           ]
          },
          "colorway": [
           "#636efa",
           "#EF553B",
           "#00cc96",
           "#ab63fa",
           "#FFA15A",
           "#19d3f3",
           "#FF6692",
           "#B6E880",
           "#FF97FF",
           "#FECB52"
          ],
          "font": {
           "color": "#2a3f5f"
          },
          "geo": {
           "bgcolor": "white",
           "lakecolor": "white",
           "landcolor": "#E5ECF6",
           "showlakes": true,
           "showland": true,
           "subunitcolor": "white"
          },
          "hoverlabel": {
           "align": "left"
          },
          "hovermode": "closest",
          "mapbox": {
           "style": "light"
          },
          "paper_bgcolor": "white",
          "plot_bgcolor": "#E5ECF6",
          "polar": {
           "angularaxis": {
            "gridcolor": "white",
            "linecolor": "white",
            "ticks": ""
           },
           "bgcolor": "#E5ECF6",
           "radialaxis": {
            "gridcolor": "white",
            "linecolor": "white",
            "ticks": ""
           }
          },
          "scene": {
           "xaxis": {
            "backgroundcolor": "#E5ECF6",
            "gridcolor": "white",
            "gridwidth": 2,
            "linecolor": "white",
            "showbackground": true,
            "ticks": "",
            "zerolinecolor": "white"
           },
           "yaxis": {
            "backgroundcolor": "#E5ECF6",
            "gridcolor": "white",
            "gridwidth": 2,
            "linecolor": "white",
            "showbackground": true,
            "ticks": "",
            "zerolinecolor": "white"
           },
           "zaxis": {
            "backgroundcolor": "#E5ECF6",
            "gridcolor": "white",
            "gridwidth": 2,
            "linecolor": "white",
            "showbackground": true,
            "ticks": "",
            "zerolinecolor": "white"
           }
          },
          "shapedefaults": {
           "line": {
            "color": "#2a3f5f"
           }
          },
          "ternary": {
           "aaxis": {
            "gridcolor": "white",
            "linecolor": "white",
            "ticks": ""
           },
           "baxis": {
            "gridcolor": "white",
            "linecolor": "white",
            "ticks": ""
           },
           "bgcolor": "#E5ECF6",
           "caxis": {
            "gridcolor": "white",
            "linecolor": "white",
            "ticks": ""
           }
          },
          "title": {
           "x": 0.05
          },
          "xaxis": {
           "automargin": true,
           "gridcolor": "white",
           "linecolor": "white",
           "ticks": "",
           "title": {
            "standoff": 15
           },
           "zerolinecolor": "white",
           "zerolinewidth": 2
          },
          "yaxis": {
           "automargin": true,
           "gridcolor": "white",
           "linecolor": "white",
           "ticks": "",
           "title": {
            "standoff": 15
           },
           "zerolinecolor": "white",
           "zerolinewidth": 2
          }
         }
        },
        "title": {
         "text": "Llama-3-8B: JRF(k=1) across normalized layers (↓)"
        },
        "xaxis": {
         "range": [
          -0.01,
          1.01
         ],
         "title": {
          "text": "Normalized layer (0 → 1)"
         }
        },
        "yaxis": {
         "title": {
          "text": "JRF(k=1)"
         }
        }
       }
      }
     },
     "metadata": {},
     "output_type": "display_data"
    },
    {
     "data": {
      "application/vnd.plotly.v1+json": {
       "config": {
        "plotlyServerURL": "https://plot.ly"
       },
       "data": [
        {
         "hovertemplate": "Layer(norm)=%{x:.2f}<br>Generalized Triplet Distance=%{y:.2f}<extra>entity_only</extra>",
         "mode": "lines+markers",
         "name": "entity_only",
         "type": "scatter",
         "x": {
          "bdata": "AAAAAAAAAAAAAAAAAACgPwAAAAAAALA/AAAAAAAAuD8AAAAAAADAPwAAAAAAAMQ/AAAAAAAAyD8AAAAAAADMPwAAAAAAANA/AAAAAAAA0j8AAAAAAADUPwAAAAAAANY/AAAAAAAA2D8AAAAAAADaPwAAAAAAANw/AAAAAAAA3j8AAAAAAADgPwAAAAAAAOE/AAAAAAAA4j8AAAAAAADjPwAAAAAAAOQ/AAAAAAAA5T8AAAAAAADmPwAAAAAAAOc/AAAAAAAA6D8AAAAAAADpPwAAAAAAAOo/AAAAAAAA6z8AAAAAAADsPwAAAAAAAO0/AAAAAAAA7j8AAAAAAADvPwAAAAAAAPA/",
          "dtype": "f8"
         },
         "y": {
          "bdata": "yrtqxXaU5T+2OJwYdGblP+PbknfViuU/hmfBMb4t5T+l47HzxUzlPyo0geFZcOQ/5TMWsbI04z8UmsDwLDjeP7iQH1JREN8/KnUS1wwQ1D/Eck8jLPfEP2Q7yvz7usk//KM38FbXxz8klyfc/afMP+Qv0drmtcg/BDIpXiCTwj9wnxy5POHOP3SQtCGq1NE/Vuokrhkg0D84cnnC3X/KP2DMVH/0Bs4/8Oum0ASGxz/w1LSM2nvFP9jicGLQmcU/YA3mdKemxT+wm0ITGJ7FP6BGWO5phMU/lBDquX1yxD8I3ur6DmjHPyifsYiVpck/RBdddNFFxz9gi8OJQWfGPwwQFFkv+8k/",
          "dtype": "f8"
         }
        },
        {
         "hovertemplate": "Layer(norm)=%{x:.2f}<br>Generalized Triplet Distance=%{y:.2f}<extra>gift</extra>",
         "mode": "lines+markers",
         "name": "gift",
         "type": "scatter",
         "x": {
          "bdata": "AAAAAAAAAAAAAAAAAACgPwAAAAAAALA/AAAAAAAAuD8AAAAAAADAPwAAAAAAAMQ/AAAAAAAAyD8AAAAAAADMPwAAAAAAANA/AAAAAAAA0j8AAAAAAADUPwAAAAAAANY/AAAAAAAA2D8AAAAAAADaPwAAAAAAANw/AAAAAAAA3j8AAAAAAADgPwAAAAAAAOE/AAAAAAAA4j8AAAAAAADjPwAAAAAAAOQ/AAAAAAAA5T8AAAAAAADmPwAAAAAAAOc/AAAAAAAA6D8AAAAAAADpPwAAAAAAAOo/AAAAAAAA6z8AAAAAAADsPwAAAAAAAO0/AAAAAAAA7j8AAAAAAADvPwAAAAAAAPA/",
          "dtype": "f8"
         },
         "y": {
          "bdata": "yrtqxXaU5T/VtIzae4XlPyhxzQBBkeU/0FjEytJc5T9WVVVVVVXlP6Q38FbXd+Q/8Oum0ASG4z+Yqf7oDbzdP7p9cuTyhNs/Fhzj25J31T+gntsnRy7PPygdj50vZtI/3BSawPAsyD/w66bQBIbHP3zdFJrA8Mw/WIM53alpyT/Uc/vkyOXRP8q7asV2lNE/5BwkbYgq1T+qqqqqqqrSP1A6HjtfzNQ/ZCgdj50v1j8YdGYVcCHXP9YfvYG3utY/XovDiUFn1j8sS3MlhHrWP/oOaJeSDNU/kgyl47Hz1T+m47HzxUzVP35y5PKEu9c/yiabbLLJ1j+0S0mG0vHYP/ICmRQvkNk/",
          "dtype": "f8"
         }
        },
        {
         "hovertemplate": "Layer(norm)=%{x:.2f}<br>Generalized Triplet Distance=%{y:.2f}<extra>occupation_question</extra>",
         "mode": "lines+markers",
         "name": "occupation_question",
         "type": "scatter",
         "x": {
          "bdata": "AAAAAAAAAAAAAAAAAACgPwAAAAAAALA/AAAAAAAAuD8AAAAAAADAPwAAAAAAAMQ/AAAAAAAAyD8AAAAAAADMPwAAAAAAANA/AAAAAAAA0j8AAAAAAADUPwAAAAAAANY/AAAAAAAA2D8AAAAAAADaPwAAAAAAANw/AAAAAAAA3j8AAAAAAADgPwAAAAAAAOE/AAAAAAAA4j8AAAAAAADjPwAAAAAAAOQ/AAAAAAAA5T8AAAAAAADmPwAAAAAAAOc/AAAAAAAA6D8AAAAAAADpPwAAAAAAAOo/AAAAAAAA6z8AAAAAAADsPwAAAAAAAO0/AAAAAAAA7j8AAAAAAADvPwAAAAAAAPA/",
          "dtype": "f8"
         },
         "y": {
          "bdata": "yrtqxXaU5T/9+7opNIHlP4UmMDwLjuU/VlVVVVVV5T+4ZoCgyHrlPzqJawYIiuQ/FFkv+3mY4j/693VTaALbPzTCck8jLN8/3GjYIwJY0z8c49uSd9XSP8jlCXf/Kc8/SASwBnO6wz88dr6Yqf7QP6bQBIZnwdE/+Pd1U2gCwz8GnVkFXMjXP5Qjlyfc/dc/Uubf102h2T9u81ocTgzaP7ajzL+vm9o/nBh0ZhVw2T+allF7rzDaP5L1sp+H6ds/ROl47Hwx2z+QnS9mqj/aPwIX8kMqCto/cLYO/Wbr2D8U7v5TPmPZP9Y2r8XhxNg/zH4epo9z2D8SK0tzJYTaP2quhFDP7ds/",
          "dtype": "f8"
         }
        },
        {
         "hovertemplate": "Layer(norm)=%{x:.2f}<br>Generalized Triplet Distance=%{y:.2f}<extra>occupation_simple</extra>",
         "mode": "lines+markers",
         "name": "occupation_simple",
         "type": "scatter",
         "x": {
          "bdata": "AAAAAAAAAAAAAAAAAACgPwAAAAAAALA/AAAAAAAAuD8AAAAAAADAPwAAAAAAAMQ/AAAAAAAAyD8AAAAAAADMPwAAAAAAANA/AAAAAAAA0j8AAAAAAADUPwAAAAAAANY/AAAAAAAA2D8AAAAAAADaPwAAAAAAANw/AAAAAAAA3j8AAAAAAADgPwAAAAAAAOE/AAAAAAAA4j8AAAAAAADjPwAAAAAAAOQ/AAAAAAAA5T8AAAAAAADmPwAAAAAAAOc/AAAAAAAA6D8AAAAAAADpPwAAAAAAAOo/AAAAAAAA6z8AAAAAAADsPwAAAAAAAO0/AAAAAAAA7j8AAAAAAADvPwAAAAAAAPA/",
          "dtype": "f8"
         },
         "y": {
          "bdata": "yrtqxXaU5T+fRljuaYTlPwsjwcaNhuU/3n/KZyxi5T+cGHRmFXDlP9qlJEPpeOQ/Po2w3NMI4z9scTgx6MzaP3ZTaALDs9g/UlEQf4nW1j8C7VKSoXTUPyZa27wWh9M/RGub1+Jw0j86cnnC3X/aP1bAhfyQitI/jBsNe0QAyz9UFMRforXVP0YXXXTRRdc/WrEdZf591T+4ur4D2qXUP+hh+jgHSdM/wjG+LXlX1T8Qf4nWNq/VP0J+SEVB/NU/NIHhWXCM1z+oEZZ7GmHZPzRXQqjn9tk/bHE4MejM2j/yGYtYWZrbP6ppGbX3Cts/SobS8dj52j8CWIM53anZP/SbrUO/2do/",
          "dtype": "f8"
         }
        },
        {
         "hovertemplate": "Layer(norm)=%{x:.2f}<br>Generalized Triplet Distance=%{y:.2f}<extra>profession_query</extra>",
         "mode": "lines+markers",
         "name": "profession_query",
         "type": "scatter",
         "x": {
          "bdata": "AAAAAAAAAAAAAAAAAACgPwAAAAAAALA/AAAAAAAAuD8AAAAAAADAPwAAAAAAAMQ/AAAAAAAAyD8AAAAAAADMPwAAAAAAANA/AAAAAAAA0j8AAAAAAADUPwAAAAAAANY/AAAAAAAA2D8AAAAAAADaPwAAAAAAANw/AAAAAAAA3j8AAAAAAADgPwAAAAAAAOE/AAAAAAAA4j8AAAAAAADjPwAAAAAAAOQ/AAAAAAAA5T8AAAAAAADmPwAAAAAAAOc/AAAAAAAA6D8AAAAAAADpPwAAAAAAAOo/AAAAAAAA6z8AAAAAAADsPwAAAAAAAO0/AAAAAAAA7j8AAAAAAADvPwAAAAAAAPA/",
          "dtype": "f8"
         },
         "y": {
          "bdata": "yrtqxXaU5T+C+Eu0tnnlP7yUZCgdj+U/Lg4nBp1Z5T8LI8HGjYblP0RUqZO4ZuQ/3GjYIwJY4z/u1LSM2nvdPxKWexphud8/nGyyySabzD+s1ElcM0DAPwDtUpKhdLw/0O2TI5cnvD9wHfrN1qG/P3iBTIoXyMQ/PDUto/ZewT869JutQ7/RPw5ol5IMpdM/+HVTaALD0z/apSRD6XjUPxIBrMGc7tQ/eEC7lGQo1T+WexphuafZP8j4tuRdtdo/EkI9t0+O3D/aZJNNNtncPy4OJwadWd0/jrDc0wjL3T8a9ogA1mDePx7QLiUZSt8/iu0o8+/r3j8uDicGnVndPwIu5IdUFNw/",
          "dtype": "f8"
         }
        },
        {
         "hovertemplate": "Layer(norm)=%{x:.2f}<br>Generalized Triplet Distance=%{y:.2f}<extra>professional_intro</extra>",
         "mode": "lines+markers",
         "name": "professional_intro",
         "type": "scatter",
         "x": {
          "bdata": "AAAAAAAAAAAAAAAAAACgPwAAAAAAALA/AAAAAAAAuD8AAAAAAADAPwAAAAAAAMQ/AAAAAAAAyD8AAAAAAADMPwAAAAAAANA/AAAAAAAA0j8AAAAAAADUPwAAAAAAANY/AAAAAAAA2D8AAAAAAADaPwAAAAAAANw/AAAAAAAA3j8AAAAAAADgPwAAAAAAAOE/AAAAAAAA4j8AAAAAAADjPwAAAAAAAOQ/AAAAAAAA5T8AAAAAAADmPwAAAAAAAOc/AAAAAAAA6D8AAAAAAADpPwAAAAAAAOo/AAAAAAAA6z8AAAAAAADsPwAAAAAAAO0/AAAAAAAA7j8AAAAAAADvPwAAAAAAAPA/",
          "dtype": "f8"
         },
         "y": {
          "bdata": "yrtqxXaU5T+fRljuaYTlP+PbknfViuU/SlwzQFBk5T8wPAuO8W3lP2Citc1rceQ/iWsGCIqs4z8osl728zDhPwq4kB9SUeA/jMOJQWdW0T+s6zugXUrCP7Bxo2GPCMA/FHAhP6SiwD9MCPXcPjnCP0DShqhSJ8E/yOUJd/8pvz94QLuUZCjVP54Fx/i25NU/2jr0m61D1z9cyA+pKIjXP7bNa3E4Mdg/7Odh+jgH2T8i62U/D9PXP8h62c/D9Nk/jMOJQWdW2T+u74B2KcnYP0422WSTTdY/zKi9VxgJ1j+af183hSbYPxxODDqzCtg/HE4MOrMK2D/e6voOaJfaP2xHmX9fN90/",
          "dtype": "f8"
         }
        }
       ],
       "layout": {
        "legend": {
         "title": {
          "text": "Template"
         }
        },
        "template": {
         "data": {
          "bar": [
           {
            "error_x": {
             "color": "#2a3f5f"
            },
            "error_y": {
             "color": "#2a3f5f"
            },
            "marker": {
             "line": {
              "color": "#E5ECF6",
              "width": 0.5
             },
             "pattern": {
              "fillmode": "overlay",
              "size": 10,
              "solidity": 0.2
             }
            },
            "type": "bar"
           }
          ],
          "barpolar": [
           {
            "marker": {
             "line": {
              "color": "#E5ECF6",
              "width": 0.5
             },
             "pattern": {
              "fillmode": "overlay",
              "size": 10,
              "solidity": 0.2
             }
            },
            "type": "barpolar"
           }
          ],
          "carpet": [
           {
            "aaxis": {
             "endlinecolor": "#2a3f5f",
             "gridcolor": "white",
             "linecolor": "white",
             "minorgridcolor": "white",
             "startlinecolor": "#2a3f5f"
            },
            "baxis": {
             "endlinecolor": "#2a3f5f",
             "gridcolor": "white",
             "linecolor": "white",
             "minorgridcolor": "white",
             "startlinecolor": "#2a3f5f"
            },
            "type": "carpet"
           }
          ],
          "choropleth": [
           {
            "colorbar": {
             "outlinewidth": 0,
             "ticks": ""
            },
            "type": "choropleth"
           }
          ],
          "contour": [
           {
            "colorbar": {
             "outlinewidth": 0,
             "ticks": ""
            },
            "colorscale": [
             [
              0,
              "#0d0887"
             ],
             [
              0.1111111111111111,
              "#46039f"
             ],
             [
              0.2222222222222222,
              "#7201a8"
             ],
             [
              0.3333333333333333,
              "#9c179e"
             ],
             [
              0.4444444444444444,
              "#bd3786"
             ],
             [
              0.5555555555555556,
              "#d8576b"
             ],
             [
              0.6666666666666666,
              "#ed7953"
             ],
             [
              0.7777777777777778,
              "#fb9f3a"
             ],
             [
              0.8888888888888888,
              "#fdca26"
             ],
             [
              1,
              "#f0f921"
             ]
            ],
            "type": "contour"
           }
          ],
          "contourcarpet": [
           {
            "colorbar": {
             "outlinewidth": 0,
             "ticks": ""
            },
            "type": "contourcarpet"
           }
          ],
          "heatmap": [
           {
            "colorbar": {
             "outlinewidth": 0,
             "ticks": ""
            },
            "colorscale": [
             [
              0,
              "#0d0887"
             ],
             [
              0.1111111111111111,
              "#46039f"
             ],
             [
              0.2222222222222222,
              "#7201a8"
             ],
             [
              0.3333333333333333,
              "#9c179e"
             ],
             [
              0.4444444444444444,
              "#bd3786"
             ],
             [
              0.5555555555555556,
              "#d8576b"
             ],
             [
              0.6666666666666666,
              "#ed7953"
             ],
             [
              0.7777777777777778,
              "#fb9f3a"
             ],
             [
              0.8888888888888888,
              "#fdca26"
             ],
             [
              1,
              "#f0f921"
             ]
            ],
            "type": "heatmap"
           }
          ],
          "histogram": [
           {
            "marker": {
             "pattern": {
              "fillmode": "overlay",
              "size": 10,
              "solidity": 0.2
             }
            },
            "type": "histogram"
           }
          ],
          "histogram2d": [
           {
            "colorbar": {
             "outlinewidth": 0,
             "ticks": ""
            },
            "colorscale": [
             [
              0,
              "#0d0887"
             ],
             [
              0.1111111111111111,
              "#46039f"
             ],
             [
              0.2222222222222222,
              "#7201a8"
             ],
             [
              0.3333333333333333,
              "#9c179e"
             ],
             [
              0.4444444444444444,
              "#bd3786"
             ],
             [
              0.5555555555555556,
              "#d8576b"
             ],
             [
              0.6666666666666666,
              "#ed7953"
             ],
             [
              0.7777777777777778,
              "#fb9f3a"
             ],
             [
              0.8888888888888888,
              "#fdca26"
             ],
             [
              1,
              "#f0f921"
             ]
            ],
            "type": "histogram2d"
           }
          ],
          "histogram2dcontour": [
           {
            "colorbar": {
             "outlinewidth": 0,
             "ticks": ""
            },
            "colorscale": [
             [
              0,
              "#0d0887"
             ],
             [
              0.1111111111111111,
              "#46039f"
             ],
             [
              0.2222222222222222,
              "#7201a8"
             ],
             [
              0.3333333333333333,
              "#9c179e"
             ],
             [
              0.4444444444444444,
              "#bd3786"
             ],
             [
              0.5555555555555556,
              "#d8576b"
             ],
             [
              0.6666666666666666,
              "#ed7953"
             ],
             [
              0.7777777777777778,
              "#fb9f3a"
             ],
             [
              0.8888888888888888,
              "#fdca26"
             ],
             [
              1,
              "#f0f921"
             ]
            ],
            "type": "histogram2dcontour"
           }
          ],
          "mesh3d": [
           {
            "colorbar": {
             "outlinewidth": 0,
             "ticks": ""
            },
            "type": "mesh3d"
           }
          ],
          "parcoords": [
           {
            "line": {
             "colorbar": {
              "outlinewidth": 0,
              "ticks": ""
             }
            },
            "type": "parcoords"
           }
          ],
          "pie": [
           {
            "automargin": true,
            "type": "pie"
           }
          ],
          "scatter": [
           {
            "fillpattern": {
             "fillmode": "overlay",
             "size": 10,
             "solidity": 0.2
            },
            "type": "scatter"
           }
          ],
          "scatter3d": [
           {
            "line": {
             "colorbar": {
              "outlinewidth": 0,
              "ticks": ""
             }
            },
            "marker": {
             "colorbar": {
              "outlinewidth": 0,
              "ticks": ""
             }
            },
            "type": "scatter3d"
           }
          ],
          "scattercarpet": [
           {
            "marker": {
             "colorbar": {
              "outlinewidth": 0,
              "ticks": ""
             }
            },
            "type": "scattercarpet"
           }
          ],
          "scattergeo": [
           {
            "marker": {
             "colorbar": {
              "outlinewidth": 0,
              "ticks": ""
             }
            },
            "type": "scattergeo"
           }
          ],
          "scattergl": [
           {
            "marker": {
             "colorbar": {
              "outlinewidth": 0,
              "ticks": ""
             }
            },
            "type": "scattergl"
           }
          ],
          "scattermap": [
           {
            "marker": {
             "colorbar": {
              "outlinewidth": 0,
              "ticks": ""
             }
            },
            "type": "scattermap"
           }
          ],
          "scattermapbox": [
           {
            "marker": {
             "colorbar": {
              "outlinewidth": 0,
              "ticks": ""
             }
            },
            "type": "scattermapbox"
           }
          ],
          "scatterpolar": [
           {
            "marker": {
             "colorbar": {
              "outlinewidth": 0,
              "ticks": ""
             }
            },
            "type": "scatterpolar"
           }
          ],
          "scatterpolargl": [
           {
            "marker": {
             "colorbar": {
              "outlinewidth": 0,
              "ticks": ""
             }
            },
            "type": "scatterpolargl"
           }
          ],
          "scatterternary": [
           {
            "marker": {
             "colorbar": {
              "outlinewidth": 0,
              "ticks": ""
             }
            },
            "type": "scatterternary"
           }
          ],
          "surface": [
           {
            "colorbar": {
             "outlinewidth": 0,
             "ticks": ""
            },
            "colorscale": [
             [
              0,
              "#0d0887"
             ],
             [
              0.1111111111111111,
              "#46039f"
             ],
             [
              0.2222222222222222,
              "#7201a8"
             ],
             [
              0.3333333333333333,
              "#9c179e"
             ],
             [
              0.4444444444444444,
              "#bd3786"
             ],
             [
              0.5555555555555556,
              "#d8576b"
             ],
             [
              0.6666666666666666,
              "#ed7953"
             ],
             [
              0.7777777777777778,
              "#fb9f3a"
             ],
             [
              0.8888888888888888,
              "#fdca26"
             ],
             [
              1,
              "#f0f921"
             ]
            ],
            "type": "surface"
           }
          ],
          "table": [
           {
            "cells": {
             "fill": {
              "color": "#EBF0F8"
             },
             "line": {
              "color": "white"
             }
            },
            "header": {
             "fill": {
              "color": "#C8D4E3"
             },
             "line": {
              "color": "white"
             }
            },
            "type": "table"
           }
          ]
         },
         "layout": {
          "annotationdefaults": {
           "arrowcolor": "#2a3f5f",
           "arrowhead": 0,
           "arrowwidth": 1
          },
          "autotypenumbers": "strict",
          "coloraxis": {
           "colorbar": {
            "outlinewidth": 0,
            "ticks": ""
           }
          },
          "colorscale": {
           "diverging": [
            [
             0,
             "#8e0152"
            ],
            [
             0.1,
             "#c51b7d"
            ],
            [
             0.2,
             "#de77ae"
            ],
            [
             0.3,
             "#f1b6da"
            ],
            [
             0.4,
             "#fde0ef"
            ],
            [
             0.5,
             "#f7f7f7"
            ],
            [
             0.6,
             "#e6f5d0"
            ],
            [
             0.7,
             "#b8e186"
            ],
            [
             0.8,
             "#7fbc41"
            ],
            [
             0.9,
             "#4d9221"
            ],
            [
             1,
             "#276419"
            ]
           ],
           "sequential": [
            [
             0,
             "#0d0887"
            ],
            [
             0.1111111111111111,
             "#46039f"
            ],
            [
             0.2222222222222222,
             "#7201a8"
            ],
            [
             0.3333333333333333,
             "#9c179e"
            ],
            [
             0.4444444444444444,
             "#bd3786"
            ],
            [
             0.5555555555555556,
             "#d8576b"
            ],
            [
             0.6666666666666666,
             "#ed7953"
            ],
            [
             0.7777777777777778,
             "#fb9f3a"
            ],
            [
             0.8888888888888888,
             "#fdca26"
            ],
            [
             1,
             "#f0f921"
            ]
           ],
           "sequentialminus": [
            [
             0,
             "#0d0887"
            ],
            [
             0.1111111111111111,
             "#46039f"
            ],
            [
             0.2222222222222222,
             "#7201a8"
            ],
            [
             0.3333333333333333,
             "#9c179e"
            ],
            [
             0.4444444444444444,
             "#bd3786"
            ],
            [
             0.5555555555555556,
             "#d8576b"
            ],
            [
             0.6666666666666666,
             "#ed7953"
            ],
            [
             0.7777777777777778,
             "#fb9f3a"
            ],
            [
             0.8888888888888888,
             "#fdca26"
            ],
            [
             1,
             "#f0f921"
            ]
           ]
          },
          "colorway": [
           "#636efa",
           "#EF553B",
           "#00cc96",
           "#ab63fa",
           "#FFA15A",
           "#19d3f3",
           "#FF6692",
           "#B6E880",
           "#FF97FF",
           "#FECB52"
          ],
          "font": {
           "color": "#2a3f5f"
          },
          "geo": {
           "bgcolor": "white",
           "lakecolor": "white",
           "landcolor": "#E5ECF6",
           "showlakes": true,
           "showland": true,
           "subunitcolor": "white"
          },
          "hoverlabel": {
           "align": "left"
          },
          "hovermode": "closest",
          "mapbox": {
           "style": "light"
          },
          "paper_bgcolor": "white",
          "plot_bgcolor": "#E5ECF6",
          "polar": {
           "angularaxis": {
            "gridcolor": "white",
            "linecolor": "white",
            "ticks": ""
           },
           "bgcolor": "#E5ECF6",
           "radialaxis": {
            "gridcolor": "white",
            "linecolor": "white",
            "ticks": ""
           }
          },
          "scene": {
           "xaxis": {
            "backgroundcolor": "#E5ECF6",
            "gridcolor": "white",
            "gridwidth": 2,
            "linecolor": "white",
            "showbackground": true,
            "ticks": "",
            "zerolinecolor": "white"
           },
           "yaxis": {
            "backgroundcolor": "#E5ECF6",
            "gridcolor": "white",
            "gridwidth": 2,
            "linecolor": "white",
            "showbackground": true,
            "ticks": "",
            "zerolinecolor": "white"
           },
           "zaxis": {
            "backgroundcolor": "#E5ECF6",
            "gridcolor": "white",
            "gridwidth": 2,
            "linecolor": "white",
            "showbackground": true,
            "ticks": "",
            "zerolinecolor": "white"
           }
          },
          "shapedefaults": {
           "line": {
            "color": "#2a3f5f"
           }
          },
          "ternary": {
           "aaxis": {
            "gridcolor": "white",
            "linecolor": "white",
            "ticks": ""
           },
           "baxis": {
            "gridcolor": "white",
            "linecolor": "white",
            "ticks": ""
           },
           "bgcolor": "#E5ECF6",
           "caxis": {
            "gridcolor": "white",
            "linecolor": "white",
            "ticks": ""
           }
          },
          "title": {
           "x": 0.05
          },
          "xaxis": {
           "automargin": true,
           "gridcolor": "white",
           "linecolor": "white",
           "ticks": "",
           "title": {
            "standoff": 15
           },
           "zerolinecolor": "white",
           "zerolinewidth": 2
          },
          "yaxis": {
           "automargin": true,
           "gridcolor": "white",
           "linecolor": "white",
           "ticks": "",
           "title": {
            "standoff": 15
           },
           "zerolinecolor": "white",
           "zerolinewidth": 2
          }
         }
        },
        "title": {
         "text": "Llama-3-8B: Generalized Triplet Distance across normalized layers (↓)"
        },
        "xaxis": {
         "range": [
          -0.01,
          1.01
         ],
         "title": {
          "text": "Normalized layer (0 → 1)"
         }
        },
        "yaxis": {
         "title": {
          "text": "Generalized Triplet Distance"
         }
        }
       }
      }
     },
     "metadata": {},
     "output_type": "display_data"
    },
    {
     "data": {
      "application/vnd.plotly.v1+json": {
       "config": {
        "plotlyServerURL": "https://plot.ly"
       },
       "data": [
        {
         "hovertemplate": "Layer(norm)=%{x:.2f}<br>Generalized Quartet Distance=%{y:.2f}<extra>entity_only</extra>",
         "mode": "lines+markers",
         "name": "entity_only",
         "type": "scatter",
         "x": {
          "bdata": "AAAAAAAAAAAAAAAAAACgPwAAAAAAALA/AAAAAAAAuD8AAAAAAADAPwAAAAAAAMQ/AAAAAAAAyD8AAAAAAADMPwAAAAAAANA/AAAAAAAA0j8AAAAAAADUPwAAAAAAANY/AAAAAAAA2D8AAAAAAADaPwAAAAAAANw/AAAAAAAA3j8AAAAAAADgPwAAAAAAAOE/AAAAAAAA4j8AAAAAAADjPwAAAAAAAOQ/AAAAAAAA5T8AAAAAAADmPwAAAAAAAOc/AAAAAAAA6D8AAAAAAADpPwAAAAAAAOo/AAAAAAAA6z8AAAAAAADsPwAAAAAAAO0/AAAAAAAA7j8AAAAAAADvPwAAAAAAAPA/",
          "dtype": "f8"
         },
         "y": {
          "bdata": "/reImH3Y5T+/ywELlnblP1yF1kOPXeU/Pbf3xOia5D8EkO7OBE/lP3BOEuzHl+M/B65s5PNa4j9skAG3o9LeP5a7nsRqr9w/8k80k/ES0T8oaH7+3VjCP4jwmJDArMI/9Dgj4OFXxT9gDXPqe/fIP9gkLILT/8g/wLMLkk1Xvz8IOxdlpbPJP8jntZQTutA/pBNPecYKzj+UOYq6JALNPxxR2E4l1M4/zCBucZ7byz90J13oh3LJPyhspxJqs8k/gHzJTpDXyT/YaV+bAjHKP1hRLEHJ+sk/WFEsQcn6yT8YFdwjR7zOP74UXjhRAtA/IJhq8G6Xzj+Q+WR7uo/NP7TwV4a7Ccw/",
          "dtype": "f8"
         }
        },
        {
         "hovertemplate": "Layer(norm)=%{x:.2f}<br>Generalized Quartet Distance=%{y:.2f}<extra>gift</extra>",
         "mode": "lines+markers",
         "name": "gift",
         "type": "scatter",
         "x": {
          "bdata": "AAAAAAAAAAAAAAAAAACgPwAAAAAAALA/AAAAAAAAuD8AAAAAAADAPwAAAAAAAMQ/AAAAAAAAyD8AAAAAAADMPwAAAAAAANA/AAAAAAAA0j8AAAAAAADUPwAAAAAAANY/AAAAAAAA2D8AAAAAAADaPwAAAAAAANw/AAAAAAAA3j8AAAAAAADgPwAAAAAAAOE/AAAAAAAA4j8AAAAAAADjPwAAAAAAAOQ/AAAAAAAA5T8AAAAAAADmPwAAAAAAAOc/AAAAAAAA6D8AAAAAAADpPwAAAAAAAOo/AAAAAAAA6z8AAAAAAADsPwAAAAAAAO0/AAAAAAAA7j8AAAAAAADvPwAAAAAAAPA/",
          "dtype": "f8"
         },
         "y": {
          "bdata": "/reImH3Y5T9udcfvB73lPx5BNP70aeU/XgovnCgB5T8LVWxmCGXlP+brCKLxp+M/EcogbnGe4j9YXMK3NKbfP3IBjaqAsdo/gmwl/l9t1j9I5pPt6T7QP17kXl4hQNE/pEWa83HbyD+UCCQGspXIP5bdRe7lFdA/ACr5UZMbzD+sVrgGhHPOP3D29jMVBtE/WulsOOb+0j8YRkLYuSjPPwIPv4r3BdM/vqUxzY611D88F2Wls+HUP95F7uUVAtQ/roceu/bf1D+G7VRCbbbVP3DUTwqan9U/Hs7efqbC1j9CMNXg3S7VP0Id7UFaztY/Ks9YQYjw1D+WY4MMuB3VPyRezU2rEdc/",
          "dtype": "f8"
         }
        },
        {
         "hovertemplate": "Layer(norm)=%{x:.2f}<br>Generalized Quartet Distance=%{y:.2f}<extra>occupation_question</extra>",
         "mode": "lines+markers",
         "name": "occupation_question",
         "type": "scatter",
         "x": {
          "bdata": "AAAAAAAAAAAAAAAAAACgPwAAAAAAALA/AAAAAAAAuD8AAAAAAADAPwAAAAAAAMQ/AAAAAAAAyD8AAAAAAADMPwAAAAAAANA/AAAAAAAA0j8AAAAAAADUPwAAAAAAANY/AAAAAAAA2D8AAAAAAADaPwAAAAAAANw/AAAAAAAA3j8AAAAAAADgPwAAAAAAAOE/AAAAAAAA4j8AAAAAAADjPwAAAAAAAOQ/AAAAAAAA5T8AAAAAAADmPwAAAAAAAOc/AAAAAAAA6D8AAAAAAADpPwAAAAAAAOo/AAAAAAAA6z8AAAAAAADsPwAAAAAAAO0/AAAAAAAA7j8AAAAAAADvPwAAAAAAAPA/",
          "dtype": "f8"
         },
         "y": {
          "bdata": "/reImH3Y5T9yh8rIUrnlP8bgSDI0aeU/cFI7AFTy5D8SRONPn5blP2ljxBa9wOM/ZJoday1Q4T8KzOr54mbePxIWwel/IN8/COckwX581T/ELc5ze0/UP+At+GzN4ss/yF40KO67xD8+xrZP4KDRP2hrFj/VddI/SBsjtugFvj/o8nUE0fjRP8xV/TmdotM/aomUVMSB1j/SHqTlLBPXP/CJ0TW1mNY/oBALK3MU1z/UPCL7Gx/XPwimGrzbpdk/7GC9qVrh2D/qjt8PelfYP5b0VqH10Nc/Ou1rUyDG1j/eqJ8UND/XP1A0k/ESU9Y/hmcXJJuu1j8wp753D2fXP5huGYMjydg/",
          "dtype": "f8"
         }
        },
        {
         "hovertemplate": "Layer(norm)=%{x:.2f}<br>Generalized Quartet Distance=%{y:.2f}<extra>occupation_simple</extra>",
         "mode": "lines+markers",
         "name": "occupation_simple",
         "type": "scatter",
         "x": {
          "bdata": "AAAAAAAAAAAAAAAAAACgPwAAAAAAALA/AAAAAAAAuD8AAAAAAADAPwAAAAAAAMQ/AAAAAAAAyD8AAAAAAADMPwAAAAAAANA/AAAAAAAA0j8AAAAAAADUPwAAAAAAANY/AAAAAAAA2D8AAAAAAADaPwAAAAAAANw/AAAAAAAA3j8AAAAAAADgPwAAAAAAAOE/AAAAAAAA4j8AAAAAAADjPwAAAAAAAOQ/AAAAAAAA5T8AAAAAAADmPwAAAAAAAOc/AAAAAAAA6D8AAAAAAADpPwAAAAAAAOo/AAAAAAAA6z8AAAAAAADsPwAAAAAAAO0/AAAAAAAA7j8AAAAAAADvPwAAAAAAAPA/",
          "dtype": "f8"
         },
         "y": {
          "bdata": "/reImH3Y5T8riiUoWb/lP9MWUr0UXuU/1bbk3EkX5T+exGqvZJLlP7yHs7efqeM/UMmPmtxg4T/STMZLTIneP4AghYJR69w/KvUof4+x1z+kZ0Ed7UHUPyh0+TqCaNI/3E1ADi63zj8uJo8zAh7YP2YQtzjP7dE/qBaTxxkBxz/caHrVyczTP1wDwjlJsNU/BNUh6DOA0z+4Cq2HHrvSP6qy/NLCX9M/guoQ9BnA1D+sKJagZP3UP7o7EzyRJ9U/ni9uBpuE1T8uOXfShX7WP04p/Xqnp9Y/5JCpm+sf1z8cYJfZHNrXP949nL39TNc/+ryWckKX1z96WwfrTdXWP1B1nfa1Kdg/",
          "dtype": "f8"
         }
        },
        {
         "hovertemplate": "Layer(norm)=%{x:.2f}<br>Generalized Quartet Distance=%{y:.2f}<extra>profession_query</extra>",
         "mode": "lines+markers",
         "name": "profession_query",
         "type": "scatter",
         "x": {
          "bdata": "AAAAAAAAAAAAAAAAAACgPwAAAAAAALA/AAAAAAAAuD8AAAAAAADAPwAAAAAAAMQ/AAAAAAAAyD8AAAAAAADMPwAAAAAAANA/AAAAAAAA0j8AAAAAAADUPwAAAAAAANY/AAAAAAAA2D8AAAAAAADaPwAAAAAAANw/AAAAAAAA3j8AAAAAAADgPwAAAAAAAOE/AAAAAAAA4j8AAAAAAADjPwAAAAAAAOQ/AAAAAAAA5T8AAAAAAADmPwAAAAAAAOc/AAAAAAAA6D8AAAAAAADpPwAAAAAAAOo/AAAAAAAA6z8AAAAAAADsPwAAAAAAAO0/AAAAAAAA7j8AAAAAAADvPwAAAAAAAPA/",
          "dtype": "f8"
         },
         "y": {
          "bdata": "/reImH3Y5T/Eq7lpNaLlP5TD8OyCZOU/0vSqk5n35D8TfZssKrjlPyGYavBul+M/TkAOLrdi4j+cgBxcbsXePzh/JK6W3d8/FJSs3zlzzT9k2ydw0CbCP+AOlZGlcr8/0GPX/ltEwD/gszWLn+rCPxzWMKe+d8M/kNvmZcuDvz90ZD7Znu7PP4KS9TtnLtE/kJrcYCit0T/s7WcqDDrSPwzqaA/SctI/As60hVQv0z828nkt5YTWP8YSlKzfOdc/5Js/ElfL2D/MEMogbnHYP4a7CcjB5dg/7Np/i4jZ2T/QD+VaNQ3aP94Au8zm0No/hpEQdi7K2j82N61GFLbZP8I1IJyTBNk/",
          "dtype": "f8"
         }
        },
        {
         "hovertemplate": "Layer(norm)=%{x:.2f}<br>Generalized Quartet Distance=%{y:.2f}<extra>professional_intro</extra>",
         "mode": "lines+markers",
         "name": "professional_intro",
         "type": "scatter",
         "x": {
          "bdata": "AAAAAAAAAAAAAAAAAACgPwAAAAAAALA/AAAAAAAAuD8AAAAAAADAPwAAAAAAAMQ/AAAAAAAAyD8AAAAAAADMPwAAAAAAANA/AAAAAAAA0j8AAAAAAADUPwAAAAAAANY/AAAAAAAA2D8AAAAAAADaPwAAAAAAANw/AAAAAAAA3j8AAAAAAADgPwAAAAAAAOE/AAAAAAAA4j8AAAAAAADjPwAAAAAAAOQ/AAAAAAAA5T8AAAAAAADmPwAAAAAAAOc/AAAAAAAA6D8AAAAAAADpPwAAAAAAAOo/AAAAAAAA6z8AAAAAAADsPwAAAAAAAO0/AAAAAAAA7j8AAAAAAADvPwAAAAAAAPA/",
          "dtype": "f8"
         },
         "y": {
          "bdata": "/reImH3Y5T96MQ6ZurnlP1FDUnwKWeU/7yL38goB5T/+s1+E8X3lP34ZGCBymuM/p9WIwnYq4j+sZXeRe3nfP/xnvwjj+9w/BBID2Ur8zz8EEgPZSvzDPzzOCHj4VcA/qPtYAH7rwT+4T+CgTezDP7D9t4iYfcA/gN6Vt3Wwvj+ODTLgdlTSP8D1+lwpktU/fB1BNP701T9yK4b8E83WP5iYEtW25NY/uEeOeDU31z+KkCuw9WXWPyAeqA5Bn9c/8ro36icF1z+ucA0I5yTXP07sG4qQK9Y/3GRRwT1y1j8yMEDkNGXXPzhk6ub6x9Y/7OLRs6CO1j9qdqy1QCHYPzyN/nJVf9o/",
          "dtype": "f8"
         }
        }
       ],
       "layout": {
        "legend": {
         "title": {
          "text": "Template"
         }
        },
        "template": {
         "data": {
          "bar": [
           {
            "error_x": {
             "color": "#2a3f5f"
            },
            "error_y": {
             "color": "#2a3f5f"
            },
            "marker": {
             "line": {
              "color": "#E5ECF6",
              "width": 0.5
             },
             "pattern": {
              "fillmode": "overlay",
              "size": 10,
              "solidity": 0.2
             }
            },
            "type": "bar"
           }
          ],
          "barpolar": [
           {
            "marker": {
             "line": {
              "color": "#E5ECF6",
              "width": 0.5
             },
             "pattern": {
              "fillmode": "overlay",
              "size": 10,
              "solidity": 0.2
             }
            },
            "type": "barpolar"
           }
          ],
          "carpet": [
           {
            "aaxis": {
             "endlinecolor": "#2a3f5f",
             "gridcolor": "white",
             "linecolor": "white",
             "minorgridcolor": "white",
             "startlinecolor": "#2a3f5f"
            },
            "baxis": {
             "endlinecolor": "#2a3f5f",
             "gridcolor": "white",
             "linecolor": "white",
             "minorgridcolor": "white",
             "startlinecolor": "#2a3f5f"
            },
            "type": "carpet"
           }
          ],
          "choropleth": [
           {
            "colorbar": {
             "outlinewidth": 0,
             "ticks": ""
            },
            "type": "choropleth"
           }
          ],
          "contour": [
           {
            "colorbar": {
             "outlinewidth": 0,
             "ticks": ""
            },
            "colorscale": [
             [
              0,
              "#0d0887"
             ],
             [
              0.1111111111111111,
              "#46039f"
             ],
             [
              0.2222222222222222,
              "#7201a8"
             ],
             [
              0.3333333333333333,
              "#9c179e"
             ],
             [
              0.4444444444444444,
              "#bd3786"
             ],
             [
              0.5555555555555556,
              "#d8576b"
             ],
             [
              0.6666666666666666,
              "#ed7953"
             ],
             [
              0.7777777777777778,
              "#fb9f3a"
             ],
             [
              0.8888888888888888,
              "#fdca26"
             ],
             [
              1,
              "#f0f921"
             ]
            ],
            "type": "contour"
           }
          ],
          "contourcarpet": [
           {
            "colorbar": {
             "outlinewidth": 0,
             "ticks": ""
            },
            "type": "contourcarpet"
           }
          ],
          "heatmap": [
           {
            "colorbar": {
             "outlinewidth": 0,
             "ticks": ""
            },
            "colorscale": [
             [
              0,
              "#0d0887"
             ],
             [
              0.1111111111111111,
              "#46039f"
             ],
             [
              0.2222222222222222,
              "#7201a8"
             ],
             [
              0.3333333333333333,
              "#9c179e"
             ],
             [
              0.4444444444444444,
              "#bd3786"
             ],
             [
              0.5555555555555556,
              "#d8576b"
             ],
             [
              0.6666666666666666,
              "#ed7953"
             ],
             [
              0.7777777777777778,
              "#fb9f3a"
             ],
             [
              0.8888888888888888,
              "#fdca26"
             ],
             [
              1,
              "#f0f921"
             ]
            ],
            "type": "heatmap"
           }
          ],
          "histogram": [
           {
            "marker": {
             "pattern": {
              "fillmode": "overlay",
              "size": 10,
              "solidity": 0.2
             }
            },
            "type": "histogram"
           }
          ],
          "histogram2d": [
           {
            "colorbar": {
             "outlinewidth": 0,
             "ticks": ""
            },
            "colorscale": [
             [
              0,
              "#0d0887"
             ],
             [
              0.1111111111111111,
              "#46039f"
             ],
             [
              0.2222222222222222,
              "#7201a8"
             ],
             [
              0.3333333333333333,
              "#9c179e"
             ],
             [
              0.4444444444444444,
              "#bd3786"
             ],
             [
              0.5555555555555556,
              "#d8576b"
             ],
             [
              0.6666666666666666,
              "#ed7953"
             ],
             [
              0.7777777777777778,
              "#fb9f3a"
             ],
             [
              0.8888888888888888,
              "#fdca26"
             ],
             [
              1,
              "#f0f921"
             ]
            ],
            "type": "histogram2d"
           }
          ],
          "histogram2dcontour": [
           {
            "colorbar": {
             "outlinewidth": 0,
             "ticks": ""
            },
            "colorscale": [
             [
              0,
              "#0d0887"
             ],
             [
              0.1111111111111111,
              "#46039f"
             ],
             [
              0.2222222222222222,
              "#7201a8"
             ],
             [
              0.3333333333333333,
              "#9c179e"
             ],
             [
              0.4444444444444444,
              "#bd3786"
             ],
             [
              0.5555555555555556,
              "#d8576b"
             ],
             [
              0.6666666666666666,
              "#ed7953"
             ],
             [
              0.7777777777777778,
              "#fb9f3a"
             ],
             [
              0.8888888888888888,
              "#fdca26"
             ],
             [
              1,
              "#f0f921"
             ]
            ],
            "type": "histogram2dcontour"
           }
          ],
          "mesh3d": [
           {
            "colorbar": {
             "outlinewidth": 0,
             "ticks": ""
            },
            "type": "mesh3d"
           }
          ],
          "parcoords": [
           {
            "line": {
             "colorbar": {
              "outlinewidth": 0,
              "ticks": ""
             }
            },
            "type": "parcoords"
           }
          ],
          "pie": [
           {
            "automargin": true,
            "type": "pie"
           }
          ],
          "scatter": [
           {
            "fillpattern": {
             "fillmode": "overlay",
             "size": 10,
             "solidity": 0.2
            },
            "type": "scatter"
           }
          ],
          "scatter3d": [
           {
            "line": {
             "colorbar": {
              "outlinewidth": 0,
              "ticks": ""
             }
            },
            "marker": {
             "colorbar": {
              "outlinewidth": 0,
              "ticks": ""
             }
            },
            "type": "scatter3d"
           }
          ],
          "scattercarpet": [
           {
            "marker": {
             "colorbar": {
              "outlinewidth": 0,
              "ticks": ""
             }
            },
            "type": "scattercarpet"
           }
          ],
          "scattergeo": [
           {
            "marker": {
             "colorbar": {
              "outlinewidth": 0,
              "ticks": ""
             }
            },
            "type": "scattergeo"
           }
          ],
          "scattergl": [
           {
            "marker": {
             "colorbar": {
              "outlinewidth": 0,
              "ticks": ""
             }
            },
            "type": "scattergl"
           }
          ],
          "scattermap": [
           {
            "marker": {
             "colorbar": {
              "outlinewidth": 0,
              "ticks": ""
             }
            },
            "type": "scattermap"
           }
          ],
          "scattermapbox": [
           {
            "marker": {
             "colorbar": {
              "outlinewidth": 0,
              "ticks": ""
             }
            },
            "type": "scattermapbox"
           }
          ],
          "scatterpolar": [
           {
            "marker": {
             "colorbar": {
              "outlinewidth": 0,
              "ticks": ""
             }
            },
            "type": "scatterpolar"
           }
          ],
          "scatterpolargl": [
           {
            "marker": {
             "colorbar": {
              "outlinewidth": 0,
              "ticks": ""
             }
            },
            "type": "scatterpolargl"
           }
          ],
          "scatterternary": [
           {
            "marker": {
             "colorbar": {
              "outlinewidth": 0,
              "ticks": ""
             }
            },
            "type": "scatterternary"
           }
          ],
          "surface": [
           {
            "colorbar": {
             "outlinewidth": 0,
             "ticks": ""
            },
            "colorscale": [
             [
              0,
              "#0d0887"
             ],
             [
              0.1111111111111111,
              "#46039f"
             ],
             [
              0.2222222222222222,
              "#7201a8"
             ],
             [
              0.3333333333333333,
              "#9c179e"
             ],
             [
              0.4444444444444444,
              "#bd3786"
             ],
             [
              0.5555555555555556,
              "#d8576b"
             ],
             [
              0.6666666666666666,
              "#ed7953"
             ],
             [
              0.7777777777777778,
              "#fb9f3a"
             ],
             [
              0.8888888888888888,
              "#fdca26"
             ],
             [
              1,
              "#f0f921"
             ]
            ],
            "type": "surface"
           }
          ],
          "table": [
           {
            "cells": {
             "fill": {
              "color": "#EBF0F8"
             },
             "line": {
              "color": "white"
             }
            },
            "header": {
             "fill": {
              "color": "#C8D4E3"
             },
             "line": {
              "color": "white"
             }
            },
            "type": "table"
           }
          ]
         },
         "layout": {
          "annotationdefaults": {
           "arrowcolor": "#2a3f5f",
           "arrowhead": 0,
           "arrowwidth": 1
          },
          "autotypenumbers": "strict",
          "coloraxis": {
           "colorbar": {
            "outlinewidth": 0,
            "ticks": ""
           }
          },
          "colorscale": {
           "diverging": [
            [
             0,
             "#8e0152"
            ],
            [
             0.1,
             "#c51b7d"
            ],
            [
             0.2,
             "#de77ae"
            ],
            [
             0.3,
             "#f1b6da"
            ],
            [
             0.4,
             "#fde0ef"
            ],
            [
             0.5,
             "#f7f7f7"
            ],
            [
             0.6,
             "#e6f5d0"
            ],
            [
             0.7,
             "#b8e186"
            ],
            [
             0.8,
             "#7fbc41"
            ],
            [
             0.9,
             "#4d9221"
            ],
            [
             1,
             "#276419"
            ]
           ],
           "sequential": [
            [
             0,
             "#0d0887"
            ],
            [
             0.1111111111111111,
             "#46039f"
            ],
            [
             0.2222222222222222,
             "#7201a8"
            ],
            [
             0.3333333333333333,
             "#9c179e"
            ],
            [
             0.4444444444444444,
             "#bd3786"
            ],
            [
             0.5555555555555556,
             "#d8576b"
            ],
            [
             0.6666666666666666,
             "#ed7953"
            ],
            [
             0.7777777777777778,
             "#fb9f3a"
            ],
            [
             0.8888888888888888,
             "#fdca26"
            ],
            [
             1,
             "#f0f921"
            ]
           ],
           "sequentialminus": [
            [
             0,
             "#0d0887"
            ],
            [
             0.1111111111111111,
             "#46039f"
            ],
            [
             0.2222222222222222,
             "#7201a8"
            ],
            [
             0.3333333333333333,
             "#9c179e"
            ],
            [
             0.4444444444444444,
             "#bd3786"
            ],
            [
             0.5555555555555556,
             "#d8576b"
            ],
            [
             0.6666666666666666,
             "#ed7953"
            ],
            [
             0.7777777777777778,
             "#fb9f3a"
            ],
            [
             0.8888888888888888,
             "#fdca26"
            ],
            [
             1,
             "#f0f921"
            ]
           ]
          },
          "colorway": [
           "#636efa",
           "#EF553B",
           "#00cc96",
           "#ab63fa",
           "#FFA15A",
           "#19d3f3",
           "#FF6692",
           "#B6E880",
           "#FF97FF",
           "#FECB52"
          ],
          "font": {
           "color": "#2a3f5f"
          },
          "geo": {
           "bgcolor": "white",
           "lakecolor": "white",
           "landcolor": "#E5ECF6",
           "showlakes": true,
           "showland": true,
           "subunitcolor": "white"
          },
          "hoverlabel": {
           "align": "left"
          },
          "hovermode": "closest",
          "mapbox": {
           "style": "light"
          },
          "paper_bgcolor": "white",
          "plot_bgcolor": "#E5ECF6",
          "polar": {
           "angularaxis": {
            "gridcolor": "white",
            "linecolor": "white",
            "ticks": ""
           },
           "bgcolor": "#E5ECF6",
           "radialaxis": {
            "gridcolor": "white",
            "linecolor": "white",
            "ticks": ""
           }
          },
          "scene": {
           "xaxis": {
            "backgroundcolor": "#E5ECF6",
            "gridcolor": "white",
            "gridwidth": 2,
            "linecolor": "white",
            "showbackground": true,
            "ticks": "",
            "zerolinecolor": "white"
           },
           "yaxis": {
            "backgroundcolor": "#E5ECF6",
            "gridcolor": "white",
            "gridwidth": 2,
            "linecolor": "white",
            "showbackground": true,
            "ticks": "",
            "zerolinecolor": "white"
           },
           "zaxis": {
            "backgroundcolor": "#E5ECF6",
            "gridcolor": "white",
            "gridwidth": 2,
            "linecolor": "white",
            "showbackground": true,
            "ticks": "",
            "zerolinecolor": "white"
           }
          },
          "shapedefaults": {
           "line": {
            "color": "#2a3f5f"
           }
          },
          "ternary": {
           "aaxis": {
            "gridcolor": "white",
            "linecolor": "white",
            "ticks": ""
           },
           "baxis": {
            "gridcolor": "white",
            "linecolor": "white",
            "ticks": ""
           },
           "bgcolor": "#E5ECF6",
           "caxis": {
            "gridcolor": "white",
            "linecolor": "white",
            "ticks": ""
           }
          },
          "title": {
           "x": 0.05
          },
          "xaxis": {
           "automargin": true,
           "gridcolor": "white",
           "linecolor": "white",
           "ticks": "",
           "title": {
            "standoff": 15
           },
           "zerolinecolor": "white",
           "zerolinewidth": 2
          },
          "yaxis": {
           "automargin": true,
           "gridcolor": "white",
           "linecolor": "white",
           "ticks": "",
           "title": {
            "standoff": 15
           },
           "zerolinecolor": "white",
           "zerolinewidth": 2
          }
         }
        },
        "title": {
         "text": "Llama-3-8B: Generalized Quartet Distance across normalized layers (↓)"
        },
        "xaxis": {
         "range": [
          -0.01,
          1.01
         ],
         "title": {
          "text": "Normalized layer (0 → 1)"
         }
        },
        "yaxis": {
         "title": {
          "text": "Generalized Quartet Distance"
         }
        }
       }
      }
     },
     "metadata": {},
     "output_type": "display_data"
    },
    {
     "data": {
      "application/vnd.plotly.v1+json": {
       "config": {
        "plotlyServerURL": "https://plot.ly"
       },
       "data": [
        {
         "hovertemplate": "Layer(norm)=%{x:.2f}<br>cophenetic corr=%{y:.2f}<extra>entity_only</extra>",
         "mode": "lines+markers",
         "name": "entity_only",
         "type": "scatter",
         "x": {
          "bdata": "AAAAAAAAAAAAAAAAAACgPwAAAAAAALA/AAAAAAAAuD8AAAAAAADAPwAAAAAAAMQ/AAAAAAAAyD8AAAAAAADMPwAAAAAAANA/AAAAAAAA0j8AAAAAAADUPwAAAAAAANY/AAAAAAAA2D8AAAAAAADaPwAAAAAAANw/AAAAAAAA3j8AAAAAAADgPwAAAAAAAOE/AAAAAAAA4j8AAAAAAADjPwAAAAAAAOQ/AAAAAAAA5T8AAAAAAADmPwAAAAAAAOc/AAAAAAAA6D8AAAAAAADpPwAAAAAAAOo/AAAAAAAA6z8AAAAAAADsPwAAAAAAAO0/AAAAAAAA7j8AAAAAAADvPwAAAAAAAPA/",
          "dtype": "f8"
         },
         "y": {
          "bdata": "LHm3zqKsh7/09yN2/idpv5DzIgJWuoO/djmrqeQEdD+ANNAJlC8jv/E+kdGBHKU/xh4r/1sYsD8GUilvQKq2P75HBOAHHbg/dnhuu4bNyT9sjdTXD5vZPwgEdgisqtc/Ainixdij2D++26Z9q8bVP/yv7rnfPtg/mllewQI54D8JGoFBvAnVPwgBW9Bd69A/KCLgYZp70z/2WZlTmBPWP0AIKWpEYNQ/IJZbWIHN2D9Ic0FIkVfbP7K/Y8LznNo/on10rkF+2j/AIf0j4K7ZP+cSLL5wy9k/PS0LMK5F2D8CdeMlOkDVP39UsA+LJtQ/LHIZ40rs1T8aZF2MewnWP9Gq+2IoFtg/",
          "dtype": "f8"
         }
        },
        {
         "hovertemplate": "Layer(norm)=%{x:.2f}<br>cophenetic corr=%{y:.2f}<extra>gift</extra>",
         "mode": "lines+markers",
         "name": "gift",
         "type": "scatter",
         "x": {
          "bdata": "AAAAAAAAAAAAAAAAAACgPwAAAAAAALA/AAAAAAAAuD8AAAAAAADAPwAAAAAAAMQ/AAAAAAAAyD8AAAAAAADMPwAAAAAAANA/AAAAAAAA0j8AAAAAAADUPwAAAAAAANY/AAAAAAAA2D8AAAAAAADaPwAAAAAAANw/AAAAAAAA3j8AAAAAAADgPwAAAAAAAOE/AAAAAAAA4j8AAAAAAADjPwAAAAAAAOQ/AAAAAAAA5T8AAAAAAADmPwAAAAAAAOc/AAAAAAAA6D8AAAAAAADpPwAAAAAAAOo/AAAAAAAA6z8AAAAAAADsPwAAAAAAAO0/AAAAAAAA7j8AAAAAAADvPwAAAAAAAPA/",
          "dtype": "f8"
         },
         "y": {
          "bdata": "LHm3zqKsh7/yUoWDu/GBv/wrYSFyJYa/YO+TAt4RS79gaQ8+QaVCv2d0do5n/KM/RhWNXs7jrz/uVr5wBja8P+bFGrAoZsA/znEdclZdyj/EOPEmysjSP1JLJjjSF9E/O4nbT4DV2D97dHNwVDXaP+cT/GllUNM/gmqt+5LE2T+hkQTu8O3RPz42VWs6LNE/iBL5v1koyz95Py4QhJzQP87nWUufec0/niNIqlASyT/6o9zg+wfIP8Esx+R9tMc/yJA0XJ9kyD8GcAnHEGzIP9DH8n6pisk/QkC4WrT/xz/1ns7FcTPJPyUwzIwDRcY/XrPFmhRVyT9GD5iPUh/HPx/0uA26QsM/",
          "dtype": "f8"
         }
        },
        {
         "hovertemplate": "Layer(norm)=%{x:.2f}<br>cophenetic corr=%{y:.2f}<extra>occupation_question</extra>",
         "mode": "lines+markers",
         "name": "occupation_question",
         "type": "scatter",
         "x": {
          "bdata": "AAAAAAAAAAAAAAAAAACgPwAAAAAAALA/AAAAAAAAuD8AAAAAAADAPwAAAAAAAMQ/AAAAAAAAyD8AAAAAAADMPwAAAAAAANA/AAAAAAAA0j8AAAAAAADUPwAAAAAAANY/AAAAAAAA2D8AAAAAAADaPwAAAAAAANw/AAAAAAAA3j8AAAAAAADgPwAAAAAAAOE/AAAAAAAA4j8AAAAAAADjPwAAAAAAAOQ/AAAAAAAA5T8AAAAAAADmPwAAAAAAAOc/AAAAAAAA6D8AAAAAAADpPwAAAAAAAOo/AAAAAAAA6z8AAAAAAADsPwAAAAAAAO0/AAAAAAAA7j8AAAAAAADvPwAAAAAAAPA/",
          "dtype": "f8"
         },
         "y": {
          "bdata": "LHm3zqKsh79SqI7WLlaAv8IPwhHk74S/AIDsmdfsqj7+/x4xSFx+v6ed3kzotqI/KmahlU3ZtT9yN9qJcezAP+rEt0GyP7Y/6fYamSX6yz8g+uTKyjrNP6NgcMks1dE/Fse2mkOK2z8ZTEhy4Y7RP+e6RCdbNNQ/bhzc2fKN4D+33cF+6PvIP10Co+fB+sU/NL3doC54wz9hpwmo3D/DPwPl9RPJUcE/eav6fAChxT9fLyDv6HTEP1L6b0u7vcI/xlKEkk0BxD+iJ0Qtow/GP1rIEo0crsY/ZLq2EG+fxz/qpM7e6/vGP/Egq/d+j8g/7e+Q4RPuyD89ozn3iRHGP53UTbei9sI/",
          "dtype": "f8"
         }
        },
        {
         "hovertemplate": "Layer(norm)=%{x:.2f}<br>cophenetic corr=%{y:.2f}<extra>occupation_simple</extra>",
         "mode": "lines+markers",
         "name": "occupation_simple",
         "type": "scatter",
         "x": {
          "bdata": "AAAAAAAAAAAAAAAAAACgPwAAAAAAALA/AAAAAAAAuD8AAAAAAADAPwAAAAAAAMQ/AAAAAAAAyD8AAAAAAADMPwAAAAAAANA/AAAAAAAA0j8AAAAAAADUPwAAAAAAANY/AAAAAAAA2D8AAAAAAADaPwAAAAAAANw/AAAAAAAA3j8AAAAAAADgPwAAAAAAAOE/AAAAAAAA4j8AAAAAAADjPwAAAAAAAOQ/AAAAAAAA5T8AAAAAAADmPwAAAAAAAOc/AAAAAAAA6D8AAAAAAADpPwAAAAAAAOo/AAAAAAAA6z8AAAAAAADsPwAAAAAAAO0/AAAAAAAA7j8AAAAAAADvPwAAAAAAAPA/",
          "dtype": "f8"
         },
         "y": {
          "bdata": "LHm3zqKsh7/KUfionrKBv5B4+ZeYHYK/cIbdTYa1Yb9UxH03m0t2v+dE+1Q3qqQ/8qsJNywntz+bigp6ASfCP4zFDYztEcM/suDj18q0xz8JYq3jfZvKP+utRoDOKc4/jj+G+XOF0D/Glg2WhMLBP3qoT51xf9E/SueqgvQW1z8EG2XmzvjKP0JelvXiV8g/bCA2N1SJyj+CcXQhve7LP0rzonNosc4/5LVuXn9Lyz8OpHu/3XPKP/qdecgrUMk/Lvs6jU/Dxz+BpHDkSXvEP/Z5fWAq38I/HtVtPg9pwz9Ge/dFzm3CP+LrShBl5sI/NR1VnXU8wz+fC1yTcv3EP8KCdIPImsE/",
          "dtype": "f8"
         }
        },
        {
         "hovertemplate": "Layer(norm)=%{x:.2f}<br>cophenetic corr=%{y:.2f}<extra>profession_query</extra>",
         "mode": "lines+markers",
         "name": "profession_query",
         "type": "scatter",
         "x": {
          "bdata": "AAAAAAAAAAAAAAAAAACgPwAAAAAAALA/AAAAAAAAuD8AAAAAAADAPwAAAAAAAMQ/AAAAAAAAyD8AAAAAAADMPwAAAAAAANA/AAAAAAAA0j8AAAAAAADUPwAAAAAAANY/AAAAAAAA2D8AAAAAAADaPwAAAAAAANw/AAAAAAAA3j8AAAAAAADgPwAAAAAAAOE/AAAAAAAA4j8AAAAAAADjPwAAAAAAAOQ/AAAAAAAA5T8AAAAAAADmPwAAAAAAAOc/AAAAAAAA6D8AAAAAAADpPwAAAAAAAOo/AAAAAAAA6z8AAAAAAADsPwAAAAAAAO0/AAAAAAAA7j8AAAAAAADvPwAAAAAAAPA/",
          "dtype": "f8"
         },
         "y": {
          "bdata": "LHm3zqKsh79++71P8Qt7v4JuTGwTV4W/4OFPapl1R79IUq1chSGEvzO3CzIxSaU/UpwkNlGasT/p1j5a9BG6P+TqlOP30bI/13OF5Vp/0j9yNB4IATLdPxYhn5aeVN8/gvxh/MBH4D9SLlcPFRffP+qwNDlktN4/lrdt8bth4T/Ok7qkU5jRP0B73EqVws8/aU8wLFdEzT9BT9Xtq8nMPw0bcWe6X8s/KgOMrENdzj8c+G//omTGP1JqiRFLecI/xhNTii6zvz86N3hm4t3BPyyK1/IEW8A/NMIN6LaTvj/crSpEJx29P5Lo4H7Eh7k/MLgrg6TJuj+iyo7+tObAPyekFuwfFsM/",
          "dtype": "f8"
         }
        },
        {
         "hovertemplate": "Layer(norm)=%{x:.2f}<br>cophenetic corr=%{y:.2f}<extra>professional_intro</extra>",
         "mode": "lines+markers",
         "name": "professional_intro",
         "type": "scatter",
         "x": {
          "bdata": "AAAAAAAAAAAAAAAAAACgPwAAAAAAALA/AAAAAAAAuD8AAAAAAADAPwAAAAAAAMQ/AAAAAAAAyD8AAAAAAADMPwAAAAAAANA/AAAAAAAA0j8AAAAAAADUPwAAAAAAANY/AAAAAAAA2D8AAAAAAADaPwAAAAAAANw/AAAAAAAA3j8AAAAAAADgPwAAAAAAAOE/AAAAAAAA4j8AAAAAAADjPwAAAAAAAOQ/AAAAAAAA5T8AAAAAAADmPwAAAAAAAOc/AAAAAAAA6D8AAAAAAADpPwAAAAAAAOo/AAAAAAAA6z8AAAAAAADsPwAAAAAAAO0/AAAAAAAA7j8AAAAAAADvPwAAAAAAAPA/",
          "dtype": "f8"
         },
         "y": {
          "bdata": "LHm3zqKsh79NqEdY2IqBv+iIKW49RIO/GKtfJD/AZL/Wk0+fglh7vzEWT/2pCaU/Du684uDGsT+MOTKLK5OyPySCKn+VG7k//usCdLUu0j9esBB1veDaP9bXB5y8Ct8/CItwkLQl3j+U9qLT9lPcP56ssFbyLd4/WO/suG6w3T+o3i81LjvLP7+16Xq9icc/L/KlqSCTyD8/xQM+WkzGP+J7IurvTcU/IKbfXnZ7wz8F6y0FnhTFP1IMuJLVPsM/1yMnjUjGxD9odeHhLoDGP2LkVe3N68o/bqbxBFCwyj/zCkvgO1/HP8gdy1y6Gsc/1DtmgGWhxj/k4NPL/FLEPw9oRCnE5MA/",
          "dtype": "f8"
         }
        }
       ],
       "layout": {
        "legend": {
         "title": {
          "text": "Template"
         }
        },
        "template": {
         "data": {
          "bar": [
           {
            "error_x": {
             "color": "#2a3f5f"
            },
            "error_y": {
             "color": "#2a3f5f"
            },
            "marker": {
             "line": {
              "color": "#E5ECF6",
              "width": 0.5
             },
             "pattern": {
              "fillmode": "overlay",
              "size": 10,
              "solidity": 0.2
             }
            },
            "type": "bar"
           }
          ],
          "barpolar": [
           {
            "marker": {
             "line": {
              "color": "#E5ECF6",
              "width": 0.5
             },
             "pattern": {
              "fillmode": "overlay",
              "size": 10,
              "solidity": 0.2
             }
            },
            "type": "barpolar"
           }
          ],
          "carpet": [
           {
            "aaxis": {
             "endlinecolor": "#2a3f5f",
             "gridcolor": "white",
             "linecolor": "white",
             "minorgridcolor": "white",
             "startlinecolor": "#2a3f5f"
            },
            "baxis": {
             "endlinecolor": "#2a3f5f",
             "gridcolor": "white",
             "linecolor": "white",
             "minorgridcolor": "white",
             "startlinecolor": "#2a3f5f"
            },
            "type": "carpet"
           }
          ],
          "choropleth": [
           {
            "colorbar": {
             "outlinewidth": 0,
             "ticks": ""
            },
            "type": "choropleth"
           }
          ],
          "contour": [
           {
            "colorbar": {
             "outlinewidth": 0,
             "ticks": ""
            },
            "colorscale": [
             [
              0,
              "#0d0887"
             ],
             [
              0.1111111111111111,
              "#46039f"
             ],
             [
              0.2222222222222222,
              "#7201a8"
             ],
             [
              0.3333333333333333,
              "#9c179e"
             ],
             [
              0.4444444444444444,
              "#bd3786"
             ],
             [
              0.5555555555555556,
              "#d8576b"
             ],
             [
              0.6666666666666666,
              "#ed7953"
             ],
             [
              0.7777777777777778,
              "#fb9f3a"
             ],
             [
              0.8888888888888888,
              "#fdca26"
             ],
             [
              1,
              "#f0f921"
             ]
            ],
            "type": "contour"
           }
          ],
          "contourcarpet": [
           {
            "colorbar": {
             "outlinewidth": 0,
             "ticks": ""
            },
            "type": "contourcarpet"
           }
          ],
          "heatmap": [
           {
            "colorbar": {
             "outlinewidth": 0,
             "ticks": ""
            },
            "colorscale": [
             [
              0,
              "#0d0887"
             ],
             [
              0.1111111111111111,
              "#46039f"
             ],
             [
              0.2222222222222222,
              "#7201a8"
             ],
             [
              0.3333333333333333,
              "#9c179e"
             ],
             [
              0.4444444444444444,
              "#bd3786"
             ],
             [
              0.5555555555555556,
              "#d8576b"
             ],
             [
              0.6666666666666666,
              "#ed7953"
             ],
             [
              0.7777777777777778,
              "#fb9f3a"
             ],
             [
              0.8888888888888888,
              "#fdca26"
             ],
             [
              1,
              "#f0f921"
             ]
            ],
            "type": "heatmap"
           }
          ],
          "histogram": [
           {
            "marker": {
             "pattern": {
              "fillmode": "overlay",
              "size": 10,
              "solidity": 0.2
             }
            },
            "type": "histogram"
           }
          ],
          "histogram2d": [
           {
            "colorbar": {
             "outlinewidth": 0,
             "ticks": ""
            },
            "colorscale": [
             [
              0,
              "#0d0887"
             ],
             [
              0.1111111111111111,
              "#46039f"
             ],
             [
              0.2222222222222222,
              "#7201a8"
             ],
             [
              0.3333333333333333,
              "#9c179e"
             ],
             [
              0.4444444444444444,
              "#bd3786"
             ],
             [
              0.5555555555555556,
              "#d8576b"
             ],
             [
              0.6666666666666666,
              "#ed7953"
             ],
             [
              0.7777777777777778,
              "#fb9f3a"
             ],
             [
              0.8888888888888888,
              "#fdca26"
             ],
             [
              1,
              "#f0f921"
             ]
            ],
            "type": "histogram2d"
           }
          ],
          "histogram2dcontour": [
           {
            "colorbar": {
             "outlinewidth": 0,
             "ticks": ""
            },
            "colorscale": [
             [
              0,
              "#0d0887"
             ],
             [
              0.1111111111111111,
              "#46039f"
             ],
             [
              0.2222222222222222,
              "#7201a8"
             ],
             [
              0.3333333333333333,
              "#9c179e"
             ],
             [
              0.4444444444444444,
              "#bd3786"
             ],
             [
              0.5555555555555556,
              "#d8576b"
             ],
             [
              0.6666666666666666,
              "#ed7953"
             ],
             [
              0.7777777777777778,
              "#fb9f3a"
             ],
             [
              0.8888888888888888,
              "#fdca26"
             ],
             [
              1,
              "#f0f921"
             ]
            ],
            "type": "histogram2dcontour"
           }
          ],
          "mesh3d": [
           {
            "colorbar": {
             "outlinewidth": 0,
             "ticks": ""
            },
            "type": "mesh3d"
           }
          ],
          "parcoords": [
           {
            "line": {
             "colorbar": {
              "outlinewidth": 0,
              "ticks": ""
             }
            },
            "type": "parcoords"
           }
          ],
          "pie": [
           {
            "automargin": true,
            "type": "pie"
           }
          ],
          "scatter": [
           {
            "fillpattern": {
             "fillmode": "overlay",
             "size": 10,
             "solidity": 0.2
            },
            "type": "scatter"
           }
          ],
          "scatter3d": [
           {
            "line": {
             "colorbar": {
              "outlinewidth": 0,
              "ticks": ""
             }
            },
            "marker": {
             "colorbar": {
              "outlinewidth": 0,
              "ticks": ""
             }
            },
            "type": "scatter3d"
           }
          ],
          "scattercarpet": [
           {
            "marker": {
             "colorbar": {
              "outlinewidth": 0,
              "ticks": ""
             }
            },
            "type": "scattercarpet"
           }
          ],
          "scattergeo": [
           {
            "marker": {
             "colorbar": {
              "outlinewidth": 0,
              "ticks": ""
             }
            },
            "type": "scattergeo"
           }
          ],
          "scattergl": [
           {
            "marker": {
             "colorbar": {
              "outlinewidth": 0,
              "ticks": ""
             }
            },
            "type": "scattergl"
           }
          ],
          "scattermap": [
           {
            "marker": {
             "colorbar": {
              "outlinewidth": 0,
              "ticks": ""
             }
            },
            "type": "scattermap"
           }
          ],
          "scattermapbox": [
           {
            "marker": {
             "colorbar": {
              "outlinewidth": 0,
              "ticks": ""
             }
            },
            "type": "scattermapbox"
           }
          ],
          "scatterpolar": [
           {
            "marker": {
             "colorbar": {
              "outlinewidth": 0,
              "ticks": ""
             }
            },
            "type": "scatterpolar"
           }
          ],
          "scatterpolargl": [
           {
            "marker": {
             "colorbar": {
              "outlinewidth": 0,
              "ticks": ""
             }
            },
            "type": "scatterpolargl"
           }
          ],
          "scatterternary": [
           {
            "marker": {
             "colorbar": {
              "outlinewidth": 0,
              "ticks": ""
             }
            },
            "type": "scatterternary"
           }
          ],
          "surface": [
           {
            "colorbar": {
             "outlinewidth": 0,
             "ticks": ""
            },
            "colorscale": [
             [
              0,
              "#0d0887"
             ],
             [
              0.1111111111111111,
              "#46039f"
             ],
             [
              0.2222222222222222,
              "#7201a8"
             ],
             [
              0.3333333333333333,
              "#9c179e"
             ],
             [
              0.4444444444444444,
              "#bd3786"
             ],
             [
              0.5555555555555556,
              "#d8576b"
             ],
             [
              0.6666666666666666,
              "#ed7953"
             ],
             [
              0.7777777777777778,
              "#fb9f3a"
             ],
             [
              0.8888888888888888,
              "#fdca26"
             ],
             [
              1,
              "#f0f921"
             ]
            ],
            "type": "surface"
           }
          ],
          "table": [
           {
            "cells": {
             "fill": {
              "color": "#EBF0F8"
             },
             "line": {
              "color": "white"
             }
            },
            "header": {
             "fill": {
              "color": "#C8D4E3"
             },
             "line": {
              "color": "white"
             }
            },
            "type": "table"
           }
          ]
         },
         "layout": {
          "annotationdefaults": {
           "arrowcolor": "#2a3f5f",
           "arrowhead": 0,
           "arrowwidth": 1
          },
          "autotypenumbers": "strict",
          "coloraxis": {
           "colorbar": {
            "outlinewidth": 0,
            "ticks": ""
           }
          },
          "colorscale": {
           "diverging": [
            [
             0,
             "#8e0152"
            ],
            [
             0.1,
             "#c51b7d"
            ],
            [
             0.2,
             "#de77ae"
            ],
            [
             0.3,
             "#f1b6da"
            ],
            [
             0.4,
             "#fde0ef"
            ],
            [
             0.5,
             "#f7f7f7"
            ],
            [
             0.6,
             "#e6f5d0"
            ],
            [
             0.7,
             "#b8e186"
            ],
            [
             0.8,
             "#7fbc41"
            ],
            [
             0.9,
             "#4d9221"
            ],
            [
             1,
             "#276419"
            ]
           ],
           "sequential": [
            [
             0,
             "#0d0887"
            ],
            [
             0.1111111111111111,
             "#46039f"
            ],
            [
             0.2222222222222222,
             "#7201a8"
            ],
            [
             0.3333333333333333,
             "#9c179e"
            ],
            [
             0.4444444444444444,
             "#bd3786"
            ],
            [
             0.5555555555555556,
             "#d8576b"
            ],
            [
             0.6666666666666666,
             "#ed7953"
            ],
            [
             0.7777777777777778,
             "#fb9f3a"
            ],
            [
             0.8888888888888888,
             "#fdca26"
            ],
            [
             1,
             "#f0f921"
            ]
           ],
           "sequentialminus": [
            [
             0,
             "#0d0887"
            ],
            [
             0.1111111111111111,
             "#46039f"
            ],
            [
             0.2222222222222222,
             "#7201a8"
            ],
            [
             0.3333333333333333,
             "#9c179e"
            ],
            [
             0.4444444444444444,
             "#bd3786"
            ],
            [
             0.5555555555555556,
             "#d8576b"
            ],
            [
             0.6666666666666666,
             "#ed7953"
            ],
            [
             0.7777777777777778,
             "#fb9f3a"
            ],
            [
             0.8888888888888888,
             "#fdca26"
            ],
            [
             1,
             "#f0f921"
            ]
           ]
          },
          "colorway": [
           "#636efa",
           "#EF553B",
           "#00cc96",
           "#ab63fa",
           "#FFA15A",
           "#19d3f3",
           "#FF6692",
           "#B6E880",
           "#FF97FF",
           "#FECB52"
          ],
          "font": {
           "color": "#2a3f5f"
          },
          "geo": {
           "bgcolor": "white",
           "lakecolor": "white",
           "landcolor": "#E5ECF6",
           "showlakes": true,
           "showland": true,
           "subunitcolor": "white"
          },
          "hoverlabel": {
           "align": "left"
          },
          "hovermode": "closest",
          "mapbox": {
           "style": "light"
          },
          "paper_bgcolor": "white",
          "plot_bgcolor": "#E5ECF6",
          "polar": {
           "angularaxis": {
            "gridcolor": "white",
            "linecolor": "white",
            "ticks": ""
           },
           "bgcolor": "#E5ECF6",
           "radialaxis": {
            "gridcolor": "white",
            "linecolor": "white",
            "ticks": ""
           }
          },
          "scene": {
           "xaxis": {
            "backgroundcolor": "#E5ECF6",
            "gridcolor": "white",
            "gridwidth": 2,
            "linecolor": "white",
            "showbackground": true,
            "ticks": "",
            "zerolinecolor": "white"
           },
           "yaxis": {
            "backgroundcolor": "#E5ECF6",
            "gridcolor": "white",
            "gridwidth": 2,
            "linecolor": "white",
            "showbackground": true,
            "ticks": "",
            "zerolinecolor": "white"
           },
           "zaxis": {
            "backgroundcolor": "#E5ECF6",
            "gridcolor": "white",
            "gridwidth": 2,
            "linecolor": "white",
            "showbackground": true,
            "ticks": "",
            "zerolinecolor": "white"
           }
          },
          "shapedefaults": {
           "line": {
            "color": "#2a3f5f"
           }
          },
          "ternary": {
           "aaxis": {
            "gridcolor": "white",
            "linecolor": "white",
            "ticks": ""
           },
           "baxis": {
            "gridcolor": "white",
            "linecolor": "white",
            "ticks": ""
           },
           "bgcolor": "#E5ECF6",
           "caxis": {
            "gridcolor": "white",
            "linecolor": "white",
            "ticks": ""
           }
          },
          "title": {
           "x": 0.05
          },
          "xaxis": {
           "automargin": true,
           "gridcolor": "white",
           "linecolor": "white",
           "ticks": "",
           "title": {
            "standoff": 15
           },
           "zerolinecolor": "white",
           "zerolinewidth": 2
          },
          "yaxis": {
           "automargin": true,
           "gridcolor": "white",
           "linecolor": "white",
           "ticks": "",
           "title": {
            "standoff": 15
           },
           "zerolinecolor": "white",
           "zerolinewidth": 2
          }
         }
        },
        "title": {
         "text": "Llama-3-8B: cophenetic corr across normalized layers (↑)"
        },
        "xaxis": {
         "range": [
          -0.01,
          1.01
         ],
         "title": {
          "text": "Normalized layer (0 → 1)"
         }
        },
        "yaxis": {
         "title": {
          "text": "cophenetic corr"
         }
        }
       }
      }
     },
     "metadata": {},
     "output_type": "display_data"
    }
   ],
   "source": [
    "\n",
    "# ===== パス設定 =====\n",
    "BASE_PATH = Path(\"/home/masaki/hierarchical-repr/EntityTree/output/eval_tree_popLow\")\n",
    "\n",
    "# ===== データ準備 =====\n",
    "df = load_llama3_8b_templates(BASE_PATH, TEMPLATE_LIST)\n",
    "if df.empty:\n",
    "    raise RuntimeError(\"Llama-3-8B の評価ファイルが見つかりません。パスとテンプレートの存在を確認してください。\")\n",
    "\n",
    "# 数値化\n",
    "for c in [\"layer\", \"jrf_k1\", \"jrf_k2\", \"gtd\", \"gqd\", \"cophenetic_corr\"]:\n",
    "    if c in df.columns:\n",
    "        df[c] = pd.to_numeric(df[c], errors=\"coerce\")\n",
    "\n",
    "# 正規化レイヤ（同一モデルなので全体最大でOK）\n",
    "max_layer = df[\"layer\"].max()\n",
    "df[\"normalized_layer\"] = df[\"layer\"] / max_layer if pd.notna(max_layer) and max_layer > 0 else 0.0\n",
    "\n",
    "# ===== 図ユーティリティ =====\n",
    "METRIC_INFO = {\n",
    "    \"jrf_k1\": (\"JRF(k=1)\", \"↓\"),\n",
    "    \"gtd\": (\"Generalized Triplet Distance\", \"↓\"),\n",
    "    \"gqd\": (\"Generalized Quartet Distance\", \"↓\"),\n",
    "    \"cophenetic_corr\": (\"cophenetic corr\", \"↑\"),\n",
    "}\n",
    "MODEL_TITLE = \"Llama-3-8B\"\n",
    "\n",
    "# ===== 指標ごとに 1 図ずつ表示 =====\n",
    "fig_jrfk1 = plot_metric_by_templates(df, \"jrf_k1\")\n",
    "fig_gtd   = plot_metric_by_templates(df, \"gtd\")\n",
    "fig_gqd   = plot_metric_by_templates(df, \"gqd\")\n",
    "fig_coph  = plot_metric_by_templates(df, \"cophenetic_corr\")\n",
    "\n",
    "for f in [fig_jrfk1, fig_gtd, fig_gqd, fig_coph]:\n",
    "    if f is not None:\n",
    "        f.show()\n"
   ]
  },
  {
   "cell_type": "code",
   "execution_count": 15,
   "id": "8ec1600a",
   "metadata": {},
   "outputs": [
    {
     "data": {
      "application/vnd.plotly.v1+json": {
       "config": {
        "plotlyServerURL": "https://plot.ly"
       },
       "data": [
        {
         "hovertemplate": "Layer(norm)=%{x:.2f}<br>JRF(k=1)=%{y:.2f}<extra>entity_only</extra>",
         "mode": "lines+markers",
         "name": "entity_only",
         "type": "scatter",
         "x": {
          "bdata": "AAAAAAAAAAAAAAAAAACgPwAAAAAAALA/AAAAAAAAuD8AAAAAAADAPwAAAAAAAMQ/AAAAAAAAyD8AAAAAAADMPwAAAAAAANA/AAAAAAAA0j8AAAAAAADUPwAAAAAAANY/AAAAAAAA2D8AAAAAAADaPwAAAAAAANw/AAAAAAAA3j8AAAAAAADgPwAAAAAAAOE/AAAAAAAA4j8AAAAAAADjPwAAAAAAAOQ/AAAAAAAA5T8AAAAAAADmPwAAAAAAAOc/AAAAAAAA6D8AAAAAAADpPwAAAAAAAOo/AAAAAAAA6z8AAAAAAADsPwAAAAAAAO0/AAAAAAAA7j8AAAAAAADvPwAAAAAAAPA/",
          "dtype": "f8"
         },
         "y": {
          "bdata": "PPJfO/K/VkBULcU+k8RWQJLH9i/aulZA3QZ/IYmmVkCz4qlVv3pWQM+QmLczBFZAgHZ1PP0HVkBWVVVVVaVVQH1H8HxHIFZAEr1nEr3HVUDpkz7pk65VQCTd8nzY+VVAXmgt2ysIVkB0sjQwOedVQArU+pUCtVVA7ud+7ueuVUAREREREfFVQAgffPDB51VAdDZnczb3VUCO4ziO47hVQI7jOI7jqFVAgVq/UqCWVUChvYT2ErJVQBPaS2gvsVVA6D2T6D1zVUBaWlpaWopVQC0tLS0tjVVALS0tLS19VUDMdiHMdmFVQMx2Icx2UVVAq6qqqqoqVUAkuI/gPjJVQJQ+6ZM+SVVA",
          "dtype": "f8"
         }
        },
        {
         "hovertemplate": "Layer(norm)=%{x:.2f}<br>JRF(k=1)=%{y:.2f}<extra>gift</extra>",
         "mode": "lines+markers",
         "name": "gift",
         "type": "scatter",
         "x": {
          "bdata": "AAAAAAAAAAAAAAAAAACgPwAAAAAAALA/AAAAAAAAuD8AAAAAAADAPwAAAAAAAMQ/AAAAAAAAyD8AAAAAAADMPwAAAAAAANA/AAAAAAAA0j8AAAAAAADUPwAAAAAAANY/AAAAAAAA2D8AAAAAAADaPwAAAAAAANw/AAAAAAAA3j8AAAAAAADgPwAAAAAAAOE/AAAAAAAA4j8AAAAAAADjPwAAAAAAAOQ/AAAAAAAA5T8AAAAAAADmPwAAAAAAAOc/AAAAAAAA6D8AAAAAAADpPwAAAAAAAOo/AAAAAAAA6z8AAAAAAADsPwAAAAAAAO0/AAAAAAAA7j8AAAAAAADvPwAAAAAAAPA/",
          "dtype": "f8"
         },
         "y": {
          "bdata": "bJNP2Bu6VkCYvX76UrxWQG7jOeoKuFZA/kzWnr2jVkBisDdBLINWQJiCRLKrOlZAzczMzMzcVUCqqqqqqnpVQLAFW7AFq1VAVVVVVVW1VUA5juM4jsNVQMdxHMdxzFVAwzAMwzC8VUAvBhXhlrpVQByRYqi//FVAEhiBERgBVkBjuA1juA1WQLAFW7AFC1ZAfHx8fHwcVkDHcRzHcbxVQEJnsEJnwFVAAAAAAADAVUDr6urq6sJVQJwvB1i26VVA2rECYaS9VUAzMzMzM7NVQM3MzMzMjFVAAmGkHSuQVUCL6Syms4hVQAJhpB0rgFVAAmGkHStwVUDQLXHq93xVQG8xpPMW41VA",
          "dtype": "f8"
         }
        },
        {
         "hovertemplate": "Layer(norm)=%{x:.2f}<br>JRF(k=1)=%{y:.2f}<extra>occupation_question</extra>",
         "mode": "lines+markers",
         "name": "occupation_question",
         "type": "scatter",
         "x": {
          "bdata": "AAAAAAAAAAAAAAAAAACgPwAAAAAAALA/AAAAAAAAuD8AAAAAAADAPwAAAAAAAMQ/AAAAAAAAyD8AAAAAAADMPwAAAAAAANA/AAAAAAAA0j8AAAAAAADUPwAAAAAAANY/AAAAAAAA2D8AAAAAAADaPwAAAAAAANw/AAAAAAAA3j8AAAAAAADgPwAAAAAAAOE/AAAAAAAA4j8AAAAAAADjPwAAAAAAAOQ/AAAAAAAA5T8AAAAAAADmPwAAAAAAAOc/AAAAAAAA6D8AAAAAAADpPwAAAAAAAOo/AAAAAAAA6z8AAAAAAADsPwAAAAAAAO0/AAAAAAAA7j8AAAAAAADvPwAAAAAAAPA/",
          "dtype": "f8"
         },
         "y": {
          "bdata": "bJNP2Bu6VkDpcVTbjL5WQOhmaITwwFZAgOZUIl2qVkBMOgwe0ZVWQBut0RqtEVZAPc/zPM+jVUByHMdxHKdVQCiKoiiKslVAx3Ecx3HEVUCCIAiCIMhVQHh3d3d391VAep7neZ7nVUDU+EHU+OFVQLTSQRlB7FVAkOA+gvsYVkCwOEU8Zw9WQAhK5nsbHFZA6qAO6qAuVkAK1PqVAiVWQOJ3a9MMPFZA9Gc5f5YTVkB4d3d3dydWQPRnOX+WI1ZAVlVVVVUlVkA0gKJGoRdWQArU+pUCFVZACtT6lQIFVkAK1PqVAgVWQPptP4WcCVZA+OCDDz4IVkCeEuQpQf5VQMTeqBQ93FVA",
          "dtype": "f8"
         }
        },
        {
         "hovertemplate": "Layer(norm)=%{x:.2f}<br>JRF(k=1)=%{y:.2f}<extra>occupation_simple</extra>",
         "mode": "lines+markers",
         "name": "occupation_simple",
         "type": "scatter",
         "x": {
          "bdata": "AAAAAAAAAAAAAAAAAACgPwAAAAAAALA/AAAAAAAAuD8AAAAAAADAPwAAAAAAAMQ/AAAAAAAAyD8AAAAAAADMPwAAAAAAANA/AAAAAAAA0j8AAAAAAADUPwAAAAAAANY/AAAAAAAA2D8AAAAAAADaPwAAAAAAANw/AAAAAAAA3j8AAAAAAADgPwAAAAAAAOE/AAAAAAAA4j8AAAAAAADjPwAAAAAAAOQ/AAAAAAAA5T8AAAAAAADmPwAAAAAAAOc/AAAAAAAA6D8AAAAAAADpPwAAAAAAAOo/AAAAAAAA6z8AAAAAAADsPwAAAAAAAO0/AAAAAAAA7j8AAAAAAADvPwAAAAAAAPA/",
          "dtype": "f8"
         },
         "y": {
          "bdata": "bJNP2Bu6VkCYvX76UrxWQM457LXcu1ZAGGTQvhC6VkCVFJKCmaBWQIZhGIZhOFZApxHAphHQVUBRmLYvFN5VQNzCLdzCzVVAzczMzMysVUAcx3Ecx6FVQG54ElYbvlVASp/0SZ/UVUCaRO+ZROdVQOIe7uEe7lVAsIgSsIjSVUB/pUCtXwlWQAHGSC+A0VVAC7ZgC7bwVUA+6ZM+6dNVQPurv/qr71VA2nKVNKrdVUDWlwpafflVQG6JU7/n5lVAbolTv+f2VUBuiVO/5/ZVQG6JU7/nBlZAMzMzMzMDVkAzMzMzMxNWQENi3s6QGFZAOKx9w9r3VUBDYt7OkAhWQHAfwX0E51VA",
          "dtype": "f8"
         }
        },
        {
         "hovertemplate": "Layer(norm)=%{x:.2f}<br>JRF(k=1)=%{y:.2f}<extra>profession_query</extra>",
         "mode": "lines+markers",
         "name": "profession_query",
         "type": "scatter",
         "x": {
          "bdata": "AAAAAAAAAAAAAAAAAACgPwAAAAAAALA/AAAAAAAAuD8AAAAAAADAPwAAAAAAAMQ/AAAAAAAAyD8AAAAAAADMPwAAAAAAANA/AAAAAAAA0j8AAAAAAADUPwAAAAAAANY/AAAAAAAA2D8AAAAAAADaPwAAAAAAANw/AAAAAAAA3j8AAAAAAADgPwAAAAAAAOE/AAAAAAAA4j8AAAAAAADjPwAAAAAAAOQ/AAAAAAAA5T8AAAAAAADmPwAAAAAAAOc/AAAAAAAA6D8AAAAAAADpPwAAAAAAAOo/AAAAAAAA6z8AAAAAAADsPwAAAAAAAO0/AAAAAAAA7j8AAAAAAADvPwAAAAAAAPA/",
          "dtype": "f8"
         },
         "y": {
          "bdata": "bJNP2Bu6VkAQ6LYCA8FWQIyMjIyMvFZAdpFzh4KsVkBVL8mbh5dWQFxbW1tbO1ZAWpZlWZa1VUDkOI7jOJ5VQDbgijXg6lVAwRZswRbMVUCtKyYQuLdVQFZVVVVV5VVAIiIiIiLiVUCUPumTPslVQETH+0PH+1VAsDTYMxoXVkBCGqRBGhRWQPL0G4yOFVZATGowNQ0sVkAaEvN2hkRWQPmN4jR+Q1ZAG3DFGnBFVkBbsAVbsEVWQFuwBVuwRVZAjYyMjIxMVkBwBVqs9UpWQN/yLd/yPVZAn/Is2+I9VkCeVBv7yDxWQCen/6qMPlZALsZ7m042VkCeHnciBCZWQJYCtX6lMFZA",
          "dtype": "f8"
         }
        },
        {
         "hovertemplate": "Layer(norm)=%{x:.2f}<br>JRF(k=1)=%{y:.2f}<extra>professional_intro</extra>",
         "mode": "lines+markers",
         "name": "professional_intro",
         "type": "scatter",
         "x": {
          "bdata": "AAAAAAAAAAAAAAAAAACgPwAAAAAAALA/AAAAAAAAuD8AAAAAAADAPwAAAAAAAMQ/AAAAAAAAyD8AAAAAAADMPwAAAAAAANA/AAAAAAAA0j8AAAAAAADUPwAAAAAAANY/AAAAAAAA2D8AAAAAAADaPwAAAAAAANw/AAAAAAAA3j8AAAAAAADgPwAAAAAAAOE/AAAAAAAA4j8AAAAAAADjPwAAAAAAAOQ/AAAAAAAA5T8AAAAAAADmPwAAAAAAAOc/AAAAAAAA6D8AAAAAAADpPwAAAAAAAOo/AAAAAAAA6z8AAAAAAADsPwAAAAAAAO0/AAAAAAAA7j8AAAAAAADvPwAAAAAAAPA/",
          "dtype": "f8"
         },
         "y": {
          "bdata": "bJNP2Bu6VkDpcVTbjL5WQCD4fHgVvFZALHjq8NKjVkCvMcW4qZNWQFFeQ3kNdVZAhDqogzpIVkCF9RTWU+hVQB8pH6MO3lVApU/6pE/qVUCu/6xgkOJVQOh5nud5zlVArL/6q7/6VUDTxfPSxbNVQGzNutasu1VAJM95JM/5VUBalmVZlhVWQMg3ZfbxDVZAFZxRwRklVkCqVE6/miBWQF3KpVzKJVZAHtLE2LonVkCQAF+3DR5WQClcj8L1GFZAzFABiRwhVkC1fqVArR9WQNJFF110IVZA0kUXXXQRVkAaPEegaBtWQJhrB+baAVZAjkDRVoPnVUCOQNFWg/dVQNInfdIn/VVA",
          "dtype": "f8"
         }
        }
       ],
       "layout": {
        "legend": {
         "title": {
          "text": "Template"
         }
        },
        "template": {
         "data": {
          "bar": [
           {
            "error_x": {
             "color": "#2a3f5f"
            },
            "error_y": {
             "color": "#2a3f5f"
            },
            "marker": {
             "line": {
              "color": "#E5ECF6",
              "width": 0.5
             },
             "pattern": {
              "fillmode": "overlay",
              "size": 10,
              "solidity": 0.2
             }
            },
            "type": "bar"
           }
          ],
          "barpolar": [
           {
            "marker": {
             "line": {
              "color": "#E5ECF6",
              "width": 0.5
             },
             "pattern": {
              "fillmode": "overlay",
              "size": 10,
              "solidity": 0.2
             }
            },
            "type": "barpolar"
           }
          ],
          "carpet": [
           {
            "aaxis": {
             "endlinecolor": "#2a3f5f",
             "gridcolor": "white",
             "linecolor": "white",
             "minorgridcolor": "white",
             "startlinecolor": "#2a3f5f"
            },
            "baxis": {
             "endlinecolor": "#2a3f5f",
             "gridcolor": "white",
             "linecolor": "white",
             "minorgridcolor": "white",
             "startlinecolor": "#2a3f5f"
            },
            "type": "carpet"
           }
          ],
          "choropleth": [
           {
            "colorbar": {
             "outlinewidth": 0,
             "ticks": ""
            },
            "type": "choropleth"
           }
          ],
          "contour": [
           {
            "colorbar": {
             "outlinewidth": 0,
             "ticks": ""
            },
            "colorscale": [
             [
              0,
              "#0d0887"
             ],
             [
              0.1111111111111111,
              "#46039f"
             ],
             [
              0.2222222222222222,
              "#7201a8"
             ],
             [
              0.3333333333333333,
              "#9c179e"
             ],
             [
              0.4444444444444444,
              "#bd3786"
             ],
             [
              0.5555555555555556,
              "#d8576b"
             ],
             [
              0.6666666666666666,
              "#ed7953"
             ],
             [
              0.7777777777777778,
              "#fb9f3a"
             ],
             [
              0.8888888888888888,
              "#fdca26"
             ],
             [
              1,
              "#f0f921"
             ]
            ],
            "type": "contour"
           }
          ],
          "contourcarpet": [
           {
            "colorbar": {
             "outlinewidth": 0,
             "ticks": ""
            },
            "type": "contourcarpet"
           }
          ],
          "heatmap": [
           {
            "colorbar": {
             "outlinewidth": 0,
             "ticks": ""
            },
            "colorscale": [
             [
              0,
              "#0d0887"
             ],
             [
              0.1111111111111111,
              "#46039f"
             ],
             [
              0.2222222222222222,
              "#7201a8"
             ],
             [
              0.3333333333333333,
              "#9c179e"
             ],
             [
              0.4444444444444444,
              "#bd3786"
             ],
             [
              0.5555555555555556,
              "#d8576b"
             ],
             [
              0.6666666666666666,
              "#ed7953"
             ],
             [
              0.7777777777777778,
              "#fb9f3a"
             ],
             [
              0.8888888888888888,
              "#fdca26"
             ],
             [
              1,
              "#f0f921"
             ]
            ],
            "type": "heatmap"
           }
          ],
          "histogram": [
           {
            "marker": {
             "pattern": {
              "fillmode": "overlay",
              "size": 10,
              "solidity": 0.2
             }
            },
            "type": "histogram"
           }
          ],
          "histogram2d": [
           {
            "colorbar": {
             "outlinewidth": 0,
             "ticks": ""
            },
            "colorscale": [
             [
              0,
              "#0d0887"
             ],
             [
              0.1111111111111111,
              "#46039f"
             ],
             [
              0.2222222222222222,
              "#7201a8"
             ],
             [
              0.3333333333333333,
              "#9c179e"
             ],
             [
              0.4444444444444444,
              "#bd3786"
             ],
             [
              0.5555555555555556,
              "#d8576b"
             ],
             [
              0.6666666666666666,
              "#ed7953"
             ],
             [
              0.7777777777777778,
              "#fb9f3a"
             ],
             [
              0.8888888888888888,
              "#fdca26"
             ],
             [
              1,
              "#f0f921"
             ]
            ],
            "type": "histogram2d"
           }
          ],
          "histogram2dcontour": [
           {
            "colorbar": {
             "outlinewidth": 0,
             "ticks": ""
            },
            "colorscale": [
             [
              0,
              "#0d0887"
             ],
             [
              0.1111111111111111,
              "#46039f"
             ],
             [
              0.2222222222222222,
              "#7201a8"
             ],
             [
              0.3333333333333333,
              "#9c179e"
             ],
             [
              0.4444444444444444,
              "#bd3786"
             ],
             [
              0.5555555555555556,
              "#d8576b"
             ],
             [
              0.6666666666666666,
              "#ed7953"
             ],
             [
              0.7777777777777778,
              "#fb9f3a"
             ],
             [
              0.8888888888888888,
              "#fdca26"
             ],
             [
              1,
              "#f0f921"
             ]
            ],
            "type": "histogram2dcontour"
           }
          ],
          "mesh3d": [
           {
            "colorbar": {
             "outlinewidth": 0,
             "ticks": ""
            },
            "type": "mesh3d"
           }
          ],
          "parcoords": [
           {
            "line": {
             "colorbar": {
              "outlinewidth": 0,
              "ticks": ""
             }
            },
            "type": "parcoords"
           }
          ],
          "pie": [
           {
            "automargin": true,
            "type": "pie"
           }
          ],
          "scatter": [
           {
            "fillpattern": {
             "fillmode": "overlay",
             "size": 10,
             "solidity": 0.2
            },
            "type": "scatter"
           }
          ],
          "scatter3d": [
           {
            "line": {
             "colorbar": {
              "outlinewidth": 0,
              "ticks": ""
             }
            },
            "marker": {
             "colorbar": {
              "outlinewidth": 0,
              "ticks": ""
             }
            },
            "type": "scatter3d"
           }
          ],
          "scattercarpet": [
           {
            "marker": {
             "colorbar": {
              "outlinewidth": 0,
              "ticks": ""
             }
            },
            "type": "scattercarpet"
           }
          ],
          "scattergeo": [
           {
            "marker": {
             "colorbar": {
              "outlinewidth": 0,
              "ticks": ""
             }
            },
            "type": "scattergeo"
           }
          ],
          "scattergl": [
           {
            "marker": {
             "colorbar": {
              "outlinewidth": 0,
              "ticks": ""
             }
            },
            "type": "scattergl"
           }
          ],
          "scattermap": [
           {
            "marker": {
             "colorbar": {
              "outlinewidth": 0,
              "ticks": ""
             }
            },
            "type": "scattermap"
           }
          ],
          "scattermapbox": [
           {
            "marker": {
             "colorbar": {
              "outlinewidth": 0,
              "ticks": ""
             }
            },
            "type": "scattermapbox"
           }
          ],
          "scatterpolar": [
           {
            "marker": {
             "colorbar": {
              "outlinewidth": 0,
              "ticks": ""
             }
            },
            "type": "scatterpolar"
           }
          ],
          "scatterpolargl": [
           {
            "marker": {
             "colorbar": {
              "outlinewidth": 0,
              "ticks": ""
             }
            },
            "type": "scatterpolargl"
           }
          ],
          "scatterternary": [
           {
            "marker": {
             "colorbar": {
              "outlinewidth": 0,
              "ticks": ""
             }
            },
            "type": "scatterternary"
           }
          ],
          "surface": [
           {
            "colorbar": {
             "outlinewidth": 0,
             "ticks": ""
            },
            "colorscale": [
             [
              0,
              "#0d0887"
             ],
             [
              0.1111111111111111,
              "#46039f"
             ],
             [
              0.2222222222222222,
              "#7201a8"
             ],
             [
              0.3333333333333333,
              "#9c179e"
             ],
             [
              0.4444444444444444,
              "#bd3786"
             ],
             [
              0.5555555555555556,
              "#d8576b"
             ],
             [
              0.6666666666666666,
              "#ed7953"
             ],
             [
              0.7777777777777778,
              "#fb9f3a"
             ],
             [
              0.8888888888888888,
              "#fdca26"
             ],
             [
              1,
              "#f0f921"
             ]
            ],
            "type": "surface"
           }
          ],
          "table": [
           {
            "cells": {
             "fill": {
              "color": "#EBF0F8"
             },
             "line": {
              "color": "white"
             }
            },
            "header": {
             "fill": {
              "color": "#C8D4E3"
             },
             "line": {
              "color": "white"
             }
            },
            "type": "table"
           }
          ]
         },
         "layout": {
          "annotationdefaults": {
           "arrowcolor": "#2a3f5f",
           "arrowhead": 0,
           "arrowwidth": 1
          },
          "autotypenumbers": "strict",
          "coloraxis": {
           "colorbar": {
            "outlinewidth": 0,
            "ticks": ""
           }
          },
          "colorscale": {
           "diverging": [
            [
             0,
             "#8e0152"
            ],
            [
             0.1,
             "#c51b7d"
            ],
            [
             0.2,
             "#de77ae"
            ],
            [
             0.3,
             "#f1b6da"
            ],
            [
             0.4,
             "#fde0ef"
            ],
            [
             0.5,
             "#f7f7f7"
            ],
            [
             0.6,
             "#e6f5d0"
            ],
            [
             0.7,
             "#b8e186"
            ],
            [
             0.8,
             "#7fbc41"
            ],
            [
             0.9,
             "#4d9221"
            ],
            [
             1,
             "#276419"
            ]
           ],
           "sequential": [
            [
             0,
             "#0d0887"
            ],
            [
             0.1111111111111111,
             "#46039f"
            ],
            [
             0.2222222222222222,
             "#7201a8"
            ],
            [
             0.3333333333333333,
             "#9c179e"
            ],
            [
             0.4444444444444444,
             "#bd3786"
            ],
            [
             0.5555555555555556,
             "#d8576b"
            ],
            [
             0.6666666666666666,
             "#ed7953"
            ],
            [
             0.7777777777777778,
             "#fb9f3a"
            ],
            [
             0.8888888888888888,
             "#fdca26"
            ],
            [
             1,
             "#f0f921"
            ]
           ],
           "sequentialminus": [
            [
             0,
             "#0d0887"
            ],
            [
             0.1111111111111111,
             "#46039f"
            ],
            [
             0.2222222222222222,
             "#7201a8"
            ],
            [
             0.3333333333333333,
             "#9c179e"
            ],
            [
             0.4444444444444444,
             "#bd3786"
            ],
            [
             0.5555555555555556,
             "#d8576b"
            ],
            [
             0.6666666666666666,
             "#ed7953"
            ],
            [
             0.7777777777777778,
             "#fb9f3a"
            ],
            [
             0.8888888888888888,
             "#fdca26"
            ],
            [
             1,
             "#f0f921"
            ]
           ]
          },
          "colorway": [
           "#636efa",
           "#EF553B",
           "#00cc96",
           "#ab63fa",
           "#FFA15A",
           "#19d3f3",
           "#FF6692",
           "#B6E880",
           "#FF97FF",
           "#FECB52"
          ],
          "font": {
           "color": "#2a3f5f"
          },
          "geo": {
           "bgcolor": "white",
           "lakecolor": "white",
           "landcolor": "#E5ECF6",
           "showlakes": true,
           "showland": true,
           "subunitcolor": "white"
          },
          "hoverlabel": {
           "align": "left"
          },
          "hovermode": "closest",
          "mapbox": {
           "style": "light"
          },
          "paper_bgcolor": "white",
          "plot_bgcolor": "#E5ECF6",
          "polar": {
           "angularaxis": {
            "gridcolor": "white",
            "linecolor": "white",
            "ticks": ""
           },
           "bgcolor": "#E5ECF6",
           "radialaxis": {
            "gridcolor": "white",
            "linecolor": "white",
            "ticks": ""
           }
          },
          "scene": {
           "xaxis": {
            "backgroundcolor": "#E5ECF6",
            "gridcolor": "white",
            "gridwidth": 2,
            "linecolor": "white",
            "showbackground": true,
            "ticks": "",
            "zerolinecolor": "white"
           },
           "yaxis": {
            "backgroundcolor": "#E5ECF6",
            "gridcolor": "white",
            "gridwidth": 2,
            "linecolor": "white",
            "showbackground": true,
            "ticks": "",
            "zerolinecolor": "white"
           },
           "zaxis": {
            "backgroundcolor": "#E5ECF6",
            "gridcolor": "white",
            "gridwidth": 2,
            "linecolor": "white",
            "showbackground": true,
            "ticks": "",
            "zerolinecolor": "white"
           }
          },
          "shapedefaults": {
           "line": {
            "color": "#2a3f5f"
           }
          },
          "ternary": {
           "aaxis": {
            "gridcolor": "white",
            "linecolor": "white",
            "ticks": ""
           },
           "baxis": {
            "gridcolor": "white",
            "linecolor": "white",
            "ticks": ""
           },
           "bgcolor": "#E5ECF6",
           "caxis": {
            "gridcolor": "white",
            "linecolor": "white",
            "ticks": ""
           }
          },
          "title": {
           "x": 0.05
          },
          "xaxis": {
           "automargin": true,
           "gridcolor": "white",
           "linecolor": "white",
           "ticks": "",
           "title": {
            "standoff": 15
           },
           "zerolinecolor": "white",
           "zerolinewidth": 2
          },
          "yaxis": {
           "automargin": true,
           "gridcolor": "white",
           "linecolor": "white",
           "ticks": "",
           "title": {
            "standoff": 15
           },
           "zerolinecolor": "white",
           "zerolinewidth": 2
          }
         }
        },
        "title": {
         "text": "Llama-3-8B: JRF(k=1) across normalized layers (↓)"
        },
        "xaxis": {
         "range": [
          -0.01,
          1.01
         ],
         "title": {
          "text": "Normalized layer (0 → 1)"
         }
        },
        "yaxis": {
         "title": {
          "text": "JRF(k=1)"
         }
        }
       }
      }
     },
     "metadata": {},
     "output_type": "display_data"
    },
    {
     "data": {
      "application/vnd.plotly.v1+json": {
       "config": {
        "plotlyServerURL": "https://plot.ly"
       },
       "data": [
        {
         "hovertemplate": "Layer(norm)=%{x:.2f}<br>Generalized Triplet Distance=%{y:.2f}<extra>entity_only</extra>",
         "mode": "lines+markers",
         "name": "entity_only",
         "type": "scatter",
         "x": {
          "bdata": "AAAAAAAAAAAAAAAAAACgPwAAAAAAALA/AAAAAAAAuD8AAAAAAADAPwAAAAAAAMQ/AAAAAAAAyD8AAAAAAADMPwAAAAAAANA/AAAAAAAA0j8AAAAAAADUPwAAAAAAANY/AAAAAAAA2D8AAAAAAADaPwAAAAAAANw/AAAAAAAA3j8AAAAAAADgPwAAAAAAAOE/AAAAAAAA4j8AAAAAAADjPwAAAAAAAOQ/AAAAAAAA5T8AAAAAAADmPwAAAAAAAOc/AAAAAAAA6D8AAAAAAADpPwAAAAAAAOo/AAAAAAAA6z8AAAAAAADsPwAAAAAAAO0/AAAAAAAA7j8AAAAAAADvPwAAAAAAAPA/",
          "dtype": "f8"
         },
         "y": {
          "bdata": "JoR6bp8c5T88NS2j9l7lP8r8+7opNOU/Tgw6swq45D/Rb7YO/WbjPz63T45cnuA/UrxAJsUL4D8YngXH+LbcPxlKx2Pni+E/FBieBcf43j+6vgPapSTbP4A1mNOdmt4/Cnf/KZ+x4D+W5koI9dzeP8Ixvi15V90/orXNa3E42T+6U9Myau/dP1DP7ZMjl98/vi15V63Y3j+sLM2VEOrZP15hJNi40dg/5EbDHhHA0j+sAi7kh1TUP7R16Ddbh9Y/sNzTCMs91T/k25J31YrVP95/ymcsYtU/sh1l/n3d1D9scTgx6MzSP5pVwIX8kNI/8oS7/5TP0D+YVcCF/JDKP16Lw4lBZ9Y/",
          "dtype": "f8"
         }
        },
        {
         "hovertemplate": "Layer(norm)=%{x:.2f}<br>Generalized Triplet Distance=%{y:.2f}<extra>gift</extra>",
         "mode": "lines+markers",
         "name": "gift",
         "type": "scatter",
         "x": {
          "bdata": "AAAAAAAAAAAAAAAAAACgPwAAAAAAALA/AAAAAAAAuD8AAAAAAADAPwAAAAAAAMQ/AAAAAAAAyD8AAAAAAADMPwAAAAAAANA/AAAAAAAA0j8AAAAAAADUPwAAAAAAANY/AAAAAAAA2D8AAAAAAADaPwAAAAAAANw/AAAAAAAA3j8AAAAAAADgPwAAAAAAAOE/AAAAAAAA4j8AAAAAAADjPwAAAAAAAOQ/AAAAAAAA5T8AAAAAAADmPwAAAAAAAOc/AAAAAAAA6D8AAAAAAADpPwAAAAAAAOo/AAAAAAAA6z8AAAAAAADsPwAAAAAAAO0/AAAAAAAA7j8AAAAAAADvPwAAAAAAAPA/",
          "dtype": "f8"
         },
         "y": {
          "bdata": "3sBbXd8B5T99nIOkDVHlP/AVRoKNG+U/kqF0PHa+5D8aICiyXvbjP5Z7GmG5p+E/HDca9ogA3j/kyOUJd//ZPyLUc/vkyN0/rhkgKLJe3j+YJ9z9p3zeP9y8FocTg94/MmrvFUaC3T8uDicGnVndPyrJUDoeO98/jG9L3lUr3j84W4d+s3XgP2gsYmVpruA//jxMH+cg4T9SURB/idbePw79ZuvQb94/luZKCPXc3j962c/D9HHePzoeO1/MVN8/BEXWy34e3j+aAYIi62XfP2Tni5nqj94//ugNvNX13T+m47HzxUzdP+7UtIzae90/Sp3ENQME3T8cuTzh7j/dP2wd+s3Wod8/",
          "dtype": "f8"
         }
        },
        {
         "hovertemplate": "Layer(norm)=%{x:.2f}<br>Generalized Triplet Distance=%{y:.2f}<extra>occupation_question</extra>",
         "mode": "lines+markers",
         "name": "occupation_question",
         "type": "scatter",
         "x": {
          "bdata": "AAAAAAAAAAAAAAAAAACgPwAAAAAAALA/AAAAAAAAuD8AAAAAAADAPwAAAAAAAMQ/AAAAAAAAyD8AAAAAAADMPwAAAAAAANA/AAAAAAAA0j8AAAAAAADUPwAAAAAAANY/AAAAAAAA2D8AAAAAAADaPwAAAAAAANw/AAAAAAAA3j8AAAAAAADgPwAAAAAAAOE/AAAAAAAA4j8AAAAAAADjPwAAAAAAAOQ/AAAAAAAA5T8AAAAAAADmPwAAAAAAAOc/AAAAAAAA6D8AAAAAAADpPwAAAAAAAOo/AAAAAAAA6z8AAAAAAADsPwAAAAAAAO0/AAAAAAAA7j8AAAAAAADvPwAAAAAAAPA/",
          "dtype": "f8"
         },
         "y": {
          "bdata": "3sBbXd8B5T+Mw4lBZ1blP7qnEZZ7GuU/uuiiiy665D+af183hSbkP0LShqhSJ+E/GiAosl722z+uhFDP7ZPbP7S2eS0OJ94/pKIg/hKt3T8y6Mwq4ELeP09Ny6i9V+A/JJcn3P2n4D8Y8kMqCuLfPz45cnnC3d8/wnJPIyz34D/xl2ht81rgP7Je9vMwfeA/Zqo/egNv4T8w+3mYPs7hP1OSoXQ8duI/G8zpTk3L4D8CWIM53anhP1xd3wHtUuI/asV2lPn34T9Ev9k69JvhP4UmMDwLjuE/n0ZY7mmE4T9PuPtP+YzhP0S/2Tr0m+E/GUrHY+eL4T/NKuBCfkjhPwyl47HzxeA/",
          "dtype": "f8"
         }
        },
        {
         "hovertemplate": "Layer(norm)=%{x:.2f}<br>Generalized Triplet Distance=%{y:.2f}<extra>occupation_simple</extra>",
         "mode": "lines+markers",
         "name": "occupation_simple",
         "type": "scatter",
         "x": {
          "bdata": "AAAAAAAAAAAAAAAAAACgPwAAAAAAALA/AAAAAAAAuD8AAAAAAADAPwAAAAAAAMQ/AAAAAAAAyD8AAAAAAADMPwAAAAAAANA/AAAAAAAA0j8AAAAAAADUPwAAAAAAANY/AAAAAAAA2D8AAAAAAADaPwAAAAAAANw/AAAAAAAA3j8AAAAAAADgPwAAAAAAAOE/AAAAAAAA4j8AAAAAAADjPwAAAAAAAOQ/AAAAAAAA5T8AAAAAAADmPwAAAAAAAOc/AAAAAAAA6D8AAAAAAADpPwAAAAAAAOo/AAAAAAAA6z8AAAAAAADsPwAAAAAAAO0/AAAAAAAA7j8AAAAAAADvPwAAAAAAAPA/",
          "dtype": "f8"
         },
         "y": {
          "bdata": "3sBbXd8B5T9WVVVVVVXlP4Q53alpGeU/itY2r8Xh5D8Z35a8q1bkP+g3W4d+s+E/hDndqWkZ3T/o9smRyxPeP/KuWrEdZd4/9rKfh+nj3D8s9zTCck/bP7oSQj23T94/mgGCIutl3z9K8QKZFC/gPy7kh1QUxN8/sNzTCMs93T96wt1/ymfgP5RkKB2Pnd8/B0kbokqd4D+awPAsOMbfP7LzxUz1R98/2Plipvqj3z8BrMGc7tTgP7Z5LQ4nBuE/uGaAoMh64T/HjYY9IoDhP4qC+Eu0tuE/ei0OJwad4T9ol5IMpePhP8ZM9Udv4OE/oMh62c/D4D9UaALDs+DgPxgz1R+9gd8/",
          "dtype": "f8"
         }
        },
        {
         "hovertemplate": "Layer(norm)=%{x:.2f}<br>Generalized Triplet Distance=%{y:.2f}<extra>profession_query</extra>",
         "mode": "lines+markers",
         "name": "profession_query",
         "type": "scatter",
         "x": {
          "bdata": "AAAAAAAAAAAAAAAAAACgPwAAAAAAALA/AAAAAAAAuD8AAAAAAADAPwAAAAAAAMQ/AAAAAAAAyD8AAAAAAADMPwAAAAAAANA/AAAAAAAA0j8AAAAAAADUPwAAAAAAANY/AAAAAAAA2D8AAAAAAADaPwAAAAAAANw/AAAAAAAA3j8AAAAAAADgPwAAAAAAAOE/AAAAAAAA4j8AAAAAAADjPwAAAAAAAOQ/AAAAAAAA5T8AAAAAAADmPwAAAAAAAOc/AAAAAAAA6D8AAAAAAADpPwAAAAAAAOo/AAAAAAAA6z8AAAAAAADsPwAAAAAAAO0/AAAAAAAA7j8AAAAAAADvPwAAAAAAAPA/",
          "dtype": "f8"
         },
         "y": {
          "bdata": "3sBbXd8B5T9kfFvyrlrlP7qnEZZ7GuU/AazBnO7U5D/m39dNoQnkPzSrgAv5IeE/ZJNNNtlk2z9EVKmTuGbYP77s52H6ON8/ItRz++TI3T/6DmiXkgzdPwKCIutlP98/CqGe2ydH3j/gAe1SkqHcP5Qjlyfc/d8/eIFMihfI4D+w3NMIyz3hP0pcM0BQZOE/WS/7eZg+4j+fsYiVpbniP+wRAazBnOI/ZhVwIT+k4j8z1R+9gbfiP8Kc7tS0jOI/n7GIlaW54j9pQ1Spk7jiP2G5pxGWe+I/EitLcyWE4j+/bgpNYHjiP/Yd0C4lGeI/WnCMb0ve4T+Q3sBbXd/hP0jaEFXqJOI/",
          "dtype": "f8"
         }
        },
        {
         "hovertemplate": "Layer(norm)=%{x:.2f}<br>Generalized Triplet Distance=%{y:.2f}<extra>professional_intro</extra>",
         "mode": "lines+markers",
         "name": "professional_intro",
         "type": "scatter",
         "x": {
          "bdata": "AAAAAAAAAAAAAAAAAACgPwAAAAAAALA/AAAAAAAAuD8AAAAAAADAPwAAAAAAAMQ/AAAAAAAAyD8AAAAAAADMPwAAAAAAANA/AAAAAAAA0j8AAAAAAADUPwAAAAAAANY/AAAAAAAA2D8AAAAAAADaPwAAAAAAANw/AAAAAAAA3j8AAAAAAADgPwAAAAAAAOE/AAAAAAAA4j8AAAAAAADjPwAAAAAAAOQ/AAAAAAAA5T8AAAAAAADmPwAAAAAAAOc/AAAAAAAA6D8AAAAAAADpPwAAAAAAAOo/AAAAAAAA6z8AAAAAAADsPwAAAAAAAO0/AAAAAAAA7j8AAAAAAADvPwAAAAAAAPA/",
          "dtype": "f8"
         },
         "y": {
          "bdata": "3sBbXd8B5T/CMb4teVflP66u74B2KeU/h6hSJ3HN5D8CLuSHVBTkP0iZf183heI/vEAmxQtk4j8oRy5PuPvfP3D3n/IZi+A/llF7rzAS4D8OJwadWQXgP/TFTPVHb+A/qFIncc0A4T/KZyxiZWneP3BL3lUrtts/qtRJXDNA4D8MZFK8QCbhP3KjYY8IYOE/QFBkvezn4T9qxXaU+ffhP0sI9dw+OeI/t+RdtWI74j+hM6uAC/nhP1/MVH/0BuI/IJPiBTIp4j/az8P0cQ7iP4TlnkZY7uE/WrEdZf594T+AymcsYmXhP1aW5koI9eA/0ht4q+s74D88yvz7uingP/bzMH2cg+A/",
          "dtype": "f8"
         }
        }
       ],
       "layout": {
        "legend": {
         "title": {
          "text": "Template"
         }
        },
        "template": {
         "data": {
          "bar": [
           {
            "error_x": {
             "color": "#2a3f5f"
            },
            "error_y": {
             "color": "#2a3f5f"
            },
            "marker": {
             "line": {
              "color": "#E5ECF6",
              "width": 0.5
             },
             "pattern": {
              "fillmode": "overlay",
              "size": 10,
              "solidity": 0.2
             }
            },
            "type": "bar"
           }
          ],
          "barpolar": [
           {
            "marker": {
             "line": {
              "color": "#E5ECF6",
              "width": 0.5
             },
             "pattern": {
              "fillmode": "overlay",
              "size": 10,
              "solidity": 0.2
             }
            },
            "type": "barpolar"
           }
          ],
          "carpet": [
           {
            "aaxis": {
             "endlinecolor": "#2a3f5f",
             "gridcolor": "white",
             "linecolor": "white",
             "minorgridcolor": "white",
             "startlinecolor": "#2a3f5f"
            },
            "baxis": {
             "endlinecolor": "#2a3f5f",
             "gridcolor": "white",
             "linecolor": "white",
             "minorgridcolor": "white",
             "startlinecolor": "#2a3f5f"
            },
            "type": "carpet"
           }
          ],
          "choropleth": [
           {
            "colorbar": {
             "outlinewidth": 0,
             "ticks": ""
            },
            "type": "choropleth"
           }
          ],
          "contour": [
           {
            "colorbar": {
             "outlinewidth": 0,
             "ticks": ""
            },
            "colorscale": [
             [
              0,
              "#0d0887"
             ],
             [
              0.1111111111111111,
              "#46039f"
             ],
             [
              0.2222222222222222,
              "#7201a8"
             ],
             [
              0.3333333333333333,
              "#9c179e"
             ],
             [
              0.4444444444444444,
              "#bd3786"
             ],
             [
              0.5555555555555556,
              "#d8576b"
             ],
             [
              0.6666666666666666,
              "#ed7953"
             ],
             [
              0.7777777777777778,
              "#fb9f3a"
             ],
             [
              0.8888888888888888,
              "#fdca26"
             ],
             [
              1,
              "#f0f921"
             ]
            ],
            "type": "contour"
           }
          ],
          "contourcarpet": [
           {
            "colorbar": {
             "outlinewidth": 0,
             "ticks": ""
            },
            "type": "contourcarpet"
           }
          ],
          "heatmap": [
           {
            "colorbar": {
             "outlinewidth": 0,
             "ticks": ""
            },
            "colorscale": [
             [
              0,
              "#0d0887"
             ],
             [
              0.1111111111111111,
              "#46039f"
             ],
             [
              0.2222222222222222,
              "#7201a8"
             ],
             [
              0.3333333333333333,
              "#9c179e"
             ],
             [
              0.4444444444444444,
              "#bd3786"
             ],
             [
              0.5555555555555556,
              "#d8576b"
             ],
             [
              0.6666666666666666,
              "#ed7953"
             ],
             [
              0.7777777777777778,
              "#fb9f3a"
             ],
             [
              0.8888888888888888,
              "#fdca26"
             ],
             [
              1,
              "#f0f921"
             ]
            ],
            "type": "heatmap"
           }
          ],
          "histogram": [
           {
            "marker": {
             "pattern": {
              "fillmode": "overlay",
              "size": 10,
              "solidity": 0.2
             }
            },
            "type": "histogram"
           }
          ],
          "histogram2d": [
           {
            "colorbar": {
             "outlinewidth": 0,
             "ticks": ""
            },
            "colorscale": [
             [
              0,
              "#0d0887"
             ],
             [
              0.1111111111111111,
              "#46039f"
             ],
             [
              0.2222222222222222,
              "#7201a8"
             ],
             [
              0.3333333333333333,
              "#9c179e"
             ],
             [
              0.4444444444444444,
              "#bd3786"
             ],
             [
              0.5555555555555556,
              "#d8576b"
             ],
             [
              0.6666666666666666,
              "#ed7953"
             ],
             [
              0.7777777777777778,
              "#fb9f3a"
             ],
             [
              0.8888888888888888,
              "#fdca26"
             ],
             [
              1,
              "#f0f921"
             ]
            ],
            "type": "histogram2d"
           }
          ],
          "histogram2dcontour": [
           {
            "colorbar": {
             "outlinewidth": 0,
             "ticks": ""
            },
            "colorscale": [
             [
              0,
              "#0d0887"
             ],
             [
              0.1111111111111111,
              "#46039f"
             ],
             [
              0.2222222222222222,
              "#7201a8"
             ],
             [
              0.3333333333333333,
              "#9c179e"
             ],
             [
              0.4444444444444444,
              "#bd3786"
             ],
             [
              0.5555555555555556,
              "#d8576b"
             ],
             [
              0.6666666666666666,
              "#ed7953"
             ],
             [
              0.7777777777777778,
              "#fb9f3a"
             ],
             [
              0.8888888888888888,
              "#fdca26"
             ],
             [
              1,
              "#f0f921"
             ]
            ],
            "type": "histogram2dcontour"
           }
          ],
          "mesh3d": [
           {
            "colorbar": {
             "outlinewidth": 0,
             "ticks": ""
            },
            "type": "mesh3d"
           }
          ],
          "parcoords": [
           {
            "line": {
             "colorbar": {
              "outlinewidth": 0,
              "ticks": ""
             }
            },
            "type": "parcoords"
           }
          ],
          "pie": [
           {
            "automargin": true,
            "type": "pie"
           }
          ],
          "scatter": [
           {
            "fillpattern": {
             "fillmode": "overlay",
             "size": 10,
             "solidity": 0.2
            },
            "type": "scatter"
           }
          ],
          "scatter3d": [
           {
            "line": {
             "colorbar": {
              "outlinewidth": 0,
              "ticks": ""
             }
            },
            "marker": {
             "colorbar": {
              "outlinewidth": 0,
              "ticks": ""
             }
            },
            "type": "scatter3d"
           }
          ],
          "scattercarpet": [
           {
            "marker": {
             "colorbar": {
              "outlinewidth": 0,
              "ticks": ""
             }
            },
            "type": "scattercarpet"
           }
          ],
          "scattergeo": [
           {
            "marker": {
             "colorbar": {
              "outlinewidth": 0,
              "ticks": ""
             }
            },
            "type": "scattergeo"
           }
          ],
          "scattergl": [
           {
            "marker": {
             "colorbar": {
              "outlinewidth": 0,
              "ticks": ""
             }
            },
            "type": "scattergl"
           }
          ],
          "scattermap": [
           {
            "marker": {
             "colorbar": {
              "outlinewidth": 0,
              "ticks": ""
             }
            },
            "type": "scattermap"
           }
          ],
          "scattermapbox": [
           {
            "marker": {
             "colorbar": {
              "outlinewidth": 0,
              "ticks": ""
             }
            },
            "type": "scattermapbox"
           }
          ],
          "scatterpolar": [
           {
            "marker": {
             "colorbar": {
              "outlinewidth": 0,
              "ticks": ""
             }
            },
            "type": "scatterpolar"
           }
          ],
          "scatterpolargl": [
           {
            "marker": {
             "colorbar": {
              "outlinewidth": 0,
              "ticks": ""
             }
            },
            "type": "scatterpolargl"
           }
          ],
          "scatterternary": [
           {
            "marker": {
             "colorbar": {
              "outlinewidth": 0,
              "ticks": ""
             }
            },
            "type": "scatterternary"
           }
          ],
          "surface": [
           {
            "colorbar": {
             "outlinewidth": 0,
             "ticks": ""
            },
            "colorscale": [
             [
              0,
              "#0d0887"
             ],
             [
              0.1111111111111111,
              "#46039f"
             ],
             [
              0.2222222222222222,
              "#7201a8"
             ],
             [
              0.3333333333333333,
              "#9c179e"
             ],
             [
              0.4444444444444444,
              "#bd3786"
             ],
             [
              0.5555555555555556,
              "#d8576b"
             ],
             [
              0.6666666666666666,
              "#ed7953"
             ],
             [
              0.7777777777777778,
              "#fb9f3a"
             ],
             [
              0.8888888888888888,
              "#fdca26"
             ],
             [
              1,
              "#f0f921"
             ]
            ],
            "type": "surface"
           }
          ],
          "table": [
           {
            "cells": {
             "fill": {
              "color": "#EBF0F8"
             },
             "line": {
              "color": "white"
             }
            },
            "header": {
             "fill": {
              "color": "#C8D4E3"
             },
             "line": {
              "color": "white"
             }
            },
            "type": "table"
           }
          ]
         },
         "layout": {
          "annotationdefaults": {
           "arrowcolor": "#2a3f5f",
           "arrowhead": 0,
           "arrowwidth": 1
          },
          "autotypenumbers": "strict",
          "coloraxis": {
           "colorbar": {
            "outlinewidth": 0,
            "ticks": ""
           }
          },
          "colorscale": {
           "diverging": [
            [
             0,
             "#8e0152"
            ],
            [
             0.1,
             "#c51b7d"
            ],
            [
             0.2,
             "#de77ae"
            ],
            [
             0.3,
             "#f1b6da"
            ],
            [
             0.4,
             "#fde0ef"
            ],
            [
             0.5,
             "#f7f7f7"
            ],
            [
             0.6,
             "#e6f5d0"
            ],
            [
             0.7,
             "#b8e186"
            ],
            [
             0.8,
             "#7fbc41"
            ],
            [
             0.9,
             "#4d9221"
            ],
            [
             1,
             "#276419"
            ]
           ],
           "sequential": [
            [
             0,
             "#0d0887"
            ],
            [
             0.1111111111111111,
             "#46039f"
            ],
            [
             0.2222222222222222,
             "#7201a8"
            ],
            [
             0.3333333333333333,
             "#9c179e"
            ],
            [
             0.4444444444444444,
             "#bd3786"
            ],
            [
             0.5555555555555556,
             "#d8576b"
            ],
            [
             0.6666666666666666,
             "#ed7953"
            ],
            [
             0.7777777777777778,
             "#fb9f3a"
            ],
            [
             0.8888888888888888,
             "#fdca26"
            ],
            [
             1,
             "#f0f921"
            ]
           ],
           "sequentialminus": [
            [
             0,
             "#0d0887"
            ],
            [
             0.1111111111111111,
             "#46039f"
            ],
            [
             0.2222222222222222,
             "#7201a8"
            ],
            [
             0.3333333333333333,
             "#9c179e"
            ],
            [
             0.4444444444444444,
             "#bd3786"
            ],
            [
             0.5555555555555556,
             "#d8576b"
            ],
            [
             0.6666666666666666,
             "#ed7953"
            ],
            [
             0.7777777777777778,
             "#fb9f3a"
            ],
            [
             0.8888888888888888,
             "#fdca26"
            ],
            [
             1,
             "#f0f921"
            ]
           ]
          },
          "colorway": [
           "#636efa",
           "#EF553B",
           "#00cc96",
           "#ab63fa",
           "#FFA15A",
           "#19d3f3",
           "#FF6692",
           "#B6E880",
           "#FF97FF",
           "#FECB52"
          ],
          "font": {
           "color": "#2a3f5f"
          },
          "geo": {
           "bgcolor": "white",
           "lakecolor": "white",
           "landcolor": "#E5ECF6",
           "showlakes": true,
           "showland": true,
           "subunitcolor": "white"
          },
          "hoverlabel": {
           "align": "left"
          },
          "hovermode": "closest",
          "mapbox": {
           "style": "light"
          },
          "paper_bgcolor": "white",
          "plot_bgcolor": "#E5ECF6",
          "polar": {
           "angularaxis": {
            "gridcolor": "white",
            "linecolor": "white",
            "ticks": ""
           },
           "bgcolor": "#E5ECF6",
           "radialaxis": {
            "gridcolor": "white",
            "linecolor": "white",
            "ticks": ""
           }
          },
          "scene": {
           "xaxis": {
            "backgroundcolor": "#E5ECF6",
            "gridcolor": "white",
            "gridwidth": 2,
            "linecolor": "white",
            "showbackground": true,
            "ticks": "",
            "zerolinecolor": "white"
           },
           "yaxis": {
            "backgroundcolor": "#E5ECF6",
            "gridcolor": "white",
            "gridwidth": 2,
            "linecolor": "white",
            "showbackground": true,
            "ticks": "",
            "zerolinecolor": "white"
           },
           "zaxis": {
            "backgroundcolor": "#E5ECF6",
            "gridcolor": "white",
            "gridwidth": 2,
            "linecolor": "white",
            "showbackground": true,
            "ticks": "",
            "zerolinecolor": "white"
           }
          },
          "shapedefaults": {
           "line": {
            "color": "#2a3f5f"
           }
          },
          "ternary": {
           "aaxis": {
            "gridcolor": "white",
            "linecolor": "white",
            "ticks": ""
           },
           "baxis": {
            "gridcolor": "white",
            "linecolor": "white",
            "ticks": ""
           },
           "bgcolor": "#E5ECF6",
           "caxis": {
            "gridcolor": "white",
            "linecolor": "white",
            "ticks": ""
           }
          },
          "title": {
           "x": 0.05
          },
          "xaxis": {
           "automargin": true,
           "gridcolor": "white",
           "linecolor": "white",
           "ticks": "",
           "title": {
            "standoff": 15
           },
           "zerolinecolor": "white",
           "zerolinewidth": 2
          },
          "yaxis": {
           "automargin": true,
           "gridcolor": "white",
           "linecolor": "white",
           "ticks": "",
           "title": {
            "standoff": 15
           },
           "zerolinecolor": "white",
           "zerolinewidth": 2
          }
         }
        },
        "title": {
         "text": "Llama-3-8B: Generalized Triplet Distance across normalized layers (↓)"
        },
        "xaxis": {
         "range": [
          -0.01,
          1.01
         ],
         "title": {
          "text": "Normalized layer (0 → 1)"
         }
        },
        "yaxis": {
         "title": {
          "text": "Generalized Triplet Distance"
         }
        }
       }
      }
     },
     "metadata": {},
     "output_type": "display_data"
    },
    {
     "data": {
      "application/vnd.plotly.v1+json": {
       "config": {
        "plotlyServerURL": "https://plot.ly"
       },
       "data": [
        {
         "hovertemplate": "Layer(norm)=%{x:.2f}<br>Generalized Quartet Distance=%{y:.2f}<extra>entity_only</extra>",
         "mode": "lines+markers",
         "name": "entity_only",
         "type": "scatter",
         "x": {
          "bdata": "AAAAAAAAAAAAAAAAAACgPwAAAAAAALA/AAAAAAAAuD8AAAAAAADAPwAAAAAAAMQ/AAAAAAAAyD8AAAAAAADMPwAAAAAAANA/AAAAAAAA0j8AAAAAAADUPwAAAAAAANY/AAAAAAAA2D8AAAAAAADaPwAAAAAAANw/AAAAAAAA3j8AAAAAAADgPwAAAAAAAOE/AAAAAAAA4j8AAAAAAADjPwAAAAAAAOQ/AAAAAAAA5T8AAAAAAADmPwAAAAAAAOc/AAAAAAAA6D8AAAAAAADpPwAAAAAAAOo/AAAAAAAA6z8AAAAAAADsPwAAAAAAAO0/AAAAAAAA7j8AAAAAAADvPwAAAAAAAPA/",
          "dtype": "f8"
         },
         "y": {
          "bdata": "hMeEBGb15D+CUes2xFflP1FaYy8aFOU/a0RhO5VQ5D9WFEtQsn7hP9yScydd6Nk/TtHhwvQV2z96/8IeD+nVP3JVf06n6Nw/RFJ8ClmV1j+8nsRqr2TSPyxF8g4qjtY/wDLcTUAO2j/Er+J9wfzXP5jCCydKANU/Ev+vNnBl1T+QCQnM6vnYP1KXRCAxkNk/aCbjJaZE2z/OiowCnGnXPzrDcgGNqtQ/OrSzdpWk0T8IKC/GIVPTP7JYF4+eBdU/0NIDah6R0T+08FeGuwnSP9x7YnRNLdI/7iYgB5db0T+Iev/CHg/NPxzpGEZC2M0/hNP/QAoFyz9AzSOyv/HJP0ykpCIOBNA/",
          "dtype": "f8"
         }
        },
        {
         "hovertemplate": "Layer(norm)=%{x:.2f}<br>Generalized Quartet Distance=%{y:.2f}<extra>gift</extra>",
         "mode": "lines+markers",
         "name": "gift",
         "type": "scatter",
         "x": {
          "bdata": "AAAAAAAAAAAAAAAAAACgPwAAAAAAALA/AAAAAAAAuD8AAAAAAADAPwAAAAAAAMQ/AAAAAAAAyD8AAAAAAADMPwAAAAAAANA/AAAAAAAA0j8AAAAAAADUPwAAAAAAANY/AAAAAAAA2D8AAAAAAADaPwAAAAAAANw/AAAAAAAA3j8AAAAAAADgPwAAAAAAAOE/AAAAAAAA4j8AAAAAAADjPwAAAAAAAOQ/AAAAAAAA5T8AAAAAAADmPwAAAAAAAOc/AAAAAAAA6D8AAAAAAADpPwAAAAAAAOo/AAAAAAAA6z8AAAAAAADsPwAAAAAAAO0/AAAAAAAA7j8AAAAAAADvPwAAAAAAAPA/",
          "dtype": "f8"
         },
         "y": {
          "bdata": "iAvTV1zC5D+pXgovnCjlP6KwnUqozeQ/e6enZlxX5D9kGAlh56LiP7xCgJ5weN0/DtrEvqEI2z+S+WR7uo/RPxgJYeeirNQ/DOIW57m91T/Uug3x1XHVP8iTw/DsgtY/In0wKdOB1T9Yy+4i9/LUPyJmH3bDxtc/6J6DYKrB2T+wOpl5r/naP7DifcH8Z9s/vAF2mc2h3T8Y0KgKGIvZP9JylolTStk/1sF6U7XC2T8CpLszwRPZP8iX7AR53dk/UoAzbSHV1z/S+NOnJVLYP66HHrv239Y/AgdtYt9Q1j9Q5MlheHbVP2L2YTdsPNU/coOhtMZe1D/ulUxyWajUP5Qu9EO5Vts/",
          "dtype": "f8"
         }
        },
        {
         "hovertemplate": "Layer(norm)=%{x:.2f}<br>Generalized Quartet Distance=%{y:.2f}<extra>occupation_question</extra>",
         "mode": "lines+markers",
         "name": "occupation_question",
         "type": "scatter",
         "x": {
          "bdata": "AAAAAAAAAAAAAAAAAACgPwAAAAAAALA/AAAAAAAAuD8AAAAAAADAPwAAAAAAAMQ/AAAAAAAAyD8AAAAAAADMPwAAAAAAANA/AAAAAAAA0j8AAAAAAADUPwAAAAAAANY/AAAAAAAA2D8AAAAAAADaPwAAAAAAANw/AAAAAAAA3j8AAAAAAADgPwAAAAAAAOE/AAAAAAAA4j8AAAAAAADjPwAAAAAAAOQ/AAAAAAAA5T8AAAAAAADmPwAAAAAAAOc/AAAAAAAA6D8AAAAAAADpPwAAAAAAAOo/AAAAAAAA6z8AAAAAAADsPwAAAAAAAO0/AAAAAAAA7j8AAAAAAADvPwAAAAAAAPA/",
          "dtype": "f8"
         },
         "y": {
          "bdata": "iAvTV1zC5D9K6dc7PTXlP6Q5H7fNy+Q/KFm/c+ZS5D/xFny2ZvHiP6C8GIdM3do/uqYWk8cZ1z+YmBLVtuTSP2620fSqk9U/sj3dxwLw1T9CsunqI9zWPx78AOXFONo/yiSXhSo22z9MB1ZRLEHZPwBn2kKql9g/oqHev7DH2z9MMU+jv1zbP8DDr+J9wdo/UDST8RJT3j9gQ+d4syLfPwBU8qMmN+A/5HVv1E8K3j9EZWSp3PXeP3w0UucNsN8/is0MoQzi3j+UQdziPLfdP3LI1M31j90/2DcUIVdg3T9GK8cGGXDdP8r2dB8LwN0/yBkBD7+K3T/k3EkX+qHcP1o9X9wMNts/",
          "dtype": "f8"
         }
        },
        {
         "hovertemplate": "Layer(norm)=%{x:.2f}<br>Generalized Quartet Distance=%{y:.2f}<extra>occupation_simple</extra>",
         "mode": "lines+markers",
         "name": "occupation_simple",
         "type": "scatter",
         "x": {
          "bdata": "AAAAAAAAAAAAAAAAAACgPwAAAAAAALA/AAAAAAAAuD8AAAAAAADAPwAAAAAAAMQ/AAAAAAAAyD8AAAAAAADMPwAAAAAAANA/AAAAAAAA0j8AAAAAAADUPwAAAAAAANY/AAAAAAAA2D8AAAAAAADaPwAAAAAAANw/AAAAAAAA3j8AAAAAAADgPwAAAAAAAOE/AAAAAAAA4j8AAAAAAADjPwAAAAAAAOQ/AAAAAAAA5T8AAAAAAADmPwAAAAAAAOc/AAAAAAAA6D8AAAAAAADpPwAAAAAAAOo/AAAAAAAA6z8AAAAAAADsPwAAAAAAAO0/AAAAAAAA7j8AAAAAAADvPwAAAAAAAPA/",
          "dtype": "f8"
         },
         "y": {
          "bdata": "iAvTV1zC5D/EA9Uh6DPlP0zKdGAVxeQ/ZCfI696o5D8GdbQHaTnjP7iykc9rKd0/8g4qjk482T9QHYI+A5jWP0byDiqOTtY/9MXNYJOw1D/kR01uMJTUP4bSGnvRoNY/vAnIweVW2D9mG02vOpnZPz7wr6FzvNk/JHG17C5y1z9m9XxxM9jaP3giTw7Ds9k//s6ZS42T2z++ezh7+5naP/JqblqNKNo/CiDdnQme2j/MOsNyAY3cPwQ8/CreF9w/ZFXqUf4e3T9uAnJwuRXdP+hKkbyDit0/NBHdCA313D/Mqe/dw9ndP7D1ZWCAyN0/osvXEUTj2z8KAXrC4S3cP7JvKEKuwNo/",
          "dtype": "f8"
         }
        },
        {
         "hovertemplate": "Layer(norm)=%{x:.2f}<br>Generalized Quartet Distance=%{y:.2f}<extra>profession_query</extra>",
         "mode": "lines+markers",
         "name": "profession_query",
         "type": "scatter",
         "x": {
          "bdata": "AAAAAAAAAAAAAAAAAACgPwAAAAAAALA/AAAAAAAAuD8AAAAAAADAPwAAAAAAAMQ/AAAAAAAAyD8AAAAAAADMPwAAAAAAANA/AAAAAAAA0j8AAAAAAADUPwAAAAAAANY/AAAAAAAA2D8AAAAAAADaPwAAAAAAANw/AAAAAAAA3j8AAAAAAADgPwAAAAAAAOE/AAAAAAAA4j8AAAAAAADjPwAAAAAAAOQ/AAAAAAAA5T8AAAAAAADmPwAAAAAAAOc/AAAAAAAA6D8AAAAAAADpPwAAAAAAAOo/AAAAAAAA6z8AAAAAAADsPwAAAAAAAO0/AAAAAAAA7j8AAAAAAADvPwAAAAAAAPA/",
          "dtype": "f8"
         },
         "y": {
          "bdata": "iAvTV1zC5D9CxdGJpzzlPwx3E5CDy+Q/HPFqblqN5D85juM4juPiP9AAJtA9B90/jmEkhJ2L2D9ISUUcCHzTP0ihYNS6Ddc/1jTQ0gNq1j/sb3w0UufVP07/AykUjNg/QKdTdLgw1z/yjBWECI/VP3qr0Hrosdc/pkS1LTl32j8YSmvsRYPcP5huGYMjydw/bIFCLKzM3z+e36R2AKjgP3Jd0Xa/neA/QA4ut2LI4D+WiVNKv97gP5363j2cveA/fF5LOaHL4D8yNGn4wL/gP7Jr/y0iZuA/9o9Z0luF4D+cAjFmtHLgP3ZYw5z63t8/5hkrCBEe3z9qhWtAOCffP+jfjWVNmOA/",
          "dtype": "f8"
         }
        },
        {
         "hovertemplate": "Layer(norm)=%{x:.2f}<br>Generalized Quartet Distance=%{y:.2f}<extra>professional_intro</extra>",
         "mode": "lines+markers",
         "name": "professional_intro",
         "type": "scatter",
         "x": {
          "bdata": "AAAAAAAAAAAAAAAAAACgPwAAAAAAALA/AAAAAAAAuD8AAAAAAADAPwAAAAAAAMQ/AAAAAAAAyD8AAAAAAADMPwAAAAAAANA/AAAAAAAA0j8AAAAAAADUPwAAAAAAANY/AAAAAAAA2D8AAAAAAADaPwAAAAAAANw/AAAAAAAA3j8AAAAAAADgPwAAAAAAAOE/AAAAAAAA4j8AAAAAAADjPwAAAAAAAOQ/AAAAAAAA5T8AAAAAAADmPwAAAAAAAOc/AAAAAAAA6D8AAAAAAADpPwAAAAAAAOo/AAAAAAAA6z8AAAAAAADsPwAAAAAAAO0/AAAAAAAA7j8AAAAAAADvPwAAAAAAAPA/",
          "dtype": "f8"
         },
         "y": {
          "bdata": "iAvTV1zC5D8LlnZrqzvlP1lUcI8c8eQ/awNXNvJ55D8efhXvC+biP5jV88XNYOA/yt9jbPsE4D/igeoQ9BnYP7boBV6jVNk/XpBsuvoI2T+QPpiU6cDYPybjJaZEtdk/oLjvcsCC2z+6l1cI0BPWPwg37lAZWdQ/QlrOMnFK2z+CPgOYQPfcP/iWxjQ71tw/MKvni5vB3j+axU91nfbdPwC7zObQzt4/3iq0Hnrs3j+O4ziO4zjeP3xeSzmhy90/BKf/gRQK3j/CqHUb4qvdP2SSy0IVm90/pFAwat2G3D+O/nJVf07dP1SesYIQ4ds/XPQCr1Gq2j/80sJfGe7aPwT/GjrHm9s/",
          "dtype": "f8"
         }
        }
       ],
       "layout": {
        "legend": {
         "title": {
          "text": "Template"
         }
        },
        "template": {
         "data": {
          "bar": [
           {
            "error_x": {
             "color": "#2a3f5f"
            },
            "error_y": {
             "color": "#2a3f5f"
            },
            "marker": {
             "line": {
              "color": "#E5ECF6",
              "width": 0.5
             },
             "pattern": {
              "fillmode": "overlay",
              "size": 10,
              "solidity": 0.2
             }
            },
            "type": "bar"
           }
          ],
          "barpolar": [
           {
            "marker": {
             "line": {
              "color": "#E5ECF6",
              "width": 0.5
             },
             "pattern": {
              "fillmode": "overlay",
              "size": 10,
              "solidity": 0.2
             }
            },
            "type": "barpolar"
           }
          ],
          "carpet": [
           {
            "aaxis": {
             "endlinecolor": "#2a3f5f",
             "gridcolor": "white",
             "linecolor": "white",
             "minorgridcolor": "white",
             "startlinecolor": "#2a3f5f"
            },
            "baxis": {
             "endlinecolor": "#2a3f5f",
             "gridcolor": "white",
             "linecolor": "white",
             "minorgridcolor": "white",
             "startlinecolor": "#2a3f5f"
            },
            "type": "carpet"
           }
          ],
          "choropleth": [
           {
            "colorbar": {
             "outlinewidth": 0,
             "ticks": ""
            },
            "type": "choropleth"
           }
          ],
          "contour": [
           {
            "colorbar": {
             "outlinewidth": 0,
             "ticks": ""
            },
            "colorscale": [
             [
              0,
              "#0d0887"
             ],
             [
              0.1111111111111111,
              "#46039f"
             ],
             [
              0.2222222222222222,
              "#7201a8"
             ],
             [
              0.3333333333333333,
              "#9c179e"
             ],
             [
              0.4444444444444444,
              "#bd3786"
             ],
             [
              0.5555555555555556,
              "#d8576b"
             ],
             [
              0.6666666666666666,
              "#ed7953"
             ],
             [
              0.7777777777777778,
              "#fb9f3a"
             ],
             [
              0.8888888888888888,
              "#fdca26"
             ],
             [
              1,
              "#f0f921"
             ]
            ],
            "type": "contour"
           }
          ],
          "contourcarpet": [
           {
            "colorbar": {
             "outlinewidth": 0,
             "ticks": ""
            },
            "type": "contourcarpet"
           }
          ],
          "heatmap": [
           {
            "colorbar": {
             "outlinewidth": 0,
             "ticks": ""
            },
            "colorscale": [
             [
              0,
              "#0d0887"
             ],
             [
              0.1111111111111111,
              "#46039f"
             ],
             [
              0.2222222222222222,
              "#7201a8"
             ],
             [
              0.3333333333333333,
              "#9c179e"
             ],
             [
              0.4444444444444444,
              "#bd3786"
             ],
             [
              0.5555555555555556,
              "#d8576b"
             ],
             [
              0.6666666666666666,
              "#ed7953"
             ],
             [
              0.7777777777777778,
              "#fb9f3a"
             ],
             [
              0.8888888888888888,
              "#fdca26"
             ],
             [
              1,
              "#f0f921"
             ]
            ],
            "type": "heatmap"
           }
          ],
          "histogram": [
           {
            "marker": {
             "pattern": {
              "fillmode": "overlay",
              "size": 10,
              "solidity": 0.2
             }
            },
            "type": "histogram"
           }
          ],
          "histogram2d": [
           {
            "colorbar": {
             "outlinewidth": 0,
             "ticks": ""
            },
            "colorscale": [
             [
              0,
              "#0d0887"
             ],
             [
              0.1111111111111111,
              "#46039f"
             ],
             [
              0.2222222222222222,
              "#7201a8"
             ],
             [
              0.3333333333333333,
              "#9c179e"
             ],
             [
              0.4444444444444444,
              "#bd3786"
             ],
             [
              0.5555555555555556,
              "#d8576b"
             ],
             [
              0.6666666666666666,
              "#ed7953"
             ],
             [
              0.7777777777777778,
              "#fb9f3a"
             ],
             [
              0.8888888888888888,
              "#fdca26"
             ],
             [
              1,
              "#f0f921"
             ]
            ],
            "type": "histogram2d"
           }
          ],
          "histogram2dcontour": [
           {
            "colorbar": {
             "outlinewidth": 0,
             "ticks": ""
            },
            "colorscale": [
             [
              0,
              "#0d0887"
             ],
             [
              0.1111111111111111,
              "#46039f"
             ],
             [
              0.2222222222222222,
              "#7201a8"
             ],
             [
              0.3333333333333333,
              "#9c179e"
             ],
             [
              0.4444444444444444,
              "#bd3786"
             ],
             [
              0.5555555555555556,
              "#d8576b"
             ],
             [
              0.6666666666666666,
              "#ed7953"
             ],
             [
              0.7777777777777778,
              "#fb9f3a"
             ],
             [
              0.8888888888888888,
              "#fdca26"
             ],
             [
              1,
              "#f0f921"
             ]
            ],
            "type": "histogram2dcontour"
           }
          ],
          "mesh3d": [
           {
            "colorbar": {
             "outlinewidth": 0,
             "ticks": ""
            },
            "type": "mesh3d"
           }
          ],
          "parcoords": [
           {
            "line": {
             "colorbar": {
              "outlinewidth": 0,
              "ticks": ""
             }
            },
            "type": "parcoords"
           }
          ],
          "pie": [
           {
            "automargin": true,
            "type": "pie"
           }
          ],
          "scatter": [
           {
            "fillpattern": {
             "fillmode": "overlay",
             "size": 10,
             "solidity": 0.2
            },
            "type": "scatter"
           }
          ],
          "scatter3d": [
           {
            "line": {
             "colorbar": {
              "outlinewidth": 0,
              "ticks": ""
             }
            },
            "marker": {
             "colorbar": {
              "outlinewidth": 0,
              "ticks": ""
             }
            },
            "type": "scatter3d"
           }
          ],
          "scattercarpet": [
           {
            "marker": {
             "colorbar": {
              "outlinewidth": 0,
              "ticks": ""
             }
            },
            "type": "scattercarpet"
           }
          ],
          "scattergeo": [
           {
            "marker": {
             "colorbar": {
              "outlinewidth": 0,
              "ticks": ""
             }
            },
            "type": "scattergeo"
           }
          ],
          "scattergl": [
           {
            "marker": {
             "colorbar": {
              "outlinewidth": 0,
              "ticks": ""
             }
            },
            "type": "scattergl"
           }
          ],
          "scattermap": [
           {
            "marker": {
             "colorbar": {
              "outlinewidth": 0,
              "ticks": ""
             }
            },
            "type": "scattermap"
           }
          ],
          "scattermapbox": [
           {
            "marker": {
             "colorbar": {
              "outlinewidth": 0,
              "ticks": ""
             }
            },
            "type": "scattermapbox"
           }
          ],
          "scatterpolar": [
           {
            "marker": {
             "colorbar": {
              "outlinewidth": 0,
              "ticks": ""
             }
            },
            "type": "scatterpolar"
           }
          ],
          "scatterpolargl": [
           {
            "marker": {
             "colorbar": {
              "outlinewidth": 0,
              "ticks": ""
             }
            },
            "type": "scatterpolargl"
           }
          ],
          "scatterternary": [
           {
            "marker": {
             "colorbar": {
              "outlinewidth": 0,
              "ticks": ""
             }
            },
            "type": "scatterternary"
           }
          ],
          "surface": [
           {
            "colorbar": {
             "outlinewidth": 0,
             "ticks": ""
            },
            "colorscale": [
             [
              0,
              "#0d0887"
             ],
             [
              0.1111111111111111,
              "#46039f"
             ],
             [
              0.2222222222222222,
              "#7201a8"
             ],
             [
              0.3333333333333333,
              "#9c179e"
             ],
             [
              0.4444444444444444,
              "#bd3786"
             ],
             [
              0.5555555555555556,
              "#d8576b"
             ],
             [
              0.6666666666666666,
              "#ed7953"
             ],
             [
              0.7777777777777778,
              "#fb9f3a"
             ],
             [
              0.8888888888888888,
              "#fdca26"
             ],
             [
              1,
              "#f0f921"
             ]
            ],
            "type": "surface"
           }
          ],
          "table": [
           {
            "cells": {
             "fill": {
              "color": "#EBF0F8"
             },
             "line": {
              "color": "white"
             }
            },
            "header": {
             "fill": {
              "color": "#C8D4E3"
             },
             "line": {
              "color": "white"
             }
            },
            "type": "table"
           }
          ]
         },
         "layout": {
          "annotationdefaults": {
           "arrowcolor": "#2a3f5f",
           "arrowhead": 0,
           "arrowwidth": 1
          },
          "autotypenumbers": "strict",
          "coloraxis": {
           "colorbar": {
            "outlinewidth": 0,
            "ticks": ""
           }
          },
          "colorscale": {
           "diverging": [
            [
             0,
             "#8e0152"
            ],
            [
             0.1,
             "#c51b7d"
            ],
            [
             0.2,
             "#de77ae"
            ],
            [
             0.3,
             "#f1b6da"
            ],
            [
             0.4,
             "#fde0ef"
            ],
            [
             0.5,
             "#f7f7f7"
            ],
            [
             0.6,
             "#e6f5d0"
            ],
            [
             0.7,
             "#b8e186"
            ],
            [
             0.8,
             "#7fbc41"
            ],
            [
             0.9,
             "#4d9221"
            ],
            [
             1,
             "#276419"
            ]
           ],
           "sequential": [
            [
             0,
             "#0d0887"
            ],
            [
             0.1111111111111111,
             "#46039f"
            ],
            [
             0.2222222222222222,
             "#7201a8"
            ],
            [
             0.3333333333333333,
             "#9c179e"
            ],
            [
             0.4444444444444444,
             "#bd3786"
            ],
            [
             0.5555555555555556,
             "#d8576b"
            ],
            [
             0.6666666666666666,
             "#ed7953"
            ],
            [
             0.7777777777777778,
             "#fb9f3a"
            ],
            [
             0.8888888888888888,
             "#fdca26"
            ],
            [
             1,
             "#f0f921"
            ]
           ],
           "sequentialminus": [
            [
             0,
             "#0d0887"
            ],
            [
             0.1111111111111111,
             "#46039f"
            ],
            [
             0.2222222222222222,
             "#7201a8"
            ],
            [
             0.3333333333333333,
             "#9c179e"
            ],
            [
             0.4444444444444444,
             "#bd3786"
            ],
            [
             0.5555555555555556,
             "#d8576b"
            ],
            [
             0.6666666666666666,
             "#ed7953"
            ],
            [
             0.7777777777777778,
             "#fb9f3a"
            ],
            [
             0.8888888888888888,
             "#fdca26"
            ],
            [
             1,
             "#f0f921"
            ]
           ]
          },
          "colorway": [
           "#636efa",
           "#EF553B",
           "#00cc96",
           "#ab63fa",
           "#FFA15A",
           "#19d3f3",
           "#FF6692",
           "#B6E880",
           "#FF97FF",
           "#FECB52"
          ],
          "font": {
           "color": "#2a3f5f"
          },
          "geo": {
           "bgcolor": "white",
           "lakecolor": "white",
           "landcolor": "#E5ECF6",
           "showlakes": true,
           "showland": true,
           "subunitcolor": "white"
          },
          "hoverlabel": {
           "align": "left"
          },
          "hovermode": "closest",
          "mapbox": {
           "style": "light"
          },
          "paper_bgcolor": "white",
          "plot_bgcolor": "#E5ECF6",
          "polar": {
           "angularaxis": {
            "gridcolor": "white",
            "linecolor": "white",
            "ticks": ""
           },
           "bgcolor": "#E5ECF6",
           "radialaxis": {
            "gridcolor": "white",
            "linecolor": "white",
            "ticks": ""
           }
          },
          "scene": {
           "xaxis": {
            "backgroundcolor": "#E5ECF6",
            "gridcolor": "white",
            "gridwidth": 2,
            "linecolor": "white",
            "showbackground": true,
            "ticks": "",
            "zerolinecolor": "white"
           },
           "yaxis": {
            "backgroundcolor": "#E5ECF6",
            "gridcolor": "white",
            "gridwidth": 2,
            "linecolor": "white",
            "showbackground": true,
            "ticks": "",
            "zerolinecolor": "white"
           },
           "zaxis": {
            "backgroundcolor": "#E5ECF6",
            "gridcolor": "white",
            "gridwidth": 2,
            "linecolor": "white",
            "showbackground": true,
            "ticks": "",
            "zerolinecolor": "white"
           }
          },
          "shapedefaults": {
           "line": {
            "color": "#2a3f5f"
           }
          },
          "ternary": {
           "aaxis": {
            "gridcolor": "white",
            "linecolor": "white",
            "ticks": ""
           },
           "baxis": {
            "gridcolor": "white",
            "linecolor": "white",
            "ticks": ""
           },
           "bgcolor": "#E5ECF6",
           "caxis": {
            "gridcolor": "white",
            "linecolor": "white",
            "ticks": ""
           }
          },
          "title": {
           "x": 0.05
          },
          "xaxis": {
           "automargin": true,
           "gridcolor": "white",
           "linecolor": "white",
           "ticks": "",
           "title": {
            "standoff": 15
           },
           "zerolinecolor": "white",
           "zerolinewidth": 2
          },
          "yaxis": {
           "automargin": true,
           "gridcolor": "white",
           "linecolor": "white",
           "ticks": "",
           "title": {
            "standoff": 15
           },
           "zerolinecolor": "white",
           "zerolinewidth": 2
          }
         }
        },
        "title": {
         "text": "Llama-3-8B: Generalized Quartet Distance across normalized layers (↓)"
        },
        "xaxis": {
         "range": [
          -0.01,
          1.01
         ],
         "title": {
          "text": "Normalized layer (0 → 1)"
         }
        },
        "yaxis": {
         "title": {
          "text": "Generalized Quartet Distance"
         }
        }
       }
      }
     },
     "metadata": {},
     "output_type": "display_data"
    },
    {
     "data": {
      "application/vnd.plotly.v1+json": {
       "config": {
        "plotlyServerURL": "https://plot.ly"
       },
       "data": [
        {
         "hovertemplate": "Layer(norm)=%{x:.2f}<br>cophenetic corr=%{y:.2f}<extra>entity_only</extra>",
         "mode": "lines+markers",
         "name": "entity_only",
         "type": "scatter",
         "x": {
          "bdata": "AAAAAAAAAAAAAAAAAACgPwAAAAAAALA/AAAAAAAAuD8AAAAAAADAPwAAAAAAAMQ/AAAAAAAAyD8AAAAAAADMPwAAAAAAANA/AAAAAAAA0j8AAAAAAADUPwAAAAAAANY/AAAAAAAA2D8AAAAAAADaPwAAAAAAANw/AAAAAAAA3j8AAAAAAADgPwAAAAAAAOE/AAAAAAAA4j8AAAAAAADjPwAAAAAAAOQ/AAAAAAAA5T8AAAAAAADmPwAAAAAAAOc/AAAAAAAA6D8AAAAAAADpPwAAAAAAAOo/AAAAAAAA6z8AAAAAAADsPwAAAAAAAO0/AAAAAAAA7j8AAAAAAADvPwAAAAAAAPA/",
          "dtype": "f8"
         },
         "y": {
          "bdata": "koK600xEhT/QYel9g9lav8S+cc5ns3g/VlVddVKcnT/OxcKPOyy3P4lfJJRCPMI/5JphXVKEwj8LN/MpZMHCP34kswest70/fH8vgQmKwT+SKFoIannHPxCHle1jS8c/z1CZwAgmwz8adY7A3APEP1xrcAGG4cQ/9nsV5NH0yj+FipK6j0fDP27SZ/VYHsM/oNJlMLWxwz+wXJbnyKvLP4G6sfZOF8w/pXp+I+2Q1j9K82fbSWPYPzNQmaI6kdM/HQg1v4qA0z+y2Z0Ju5LTPyEkOcKA/tQ/4lc1SU/g1D94ZOaa/tLWP2iiTHh5btk/SfuqDjq33j9splibsDzhP0KxyCwO5so/",
          "dtype": "f8"
         }
        },
        {
         "hovertemplate": "Layer(norm)=%{x:.2f}<br>cophenetic corr=%{y:.2f}<extra>gift</extra>",
         "mode": "lines+markers",
         "name": "gift",
         "type": "scatter",
         "x": {
          "bdata": "AAAAAAAAAAAAAAAAAACgPwAAAAAAALA/AAAAAAAAuD8AAAAAAADAPwAAAAAAAMQ/AAAAAAAAyD8AAAAAAADMPwAAAAAAANA/AAAAAAAA0j8AAAAAAADUPwAAAAAAANY/AAAAAAAA2D8AAAAAAADaPwAAAAAAANw/AAAAAAAA3j8AAAAAAADgPwAAAAAAAOE/AAAAAAAA4j8AAAAAAADjPwAAAAAAAOQ/AAAAAAAA5T8AAAAAAADmPwAAAAAAAOc/AAAAAAAA6D8AAAAAAADpPwAAAAAAAOo/AAAAAAAA6z8AAAAAAADsPwAAAAAAAO0/AAAAAAAA7j8AAAAAAADvPwAAAAAAAPA/",
          "dtype": "f8"
         },
         "y": {
          "bdata": "MIbYvl1Mjz+AN2gpSe1NP1s0v9GLooU/5FEcRfJJnD9NlcDdoHOwP7L+oPhLub8/oO6LsJQHuj9hd8J/10LDP/vQ2APFvME/PP6eUj4xwj9R/o5Y7d3DPxSkSb0j+8E/S2dCVONvxj+GcsohNPzEPzrfJR5fqcY/KtP+5uCrxz+67WLQl/TCP5BKQvM30cI//tRKrql+wD+oWgHIT+PBPzFjG3ty/8M/bESmgF/Hwz9Wg9xDU7jCPz2f2e6KcsM/NjJdMBH3wz87z2YFCHXBPy1mo6g7S8I//DwUUNfJwT+gWFOOIofBPyB1rtgSt8E/1uIOJYoEwj9SR355P0DBP2Hbtm10n78/",
          "dtype": "f8"
         }
        },
        {
         "hovertemplate": "Layer(norm)=%{x:.2f}<br>cophenetic corr=%{y:.2f}<extra>occupation_question</extra>",
         "mode": "lines+markers",
         "name": "occupation_question",
         "type": "scatter",
         "x": {
          "bdata": "AAAAAAAAAAAAAAAAAACgPwAAAAAAALA/AAAAAAAAuD8AAAAAAADAPwAAAAAAAMQ/AAAAAAAAyD8AAAAAAADMPwAAAAAAANA/AAAAAAAA0j8AAAAAAADUPwAAAAAAANY/AAAAAAAA2D8AAAAAAADaPwAAAAAAANw/AAAAAAAA3j8AAAAAAADgPwAAAAAAAOE/AAAAAAAA4j8AAAAAAADjPwAAAAAAAOQ/AAAAAAAA5T8AAAAAAADmPwAAAAAAAOc/AAAAAAAA6D8AAAAAAADpPwAAAAAAAOo/AAAAAAAA6z8AAAAAAADsPwAAAAAAAO0/AAAAAAAA7j8AAAAAAADvPwAAAAAAAPA/",
          "dtype": "f8"
         },
         "y": {
          "bdata": "MIbYvl1Mjz8Alv06cuURv/G5Rwp9CYY/nap6Q8hEnT8s3OaEoGOsP1qJmPnpzMI/PN4wapaHwT/ipM2nlIXIP3rePloHS8I/5Mx9kFY0xD8wIl7DmD/DP+YJdtAFT8A/iRfgv3h0wT825bkTt2TCP4iP3P7kqsM/ayv/xbFTxD+GCFUA9xTDP7J3+9A64cE/ViWP9w5hvz8C22j40C28P2wvyDZz67g/migudGuOwD8HnTyuKT29P1A67nK0/bo/rlts0ihcvD9BP3c0Bie+P3Zde4Sx7L4/7Td5n7rXvj+RwARn49m+P7QD0ool+70/6o3S3gyGvj86lBy/u4++PybcHnhk778/",
          "dtype": "f8"
         }
        },
        {
         "hovertemplate": "Layer(norm)=%{x:.2f}<br>cophenetic corr=%{y:.2f}<extra>occupation_simple</extra>",
         "mode": "lines+markers",
         "name": "occupation_simple",
         "type": "scatter",
         "x": {
          "bdata": "AAAAAAAAAAAAAAAAAACgPwAAAAAAALA/AAAAAAAAuD8AAAAAAADAPwAAAAAAAMQ/AAAAAAAAyD8AAAAAAADMPwAAAAAAANA/AAAAAAAA0j8AAAAAAADUPwAAAAAAANY/AAAAAAAA2D8AAAAAAADaPwAAAAAAANw/AAAAAAAA3j8AAAAAAADgPwAAAAAAAOE/AAAAAAAA4j8AAAAAAADjPwAAAAAAAOQ/AAAAAAAA5T8AAAAAAADmPwAAAAAAAOc/AAAAAAAA6D8AAAAAAADpPwAAAAAAAOo/AAAAAAAA6z8AAAAAAADsPwAAAAAAAO0/AAAAAAAA7j8AAAAAAADvPwAAAAAAAPA/",
          "dtype": "f8"
         },
         "y": {
          "bdata": "MIbYvl1Mjz/Avbo8c8ggP9OrUzUe2IU/qKvk0gWrlT+/jUxO/9+nP0TzBjR/eb4/0Po9xNBdwD+jsC2DY3DBP/ppyAC3hMM/dCvGNumGxD+4/p0RBFPGP1OBmoQ8Pr8/4hs0ELvAvj9q7/G6fRzCPxjPPbvso8Q/IP6r0EG4yT8AVUorecHEP1XkVyM8CsI/Xg3bHhbfwT8IRPK58ljCP5AQzu5VHMU/61JPnFX3wj+bVRe2CwTCP0RV6fwN6MA/BNersp5Qvz+qA2hyypu+PyJJkMm/pr8/FHuzcPCZvz+GRxymnV6/PzPA4iRYxr8/7WiM8lwGwj/0JZfPa/TCPyavAfYWn8M/",
          "dtype": "f8"
         }
        },
        {
         "hovertemplate": "Layer(norm)=%{x:.2f}<br>cophenetic corr=%{y:.2f}<extra>profession_query</extra>",
         "mode": "lines+markers",
         "name": "profession_query",
         "type": "scatter",
         "x": {
          "bdata": "AAAAAAAAAAAAAAAAAACgPwAAAAAAALA/AAAAAAAAuD8AAAAAAADAPwAAAAAAAMQ/AAAAAAAAyD8AAAAAAADMPwAAAAAAANA/AAAAAAAA0j8AAAAAAADUPwAAAAAAANY/AAAAAAAA2D8AAAAAAADaPwAAAAAAANw/AAAAAAAA3j8AAAAAAADgPwAAAAAAAOE/AAAAAAAA4j8AAAAAAADjPwAAAAAAAOQ/AAAAAAAA5T8AAAAAAADmPwAAAAAAAOc/AAAAAAAA6D8AAAAAAADpPwAAAAAAAOo/AAAAAAAA6z8AAAAAAADsPwAAAAAAAO0/AAAAAAAA7j8AAAAAAADvPwAAAAAAAPA/",
          "dtype": "f8"
         },
         "y": {
          "bdata": "MIbYvl1Mjz8gO5mh2vdLv++5Rwp9CYY/SKLhzVsTmD9504o1yvWtP7FAGw4erL8/6IHXbYyHwT/auc+UB5rNPxxFHHdeQMM/qb9I9usmxD8g4bGkM3HFP2sR5lXADsI//TYR8HRBxD8Sp1YfEE3HP7wNFMRSNsY/3OLsPhdMxT9AkgEhvNq/P0i4cZCeM8A/Oe90NCwSuz+Ukmo5+Ty2P/SHiEyfJLU/yuj9XF/lsz+T7ZWpBg+zP8hOoIZmAbQ/E0XPknE4tD/iQfVfu5W0P9dGwWo9y7Q/B/OT5ZqQtD+5ZT7Fsgm1P9LyxnaX77U/Ikf4TYAAuD/oH21+Uhe4P4caZBtGjrM/",
          "dtype": "f8"
         }
        },
        {
         "hovertemplate": "Layer(norm)=%{x:.2f}<br>cophenetic corr=%{y:.2f}<extra>professional_intro</extra>",
         "mode": "lines+markers",
         "name": "professional_intro",
         "type": "scatter",
         "x": {
          "bdata": "AAAAAAAAAAAAAAAAAACgPwAAAAAAALA/AAAAAAAAuD8AAAAAAADAPwAAAAAAAMQ/AAAAAAAAyD8AAAAAAADMPwAAAAAAANA/AAAAAAAA0j8AAAAAAADUPwAAAAAAANY/AAAAAAAA2D8AAAAAAADaPwAAAAAAANw/AAAAAAAA3j8AAAAAAADgPwAAAAAAAOE/AAAAAAAA4j8AAAAAAADjPwAAAAAAAOQ/AAAAAAAA5T8AAAAAAADmPwAAAAAAAOc/AAAAAAAA6D8AAAAAAADpPwAAAAAAAOo/AAAAAAAA6z8AAAAAAADsPwAAAAAAAO0/AAAAAAAA7j8AAAAAAADvPwAAAAAAAPA/",
          "dtype": "f8"
         },
         "y": {
          "bdata": "MIbYvl1Mjz/AKdy78lYxvwCzF0uuxIA/V7fGesCMmT/eClrBMhiuPyoeQWBEJrg/w2LGy99puD+3zM/JHz/BP3f5QRlbEr4/GtIEgqQ0wD8S5JT+4bfCP+nv+yrCTL8/Oz9LvnSkvz+m5tKvl3vFP6D2LIHaW80/tz2C9yyRxT8kebO2c1rBP9GTJoqO3ME/q741kdQCuz+OwMX4Mqu7P9Zo2+D5Mr0/O8Mn0LTnvD9UnWZxI+y8P6Y+na6Xsb0/WYsHk0xBvz90TnKJ5fu/P82OBk60hMA/QCk1wzu2wT+oabhlsvnBPxDgJ9e5OcQ/AkUYtrVkxj/EMY7Rs6LFPwgUdQicc8E/",
          "dtype": "f8"
         }
        }
       ],
       "layout": {
        "legend": {
         "title": {
          "text": "Template"
         }
        },
        "template": {
         "data": {
          "bar": [
           {
            "error_x": {
             "color": "#2a3f5f"
            },
            "error_y": {
             "color": "#2a3f5f"
            },
            "marker": {
             "line": {
              "color": "#E5ECF6",
              "width": 0.5
             },
             "pattern": {
              "fillmode": "overlay",
              "size": 10,
              "solidity": 0.2
             }
            },
            "type": "bar"
           }
          ],
          "barpolar": [
           {
            "marker": {
             "line": {
              "color": "#E5ECF6",
              "width": 0.5
             },
             "pattern": {
              "fillmode": "overlay",
              "size": 10,
              "solidity": 0.2
             }
            },
            "type": "barpolar"
           }
          ],
          "carpet": [
           {
            "aaxis": {
             "endlinecolor": "#2a3f5f",
             "gridcolor": "white",
             "linecolor": "white",
             "minorgridcolor": "white",
             "startlinecolor": "#2a3f5f"
            },
            "baxis": {
             "endlinecolor": "#2a3f5f",
             "gridcolor": "white",
             "linecolor": "white",
             "minorgridcolor": "white",
             "startlinecolor": "#2a3f5f"
            },
            "type": "carpet"
           }
          ],
          "choropleth": [
           {
            "colorbar": {
             "outlinewidth": 0,
             "ticks": ""
            },
            "type": "choropleth"
           }
          ],
          "contour": [
           {
            "colorbar": {
             "outlinewidth": 0,
             "ticks": ""
            },
            "colorscale": [
             [
              0,
              "#0d0887"
             ],
             [
              0.1111111111111111,
              "#46039f"
             ],
             [
              0.2222222222222222,
              "#7201a8"
             ],
             [
              0.3333333333333333,
              "#9c179e"
             ],
             [
              0.4444444444444444,
              "#bd3786"
             ],
             [
              0.5555555555555556,
              "#d8576b"
             ],
             [
              0.6666666666666666,
              "#ed7953"
             ],
             [
              0.7777777777777778,
              "#fb9f3a"
             ],
             [
              0.8888888888888888,
              "#fdca26"
             ],
             [
              1,
              "#f0f921"
             ]
            ],
            "type": "contour"
           }
          ],
          "contourcarpet": [
           {
            "colorbar": {
             "outlinewidth": 0,
             "ticks": ""
            },
            "type": "contourcarpet"
           }
          ],
          "heatmap": [
           {
            "colorbar": {
             "outlinewidth": 0,
             "ticks": ""
            },
            "colorscale": [
             [
              0,
              "#0d0887"
             ],
             [
              0.1111111111111111,
              "#46039f"
             ],
             [
              0.2222222222222222,
              "#7201a8"
             ],
             [
              0.3333333333333333,
              "#9c179e"
             ],
             [
              0.4444444444444444,
              "#bd3786"
             ],
             [
              0.5555555555555556,
              "#d8576b"
             ],
             [
              0.6666666666666666,
              "#ed7953"
             ],
             [
              0.7777777777777778,
              "#fb9f3a"
             ],
             [
              0.8888888888888888,
              "#fdca26"
             ],
             [
              1,
              "#f0f921"
             ]
            ],
            "type": "heatmap"
           }
          ],
          "histogram": [
           {
            "marker": {
             "pattern": {
              "fillmode": "overlay",
              "size": 10,
              "solidity": 0.2
             }
            },
            "type": "histogram"
           }
          ],
          "histogram2d": [
           {
            "colorbar": {
             "outlinewidth": 0,
             "ticks": ""
            },
            "colorscale": [
             [
              0,
              "#0d0887"
             ],
             [
              0.1111111111111111,
              "#46039f"
             ],
             [
              0.2222222222222222,
              "#7201a8"
             ],
             [
              0.3333333333333333,
              "#9c179e"
             ],
             [
              0.4444444444444444,
              "#bd3786"
             ],
             [
              0.5555555555555556,
              "#d8576b"
             ],
             [
              0.6666666666666666,
              "#ed7953"
             ],
             [
              0.7777777777777778,
              "#fb9f3a"
             ],
             [
              0.8888888888888888,
              "#fdca26"
             ],
             [
              1,
              "#f0f921"
             ]
            ],
            "type": "histogram2d"
           }
          ],
          "histogram2dcontour": [
           {
            "colorbar": {
             "outlinewidth": 0,
             "ticks": ""
            },
            "colorscale": [
             [
              0,
              "#0d0887"
             ],
             [
              0.1111111111111111,
              "#46039f"
             ],
             [
              0.2222222222222222,
              "#7201a8"
             ],
             [
              0.3333333333333333,
              "#9c179e"
             ],
             [
              0.4444444444444444,
              "#bd3786"
             ],
             [
              0.5555555555555556,
              "#d8576b"
             ],
             [
              0.6666666666666666,
              "#ed7953"
             ],
             [
              0.7777777777777778,
              "#fb9f3a"
             ],
             [
              0.8888888888888888,
              "#fdca26"
             ],
             [
              1,
              "#f0f921"
             ]
            ],
            "type": "histogram2dcontour"
           }
          ],
          "mesh3d": [
           {
            "colorbar": {
             "outlinewidth": 0,
             "ticks": ""
            },
            "type": "mesh3d"
           }
          ],
          "parcoords": [
           {
            "line": {
             "colorbar": {
              "outlinewidth": 0,
              "ticks": ""
             }
            },
            "type": "parcoords"
           }
          ],
          "pie": [
           {
            "automargin": true,
            "type": "pie"
           }
          ],
          "scatter": [
           {
            "fillpattern": {
             "fillmode": "overlay",
             "size": 10,
             "solidity": 0.2
            },
            "type": "scatter"
           }
          ],
          "scatter3d": [
           {
            "line": {
             "colorbar": {
              "outlinewidth": 0,
              "ticks": ""
             }
            },
            "marker": {
             "colorbar": {
              "outlinewidth": 0,
              "ticks": ""
             }
            },
            "type": "scatter3d"
           }
          ],
          "scattercarpet": [
           {
            "marker": {
             "colorbar": {
              "outlinewidth": 0,
              "ticks": ""
             }
            },
            "type": "scattercarpet"
           }
          ],
          "scattergeo": [
           {
            "marker": {
             "colorbar": {
              "outlinewidth": 0,
              "ticks": ""
             }
            },
            "type": "scattergeo"
           }
          ],
          "scattergl": [
           {
            "marker": {
             "colorbar": {
              "outlinewidth": 0,
              "ticks": ""
             }
            },
            "type": "scattergl"
           }
          ],
          "scattermap": [
           {
            "marker": {
             "colorbar": {
              "outlinewidth": 0,
              "ticks": ""
             }
            },
            "type": "scattermap"
           }
          ],
          "scattermapbox": [
           {
            "marker": {
             "colorbar": {
              "outlinewidth": 0,
              "ticks": ""
             }
            },
            "type": "scattermapbox"
           }
          ],
          "scatterpolar": [
           {
            "marker": {
             "colorbar": {
              "outlinewidth": 0,
              "ticks": ""
             }
            },
            "type": "scatterpolar"
           }
          ],
          "scatterpolargl": [
           {
            "marker": {
             "colorbar": {
              "outlinewidth": 0,
              "ticks": ""
             }
            },
            "type": "scatterpolargl"
           }
          ],
          "scatterternary": [
           {
            "marker": {
             "colorbar": {
              "outlinewidth": 0,
              "ticks": ""
             }
            },
            "type": "scatterternary"
           }
          ],
          "surface": [
           {
            "colorbar": {
             "outlinewidth": 0,
             "ticks": ""
            },
            "colorscale": [
             [
              0,
              "#0d0887"
             ],
             [
              0.1111111111111111,
              "#46039f"
             ],
             [
              0.2222222222222222,
              "#7201a8"
             ],
             [
              0.3333333333333333,
              "#9c179e"
             ],
             [
              0.4444444444444444,
              "#bd3786"
             ],
             [
              0.5555555555555556,
              "#d8576b"
             ],
             [
              0.6666666666666666,
              "#ed7953"
             ],
             [
              0.7777777777777778,
              "#fb9f3a"
             ],
             [
              0.8888888888888888,
              "#fdca26"
             ],
             [
              1,
              "#f0f921"
             ]
            ],
            "type": "surface"
           }
          ],
          "table": [
           {
            "cells": {
             "fill": {
              "color": "#EBF0F8"
             },
             "line": {
              "color": "white"
             }
            },
            "header": {
             "fill": {
              "color": "#C8D4E3"
             },
             "line": {
              "color": "white"
             }
            },
            "type": "table"
           }
          ]
         },
         "layout": {
          "annotationdefaults": {
           "arrowcolor": "#2a3f5f",
           "arrowhead": 0,
           "arrowwidth": 1
          },
          "autotypenumbers": "strict",
          "coloraxis": {
           "colorbar": {
            "outlinewidth": 0,
            "ticks": ""
           }
          },
          "colorscale": {
           "diverging": [
            [
             0,
             "#8e0152"
            ],
            [
             0.1,
             "#c51b7d"
            ],
            [
             0.2,
             "#de77ae"
            ],
            [
             0.3,
             "#f1b6da"
            ],
            [
             0.4,
             "#fde0ef"
            ],
            [
             0.5,
             "#f7f7f7"
            ],
            [
             0.6,
             "#e6f5d0"
            ],
            [
             0.7,
             "#b8e186"
            ],
            [
             0.8,
             "#7fbc41"
            ],
            [
             0.9,
             "#4d9221"
            ],
            [
             1,
             "#276419"
            ]
           ],
           "sequential": [
            [
             0,
             "#0d0887"
            ],
            [
             0.1111111111111111,
             "#46039f"
            ],
            [
             0.2222222222222222,
             "#7201a8"
            ],
            [
             0.3333333333333333,
             "#9c179e"
            ],
            [
             0.4444444444444444,
             "#bd3786"
            ],
            [
             0.5555555555555556,
             "#d8576b"
            ],
            [
             0.6666666666666666,
             "#ed7953"
            ],
            [
             0.7777777777777778,
             "#fb9f3a"
            ],
            [
             0.8888888888888888,
             "#fdca26"
            ],
            [
             1,
             "#f0f921"
            ]
           ],
           "sequentialminus": [
            [
             0,
             "#0d0887"
            ],
            [
             0.1111111111111111,
             "#46039f"
            ],
            [
             0.2222222222222222,
             "#7201a8"
            ],
            [
             0.3333333333333333,
             "#9c179e"
            ],
            [
             0.4444444444444444,
             "#bd3786"
            ],
            [
             0.5555555555555556,
             "#d8576b"
            ],
            [
             0.6666666666666666,
             "#ed7953"
            ],
            [
             0.7777777777777778,
             "#fb9f3a"
            ],
            [
             0.8888888888888888,
             "#fdca26"
            ],
            [
             1,
             "#f0f921"
            ]
           ]
          },
          "colorway": [
           "#636efa",
           "#EF553B",
           "#00cc96",
           "#ab63fa",
           "#FFA15A",
           "#19d3f3",
           "#FF6692",
           "#B6E880",
           "#FF97FF",
           "#FECB52"
          ],
          "font": {
           "color": "#2a3f5f"
          },
          "geo": {
           "bgcolor": "white",
           "lakecolor": "white",
           "landcolor": "#E5ECF6",
           "showlakes": true,
           "showland": true,
           "subunitcolor": "white"
          },
          "hoverlabel": {
           "align": "left"
          },
          "hovermode": "closest",
          "mapbox": {
           "style": "light"
          },
          "paper_bgcolor": "white",
          "plot_bgcolor": "#E5ECF6",
          "polar": {
           "angularaxis": {
            "gridcolor": "white",
            "linecolor": "white",
            "ticks": ""
           },
           "bgcolor": "#E5ECF6",
           "radialaxis": {
            "gridcolor": "white",
            "linecolor": "white",
            "ticks": ""
           }
          },
          "scene": {
           "xaxis": {
            "backgroundcolor": "#E5ECF6",
            "gridcolor": "white",
            "gridwidth": 2,
            "linecolor": "white",
            "showbackground": true,
            "ticks": "",
            "zerolinecolor": "white"
           },
           "yaxis": {
            "backgroundcolor": "#E5ECF6",
            "gridcolor": "white",
            "gridwidth": 2,
            "linecolor": "white",
            "showbackground": true,
            "ticks": "",
            "zerolinecolor": "white"
           },
           "zaxis": {
            "backgroundcolor": "#E5ECF6",
            "gridcolor": "white",
            "gridwidth": 2,
            "linecolor": "white",
            "showbackground": true,
            "ticks": "",
            "zerolinecolor": "white"
           }
          },
          "shapedefaults": {
           "line": {
            "color": "#2a3f5f"
           }
          },
          "ternary": {
           "aaxis": {
            "gridcolor": "white",
            "linecolor": "white",
            "ticks": ""
           },
           "baxis": {
            "gridcolor": "white",
            "linecolor": "white",
            "ticks": ""
           },
           "bgcolor": "#E5ECF6",
           "caxis": {
            "gridcolor": "white",
            "linecolor": "white",
            "ticks": ""
           }
          },
          "title": {
           "x": 0.05
          },
          "xaxis": {
           "automargin": true,
           "gridcolor": "white",
           "linecolor": "white",
           "ticks": "",
           "title": {
            "standoff": 15
           },
           "zerolinecolor": "white",
           "zerolinewidth": 2
          },
          "yaxis": {
           "automargin": true,
           "gridcolor": "white",
           "linecolor": "white",
           "ticks": "",
           "title": {
            "standoff": 15
           },
           "zerolinecolor": "white",
           "zerolinewidth": 2
          }
         }
        },
        "title": {
         "text": "Llama-3-8B: cophenetic corr across normalized layers (↑)"
        },
        "xaxis": {
         "range": [
          -0.01,
          1.01
         ],
         "title": {
          "text": "Normalized layer (0 → 1)"
         }
        },
        "yaxis": {
         "title": {
          "text": "cophenetic corr"
         }
        }
       }
      }
     },
     "metadata": {},
     "output_type": "display_data"
    }
   ],
   "source": [
    "\n",
    "# ===== パス設定 =====\n",
    "BASE_PATH = Path(\"/home/masaki/hierarchical-repr/EntityTree/output/eval_tree_popMiddle\")\n",
    "\n",
    "# ===== データ準備 =====\n",
    "df = load_llama3_8b_templates(BASE_PATH, TEMPLATE_LIST)\n",
    "if df.empty:\n",
    "    raise RuntimeError(\"Llama-3-8B の評価ファイルが見つかりません。パスとテンプレートの存在を確認してください。\")\n",
    "\n",
    "# 数値化\n",
    "for c in [\"layer\", \"jrf_k1\", \"jrf_k2\", \"gtd\", \"gqd\", \"cophenetic_corr\"]:\n",
    "    if c in df.columns:\n",
    "        df[c] = pd.to_numeric(df[c], errors=\"coerce\")\n",
    "\n",
    "# 正規化レイヤ（同一モデルなので全体最大でOK）\n",
    "max_layer = df[\"layer\"].max()\n",
    "df[\"normalized_layer\"] = df[\"layer\"] / max_layer if pd.notna(max_layer) and max_layer > 0 else 0.0\n",
    "\n",
    "# ===== 図ユーティリティ =====\n",
    "METRIC_INFO = {\n",
    "    \"jrf_k1\": (\"JRF(k=1)\", \"↓\"),\n",
    "    \"gtd\": (\"Generalized Triplet Distance\", \"↓\"),\n",
    "    \"gqd\": (\"Generalized Quartet Distance\", \"↓\"),\n",
    "    \"cophenetic_corr\": (\"cophenetic corr\", \"↑\"),\n",
    "}\n",
    "MODEL_TITLE = \"Llama-3-8B\"\n",
    "\n",
    "# ===== 指標ごとに 1 図ずつ表示 =====\n",
    "fig_jrfk1 = plot_metric_by_templates(df, \"jrf_k1\")\n",
    "fig_gtd   = plot_metric_by_templates(df, \"gtd\")\n",
    "fig_gqd   = plot_metric_by_templates(df, \"gqd\")\n",
    "fig_coph  = plot_metric_by_templates(df, \"cophenetic_corr\")\n",
    "\n",
    "for f in [fig_jrfk1, fig_gtd, fig_gqd, fig_coph]:\n",
    "    if f is not None:\n",
    "        f.show()\n"
   ]
  }
 ],
 "metadata": {
  "kernelspec": {
   "display_name": "hierarchical-repr",
   "language": "python",
   "name": "python3"
  },
  "language_info": {
   "codemirror_mode": {
    "name": "ipython",
    "version": 3
   },
   "file_extension": ".py",
   "mimetype": "text/x-python",
   "name": "python",
   "nbconvert_exporter": "python",
   "pygments_lexer": "ipython3",
   "version": "3.10.12"
  }
 },
 "nbformat": 4,
 "nbformat_minor": 5
}
